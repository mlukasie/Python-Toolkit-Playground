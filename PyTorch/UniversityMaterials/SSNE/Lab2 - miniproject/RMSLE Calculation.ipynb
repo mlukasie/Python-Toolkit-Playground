{
 "cells": [
  {
   "cell_type": "code",
   "metadata": {
    "ExecuteTime": {
     "end_time": "2025-03-12T15:26:11.487479Z",
     "start_time": "2025-03-12T15:26:11.203368Z"
    }
   },
   "source": [
    "import pandas as pd\n",
    "import numpy as np"
   ],
   "outputs": [
    {
     "ename": "AttributeError",
     "evalue": "partially initialized module 'pandas' has no attribute '_pandas_parser_CAPI' (most likely due to a circular import)",
     "output_type": "error",
     "traceback": [
      "\u001B[31m---------------------------------------------------------------------------\u001B[39m",
      "\u001B[31mAttributeError\u001B[39m                            Traceback (most recent call last)",
      "\u001B[36mCell\u001B[39m\u001B[36m \u001B[39m\u001B[32mIn[6]\u001B[39m\u001B[32m, line 1\u001B[39m\n\u001B[32m----> \u001B[39m\u001B[32m1\u001B[39m \u001B[38;5;28;01mimport\u001B[39;00m\u001B[38;5;250m \u001B[39m\u001B[34;01mpandas\u001B[39;00m\u001B[38;5;250m \u001B[39m\u001B[38;5;28;01mas\u001B[39;00m\u001B[38;5;250m \u001B[39m\u001B[34;01mpd\u001B[39;00m\n\u001B[32m      2\u001B[39m \u001B[38;5;28;01mimport\u001B[39;00m\u001B[38;5;250m \u001B[39m\u001B[34;01mnumpy\u001B[39;00m\u001B[38;5;250m \u001B[39m\u001B[38;5;28;01mas\u001B[39;00m\u001B[38;5;250m \u001B[39m\u001B[34;01mnp\u001B[39;00m\n",
      "\u001B[36mFile \u001B[39m\u001B[32m~\\Documents\\GitHub\\Python-Toolkit-Playground\\.venv\\Lib\\site-packages\\pandas\\__init__.py:151\u001B[39m\n\u001B[32m    132\u001B[39m \u001B[38;5;28;01mfrom\u001B[39;00m\u001B[38;5;250m \u001B[39m\u001B[34;01mpandas\u001B[39;00m\u001B[34;01m.\u001B[39;00m\u001B[34;01mcore\u001B[39;00m\u001B[34;01m.\u001B[39;00m\u001B[34;01mcomputation\u001B[39;00m\u001B[34;01m.\u001B[39;00m\u001B[34;01mapi\u001B[39;00m\u001B[38;5;250m \u001B[39m\u001B[38;5;28;01mimport\u001B[39;00m \u001B[38;5;28meval\u001B[39m\n\u001B[32m    134\u001B[39m \u001B[38;5;28;01mfrom\u001B[39;00m\u001B[38;5;250m \u001B[39m\u001B[34;01mpandas\u001B[39;00m\u001B[34;01m.\u001B[39;00m\u001B[34;01mcore\u001B[39;00m\u001B[34;01m.\u001B[39;00m\u001B[34;01mreshape\u001B[39;00m\u001B[34;01m.\u001B[39;00m\u001B[34;01mapi\u001B[39;00m\u001B[38;5;250m \u001B[39m\u001B[38;5;28;01mimport\u001B[39;00m (\n\u001B[32m    135\u001B[39m     concat,\n\u001B[32m    136\u001B[39m     lreshape,\n\u001B[32m   (...)\u001B[39m\u001B[32m    148\u001B[39m     qcut,\n\u001B[32m    149\u001B[39m )\n\u001B[32m--> \u001B[39m\u001B[32m151\u001B[39m \u001B[38;5;28;01mfrom\u001B[39;00m\u001B[38;5;250m \u001B[39m\u001B[34;01mpandas\u001B[39;00m\u001B[38;5;250m \u001B[39m\u001B[38;5;28;01mimport\u001B[39;00m api, arrays, errors, io, plotting, tseries\n\u001B[32m    152\u001B[39m \u001B[38;5;28;01mfrom\u001B[39;00m\u001B[38;5;250m \u001B[39m\u001B[34;01mpandas\u001B[39;00m\u001B[38;5;250m \u001B[39m\u001B[38;5;28;01mimport\u001B[39;00m testing\n\u001B[32m    153\u001B[39m \u001B[38;5;28;01mfrom\u001B[39;00m\u001B[38;5;250m \u001B[39m\u001B[34;01mpandas\u001B[39;00m\u001B[34;01m.\u001B[39;00m\u001B[34;01mutil\u001B[39;00m\u001B[34;01m.\u001B[39;00m\u001B[34;01m_print_versions\u001B[39;00m\u001B[38;5;250m \u001B[39m\u001B[38;5;28;01mimport\u001B[39;00m show_versions\n",
      "\u001B[36mFile \u001B[39m\u001B[32m~\\Documents\\GitHub\\Python-Toolkit-Playground\\.venv\\Lib\\site-packages\\pandas\\api\\__init__.py:2\u001B[39m\n\u001B[32m      1\u001B[39m \u001B[33;03m\"\"\" public toolkit API \"\"\"\u001B[39;00m\n\u001B[32m----> \u001B[39m\u001B[32m2\u001B[39m \u001B[38;5;28;01mfrom\u001B[39;00m\u001B[38;5;250m \u001B[39m\u001B[34;01mpandas\u001B[39;00m\u001B[34;01m.\u001B[39;00m\u001B[34;01mapi\u001B[39;00m\u001B[38;5;250m \u001B[39m\u001B[38;5;28;01mimport\u001B[39;00m (\n\u001B[32m      3\u001B[39m     extensions,\n\u001B[32m      4\u001B[39m     indexers,\n\u001B[32m      5\u001B[39m     interchange,\n\u001B[32m      6\u001B[39m     types,\n\u001B[32m      7\u001B[39m     typing,\n\u001B[32m      8\u001B[39m )\n\u001B[32m     10\u001B[39m __all__ = [\n\u001B[32m     11\u001B[39m     \u001B[33m\"\u001B[39m\u001B[33minterchange\u001B[39m\u001B[33m\"\u001B[39m,\n\u001B[32m     12\u001B[39m     \u001B[33m\"\u001B[39m\u001B[33mextensions\u001B[39m\u001B[33m\"\u001B[39m,\n\u001B[32m   (...)\u001B[39m\u001B[32m     15\u001B[39m     \u001B[33m\"\u001B[39m\u001B[33mtyping\u001B[39m\u001B[33m\"\u001B[39m,\n\u001B[32m     16\u001B[39m ]\n",
      "\u001B[36mFile \u001B[39m\u001B[32m~\\Documents\\GitHub\\Python-Toolkit-Playground\\.venv\\Lib\\site-packages\\pandas\\api\\typing\\__init__.py:31\u001B[39m\n\u001B[32m     19\u001B[39m \u001B[38;5;28;01mfrom\u001B[39;00m\u001B[38;5;250m \u001B[39m\u001B[34;01mpandas\u001B[39;00m\u001B[34;01m.\u001B[39;00m\u001B[34;01mcore\u001B[39;00m\u001B[34;01m.\u001B[39;00m\u001B[34;01mwindow\u001B[39;00m\u001B[38;5;250m \u001B[39m\u001B[38;5;28;01mimport\u001B[39;00m (\n\u001B[32m     20\u001B[39m     Expanding,\n\u001B[32m     21\u001B[39m     ExpandingGroupby,\n\u001B[32m   (...)\u001B[39m\u001B[32m     26\u001B[39m     Window,\n\u001B[32m     27\u001B[39m )\n\u001B[32m     29\u001B[39m \u001B[38;5;66;03m# TODO: Can't import Styler without importing jinja2\u001B[39;00m\n\u001B[32m     30\u001B[39m \u001B[38;5;66;03m# from pandas.io.formats.style import Styler\u001B[39;00m\n\u001B[32m---> \u001B[39m\u001B[32m31\u001B[39m \u001B[38;5;28;01mfrom\u001B[39;00m\u001B[38;5;250m \u001B[39m\u001B[34;01mpandas\u001B[39;00m\u001B[34;01m.\u001B[39;00m\u001B[34;01mio\u001B[39;00m\u001B[34;01m.\u001B[39;00m\u001B[34;01mjson\u001B[39;00m\u001B[34;01m.\u001B[39;00m\u001B[34;01m_json\u001B[39;00m\u001B[38;5;250m \u001B[39m\u001B[38;5;28;01mimport\u001B[39;00m JsonReader\n\u001B[32m     32\u001B[39m \u001B[38;5;28;01mfrom\u001B[39;00m\u001B[38;5;250m \u001B[39m\u001B[34;01mpandas\u001B[39;00m\u001B[34;01m.\u001B[39;00m\u001B[34;01mio\u001B[39;00m\u001B[34;01m.\u001B[39;00m\u001B[34;01mstata\u001B[39;00m\u001B[38;5;250m \u001B[39m\u001B[38;5;28;01mimport\u001B[39;00m StataReader\n\u001B[32m     34\u001B[39m __all__ = [\n\u001B[32m     35\u001B[39m     \u001B[33m\"\u001B[39m\u001B[33mDataFrameGroupBy\u001B[39m\u001B[33m\"\u001B[39m,\n\u001B[32m     36\u001B[39m     \u001B[33m\"\u001B[39m\u001B[33mDatetimeIndexResamplerGroupby\u001B[39m\u001B[33m\"\u001B[39m,\n\u001B[32m   (...)\u001B[39m\u001B[32m     54\u001B[39m     \u001B[33m\"\u001B[39m\u001B[33mWindow\u001B[39m\u001B[33m\"\u001B[39m,\n\u001B[32m     55\u001B[39m ]\n",
      "\u001B[36mFile \u001B[39m\u001B[32m~\\Documents\\GitHub\\Python-Toolkit-Playground\\.venv\\Lib\\site-packages\\pandas\\io\\json\\__init__.py:1\u001B[39m\n\u001B[32m----> \u001B[39m\u001B[32m1\u001B[39m \u001B[38;5;28;01mfrom\u001B[39;00m\u001B[38;5;250m \u001B[39m\u001B[34;01mpandas\u001B[39;00m\u001B[34;01m.\u001B[39;00m\u001B[34;01mio\u001B[39;00m\u001B[34;01m.\u001B[39;00m\u001B[34;01mjson\u001B[39;00m\u001B[34;01m.\u001B[39;00m\u001B[34;01m_json\u001B[39;00m\u001B[38;5;250m \u001B[39m\u001B[38;5;28;01mimport\u001B[39;00m (\n\u001B[32m      2\u001B[39m     read_json,\n\u001B[32m      3\u001B[39m     to_json,\n\u001B[32m      4\u001B[39m     ujson_dumps,\n\u001B[32m      5\u001B[39m     ujson_loads,\n\u001B[32m      6\u001B[39m )\n\u001B[32m      7\u001B[39m \u001B[38;5;28;01mfrom\u001B[39;00m\u001B[38;5;250m \u001B[39m\u001B[34;01mpandas\u001B[39;00m\u001B[34;01m.\u001B[39;00m\u001B[34;01mio\u001B[39;00m\u001B[34;01m.\u001B[39;00m\u001B[34;01mjson\u001B[39;00m\u001B[34;01m.\u001B[39;00m\u001B[34;01m_table_schema\u001B[39;00m\u001B[38;5;250m \u001B[39m\u001B[38;5;28;01mimport\u001B[39;00m build_table_schema\n\u001B[32m      9\u001B[39m __all__ = [\n\u001B[32m     10\u001B[39m     \u001B[33m\"\u001B[39m\u001B[33mujson_dumps\u001B[39m\u001B[33m\"\u001B[39m,\n\u001B[32m     11\u001B[39m     \u001B[33m\"\u001B[39m\u001B[33mujson_loads\u001B[39m\u001B[33m\"\u001B[39m,\n\u001B[32m   (...)\u001B[39m\u001B[32m     14\u001B[39m     \u001B[33m\"\u001B[39m\u001B[33mbuild_table_schema\u001B[39m\u001B[33m\"\u001B[39m,\n\u001B[32m     15\u001B[39m ]\n",
      "\u001B[36mFile \u001B[39m\u001B[32m~\\Documents\\GitHub\\Python-Toolkit-Playground\\.venv\\Lib\\site-packages\\pandas\\io\\json\\_json.py:71\u001B[39m\n\u001B[32m     66\u001B[39m \u001B[38;5;28;01mfrom\u001B[39;00m\u001B[38;5;250m \u001B[39m\u001B[34;01mpandas\u001B[39;00m\u001B[34;01m.\u001B[39;00m\u001B[34;01mio\u001B[39;00m\u001B[34;01m.\u001B[39;00m\u001B[34;01mjson\u001B[39;00m\u001B[34;01m.\u001B[39;00m\u001B[34;01m_normalize\u001B[39;00m\u001B[38;5;250m \u001B[39m\u001B[38;5;28;01mimport\u001B[39;00m convert_to_line_delimits\n\u001B[32m     67\u001B[39m \u001B[38;5;28;01mfrom\u001B[39;00m\u001B[38;5;250m \u001B[39m\u001B[34;01mpandas\u001B[39;00m\u001B[34;01m.\u001B[39;00m\u001B[34;01mio\u001B[39;00m\u001B[34;01m.\u001B[39;00m\u001B[34;01mjson\u001B[39;00m\u001B[34;01m.\u001B[39;00m\u001B[34;01m_table_schema\u001B[39;00m\u001B[38;5;250m \u001B[39m\u001B[38;5;28;01mimport\u001B[39;00m (\n\u001B[32m     68\u001B[39m     build_table_schema,\n\u001B[32m     69\u001B[39m     parse_table_schema,\n\u001B[32m     70\u001B[39m )\n\u001B[32m---> \u001B[39m\u001B[32m71\u001B[39m \u001B[38;5;28;01mfrom\u001B[39;00m\u001B[38;5;250m \u001B[39m\u001B[34;01mpandas\u001B[39;00m\u001B[34;01m.\u001B[39;00m\u001B[34;01mio\u001B[39;00m\u001B[34;01m.\u001B[39;00m\u001B[34;01mparsers\u001B[39;00m\u001B[34;01m.\u001B[39;00m\u001B[34;01mreaders\u001B[39;00m\u001B[38;5;250m \u001B[39m\u001B[38;5;28;01mimport\u001B[39;00m validate_integer\n\u001B[32m     73\u001B[39m \u001B[38;5;28;01mif\u001B[39;00m TYPE_CHECKING:\n\u001B[32m     74\u001B[39m     \u001B[38;5;28;01mfrom\u001B[39;00m\u001B[38;5;250m \u001B[39m\u001B[34;01mcollections\u001B[39;00m\u001B[34;01m.\u001B[39;00m\u001B[34;01mabc\u001B[39;00m\u001B[38;5;250m \u001B[39m\u001B[38;5;28;01mimport\u001B[39;00m (\n\u001B[32m     75\u001B[39m         Hashable,\n\u001B[32m     76\u001B[39m         Mapping,\n\u001B[32m     77\u001B[39m     )\n",
      "\u001B[36mFile \u001B[39m\u001B[32m~\\Documents\\GitHub\\Python-Toolkit-Playground\\.venv\\Lib\\site-packages\\pandas\\io\\parsers\\__init__.py:1\u001B[39m\n\u001B[32m----> \u001B[39m\u001B[32m1\u001B[39m \u001B[38;5;28;01mfrom\u001B[39;00m\u001B[38;5;250m \u001B[39m\u001B[34;01mpandas\u001B[39;00m\u001B[34;01m.\u001B[39;00m\u001B[34;01mio\u001B[39;00m\u001B[34;01m.\u001B[39;00m\u001B[34;01mparsers\u001B[39;00m\u001B[34;01m.\u001B[39;00m\u001B[34;01mreaders\u001B[39;00m\u001B[38;5;250m \u001B[39m\u001B[38;5;28;01mimport\u001B[39;00m (\n\u001B[32m      2\u001B[39m     TextFileReader,\n\u001B[32m      3\u001B[39m     TextParser,\n\u001B[32m      4\u001B[39m     read_csv,\n\u001B[32m      5\u001B[39m     read_fwf,\n\u001B[32m      6\u001B[39m     read_table,\n\u001B[32m      7\u001B[39m )\n\u001B[32m      9\u001B[39m __all__ = [\u001B[33m\"\u001B[39m\u001B[33mTextFileReader\u001B[39m\u001B[33m\"\u001B[39m, \u001B[33m\"\u001B[39m\u001B[33mTextParser\u001B[39m\u001B[33m\"\u001B[39m, \u001B[33m\"\u001B[39m\u001B[33mread_csv\u001B[39m\u001B[33m\"\u001B[39m, \u001B[33m\"\u001B[39m\u001B[33mread_fwf\u001B[39m\u001B[33m\"\u001B[39m, \u001B[33m\"\u001B[39m\u001B[33mread_table\u001B[39m\u001B[33m\"\u001B[39m]\n",
      "\u001B[36mFile \u001B[39m\u001B[32m~\\Documents\\GitHub\\Python-Toolkit-Playground\\.venv\\Lib\\site-packages\\pandas\\io\\parsers\\readers.py:32\u001B[39m\n\u001B[32m     29\u001B[39m \u001B[38;5;28;01mfrom\u001B[39;00m\u001B[38;5;250m \u001B[39m\u001B[34;01mpandas\u001B[39;00m\u001B[34;01m.\u001B[39;00m\u001B[34;01m_config\u001B[39;00m\u001B[38;5;250m \u001B[39m\u001B[38;5;28;01mimport\u001B[39;00m using_copy_on_write\n\u001B[32m     31\u001B[39m \u001B[38;5;28;01mfrom\u001B[39;00m\u001B[38;5;250m \u001B[39m\u001B[34;01mpandas\u001B[39;00m\u001B[34;01m.\u001B[39;00m\u001B[34;01m_libs\u001B[39;00m\u001B[38;5;250m \u001B[39m\u001B[38;5;28;01mimport\u001B[39;00m lib\n\u001B[32m---> \u001B[39m\u001B[32m32\u001B[39m \u001B[38;5;28;01mfrom\u001B[39;00m\u001B[38;5;250m \u001B[39m\u001B[34;01mpandas\u001B[39;00m\u001B[34;01m.\u001B[39;00m\u001B[34;01m_libs\u001B[39;00m\u001B[34;01m.\u001B[39;00m\u001B[34;01mparsers\u001B[39;00m\u001B[38;5;250m \u001B[39m\u001B[38;5;28;01mimport\u001B[39;00m STR_NA_VALUES\n\u001B[32m     33\u001B[39m \u001B[38;5;28;01mfrom\u001B[39;00m\u001B[38;5;250m \u001B[39m\u001B[34;01mpandas\u001B[39;00m\u001B[34;01m.\u001B[39;00m\u001B[34;01merrors\u001B[39;00m\u001B[38;5;250m \u001B[39m\u001B[38;5;28;01mimport\u001B[39;00m (\n\u001B[32m     34\u001B[39m     AbstractMethodError,\n\u001B[32m     35\u001B[39m     ParserWarning,\n\u001B[32m     36\u001B[39m )\n\u001B[32m     37\u001B[39m \u001B[38;5;28;01mfrom\u001B[39;00m\u001B[38;5;250m \u001B[39m\u001B[34;01mpandas\u001B[39;00m\u001B[34;01m.\u001B[39;00m\u001B[34;01mutil\u001B[39;00m\u001B[34;01m.\u001B[39;00m\u001B[34;01m_decorators\u001B[39;00m\u001B[38;5;250m \u001B[39m\u001B[38;5;28;01mimport\u001B[39;00m Appender\n",
      "\u001B[36mFile \u001B[39m\u001B[32mparsers.pyx:1418\u001B[39m, in \u001B[36minit pandas._libs.parsers\u001B[39m\u001B[34m()\u001B[39m\n",
      "\u001B[31mAttributeError\u001B[39m: partially initialized module 'pandas' has no attribute '_pandas_parser_CAPI' (most likely due to a circular import)"
     ]
    }
   ],
   "execution_count": 6
  },
  {
   "cell_type": "code",
   "metadata": {
    "ExecuteTime": {
     "end_time": "2025-03-12T15:24:30.850523Z",
     "start_time": "2025-03-12T15:24:30.846052Z"
    }
   },
   "source": [
    "def rmsle(y_true,y_pred):\n",
    "    n = len(y_true)\n",
    "    msle = np.mean([(np.log(max(y_pred[i],0) + 1) - np.log(y_true[i] + 1)) ** 2.0 for i in range(n)])\n",
    "    return np.sqrt(msle)"
   ],
   "outputs": [],
   "execution_count": 4
  },
  {
   "cell_type": "code",
   "metadata": {
    "ExecuteTime": {
     "end_time": "2025-03-12T15:24:32.409186Z",
     "start_time": "2025-03-12T15:24:32.384280Z"
    }
   },
   "source": [
    "targets = pd.read_csv(\"example.csv\",header=None)"
   ],
   "outputs": [
    {
     "ename": "NameError",
     "evalue": "name 'pd' is not defined",
     "output_type": "error",
     "traceback": [
      "\u001B[31m---------------------------------------------------------------------------\u001B[39m",
      "\u001B[31mNameError\u001B[39m                                 Traceback (most recent call last)",
      "\u001B[36mCell\u001B[39m\u001B[36m \u001B[39m\u001B[32mIn[5]\u001B[39m\u001B[32m, line 1\u001B[39m\n\u001B[32m----> \u001B[39m\u001B[32m1\u001B[39m targets = \u001B[43mpd\u001B[49m.read_csv(\u001B[33m\"\u001B[39m\u001B[33mexample.csv\u001B[39m\u001B[33m\"\u001B[39m,header=\u001B[38;5;28;01mNone\u001B[39;00m)\n",
      "\u001B[31mNameError\u001B[39m: name 'pd' is not defined"
     ]
    }
   ],
   "execution_count": 5
  },
  {
   "cell_type": "code",
   "execution_count": 22,
   "metadata": {
    "ExecuteTime": {
     "end_time": "2021-10-19T10:51:00.714657Z",
     "start_time": "2021-10-19T10:51:00.710556Z"
    }
   },
   "outputs": [],
   "source": [
    "preds = np.random.rand(len(targets))*100"
   ]
  },
  {
   "cell_type": "code",
   "execution_count": 23,
   "metadata": {
    "ExecuteTime": {
     "end_time": "2021-10-19T10:51:01.300949Z",
     "start_time": "2021-10-19T10:51:01.271987Z"
    }
   },
   "outputs": [],
   "source": [
    "pd.DataFrame(preds).to_csv(\"muchomorki.csv\", index=False, header=None)"
   ]
  },
  {
   "cell_type": "code",
   "execution_count": 24,
   "metadata": {
    "ExecuteTime": {
     "end_time": "2021-10-19T10:51:01.543541Z",
     "start_time": "2021-10-19T10:51:01.532289Z"
    }
   },
   "outputs": [],
   "source": [
    "preds = pd.read_csv(\"muchomorki.csv\",header=None)"
   ]
  },
  {
   "cell_type": "code",
   "execution_count": 25,
   "metadata": {
    "ExecuteTime": {
     "end_time": "2021-10-19T10:51:02.094776Z",
     "start_time": "2021-10-19T10:51:02.020065Z"
    }
   },
   "outputs": [
    {
     "data": {
      "text/plain": [
       "1.2824494488221159"
      ]
     },
     "execution_count": 25,
     "metadata": {},
     "output_type": "execute_result"
    }
   ],
   "source": [
    "rmsle(targets.values,preds.values)"
   ]
  }
 ],
 "metadata": {
  "kernelspec": {
   "display_name": "Python 3 (ipykernel)",
   "language": "python",
   "name": "python3"
  },
  "language_info": {
   "codemirror_mode": {
    "name": "ipython",
    "version": 3
   },
   "file_extension": ".py",
   "mimetype": "text/x-python",
   "name": "python",
   "nbconvert_exporter": "python",
   "pygments_lexer": "ipython3",
   "version": "3.10.4"
  },
  "varInspector": {
   "cols": {
    "lenName": 16,
    "lenType": 16,
    "lenVar": 40
   },
   "kernels_config": {
    "python": {
     "delete_cmd_postfix": "",
     "delete_cmd_prefix": "del ",
     "library": "var_list.py",
     "varRefreshCmd": "print(var_dic_list())"
    },
    "r": {
     "delete_cmd_postfix": ") ",
     "delete_cmd_prefix": "rm(",
     "library": "var_list.r",
     "varRefreshCmd": "cat(var_dic_list()) "
    }
   },
   "types_to_exclude": [
    "module",
    "function",
    "builtin_function_or_method",
    "instance",
    "_Feature"
   ],
   "window_display": false
  }
 },
 "nbformat": 4,
 "nbformat_minor": 4
}
