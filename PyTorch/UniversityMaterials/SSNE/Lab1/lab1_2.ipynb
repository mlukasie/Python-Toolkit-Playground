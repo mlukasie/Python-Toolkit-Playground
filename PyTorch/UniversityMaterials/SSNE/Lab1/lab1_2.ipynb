{
 "cells": [
  {
   "cell_type": "code",
   "metadata": {
    "ExecuteTime": {
     "end_time": "2025-03-12T13:24:51.208032Z",
     "start_time": "2025-03-12T13:24:51.204338Z"
    }
   },
   "source": [
    "import torch\n",
    "import numpy as np"
   ],
   "outputs": [],
   "execution_count": 12
  },
  {
   "cell_type": "markdown",
   "metadata": {},
   "source": [
    "Tensory w PyTorchu to specjalne struktury danych które przypominają tablice/macierze. Używamy ich do przechowywania wejśc/wyjść z sieci jak również wag modelu.\n",
    "Tensory przypominają swoją budową tablice numpy https://numpy.org/, z zasadniczą różnicą ktorą jest łatwa możliwość przechowywania i operowania na tensorach na kartach graficznych "
   ]
  },
  {
   "cell_type": "markdown",
   "metadata": {},
   "source": [
    "Tensory mogą być tworzone w różny sposób:\n",
    "1. Ze standardowych tablic"
   ]
  },
  {
   "cell_type": "code",
   "metadata": {
    "ExecuteTime": {
     "end_time": "2025-03-12T13:24:51.314268Z",
     "start_time": "2025-03-12T13:24:51.282091Z"
    }
   },
   "source": [
    "data = [[1, 2],[3, 4]]\n",
    "x_data = torch.tensor(data)\n",
    "x_data"
   ],
   "outputs": [
    {
     "data": {
      "text/plain": [
       "tensor([[1, 2],\n",
       "        [3, 4]])"
      ]
     },
     "execution_count": 13,
     "metadata": {},
     "output_type": "execute_result"
    }
   ],
   "execution_count": 13
  },
  {
   "cell_type": "markdown",
   "metadata": {
    "ExecuteTime": {
     "end_time": "2021-10-02T07:40:32.096100Z",
     "start_time": "2021-10-02T07:40:32.090797Z"
    }
   },
   "source": [
    "2. Na poodstawie tablic numpy"
   ]
  },
  {
   "cell_type": "code",
   "metadata": {
    "ExecuteTime": {
     "end_time": "2025-03-12T13:24:51.325961Z",
     "start_time": "2025-03-12T13:24:51.320717Z"
    }
   },
   "source": [
    "np_array = np.array(data)\n",
    "x_np = torch.from_numpy(np_array)\n",
    "x_np"
   ],
   "outputs": [
    {
     "data": {
      "text/plain": [
       "tensor([[1, 2],\n",
       "        [3, 4]])"
      ]
     },
     "execution_count": 14,
     "metadata": {},
     "output_type": "execute_result"
    }
   ],
   "execution_count": 14
  },
  {
   "cell_type": "markdown",
   "metadata": {},
   "source": [
    "3. Na podstawie innych tensorów"
   ]
  },
  {
   "cell_type": "code",
   "metadata": {
    "scrolled": true,
    "ExecuteTime": {
     "end_time": "2025-03-12T13:24:51.393427Z",
     "start_time": "2025-03-12T13:24:51.359487Z"
    }
   },
   "source": [
    "x_ones = torch.ones_like(x_data) # retains the properties of x_data\n",
    "print(f\"Ones Tensor: \\n {x_ones} \\n\")\n",
    "\n",
    "x_rand = torch.rand_like(x_data, dtype=torch.float) # overrides the datatype of x_data\n",
    "print(f\"Random Tensor: \\n {x_rand} \\n\")"
   ],
   "outputs": [
    {
     "name": "stdout",
     "output_type": "stream",
     "text": [
      "Ones Tensor: \n",
      " tensor([[1, 1],\n",
      "        [1, 1]]) \n",
      "\n",
      "Random Tensor: \n",
      " tensor([[0.9018, 0.6024],\n",
      "        [0.3338, 0.4811]]) \n",
      "\n"
     ]
    }
   ],
   "execution_count": 15
  },
  {
   "cell_type": "markdown",
   "metadata": {},
   "source": [
    "4. Z losowymi lub stałymi wartościami"
   ]
  },
  {
   "cell_type": "code",
   "metadata": {
    "ExecuteTime": {
     "end_time": "2025-03-12T13:24:51.506755Z",
     "start_time": "2025-03-12T13:24:51.496141Z"
    }
   },
   "source": [
    "shape = (2,3,)\n",
    "rand_tensor = torch.rand(shape)\n",
    "print(f\"Random Tensor: \\n {rand_tensor} \\n\")\n",
    "ones_tensor = torch.ones(shape)\n",
    "print(f\"Ones Tensor: \\n {ones_tensor} \\n\")\n",
    "zeros_tensor = torch.zeros(shape)\n",
    "print(f\"Zeros Tensor: \\n {zeros_tensor} \\n\")"
   ],
   "outputs": [
    {
     "name": "stdout",
     "output_type": "stream",
     "text": [
      "Random Tensor: \n",
      " tensor([[0.9891, 0.4228, 0.8491],\n",
      "        [0.8191, 0.1730, 0.9712]]) \n",
      "\n",
      "Ones Tensor: \n",
      " tensor([[1., 1., 1.],\n",
      "        [1., 1., 1.]]) \n",
      "\n",
      "Zeros Tensor: \n",
      " tensor([[0., 0., 0.],\n",
      "        [0., 0., 0.]]) \n",
      "\n"
     ]
    }
   ],
   "execution_count": 16
  },
  {
   "cell_type": "markdown",
   "metadata": {},
   "source": [
    "### Atrybuty tensorów"
   ]
  },
  {
   "cell_type": "code",
   "metadata": {
    "ExecuteTime": {
     "end_time": "2025-03-12T13:24:51.588140Z",
     "start_time": "2025-03-12T13:24:51.581519Z"
    }
   },
   "source": [
    "tensor = torch.rand(3,4)\n",
    "\n",
    "print(f\"Shape of tensor: {tensor.shape}\")\n",
    "print(f\"Datatype of tensor: {tensor.dtype}\")\n",
    "print(f\"Device tensor is stored on: {tensor.device}\")"
   ],
   "outputs": [
    {
     "name": "stdout",
     "output_type": "stream",
     "text": [
      "Shape of tensor: torch.Size([3, 4])\n",
      "Datatype of tensor: torch.float32\n",
      "Device tensor is stored on: cpu\n"
     ]
    }
   ],
   "execution_count": 17
  },
  {
   "cell_type": "markdown",
   "metadata": {},
   "source": [
    "### Operacje na tensorach"
   ]
  },
  {
   "cell_type": "markdown",
   "metadata": {},
   "source": [
    "Nie ma co się bać dokumentacji! (Jest bardzo przyjemnie napisana) Wszystkie operacje na tensorach są opisane tutaj: https://pytorch.org/docs/stable/torch.html\n",
    "Standardowo operacje są uruchamiane na CPU, ale można przenosić tensory, całe modele i **wszystkie operacje** na GPU (co zazwyczaj jest szybsze) za pomocą prostej komendy. Przetestujemy to w kolejnych częściach laboratorium"
   ]
  },
  {
   "cell_type": "markdown",
   "metadata": {},
   "source": [
    "#### Standardowe indeksowanie i slicing"
   ]
  },
  {
   "cell_type": "code",
   "metadata": {
    "ExecuteTime": {
     "end_time": "2025-03-12T13:24:51.665462Z",
     "start_time": "2025-03-12T13:24:51.640332Z"
    }
   },
   "source": [
    "tensor = torch.rand(4, 4)\n",
    "print('First row: ', tensor[0])\n",
    "print('First column: ', tensor[:, 0])\n",
    "print('Last column:', tensor[:, -1])\n",
    "tensor[:,1] = 0\n",
    "print(tensor)"
   ],
   "outputs": [
    {
     "name": "stdout",
     "output_type": "stream",
     "text": [
      "First row:  tensor([0.2328, 0.7064, 0.1228, 0.7154])\n",
      "First column:  tensor([0.2328, 0.9700, 0.8813, 0.1769])\n",
      "Last column: tensor([0.7154, 0.4296, 0.0139, 0.3158])\n",
      "tensor([[0.2328, 0.0000, 0.1228, 0.7154],\n",
      "        [0.9700, 0.0000, 0.4323, 0.4296],\n",
      "        [0.8813, 0.0000, 0.4237, 0.0139],\n",
      "        [0.1769, 0.0000, 0.3918, 0.3158]])\n"
     ]
    }
   ],
   "execution_count": 18
  },
  {
   "cell_type": "markdown",
   "metadata": {},
   "source": [
    "#### Transponowanie tensorów"
   ]
  },
  {
   "cell_type": "code",
   "metadata": {
    "ExecuteTime": {
     "end_time": "2025-03-12T13:24:51.756360Z",
     "start_time": "2025-03-12T13:24:51.731702Z"
    }
   },
   "source": [
    "tensor = torch.ones(4, 3)\n",
    "tensor[:,1] = 0\n",
    "tensor[:,2] = 2\n",
    "tensor[3,:] = 3\n",
    "print(tensor)\n",
    "print(f\"Tensor shape:{tensor.shape}\\n\")\n",
    "tensor2 = tensor.T\n",
    "print(tensor2)\n",
    "print(f\"Transposed tensor shape:{tensor2.shape}\")"
   ],
   "outputs": [
    {
     "name": "stdout",
     "output_type": "stream",
     "text": [
      "tensor([[1., 0., 2.],\n",
      "        [1., 0., 2.],\n",
      "        [1., 0., 2.],\n",
      "        [3., 3., 3.]])\n",
      "Tensor shape:torch.Size([4, 3])\n",
      "\n",
      "tensor([[1., 1., 1., 3.],\n",
      "        [0., 0., 0., 3.],\n",
      "        [2., 2., 2., 3.]])\n",
      "Transposed tensor shape:torch.Size([3, 4])\n"
     ]
    }
   ],
   "execution_count": 19
  },
  {
   "cell_type": "markdown",
   "metadata": {},
   "source": [
    "#### Zmiana wymiarów"
   ]
  },
  {
   "cell_type": "code",
   "metadata": {
    "ExecuteTime": {
     "end_time": "2025-03-12T13:24:51.821761Z",
     "start_time": "2025-03-12T13:24:51.810652Z"
    }
   },
   "source": [
    "tensor = torch.arange(10)\n",
    "print(tensor)\n",
    "print(f\"Tensor shape:{tensor.shape}\\n\")\n",
    "\n",
    "tensor2 = tensor.unsqueeze(dim=0)\n",
    "print(tensor2)\n",
    "print(f\"Tensor shape:{tensor2.shape}\\n\")\n",
    "\n",
    "tensor3 = tensor.unsqueeze(dim=1)\n",
    "print(tensor3)\n",
    "print(f\"Tensor shape:{tensor3.shape}\\n\")\n",
    "\n",
    "tensor4 = tensor.view(5,2)\n",
    "print(tensor4)\n",
    "print(f\"Tensor shape:{tensor4.shape}\\n\")"
   ],
   "outputs": [
    {
     "name": "stdout",
     "output_type": "stream",
     "text": [
      "tensor([0, 1, 2, 3, 4, 5, 6, 7, 8, 9])\n",
      "Tensor shape:torch.Size([10])\n",
      "\n",
      "tensor([[0, 1, 2, 3, 4, 5, 6, 7, 8, 9]])\n",
      "Tensor shape:torch.Size([1, 10])\n",
      "\n",
      "tensor([[0],\n",
      "        [1],\n",
      "        [2],\n",
      "        [3],\n",
      "        [4],\n",
      "        [5],\n",
      "        [6],\n",
      "        [7],\n",
      "        [8],\n",
      "        [9]])\n",
      "Tensor shape:torch.Size([10, 1])\n",
      "\n",
      "tensor([[0, 1],\n",
      "        [2, 3],\n",
      "        [4, 5],\n",
      "        [6, 7],\n",
      "        [8, 9]])\n",
      "Tensor shape:torch.Size([5, 2])\n",
      "\n"
     ]
    }
   ],
   "execution_count": 20
  },
  {
   "cell_type": "markdown",
   "metadata": {},
   "source": [
    "#### Łączenie tensorów"
   ]
  },
  {
   "cell_type": "code",
   "metadata": {
    "ExecuteTime": {
     "end_time": "2025-03-12T13:24:51.900500Z",
     "start_time": "2025-03-12T13:24:51.888698Z"
    }
   },
   "source": [
    "tensor = torch.ones(4, 3)\n",
    "tensor[:,1] = 0\n",
    "tensor[:,2] = 2\n",
    "tensor[3,:] = 3\n",
    "t1 = torch.cat([tensor, tensor, tensor], dim=1)\n",
    "print(t1)"
   ],
   "outputs": [
    {
     "name": "stdout",
     "output_type": "stream",
     "text": [
      "tensor([[1., 0., 2., 1., 0., 2., 1., 0., 2.],\n",
      "        [1., 0., 2., 1., 0., 2., 1., 0., 2.],\n",
      "        [1., 0., 2., 1., 0., 2., 1., 0., 2.],\n",
      "        [3., 3., 3., 3., 3., 3., 3., 3., 3.]])\n"
     ]
    }
   ],
   "execution_count": 21
  },
  {
   "cell_type": "code",
   "metadata": {
    "ExecuteTime": {
     "end_time": "2025-03-12T13:24:51.960315Z",
     "start_time": "2025-03-12T13:24:51.943102Z"
    }
   },
   "source": [
    "t1 = torch.cat([tensor, tensor, tensor], dim=0)\n",
    "print(t1)"
   ],
   "outputs": [
    {
     "name": "stdout",
     "output_type": "stream",
     "text": [
      "tensor([[1., 0., 2.],\n",
      "        [1., 0., 2.],\n",
      "        [1., 0., 2.],\n",
      "        [3., 3., 3.],\n",
      "        [1., 0., 2.],\n",
      "        [1., 0., 2.],\n",
      "        [1., 0., 2.],\n",
      "        [3., 3., 3.],\n",
      "        [1., 0., 2.],\n",
      "        [1., 0., 2.],\n",
      "        [1., 0., 2.],\n",
      "        [3., 3., 3.]])\n"
     ]
    }
   ],
   "execution_count": 22
  },
  {
   "cell_type": "code",
   "metadata": {
    "ExecuteTime": {
     "end_time": "2025-03-12T13:24:52.012110Z",
     "start_time": "2025-03-12T13:24:51.998481Z"
    }
   },
   "source": [
    "t1 = torch.stack([tensor, tensor, tensor])\n",
    "print(t1)"
   ],
   "outputs": [
    {
     "name": "stdout",
     "output_type": "stream",
     "text": [
      "tensor([[[1., 0., 2.],\n",
      "         [1., 0., 2.],\n",
      "         [1., 0., 2.],\n",
      "         [3., 3., 3.]],\n",
      "\n",
      "        [[1., 0., 2.],\n",
      "         [1., 0., 2.],\n",
      "         [1., 0., 2.],\n",
      "         [3., 3., 3.]],\n",
      "\n",
      "        [[1., 0., 2.],\n",
      "         [1., 0., 2.],\n",
      "         [1., 0., 2.],\n",
      "         [3., 3., 3.]]])\n"
     ]
    }
   ],
   "execution_count": 23
  },
  {
   "cell_type": "code",
   "metadata": {
    "ExecuteTime": {
     "end_time": "2025-03-12T13:24:52.052112Z",
     "start_time": "2025-03-12T13:24:52.039462Z"
    }
   },
   "source": [
    "tensor = torch.rand(5,4)\n",
    "t1 = torch.stack([tensor, tensor, tensor],dim=0)\n",
    "print(t1.shape)\n",
    "t1 = torch.stack([tensor, tensor, tensor],dim=1)\n",
    "print(t1.shape)\n",
    "t1 = torch.stack([tensor, tensor, tensor],dim=2)\n",
    "print(t1.shape)"
   ],
   "outputs": [
    {
     "name": "stdout",
     "output_type": "stream",
     "text": [
      "torch.Size([3, 5, 4])\n",
      "torch.Size([5, 3, 4])\n",
      "torch.Size([5, 4, 3])\n"
     ]
    }
   ],
   "execution_count": 24
  },
  {
   "cell_type": "code",
   "metadata": {
    "ExecuteTime": {
     "end_time": "2025-03-12T13:25:41.988823Z",
     "start_time": "2025-03-12T13:25:41.962230Z"
    }
   },
   "source": [
    "t1 = torch.stack([tensor, tensor, tensor],dim=3)\n",
    "print(t1.shape)"
   ],
   "outputs": [
    {
     "ename": "IndexError",
     "evalue": "Dimension out of range (expected to be in range of [-3, 2], but got 3)",
     "output_type": "error",
     "traceback": [
      "\u001B[31m---------------------------------------------------------------------------\u001B[39m",
      "\u001B[31mIndexError\u001B[39m                                Traceback (most recent call last)",
      "\u001B[36mCell\u001B[39m\u001B[36m \u001B[39m\u001B[32mIn[26]\u001B[39m\u001B[32m, line 1\u001B[39m\n\u001B[32m----> \u001B[39m\u001B[32m1\u001B[39m t1 = \u001B[43mtorch\u001B[49m\u001B[43m.\u001B[49m\u001B[43mstack\u001B[49m\u001B[43m(\u001B[49m\u001B[43m[\u001B[49m\u001B[43mtensor\u001B[49m\u001B[43m,\u001B[49m\u001B[43m \u001B[49m\u001B[43mtensor\u001B[49m\u001B[43m,\u001B[49m\u001B[43m \u001B[49m\u001B[43mtensor\u001B[49m\u001B[43m]\u001B[49m\u001B[43m,\u001B[49m\u001B[43mdim\u001B[49m\u001B[43m=\u001B[49m\u001B[32;43m3\u001B[39;49m\u001B[43m)\u001B[49m\n\u001B[32m      2\u001B[39m \u001B[38;5;28mprint\u001B[39m(t1.shape)\n",
      "\u001B[31mIndexError\u001B[39m: Dimension out of range (expected to be in range of [-3, 2], but got 3)"
     ]
    }
   ],
   "execution_count": 26
  },
  {
   "cell_type": "markdown",
   "metadata": {},
   "source": [
    "#### Operacje arytmetyczne"
   ]
  },
  {
   "cell_type": "code",
   "metadata": {
    "ExecuteTime": {
     "end_time": "2025-03-12T13:25:45.447572Z",
     "start_time": "2025-03-12T13:25:45.431342Z"
    }
   },
   "source": [
    "tensor = torch.ones(4, 4)\n",
    "tensor[:,1] = 0\n",
    "tensor[:,2] = 2\n",
    "tensor[3,:] = 3\n",
    "\n",
    "print(tensor)\n",
    "print(tensor+2)\n",
    "print(tensor*5)"
   ],
   "outputs": [
    {
     "name": "stdout",
     "output_type": "stream",
     "text": [
      "tensor([[1., 0., 2., 1.],\n",
      "        [1., 0., 2., 1.],\n",
      "        [1., 0., 2., 1.],\n",
      "        [3., 3., 3., 3.]])\n",
      "tensor([[3., 2., 4., 3.],\n",
      "        [3., 2., 4., 3.],\n",
      "        [3., 2., 4., 3.],\n",
      "        [5., 5., 5., 5.]])\n",
      "tensor([[ 5.,  0., 10.,  5.],\n",
      "        [ 5.,  0., 10.,  5.],\n",
      "        [ 5.,  0., 10.,  5.],\n",
      "        [15., 15., 15., 15.]])\n"
     ]
    }
   ],
   "execution_count": 27
  },
  {
   "cell_type": "markdown",
   "metadata": {},
   "source": [
    "#### Operacje na elementach"
   ]
  },
  {
   "cell_type": "code",
   "execution_count": null,
   "metadata": {
    "ExecuteTime": {
     "end_time": "2025-03-12T13:24:52.163492500Z",
     "start_time": "2021-10-02T11:07:10.383758Z"
    }
   },
   "outputs": [],
   "source": [
    "tensor * tensor"
   ]
  },
  {
   "cell_type": "code",
   "execution_count": null,
   "metadata": {
    "ExecuteTime": {
     "end_time": "2025-03-12T13:24:52.163492500Z",
     "start_time": "2021-10-02T11:07:11.458440Z"
    }
   },
   "outputs": [],
   "source": [
    "tensor + tensor"
   ]
  },
  {
   "cell_type": "code",
   "execution_count": null,
   "metadata": {
    "ExecuteTime": {
     "end_time": "2025-03-12T13:24:52.177841500Z",
     "start_time": "2021-10-02T11:09:15.595494Z"
    }
   },
   "outputs": [],
   "source": [
    "rand_tensor = torch.rand(4,4)*10\n",
    "print(rand_tensor)\n",
    "print(rand_tensor / tensor)"
   ]
  },
  {
   "cell_type": "code",
   "execution_count": null,
   "metadata": {
    "ExecuteTime": {
     "end_time": "2025-03-12T13:24:52.177841500Z",
     "start_time": "2021-10-02T11:09:23.299942Z"
    }
   },
   "outputs": [],
   "source": [
    "rand_tensor = torch.rand(4,4)*10\n",
    "print(rand_tensor // tensor)\n",
    "print((tensor / tensor).type())"
   ]
  },
  {
   "cell_type": "markdown",
   "metadata": {},
   "source": [
    "### Mini zadanie na plusa, mozna wysłać po zajęciach"
   ]
  },
  {
   "cell_type": "markdown",
   "metadata": {},
   "source": [
    "Stwórz macierz dwuwymiarową której wartości będą kolejnymi numerami od 1 do zadanej liczby x. Nie uzywaj pętli."
   ]
  },
  {
   "cell_type": "markdown",
   "metadata": {},
   "source": [
    "Hint: https://pytorch.org/docs/stable/torch.html"
   ]
  },
  {
   "cell_type": "markdown",
   "metadata": {},
   "source": [
    "### Operacje macierzowe"
   ]
  },
  {
   "cell_type": "code",
   "execution_count": null,
   "metadata": {
    "ExecuteTime": {
     "end_time": "2025-03-12T13:24:52.179589300Z",
     "start_time": "2021-10-02T11:22:39.839687Z"
    }
   },
   "outputs": [],
   "source": [
    "tensor = torch.ones(4, 3)\n",
    "tensor[1,:] = 0\n",
    "print(tensor)\n",
    "print(tensor.T)"
   ]
  },
  {
   "cell_type": "code",
   "execution_count": null,
   "metadata": {
    "ExecuteTime": {
     "end_time": "2025-03-12T13:24:52.179589300Z",
     "start_time": "2021-10-02T11:23:26.820257Z"
    }
   },
   "outputs": [],
   "source": [
    "y1 = tensor.matmul(tensor.T)\n",
    "print(y1,\"\\n\")\n",
    "y2 = tensor @ tensor.T\n",
    "print(y2)"
   ]
  },
  {
   "cell_type": "markdown",
   "metadata": {},
   "source": [
    "### Zaawansowany przykład - regresja"
   ]
  },
  {
   "cell_type": "markdown",
   "metadata": {},
   "source": [
    "Dla wszystkich którzy potrzebują powtórki z matmy: https://mml-book.github.io/"
   ]
  },
  {
   "cell_type": "code",
   "execution_count": null,
   "metadata": {
    "ExecuteTime": {
     "end_time": "2025-03-12T13:24:52.195564200Z",
     "start_time": "2021-10-02T11:42:22.362204Z"
    }
   },
   "outputs": [],
   "source": [
    "apples_kg_ordered = [2,4,7,3,13]\n",
    "plums_kg_ordered = [3,8,9,1,1]\n",
    "prices = [11.97 , 28.05, 38.98, 10.96, 41.1]"
   ]
  },
  {
   "cell_type": "code",
   "execution_count": null,
   "metadata": {
    "ExecuteTime": {
     "end_time": "2025-03-12T13:24:52.199904100Z",
     "start_time": "2021-10-02T11:42:22.575577Z"
    }
   },
   "outputs": [],
   "source": [
    "X = torch.tensor([apples_kg_ordered,plums_kg_ordered])\n",
    "Y = torch.tensor(prices)\n",
    "print(X)\n",
    "print(Y)"
   ]
  },
  {
   "cell_type": "code",
   "execution_count": null,
   "metadata": {
    "ExecuteTime": {
     "end_time": "2025-03-12T13:24:52.199904100Z",
     "start_time": "2021-10-02T11:42:23.051771Z"
    }
   },
   "outputs": [],
   "source": [
    "X = X.T.float()\n",
    "X"
   ]
  },
  {
   "cell_type": "code",
   "execution_count": null,
   "metadata": {
    "ExecuteTime": {
     "end_time": "2025-03-12T13:24:52.199904100Z",
     "start_time": "2021-10-02T11:42:23.542906Z"
    }
   },
   "outputs": [],
   "source": [
    "theta = torch.inverse((X.T@X))@X.T@Y\n",
    "theta "
   ]
  },
  {
   "cell_type": "code",
   "execution_count": null,
   "metadata": {
    "ExecuteTime": {
     "end_time": "2025-03-12T13:24:52.199904100Z",
     "start_time": "2021-10-02T12:25:15.601069Z"
    }
   },
   "outputs": [],
   "source": [
    "X @ theta"
   ]
  },
  {
   "cell_type": "markdown",
   "metadata": {},
   "source": [
    "# Automatyczne obliczanie gradientu"
   ]
  },
  {
   "cell_type": "markdown",
   "metadata": {},
   "source": [
    "Do automatycznego obliczania gradientu służy wbudowany pakiet torch.autograd, który umożliwia automatyczne obliczanie gradientu dla dowolnego grafu (ciągu obliczeń)"
   ]
  },
  {
   "cell_type": "code",
   "metadata": {
    "ExecuteTime": {
     "end_time": "2025-03-12T13:24:52.199904100Z",
     "start_time": "2025-03-12T09:18:29.488282Z"
    }
   },
   "source": [
    "x = torch.ones(5, requires_grad=True)\n",
    "print(x)"
   ],
   "outputs": [
    {
     "name": "stdout",
     "output_type": "stream",
     "text": [
      "tensor([1., 1., 1., 1., 1.], requires_grad=True)\n"
     ]
    }
   ],
   "execution_count": 7
  },
  {
   "cell_type": "code",
   "metadata": {
    "ExecuteTime": {
     "end_time": "2025-03-12T13:24:52.201852800Z",
     "start_time": "2025-03-12T09:18:31.110512Z"
    }
   },
   "source": [
    "y = x + 2\n",
    "y"
   ],
   "outputs": [
    {
     "data": {
      "text/plain": [
       "tensor([3., 3., 3., 3., 3.], grad_fn=<AddBackward0>)"
      ]
     },
     "execution_count": 8,
     "metadata": {},
     "output_type": "execute_result"
    }
   ],
   "execution_count": 8
  },
  {
   "cell_type": "code",
   "metadata": {
    "ExecuteTime": {
     "end_time": "2025-03-12T13:24:52.201852800Z",
     "start_time": "2025-03-12T09:18:36.838880Z"
    }
   },
   "source": [
    "y = x * 2\n",
    "y"
   ],
   "outputs": [
    {
     "data": {
      "text/plain": [
       "tensor([2., 2., 2., 2., 2.], grad_fn=<MulBackward0>)"
      ]
     },
     "execution_count": 9,
     "metadata": {},
     "output_type": "execute_result"
    }
   ],
   "execution_count": 9
  },
  {
   "cell_type": "code",
   "metadata": {
    "ExecuteTime": {
     "end_time": "2025-03-12T13:24:52.211641600Z",
     "start_time": "2025-03-12T09:18:52.382226Z"
    }
   },
   "source": [
    "y = x @ x.T\n",
    "y"
   ],
   "outputs": [
    {
     "name": "stderr",
     "output_type": "stream",
     "text": [
      "C:\\Users\\mateu\\AppData\\Local\\Temp\\ipykernel_15296\\3369123323.py:1: UserWarning: The use of `x.T` on tensors of dimension other than 2 to reverse their shape is deprecated and it will throw an error in a future release. Consider `x.mT` to transpose batches of matrices or `x.permute(*torch.arange(x.ndim - 1, -1, -1))` to reverse the dimensions of a tensor. (Triggered internally at C:\\actions-runner\\_work\\pytorch\\pytorch\\pytorch\\aten\\src\\ATen\\native\\TensorShape.cpp:3729.)\n",
      "  y = x @ x.T\n"
     ]
    },
    {
     "data": {
      "text/plain": [
       "tensor(5., grad_fn=<DotBackward0>)"
      ]
     },
     "execution_count": 10,
     "metadata": {},
     "output_type": "execute_result"
    }
   ],
   "execution_count": 10
  },
  {
   "cell_type": "code",
   "execution_count": null,
   "metadata": {
    "ExecuteTime": {
     "end_time": "2025-03-12T13:24:52.211641600Z",
     "start_time": "2021-10-02T13:15:43.264090Z"
    }
   },
   "outputs": [],
   "source": [
    "y = x - 2\n",
    "y"
   ]
  },
  {
   "cell_type": "code",
   "execution_count": null,
   "metadata": {
    "ExecuteTime": {
     "end_time": "2025-03-12T13:24:52.211641600Z",
     "start_time": "2021-10-02T13:15:43.416391Z"
    }
   },
   "outputs": [],
   "source": [
    "y.grad_fn.next_functions[0][0]"
   ]
  },
  {
   "cell_type": "code",
   "execution_count": null,
   "metadata": {
    "ExecuteTime": {
     "end_time": "2025-03-12T13:24:52.211641600Z",
     "start_time": "2021-10-02T13:15:43.616830Z"
    }
   },
   "outputs": [],
   "source": [
    "y.grad_fn.next_functions[0][0].variable"
   ]
  },
  {
   "cell_type": "code",
   "execution_count": null,
   "metadata": {
    "ExecuteTime": {
     "end_time": "2025-03-12T13:24:52.211641600Z",
     "start_time": "2021-10-02T13:15:44.084868Z"
    }
   },
   "outputs": [],
   "source": [
    "z = y * y * 3"
   ]
  },
  {
   "cell_type": "code",
   "execution_count": null,
   "metadata": {
    "ExecuteTime": {
     "end_time": "2025-03-12T13:24:52.211641600Z",
     "start_time": "2021-10-02T13:16:05.858953Z"
    }
   },
   "outputs": [],
   "source": [
    "a = z.mean()\n",
    "print(z)\n",
    "print(a)"
   ]
  },
  {
   "cell_type": "code",
   "execution_count": null,
   "metadata": {
    "ExecuteTime": {
     "end_time": "2025-03-12T13:24:52.211641600Z",
     "start_time": "2021-10-02T13:12:07.048144Z"
    }
   },
   "outputs": [],
   "source": [
    "from torchviz import make_dot"
   ]
  },
  {
   "cell_type": "code",
   "execution_count": null,
   "metadata": {
    "ExecuteTime": {
     "end_time": "2025-03-12T13:24:52.211641600Z",
     "start_time": "2021-10-02T12:59:48.330787Z"
    }
   },
   "outputs": [],
   "source": [
    "make_dot(a)"
   ]
  },
  {
   "cell_type": "markdown",
   "metadata": {},
   "source": [
    "### Gradienty"
   ]
  },
  {
   "cell_type": "code",
   "execution_count": null,
   "metadata": {
    "ExecuteTime": {
     "end_time": "2025-03-12T13:24:52.227583800Z",
     "start_time": "2021-10-02T14:35:46.498330Z"
    }
   },
   "outputs": [],
   "source": [
    "x = torch.ones(1, requires_grad=True)\n",
    "print(x)\n",
    "y = (x+4)**3\n",
    "y"
   ]
  },
  {
   "cell_type": "code",
   "execution_count": null,
   "metadata": {
    "ExecuteTime": {
     "end_time": "2025-03-12T13:24:52.227583800Z",
     "start_time": "2021-10-02T14:33:10.200061Z"
    }
   },
   "outputs": [],
   "source": [
    "make_dot(y)"
   ]
  },
  {
   "cell_type": "code",
   "execution_count": null,
   "metadata": {
    "ExecuteTime": {
     "end_time": "2025-03-12T13:24:52.227583800Z",
     "start_time": "2021-10-02T14:35:47.644582Z"
    },
    "scrolled": true
   },
   "outputs": [],
   "source": [
    "y.backward()\n",
    "x.grad"
   ]
  },
  {
   "cell_type": "markdown",
   "metadata": {},
   "source": [
    "#### Obliczenia z pominięciem gradientów"
   ]
  },
  {
   "cell_type": "code",
   "execution_count": null,
   "metadata": {
    "ExecuteTime": {
     "end_time": "2025-03-12T13:24:52.227583800Z",
     "start_time": "2021-10-03T07:14:11.080853Z"
    }
   },
   "outputs": [],
   "source": [
    "t1 = torch.rand(3,4, requires_grad=True)\n",
    "t2 = torch.rand(4,3, requires_grad=True)\n",
    "with torch.no_grad():\n",
    "    y = t1@t2\n",
    "print(y)\n",
    "print(t1@t2)"
   ]
  },
  {
   "cell_type": "markdown",
   "metadata": {},
   "source": [
    "#### Funkcja backward pozwala nam policzyć pochodną cząstkową w punkcie dla wszystkich źródeł (liści w grafie obliczeń)"
   ]
  },
  {
   "cell_type": "code",
   "execution_count": null,
   "metadata": {
    "ExecuteTime": {
     "end_time": "2025-03-12T13:24:52.227583800Z",
     "start_time": "2021-10-02T14:43:04.843680Z"
    }
   },
   "outputs": [],
   "source": [
    "x = torch.ones(5)  # input tensor\n",
    "y = torch.zeros(3)  # expected output"
   ]
  },
  {
   "cell_type": "code",
   "execution_count": null,
   "metadata": {
    "ExecuteTime": {
     "end_time": "2025-03-12T13:24:52.227583800Z",
     "start_time": "2021-10-02T14:43:05.071173Z"
    }
   },
   "outputs": [],
   "source": [
    "w = torch.randn(5, 3, requires_grad=True) #weights\n",
    "b = torch.randn(3, requires_grad=True) #bias"
   ]
  },
  {
   "cell_type": "code",
   "execution_count": null,
   "metadata": {
    "ExecuteTime": {
     "end_time": "2025-03-12T13:24:52.227583800Z",
     "start_time": "2021-10-02T14:43:05.281481Z"
    }
   },
   "outputs": [],
   "source": [
    "z = torch.matmul(x, w)+b"
   ]
  },
  {
   "cell_type": "code",
   "execution_count": null,
   "metadata": {
    "ExecuteTime": {
     "end_time": "2025-03-12T13:24:52.227583800Z",
     "start_time": "2021-10-02T14:43:05.501001Z"
    }
   },
   "outputs": [],
   "source": [
    "loss = torch.abs((z-y)).mean()\n",
    "loss"
   ]
  },
  {
   "cell_type": "code",
   "execution_count": null,
   "metadata": {
    "ExecuteTime": {
     "end_time": "2025-03-12T13:24:52.227583800Z",
     "start_time": "2021-10-02T14:43:06.348255Z"
    }
   },
   "outputs": [],
   "source": [
    "loss.backward()\n",
    "print(w.grad)\n",
    "print(b.grad)"
   ]
  },
  {
   "cell_type": "markdown",
   "metadata": {},
   "source": [
    "# Regresja raz jeszcze"
   ]
  },
  {
   "cell_type": "code",
   "execution_count": null,
   "metadata": {
    "ExecuteTime": {
     "end_time": "2025-03-12T13:24:52.227583800Z",
     "start_time": "2021-10-02T15:02:58.229524Z"
    }
   },
   "outputs": [],
   "source": [
    "apples_kg_ordered = [2,4,7,3,13]\n",
    "plums_kg_ordered = [3,8,9,1,1]\n",
    "prices = [11.97 , 28.05, 38.98, 10.96, 41.1]"
   ]
  },
  {
   "cell_type": "code",
   "execution_count": null,
   "metadata": {
    "ExecuteTime": {
     "end_time": "2025-03-12T13:24:52.227583800Z",
     "start_time": "2021-10-02T15:02:58.639049Z"
    }
   },
   "outputs": [],
   "source": [
    "X = torch.tensor([apples_kg_ordered,plums_kg_ordered])\n",
    "y = torch.tensor(prices)\n",
    "X = X.T.float()\n",
    "Y = Y.T\n",
    "print(X)\n",
    "print(Y)"
   ]
  },
  {
   "cell_type": "code",
   "execution_count": null,
   "metadata": {
    "ExecuteTime": {
     "end_time": "2025-03-12T13:24:52.227583800Z",
     "start_time": "2021-10-02T15:02:58.840718Z"
    }
   },
   "outputs": [],
   "source": [
    "params = torch.rand(2,requires_grad=True)"
   ]
  },
  {
   "cell_type": "code",
   "execution_count": null,
   "metadata": {
    "ExecuteTime": {
     "end_time": "2025-03-12T13:24:52.227583800Z",
     "start_time": "2021-10-02T15:02:59.041604Z"
    }
   },
   "outputs": [],
   "source": [
    "y_pred = X@params\n",
    "y_pred"
   ]
  },
  {
   "cell_type": "code",
   "execution_count": null,
   "metadata": {
    "ExecuteTime": {
     "end_time": "2025-03-12T13:24:52.227583800Z",
     "start_time": "2021-10-02T15:02:59.230912Z"
    }
   },
   "outputs": [],
   "source": [
    "loss = (torch.square(Y-y_pred)).mean()\n",
    "loss"
   ]
  },
  {
   "cell_type": "code",
   "execution_count": null,
   "metadata": {
    "ExecuteTime": {
     "end_time": "2025-03-12T13:24:52.227583800Z",
     "start_time": "2021-10-02T15:02:59.433774Z"
    }
   },
   "outputs": [],
   "source": [
    "loss.backward()"
   ]
  },
  {
   "cell_type": "code",
   "execution_count": null,
   "metadata": {
    "ExecuteTime": {
     "end_time": "2025-03-12T13:24:52.227583800Z",
     "start_time": "2021-10-02T15:02:59.656827Z"
    },
    "scrolled": true
   },
   "outputs": [],
   "source": [
    "params.grad"
   ]
  },
  {
   "cell_type": "code",
   "execution_count": null,
   "metadata": {
    "ExecuteTime": {
     "end_time": "2025-03-12T13:24:52.227583800Z",
     "start_time": "2021-10-02T15:03:00Z"
    }
   },
   "outputs": [],
   "source": [
    "lr = 0.001"
   ]
  },
  {
   "cell_type": "code",
   "execution_count": null,
   "metadata": {
    "ExecuteTime": {
     "end_time": "2025-03-12T13:24:52.227583800Z",
     "start_time": "2021-10-02T15:03:00.442852Z"
    }
   },
   "outputs": [],
   "source": [
    "print(params)\n",
    "params - lr *params.grad"
   ]
  },
  {
   "cell_type": "code",
   "execution_count": null,
   "metadata": {
    "ExecuteTime": {
     "end_time": "2025-03-12T13:24:52.227583800Z",
     "start_time": "2021-10-02T15:17:41.899456Z"
    }
   },
   "outputs": [],
   "source": [
    "params = torch.rand(2,requires_grad=True)"
   ]
  },
  {
   "cell_type": "code",
   "execution_count": null,
   "metadata": {
    "ExecuteTime": {
     "end_time": "2025-03-12T13:24:52.227583800Z",
     "start_time": "2021-10-02T15:18:30.905197Z"
    },
    "scrolled": true
   },
   "outputs": [],
   "source": [
    "for epoch in range(50):\n",
    "    y_pred = X@params\n",
    "    loss = (torch.square(Y-y_pred)).mean()\n",
    "    loss.backward()\n",
    "    with torch.no_grad():\n",
    "        params.copy_(params - lr *params.grad)\n",
    "    print(params)\n",
    "    print(params.grad)\n",
    "    params.grad.zero_()"
   ]
  },
  {
   "cell_type": "markdown",
   "metadata": {},
   "source": [
    "### Mini zadanie na plusa, mozna wyslać po zajęciach.\n",
    "Tym razem na innym targu do ceny owoców doliczany jest stały koszt reklamówki. Napisz model regresji liniowej który oszacuje cenę kg ziemniaków, pomidorów i reklamówki"
   ]
  },
  {
   "cell_type": "code",
   "metadata": {
    "ExecuteTime": {
     "end_time": "2025-03-12T13:24:52.227583800Z",
     "start_time": "2025-03-12T09:33:24.435343Z"
    }
   },
   "source": [
    "potatoes_kg_ordered = [1,3,7,3,10,6,8,4,3,1,2,0]\n",
    "tomatoes_kg_ordered = [5,2,3,1,2,3,6,7,3,2,3,1]\n",
    "prices = [22.37 , 14.45, 26.6, 10.44, 28.49, 24.52, 40.38, 36.51, 18.50, 10.46, 16.51, 4.58]"
   ],
   "outputs": [],
   "execution_count": 16
  },
  {
   "cell_type": "code",
   "metadata": {
    "ExecuteTime": {
     "end_time": "2025-03-12T13:24:52.236924900Z",
     "start_time": "2025-03-12T09:33:26.651130Z"
    }
   },
   "source": [
    "X = torch.tensor([potatoes_kg_ordered,tomatoes_kg_ordered, np.ones_like(potatoes_kg_ordered)])\n",
    "Y = torch.tensor(prices)\n",
    "X = X.T.float()\n",
    "Y = Y.T\n",
    "print(X)\n",
    "print(Y)"
   ],
   "outputs": [
    {
     "name": "stdout",
     "output_type": "stream",
     "text": [
      "tensor([[ 1.,  5.,  1.],\n",
      "        [ 3.,  2.,  1.],\n",
      "        [ 7.,  3.,  1.],\n",
      "        [ 3.,  1.,  1.],\n",
      "        [10.,  2.,  1.],\n",
      "        [ 6.,  3.,  1.],\n",
      "        [ 8.,  6.,  1.],\n",
      "        [ 4.,  7.,  1.],\n",
      "        [ 3.,  3.,  1.],\n",
      "        [ 1.,  2.,  1.],\n",
      "        [ 2.,  3.,  1.],\n",
      "        [ 0.,  1.,  1.]])\n",
      "tensor([22.3700, 14.4500, 26.6000, 10.4400, 28.4900, 24.5200, 40.3800, 36.5100,\n",
      "        18.5000, 10.4600, 16.5100,  4.5800])\n"
     ]
    }
   ],
   "execution_count": 17
  },
  {
   "cell_type": "markdown",
   "metadata": {
    "jp-MarkdownHeadingCollapsed": true
   },
   "source": [
    "#### Końcowy wynik:"
   ]
  },
  {
   "metadata": {
    "ExecuteTime": {
     "end_time": "2025-03-12T13:24:52.240532600Z",
     "start_time": "2025-03-12T09:37:14.116325Z"
    }
   },
   "cell_type": "code",
   "source": [
    "params = torch.rand(3, requires_grad=True)\n",
    "\n",
    "for epoch in range(500):\n",
    "    y_pred = X@params\n",
    "    loss = (torch.square(Y-y_pred)).mean()\n",
    "    loss.backward()\n",
    "    with torch.no_grad():\n",
    "        params.copy_(params-0.001*params.grad)\n",
    "        print(params)\n",
    "        print(params.grad)\n",
    "        params.grad.zero_()"
   ],
   "outputs": [
    {
     "name": "stdout",
     "output_type": "stream",
     "text": [
      "tensor([0.4372, 0.7319, 0.0567], requires_grad=True)\n",
      "tensor([-184.8786, -142.1502,  -36.5079])\n",
      "tensor([0.6086, 0.8649, 0.0907], requires_grad=True)\n",
      "tensor([-171.4714, -133.0134,  -34.0555])\n",
      "tensor([0.7676, 0.9895, 0.1225], requires_grad=True)\n",
      "tensor([-159.0025, -124.5066,  -31.7732])\n",
      "tensor([0.9150, 1.1060, 0.1521], requires_grad=True)\n",
      "tensor([-147.4065, -116.5862,  -29.6491])\n",
      "tensor([1.0517, 1.2153, 0.1798], requires_grad=True)\n",
      "tensor([-136.6225, -109.2112,  -27.6722])\n",
      "tensor([1.1782, 1.3176, 0.2057], requires_grad=True)\n",
      "tensor([-126.5941, -102.3437,  -25.8322])\n",
      "tensor([1.2955, 1.4135, 0.2298], requires_grad=True)\n",
      "tensor([-117.2684,  -95.9485,  -24.1196])\n",
      "tensor([1.4041, 1.5035, 0.2523], requires_grad=True)\n",
      "tensor([-108.5965,  -89.9927,  -22.5256])\n",
      "tensor([1.5046, 1.5880, 0.2733], requires_grad=True)\n",
      "tensor([-100.5329,  -84.4457,  -21.0418])\n",
      "tensor([1.5977, 1.6673, 0.2930], requires_grad=True)\n",
      "tensor([-93.0351, -79.2792, -19.6606])\n",
      "tensor([1.6837, 1.7417, 0.3114], requires_grad=True)\n",
      "tensor([-86.0637, -74.4666, -18.3749])\n",
      "tensor([1.7633, 1.8117, 0.3286], requires_grad=True)\n",
      "tensor([-79.5820, -69.9833, -17.1780])\n",
      "tensor([1.8369, 1.8775, 0.3446], requires_grad=True)\n",
      "tensor([-73.5558, -65.8065, -16.0638])\n",
      "tensor([1.9048, 1.9394, 0.3596], requires_grad=True)\n",
      "tensor([-67.9533, -61.9149, -15.0264])\n",
      "tensor([1.9676, 1.9977, 0.3737], requires_grad=True)\n",
      "tensor([-62.7451, -58.2886, -14.0606])\n",
      "tensor([2.0255, 2.0526, 0.3869], requires_grad=True)\n",
      "tensor([-57.9036, -54.9093, -13.1614])\n",
      "tensor([2.0789, 2.1044, 0.3992], requires_grad=True)\n",
      "tensor([-53.4033, -51.7597, -12.3241])\n",
      "tensor([2.1281, 2.1532, 0.4107], requires_grad=True)\n",
      "tensor([-49.2203, -48.8239, -11.5444])\n",
      "tensor([2.1734, 2.1993, 0.4216], requires_grad=True)\n",
      "tensor([-45.3326, -46.0870, -10.8183])\n",
      "tensor([2.2152, 2.2428, 0.4317], requires_grad=True)\n",
      "tensor([-41.7194, -43.5353, -10.1421])\n",
      "tensor([2.2535, 2.2840, 0.4412], requires_grad=True)\n",
      "tensor([-38.3618, -41.1559,  -9.5124])\n",
      "tensor([2.2888, 2.3229, 0.4501], requires_grad=True)\n",
      "tensor([-35.2417, -38.9368,  -8.9258])\n",
      "tensor([2.3211, 2.3598, 0.4585], requires_grad=True)\n",
      "tensor([-32.3427, -36.8670,  -8.3794])\n",
      "tensor([2.3508, 2.3947, 0.4664], requires_grad=True)\n",
      "tensor([-29.6493, -34.9360,  -7.8704])\n",
      "tensor([2.3779, 2.4279, 0.4738], requires_grad=True)\n",
      "tensor([-27.1472, -33.1342,  -7.3962])\n",
      "tensor([2.4027, 2.4593, 0.4807], requires_grad=True)\n",
      "tensor([-24.8230, -31.4527,  -6.9544])\n",
      "tensor([2.4254, 2.4892, 0.4873], requires_grad=True)\n",
      "tensor([-22.6643, -29.8832,  -6.5427])\n",
      "tensor([2.4460, 2.5176, 0.4934], requires_grad=True)\n",
      "tensor([-20.6596, -28.4178,  -6.1591])\n",
      "tensor([2.4648, 2.5447, 0.4992], requires_grad=True)\n",
      "tensor([-18.7980, -27.0494,  -5.8015])\n",
      "tensor([2.4819, 2.5704, 0.5047], requires_grad=True)\n",
      "tensor([-17.0696, -25.7713,  -5.4682])\n",
      "tensor([2.4974, 2.5950, 0.5099], requires_grad=True)\n",
      "tensor([-15.4650, -24.5771,  -5.1575])\n",
      "tensor([2.5114, 2.6185, 0.5147], requires_grad=True)\n",
      "tensor([-13.9757, -23.4612,  -4.8678])\n",
      "tensor([2.5240, 2.6409, 0.5193], requires_grad=True)\n",
      "tensor([-12.5936, -22.4181,  -4.5977])\n",
      "tensor([2.5353, 2.6623, 0.5237], requires_grad=True)\n",
      "tensor([-11.3111, -21.4427,  -4.3457])\n",
      "tensor([2.5454, 2.6829, 0.5278], requires_grad=True)\n",
      "tensor([-10.1213, -20.5305,  -4.1108])\n",
      "tensor([2.5544, 2.7025, 0.5317], requires_grad=True)\n",
      "tensor([ -9.0177, -19.6769,  -3.8915])\n",
      "tensor([2.5624, 2.7214, 0.5354], requires_grad=True)\n",
      "tensor([ -7.9943, -18.8781,  -3.6870])\n",
      "tensor([2.5694, 2.7396, 0.5389], requires_grad=True)\n",
      "tensor([ -7.0454, -18.1301,  -3.4961])\n",
      "tensor([2.5756, 2.7570, 0.5422], requires_grad=True)\n",
      "tensor([ -6.1660, -17.4296,  -3.3179])\n",
      "tensor([2.5810, 2.7738, 0.5453], requires_grad=True)\n",
      "tensor([ -5.3509, -16.7732,  -3.1516])\n",
      "tensor([2.5856, 2.7899, 0.5483], requires_grad=True)\n",
      "tensor([ -4.5959, -16.1579,  -2.9962])\n",
      "tensor([2.5894, 2.8055, 0.5512], requires_grad=True)\n",
      "tensor([ -3.8966, -15.5809,  -2.8511])\n",
      "tensor([2.5927, 2.8205, 0.5539], requires_grad=True)\n",
      "tensor([ -3.2492, -15.0396,  -2.7156])\n",
      "tensor([2.5953, 2.8351, 0.5565], requires_grad=True)\n",
      "tensor([ -2.6500, -14.5314,  -2.5889])\n",
      "tensor([2.5974, 2.8491, 0.5589], requires_grad=True)\n",
      "tensor([ -2.0957, -14.0542,  -2.4705])\n",
      "tensor([2.5990, 2.8627, 0.5613], requires_grad=True)\n",
      "tensor([ -1.5830, -13.6058,  -2.3598])\n",
      "tensor([2.6001, 2.8759, 0.5636], requires_grad=True)\n",
      "tensor([ -1.1091, -13.1842,  -2.2562])\n",
      "tensor([2.6008, 2.8887, 0.5657], requires_grad=True)\n",
      "tensor([ -0.6712, -12.7877,  -2.1593])\n",
      "tensor([2.6011, 2.9011, 0.5678], requires_grad=True)\n",
      "tensor([ -0.2668, -12.4144,  -2.0687])\n",
      "tensor([2.6010, 2.9132, 0.5698], requires_grad=True)\n",
      "tensor([  0.1065, -12.0629,  -1.9838])\n",
      "tensor([2.6005, 2.9249, 0.5717], requires_grad=True)\n",
      "tensor([  0.4508, -11.7316,  -1.9043])\n",
      "tensor([2.5997, 2.9363, 0.5735], requires_grad=True)\n",
      "tensor([  0.7682, -11.4192,  -1.8298])\n",
      "tensor([2.5987, 2.9475, 0.5753], requires_grad=True)\n",
      "tensor([  1.0607, -11.1243,  -1.7599])\n",
      "tensor([2.5974, 2.9583, 0.5770], requires_grad=True)\n",
      "tensor([  1.3298, -10.8459,  -1.6944])\n",
      "tensor([2.5958, 2.9689, 0.5786], requires_grad=True)\n",
      "tensor([  1.5774, -10.5827,  -1.6330])\n",
      "tensor([2.5940, 2.9792, 0.5802], requires_grad=True)\n",
      "tensor([  1.8049, -10.3338,  -1.5753])\n",
      "tensor([2.5920, 2.9893, 0.5817], requires_grad=True)\n",
      "tensor([  2.0138, -10.0982,  -1.5212])\n",
      "tensor([2.5898, 2.9992, 0.5832], requires_grad=True)\n",
      "tensor([ 2.2053, -9.8750, -1.4703])\n",
      "tensor([2.5874, 3.0089, 0.5846], requires_grad=True)\n",
      "tensor([ 2.3807, -9.6634, -1.4224])\n",
      "tensor([2.5848, 3.0183, 0.5860], requires_grad=True)\n",
      "tensor([ 2.5412, -9.4625, -1.3774])\n",
      "tensor([2.5821, 3.0276, 0.5873], requires_grad=True)\n",
      "tensor([ 2.6878, -9.2718, -1.3351])\n",
      "tensor([2.5793, 3.0367, 0.5886], requires_grad=True)\n",
      "tensor([ 2.8215, -9.0904, -1.2952])\n",
      "tensor([2.5764, 3.0456, 0.5899], requires_grad=True)\n",
      "tensor([ 2.9433, -8.9179, -1.2576])\n",
      "tensor([2.5733, 3.0543, 0.5911], requires_grad=True)\n",
      "tensor([ 3.0539, -8.7536, -1.2222])\n",
      "tensor([2.5702, 3.0629, 0.5923], requires_grad=True)\n",
      "tensor([ 3.1542, -8.5969, -1.1887])\n",
      "tensor([2.5669, 3.0714, 0.5934], requires_grad=True)\n",
      "tensor([ 3.2449, -8.4474, -1.1571])\n",
      "tensor([2.5636, 3.0797, 0.5945], requires_grad=True)\n",
      "tensor([ 3.3267, -8.3045, -1.1273])\n",
      "tensor([2.5602, 3.0879, 0.5956], requires_grad=True)\n",
      "tensor([ 3.4002, -8.1680, -1.0990])\n",
      "tensor([2.5567, 3.0959, 0.5967], requires_grad=True)\n",
      "tensor([ 3.4661, -8.0373, -1.0723])\n",
      "tensor([2.5532, 3.1038, 0.5978], requires_grad=True)\n",
      "tensor([ 3.5249, -7.9121, -1.0470])\n",
      "tensor([2.5496, 3.1116, 0.5988], requires_grad=True)\n",
      "tensor([ 3.5771, -7.7920, -1.0230])\n",
      "tensor([2.5460, 3.1193, 0.5998], requires_grad=True)\n",
      "tensor([ 3.6232, -7.6767, -1.0002])\n",
      "tensor([2.5423, 3.1268, 0.6008], requires_grad=True)\n",
      "tensor([ 3.6636, -7.5659, -0.9786])\n",
      "tensor([2.5386, 3.1343, 0.6017], requires_grad=True)\n",
      "tensor([ 3.6988, -7.4593, -0.9580])\n",
      "tensor([2.5349, 3.1417, 0.6027], requires_grad=True)\n",
      "tensor([ 3.7292, -7.3566, -0.9384])\n",
      "tensor([2.5312, 3.1489, 0.6036], requires_grad=True)\n",
      "tensor([ 3.7550, -7.2577, -0.9198])\n",
      "tensor([2.5274, 3.1561, 0.6045], requires_grad=True)\n",
      "tensor([ 3.7766, -7.1622, -0.9020])\n",
      "tensor([2.5236, 3.1632, 0.6054], requires_grad=True)\n",
      "tensor([ 3.7944, -7.0700, -0.8851])\n",
      "tensor([2.5198, 3.1701, 0.6062], requires_grad=True)\n",
      "tensor([ 3.8087, -6.9808, -0.8689])\n",
      "tensor([2.5160, 3.1770, 0.6071], requires_grad=True)\n",
      "tensor([ 3.8196, -6.8945, -0.8534])\n",
      "tensor([2.5121, 3.1838, 0.6079], requires_grad=True)\n",
      "tensor([ 3.8275, -6.8109, -0.8386])\n",
      "tensor([2.5083, 3.1906, 0.6088], requires_grad=True)\n",
      "tensor([ 3.8325, -6.7299, -0.8244])\n",
      "tensor([2.5045, 3.1972, 0.6096], requires_grad=True)\n",
      "tensor([ 3.8349, -6.6513, -0.8108])\n",
      "tensor([2.5006, 3.2038, 0.6104], requires_grad=True)\n",
      "tensor([ 3.8350, -6.5749, -0.7977])\n",
      "tensor([2.4968, 3.2103, 0.6111], requires_grad=True)\n",
      "tensor([ 3.8328, -6.5006, -0.7852])\n",
      "tensor([2.4930, 3.2167, 0.6119], requires_grad=True)\n",
      "tensor([ 3.8285, -6.4283, -0.7731])\n",
      "tensor([2.4892, 3.2231, 0.6127], requires_grad=True)\n",
      "tensor([ 3.8224, -6.3579, -0.7614])\n",
      "tensor([2.4853, 3.2294, 0.6134], requires_grad=True)\n",
      "tensor([ 3.8146, -6.2893, -0.7502])\n",
      "tensor([2.4815, 3.2356, 0.6142], requires_grad=True)\n",
      "tensor([ 3.8051, -6.2224, -0.7394])\n",
      "tensor([2.4777, 3.2418, 0.6149], requires_grad=True)\n",
      "tensor([ 3.7942, -6.1570, -0.7290])\n",
      "tensor([2.4740, 3.2478, 0.6156], requires_grad=True)\n",
      "tensor([ 3.7819, -6.0932, -0.7189])\n",
      "tensor([2.4702, 3.2539, 0.6163], requires_grad=True)\n",
      "tensor([ 3.7684, -6.0308, -0.7091])\n",
      "tensor([2.4664, 3.2598, 0.6170], requires_grad=True)\n",
      "tensor([ 3.7538, -5.9697, -0.6996])\n",
      "tensor([2.4627, 3.2658, 0.6177], requires_grad=True)\n",
      "tensor([ 3.7381, -5.9100, -0.6905])\n",
      "tensor([2.4590, 3.2716, 0.6184], requires_grad=True)\n",
      "tensor([ 3.7215, -5.8514, -0.6816])\n",
      "tensor([2.4553, 3.2774, 0.6191], requires_grad=True)\n",
      "tensor([ 3.7040, -5.7940, -0.6729])\n",
      "tensor([2.4516, 3.2831, 0.6197], requires_grad=True)\n",
      "tensor([ 3.6857, -5.7377, -0.6645])\n",
      "tensor([2.4479, 3.2888, 0.6204], requires_grad=True)\n",
      "tensor([ 3.6667, -5.6825, -0.6563])\n",
      "tensor([2.4443, 3.2944, 0.6210], requires_grad=True)\n",
      "tensor([ 3.6471, -5.6283, -0.6483])\n",
      "tensor([2.4406, 3.3000, 0.6217], requires_grad=True)\n",
      "tensor([ 3.6268, -5.5750, -0.6406])\n",
      "tensor([2.4370, 3.3055, 0.6223], requires_grad=True)\n",
      "tensor([ 3.6061, -5.5226, -0.6330])\n",
      "tensor([2.4335, 3.3110, 0.6229], requires_grad=True)\n",
      "tensor([ 3.5848, -5.4711, -0.6256])\n",
      "tensor([2.4299, 3.3164, 0.6236], requires_grad=True)\n",
      "tensor([ 3.5631, -5.4204, -0.6184])\n",
      "tensor([2.4263, 3.3218, 0.6242], requires_grad=True)\n",
      "tensor([ 3.5411, -5.3705, -0.6113])\n",
      "tensor([2.4228, 3.3271, 0.6248], requires_grad=True)\n",
      "tensor([ 3.5187, -5.3214, -0.6044])\n",
      "tensor([2.4193, 3.3324, 0.6254], requires_grad=True)\n",
      "tensor([ 3.4960, -5.2730, -0.5977])\n",
      "tensor([2.4159, 3.3376, 0.6260], requires_grad=True)\n",
      "tensor([ 3.4730, -5.2253, -0.5910])\n",
      "tensor([2.4124, 3.3428, 0.6266], requires_grad=True)\n",
      "tensor([ 3.4498, -5.1783, -0.5845])\n",
      "tensor([2.4090, 3.3479, 0.6271], requires_grad=True)\n",
      "tensor([ 3.4264, -5.1320, -0.5782])\n",
      "tensor([2.4056, 3.3530, 0.6277], requires_grad=True)\n",
      "tensor([ 3.4029, -5.0863, -0.5719])\n",
      "tensor([2.4022, 3.3581, 0.6283], requires_grad=True)\n",
      "tensor([ 3.3791, -5.0412, -0.5658])\n",
      "tensor([2.3988, 3.3631, 0.6288], requires_grad=True)\n",
      "tensor([ 3.3553, -4.9966, -0.5598])\n",
      "tensor([2.3955, 3.3680, 0.6294], requires_grad=True)\n",
      "tensor([ 3.3314, -4.9527, -0.5538])\n",
      "tensor([2.3922, 3.3729, 0.6299], requires_grad=True)\n",
      "tensor([ 3.3074, -4.9093, -0.5480])\n",
      "tensor([2.3889, 3.3778, 0.6305], requires_grad=True)\n",
      "tensor([ 3.2833, -4.8664, -0.5423])\n",
      "tensor([2.3857, 3.3826, 0.6310], requires_grad=True)\n",
      "tensor([ 3.2592, -4.8240, -0.5367])\n",
      "tensor([2.3824, 3.3874, 0.6315], requires_grad=True)\n",
      "tensor([ 3.2351, -4.7822, -0.5311])\n",
      "tensor([2.3792, 3.3921, 0.6321], requires_grad=True)\n",
      "tensor([ 3.2110, -4.7408, -0.5256])\n",
      "tensor([2.3760, 3.3968, 0.6326], requires_grad=True)\n",
      "tensor([ 3.1869, -4.6999, -0.5202])\n",
      "tensor([2.3729, 3.4015, 0.6331], requires_grad=True)\n",
      "tensor([ 3.1628, -4.6594, -0.5149])\n",
      "tensor([2.3697, 3.4061, 0.6336], requires_grad=True)\n",
      "tensor([ 3.1387, -4.6194, -0.5097])\n",
      "tensor([2.3666, 3.4107, 0.6341], requires_grad=True)\n",
      "tensor([ 3.1147, -4.5798, -0.5045])\n",
      "tensor([2.3635, 3.4152, 0.6346], requires_grad=True)\n",
      "tensor([ 3.0908, -4.5407, -0.4994])\n",
      "tensor([2.3605, 3.4197, 0.6351], requires_grad=True)\n",
      "tensor([ 3.0669, -4.5019, -0.4944])\n",
      "tensor([2.3574, 3.4242, 0.6356], requires_grad=True)\n",
      "tensor([ 3.0431, -4.4636, -0.4894])\n",
      "tensor([2.3544, 3.4286, 0.6361], requires_grad=True)\n",
      "tensor([ 3.0193, -4.4257, -0.4845])\n",
      "tensor([2.3514, 3.4330, 0.6366], requires_grad=True)\n",
      "tensor([ 2.9957, -4.3881, -0.4797])\n",
      "tensor([2.3484, 3.4374, 0.6370], requires_grad=True)\n",
      "tensor([ 2.9722, -4.3509, -0.4749])\n",
      "tensor([2.3455, 3.4417, 0.6375], requires_grad=True)\n",
      "tensor([ 2.9487, -4.3141, -0.4702])\n",
      "tensor([2.3426, 3.4460, 0.6380], requires_grad=True)\n",
      "tensor([ 2.9254, -4.2777, -0.4655])\n",
      "tensor([2.3397, 3.4502, 0.6384], requires_grad=True)\n",
      "tensor([ 2.9021, -4.2416, -0.4609])\n",
      "tensor([2.3368, 3.4544, 0.6389], requires_grad=True)\n",
      "tensor([ 2.8790, -4.2059, -0.4563])\n",
      "tensor([2.3339, 3.4586, 0.6393], requires_grad=True)\n",
      "tensor([ 2.8561, -4.1705, -0.4518])\n",
      "tensor([2.3311, 3.4627, 0.6398], requires_grad=True)\n",
      "tensor([ 2.8332, -4.1354, -0.4473])\n",
      "tensor([2.3283, 3.4668, 0.6402], requires_grad=True)\n",
      "tensor([ 2.8105, -4.1007, -0.4429])\n",
      "tensor([2.3255, 3.4709, 0.6407], requires_grad=True)\n",
      "tensor([ 2.7879, -4.0663, -0.4385])\n",
      "tensor([2.3227, 3.4749, 0.6411], requires_grad=True)\n",
      "tensor([ 2.7655, -4.0322, -0.4342])\n",
      "tensor([2.3200, 3.4789, 0.6415], requires_grad=True)\n",
      "tensor([ 2.7431, -3.9985, -0.4299])\n",
      "tensor([2.3173, 3.4829, 0.6420], requires_grad=True)\n",
      "tensor([ 2.7209, -3.9650, -0.4257])\n",
      "tensor([2.3146, 3.4868, 0.6424], requires_grad=True)\n",
      "tensor([ 2.6989, -3.9319, -0.4215])\n",
      "tensor([2.3119, 3.4907, 0.6428], requires_grad=True)\n",
      "tensor([ 2.6770, -3.8990, -0.4173])\n",
      "tensor([2.3092, 3.4946, 0.6432], requires_grad=True)\n",
      "tensor([ 2.6553, -3.8664, -0.4132])\n",
      "tensor([2.3066, 3.4984, 0.6436], requires_grad=True)\n",
      "tensor([ 2.6337, -3.8342, -0.4092])\n",
      "tensor([2.3040, 3.5022, 0.6440], requires_grad=True)\n",
      "tensor([ 2.6122, -3.8022, -0.4051])\n",
      "tensor([2.3014, 3.5060, 0.6444], requires_grad=True)\n",
      "tensor([ 2.5909, -3.7705, -0.4011])\n",
      "tensor([2.2988, 3.5097, 0.6448], requires_grad=True)\n",
      "tensor([ 2.5698, -3.7391, -0.3972])\n",
      "tensor([2.2963, 3.5134, 0.6452], requires_grad=True)\n",
      "tensor([ 2.5488, -3.7080, -0.3933])\n",
      "tensor([2.2937, 3.5171, 0.6456], requires_grad=True)\n",
      "tensor([ 2.5279, -3.6771, -0.3894])\n",
      "tensor([2.2912, 3.5208, 0.6460], requires_grad=True)\n",
      "tensor([ 2.5072, -3.6465, -0.3855])\n",
      "tensor([2.2887, 3.5244, 0.6464], requires_grad=True)\n",
      "tensor([ 2.4867, -3.6162, -0.3817])\n",
      "tensor([2.2863, 3.5280, 0.6468], requires_grad=True)\n",
      "tensor([ 2.4663, -3.5862, -0.3779])\n",
      "tensor([2.2838, 3.5315, 0.6471], requires_grad=True)\n",
      "tensor([ 2.4460, -3.5564, -0.3742])\n",
      "tensor([2.2814, 3.5350, 0.6475], requires_grad=True)\n",
      "tensor([ 2.4259, -3.5268, -0.3705])\n",
      "tensor([2.2790, 3.5385, 0.6479], requires_grad=True)\n",
      "tensor([ 2.4060, -3.4976, -0.3668])\n",
      "tensor([2.2766, 3.5420, 0.6482], requires_grad=True)\n",
      "tensor([ 2.3862, -3.4685, -0.3632])\n",
      "tensor([2.2743, 3.5454, 0.6486], requires_grad=True)\n",
      "tensor([ 2.3666, -3.4397, -0.3596])\n",
      "tensor([2.2719, 3.5489, 0.6489], requires_grad=True)\n",
      "tensor([ 2.3471, -3.4112, -0.3560])\n",
      "tensor([2.2696, 3.5522, 0.6493], requires_grad=True)\n",
      "tensor([ 2.3277, -3.3829, -0.3525])\n",
      "tensor([2.2673, 3.5556, 0.6496], requires_grad=True)\n",
      "tensor([ 2.3085, -3.3549, -0.3490])\n",
      "tensor([2.2650, 3.5589, 0.6500], requires_grad=True)\n",
      "tensor([ 2.2895, -3.3271, -0.3455])\n",
      "tensor([2.2627, 3.5622, 0.6503], requires_grad=True)\n",
      "tensor([ 2.2706, -3.2995, -0.3420])\n",
      "tensor([2.2605, 3.5655, 0.6507], requires_grad=True)\n",
      "tensor([ 2.2518, -3.2722, -0.3386])\n",
      "tensor([2.2582, 3.5687, 0.6510], requires_grad=True)\n",
      "tensor([ 2.2332, -3.2451, -0.3352])\n",
      "tensor([2.2560, 3.5720, 0.6513], requires_grad=True)\n",
      "tensor([ 2.2148, -3.2182, -0.3319])\n",
      "tensor([2.2538, 3.5751, 0.6517], requires_grad=True)\n",
      "tensor([ 2.1965, -3.1916, -0.3286])\n",
      "tensor([2.2516, 3.5783, 0.6520], requires_grad=True)\n",
      "tensor([ 2.1783, -3.1651, -0.3253])\n",
      "tensor([2.2495, 3.5814, 0.6523], requires_grad=True)\n",
      "tensor([ 2.1603, -3.1389, -0.3220])\n",
      "tensor([2.2473, 3.5846, 0.6526], requires_grad=True)\n",
      "tensor([ 2.1424, -3.1130, -0.3187])\n",
      "tensor([2.2452, 3.5876, 0.6529], requires_grad=True)\n",
      "tensor([ 2.1247, -3.0872, -0.3155])\n",
      "tensor([2.2431, 3.5907, 0.6533], requires_grad=True)\n",
      "tensor([ 2.1071, -3.0617, -0.3123])\n",
      "tensor([2.2410, 3.5937, 0.6536], requires_grad=True)\n",
      "tensor([ 2.0896, -3.0363, -0.3092])\n",
      "tensor([2.2389, 3.5968, 0.6539], requires_grad=True)\n",
      "tensor([ 2.0723, -3.0112, -0.3061])\n",
      "tensor([2.2369, 3.5997, 0.6542], requires_grad=True)\n",
      "tensor([ 2.0552, -2.9863, -0.3030])\n",
      "tensor([2.2348, 3.6027, 0.6545], requires_grad=True)\n",
      "tensor([ 2.0381, -2.9616, -0.2999])\n",
      "tensor([2.2328, 3.6056, 0.6548], requires_grad=True)\n",
      "tensor([ 2.0212, -2.9372, -0.2968])\n",
      "tensor([2.2308, 3.6086, 0.6551], requires_grad=True)\n",
      "tensor([ 2.0045, -2.9129, -0.2938])\n",
      "tensor([2.2288, 3.6114, 0.6554], requires_grad=True)\n",
      "tensor([ 1.9879, -2.8888, -0.2908])\n",
      "tensor([2.2269, 3.6143, 0.6556], requires_grad=True)\n",
      "tensor([ 1.9714, -2.8649, -0.2878])\n",
      "tensor([2.2249, 3.6172, 0.6559], requires_grad=True)\n",
      "tensor([ 1.9550, -2.8412, -0.2849])\n",
      "tensor([2.2230, 3.6200, 0.6562], requires_grad=True)\n",
      "tensor([ 1.9388, -2.8178, -0.2820])\n",
      "tensor([2.2210, 3.6228, 0.6565], requires_grad=True)\n",
      "tensor([ 1.9227, -2.7945, -0.2791])\n",
      "tensor([2.2191, 3.6255, 0.6568], requires_grad=True)\n",
      "tensor([ 1.9068, -2.7714, -0.2762])\n",
      "tensor([2.2172, 3.6283, 0.6570], requires_grad=True)\n",
      "tensor([ 1.8910, -2.7485, -0.2733])\n",
      "tensor([2.2154, 3.6310, 0.6573], requires_grad=True)\n",
      "tensor([ 1.8753, -2.7258, -0.2705])\n",
      "tensor([2.2135, 3.6337, 0.6576], requires_grad=True)\n",
      "tensor([ 1.8597, -2.7033, -0.2677])\n",
      "tensor([2.2117, 3.6364, 0.6578], requires_grad=True)\n",
      "tensor([ 1.8443, -2.6809, -0.2649])\n",
      "tensor([2.2098, 3.6391, 0.6581], requires_grad=True)\n",
      "tensor([ 1.8290, -2.6588, -0.2622])\n",
      "tensor([2.2080, 3.6417, 0.6584], requires_grad=True)\n",
      "tensor([ 1.8138, -2.6368, -0.2594])\n",
      "tensor([2.2062, 3.6443, 0.6586], requires_grad=True)\n",
      "tensor([ 1.7988, -2.6150, -0.2567])\n",
      "tensor([2.2044, 3.6469, 0.6589], requires_grad=True)\n",
      "tensor([ 1.7838, -2.5934, -0.2540])\n",
      "tensor([2.2027, 3.6495, 0.6591], requires_grad=True)\n",
      "tensor([ 1.7690, -2.5720, -0.2514])\n",
      "tensor([2.2009, 3.6520, 0.6594], requires_grad=True)\n",
      "tensor([ 1.7543, -2.5508, -0.2487])\n",
      "tensor([2.1992, 3.6546, 0.6596], requires_grad=True)\n",
      "tensor([ 1.7397, -2.5297, -0.2461])\n",
      "tensor([2.1975, 3.6571, 0.6599], requires_grad=True)\n",
      "tensor([ 1.7253, -2.5088, -0.2435])\n",
      "tensor([2.1957, 3.6595, 0.6601], requires_grad=True)\n",
      "tensor([ 1.7110, -2.4881, -0.2410])\n",
      "tensor([2.1940, 3.6620, 0.6603], requires_grad=True)\n",
      "tensor([ 1.6967, -2.4676, -0.2384])\n",
      "tensor([2.1924, 3.6645, 0.6606], requires_grad=True)\n",
      "tensor([ 1.6827, -2.4472, -0.2359])\n",
      "tensor([2.1907, 3.6669, 0.6608], requires_grad=True)\n",
      "tensor([ 1.6687, -2.4270, -0.2334])\n",
      "tensor([2.1890, 3.6693, 0.6610], requires_grad=True)\n",
      "tensor([ 1.6548, -2.4070, -0.2309])\n",
      "tensor([2.1874, 3.6717, 0.6613], requires_grad=True)\n",
      "tensor([ 1.6411, -2.3871, -0.2284])\n",
      "tensor([2.1858, 3.6741, 0.6615], requires_grad=True)\n",
      "tensor([ 1.6274, -2.3674, -0.2260])\n",
      "tensor([2.1842, 3.6764, 0.6617], requires_grad=True)\n",
      "tensor([ 1.6139, -2.3479, -0.2235])\n",
      "tensor([2.1826, 3.6787, 0.6619], requires_grad=True)\n",
      "tensor([ 1.6005, -2.3285, -0.2211])\n",
      "tensor([2.1810, 3.6810, 0.6622], requires_grad=True)\n",
      "tensor([ 1.5872, -2.3093, -0.2187])\n",
      "tensor([2.1794, 3.6833, 0.6624], requires_grad=True)\n",
      "tensor([ 1.5740, -2.2902, -0.2164])\n",
      "tensor([2.1778, 3.6856, 0.6626], requires_grad=True)\n",
      "tensor([ 1.5609, -2.2713, -0.2140])\n",
      "tensor([2.1763, 3.6879, 0.6628], requires_grad=True)\n",
      "tensor([ 1.5479, -2.2526, -0.2117])\n",
      "tensor([2.1747, 3.6901, 0.6630], requires_grad=True)\n",
      "tensor([ 1.5351, -2.2340, -0.2094])\n",
      "tensor([2.1732, 3.6923, 0.6632], requires_grad=True)\n",
      "tensor([ 1.5223, -2.2156, -0.2071])\n",
      "tensor([2.1717, 3.6945, 0.6634], requires_grad=True)\n",
      "tensor([ 1.5097, -2.1973, -0.2048])\n",
      "tensor([2.1702, 3.6967, 0.6636], requires_grad=True)\n",
      "tensor([ 1.4971, -2.1792, -0.2026])\n",
      "tensor([2.1687, 3.6988, 0.6638], requires_grad=True)\n",
      "tensor([ 1.4847, -2.1612, -0.2004])\n",
      "tensor([2.1673, 3.7010, 0.6640], requires_grad=True)\n",
      "tensor([ 1.4723, -2.1434, -0.1982])\n",
      "tensor([2.1658, 3.7031, 0.6642], requires_grad=True)\n",
      "tensor([ 1.4601, -2.1257, -0.1960])\n",
      "tensor([2.1644, 3.7052, 0.6644], requires_grad=True)\n",
      "tensor([ 1.4480, -2.1082, -0.1938])\n",
      "tensor([2.1629, 3.7073, 0.6646], requires_grad=True)\n",
      "tensor([ 1.4359, -2.0908, -0.1916])\n",
      "tensor([2.1615, 3.7094, 0.6648], requires_grad=True)\n",
      "tensor([ 1.4240, -2.0736, -0.1895])\n",
      "tensor([2.1601, 3.7114, 0.6650], requires_grad=True)\n",
      "tensor([ 1.4121, -2.0565, -0.1874])\n",
      "tensor([2.1587, 3.7135, 0.6652], requires_grad=True)\n",
      "tensor([ 1.4004, -2.0395, -0.1853])\n",
      "tensor([2.1573, 3.7155, 0.6654], requires_grad=True)\n",
      "tensor([ 1.3887, -2.0227, -0.1832])\n",
      "tensor([2.1559, 3.7175, 0.6655], requires_grad=True)\n",
      "tensor([ 1.3772, -2.0060, -0.1811])\n",
      "tensor([2.1546, 3.7195, 0.6657], requires_grad=True)\n",
      "tensor([ 1.3657, -1.9895, -0.1791])\n",
      "tensor([2.1532, 3.7215, 0.6659], requires_grad=True)\n",
      "tensor([ 1.3544, -1.9731, -0.1770])\n",
      "tensor([2.1519, 3.7234, 0.6661], requires_grad=True)\n",
      "tensor([ 1.3431, -1.9568, -0.1750])\n",
      "tensor([2.1505, 3.7254, 0.6662], requires_grad=True)\n",
      "tensor([ 1.3320, -1.9407, -0.1730])\n",
      "tensor([2.1492, 3.7273, 0.6664], requires_grad=True)\n",
      "tensor([ 1.3209, -1.9247, -0.1710])\n",
      "tensor([2.1479, 3.7292, 0.6666], requires_grad=True)\n",
      "tensor([ 1.3099, -1.9088, -0.1691])\n",
      "tensor([2.1466, 3.7311, 0.6667], requires_grad=True)\n",
      "tensor([ 1.2990, -1.8931, -0.1671])\n",
      "tensor([2.1453, 3.7330, 0.6669], requires_grad=True)\n",
      "tensor([ 1.2882, -1.8775, -0.1652])\n",
      "tensor([2.1440, 3.7348, 0.6671], requires_grad=True)\n",
      "tensor([ 1.2775, -1.8620, -0.1633])\n",
      "tensor([2.1428, 3.7367, 0.6672], requires_grad=True)\n",
      "tensor([ 1.2669, -1.8467, -0.1614])\n",
      "tensor([2.1415, 3.7385, 0.6674], requires_grad=True)\n",
      "tensor([ 1.2563, -1.8315, -0.1595])\n",
      "tensor([2.1403, 3.7403, 0.6676], requires_grad=True)\n",
      "tensor([ 1.2459, -1.8164, -0.1576])\n",
      "tensor([2.1390, 3.7421, 0.6677], requires_grad=True)\n",
      "tensor([ 1.2355, -1.8014, -0.1558])\n",
      "tensor([2.1378, 3.7439, 0.6679], requires_grad=True)\n",
      "tensor([ 1.2252, -1.7866, -0.1539])\n",
      "tensor([2.1366, 3.7457, 0.6680], requires_grad=True)\n",
      "tensor([ 1.2150, -1.7718, -0.1521])\n",
      "tensor([2.1354, 3.7474, 0.6682], requires_grad=True)\n",
      "tensor([ 1.2049, -1.7572, -0.1503])\n",
      "tensor([2.1342, 3.7492, 0.6683], requires_grad=True)\n",
      "tensor([ 1.1949, -1.7428, -0.1485])\n",
      "tensor([2.1330, 3.7509, 0.6685], requires_grad=True)\n",
      "tensor([ 1.1850, -1.7284, -0.1468])\n",
      "tensor([2.1318, 3.7526, 0.6686], requires_grad=True)\n",
      "tensor([ 1.1751, -1.7142, -0.1450])\n",
      "tensor([2.1307, 3.7543, 0.6688], requires_grad=True)\n",
      "tensor([ 1.1653, -1.7001, -0.1432])\n",
      "tensor([2.1295, 3.7560, 0.6689], requires_grad=True)\n",
      "tensor([ 1.1556, -1.6861, -0.1415])\n",
      "tensor([2.1284, 3.7577, 0.6690], requires_grad=True)\n",
      "tensor([ 1.1460, -1.6722, -0.1398])\n",
      "tensor([2.1272, 3.7593, 0.6692], requires_grad=True)\n",
      "tensor([ 1.1365, -1.6584, -0.1381])\n",
      "tensor([2.1261, 3.7610, 0.6693], requires_grad=True)\n",
      "tensor([ 1.1270, -1.6447, -0.1364])\n",
      "tensor([2.1250, 3.7626, 0.6694], requires_grad=True)\n",
      "tensor([ 1.1176, -1.6312, -0.1347])\n",
      "tensor([2.1239, 3.7642, 0.6696], requires_grad=True)\n",
      "tensor([ 1.1083, -1.6178, -0.1331])\n",
      "tensor([2.1228, 3.7658, 0.6697], requires_grad=True)\n",
      "tensor([ 1.0991, -1.6044, -0.1314])\n",
      "tensor([2.1217, 3.7674, 0.6698], requires_grad=True)\n",
      "tensor([ 1.0899, -1.5912, -0.1298])\n",
      "tensor([2.1206, 3.7690, 0.6700], requires_grad=True)\n",
      "tensor([ 1.0809, -1.5781, -0.1282])\n",
      "tensor([2.1195, 3.7706, 0.6701], requires_grad=True)\n",
      "tensor([ 1.0719, -1.5652, -0.1266])\n",
      "tensor([2.1185, 3.7721, 0.6702], requires_grad=True)\n",
      "tensor([ 1.0629, -1.5523, -0.1250])\n",
      "tensor([2.1174, 3.7737, 0.6703], requires_grad=True)\n",
      "tensor([ 1.0541, -1.5395, -0.1234])\n",
      "tensor([2.1164, 3.7752, 0.6705], requires_grad=True)\n",
      "tensor([ 1.0453, -1.5268, -0.1218])\n",
      "tensor([2.1153, 3.7767, 0.6706], requires_grad=True)\n",
      "tensor([ 1.0366, -1.5142, -0.1203])\n",
      "tensor([2.1143, 3.7782, 0.6707], requires_grad=True)\n",
      "tensor([ 1.0280, -1.5018, -0.1188])\n",
      "tensor([2.1133, 3.7797, 0.6708], requires_grad=True)\n",
      "tensor([ 1.0194, -1.4894, -0.1172])\n",
      "tensor([2.1123, 3.7812, 0.6709], requires_grad=True)\n",
      "tensor([ 1.0109, -1.4772, -0.1157])\n",
      "tensor([2.1113, 3.7826, 0.6710], requires_grad=True)\n",
      "tensor([ 1.0025, -1.4650, -0.1142])\n",
      "tensor([2.1103, 3.7841, 0.6712], requires_grad=True)\n",
      "tensor([ 0.9942, -1.4530, -0.1127])\n",
      "tensor([2.1093, 3.7855, 0.6713], requires_grad=True)\n",
      "tensor([ 0.9859, -1.4410, -0.1113])\n",
      "tensor([2.1083, 3.7870, 0.6714], requires_grad=True)\n",
      "tensor([ 0.9777, -1.4292, -0.1098])\n",
      "tensor([2.1073, 3.7884, 0.6715], requires_grad=True)\n",
      "tensor([ 0.9696, -1.4174, -0.1084])\n",
      "tensor([2.1064, 3.7898, 0.6716], requires_grad=True)\n",
      "tensor([ 0.9615, -1.4057, -0.1069])\n",
      "tensor([2.1054, 3.7912, 0.6717], requires_grad=True)\n",
      "tensor([ 0.9535, -1.3942, -0.1055])\n",
      "tensor([2.1045, 3.7926, 0.6718], requires_grad=True)\n",
      "tensor([ 0.9455, -1.3827, -0.1041])\n",
      "tensor([2.1035, 3.7939, 0.6719], requires_grad=True)\n",
      "tensor([ 0.9377, -1.3713, -0.1027])\n",
      "tensor([2.1026, 3.7953, 0.6720], requires_grad=True)\n",
      "tensor([ 0.9299, -1.3601, -0.1013])\n",
      "tensor([2.1017, 3.7966, 0.6721], requires_grad=True)\n",
      "tensor([ 0.9221, -1.3489, -0.0999])\n",
      "tensor([2.1008, 3.7980, 0.6722], requires_grad=True)\n",
      "tensor([ 0.9144, -1.3378, -0.0985])\n",
      "tensor([2.0999, 3.7993, 0.6723], requires_grad=True)\n",
      "tensor([ 0.9068, -1.3268, -0.0972])\n",
      "tensor([2.0990, 3.8006, 0.6724], requires_grad=True)\n",
      "tensor([ 0.8993, -1.3159, -0.0958])\n",
      "tensor([2.0981, 3.8019, 0.6725], requires_grad=True)\n",
      "tensor([ 0.8918, -1.3051, -0.0945])\n",
      "tensor([2.0972, 3.8032, 0.6726], requires_grad=True)\n",
      "tensor([ 0.8844, -1.2943, -0.0932])\n",
      "tensor([2.0963, 3.8045, 0.6727], requires_grad=True)\n",
      "tensor([ 0.8770, -1.2837, -0.0919])\n",
      "tensor([2.0954, 3.8058, 0.6728], requires_grad=True)\n",
      "tensor([ 0.8697, -1.2731, -0.0906])\n",
      "tensor([2.0946, 3.8070, 0.6729], requires_grad=True)\n",
      "tensor([ 0.8624, -1.2627, -0.0893])\n",
      "tensor([2.0937, 3.8083, 0.6729], requires_grad=True)\n",
      "tensor([ 0.8553, -1.2523, -0.0880])\n",
      "tensor([2.0929, 3.8095, 0.6730], requires_grad=True)\n",
      "tensor([ 0.8481, -1.2420, -0.0868])\n",
      "tensor([2.0920, 3.8108, 0.6731], requires_grad=True)\n",
      "tensor([ 0.8411, -1.2318, -0.0855])\n",
      "tensor([2.0912, 3.8120, 0.6732], requires_grad=True)\n",
      "tensor([ 0.8341, -1.2217, -0.0843])\n",
      "tensor([2.0904, 3.8132, 0.6733], requires_grad=True)\n",
      "tensor([ 0.8271, -1.2116, -0.0830])\n",
      "tensor([2.0896, 3.8144, 0.6734], requires_grad=True)\n",
      "tensor([ 0.8202, -1.2017, -0.0818])\n",
      "tensor([2.0887, 3.8156, 0.6735], requires_grad=True)\n",
      "tensor([ 0.8134, -1.1918, -0.0806])\n",
      "tensor([2.0879, 3.8168, 0.6735], requires_grad=True)\n",
      "tensor([ 0.8066, -1.1820, -0.0794])\n",
      "tensor([2.0871, 3.8180, 0.6736], requires_grad=True)\n",
      "tensor([ 0.7999, -1.1723, -0.0782])\n",
      "tensor([2.0863, 3.8191, 0.6737], requires_grad=True)\n",
      "tensor([ 0.7932, -1.1627, -0.0770])\n",
      "tensor([2.0856, 3.8203, 0.6738], requires_grad=True)\n",
      "tensor([ 0.7866, -1.1531, -0.0758])\n",
      "tensor([2.0848, 3.8214, 0.6738], requires_grad=True)\n",
      "tensor([ 0.7801, -1.1437, -0.0747])\n",
      "tensor([2.0840, 3.8225, 0.6739], requires_grad=True)\n",
      "tensor([ 0.7735, -1.1343, -0.0735])\n",
      "tensor([2.0832, 3.8237, 0.6740], requires_grad=True)\n",
      "tensor([ 0.7671, -1.1250, -0.0724])\n",
      "tensor([2.0825, 3.8248, 0.6741], requires_grad=True)\n",
      "tensor([ 0.7607, -1.1157, -0.0712])\n",
      "tensor([2.0817, 3.8259, 0.6741], requires_grad=True)\n",
      "tensor([ 0.7544, -1.1066, -0.0701])\n",
      "tensor([2.0810, 3.8270, 0.6742], requires_grad=True)\n",
      "tensor([ 0.7481, -1.0975, -0.0690])\n",
      "tensor([2.0802, 3.8281, 0.6743], requires_grad=True)\n",
      "tensor([ 0.7418, -1.0885, -0.0679])\n",
      "tensor([2.0795, 3.8292, 0.6743], requires_grad=True)\n",
      "tensor([ 0.7356, -1.0796, -0.0668])\n",
      "tensor([2.0788, 3.8302, 0.6744], requires_grad=True)\n",
      "tensor([ 0.7295, -1.0707, -0.0657])\n",
      "tensor([2.0780, 3.8313, 0.6745], requires_grad=True)\n",
      "tensor([ 0.7234, -1.0619, -0.0646])\n",
      "tensor([2.0773, 3.8323, 0.6745], requires_grad=True)\n",
      "tensor([ 0.7174, -1.0532, -0.0636])\n",
      "tensor([2.0766, 3.8334, 0.6746], requires_grad=True)\n",
      "tensor([ 0.7114, -1.0446, -0.0625])\n",
      "tensor([2.0759, 3.8344, 0.6746], requires_grad=True)\n",
      "tensor([ 0.7055, -1.0360, -0.0615])\n",
      "tensor([2.0752, 3.8355, 0.6747], requires_grad=True)\n",
      "tensor([ 0.6996, -1.0275, -0.0604])\n",
      "tensor([2.0745, 3.8365, 0.6748], requires_grad=True)\n",
      "tensor([ 0.6938, -1.0191, -0.0594])\n",
      "tensor([2.0738, 3.8375, 0.6748], requires_grad=True)\n",
      "tensor([ 0.6880, -1.0107, -0.0584])\n",
      "tensor([2.0731, 3.8385, 0.6749], requires_grad=True)\n",
      "tensor([ 0.6822, -1.0024, -0.0574])\n",
      "tensor([2.0725, 3.8395, 0.6749], requires_grad=True)\n",
      "tensor([ 0.6765, -0.9942, -0.0564])\n",
      "tensor([2.0718, 3.8405, 0.6750], requires_grad=True)\n",
      "tensor([ 0.6709, -0.9861, -0.0554])\n",
      "tensor([2.0711, 3.8414, 0.6750], requires_grad=True)\n",
      "tensor([ 0.6653, -0.9780, -0.0544])\n",
      "tensor([2.0705, 3.8424, 0.6751], requires_grad=True)\n",
      "tensor([ 0.6597, -0.9700, -0.0534])\n",
      "tensor([2.0698, 3.8434, 0.6752], requires_grad=True)\n",
      "tensor([ 0.6542, -0.9620, -0.0524])\n",
      "tensor([2.0692, 3.8443, 0.6752], requires_grad=True)\n",
      "tensor([ 0.6488, -0.9541, -0.0515])\n",
      "tensor([2.0685, 3.8453, 0.6753], requires_grad=True)\n",
      "tensor([ 0.6434, -0.9463, -0.0505])\n",
      "tensor([2.0679, 3.8462, 0.6753], requires_grad=True)\n",
      "tensor([ 0.6380, -0.9385, -0.0496])\n",
      "tensor([2.0673, 3.8471, 0.6754], requires_grad=True)\n",
      "tensor([ 0.6327, -0.9308, -0.0486])\n",
      "tensor([2.0666, 3.8481, 0.6754], requires_grad=True)\n",
      "tensor([ 0.6274, -0.9232, -0.0477])\n",
      "tensor([2.0660, 3.8490, 0.6754], requires_grad=True)\n",
      "tensor([ 0.6222, -0.9157, -0.0468])\n",
      "tensor([2.0654, 3.8499, 0.6755], requires_grad=True)\n",
      "tensor([ 0.6170, -0.9082, -0.0458])\n",
      "tensor([2.0648, 3.8508, 0.6755], requires_grad=True)\n",
      "tensor([ 0.6118, -0.9007, -0.0449])\n",
      "tensor([2.0642, 3.8517, 0.6756], requires_grad=True)\n",
      "tensor([ 0.6067, -0.8933, -0.0440])\n",
      "tensor([2.0636, 3.8526, 0.6756], requires_grad=True)\n",
      "tensor([ 0.6016, -0.8860, -0.0431])\n",
      "tensor([2.0630, 3.8535, 0.6757], requires_grad=True)\n",
      "tensor([ 0.5966, -0.8788, -0.0423])\n",
      "tensor([2.0624, 3.8543, 0.6757], requires_grad=True)\n",
      "tensor([ 0.5916, -0.8716, -0.0414])\n",
      "tensor([2.0618, 3.8552, 0.6757], requires_grad=True)\n",
      "tensor([ 0.5867, -0.8644, -0.0405])\n",
      "tensor([2.0612, 3.8560, 0.6758], requires_grad=True)\n",
      "tensor([ 0.5818, -0.8574, -0.0397])\n",
      "tensor([2.0606, 3.8569, 0.6758], requires_grad=True)\n",
      "tensor([ 0.5770, -0.8503, -0.0388])\n",
      "tensor([2.0601, 3.8577, 0.6759], requires_grad=True)\n",
      "tensor([ 0.5721, -0.8434, -0.0379])\n",
      "tensor([2.0595, 3.8586, 0.6759], requires_grad=True)\n",
      "tensor([ 0.5673, -0.8365, -0.0371])\n",
      "tensor([2.0589, 3.8594, 0.6759], requires_grad=True)\n",
      "tensor([ 0.5626, -0.8296, -0.0363])\n",
      "tensor([2.0584, 3.8602, 0.6760], requires_grad=True)\n",
      "tensor([ 0.5579, -0.8229, -0.0355])\n",
      "tensor([2.0578, 3.8610, 0.6760], requires_grad=True)\n",
      "tensor([ 0.5532, -0.8161, -0.0346])\n",
      "tensor([2.0573, 3.8619, 0.6760], requires_grad=True)\n",
      "tensor([ 0.5486, -0.8094, -0.0338])\n",
      "tensor([2.0567, 3.8627, 0.6761], requires_grad=True)\n",
      "tensor([ 0.5440, -0.8028, -0.0330])\n",
      "tensor([2.0562, 3.8635, 0.6761], requires_grad=True)\n",
      "tensor([ 0.5395, -0.7963, -0.0322])\n",
      "tensor([2.0557, 3.8642, 0.6761], requires_grad=True)\n",
      "tensor([ 0.5350, -0.7897, -0.0314])\n",
      "tensor([2.0551, 3.8650, 0.6762], requires_grad=True)\n",
      "tensor([ 0.5305, -0.7833, -0.0306])\n",
      "tensor([2.0546, 3.8658, 0.6762], requires_grad=True)\n",
      "tensor([ 0.5261, -0.7769, -0.0299])\n",
      "tensor([2.0541, 3.8666, 0.6762], requires_grad=True)\n",
      "tensor([ 0.5217, -0.7705, -0.0291])\n",
      "tensor([2.0536, 3.8673, 0.6763], requires_grad=True)\n",
      "tensor([ 0.5173, -0.7642, -0.0283])\n",
      "tensor([2.0530, 3.8681, 0.6763], requires_grad=True)\n",
      "tensor([ 0.5130, -0.7580, -0.0276])\n",
      "tensor([2.0525, 3.8688, 0.6763], requires_grad=True)\n",
      "tensor([ 0.5087, -0.7518, -0.0268])\n",
      "tensor([2.0520, 3.8696, 0.6763], requires_grad=True)\n",
      "tensor([ 0.5044, -0.7457, -0.0261])\n",
      "tensor([2.0515, 3.8703, 0.6764], requires_grad=True)\n",
      "tensor([ 0.5002, -0.7396, -0.0253])\n",
      "tensor([2.0510, 3.8711, 0.6764], requires_grad=True)\n",
      "tensor([ 0.4960, -0.7335, -0.0246])\n",
      "tensor([2.0505, 3.8718, 0.6764], requires_grad=True)\n",
      "tensor([ 0.4919, -0.7275, -0.0239])\n",
      "tensor([2.0501, 3.8725, 0.6764], requires_grad=True)\n",
      "tensor([ 0.4878, -0.7216, -0.0232])\n",
      "tensor([2.0496, 3.8732, 0.6765], requires_grad=True)\n",
      "tensor([ 0.4837, -0.7157, -0.0224])\n",
      "tensor([2.0491, 3.8739, 0.6765], requires_grad=True)\n",
      "tensor([ 0.4797, -0.7098, -0.0217])\n",
      "tensor([2.0486, 3.8746, 0.6765], requires_grad=True)\n",
      "tensor([ 0.4757, -0.7041, -0.0210])\n",
      "tensor([2.0481, 3.8753, 0.6765], requires_grad=True)\n",
      "tensor([ 0.4717, -0.6983, -0.0203])\n",
      "tensor([2.0477, 3.8760, 0.6765], requires_grad=True)\n",
      "tensor([ 0.4677, -0.6926, -0.0196])\n",
      "tensor([2.0472, 3.8767, 0.6766], requires_grad=True)\n",
      "tensor([ 0.4638, -0.6870, -0.0190])\n",
      "tensor([2.0468, 3.8774, 0.6766], requires_grad=True)\n",
      "tensor([ 0.4600, -0.6813, -0.0183])\n",
      "tensor([2.0463, 3.8781, 0.6766], requires_grad=True)\n",
      "tensor([ 0.4561, -0.6758, -0.0176])\n",
      "tensor([2.0458, 3.8788, 0.6766], requires_grad=True)\n",
      "tensor([ 0.4523, -0.6703, -0.0169])\n",
      "tensor([2.0454, 3.8794, 0.6766], requires_grad=True)\n",
      "tensor([ 0.4485, -0.6648, -0.0163])\n",
      "tensor([2.0449, 3.8801, 0.6766], requires_grad=True)\n",
      "tensor([ 0.4448, -0.6594, -0.0156])\n",
      "tensor([2.0445, 3.8807, 0.6767], requires_grad=True)\n",
      "tensor([ 0.4410, -0.6540, -0.0150])\n",
      "tensor([2.0441, 3.8814, 0.6767], requires_grad=True)\n",
      "tensor([ 0.4374, -0.6487, -0.0143])\n",
      "tensor([2.0436, 3.8820, 0.6767], requires_grad=True)\n",
      "tensor([ 0.4337, -0.6434, -0.0137])\n",
      "tensor([2.0432, 3.8827, 0.6767], requires_grad=True)\n",
      "tensor([ 0.4301, -0.6381, -0.0131])\n",
      "tensor([2.0428, 3.8833, 0.6767], requires_grad=True)\n",
      "tensor([ 0.4265, -0.6329, -0.0124])\n",
      "tensor([2.0424, 3.8839, 0.6767], requires_grad=True)\n",
      "tensor([ 0.4229, -0.6278, -0.0118])\n",
      "tensor([2.0419, 3.8845, 0.6767], requires_grad=True)\n",
      "tensor([ 0.4193, -0.6227, -0.0112])\n",
      "tensor([2.0415, 3.8852, 0.6767], requires_grad=True)\n",
      "tensor([ 0.4158, -0.6176, -0.0106])\n",
      "tensor([2.0411, 3.8858, 0.6768], requires_grad=True)\n",
      "tensor([ 0.4124, -0.6126, -0.0100])\n",
      "tensor([2.0407, 3.8864, 0.6768], requires_grad=True)\n",
      "tensor([ 0.4089, -0.6076, -0.0094])\n",
      "tensor([2.0403, 3.8870, 0.6768], requires_grad=True)\n",
      "tensor([ 0.4055, -0.6026, -0.0088])\n",
      "tensor([2.0399, 3.8876, 0.6768], requires_grad=True)\n",
      "tensor([ 0.4021, -0.5977, -0.0082])\n",
      "tensor([2.0395, 3.8882, 0.6768], requires_grad=True)\n",
      "tensor([ 0.3987, -0.5928, -0.0076])\n",
      "tensor([2.0391, 3.8888, 0.6768], requires_grad=True)\n",
      "tensor([ 0.3954, -0.5880, -0.0070])\n",
      "tensor([2.0387, 3.8893, 0.6768], requires_grad=True)\n",
      "tensor([ 0.3921, -0.5832, -0.0065])\n",
      "tensor([2.0383, 3.8899, 0.6768], requires_grad=True)\n",
      "tensor([ 0.3888, -0.5785, -0.0059])\n",
      "tensor([2.0379, 3.8905, 0.6768], requires_grad=True)\n",
      "tensor([ 0.3855, -0.5738, -0.0053])\n",
      "tensor([2.0376, 3.8911, 0.6768], requires_grad=True)\n",
      "tensor([ 0.3823, -0.5691, -0.0048])\n",
      "tensor([2.0372, 3.8916, 0.6768], requires_grad=True)\n",
      "tensor([ 0.3791, -0.5645, -0.0042])\n",
      "tensor([2.0368, 3.8922, 0.6768], requires_grad=True)\n",
      "tensor([ 0.3759, -0.5599, -0.0036])\n",
      "tensor([2.0364, 3.8927, 0.6768], requires_grad=True)\n",
      "tensor([ 0.3728, -0.5553, -0.0031])\n",
      "tensor([2.0361, 3.8933, 0.6768], requires_grad=True)\n",
      "tensor([ 0.3696, -0.5508, -0.0026])\n",
      "tensor([2.0357, 3.8938, 0.6768], requires_grad=True)\n",
      "tensor([ 0.3665, -0.5463, -0.0020])\n",
      "tensor([2.0353, 3.8944, 0.6768], requires_grad=True)\n",
      "tensor([ 0.3635, -0.5419, -0.0015])\n",
      "tensor([2.0350, 3.8949, 0.6768], requires_grad=True)\n",
      "tensor([ 0.3604, -0.5375, -0.0010])\n",
      "tensor([2.0346, 3.8955, 0.6768], requires_grad=True)\n",
      "tensor([ 3.5739e-01, -5.3312e-01, -4.4600e-04])\n",
      "tensor([2.0343, 3.8960, 0.6768], requires_grad=True)\n",
      "tensor([ 3.5440e-01, -5.2879e-01,  7.2870e-05])\n",
      "tensor([2.0339, 3.8965, 0.6768], requires_grad=True)\n",
      "tensor([ 0.3514, -0.5245,  0.0006])\n",
      "tensor([2.0336, 3.8970, 0.6768], requires_grad=True)\n",
      "tensor([ 0.3485, -0.5202,  0.0011])\n",
      "tensor([2.0332, 3.8975, 0.6768], requires_grad=True)\n",
      "tensor([ 0.3456, -0.5160,  0.0016])\n",
      "tensor([2.0329, 3.8981, 0.6768], requires_grad=True)\n",
      "tensor([ 0.3427, -0.5118,  0.0021])\n",
      "tensor([2.0325, 3.8986, 0.6768], requires_grad=True)\n",
      "tensor([ 0.3398, -0.5077,  0.0026])\n",
      "tensor([2.0322, 3.8991, 0.6768], requires_grad=True)\n",
      "tensor([ 0.3369, -0.5035,  0.0031])\n",
      "tensor([2.0319, 3.8996, 0.6768], requires_grad=True)\n",
      "tensor([ 0.3341, -0.4994,  0.0036])\n",
      "tensor([2.0315, 3.9001, 0.6768], requires_grad=True)\n",
      "tensor([ 0.3313, -0.4954,  0.0041])\n",
      "tensor([2.0312, 3.9006, 0.6768], requires_grad=True)\n",
      "tensor([ 0.3285, -0.4914,  0.0045])\n",
      "tensor([2.0309, 3.9010, 0.6768], requires_grad=True)\n",
      "tensor([ 0.3258, -0.4874,  0.0050])\n",
      "tensor([2.0305, 3.9015, 0.6768], requires_grad=True)\n",
      "tensor([ 0.3230, -0.4834,  0.0055])\n",
      "tensor([2.0302, 3.9020, 0.6768], requires_grad=True)\n",
      "tensor([ 0.3203, -0.4795,  0.0060])\n",
      "tensor([2.0299, 3.9025, 0.6768], requires_grad=True)\n",
      "tensor([ 0.3176, -0.4756,  0.0064])\n",
      "tensor([2.0296, 3.9030, 0.6768], requires_grad=True)\n",
      "tensor([ 0.3150, -0.4718,  0.0069])\n",
      "tensor([2.0293, 3.9034, 0.6768], requires_grad=True)\n",
      "tensor([ 0.3123, -0.4680,  0.0073])\n",
      "tensor([2.0290, 3.9039, 0.6768], requires_grad=True)\n",
      "tensor([ 0.3097, -0.4642,  0.0078])\n",
      "tensor([2.0287, 3.9043, 0.6768], requires_grad=True)\n",
      "tensor([ 0.3071, -0.4604,  0.0082])\n",
      "tensor([2.0284, 3.9048, 0.6768], requires_grad=True)\n",
      "tensor([ 0.3045, -0.4567,  0.0087])\n",
      "tensor([2.0281, 3.9053, 0.6767], requires_grad=True)\n",
      "tensor([ 0.3020, -0.4530,  0.0091])\n",
      "tensor([2.0278, 3.9057, 0.6767], requires_grad=True)\n",
      "tensor([ 0.2994, -0.4493,  0.0095])\n",
      "tensor([2.0275, 3.9061, 0.6767], requires_grad=True)\n",
      "tensor([ 0.2969, -0.4457,  0.0100])\n",
      "tensor([2.0272, 3.9066, 0.6767], requires_grad=True)\n",
      "tensor([ 0.2944, -0.4421,  0.0104])\n",
      "tensor([2.0269, 3.9070, 0.6767], requires_grad=True)\n",
      "tensor([ 0.2919, -0.4385,  0.0108])\n",
      "tensor([2.0266, 3.9075, 0.6767], requires_grad=True)\n",
      "tensor([ 0.2895, -0.4349,  0.0112])\n",
      "tensor([2.0263, 3.9079, 0.6767], requires_grad=True)\n",
      "tensor([ 0.2870, -0.4314,  0.0117])\n",
      "tensor([2.0260, 3.9083, 0.6767], requires_grad=True)\n",
      "tensor([ 0.2846, -0.4279,  0.0121])\n",
      "tensor([2.0257, 3.9087, 0.6767], requires_grad=True)\n",
      "tensor([ 0.2822, -0.4245,  0.0125])\n",
      "tensor([2.0255, 3.9092, 0.6766], requires_grad=True)\n",
      "tensor([ 0.2799, -0.4210,  0.0129])\n",
      "tensor([2.0252, 3.9096, 0.6766], requires_grad=True)\n",
      "tensor([ 0.2775, -0.4176,  0.0133])\n",
      "tensor([2.0249, 3.9100, 0.6766], requires_grad=True)\n",
      "tensor([ 0.2752, -0.4143,  0.0137])\n",
      "tensor([2.0246, 3.9104, 0.6766], requires_grad=True)\n",
      "tensor([ 0.2729, -0.4109,  0.0141])\n",
      "tensor([2.0244, 3.9108, 0.6766], requires_grad=True)\n",
      "tensor([ 0.2706, -0.4076,  0.0145])\n",
      "tensor([2.0241, 3.9112, 0.6766], requires_grad=True)\n",
      "tensor([ 0.2683, -0.4043,  0.0149])\n",
      "tensor([2.0238, 3.9116, 0.6766], requires_grad=True)\n",
      "tensor([ 0.2660, -0.4010,  0.0153])\n",
      "tensor([2.0236, 3.9120, 0.6765], requires_grad=True)\n",
      "tensor([ 0.2638, -0.3978,  0.0156])\n",
      "tensor([2.0233, 3.9124, 0.6765], requires_grad=True)\n",
      "tensor([ 0.2616, -0.3946,  0.0160])\n",
      "tensor([2.0230, 3.9128, 0.6765], requires_grad=True)\n",
      "tensor([ 0.2594, -0.3914,  0.0164])\n",
      "tensor([2.0228, 3.9132, 0.6765], requires_grad=True)\n",
      "tensor([ 0.2572, -0.3882,  0.0168])\n",
      "tensor([2.0225, 3.9136, 0.6765], requires_grad=True)\n",
      "tensor([ 0.2550, -0.3851,  0.0171])\n",
      "tensor([2.0223, 3.9140, 0.6765], requires_grad=True)\n",
      "tensor([ 0.2529, -0.3820,  0.0175])\n",
      "tensor([2.0220, 3.9143, 0.6764], requires_grad=True)\n",
      "tensor([ 0.2507, -0.3789,  0.0178])\n",
      "tensor([2.0218, 3.9147, 0.6764], requires_grad=True)\n",
      "tensor([ 0.2486, -0.3759,  0.0182])\n",
      "tensor([2.0215, 3.9151, 0.6764], requires_grad=True)\n",
      "tensor([ 0.2465, -0.3729,  0.0186])\n",
      "tensor([2.0213, 3.9155, 0.6764], requires_grad=True)\n",
      "tensor([ 0.2444, -0.3698,  0.0189])\n",
      "tensor([2.0210, 3.9158, 0.6764], requires_grad=True)\n",
      "tensor([ 0.2424, -0.3669,  0.0193])\n",
      "tensor([2.0208, 3.9162, 0.6763], requires_grad=True)\n",
      "tensor([ 0.2403, -0.3639,  0.0196])\n",
      "tensor([2.0206, 3.9166, 0.6763], requires_grad=True)\n",
      "tensor([ 0.2383, -0.3610,  0.0199])\n",
      "tensor([2.0203, 3.9169, 0.6763], requires_grad=True)\n",
      "tensor([ 0.2363, -0.3581,  0.0203])\n",
      "tensor([2.0201, 3.9173, 0.6763], requires_grad=True)\n",
      "tensor([ 0.2343, -0.3552,  0.0206])\n",
      "tensor([2.0199, 3.9176, 0.6763], requires_grad=True)\n",
      "tensor([ 0.2323, -0.3523,  0.0210])\n",
      "tensor([2.0196, 3.9180, 0.6762], requires_grad=True)\n",
      "tensor([ 0.2304, -0.3495,  0.0213])\n",
      "tensor([2.0194, 3.9183, 0.6762], requires_grad=True)\n",
      "tensor([ 0.2284, -0.3467,  0.0216])\n",
      "tensor([2.0192, 3.9187, 0.6762], requires_grad=True)\n",
      "tensor([ 0.2265, -0.3439,  0.0219])\n",
      "tensor([2.0189, 3.9190, 0.6762], requires_grad=True)\n",
      "tensor([ 0.2246, -0.3411,  0.0223])\n",
      "tensor([2.0187, 3.9193, 0.6762], requires_grad=True)\n",
      "tensor([ 0.2227, -0.3384,  0.0226])\n",
      "tensor([2.0185, 3.9197, 0.6761], requires_grad=True)\n",
      "tensor([ 0.2208, -0.3357,  0.0229])\n",
      "tensor([2.0183, 3.9200, 0.6761], requires_grad=True)\n",
      "tensor([ 0.2190, -0.3330,  0.0232])\n",
      "tensor([2.0181, 3.9203, 0.6761], requires_grad=True)\n",
      "tensor([ 0.2171, -0.3303,  0.0235])\n",
      "tensor([2.0179, 3.9207, 0.6761], requires_grad=True)\n",
      "tensor([ 0.2153, -0.3277,  0.0238])\n",
      "tensor([2.0176, 3.9210, 0.6760], requires_grad=True)\n",
      "tensor([ 0.2135, -0.3250,  0.0241])\n",
      "tensor([2.0174, 3.9213, 0.6760], requires_grad=True)\n",
      "tensor([ 0.2117, -0.3224,  0.0244])\n",
      "tensor([2.0172, 3.9216, 0.6760], requires_grad=True)\n",
      "tensor([ 0.2099, -0.3198,  0.0247])\n",
      "tensor([2.0170, 3.9219, 0.6760], requires_grad=True)\n",
      "tensor([ 0.2081, -0.3173,  0.0250])\n",
      "tensor([2.0168, 3.9223, 0.6759], requires_grad=True)\n",
      "tensor([ 0.2063, -0.3147,  0.0253])\n",
      "tensor([2.0166, 3.9226, 0.6759], requires_grad=True)\n",
      "tensor([ 0.2046, -0.3122,  0.0256])\n",
      "tensor([2.0164, 3.9229, 0.6759], requires_grad=True)\n",
      "tensor([ 0.2029, -0.3097,  0.0259])\n",
      "tensor([2.0162, 3.9232, 0.6759], requires_grad=True)\n",
      "tensor([ 0.2012, -0.3072,  0.0262])\n",
      "tensor([2.0160, 3.9235, 0.6758], requires_grad=True)\n",
      "tensor([ 0.1995, -0.3047,  0.0265])\n",
      "tensor([2.0158, 3.9238, 0.6758], requires_grad=True)\n",
      "tensor([ 0.1978, -0.3023,  0.0268])\n",
      "tensor([2.0156, 3.9241, 0.6758], requires_grad=True)\n",
      "tensor([ 0.1961, -0.2999,  0.0270])\n",
      "tensor([2.0154, 3.9244, 0.6758], requires_grad=True)\n",
      "tensor([ 0.1944, -0.2975,  0.0273])\n",
      "tensor([2.0152, 3.9247, 0.6757], requires_grad=True)\n",
      "tensor([ 0.1928, -0.2951,  0.0276])\n",
      "tensor([2.0150, 3.9250, 0.6757], requires_grad=True)\n",
      "tensor([ 0.1912, -0.2927,  0.0279])\n",
      "tensor([2.0148, 3.9253, 0.6757], requires_grad=True)\n",
      "tensor([ 0.1895, -0.2904,  0.0281])\n",
      "tensor([2.0146, 3.9256, 0.6756], requires_grad=True)\n",
      "tensor([ 0.1879, -0.2881,  0.0284])\n",
      "tensor([2.0145, 3.9258, 0.6756], requires_grad=True)\n",
      "tensor([ 0.1863, -0.2858,  0.0287])\n",
      "tensor([2.0143, 3.9261, 0.6756], requires_grad=True)\n",
      "tensor([ 0.1848, -0.2835,  0.0289])\n",
      "tensor([2.0141, 3.9264, 0.6756], requires_grad=True)\n",
      "tensor([ 0.1832, -0.2812,  0.0292])\n",
      "tensor([2.0139, 3.9267, 0.6755], requires_grad=True)\n",
      "tensor([ 0.1817, -0.2790,  0.0294])\n",
      "tensor([2.0137, 3.9270, 0.6755], requires_grad=True)\n",
      "tensor([ 0.1801, -0.2767,  0.0297])\n",
      "tensor([2.0135, 3.9272, 0.6755], requires_grad=True)\n",
      "tensor([ 0.1786, -0.2745,  0.0300])\n",
      "tensor([2.0134, 3.9275, 0.6754], requires_grad=True)\n",
      "tensor([ 0.1771, -0.2723,  0.0302])\n",
      "tensor([2.0132, 3.9278, 0.6754], requires_grad=True)\n",
      "tensor([ 0.1756, -0.2702,  0.0305])\n",
      "tensor([2.0130, 3.9281, 0.6754], requires_grad=True)\n",
      "tensor([ 0.1741, -0.2680,  0.0307])\n",
      "tensor([2.0128, 3.9283, 0.6753], requires_grad=True)\n",
      "tensor([ 0.1726, -0.2659,  0.0309])\n",
      "tensor([2.0127, 3.9286, 0.6753], requires_grad=True)\n",
      "tensor([ 0.1711, -0.2638,  0.0312])\n",
      "tensor([2.0125, 3.9288, 0.6753], requires_grad=True)\n",
      "tensor([ 0.1697, -0.2617,  0.0314])\n",
      "tensor([2.0123, 3.9291, 0.6752], requires_grad=True)\n",
      "tensor([ 0.1683, -0.2596,  0.0317])\n",
      "tensor([2.0122, 3.9294, 0.6752], requires_grad=True)\n",
      "tensor([ 0.1668, -0.2575,  0.0319])\n",
      "tensor([2.0120, 3.9296, 0.6752], requires_grad=True)\n",
      "tensor([ 0.1654, -0.2555,  0.0321])\n",
      "tensor([2.0118, 3.9299, 0.6751], requires_grad=True)\n",
      "tensor([ 0.1640, -0.2534,  0.0324])\n",
      "tensor([2.0117, 3.9301, 0.6751], requires_grad=True)\n",
      "tensor([ 0.1626, -0.2514,  0.0326])\n",
      "tensor([2.0115, 3.9304, 0.6751], requires_grad=True)\n",
      "tensor([ 0.1612, -0.2494,  0.0328])\n",
      "tensor([2.0114, 3.9306, 0.6751], requires_grad=True)\n",
      "tensor([ 0.1599, -0.2474,  0.0330])\n",
      "tensor([2.0112, 3.9309, 0.6750], requires_grad=True)\n",
      "tensor([ 0.1585, -0.2455,  0.0333])\n",
      "tensor([2.0110, 3.9311, 0.6750], requires_grad=True)\n",
      "tensor([ 0.1572, -0.2435,  0.0335])\n",
      "tensor([2.0109, 3.9314, 0.6750], requires_grad=True)\n",
      "tensor([ 0.1558, -0.2416,  0.0337])\n",
      "tensor([2.0107, 3.9316, 0.6749], requires_grad=True)\n",
      "tensor([ 0.1545, -0.2397,  0.0339])\n",
      "tensor([2.0106, 3.9318, 0.6749], requires_grad=True)\n",
      "tensor([ 0.1532, -0.2378,  0.0341])\n",
      "tensor([2.0104, 3.9321, 0.6748], requires_grad=True)\n",
      "tensor([ 0.1519, -0.2359,  0.0343])\n",
      "tensor([2.0103, 3.9323, 0.6748], requires_grad=True)\n",
      "tensor([ 0.1506, -0.2340,  0.0345])\n",
      "tensor([2.0101, 3.9325, 0.6748], requires_grad=True)\n",
      "tensor([ 0.1493, -0.2322,  0.0348])\n",
      "tensor([2.0100, 3.9328, 0.6747], requires_grad=True)\n",
      "tensor([ 0.1480, -0.2303,  0.0350])\n",
      "tensor([2.0098, 3.9330, 0.6747], requires_grad=True)\n",
      "tensor([ 0.1468, -0.2285,  0.0352])\n",
      "tensor([2.0097, 3.9332, 0.6747], requires_grad=True)\n",
      "tensor([ 0.1455, -0.2267,  0.0354])\n",
      "tensor([2.0095, 3.9334, 0.6746], requires_grad=True)\n",
      "tensor([ 0.1443, -0.2249,  0.0356])\n",
      "tensor([2.0094, 3.9337, 0.6746], requires_grad=True)\n",
      "tensor([ 0.1431, -0.2231,  0.0358])\n",
      "tensor([2.0093, 3.9339, 0.6746], requires_grad=True)\n",
      "tensor([ 0.1418, -0.2213,  0.0360])\n",
      "tensor([2.0091, 3.9341, 0.6745], requires_grad=True)\n",
      "tensor([ 0.1406, -0.2196,  0.0362])\n",
      "tensor([2.0090, 3.9343, 0.6745], requires_grad=True)\n",
      "tensor([ 0.1394, -0.2179,  0.0364])\n",
      "tensor([2.0088, 3.9345, 0.6745], requires_grad=True)\n",
      "tensor([ 0.1382, -0.2161,  0.0365])\n",
      "tensor([2.0087, 3.9348, 0.6744], requires_grad=True)\n",
      "tensor([ 0.1371, -0.2144,  0.0367])\n",
      "tensor([2.0086, 3.9350, 0.6744], requires_grad=True)\n",
      "tensor([ 0.1359, -0.2127,  0.0369])\n",
      "tensor([2.0084, 3.9352, 0.6743], requires_grad=True)\n",
      "tensor([ 0.1347, -0.2111,  0.0371])\n",
      "tensor([2.0083, 3.9354, 0.6743], requires_grad=True)\n",
      "tensor([ 0.1336, -0.2094,  0.0373])\n",
      "tensor([2.0082, 3.9356, 0.6743], requires_grad=True)\n",
      "tensor([ 0.1324, -0.2077,  0.0375])\n",
      "tensor([2.0080, 3.9358, 0.6742], requires_grad=True)\n",
      "tensor([ 0.1313, -0.2061,  0.0377])\n"
     ]
    }
   ],
   "execution_count": 32
  },
  {
   "cell_type": "code",
   "metadata": {
    "ExecuteTime": {
     "end_time": "2025-03-12T13:24:52.243545500Z",
     "start_time": "2025-03-12T09:37:22.798313Z"
    }
   },
   "source": [
    "#GT Rozwiazanie - jak je znaleźć?\n",
    "np.array(potatoes_kg_ordered)*2 + np.array(tomatoes_kg_ordered)*4 + 0.5"
   ],
   "outputs": [
    {
     "data": {
      "text/plain": [
       "array([22.5, 14.5, 26.5, 10.5, 28.5, 24.5, 40.5, 36.5, 18.5, 10.5, 16.5,\n",
       "        4.5])"
      ]
     },
     "execution_count": 33,
     "metadata": {},
     "output_type": "execute_result"
    }
   ],
   "execution_count": 33
  },
  {
   "metadata": {
    "ExecuteTime": {
     "end_time": "2025-03-12T13:24:52.243545500Z",
     "start_time": "2025-03-12T09:37:33.242324Z"
    }
   },
   "cell_type": "code",
   "source": [
    "prices_pred = X@params\n",
    "print(f'{prices_pred}')"
   ],
   "outputs": [
    {
     "name": "stdout",
     "output_type": "stream",
     "text": [
      "tensor([22.3613, 14.5699, 26.5379, 10.6341, 28.6262, 24.5299, 40.3533, 36.2570,\n",
      "        18.5057, 10.5539, 16.4977,  4.6100], grad_fn=<MvBackward0>)\n"
     ]
    }
   ],
   "execution_count": 35
  },
  {
   "cell_type": "markdown",
   "metadata": {},
   "source": [
    "# LAB 2 - Tworzenie architektury i przygotowanie danych"
   ]
  },
  {
   "cell_type": "code",
   "metadata": {
    "ExecuteTime": {
     "end_time": "2025-03-12T13:24:52.243545500Z",
     "start_time": "2025-03-12T09:37:43.983614Z"
    }
   },
   "source": [
    "import torch\n",
    "import numpy as np\n",
    "import time\n",
    "import math\n",
    "import matplotlib.pyplot as plt"
   ],
   "outputs": [],
   "execution_count": 36
  },
  {
   "cell_type": "markdown",
   "metadata": {},
   "source": [
    "## GPU"
   ]
  },
  {
   "cell_type": "markdown",
   "metadata": {},
   "source": [
    "Jednym z kluczowych udogodnień pytorcha jest możliwość szybkiego i prostego przenoszenia obliczeń między CPU a GPU"
   ]
  },
  {
   "cell_type": "code",
   "metadata": {
    "ExecuteTime": {
     "end_time": "2025-03-12T13:24:52.243545500Z",
     "start_time": "2025-03-12T09:37:49.189924Z"
    }
   },
   "source": [
    "torch.cuda.is_available()"
   ],
   "outputs": [
    {
     "data": {
      "text/plain": [
       "True"
      ]
     },
     "execution_count": 37,
     "metadata": {},
     "output_type": "execute_result"
    }
   ],
   "execution_count": 37
  },
  {
   "cell_type": "code",
   "metadata": {
    "ExecuteTime": {
     "end_time": "2025-03-12T13:27:35.690452Z",
     "start_time": "2025-03-12T13:27:35.685123Z"
    }
   },
   "source": [
    "device = torch.device(\"cuda\") \n",
    "device"
   ],
   "outputs": [
    {
     "data": {
      "text/plain": [
       "device(type='cuda')"
      ]
     },
     "execution_count": 40,
     "metadata": {},
     "output_type": "execute_result"
    }
   ],
   "execution_count": 40
  },
  {
   "cell_type": "code",
   "metadata": {
    "ExecuteTime": {
     "end_time": "2025-03-12T13:24:52.259424400Z",
     "start_time": "2025-03-12T09:37:55.527636Z"
    }
   },
   "source": [
    "x = torch.zeros(2, 3)\n",
    "print(\"X\", x)\n",
    "x = x.to(device)\n",
    "print(\"X\", x)"
   ],
   "outputs": [
    {
     "name": "stdout",
     "output_type": "stream",
     "text": [
      "X tensor([[0., 0., 0.],\n",
      "        [0., 0., 0.]])\n",
      "X tensor([[0., 0., 0.],\n",
      "        [0., 0., 0.]], device='cuda:0')\n"
     ]
    }
   ],
   "execution_count": 39
  },
  {
   "cell_type": "markdown",
   "metadata": {},
   "source": [
    "#### Co nam to daje?"
   ]
  },
  {
   "cell_type": "code",
   "execution_count": 6,
   "metadata": {
    "ExecuteTime": {
     "end_time": "2025-03-12T13:24:52.259424400Z",
     "start_time": "2021-10-15T06:30:02.344191Z"
    }
   },
   "outputs": [
    {
     "name": "stdout",
     "output_type": "stream",
     "text": [
      "CPU time: 0.18913s\n",
      "GPU time: 0.00015s\n"
     ]
    }
   ],
   "source": [
    "x = torch.randn(5000, 5000)\n",
    "\n",
    "## CPU version\n",
    "start_time = time.time()\n",
    "_ = torch.matmul(x, x)\n",
    "end_time = time.time()\n",
    "print(f\"CPU time: {(end_time - start_time):6.5f}s\")\n",
    "\n",
    "## GPU version\n",
    "x = x.to(device)\n",
    "# The first operation on a CUDA device can be slow as it has to establish a CPU-GPU communication first. \n",
    "# Hence, we run an arbitrary command first without timing it for a fair comparison.\n",
    "_ = torch.matmul(x*0.0, x)\n",
    "start_time = time.time()\n",
    "_ = torch.matmul(x, x)\n",
    "end_time = time.time()\n",
    "print(f\"GPU time: {(end_time - start_time):6.5f}s\")"
   ]
  },
  {
   "cell_type": "markdown",
   "metadata": {},
   "source": [
    "#### Ciąg komend do zapisania\n",
    "Losowość jest bardzo ważnym elementem trenowania sieci neuronowych (o czym się wkrótce przekonamy). Eksperymentując, chcielibyśmy jednak żeby przy każdym uruchomieniu programu, wynik był taki sam. Tylko w takim przypadku jesteśmy w stanie coś wnioskować. Do zapewnienia możliwości reprodukcji wyników na GPU za pomocą pytorcha służa poniższe komendy:"
   ]
  },
  {
   "cell_type": "code",
   "metadata": {
    "ExecuteTime": {
     "end_time": "2025-03-12T13:24:52.259424400Z",
     "start_time": "2025-03-12T09:39:24.484239Z"
    }
   },
   "source": [
    "# GPU operations have a separate seed we also want to set\n",
    "if torch.cuda.is_available(): \n",
    "    torch.cuda.manual_seed(42)\n",
    "    torch.cuda.manual_seed_all(42)\n",
    "    \n",
    "# Additionally, some operations on a GPU are implemented stochastic for efficiency\n",
    "# We want to ensure that all operations are deterministic on GPU (if used) for reproducibility\n",
    "torch.backends.cudnn.determinstic = True\n",
    "torch.backends.cudnn.benchmark = False"
   ],
   "outputs": [],
   "execution_count": 40
  },
  {
   "cell_type": "markdown",
   "metadata": {},
   "source": [
    "## Tworzenie modeli\n",
    "Tworzymy tensory z parametrami, wagi i biasy, obliczamy gradienty, aktualizujemy parametry itd.\n",
    "lub\n",
    "wykorzystujemy torch.nn"
   ]
  },
  {
   "cell_type": "markdown",
   "metadata": {},
   "source": [
    "W torch.nn możemy znaleźć wiele przydatnych predefiniowanych klas jak wagi sieci, funkcje aktywacji, funkcje straty, optymalizacja itp. Jeszcze raz, dokumentacja jest fajna: https://pytorch.org/docs/stable/nn.html"
   ]
  },
  {
   "cell_type": "code",
   "metadata": {
    "ExecuteTime": {
     "end_time": "2025-03-12T13:26:15.928719Z",
     "start_time": "2025-03-12T13:26:15.911343Z"
    }
   },
   "source": [
    "import torch.nn as nn"
   ],
   "outputs": [],
   "execution_count": 31
  },
  {
   "cell_type": "markdown",
   "metadata": {},
   "source": [
    "Dodatkowo, funkcje wykorzystywane w budowaniu sieci znajdują się w module torch.nn.functionl"
   ]
  },
  {
   "cell_type": "code",
   "metadata": {
    "ExecuteTime": {
     "end_time": "2025-03-12T13:26:14.121618Z",
     "start_time": "2025-03-12T13:26:14.117345Z"
    }
   },
   "source": [
    "import torch.nn.functional as F"
   ],
   "outputs": [],
   "execution_count": 30
  },
  {
   "cell_type": "markdown",
   "metadata": {},
   "source": [
    "### nn.Module\n",
    "W PyTorchu, sieci neuronowe są zbudowane z modułów - obiektów klas dziedziczących po klasie nn.Module. Moduły mogą składać się z innych modułów, a sieć neuronowa w całości też zazwyczaj jest modułem.\n",
    "\n",
    "Podstawowy template dla modułu wygląda następująco"
   ]
  },
  {
   "cell_type": "code",
   "metadata": {
    "ExecuteTime": {
     "end_time": "2025-03-12T13:24:52.275500600Z",
     "start_time": "2025-03-12T09:40:05.645672Z"
    }
   },
   "source": [
    "class MyModule(nn.Module):\n",
    "    \n",
    "    def __init__(self):\n",
    "        super().__init__()\n",
    "        # Some init for my module\n",
    "        \n",
    "    def forward(self, x):\n",
    "        # Function for performing the calculation of the module.\n",
    "        pass"
   ],
   "outputs": [],
   "execution_count": 43
  },
  {
   "cell_type": "markdown",
   "metadata": {},
   "source": [
    "W konstruktorze modułu zazwyczaj inicjowane są wszystkie parametry, lub wewnętrzne moduły (np. warstwy sieci)\n",
    "\n",
    "W funkcji forward zapisane są wszystkie obliczenia które są wykonywane kiedy wywołujemy dany moduł. Przykładowo: (nn = MyModule(); nn(x)). \n",
    "\n",
    "Kalkulacja wstecz (backwards) jest tworzona automatycznie, ale w razie potrzeby można ją też nadpisywać "
   ]
  },
  {
   "cell_type": "markdown",
   "metadata": {},
   "source": [
    "# Stwórzmy pierwsza sieć neuronową "
   ]
  },
  {
   "cell_type": "code",
   "metadata": {
    "ExecuteTime": {
     "end_time": "2025-03-12T13:24:52.281386800Z",
     "start_time": "2025-03-12T09:40:25.305158Z"
    }
   },
   "source": [
    "class SimpleClassifier(nn.Module):\n",
    "\n",
    "    def __init__(self, num_inputs, num_hidden, num_outputs):\n",
    "        super().__init__()\n",
    "        # Initialize the modules we need to build the network\n",
    "        self.linear1 = nn.Linear(num_inputs, num_hidden)\n",
    "        self.act_fn = nn.Tanh()\n",
    "        self.linear2 = nn.Linear(num_hidden, num_outputs)\n",
    "#         self.linear3 = nn.Linear(num_hidden, num_outputs)\n",
    "\n",
    "    def forward(self, x):\n",
    "        # Perform the calculation of the model to determine the prediction\n",
    "        x = self.linear1(x)\n",
    "        x = self.act_fn(x)\n",
    "        x = self.linear2(x)\n",
    "#         x = self.act_fn(x)\n",
    "#         x = self.linear3(x)\n",
    "        return x"
   ],
   "outputs": [],
   "execution_count": 44
  },
  {
   "cell_type": "markdown",
   "metadata": {},
   "source": [
    "Wypisywanie zawartości modelu"
   ]
  },
  {
   "cell_type": "code",
   "metadata": {
    "ExecuteTime": {
     "end_time": "2025-03-12T13:24:52.281386800Z",
     "start_time": "2025-03-12T09:40:52.198489Z"
    }
   },
   "source": [
    "model = SimpleClassifier(num_inputs=2, num_hidden=4, num_outputs=1)\n",
    "model.cuda()\n",
    "# Printing a module shows all its submodules\n",
    "print(model)"
   ],
   "outputs": [
    {
     "name": "stdout",
     "output_type": "stream",
     "text": [
      "SimpleClassifier(\n",
      "  (linear1): Linear(in_features=2, out_features=4, bias=True)\n",
      "  (act_fn): Tanh()\n",
      "  (linear2): Linear(in_features=4, out_features=1, bias=True)\n",
      ")\n"
     ]
    }
   ],
   "execution_count": 45
  },
  {
   "cell_type": "code",
   "metadata": {
    "ExecuteTime": {
     "end_time": "2025-03-12T13:24:52.291199800Z",
     "start_time": "2025-03-12T09:41:00.506308Z"
    }
   },
   "source": [
    "x = torch.Tensor(2).cuda()"
   ],
   "outputs": [],
   "execution_count": 46
  },
  {
   "cell_type": "code",
   "metadata": {
    "ExecuteTime": {
     "end_time": "2025-03-12T13:24:52.291199800Z",
     "start_time": "2025-03-12T09:41:07.768498Z"
    }
   },
   "source": [
    "model.forward(x)\n",
    "model(x)"
   ],
   "outputs": [
    {
     "data": {
      "text/plain": [
       "tensor([0.0265], device='cuda:0', grad_fn=<ViewBackward0>)"
      ]
     },
     "execution_count": 47,
     "metadata": {},
     "output_type": "execute_result"
    }
   ],
   "execution_count": 47
  },
  {
   "cell_type": "markdown",
   "metadata": {},
   "source": [
    "Co tak właściwie mamy w środku?"
   ]
  },
  {
   "cell_type": "code",
   "metadata": {
    "ExecuteTime": {
     "end_time": "2025-03-19T15:47:20.886292Z",
     "start_time": "2025-03-19T15:47:20.131621Z"
    }
   },
   "source": [
    "for name, param in model.named_parameters():\n",
    "    print(f\"Parameter {name}, shape {param.shape}\")"
   ],
   "outputs": [
    {
     "ename": "NameError",
     "evalue": "name 'model' is not defined",
     "output_type": "error",
     "traceback": [
      "\u001B[31m---------------------------------------------------------------------------\u001B[39m",
      "\u001B[31mNameError\u001B[39m                                 Traceback (most recent call last)",
      "\u001B[36mCell\u001B[39m\u001B[36m \u001B[39m\u001B[32mIn[1]\u001B[39m\u001B[32m, line 1\u001B[39m\n\u001B[32m----> \u001B[39m\u001B[32m1\u001B[39m \u001B[38;5;28;01mfor\u001B[39;00m name, param \u001B[38;5;129;01min\u001B[39;00m \u001B[43mmodel\u001B[49m.named_parameters():\n\u001B[32m      2\u001B[39m     \u001B[38;5;28mprint\u001B[39m(\u001B[33mf\u001B[39m\u001B[33m\"\u001B[39m\u001B[33mParameter \u001B[39m\u001B[38;5;132;01m{\u001B[39;00mname\u001B[38;5;132;01m}\u001B[39;00m\u001B[33m, shape \u001B[39m\u001B[38;5;132;01m{\u001B[39;00mparam.shape\u001B[38;5;132;01m}\u001B[39;00m\u001B[33m\"\u001B[39m)\n",
      "\u001B[31mNameError\u001B[39m: name 'model' is not defined"
     ]
    }
   ],
   "execution_count": 1
  },
  {
   "cell_type": "markdown",
   "metadata": {},
   "source": [
    "## Activation functions"
   ]
  },
  {
   "cell_type": "code",
   "metadata": {
    "ExecuteTime": {
     "end_time": "2025-03-12T13:24:52.291199800Z",
     "start_time": "2025-03-12T09:41:19.522714Z"
    }
   },
   "source": [
    "act_fn_by_name = {\n",
    "    \"sigmoid\": torch.sigmoid,\n",
    "    \"tanh\": torch.tanh,\n",
    "    \"relu\": F.relu,\n",
    "    \"leakyrelu\": F.leaky_relu\n",
    "}"
   ],
   "outputs": [],
   "execution_count": 49
  },
  {
   "cell_type": "code",
   "metadata": {
    "ExecuteTime": {
     "end_time": "2025-03-12T13:24:52.291199800Z",
     "start_time": "2025-03-12T09:41:40.216439Z"
    }
   },
   "source": [
    "def get_grads(act_fn, x):\n",
    "    x = x.clone().requires_grad_() # Mark the input as tensor for which we want to store gradients\n",
    "    out = act_fn(x)\n",
    "    out.sum().backward() # Summing results in an equal gradient flow to each element in x\n",
    "    return x.grad # Accessing the gradients of x by \"x.grad\""
   ],
   "outputs": [],
   "execution_count": 50
  },
  {
   "cell_type": "code",
   "metadata": {
    "ExecuteTime": {
     "end_time": "2025-03-12T13:24:52.307072300Z",
     "start_time": "2025-03-12T09:42:02.669669Z"
    }
   },
   "source": [
    "%matplotlib inline\n",
    "def vis_act_fn(act_fn, name, ax, x):\n",
    "    # Run activation function\n",
    "    y = act_fn(x)\n",
    "    y_grads = get_grads(act_fn, x)\n",
    "    # Push x, y and gradients back to cpu for plotting\n",
    "    x, y, y_grads = x.cpu().numpy(), y.cpu().numpy(), y_grads.cpu().numpy()\n",
    "    ## Plotting\n",
    "    ax.plot(x, y, linewidth=2, label=\"ActFn\")\n",
    "    ax.plot(x, y_grads, linewidth=2, label=\"Gradient\")\n",
    "    ax.set_title(name)\n",
    "    ax.legend()\n",
    "    ax.set_ylim(-1.5, x.max())\n",
    "\n",
    "x = torch.linspace(-5, 5, 1000) # Range on which we want to visualize the activation functions\n",
    "## Plotting\n",
    "rows = math.ceil(len(act_fn_by_name)/2.0)\n",
    "fig, ax = plt.subplots(rows, 2, figsize=(8, rows*4))\n",
    "for i, name in enumerate(act_fn_by_name.keys()):\n",
    "    vis_act_fn(act_fn_by_name[name], name, ax[divmod(i,2)], x)\n",
    "fig.subplots_adjust(hspace=0.3)\n",
    "plt.show()\n",
    "plt.close()"
   ],
   "outputs": [
    {
     "data": {
      "text/plain": [
       "<Figure size 800x800 with 4 Axes>"
      ],
      "image/png": "[encoded data removed]"
     },
     "metadata": {},
     "output_type": "display_data"
    }
   ],
   "execution_count": 51
  },
  {
   "cell_type": "markdown",
   "metadata": {},
   "source": [
    "# Dane\n",
    "PyTorch posiada zaimplementowanych kilka funkcjonalności które pozwalają wczytywać i manipulować danymi. Znajdują się one w pakiecie torch.utils.data"
   ]
  },
  {
   "cell_type": "code",
   "metadata": {
    "ExecuteTime": {
     "end_time": "2025-03-12T13:24:52.307072300Z",
     "start_time": "2025-03-12T09:43:04.243857Z"
    }
   },
   "source": [
    "import torch.utils.data as data"
   ],
   "outputs": [],
   "execution_count": 52
  },
  {
   "cell_type": "markdown",
   "metadata": {},
   "source": [
    "Główną strukturą w ramach której przechowywane (lub niekoniecznie) są dane jest klasa Dataset. Stwórzmy sobie przykładowy zbiór danych - tzw. ciągły XOR. Przykład zaczerpnięty z https://uvadlc-notebooks.readthedocs.io/en/latest/tutorial_notebooks/tutorial2/Introduction_to_PyTorch.html#Learning-by-example:-Continuous-XOR"
   ]
  },
  {
   "cell_type": "code",
   "metadata": {
    "ExecuteTime": {
     "end_time": "2025-03-12T13:24:52.307072300Z",
     "start_time": "2025-03-12T09:43:11.724648Z"
    }
   },
   "source": [
    "class XORDataset(data.Dataset):\n",
    "\n",
    "    def __init__(self, size, std=0.1):\n",
    "        \"\"\"\n",
    "        Inputs:\n",
    "            size - Number of data points we want to generate\n",
    "            std - Standard deviation of the noise (see generate_continuous_xor function)\n",
    "        \"\"\"\n",
    "        super().__init__()\n",
    "        self.size = size\n",
    "        self.std = std\n",
    "        self.generate_continuous_xor()\n",
    "\n",
    "    def generate_continuous_xor(self):\n",
    "        # Each data point in the XOR dataset has two variables, x and y, that can be either 0 or 1\n",
    "        # The label is their XOR combination, i.e. 1 if only x or only y is 1 while the other is 0.\n",
    "        # If x=y, the label is 0.\n",
    "        data = torch.randint(low=0, high=2, size=(self.size, 2), dtype=torch.float32)\n",
    "        label = (data.sum(dim=1) == 1).to(torch.long)\n",
    "        # To make it slightly more challenging, we add a bit of gaussian noise to the data points.\n",
    "        data += self.std * torch.randn(data.shape)\n",
    "\n",
    "        self.data = data\n",
    "        self.label = label\n",
    "\n",
    "    def __len__(self):\n",
    "        # Number of data point we have. Alternatively self.data.shape[0], or self.label.shape[0]\n",
    "        return self.size\n",
    "\n",
    "    def __getitem__(self, idx):\n",
    "        # Return the idx-th data point of the dataset\n",
    "        # If we have multiple things to return (data point and label), we can return them as tuple\n",
    "        data_point = self.data[idx]\n",
    "        data_label = self.label[idx]\n",
    "        return data_point, data_label"
   ],
   "outputs": [],
   "execution_count": 53
  },
  {
   "cell_type": "code",
   "metadata": {
    "scrolled": true,
    "ExecuteTime": {
     "end_time": "2025-03-12T13:24:52.307072300Z",
     "start_time": "2025-03-12T09:43:24.561131Z"
    }
   },
   "source": [
    "dataset = XORDataset(size=200)\n",
    "print(\"Size of dataset:\", len(dataset))\n",
    "print(\"Data point 0:\", dataset[0])"
   ],
   "outputs": [
    {
     "name": "stdout",
     "output_type": "stream",
     "text": [
      "Size of dataset: 200\n",
      "Data point 0: (tensor([0.1745, 0.9018]), tensor(1))\n"
     ]
    }
   ],
   "execution_count": 55
  },
  {
   "cell_type": "code",
   "metadata": {
    "ExecuteTime": {
     "end_time": "2025-03-12T13:24:52.323020100Z",
     "start_time": "2025-03-12T09:43:25.816190Z"
    }
   },
   "source": [
    "examples = dataset.data\n",
    "labels = dataset.label\n",
    "data_0 = examples[labels == 0]\n",
    "data_1 = examples[labels == 1]\n",
    "\n",
    "plt.figure(figsize=(4,4))\n",
    "plt.scatter(data_0[:,0], data_0[:,1], edgecolor=\"#333\", label=\"Class 0\")\n",
    "plt.scatter(data_1[:,0], data_1[:,1], edgecolor=\"#333\", label=\"Class 1\")\n",
    "plt.title(\"Dataset samples\")\n",
    "plt.legend()\n",
    "plt.show()"
   ],
   "outputs": [
    {
     "data": {
      "text/plain": [
       "<Figure size 400x400 with 1 Axes>"
      ],
      "image/png": "[encoded data removed]"
     },
     "metadata": {},
     "output_type": "display_data"
    }
   ],
   "execution_count": 56
  },
  {
   "cell_type": "markdown",
   "metadata": {},
   "source": [
    "## Data loaders (Ładowacze danych?!)"
   ]
  },
  {
   "cell_type": "code",
   "execution_count": 23,
   "metadata": {
    "ExecuteTime": {
     "end_time": "2025-03-12T13:24:52.329284100Z",
     "start_time": "2021-10-15T07:02:17.514783Z"
    }
   },
   "outputs": [],
   "source": [
    "data_loader = data.DataLoader(dataset, batch_size=8, shuffle=True)"
   ]
  },
  {
   "cell_type": "code",
   "execution_count": 24,
   "metadata": {
    "ExecuteTime": {
     "end_time": "2025-03-12T13:24:52.332545300Z",
     "start_time": "2021-10-15T07:02:33.715355Z"
    }
   },
   "outputs": [
    {
     "data": {
      "text/plain": [
       "[tensor([[-1.2925e-01, -4.6438e-02],\n",
       "         [ 4.6635e-02, -5.4442e-02],\n",
       "         [ 2.2401e-01,  9.8627e-01],\n",
       "         [-8.2926e-03, -3.4543e-02],\n",
       "         [ 1.2077e+00,  1.2643e-02],\n",
       "         [-1.9780e-01, -2.6523e-02],\n",
       "         [ 1.1510e-02,  3.6751e-04],\n",
       "         [-4.2049e-02,  1.8635e-01]]),\n",
       " tensor([0, 0, 1, 0, 1, 0, 0, 0])]"
      ]
     },
     "execution_count": 24,
     "metadata": {},
     "output_type": "execute_result"
    }
   ],
   "source": [
    "next(iter(data_loader))"
   ]
  },
  {
   "cell_type": "code",
   "execution_count": 25,
   "metadata": {
    "ExecuteTime": {
     "end_time": "2025-03-12T13:24:52.350028300Z",
     "start_time": "2021-10-15T07:03:36.169066Z"
    }
   },
   "outputs": [
    {
     "data": {
      "text/plain": [
       "25"
      ]
     },
     "execution_count": 25,
     "metadata": {},
     "output_type": "execute_result"
    }
   ],
   "source": [
    "len(data_loader)"
   ]
  },
  {
   "cell_type": "code",
   "execution_count": 26,
   "metadata": {
    "ExecuteTime": {
     "end_time": "2025-03-12T13:24:52.363863300Z",
     "start_time": "2021-10-15T07:04:04.277946Z"
    }
   },
   "outputs": [
    {
     "data": {
      "text/plain": [
       "200"
      ]
     },
     "execution_count": 26,
     "metadata": {},
     "output_type": "execute_result"
    }
   ],
   "source": [
    "next(iter(data_loader))[0].shape[0]*len(data_loader)"
   ]
  },
  {
   "cell_type": "code",
   "execution_count": 27,
   "metadata": {
    "ExecuteTime": {
     "end_time": "2025-03-12T13:24:52.363863300Z",
     "start_time": "2021-10-15T07:04:34.182718Z"
    }
   },
   "outputs": [
    {
     "data": {
      "text/plain": [
       "203"
      ]
     },
     "execution_count": 27,
     "metadata": {},
     "output_type": "execute_result"
    }
   ],
   "source": [
    "data_loader_2 = data.DataLoader(dataset, batch_size=7, shuffle=True)\n",
    "next(iter(data_loader_2))[0].shape[0]*len(data_loader_2)"
   ]
  },
  {
   "cell_type": "code",
   "execution_count": 28,
   "metadata": {
    "ExecuteTime": {
     "end_time": "2025-03-12T13:24:52.363863300Z",
     "start_time": "2021-10-15T07:04:55.362483Z"
    }
   },
   "outputs": [
    {
     "data": {
      "text/plain": [
       "[tensor([[-0.0461,  1.0639],\n",
       "         [ 0.8945, -0.0986],\n",
       "         [ 0.9505, -0.0785],\n",
       "         [-0.0984,  0.0942]]),\n",
       " tensor([1, 1, 1, 0])]"
      ]
     },
     "execution_count": 28,
     "metadata": {},
     "output_type": "execute_result"
    }
   ],
   "source": [
    "list(iter(data_loader_2))[-1]"
   ]
  },
  {
   "cell_type": "markdown",
   "metadata": {},
   "source": [
    "#### Drop last\n",
    "Parametr powodujący pominięcie ostatniego wsadu (batch)"
   ]
  },
  {
   "cell_type": "code",
   "execution_count": 29,
   "metadata": {
    "ExecuteTime": {
     "end_time": "2025-03-12T13:24:52.363863300Z",
     "start_time": "2021-10-15T07:05:25.700236Z"
    },
    "scrolled": true
   },
   "outputs": [
    {
     "data": {
      "text/plain": [
       "196"
      ]
     },
     "execution_count": 29,
     "metadata": {},
     "output_type": "execute_result"
    }
   ],
   "source": [
    "data_loader_2 = data.DataLoader(dataset,batch_size=7, shuffle=True, drop_last=True)\n",
    "next(iter(data_loader_2))[0].shape[0]*len(data_loader_2)"
   ]
  },
  {
   "cell_type": "markdown",
   "metadata": {},
   "source": [
    "## Funkcje straty\n",
    "Na poprzednich zajęciach obliczaliśmy funkcję straty ręcznie wykonując operacje na tensorach. Jest to w pełni poprawne rozwiązanie, ale możemy też nie wymyślać koła na nowo, ale wykorzystać wbudowane moduły. Pełna lista dostępna tutaj: https://pytorch.org/docs/stable/nn.html#loss-functions"
   ]
  },
  {
   "cell_type": "code",
   "metadata": {
    "ExecuteTime": {
     "end_time": "2025-03-12T13:24:52.379854200Z",
     "start_time": "2025-03-12T09:43:51.853861Z"
    }
   },
   "source": [
    "from mpl_toolkits.mplot3d import Axes3D\n",
    "import matplotlib.pyplot as plt\n",
    "%matplotlib inline"
   ],
   "outputs": [],
   "execution_count": 57
  },
  {
   "cell_type": "code",
   "metadata": {
    "ExecuteTime": {
     "end_time": "2025-03-12T13:24:52.379854200Z",
     "start_time": "2025-03-12T09:43:54.631423Z"
    }
   },
   "source": [
    "tensor_1 = torch.arange(5)\n",
    "tensor_2 = torch.ones(5)\n",
    "print(tensor_1, tensor_2)"
   ],
   "outputs": [
    {
     "name": "stdout",
     "output_type": "stream",
     "text": [
      "tensor([0, 1, 2, 3, 4]) tensor([1., 1., 1., 1., 1.])\n"
     ]
    }
   ],
   "execution_count": 58
  },
  {
   "cell_type": "markdown",
   "metadata": {},
   "source": [
    "### Błąd średniokwadratowy (Mean Squared Error) lub L2Loss"
   ]
  },
  {
   "cell_type": "code",
   "metadata": {
    "ExecuteTime": {
     "end_time": "2025-03-12T13:24:52.382110400Z",
     "start_time": "2025-03-12T09:43:59.848639Z"
    }
   },
   "source": [
    "loss = nn.MSELoss()\n",
    "loss(tensor_1,tensor_2)"
   ],
   "outputs": [
    {
     "data": {
      "text/plain": [
       "tensor(3.)"
      ]
     },
     "execution_count": 59,
     "metadata": {},
     "output_type": "execute_result"
    }
   ],
   "execution_count": 59
  },
  {
   "cell_type": "markdown",
   "metadata": {},
   "source": [
    "$ \\quad l_{n}=\\left(x_{n}-y_{n}\\right)^{2}$"
   ]
  },
  {
   "cell_type": "code",
   "metadata": {
    "ExecuteTime": {
     "end_time": "2025-03-12T13:24:52.382110400Z",
     "start_time": "2025-03-12T09:44:12.015247Z"
    }
   },
   "source": [
    "loss = nn.MSELoss(reduction=\"none\")\n",
    "print(f\"No reduction: {loss(tensor_1,tensor_2)}\")\n",
    "loss = nn.MSELoss(reduction=\"mean\")\n",
    "print(f\"Mean: {loss(tensor_1,tensor_2)}\")\n",
    "loss = nn.MSELoss(reduction=\"sum\")\n",
    "print(f\"Sum: {loss(tensor_1,tensor_2)}\")"
   ],
   "outputs": [
    {
     "name": "stdout",
     "output_type": "stream",
     "text": [
      "No reduction: tensor([1., 0., 1., 4., 9.])\n",
      "Mean: 3.0\n",
      "Sum: 15.0\n"
     ]
    }
   ],
   "execution_count": 60
  },
  {
   "cell_type": "code",
   "metadata": {
    "scrolled": true,
    "ExecuteTime": {
     "end_time": "2025-03-12T13:24:52.382110400Z",
     "start_time": "2025-03-12T09:44:39.606340Z"
    }
   },
   "source": [
    "F.mse_loss(tensor_1, tensor_2)"
   ],
   "outputs": [
    {
     "data": {
      "text/plain": [
       "tensor(3.)"
      ]
     },
     "execution_count": 61,
     "metadata": {},
     "output_type": "execute_result"
    }
   ],
   "execution_count": 61
  },
  {
   "cell_type": "code",
   "metadata": {
    "ExecuteTime": {
     "end_time": "2025-03-12T13:24:52.382110400Z",
     "start_time": "2025-03-12T09:44:49.773243Z"
    }
   },
   "source": [
    "loss = nn.MSELoss(reduction=\"none\")\n",
    "x, y = torch.meshgrid(torch.linspace(0,10,100),torch.linspace(0,10,100), indexing='ij')\n",
    "z = loss(x,y)\n",
    "\n",
    "fig = plt.figure()\n",
    "ax = fig.add_subplot(projection = '3d')\n",
    "\n",
    "ax.plot_trisurf(x.numpy().flatten(), y.numpy().flatten(), z.numpy().flatten(), linewidth=0.2, antialiased=True)\n",
    "\n",
    "plt.show()"
   ],
   "outputs": [
    {
     "data": {
      "text/plain": [
       "<Figure size 640x480 with 1 Axes>"
      ],
      "image/png": "[encoded data removed]"
     },
     "metadata": {},
     "output_type": "display_data"
    }
   ],
   "execution_count": 62
  },
  {
   "cell_type": "markdown",
   "metadata": {},
   "source": [
    "### Błąd bezwzględny (Mean absolute Error) lub L1Loss"
   ]
  },
  {
   "cell_type": "markdown",
   "metadata": {
    "ExecuteTime": {
     "end_time": "2021-10-08T20:04:21.482653Z",
     "start_time": "2021-10-08T20:04:21.475776Z"
    }
   },
   "source": [
    "$ \\quad l_{n}=\\left|x_{n}-y_{n}\\right|$"
   ]
  },
  {
   "cell_type": "code",
   "metadata": {
    "ExecuteTime": {
     "end_time": "2025-03-12T13:24:52.382110400Z",
     "start_time": "2025-03-12T09:45:08.121647Z"
    }
   },
   "source": [
    "print(tensor_1, tensor_2)\n",
    "loss = nn.L1Loss()\n",
    "loss(tensor_1,tensor_2)"
   ],
   "outputs": [
    {
     "name": "stdout",
     "output_type": "stream",
     "text": [
      "tensor([0, 1, 2, 3, 4]) tensor([1., 1., 1., 1., 1.])\n"
     ]
    },
    {
     "data": {
      "text/plain": [
       "tensor(1.4000)"
      ]
     },
     "execution_count": 63,
     "metadata": {},
     "output_type": "execute_result"
    }
   ],
   "execution_count": 63
  },
  {
   "cell_type": "code",
   "execution_count": 38,
   "metadata": {
    "ExecuteTime": {
     "end_time": "2025-03-12T13:24:52.384004900Z",
     "start_time": "2021-10-15T07:30:24.974301Z"
    }
   },
   "outputs": [
    {
     "name": "stdout",
     "output_type": "stream",
     "text": [
      "No reduction: tensor([1., 0., 1., 2., 3.])\n",
      "Mean: 1.399999976158142\n",
      "Sum: 7.0\n"
     ]
    }
   ],
   "source": [
    "loss = nn.L1Loss(reduction=\"none\")\n",
    "print(f\"No reduction: {loss(tensor_1,tensor_2)}\")\n",
    "loss = nn.L1Loss(reduction=\"mean\")\n",
    "print(f\"Mean: {loss(tensor_1,tensor_2)}\")\n",
    "loss = nn.L1Loss(reduction=\"sum\")\n",
    "print(f\"Sum: {loss(tensor_1,tensor_2)}\")"
   ]
  },
  {
   "cell_type": "code",
   "metadata": {
    "ExecuteTime": {
     "end_time": "2025-03-12T13:24:52.384004900Z",
     "start_time": "2025-03-12T09:45:36.422710Z"
    }
   },
   "source": [
    "loss = nn.L1Loss(reduction=\"none\")\n",
    "x, y = torch.meshgrid(torch.linspace(0,10,100),torch.linspace(0,10,100), indexing='ij')\n",
    "z = loss(x,y)\n",
    "\n",
    "fig = plt.figure()\n",
    "ax = fig.add_subplot(projection = '3d')\n",
    "\n",
    "ax.plot_trisurf(x.numpy().flatten(), y.numpy().flatten(), z.numpy().flatten(), linewidth=0.2, antialiased=True)\n",
    "    \n",
    "plt.show()"
   ],
   "outputs": [
    {
     "data": {
      "text/plain": [
       "<Figure size 640x480 with 1 Axes>"
      ],
      "image/png": "[encoded data removed]"
     },
     "metadata": {},
     "output_type": "display_data"
    }
   ],
   "execution_count": 64
  },
  {
   "cell_type": "markdown",
   "metadata": {},
   "source": [
    "### Entropia krzyżowa:\n",
    "$l_{n}=\\left[y_{n} \\cdot \\log x_{n}+\\left(1-y_{n}\\right) \\cdot \\log \\left(1-x_{n}\\right)\\right]$"
   ]
  },
  {
   "cell_type": "code",
   "metadata": {
    "ExecuteTime": {
     "end_time": "2025-03-12T13:24:52.384004900Z",
     "start_time": "2025-03-12T09:45:43.371012Z"
    }
   },
   "source": [
    "tensor_1 = torch.rand(5)\n",
    "tensor_2 = torch.ones(5)\n",
    "print(tensor_1, tensor_2)\n",
    "loss = nn.BCELoss(reduction=\"none\")\n",
    "loss(tensor_1,tensor_2)"
   ],
   "outputs": [
    {
     "name": "stdout",
     "output_type": "stream",
     "text": [
      "tensor([0.8339, 0.4615, 0.7916, 0.3703, 0.7472]) tensor([1., 1., 1., 1., 1.])\n"
     ]
    },
    {
     "data": {
      "text/plain": [
       "tensor([0.1816, 0.7733, 0.2336, 0.9935, 0.2914])"
      ]
     },
     "execution_count": 65,
     "metadata": {},
     "output_type": "execute_result"
    }
   ],
   "execution_count": 65
  },
  {
   "cell_type": "code",
   "execution_count": null,
   "metadata": {
    "ExecuteTime": {
     "end_time": "2025-03-12T13:24:52.384004900Z",
     "start_time": "2021-10-15T07:35:03.210393Z"
    }
   },
   "outputs": [],
   "source": [
    "loss(tensor_1*10,tensor_2)"
   ]
  },
  {
   "cell_type": "code",
   "metadata": {
    "ExecuteTime": {
     "end_time": "2025-03-12T13:24:52.388023200Z",
     "start_time": "2025-03-12T10:36:53.233404Z"
    }
   },
   "source": [
    "loss = nn.BCEWithLogitsLoss(reduction=\"none\")\n",
    "loss(tensor_1*100,tensor_2)"
   ],
   "outputs": [
    {
     "data": {
      "text/plain": [
       "tensor([6.0813e-37, 9.0581e-21, 4.1638e-35, 8.3003e-17, 3.5444e-33])"
      ]
     },
     "execution_count": 136,
     "metadata": {},
     "output_type": "execute_result"
    }
   ],
   "execution_count": 136
  },
  {
   "cell_type": "code",
   "metadata": {
    "ExecuteTime": {
     "end_time": "2025-03-12T13:24:52.388023200Z",
     "start_time": "2025-03-12T10:36:54.666614Z"
    }
   },
   "source": [
    "loss = nn.BCEWithLogitsLoss(reduction=\"none\")\n",
    "x, y = torch.meshgrid(torch.linspace(-10,10,100),torch.linspace(-10,10,100))\n",
    "z = loss(x,y)\n",
    "\n",
    "fig = plt.figure()\n",
    "ax = fig.add_subplot(projection = '3d')\n",
    "#ax = fig.gca(projection='3d') - for older matplotlib\n",
    "\n",
    "ax.plot_trisurf(x.numpy().flatten(), y.numpy().flatten(), z.numpy().flatten(), linewidth=0.2, antialiased=True)\n",
    "\n",
    "plt.show()"
   ],
   "outputs": [
    {
     "data": {
      "text/plain": [
       "<Figure size 640x480 with 1 Axes>"
      ],
      "image/png": "[encoded data removed]"
     },
     "metadata": {},
     "output_type": "display_data"
    }
   ],
   "execution_count": 137
  },
  {
   "cell_type": "markdown",
   "metadata": {},
   "source": [
    "# Optymalizacja parametrów\n",
    "W przykładowym problemie optymalizacji parametrów regresji, ręcznie aktualizowaliśmy gradienty. W torch są do tego narzędzia zwane optymalizatorami, znajdują się one w pakiecie torch.optim\n",
    "\n",
    "Najprostszym optymalizaotrem jest algorytm stochastycznego spadku gradientu (Stochastic Gradient Descent) - SGD"
   ]
  },
  {
   "cell_type": "code",
   "metadata": {
    "ExecuteTime": {
     "end_time": "2025-03-12T13:24:52.399410500Z",
     "start_time": "2025-03-12T09:46:01.816475Z"
    }
   },
   "source": [
    "model = SimpleClassifier(num_inputs=2, num_hidden=4, num_outputs=1)\n",
    "print(model)"
   ],
   "outputs": [
    {
     "name": "stdout",
     "output_type": "stream",
     "text": [
      "SimpleClassifier(\n",
      "  (linear1): Linear(in_features=2, out_features=4, bias=True)\n",
      "  (act_fn): Tanh()\n",
      "  (linear2): Linear(in_features=4, out_features=1, bias=True)\n",
      ")\n"
     ]
    }
   ],
   "execution_count": 66
  },
  {
   "cell_type": "code",
   "execution_count": null,
   "metadata": {
    "ExecuteTime": {
     "end_time": "2025-03-12T13:24:52.399410500Z",
     "start_time": "2021-10-15T07:43:49.076336Z"
    }
   },
   "outputs": [],
   "source": [
    "optimizer = torch.optim.SGD(model.parameters(), lr = 0.1)"
   ]
  },
  {
   "cell_type": "markdown",
   "metadata": {},
   "source": [
    "## Połączmy to wszystko razem"
   ]
  },
  {
   "cell_type": "code",
   "metadata": {
    "ExecuteTime": {
     "end_time": "2025-03-12T13:24:52.399410500Z",
     "start_time": "2025-03-12T10:40:31.115331Z"
    }
   },
   "source": [
    "train_dataset = XORDataset(size=1000)\n",
    "train_data_loader = data.DataLoader(train_dataset, batch_size=128, shuffle=True)"
   ],
   "outputs": [],
   "execution_count": 142
  },
  {
   "cell_type": "code",
   "metadata": {
    "ExecuteTime": {
     "end_time": "2025-03-12T13:24:52.399410500Z",
     "start_time": "2025-03-12T10:40:32.637933Z"
    }
   },
   "source": [
    "model = SimpleClassifier(num_inputs=2, num_hidden=4, num_outputs=1)\n",
    "model.to(device)"
   ],
   "outputs": [
    {
     "data": {
      "text/plain": [
       "SimpleClassifier(\n",
       "  (linear1): Linear(in_features=2, out_features=4, bias=True)\n",
       "  (act_fn): Tanh()\n",
       "  (linear2): Linear(in_features=4, out_features=1, bias=True)\n",
       ")"
      ]
     },
     "execution_count": 143,
     "metadata": {},
     "output_type": "execute_result"
    }
   ],
   "execution_count": 143
  },
  {
   "cell_type": "code",
   "metadata": {
    "ExecuteTime": {
     "end_time": "2025-03-12T13:24:52.399410500Z",
     "start_time": "2025-03-12T10:40:34.475838Z"
    }
   },
   "source": [
    "optimizer = torch.optim.SGD(model.parameters(), lr = 0.1)"
   ],
   "outputs": [],
   "execution_count": 144
  },
  {
   "cell_type": "code",
   "metadata": {
    "ExecuteTime": {
     "end_time": "2025-03-12T13:24:52.415210300Z",
     "start_time": "2025-03-12T10:40:35.455656Z"
    }
   },
   "source": [
    "loss_module = nn.BCEWithLogitsLoss()"
   ],
   "outputs": [],
   "execution_count": 145
  },
  {
   "cell_type": "code",
   "metadata": {
    "scrolled": true,
    "ExecuteTime": {
     "end_time": "2025-03-12T13:24:52.415210300Z",
     "start_time": "2025-03-12T10:59:08.161930Z"
    }
   },
   "source": [
    "model.train() \n",
    "\n",
    "# Training loop\n",
    "for epoch in range(100):\n",
    "    for data_inputs, data_labels in train_data_loader:\n",
    "\n",
    "        ## Step 1: Move input data to device (only strictly necessary if we use GPU)\n",
    "        data_inputs = data_inputs.to(device)\n",
    "        data_labels = data_labels.to(device)\n",
    "\n",
    "        print(data_labels[0])\n",
    "\n",
    "        ## Step 2: Run the model on the input data\n",
    "        preds = model(data_inputs)\n",
    "\n",
    "        print(preds[0])\n",
    "        preds = preds.squeeze(dim=1) # Output is [Batch size, 1], but we want [Batch size]\n",
    "\n",
    "        ## Step 3: Calculate the loss\n",
    "        loss = loss_module(preds, data_labels.float())\n",
    "\n",
    "        ## Step 4: Perform backpropagation\n",
    "        # Before calculating the gradients, we need to ensure that they are all zero. \n",
    "        # The gradients would not be overwritten, but actually added to the existing ones.\n",
    "        optimizer.zero_grad() \n",
    "        # Perform backpropagation\n",
    "        loss.backward()\n",
    "\n",
    "        ## Step 5: Update the parameters\n",
    "        optimizer.step()\n",
    "    print(f\"Epoch: {epoch}, loss: {loss.item():.3}\")"
   ],
   "outputs": [
    {
     "name": "stdout",
     "output_type": "stream",
     "text": [
      "tensor(1, device='cuda:0')\n",
      "tensor([1.4887], device='cuda:0', grad_fn=<SelectBackward0>)\n",
      "tensor(0, device='cuda:0')\n",
      "tensor([-0.9577], device='cuda:0', grad_fn=<SelectBackward0>)\n",
      "tensor(1, device='cuda:0')\n",
      "tensor([0.8321], device='cuda:0', grad_fn=<SelectBackward0>)\n",
      "tensor(1, device='cuda:0')\n",
      "tensor([0.7882], device='cuda:0', grad_fn=<SelectBackward0>)\n",
      "tensor(1, device='cuda:0')\n",
      "tensor([1.3000], device='cuda:0', grad_fn=<SelectBackward0>)\n",
      "tensor(0, device='cuda:0')\n",
      "tensor([-0.9115], device='cuda:0', grad_fn=<SelectBackward0>)\n",
      "tensor(0, device='cuda:0')\n",
      "tensor([-1.9498], device='cuda:0', grad_fn=<SelectBackward0>)\n",
      "tensor(1, device='cuda:0')\n",
      "tensor([1.0928], device='cuda:0', grad_fn=<SelectBackward0>)\n",
      "Epoch: 0, loss: 0.277\n",
      "tensor(0, device='cuda:0')\n",
      "tensor([-2.0343], device='cuda:0', grad_fn=<SelectBackward0>)\n",
      "tensor(0, device='cuda:0')\n",
      "tensor([-2.0074], device='cuda:0', grad_fn=<SelectBackward0>)\n",
      "tensor(0, device='cuda:0')\n",
      "tensor([-0.3432], device='cuda:0', grad_fn=<SelectBackward0>)\n",
      "tensor(1, device='cuda:0')\n",
      "tensor([1.5475], device='cuda:0', grad_fn=<SelectBackward0>)\n",
      "tensor(0, device='cuda:0')\n",
      "tensor([-0.6287], device='cuda:0', grad_fn=<SelectBackward0>)\n",
      "tensor(0, device='cuda:0')\n",
      "tensor([-0.4597], device='cuda:0', grad_fn=<SelectBackward0>)\n",
      "tensor(0, device='cuda:0')\n",
      "tensor([-1.8084], device='cuda:0', grad_fn=<SelectBackward0>)\n",
      "tensor(1, device='cuda:0')\n",
      "tensor([1.3836], device='cuda:0', grad_fn=<SelectBackward0>)\n",
      "Epoch: 1, loss: 0.275\n",
      "tensor(1, device='cuda:0')\n",
      "tensor([1.5835], device='cuda:0', grad_fn=<SelectBackward0>)\n",
      "tensor(0, device='cuda:0')\n",
      "tensor([-1.6889], device='cuda:0', grad_fn=<SelectBackward0>)\n",
      "tensor(1, device='cuda:0')\n",
      "tensor([1.2785], device='cuda:0', grad_fn=<SelectBackward0>)\n",
      "tensor(1, device='cuda:0')\n",
      "tensor([1.3821], device='cuda:0', grad_fn=<SelectBackward0>)\n",
      "tensor(0, device='cuda:0')\n",
      "tensor([-2.0349], device='cuda:0', grad_fn=<SelectBackward0>)\n",
      "tensor(1, device='cuda:0')\n",
      "tensor([1.2443], device='cuda:0', grad_fn=<SelectBackward0>)\n",
      "tensor(0, device='cuda:0')\n",
      "tensor([-0.8438], device='cuda:0', grad_fn=<SelectBackward0>)\n",
      "tensor(1, device='cuda:0')\n",
      "tensor([1.2963], device='cuda:0', grad_fn=<SelectBackward0>)\n",
      "Epoch: 2, loss: 0.263\n",
      "tensor(0, device='cuda:0')\n",
      "tensor([-1.0359], device='cuda:0', grad_fn=<SelectBackward0>)\n",
      "tensor(1, device='cuda:0')\n",
      "tensor([1.3395], device='cuda:0', grad_fn=<SelectBackward0>)\n",
      "tensor(1, device='cuda:0')\n",
      "tensor([1.6097], device='cuda:0', grad_fn=<SelectBackward0>)\n",
      "tensor(0, device='cuda:0')\n",
      "tensor([-1.8109], device='cuda:0', grad_fn=<SelectBackward0>)\n",
      "tensor(1, device='cuda:0')\n",
      "tensor([1.6405], device='cuda:0', grad_fn=<SelectBackward0>)\n",
      "tensor(1, device='cuda:0')\n",
      "tensor([1.1573], device='cuda:0', grad_fn=<SelectBackward0>)\n",
      "tensor(1, device='cuda:0')\n",
      "tensor([1.4106], device='cuda:0', grad_fn=<SelectBackward0>)\n",
      "tensor(0, device='cuda:0')\n",
      "tensor([-2.0074], device='cuda:0', grad_fn=<SelectBackward0>)\n",
      "Epoch: 3, loss: 0.272\n",
      "tensor(0, device='cuda:0')\n",
      "tensor([-2.0448], device='cuda:0', grad_fn=<SelectBackward0>)\n",
      "tensor(0, device='cuda:0')\n",
      "tensor([-1.3237], device='cuda:0', grad_fn=<SelectBackward0>)\n",
      "tensor(1, device='cuda:0')\n",
      "tensor([1.5969], device='cuda:0', grad_fn=<SelectBackward0>)\n",
      "tensor(0, device='cuda:0')\n",
      "tensor([-1.0434], device='cuda:0', grad_fn=<SelectBackward0>)\n",
      "tensor(1, device='cuda:0')\n",
      "tensor([1.3476], device='cuda:0', grad_fn=<SelectBackward0>)\n",
      "tensor(1, device='cuda:0')\n",
      "tensor([1.2869], device='cuda:0', grad_fn=<SelectBackward0>)\n",
      "tensor(0, device='cuda:0')\n",
      "tensor([-1.8465], device='cuda:0', grad_fn=<SelectBackward0>)\n",
      "tensor(1, device='cuda:0')\n",
      "tensor([1.4186], device='cuda:0', grad_fn=<SelectBackward0>)\n",
      "Epoch: 4, loss: 0.244\n",
      "tensor(1, device='cuda:0')\n",
      "tensor([1.4483], device='cuda:0', grad_fn=<SelectBackward0>)\n",
      "tensor(0, device='cuda:0')\n",
      "tensor([-1.4281], device='cuda:0', grad_fn=<SelectBackward0>)\n",
      "tensor(1, device='cuda:0')\n",
      "tensor([1.6536], device='cuda:0', grad_fn=<SelectBackward0>)\n",
      "tensor(1, device='cuda:0')\n",
      "tensor([1.3653], device='cuda:0', grad_fn=<SelectBackward0>)\n",
      "tensor(1, device='cuda:0')\n",
      "tensor([0.9582], device='cuda:0', grad_fn=<SelectBackward0>)\n",
      "tensor(0, device='cuda:0')\n",
      "tensor([-0.6988], device='cuda:0', grad_fn=<SelectBackward0>)\n",
      "tensor(1, device='cuda:0')\n",
      "tensor([1.3007], device='cuda:0', grad_fn=<SelectBackward0>)\n",
      "tensor(0, device='cuda:0')\n",
      "tensor([-0.9183], device='cuda:0', grad_fn=<SelectBackward0>)\n",
      "Epoch: 5, loss: 0.237\n",
      "tensor(0, device='cuda:0')\n",
      "tensor([-1.1858], device='cuda:0', grad_fn=<SelectBackward0>)\n",
      "tensor(0, device='cuda:0')\n",
      "tensor([-1.2453], device='cuda:0', grad_fn=<SelectBackward0>)\n",
      "tensor(0, device='cuda:0')\n",
      "tensor([-1.7774], device='cuda:0', grad_fn=<SelectBackward0>)\n",
      "tensor(1, device='cuda:0')\n",
      "tensor([1.7100], device='cuda:0', grad_fn=<SelectBackward0>)\n",
      "tensor(1, device='cuda:0')\n",
      "tensor([1.6147], device='cuda:0', grad_fn=<SelectBackward0>)\n",
      "tensor(1, device='cuda:0')\n",
      "tensor([1.4734], device='cuda:0', grad_fn=<SelectBackward0>)\n",
      "tensor(0, device='cuda:0')\n",
      "tensor([-1.2042], device='cuda:0', grad_fn=<SelectBackward0>)\n",
      "tensor(0, device='cuda:0')\n",
      "tensor([-1.4788], device='cuda:0', grad_fn=<SelectBackward0>)\n",
      "Epoch: 6, loss: 0.248\n",
      "tensor(1, device='cuda:0')\n",
      "tensor([1.4446], device='cuda:0', grad_fn=<SelectBackward0>)\n",
      "tensor(0, device='cuda:0')\n",
      "tensor([-0.8602], device='cuda:0', grad_fn=<SelectBackward0>)\n",
      "tensor(1, device='cuda:0')\n",
      "tensor([1.3433], device='cuda:0', grad_fn=<SelectBackward0>)\n",
      "tensor(0, device='cuda:0')\n",
      "tensor([-2.0313], device='cuda:0', grad_fn=<SelectBackward0>)\n",
      "tensor(0, device='cuda:0')\n",
      "tensor([-0.7054], device='cuda:0', grad_fn=<SelectBackward0>)\n",
      "tensor(0, device='cuda:0')\n",
      "tensor([-0.9957], device='cuda:0', grad_fn=<SelectBackward0>)\n",
      "tensor(0, device='cuda:0')\n",
      "tensor([-0.6874], device='cuda:0', grad_fn=<SelectBackward0>)\n",
      "tensor(1, device='cuda:0')\n",
      "tensor([1.5121], device='cuda:0', grad_fn=<SelectBackward0>)\n",
      "Epoch: 7, loss: 0.216\n",
      "tensor(1, device='cuda:0')\n",
      "tensor([1.6606], device='cuda:0', grad_fn=<SelectBackward0>)\n",
      "tensor(1, device='cuda:0')\n",
      "tensor([1.4332], device='cuda:0', grad_fn=<SelectBackward0>)\n",
      "tensor(0, device='cuda:0')\n",
      "tensor([-0.9241], device='cuda:0', grad_fn=<SelectBackward0>)\n",
      "tensor(1, device='cuda:0')\n",
      "tensor([1.4393], device='cuda:0', grad_fn=<SelectBackward0>)\n",
      "tensor(0, device='cuda:0')\n",
      "tensor([-1.4457], device='cuda:0', grad_fn=<SelectBackward0>)\n",
      "tensor(0, device='cuda:0')\n",
      "tensor([-0.5559], device='cuda:0', grad_fn=<SelectBackward0>)\n",
      "tensor(0, device='cuda:0')\n",
      "tensor([-1.2656], device='cuda:0', grad_fn=<SelectBackward0>)\n",
      "tensor(0, device='cuda:0')\n",
      "tensor([-1.0028], device='cuda:0', grad_fn=<SelectBackward0>)\n",
      "Epoch: 8, loss: 0.228\n",
      "tensor(1, device='cuda:0')\n",
      "tensor([1.8139], device='cuda:0', grad_fn=<SelectBackward0>)\n",
      "tensor(1, device='cuda:0')\n",
      "tensor([1.5111], device='cuda:0', grad_fn=<SelectBackward0>)\n",
      "tensor(0, device='cuda:0')\n",
      "tensor([-0.8557], device='cuda:0', grad_fn=<SelectBackward0>)\n",
      "tensor(1, device='cuda:0')\n",
      "tensor([1.0037], device='cuda:0', grad_fn=<SelectBackward0>)\n",
      "tensor(1, device='cuda:0')\n",
      "tensor([1.4223], device='cuda:0', grad_fn=<SelectBackward0>)\n",
      "tensor(0, device='cuda:0')\n",
      "tensor([-1.6987], device='cuda:0', grad_fn=<SelectBackward0>)\n",
      "tensor(1, device='cuda:0')\n",
      "tensor([1.5684], device='cuda:0', grad_fn=<SelectBackward0>)\n",
      "tensor(1, device='cuda:0')\n",
      "tensor([1.6543], device='cuda:0', grad_fn=<SelectBackward0>)\n",
      "Epoch: 9, loss: 0.223\n",
      "tensor(0, device='cuda:0')\n",
      "tensor([-2.0392], device='cuda:0', grad_fn=<SelectBackward0>)\n",
      "tensor(0, device='cuda:0')\n",
      "tensor([-1.3591], device='cuda:0', grad_fn=<SelectBackward0>)\n",
      "tensor(1, device='cuda:0')\n",
      "tensor([1.3357], device='cuda:0', grad_fn=<SelectBackward0>)\n",
      "tensor(1, device='cuda:0')\n",
      "tensor([1.5340], device='cuda:0', grad_fn=<SelectBackward0>)\n",
      "tensor(1, device='cuda:0')\n",
      "tensor([1.8436], device='cuda:0', grad_fn=<SelectBackward0>)\n",
      "tensor(1, device='cuda:0')\n",
      "tensor([1.6246], device='cuda:0', grad_fn=<SelectBackward0>)\n",
      "tensor(0, device='cuda:0')\n",
      "tensor([-2.0740], device='cuda:0', grad_fn=<SelectBackward0>)\n",
      "tensor(1, device='cuda:0')\n",
      "tensor([1.8907], device='cuda:0', grad_fn=<SelectBackward0>)\n",
      "Epoch: 10, loss: 0.219\n",
      "tensor(0, device='cuda:0')\n",
      "tensor([-1.0438], device='cuda:0', grad_fn=<SelectBackward0>)\n",
      "tensor(1, device='cuda:0')\n",
      "tensor([1.4246], device='cuda:0', grad_fn=<SelectBackward0>)\n",
      "tensor(1, device='cuda:0')\n",
      "tensor([1.4737], device='cuda:0', grad_fn=<SelectBackward0>)\n",
      "tensor(1, device='cuda:0')\n",
      "tensor([1.8394], device='cuda:0', grad_fn=<SelectBackward0>)\n",
      "tensor(1, device='cuda:0')\n",
      "tensor([1.9337], device='cuda:0', grad_fn=<SelectBackward0>)\n",
      "tensor(1, device='cuda:0')\n",
      "tensor([1.5748], device='cuda:0', grad_fn=<SelectBackward0>)\n",
      "tensor(1, device='cuda:0')\n",
      "tensor([1.6806], device='cuda:0', grad_fn=<SelectBackward0>)\n",
      "tensor(1, device='cuda:0')\n",
      "tensor([1.9057], device='cuda:0', grad_fn=<SelectBackward0>)\n",
      "Epoch: 11, loss: 0.215\n",
      "tensor(0, device='cuda:0')\n",
      "tensor([-2.0336], device='cuda:0', grad_fn=<SelectBackward0>)\n",
      "tensor(1, device='cuda:0')\n",
      "tensor([1.9103], device='cuda:0', grad_fn=<SelectBackward0>)\n",
      "tensor(1, device='cuda:0')\n",
      "tensor([1.8979], device='cuda:0', grad_fn=<SelectBackward0>)\n",
      "tensor(1, device='cuda:0')\n",
      "tensor([1.1344], device='cuda:0', grad_fn=<SelectBackward0>)\n",
      "tensor(1, device='cuda:0')\n",
      "tensor([1.8813], device='cuda:0', grad_fn=<SelectBackward0>)\n",
      "tensor(1, device='cuda:0')\n",
      "tensor([1.9755], device='cuda:0', grad_fn=<SelectBackward0>)\n",
      "tensor(0, device='cuda:0')\n",
      "tensor([-0.3084], device='cuda:0', grad_fn=<SelectBackward0>)\n",
      "tensor(0, device='cuda:0')\n",
      "tensor([-1.1544], device='cuda:0', grad_fn=<SelectBackward0>)\n",
      "Epoch: 12, loss: 0.196\n",
      "tensor(0, device='cuda:0')\n",
      "tensor([-1.9323], device='cuda:0', grad_fn=<SelectBackward0>)\n",
      "tensor(1, device='cuda:0')\n",
      "tensor([1.6534], device='cuda:0', grad_fn=<SelectBackward0>)\n",
      "tensor(1, device='cuda:0')\n",
      "tensor([1.7371], device='cuda:0', grad_fn=<SelectBackward0>)\n",
      "tensor(0, device='cuda:0')\n",
      "tensor([-1.0569], device='cuda:0', grad_fn=<SelectBackward0>)\n",
      "tensor(1, device='cuda:0')\n",
      "tensor([1.4355], device='cuda:0', grad_fn=<SelectBackward0>)\n",
      "tensor(1, device='cuda:0')\n",
      "tensor([1.4294], device='cuda:0', grad_fn=<SelectBackward0>)\n",
      "tensor(0, device='cuda:0')\n",
      "tensor([-1.2910], device='cuda:0', grad_fn=<SelectBackward0>)\n",
      "tensor(0, device='cuda:0')\n",
      "tensor([-0.9543], device='cuda:0', grad_fn=<SelectBackward0>)\n",
      "Epoch: 13, loss: 0.199\n",
      "tensor(1, device='cuda:0')\n",
      "tensor([1.6808], device='cuda:0', grad_fn=<SelectBackward0>)\n",
      "tensor(0, device='cuda:0')\n",
      "tensor([-1.9770], device='cuda:0', grad_fn=<SelectBackward0>)\n",
      "tensor(1, device='cuda:0')\n",
      "tensor([1.3109], device='cuda:0', grad_fn=<SelectBackward0>)\n",
      "tensor(1, device='cuda:0')\n",
      "tensor([1.9808], device='cuda:0', grad_fn=<SelectBackward0>)\n",
      "tensor(1, device='cuda:0')\n",
      "tensor([1.7426], device='cuda:0', grad_fn=<SelectBackward0>)\n",
      "tensor(1, device='cuda:0')\n",
      "tensor([1.5465], device='cuda:0', grad_fn=<SelectBackward0>)\n",
      "tensor(1, device='cuda:0')\n",
      "tensor([1.7397], device='cuda:0', grad_fn=<SelectBackward0>)\n",
      "tensor(0, device='cuda:0')\n",
      "tensor([-2.2229], device='cuda:0', grad_fn=<SelectBackward0>)\n",
      "Epoch: 14, loss: 0.192\n",
      "tensor(1, device='cuda:0')\n",
      "tensor([1.7962], device='cuda:0', grad_fn=<SelectBackward0>)\n",
      "tensor(0, device='cuda:0')\n",
      "tensor([-1.4332], device='cuda:0', grad_fn=<SelectBackward0>)\n",
      "tensor(1, device='cuda:0')\n",
      "tensor([2.0475], device='cuda:0', grad_fn=<SelectBackward0>)\n",
      "tensor(0, device='cuda:0')\n",
      "tensor([-0.8722], device='cuda:0', grad_fn=<SelectBackward0>)\n",
      "tensor(0, device='cuda:0')\n",
      "tensor([-1.7893], device='cuda:0', grad_fn=<SelectBackward0>)\n",
      "tensor(0, device='cuda:0')\n",
      "tensor([-1.2356], device='cuda:0', grad_fn=<SelectBackward0>)\n",
      "tensor(0, device='cuda:0')\n",
      "tensor([-2.0866], device='cuda:0', grad_fn=<SelectBackward0>)\n",
      "tensor(0, device='cuda:0')\n",
      "tensor([-1.4559], device='cuda:0', grad_fn=<SelectBackward0>)\n",
      "Epoch: 15, loss: 0.191\n",
      "tensor(0, device='cuda:0')\n",
      "tensor([-1.6819], device='cuda:0', grad_fn=<SelectBackward0>)\n",
      "tensor(1, device='cuda:0')\n",
      "tensor([1.8756], device='cuda:0', grad_fn=<SelectBackward0>)\n",
      "tensor(1, device='cuda:0')\n",
      "tensor([1.8097], device='cuda:0', grad_fn=<SelectBackward0>)\n",
      "tensor(0, device='cuda:0')\n",
      "tensor([-1.7393], device='cuda:0', grad_fn=<SelectBackward0>)\n",
      "tensor(1, device='cuda:0')\n",
      "tensor([1.3196], device='cuda:0', grad_fn=<SelectBackward0>)\n",
      "tensor(1, device='cuda:0')\n",
      "tensor([2.0556], device='cuda:0', grad_fn=<SelectBackward0>)\n",
      "tensor(1, device='cuda:0')\n",
      "tensor([1.7776], device='cuda:0', grad_fn=<SelectBackward0>)\n",
      "tensor(0, device='cuda:0')\n",
      "tensor([-1.9050], device='cuda:0', grad_fn=<SelectBackward0>)\n",
      "Epoch: 16, loss: 0.19\n",
      "tensor(0, device='cuda:0')\n",
      "tensor([-2.1693], device='cuda:0', grad_fn=<SelectBackward0>)\n",
      "tensor(0, device='cuda:0')\n",
      "tensor([-1.4760], device='cuda:0', grad_fn=<SelectBackward0>)\n",
      "tensor(0, device='cuda:0')\n",
      "tensor([-2.2547], device='cuda:0', grad_fn=<SelectBackward0>)\n",
      "tensor(1, device='cuda:0')\n",
      "tensor([2.0184], device='cuda:0', grad_fn=<SelectBackward0>)\n",
      "tensor(1, device='cuda:0')\n",
      "tensor([1.9067], device='cuda:0', grad_fn=<SelectBackward0>)\n",
      "tensor(1, device='cuda:0')\n",
      "tensor([1.3841], device='cuda:0', grad_fn=<SelectBackward0>)\n",
      "tensor(0, device='cuda:0')\n",
      "tensor([-1.1480], device='cuda:0', grad_fn=<SelectBackward0>)\n",
      "tensor(0, device='cuda:0')\n",
      "tensor([-1.8787], device='cuda:0', grad_fn=<SelectBackward0>)\n",
      "Epoch: 17, loss: 0.174\n",
      "tensor(1, device='cuda:0')\n",
      "tensor([1.8035], device='cuda:0', grad_fn=<SelectBackward0>)\n",
      "tensor(0, device='cuda:0')\n",
      "tensor([-1.0526], device='cuda:0', grad_fn=<SelectBackward0>)\n",
      "tensor(1, device='cuda:0')\n",
      "tensor([1.4934], device='cuda:0', grad_fn=<SelectBackward0>)\n",
      "tensor(0, device='cuda:0')\n",
      "tensor([-1.8179], device='cuda:0', grad_fn=<SelectBackward0>)\n",
      "tensor(1, device='cuda:0')\n",
      "tensor([2.0567], device='cuda:0', grad_fn=<SelectBackward0>)\n",
      "tensor(1, device='cuda:0')\n",
      "tensor([1.8568], device='cuda:0', grad_fn=<SelectBackward0>)\n",
      "tensor(1, device='cuda:0')\n",
      "tensor([1.5452], device='cuda:0', grad_fn=<SelectBackward0>)\n",
      "tensor(1, device='cuda:0')\n",
      "tensor([1.8325], device='cuda:0', grad_fn=<SelectBackward0>)\n",
      "Epoch: 18, loss: 0.171\n",
      "tensor(1, device='cuda:0')\n",
      "tensor([1.8835], device='cuda:0', grad_fn=<SelectBackward0>)\n",
      "tensor(0, device='cuda:0')\n",
      "tensor([-2.3009], device='cuda:0', grad_fn=<SelectBackward0>)\n",
      "tensor(1, device='cuda:0')\n",
      "tensor([2.0014], device='cuda:0', grad_fn=<SelectBackward0>)\n",
      "tensor(0, device='cuda:0')\n",
      "tensor([-1.1250], device='cuda:0', grad_fn=<SelectBackward0>)\n",
      "tensor(1, device='cuda:0')\n",
      "tensor([2.1055], device='cuda:0', grad_fn=<SelectBackward0>)\n",
      "tensor(0, device='cuda:0')\n",
      "tensor([-2.2609], device='cuda:0', grad_fn=<SelectBackward0>)\n",
      "tensor(1, device='cuda:0')\n",
      "tensor([1.8383], device='cuda:0', grad_fn=<SelectBackward0>)\n",
      "tensor(0, device='cuda:0')\n",
      "tensor([-1.2043], device='cuda:0', grad_fn=<SelectBackward0>)\n",
      "Epoch: 19, loss: 0.173\n",
      "tensor(0, device='cuda:0')\n",
      "tensor([-1.3653], device='cuda:0', grad_fn=<SelectBackward0>)\n",
      "tensor(0, device='cuda:0')\n",
      "tensor([-1.3150], device='cuda:0', grad_fn=<SelectBackward0>)\n",
      "tensor(0, device='cuda:0')\n",
      "tensor([-0.8071], device='cuda:0', grad_fn=<SelectBackward0>)\n",
      "tensor(1, device='cuda:0')\n",
      "tensor([1.8062], device='cuda:0', grad_fn=<SelectBackward0>)\n",
      "tensor(0, device='cuda:0')\n",
      "tensor([-2.0108], device='cuda:0', grad_fn=<SelectBackward0>)\n",
      "tensor(0, device='cuda:0')\n",
      "tensor([-0.6854], device='cuda:0', grad_fn=<SelectBackward0>)\n",
      "tensor(1, device='cuda:0')\n",
      "tensor([1.9164], device='cuda:0', grad_fn=<SelectBackward0>)\n",
      "tensor(1, device='cuda:0')\n",
      "tensor([2.0166], device='cuda:0', grad_fn=<SelectBackward0>)\n",
      "Epoch: 20, loss: 0.178\n",
      "tensor(0, device='cuda:0')\n",
      "tensor([-1.4149], device='cuda:0', grad_fn=<SelectBackward0>)\n",
      "tensor(1, device='cuda:0')\n",
      "tensor([1.5839], device='cuda:0', grad_fn=<SelectBackward0>)\n",
      "tensor(0, device='cuda:0')\n",
      "tensor([-2.3034], device='cuda:0', grad_fn=<SelectBackward0>)\n",
      "tensor(0, device='cuda:0')\n",
      "tensor([-1.6245], device='cuda:0', grad_fn=<SelectBackward0>)\n",
      "tensor(1, device='cuda:0')\n",
      "tensor([1.8240], device='cuda:0', grad_fn=<SelectBackward0>)\n",
      "tensor(1, device='cuda:0')\n",
      "tensor([1.7562], device='cuda:0', grad_fn=<SelectBackward0>)\n",
      "tensor(0, device='cuda:0')\n",
      "tensor([-2.3596], device='cuda:0', grad_fn=<SelectBackward0>)\n",
      "tensor(0, device='cuda:0')\n",
      "tensor([-0.9173], device='cuda:0', grad_fn=<SelectBackward0>)\n",
      "Epoch: 21, loss: 0.163\n",
      "tensor(0, device='cuda:0')\n",
      "tensor([-1.9446], device='cuda:0', grad_fn=<SelectBackward0>)\n",
      "tensor(0, device='cuda:0')\n",
      "tensor([-2.2703], device='cuda:0', grad_fn=<SelectBackward0>)\n",
      "tensor(0, device='cuda:0')\n",
      "tensor([-2.3584], device='cuda:0', grad_fn=<SelectBackward0>)\n",
      "tensor(0, device='cuda:0')\n",
      "tensor([-2.0132], device='cuda:0', grad_fn=<SelectBackward0>)\n",
      "tensor(1, device='cuda:0')\n",
      "tensor([1.3860], device='cuda:0', grad_fn=<SelectBackward0>)\n",
      "tensor(1, device='cuda:0')\n",
      "tensor([2.1644], device='cuda:0', grad_fn=<SelectBackward0>)\n",
      "tensor(1, device='cuda:0')\n",
      "tensor([1.7363], device='cuda:0', grad_fn=<SelectBackward0>)\n",
      "tensor(1, device='cuda:0')\n",
      "tensor([2.0217], device='cuda:0', grad_fn=<SelectBackward0>)\n",
      "Epoch: 22, loss: 0.157\n",
      "tensor(1, device='cuda:0')\n",
      "tensor([2.2337], device='cuda:0', grad_fn=<SelectBackward0>)\n",
      "tensor(1, device='cuda:0')\n",
      "tensor([2.0356], device='cuda:0', grad_fn=<SelectBackward0>)\n",
      "tensor(0, device='cuda:0')\n",
      "tensor([-1.8678], device='cuda:0', grad_fn=<SelectBackward0>)\n",
      "tensor(0, device='cuda:0')\n",
      "tensor([-1.1945], device='cuda:0', grad_fn=<SelectBackward0>)\n",
      "tensor(1, device='cuda:0')\n",
      "tensor([2.3152], device='cuda:0', grad_fn=<SelectBackward0>)\n",
      "tensor(0, device='cuda:0')\n",
      "tensor([-2.3812], device='cuda:0', grad_fn=<SelectBackward0>)\n",
      "tensor(0, device='cuda:0')\n",
      "tensor([-0.7685], device='cuda:0', grad_fn=<SelectBackward0>)\n",
      "tensor(1, device='cuda:0')\n",
      "tensor([2.0378], device='cuda:0', grad_fn=<SelectBackward0>)\n",
      "Epoch: 23, loss: 0.152\n",
      "tensor(0, device='cuda:0')\n",
      "tensor([-2.3951], device='cuda:0', grad_fn=<SelectBackward0>)\n",
      "tensor(1, device='cuda:0')\n",
      "tensor([1.9967], device='cuda:0', grad_fn=<SelectBackward0>)\n",
      "tensor(0, device='cuda:0')\n",
      "tensor([-1.9665], device='cuda:0', grad_fn=<SelectBackward0>)\n",
      "tensor(0, device='cuda:0')\n",
      "tensor([-1.0259], device='cuda:0', grad_fn=<SelectBackward0>)\n",
      "tensor(1, device='cuda:0')\n",
      "tensor([2.1366], device='cuda:0', grad_fn=<SelectBackward0>)\n",
      "tensor(1, device='cuda:0')\n",
      "tensor([1.5995], device='cuda:0', grad_fn=<SelectBackward0>)\n",
      "tensor(1, device='cuda:0')\n",
      "tensor([2.0283], device='cuda:0', grad_fn=<SelectBackward0>)\n",
      "tensor(1, device='cuda:0')\n",
      "tensor([2.0189], device='cuda:0', grad_fn=<SelectBackward0>)\n",
      "Epoch: 24, loss: 0.16\n",
      "tensor(1, device='cuda:0')\n",
      "tensor([2.2847], device='cuda:0', grad_fn=<SelectBackward0>)\n",
      "tensor(0, device='cuda:0')\n",
      "tensor([-0.7511], device='cuda:0', grad_fn=<SelectBackward0>)\n",
      "tensor(1, device='cuda:0')\n",
      "tensor([2.0754], device='cuda:0', grad_fn=<SelectBackward0>)\n",
      "tensor(0, device='cuda:0')\n",
      "tensor([-1.9359], device='cuda:0', grad_fn=<SelectBackward0>)\n",
      "tensor(0, device='cuda:0')\n",
      "tensor([-2.3959], device='cuda:0', grad_fn=<SelectBackward0>)\n",
      "tensor(1, device='cuda:0')\n",
      "tensor([2.3643], device='cuda:0', grad_fn=<SelectBackward0>)\n",
      "tensor(1, device='cuda:0')\n",
      "tensor([2.2328], device='cuda:0', grad_fn=<SelectBackward0>)\n",
      "tensor(1, device='cuda:0')\n",
      "tensor([2.0565], device='cuda:0', grad_fn=<SelectBackward0>)\n",
      "Epoch: 25, loss: 0.145\n",
      "tensor(1, device='cuda:0')\n",
      "tensor([1.9351], device='cuda:0', grad_fn=<SelectBackward0>)\n",
      "tensor(1, device='cuda:0')\n",
      "tensor([2.1048], device='cuda:0', grad_fn=<SelectBackward0>)\n",
      "tensor(0, device='cuda:0')\n",
      "tensor([-1.2527], device='cuda:0', grad_fn=<SelectBackward0>)\n",
      "tensor(1, device='cuda:0')\n",
      "tensor([2.0972], device='cuda:0', grad_fn=<SelectBackward0>)\n",
      "tensor(0, device='cuda:0')\n",
      "tensor([-2.0898], device='cuda:0', grad_fn=<SelectBackward0>)\n",
      "tensor(1, device='cuda:0')\n",
      "tensor([1.4755], device='cuda:0', grad_fn=<SelectBackward0>)\n",
      "tensor(1, device='cuda:0')\n",
      "tensor([2.1146], device='cuda:0', grad_fn=<SelectBackward0>)\n",
      "tensor(1, device='cuda:0')\n",
      "tensor([2.3896], device='cuda:0', grad_fn=<SelectBackward0>)\n",
      "Epoch: 26, loss: 0.145\n",
      "tensor(1, device='cuda:0')\n",
      "tensor([1.4587], device='cuda:0', grad_fn=<SelectBackward0>)\n",
      "tensor(1, device='cuda:0')\n",
      "tensor([2.3094], device='cuda:0', grad_fn=<SelectBackward0>)\n",
      "tensor(0, device='cuda:0')\n",
      "tensor([-1.6543], device='cuda:0', grad_fn=<SelectBackward0>)\n",
      "tensor(0, device='cuda:0')\n",
      "tensor([-0.8251], device='cuda:0', grad_fn=<SelectBackward0>)\n",
      "tensor(1, device='cuda:0')\n",
      "tensor([2.0537], device='cuda:0', grad_fn=<SelectBackward0>)\n",
      "tensor(0, device='cuda:0')\n",
      "tensor([-2.1877], device='cuda:0', grad_fn=<SelectBackward0>)\n",
      "tensor(1, device='cuda:0')\n",
      "tensor([1.8367], device='cuda:0', grad_fn=<SelectBackward0>)\n",
      "tensor(1, device='cuda:0')\n",
      "tensor([1.8275], device='cuda:0', grad_fn=<SelectBackward0>)\n",
      "Epoch: 27, loss: 0.136\n",
      "tensor(0, device='cuda:0')\n",
      "tensor([-2.4297], device='cuda:0', grad_fn=<SelectBackward0>)\n",
      "tensor(0, device='cuda:0')\n",
      "tensor([-2.3389], device='cuda:0', grad_fn=<SelectBackward0>)\n",
      "tensor(1, device='cuda:0')\n",
      "tensor([1.8616], device='cuda:0', grad_fn=<SelectBackward0>)\n",
      "tensor(1, device='cuda:0')\n",
      "tensor([2.1686], device='cuda:0', grad_fn=<SelectBackward0>)\n",
      "tensor(0, device='cuda:0')\n",
      "tensor([-1.7743], device='cuda:0', grad_fn=<SelectBackward0>)\n",
      "tensor(1, device='cuda:0')\n",
      "tensor([1.2650], device='cuda:0', grad_fn=<SelectBackward0>)\n",
      "tensor(0, device='cuda:0')\n",
      "tensor([-2.1409], device='cuda:0', grad_fn=<SelectBackward0>)\n",
      "tensor(0, device='cuda:0')\n",
      "tensor([-2.3410], device='cuda:0', grad_fn=<SelectBackward0>)\n",
      "Epoch: 28, loss: 0.142\n",
      "tensor(0, device='cuda:0')\n",
      "tensor([-1.7764], device='cuda:0', grad_fn=<SelectBackward0>)\n",
      "tensor(1, device='cuda:0')\n",
      "tensor([2.4204], device='cuda:0', grad_fn=<SelectBackward0>)\n",
      "tensor(1, device='cuda:0')\n",
      "tensor([2.0938], device='cuda:0', grad_fn=<SelectBackward0>)\n",
      "tensor(0, device='cuda:0')\n",
      "tensor([-1.6791], device='cuda:0', grad_fn=<SelectBackward0>)\n",
      "tensor(0, device='cuda:0')\n",
      "tensor([-1.9721], device='cuda:0', grad_fn=<SelectBackward0>)\n",
      "tensor(0, device='cuda:0')\n",
      "tensor([-1.6342], device='cuda:0', grad_fn=<SelectBackward0>)\n",
      "tensor(0, device='cuda:0')\n",
      "tensor([-2.1592], device='cuda:0', grad_fn=<SelectBackward0>)\n",
      "tensor(0, device='cuda:0')\n",
      "tensor([-1.6291], device='cuda:0', grad_fn=<SelectBackward0>)\n",
      "Epoch: 29, loss: 0.141\n",
      "tensor(0, device='cuda:0')\n",
      "tensor([-0.8067], device='cuda:0', grad_fn=<SelectBackward0>)\n",
      "tensor(1, device='cuda:0')\n",
      "tensor([2.0838], device='cuda:0', grad_fn=<SelectBackward0>)\n",
      "tensor(1, device='cuda:0')\n",
      "tensor([1.1149], device='cuda:0', grad_fn=<SelectBackward0>)\n",
      "tensor(0, device='cuda:0')\n",
      "tensor([-2.5154], device='cuda:0', grad_fn=<SelectBackward0>)\n",
      "tensor(1, device='cuda:0')\n",
      "tensor([2.3422], device='cuda:0', grad_fn=<SelectBackward0>)\n",
      "tensor(1, device='cuda:0')\n",
      "tensor([2.1179], device='cuda:0', grad_fn=<SelectBackward0>)\n",
      "tensor(0, device='cuda:0')\n",
      "tensor([-2.2588], device='cuda:0', grad_fn=<SelectBackward0>)\n",
      "tensor(0, device='cuda:0')\n",
      "tensor([-1.9911], device='cuda:0', grad_fn=<SelectBackward0>)\n",
      "Epoch: 30, loss: 0.136\n",
      "tensor(0, device='cuda:0')\n",
      "tensor([-0.8776], device='cuda:0', grad_fn=<SelectBackward0>)\n",
      "tensor(0, device='cuda:0')\n",
      "tensor([-2.2795], device='cuda:0', grad_fn=<SelectBackward0>)\n",
      "tensor(0, device='cuda:0')\n",
      "tensor([-2.0091], device='cuda:0', grad_fn=<SelectBackward0>)\n",
      "tensor(1, device='cuda:0')\n",
      "tensor([2.0283], device='cuda:0', grad_fn=<SelectBackward0>)\n",
      "tensor(0, device='cuda:0')\n",
      "tensor([-2.5129], device='cuda:0', grad_fn=<SelectBackward0>)\n",
      "tensor(0, device='cuda:0')\n",
      "tensor([-1.4008], device='cuda:0', grad_fn=<SelectBackward0>)\n",
      "tensor(0, device='cuda:0')\n",
      "tensor([-2.5449], device='cuda:0', grad_fn=<SelectBackward0>)\n",
      "tensor(0, device='cuda:0')\n",
      "tensor([-2.0108], device='cuda:0', grad_fn=<SelectBackward0>)\n",
      "Epoch: 31, loss: 0.134\n",
      "tensor(0, device='cuda:0')\n",
      "tensor([-2.5454], device='cuda:0', grad_fn=<SelectBackward0>)\n",
      "tensor(1, device='cuda:0')\n",
      "tensor([2.3080], device='cuda:0', grad_fn=<SelectBackward0>)\n",
      "tensor(1, device='cuda:0')\n",
      "tensor([2.2609], device='cuda:0', grad_fn=<SelectBackward0>)\n",
      "tensor(1, device='cuda:0')\n",
      "tensor([2.2456], device='cuda:0', grad_fn=<SelectBackward0>)\n",
      "tensor(0, device='cuda:0')\n",
      "tensor([-2.4578], device='cuda:0', grad_fn=<SelectBackward0>)\n",
      "tensor(0, device='cuda:0')\n",
      "tensor([-2.5540], device='cuda:0', grad_fn=<SelectBackward0>)\n",
      "tensor(0, device='cuda:0')\n",
      "tensor([-2.3806], device='cuda:0', grad_fn=<SelectBackward0>)\n",
      "tensor(1, device='cuda:0')\n",
      "tensor([2.1702], device='cuda:0', grad_fn=<SelectBackward0>)\n",
      "Epoch: 32, loss: 0.134\n",
      "tensor(1, device='cuda:0')\n",
      "tensor([2.2169], device='cuda:0', grad_fn=<SelectBackward0>)\n",
      "tensor(0, device='cuda:0')\n",
      "tensor([-2.4131], device='cuda:0', grad_fn=<SelectBackward0>)\n",
      "tensor(0, device='cuda:0')\n",
      "tensor([-1.6689], device='cuda:0', grad_fn=<SelectBackward0>)\n",
      "tensor(0, device='cuda:0')\n",
      "tensor([-2.2697], device='cuda:0', grad_fn=<SelectBackward0>)\n",
      "tensor(1, device='cuda:0')\n",
      "tensor([2.5319], device='cuda:0', grad_fn=<SelectBackward0>)\n",
      "tensor(0, device='cuda:0')\n",
      "tensor([-2.0933], device='cuda:0', grad_fn=<SelectBackward0>)\n",
      "tensor(0, device='cuda:0')\n",
      "tensor([-1.5943], device='cuda:0', grad_fn=<SelectBackward0>)\n",
      "tensor(0, device='cuda:0')\n",
      "tensor([-2.2724], device='cuda:0', grad_fn=<SelectBackward0>)\n",
      "Epoch: 33, loss: 0.126\n",
      "tensor(1, device='cuda:0')\n",
      "tensor([2.2283], device='cuda:0', grad_fn=<SelectBackward0>)\n",
      "tensor(0, device='cuda:0')\n",
      "tensor([-2.4546], device='cuda:0', grad_fn=<SelectBackward0>)\n",
      "tensor(1, device='cuda:0')\n",
      "tensor([2.1168], device='cuda:0', grad_fn=<SelectBackward0>)\n",
      "tensor(0, device='cuda:0')\n",
      "tensor([-1.8380], device='cuda:0', grad_fn=<SelectBackward0>)\n",
      "tensor(1, device='cuda:0')\n",
      "tensor([1.5367], device='cuda:0', grad_fn=<SelectBackward0>)\n",
      "tensor(1, device='cuda:0')\n",
      "tensor([2.2266], device='cuda:0', grad_fn=<SelectBackward0>)\n",
      "tensor(1, device='cuda:0')\n",
      "tensor([2.4427], device='cuda:0', grad_fn=<SelectBackward0>)\n",
      "tensor(0, device='cuda:0')\n",
      "tensor([-1.3934], device='cuda:0', grad_fn=<SelectBackward0>)\n",
      "Epoch: 34, loss: 0.125\n",
      "tensor(0, device='cuda:0')\n",
      "tensor([-1.6655], device='cuda:0', grad_fn=<SelectBackward0>)\n",
      "tensor(0, device='cuda:0')\n",
      "tensor([-2.1612], device='cuda:0', grad_fn=<SelectBackward0>)\n",
      "tensor(1, device='cuda:0')\n",
      "tensor([2.1844], device='cuda:0', grad_fn=<SelectBackward0>)\n",
      "tensor(1, device='cuda:0')\n",
      "tensor([2.1588], device='cuda:0', grad_fn=<SelectBackward0>)\n",
      "tensor(0, device='cuda:0')\n",
      "tensor([-1.9831], device='cuda:0', grad_fn=<SelectBackward0>)\n",
      "tensor(1, device='cuda:0')\n",
      "tensor([2.5552], device='cuda:0', grad_fn=<SelectBackward0>)\n",
      "tensor(1, device='cuda:0')\n",
      "tensor([1.5576], device='cuda:0', grad_fn=<SelectBackward0>)\n",
      "tensor(0, device='cuda:0')\n",
      "tensor([-0.7197], device='cuda:0', grad_fn=<SelectBackward0>)\n",
      "Epoch: 35, loss: 0.12\n",
      "tensor(0, device='cuda:0')\n",
      "tensor([-1.9833], device='cuda:0', grad_fn=<SelectBackward0>)\n",
      "tensor(1, device='cuda:0')\n",
      "tensor([2.6229], device='cuda:0', grad_fn=<SelectBackward0>)\n",
      "tensor(0, device='cuda:0')\n",
      "tensor([-2.1944], device='cuda:0', grad_fn=<SelectBackward0>)\n",
      "tensor(1, device='cuda:0')\n",
      "tensor([1.3995], device='cuda:0', grad_fn=<SelectBackward0>)\n",
      "tensor(0, device='cuda:0')\n",
      "tensor([-2.1877], device='cuda:0', grad_fn=<SelectBackward0>)\n",
      "tensor(1, device='cuda:0')\n",
      "tensor([2.3573], device='cuda:0', grad_fn=<SelectBackward0>)\n",
      "tensor(0, device='cuda:0')\n",
      "tensor([-2.5796], device='cuda:0', grad_fn=<SelectBackward0>)\n",
      "tensor(1, device='cuda:0')\n",
      "tensor([2.6075], device='cuda:0', grad_fn=<SelectBackward0>)\n",
      "Epoch: 36, loss: 0.119\n",
      "tensor(1, device='cuda:0')\n",
      "tensor([1.7434], device='cuda:0', grad_fn=<SelectBackward0>)\n",
      "tensor(0, device='cuda:0')\n",
      "tensor([-1.5051], device='cuda:0', grad_fn=<SelectBackward0>)\n",
      "tensor(0, device='cuda:0')\n",
      "tensor([-1.5997], device='cuda:0', grad_fn=<SelectBackward0>)\n",
      "tensor(1, device='cuda:0')\n",
      "tensor([1.4660], device='cuda:0', grad_fn=<SelectBackward0>)\n",
      "tensor(0, device='cuda:0')\n",
      "tensor([-2.0463], device='cuda:0', grad_fn=<SelectBackward0>)\n",
      "tensor(0, device='cuda:0')\n",
      "tensor([-1.4947], device='cuda:0', grad_fn=<SelectBackward0>)\n",
      "tensor(1, device='cuda:0')\n",
      "tensor([2.4147], device='cuda:0', grad_fn=<SelectBackward0>)\n",
      "tensor(0, device='cuda:0')\n",
      "tensor([-2.6559], device='cuda:0', grad_fn=<SelectBackward0>)\n",
      "Epoch: 37, loss: 0.128\n",
      "tensor(0, device='cuda:0')\n",
      "tensor([-1.0198], device='cuda:0', grad_fn=<SelectBackward0>)\n",
      "tensor(1, device='cuda:0')\n",
      "tensor([2.0283], device='cuda:0', grad_fn=<SelectBackward0>)\n",
      "tensor(0, device='cuda:0')\n",
      "tensor([-2.0249], device='cuda:0', grad_fn=<SelectBackward0>)\n",
      "tensor(1, device='cuda:0')\n",
      "tensor([2.0200], device='cuda:0', grad_fn=<SelectBackward0>)\n",
      "tensor(0, device='cuda:0')\n",
      "tensor([-1.9365], device='cuda:0', grad_fn=<SelectBackward0>)\n",
      "tensor(0, device='cuda:0')\n",
      "tensor([-1.3092], device='cuda:0', grad_fn=<SelectBackward0>)\n",
      "tensor(1, device='cuda:0')\n",
      "tensor([2.4444], device='cuda:0', grad_fn=<SelectBackward0>)\n",
      "tensor(1, device='cuda:0')\n",
      "tensor([2.5955], device='cuda:0', grad_fn=<SelectBackward0>)\n",
      "Epoch: 38, loss: 0.112\n",
      "tensor(1, device='cuda:0')\n",
      "tensor([2.4303], device='cuda:0', grad_fn=<SelectBackward0>)\n",
      "tensor(1, device='cuda:0')\n",
      "tensor([2.3093], device='cuda:0', grad_fn=<SelectBackward0>)\n",
      "tensor(1, device='cuda:0')\n",
      "tensor([2.7062], device='cuda:0', grad_fn=<SelectBackward0>)\n",
      "tensor(0, device='cuda:0')\n",
      "tensor([-2.2126], device='cuda:0', grad_fn=<SelectBackward0>)\n",
      "tensor(1, device='cuda:0')\n",
      "tensor([2.7219], device='cuda:0', grad_fn=<SelectBackward0>)\n",
      "tensor(1, device='cuda:0')\n",
      "tensor([2.3123], device='cuda:0', grad_fn=<SelectBackward0>)\n",
      "tensor(0, device='cuda:0')\n",
      "tensor([-1.3399], device='cuda:0', grad_fn=<SelectBackward0>)\n",
      "tensor(0, device='cuda:0')\n",
      "tensor([-2.3994], device='cuda:0', grad_fn=<SelectBackward0>)\n",
      "Epoch: 39, loss: 0.102\n",
      "tensor(0, device='cuda:0')\n",
      "tensor([-1.5657], device='cuda:0', grad_fn=<SelectBackward0>)\n",
      "tensor(0, device='cuda:0')\n",
      "tensor([-2.5095], device='cuda:0', grad_fn=<SelectBackward0>)\n",
      "tensor(0, device='cuda:0')\n",
      "tensor([-2.2242], device='cuda:0', grad_fn=<SelectBackward0>)\n",
      "tensor(0, device='cuda:0')\n",
      "tensor([-2.2705], device='cuda:0', grad_fn=<SelectBackward0>)\n",
      "tensor(1, device='cuda:0')\n",
      "tensor([2.1880], device='cuda:0', grad_fn=<SelectBackward0>)\n",
      "tensor(1, device='cuda:0')\n",
      "tensor([1.6471], device='cuda:0', grad_fn=<SelectBackward0>)\n",
      "tensor(0, device='cuda:0')\n",
      "tensor([-2.4741], device='cuda:0', grad_fn=<SelectBackward0>)\n",
      "tensor(1, device='cuda:0')\n",
      "tensor([2.2949], device='cuda:0', grad_fn=<SelectBackward0>)\n",
      "Epoch: 40, loss: 0.104\n",
      "tensor(1, device='cuda:0')\n",
      "tensor([2.0692], device='cuda:0', grad_fn=<SelectBackward0>)\n",
      "tensor(0, device='cuda:0')\n",
      "tensor([-2.1575], device='cuda:0', grad_fn=<SelectBackward0>)\n",
      "tensor(0, device='cuda:0')\n",
      "tensor([-2.6207], device='cuda:0', grad_fn=<SelectBackward0>)\n",
      "tensor(0, device='cuda:0')\n",
      "tensor([-2.4616], device='cuda:0', grad_fn=<SelectBackward0>)\n",
      "tensor(1, device='cuda:0')\n",
      "tensor([2.5213], device='cuda:0', grad_fn=<SelectBackward0>)\n",
      "tensor(0, device='cuda:0')\n",
      "tensor([-2.6722], device='cuda:0', grad_fn=<SelectBackward0>)\n",
      "tensor(1, device='cuda:0')\n",
      "tensor([2.5233], device='cuda:0', grad_fn=<SelectBackward0>)\n",
      "tensor(1, device='cuda:0')\n",
      "tensor([2.4257], device='cuda:0', grad_fn=<SelectBackward0>)\n",
      "Epoch: 41, loss: 0.112\n",
      "tensor(0, device='cuda:0')\n",
      "tensor([-2.0607], device='cuda:0', grad_fn=<SelectBackward0>)\n",
      "tensor(0, device='cuda:0')\n",
      "tensor([-2.6611], device='cuda:0', grad_fn=<SelectBackward0>)\n",
      "tensor(0, device='cuda:0')\n",
      "tensor([-2.4512], device='cuda:0', grad_fn=<SelectBackward0>)\n",
      "tensor(0, device='cuda:0')\n",
      "tensor([-2.0176], device='cuda:0', grad_fn=<SelectBackward0>)\n",
      "tensor(0, device='cuda:0')\n",
      "tensor([-1.5743], device='cuda:0', grad_fn=<SelectBackward0>)\n",
      "tensor(0, device='cuda:0')\n",
      "tensor([-2.7300], device='cuda:0', grad_fn=<SelectBackward0>)\n",
      "tensor(0, device='cuda:0')\n",
      "tensor([-2.6307], device='cuda:0', grad_fn=<SelectBackward0>)\n",
      "tensor(1, device='cuda:0')\n",
      "tensor([2.4526], device='cuda:0', grad_fn=<SelectBackward0>)\n",
      "Epoch: 42, loss: 0.103\n",
      "tensor(1, device='cuda:0')\n",
      "tensor([2.7100], device='cuda:0', grad_fn=<SelectBackward0>)\n",
      "tensor(1, device='cuda:0')\n",
      "tensor([2.7485], device='cuda:0', grad_fn=<SelectBackward0>)\n",
      "tensor(1, device='cuda:0')\n",
      "tensor([1.4144], device='cuda:0', grad_fn=<SelectBackward0>)\n",
      "tensor(1, device='cuda:0')\n",
      "tensor([2.5555], device='cuda:0', grad_fn=<SelectBackward0>)\n",
      "tensor(1, device='cuda:0')\n",
      "tensor([2.5545], device='cuda:0', grad_fn=<SelectBackward0>)\n",
      "tensor(1, device='cuda:0')\n",
      "tensor([2.0806], device='cuda:0', grad_fn=<SelectBackward0>)\n",
      "tensor(1, device='cuda:0')\n",
      "tensor([2.3846], device='cuda:0', grad_fn=<SelectBackward0>)\n",
      "tensor(0, device='cuda:0')\n",
      "tensor([-2.7515], device='cuda:0', grad_fn=<SelectBackward0>)\n",
      "Epoch: 43, loss: 0.0995\n",
      "tensor(1, device='cuda:0')\n",
      "tensor([2.6098], device='cuda:0', grad_fn=<SelectBackward0>)\n",
      "tensor(0, device='cuda:0')\n",
      "tensor([-2.6899], device='cuda:0', grad_fn=<SelectBackward0>)\n",
      "tensor(1, device='cuda:0')\n",
      "tensor([2.5725], device='cuda:0', grad_fn=<SelectBackward0>)\n",
      "tensor(1, device='cuda:0')\n",
      "tensor([2.4335], device='cuda:0', grad_fn=<SelectBackward0>)\n",
      "tensor(0, device='cuda:0')\n",
      "tensor([-1.3667], device='cuda:0', grad_fn=<SelectBackward0>)\n",
      "tensor(1, device='cuda:0')\n",
      "tensor([2.1827], device='cuda:0', grad_fn=<SelectBackward0>)\n",
      "tensor(0, device='cuda:0')\n",
      "tensor([-2.5075], device='cuda:0', grad_fn=<SelectBackward0>)\n",
      "tensor(0, device='cuda:0')\n",
      "tensor([-2.1747], device='cuda:0', grad_fn=<SelectBackward0>)\n",
      "Epoch: 44, loss: 0.106\n",
      "tensor(1, device='cuda:0')\n",
      "tensor([2.6003], device='cuda:0', grad_fn=<SelectBackward0>)\n",
      "tensor(0, device='cuda:0')\n",
      "tensor([-1.6289], device='cuda:0', grad_fn=<SelectBackward0>)\n",
      "tensor(0, device='cuda:0')\n",
      "tensor([-2.7892], device='cuda:0', grad_fn=<SelectBackward0>)\n",
      "tensor(1, device='cuda:0')\n",
      "tensor([2.1260], device='cuda:0', grad_fn=<SelectBackward0>)\n",
      "tensor(0, device='cuda:0')\n",
      "tensor([-1.7020], device='cuda:0', grad_fn=<SelectBackward0>)\n",
      "tensor(0, device='cuda:0')\n",
      "tensor([-1.7936], device='cuda:0', grad_fn=<SelectBackward0>)\n",
      "tensor(1, device='cuda:0')\n",
      "tensor([2.2207], device='cuda:0', grad_fn=<SelectBackward0>)\n",
      "tensor(0, device='cuda:0')\n",
      "tensor([-2.3456], device='cuda:0', grad_fn=<SelectBackward0>)\n",
      "Epoch: 45, loss: 0.0975\n",
      "tensor(0, device='cuda:0')\n",
      "tensor([-2.7991], device='cuda:0', grad_fn=<SelectBackward0>)\n",
      "tensor(1, device='cuda:0')\n",
      "tensor([2.3521], device='cuda:0', grad_fn=<SelectBackward0>)\n",
      "tensor(0, device='cuda:0')\n",
      "tensor([-2.8067], device='cuda:0', grad_fn=<SelectBackward0>)\n",
      "tensor(1, device='cuda:0')\n",
      "tensor([2.8011], device='cuda:0', grad_fn=<SelectBackward0>)\n",
      "tensor(0, device='cuda:0')\n",
      "tensor([-2.2515], device='cuda:0', grad_fn=<SelectBackward0>)\n",
      "tensor(0, device='cuda:0')\n",
      "tensor([-2.7579], device='cuda:0', grad_fn=<SelectBackward0>)\n",
      "tensor(1, device='cuda:0')\n",
      "tensor([2.3436], device='cuda:0', grad_fn=<SelectBackward0>)\n",
      "tensor(1, device='cuda:0')\n",
      "tensor([2.5024], device='cuda:0', grad_fn=<SelectBackward0>)\n",
      "Epoch: 46, loss: 0.0943\n",
      "tensor(1, device='cuda:0')\n",
      "tensor([1.4388], device='cuda:0', grad_fn=<SelectBackward0>)\n",
      "tensor(0, device='cuda:0')\n",
      "tensor([-2.8205], device='cuda:0', grad_fn=<SelectBackward0>)\n",
      "tensor(0, device='cuda:0')\n",
      "tensor([-2.6510], device='cuda:0', grad_fn=<SelectBackward0>)\n",
      "tensor(0, device='cuda:0')\n",
      "tensor([-1.6517], device='cuda:0', grad_fn=<SelectBackward0>)\n",
      "tensor(1, device='cuda:0')\n",
      "tensor([2.7387], device='cuda:0', grad_fn=<SelectBackward0>)\n",
      "tensor(1, device='cuda:0')\n",
      "tensor([2.9071], device='cuda:0', grad_fn=<SelectBackward0>)\n",
      "tensor(1, device='cuda:0')\n",
      "tensor([2.3211], device='cuda:0', grad_fn=<SelectBackward0>)\n",
      "tensor(0, device='cuda:0')\n",
      "tensor([-1.9395], device='cuda:0', grad_fn=<SelectBackward0>)\n",
      "Epoch: 47, loss: 0.0975\n",
      "tensor(1, device='cuda:0')\n",
      "tensor([2.8638], device='cuda:0', grad_fn=<SelectBackward0>)\n",
      "tensor(1, device='cuda:0')\n",
      "tensor([2.7772], device='cuda:0', grad_fn=<SelectBackward0>)\n",
      "tensor(1, device='cuda:0')\n",
      "tensor([2.5516], device='cuda:0', grad_fn=<SelectBackward0>)\n",
      "tensor(0, device='cuda:0')\n",
      "tensor([-2.7683], device='cuda:0', grad_fn=<SelectBackward0>)\n",
      "tensor(1, device='cuda:0')\n",
      "tensor([2.5613], device='cuda:0', grad_fn=<SelectBackward0>)\n",
      "tensor(0, device='cuda:0')\n",
      "tensor([-2.2069], device='cuda:0', grad_fn=<SelectBackward0>)\n",
      "tensor(0, device='cuda:0')\n",
      "tensor([-2.8517], device='cuda:0', grad_fn=<SelectBackward0>)\n",
      "tensor(1, device='cuda:0')\n",
      "tensor([2.9121], device='cuda:0', grad_fn=<SelectBackward0>)\n",
      "Epoch: 48, loss: 0.0919\n",
      "tensor(1, device='cuda:0')\n",
      "tensor([2.9342], device='cuda:0', grad_fn=<SelectBackward0>)\n",
      "tensor(0, device='cuda:0')\n",
      "tensor([-1.7103], device='cuda:0', grad_fn=<SelectBackward0>)\n",
      "tensor(0, device='cuda:0')\n",
      "tensor([-2.7077], device='cuda:0', grad_fn=<SelectBackward0>)\n",
      "tensor(1, device='cuda:0')\n",
      "tensor([2.5849], device='cuda:0', grad_fn=<SelectBackward0>)\n",
      "tensor(1, device='cuda:0')\n",
      "tensor([2.2709], device='cuda:0', grad_fn=<SelectBackward0>)\n",
      "tensor(1, device='cuda:0')\n",
      "tensor([2.8456], device='cuda:0', grad_fn=<SelectBackward0>)\n",
      "tensor(0, device='cuda:0')\n",
      "tensor([-2.2069], device='cuda:0', grad_fn=<SelectBackward0>)\n",
      "tensor(1, device='cuda:0')\n",
      "tensor([2.4742], device='cuda:0', grad_fn=<SelectBackward0>)\n",
      "Epoch: 49, loss: 0.0886\n",
      "tensor(0, device='cuda:0')\n",
      "tensor([-1.8237], device='cuda:0', grad_fn=<SelectBackward0>)\n",
      "tensor(1, device='cuda:0')\n",
      "tensor([2.6914], device='cuda:0', grad_fn=<SelectBackward0>)\n",
      "tensor(1, device='cuda:0')\n",
      "tensor([2.6454], device='cuda:0', grad_fn=<SelectBackward0>)\n",
      "tensor(0, device='cuda:0')\n",
      "tensor([-2.8741], device='cuda:0', grad_fn=<SelectBackward0>)\n",
      "tensor(0, device='cuda:0')\n",
      "tensor([-2.2524], device='cuda:0', grad_fn=<SelectBackward0>)\n",
      "tensor(1, device='cuda:0')\n",
      "tensor([2.4020], device='cuda:0', grad_fn=<SelectBackward0>)\n",
      "tensor(1, device='cuda:0')\n",
      "tensor([2.9536], device='cuda:0', grad_fn=<SelectBackward0>)\n",
      "tensor(0, device='cuda:0')\n",
      "tensor([-1.4180], device='cuda:0', grad_fn=<SelectBackward0>)\n",
      "Epoch: 50, loss: 0.092\n",
      "tensor(1, device='cuda:0')\n",
      "tensor([2.8741], device='cuda:0', grad_fn=<SelectBackward0>)\n",
      "tensor(1, device='cuda:0')\n",
      "tensor([2.5429], device='cuda:0', grad_fn=<SelectBackward0>)\n",
      "tensor(0, device='cuda:0')\n",
      "tensor([-2.8139], device='cuda:0', grad_fn=<SelectBackward0>)\n",
      "tensor(0, device='cuda:0')\n",
      "tensor([-2.8949], device='cuda:0', grad_fn=<SelectBackward0>)\n",
      "tensor(0, device='cuda:0')\n",
      "tensor([-1.8605], device='cuda:0', grad_fn=<SelectBackward0>)\n",
      "tensor(1, device='cuda:0')\n",
      "tensor([1.4712], device='cuda:0', grad_fn=<SelectBackward0>)\n",
      "tensor(1, device='cuda:0')\n",
      "tensor([2.8092], device='cuda:0', grad_fn=<SelectBackward0>)\n",
      "tensor(1, device='cuda:0')\n",
      "tensor([2.4481], device='cuda:0', grad_fn=<SelectBackward0>)\n",
      "Epoch: 51, loss: 0.0817\n",
      "tensor(0, device='cuda:0')\n",
      "tensor([-1.6032], device='cuda:0', grad_fn=<SelectBackward0>)\n",
      "tensor(0, device='cuda:0')\n",
      "tensor([-2.1392], device='cuda:0', grad_fn=<SelectBackward0>)\n",
      "tensor(1, device='cuda:0')\n",
      "tensor([2.7950], device='cuda:0', grad_fn=<SelectBackward0>)\n",
      "tensor(1, device='cuda:0')\n",
      "tensor([2.5149], device='cuda:0', grad_fn=<SelectBackward0>)\n",
      "tensor(0, device='cuda:0')\n",
      "tensor([-2.6553], device='cuda:0', grad_fn=<SelectBackward0>)\n",
      "tensor(0, device='cuda:0')\n",
      "tensor([-2.1334], device='cuda:0', grad_fn=<SelectBackward0>)\n",
      "tensor(1, device='cuda:0')\n",
      "tensor([1.3156], device='cuda:0', grad_fn=<SelectBackward0>)\n",
      "tensor(1, device='cuda:0')\n",
      "tensor([2.1456], device='cuda:0', grad_fn=<SelectBackward0>)\n",
      "Epoch: 52, loss: 0.0927\n",
      "tensor(0, device='cuda:0')\n",
      "tensor([-2.4161], device='cuda:0', grad_fn=<SelectBackward0>)\n",
      "tensor(1, device='cuda:0')\n",
      "tensor([1.9352], device='cuda:0', grad_fn=<SelectBackward0>)\n",
      "tensor(0, device='cuda:0')\n",
      "tensor([-2.7476], device='cuda:0', grad_fn=<SelectBackward0>)\n",
      "tensor(1, device='cuda:0')\n",
      "tensor([2.8627], device='cuda:0', grad_fn=<SelectBackward0>)\n",
      "tensor(0, device='cuda:0')\n",
      "tensor([-2.8431], device='cuda:0', grad_fn=<SelectBackward0>)\n",
      "tensor(0, device='cuda:0')\n",
      "tensor([-2.4304], device='cuda:0', grad_fn=<SelectBackward0>)\n",
      "tensor(0, device='cuda:0')\n",
      "tensor([-2.2007], device='cuda:0', grad_fn=<SelectBackward0>)\n",
      "tensor(1, device='cuda:0')\n",
      "tensor([1.9546], device='cuda:0', grad_fn=<SelectBackward0>)\n",
      "Epoch: 53, loss: 0.0794\n",
      "tensor(0, device='cuda:0')\n",
      "tensor([-2.0997], device='cuda:0', grad_fn=<SelectBackward0>)\n",
      "tensor(0, device='cuda:0')\n",
      "tensor([-1.8534], device='cuda:0', grad_fn=<SelectBackward0>)\n",
      "tensor(0, device='cuda:0')\n",
      "tensor([-2.4574], device='cuda:0', grad_fn=<SelectBackward0>)\n",
      "tensor(1, device='cuda:0')\n",
      "tensor([2.7920], device='cuda:0', grad_fn=<SelectBackward0>)\n",
      "tensor(0, device='cuda:0')\n",
      "tensor([-2.0397], device='cuda:0', grad_fn=<SelectBackward0>)\n",
      "tensor(0, device='cuda:0')\n",
      "tensor([-2.0806], device='cuda:0', grad_fn=<SelectBackward0>)\n",
      "tensor(0, device='cuda:0')\n",
      "tensor([-2.4432], device='cuda:0', grad_fn=<SelectBackward0>)\n",
      "tensor(1, device='cuda:0')\n",
      "tensor([2.2179], device='cuda:0', grad_fn=<SelectBackward0>)\n",
      "Epoch: 54, loss: 0.0853\n",
      "tensor(0, device='cuda:0')\n",
      "tensor([-2.9490], device='cuda:0', grad_fn=<SelectBackward0>)\n",
      "tensor(0, device='cuda:0')\n",
      "tensor([-2.1222], device='cuda:0', grad_fn=<SelectBackward0>)\n",
      "tensor(0, device='cuda:0')\n",
      "tensor([-1.2602], device='cuda:0', grad_fn=<SelectBackward0>)\n",
      "tensor(0, device='cuda:0')\n",
      "tensor([-2.4655], device='cuda:0', grad_fn=<SelectBackward0>)\n",
      "tensor(0, device='cuda:0')\n",
      "tensor([-2.9434], device='cuda:0', grad_fn=<SelectBackward0>)\n",
      "tensor(0, device='cuda:0')\n",
      "tensor([-2.9721], device='cuda:0', grad_fn=<SelectBackward0>)\n",
      "tensor(0, device='cuda:0')\n",
      "tensor([-2.4196], device='cuda:0', grad_fn=<SelectBackward0>)\n",
      "tensor(0, device='cuda:0')\n",
      "tensor([-2.3674], device='cuda:0', grad_fn=<SelectBackward0>)\n",
      "Epoch: 55, loss: 0.0757\n",
      "tensor(1, device='cuda:0')\n",
      "tensor([3.0419], device='cuda:0', grad_fn=<SelectBackward0>)\n",
      "tensor(0, device='cuda:0')\n",
      "tensor([-2.6359], device='cuda:0', grad_fn=<SelectBackward0>)\n",
      "tensor(0, device='cuda:0')\n",
      "tensor([-2.8207], device='cuda:0', grad_fn=<SelectBackward0>)\n",
      "tensor(1, device='cuda:0')\n",
      "tensor([2.9603], device='cuda:0', grad_fn=<SelectBackward0>)\n",
      "tensor(0, device='cuda:0')\n",
      "tensor([-2.9786], device='cuda:0', grad_fn=<SelectBackward0>)\n",
      "tensor(0, device='cuda:0')\n",
      "tensor([-2.6568], device='cuda:0', grad_fn=<SelectBackward0>)\n",
      "tensor(0, device='cuda:0')\n",
      "tensor([-2.9897], device='cuda:0', grad_fn=<SelectBackward0>)\n",
      "tensor(1, device='cuda:0')\n",
      "tensor([2.8668], device='cuda:0', grad_fn=<SelectBackward0>)\n",
      "Epoch: 56, loss: 0.0816\n",
      "tensor(0, device='cuda:0')\n",
      "tensor([-2.9556], device='cuda:0', grad_fn=<SelectBackward0>)\n",
      "tensor(1, device='cuda:0')\n",
      "tensor([2.3801], device='cuda:0', grad_fn=<SelectBackward0>)\n",
      "tensor(0, device='cuda:0')\n",
      "tensor([-2.7283], device='cuda:0', grad_fn=<SelectBackward0>)\n",
      "tensor(0, device='cuda:0')\n",
      "tensor([-3.0225], device='cuda:0', grad_fn=<SelectBackward0>)\n",
      "tensor(1, device='cuda:0')\n",
      "tensor([2.8046], device='cuda:0', grad_fn=<SelectBackward0>)\n",
      "tensor(1, device='cuda:0')\n",
      "tensor([2.9454], device='cuda:0', grad_fn=<SelectBackward0>)\n",
      "tensor(0, device='cuda:0')\n",
      "tensor([-2.8997], device='cuda:0', grad_fn=<SelectBackward0>)\n",
      "tensor(0, device='cuda:0')\n",
      "tensor([-2.2095], device='cuda:0', grad_fn=<SelectBackward0>)\n",
      "Epoch: 57, loss: 0.0812\n",
      "tensor(1, device='cuda:0')\n",
      "tensor([2.7916], device='cuda:0', grad_fn=<SelectBackward0>)\n",
      "tensor(1, device='cuda:0')\n",
      "tensor([2.6135], device='cuda:0', grad_fn=<SelectBackward0>)\n",
      "tensor(0, device='cuda:0')\n",
      "tensor([-2.5981], device='cuda:0', grad_fn=<SelectBackward0>)\n",
      "tensor(0, device='cuda:0')\n",
      "tensor([-1.4152], device='cuda:0', grad_fn=<SelectBackward0>)\n",
      "tensor(1, device='cuda:0')\n",
      "tensor([2.7211], device='cuda:0', grad_fn=<SelectBackward0>)\n",
      "tensor(1, device='cuda:0')\n",
      "tensor([2.9231], device='cuda:0', grad_fn=<SelectBackward0>)\n",
      "tensor(1, device='cuda:0')\n",
      "tensor([2.3330], device='cuda:0', grad_fn=<SelectBackward0>)\n",
      "tensor(1, device='cuda:0')\n",
      "tensor([2.8606], device='cuda:0', grad_fn=<SelectBackward0>)\n",
      "Epoch: 58, loss: 0.0767\n",
      "tensor(0, device='cuda:0')\n",
      "tensor([-1.8870], device='cuda:0', grad_fn=<SelectBackward0>)\n",
      "tensor(1, device='cuda:0')\n",
      "tensor([2.8647], device='cuda:0', grad_fn=<SelectBackward0>)\n",
      "tensor(0, device='cuda:0')\n",
      "tensor([-3.0105], device='cuda:0', grad_fn=<SelectBackward0>)\n",
      "tensor(0, device='cuda:0')\n",
      "tensor([-3.0246], device='cuda:0', grad_fn=<SelectBackward0>)\n",
      "tensor(1, device='cuda:0')\n",
      "tensor([3.0090], device='cuda:0', grad_fn=<SelectBackward0>)\n",
      "tensor(1, device='cuda:0')\n",
      "tensor([2.9212], device='cuda:0', grad_fn=<SelectBackward0>)\n",
      "tensor(0, device='cuda:0')\n",
      "tensor([-1.9764], device='cuda:0', grad_fn=<SelectBackward0>)\n",
      "tensor(0, device='cuda:0')\n",
      "tensor([-3.0126], device='cuda:0', grad_fn=<SelectBackward0>)\n",
      "Epoch: 59, loss: 0.0773\n",
      "tensor(0, device='cuda:0')\n",
      "tensor([-3.0264], device='cuda:0', grad_fn=<SelectBackward0>)\n",
      "tensor(0, device='cuda:0')\n",
      "tensor([-2.4134], device='cuda:0', grad_fn=<SelectBackward0>)\n",
      "tensor(1, device='cuda:0')\n",
      "tensor([2.9169], device='cuda:0', grad_fn=<SelectBackward0>)\n",
      "tensor(0, device='cuda:0')\n",
      "tensor([-2.8569], device='cuda:0', grad_fn=<SelectBackward0>)\n",
      "tensor(0, device='cuda:0')\n",
      "tensor([-2.4973], device='cuda:0', grad_fn=<SelectBackward0>)\n",
      "tensor(0, device='cuda:0')\n",
      "tensor([-3.0611], device='cuda:0', grad_fn=<SelectBackward0>)\n",
      "tensor(0, device='cuda:0')\n",
      "tensor([-2.4608], device='cuda:0', grad_fn=<SelectBackward0>)\n",
      "tensor(1, device='cuda:0')\n",
      "tensor([2.7147], device='cuda:0', grad_fn=<SelectBackward0>)\n",
      "Epoch: 60, loss: 0.0709\n",
      "tensor(0, device='cuda:0')\n",
      "tensor([-3.0473], device='cuda:0', grad_fn=<SelectBackward0>)\n",
      "tensor(0, device='cuda:0')\n",
      "tensor([-1.9225], device='cuda:0', grad_fn=<SelectBackward0>)\n",
      "tensor(1, device='cuda:0')\n",
      "tensor([3.2247], device='cuda:0', grad_fn=<SelectBackward0>)\n",
      "tensor(1, device='cuda:0')\n",
      "tensor([2.6209], device='cuda:0', grad_fn=<SelectBackward0>)\n",
      "tensor(1, device='cuda:0')\n",
      "tensor([2.6787], device='cuda:0', grad_fn=<SelectBackward0>)\n",
      "tensor(1, device='cuda:0')\n",
      "tensor([2.6436], device='cuda:0', grad_fn=<SelectBackward0>)\n",
      "tensor(1, device='cuda:0')\n",
      "tensor([2.7547], device='cuda:0', grad_fn=<SelectBackward0>)\n",
      "tensor(0, device='cuda:0')\n",
      "tensor([-3.0159], device='cuda:0', grad_fn=<SelectBackward0>)\n",
      "Epoch: 61, loss: 0.0693\n",
      "tensor(0, device='cuda:0')\n",
      "tensor([-2.2616], device='cuda:0', grad_fn=<SelectBackward0>)\n",
      "tensor(0, device='cuda:0')\n",
      "tensor([-2.2384], device='cuda:0', grad_fn=<SelectBackward0>)\n",
      "tensor(1, device='cuda:0')\n",
      "tensor([2.9618], device='cuda:0', grad_fn=<SelectBackward0>)\n",
      "tensor(1, device='cuda:0')\n",
      "tensor([1.6583], device='cuda:0', grad_fn=<SelectBackward0>)\n",
      "tensor(0, device='cuda:0')\n",
      "tensor([-2.6689], device='cuda:0', grad_fn=<SelectBackward0>)\n",
      "tensor(0, device='cuda:0')\n",
      "tensor([-2.8039], device='cuda:0', grad_fn=<SelectBackward0>)\n",
      "tensor(1, device='cuda:0')\n",
      "tensor([3.1113], device='cuda:0', grad_fn=<SelectBackward0>)\n",
      "tensor(1, device='cuda:0')\n",
      "tensor([3.1392], device='cuda:0', grad_fn=<SelectBackward0>)\n",
      "Epoch: 62, loss: 0.0698\n",
      "tensor(0, device='cuda:0')\n",
      "tensor([-3.0815], device='cuda:0', grad_fn=<SelectBackward0>)\n",
      "tensor(0, device='cuda:0')\n",
      "tensor([-2.9859], device='cuda:0', grad_fn=<SelectBackward0>)\n",
      "tensor(0, device='cuda:0')\n",
      "tensor([-2.1697], device='cuda:0', grad_fn=<SelectBackward0>)\n",
      "tensor(1, device='cuda:0')\n",
      "tensor([2.0389], device='cuda:0', grad_fn=<SelectBackward0>)\n",
      "tensor(0, device='cuda:0')\n",
      "tensor([-2.0606], device='cuda:0', grad_fn=<SelectBackward0>)\n",
      "tensor(1, device='cuda:0')\n",
      "tensor([3.1063], device='cuda:0', grad_fn=<SelectBackward0>)\n",
      "tensor(0, device='cuda:0')\n",
      "tensor([-3.0310], device='cuda:0', grad_fn=<SelectBackward0>)\n",
      "tensor(0, device='cuda:0')\n",
      "tensor([-2.8937], device='cuda:0', grad_fn=<SelectBackward0>)\n",
      "Epoch: 63, loss: 0.0692\n",
      "tensor(0, device='cuda:0')\n",
      "tensor([-1.8782], device='cuda:0', grad_fn=<SelectBackward0>)\n",
      "tensor(0, device='cuda:0')\n",
      "tensor([-3.0467], device='cuda:0', grad_fn=<SelectBackward0>)\n",
      "tensor(1, device='cuda:0')\n",
      "tensor([2.7339], device='cuda:0', grad_fn=<SelectBackward0>)\n",
      "tensor(1, device='cuda:0')\n",
      "tensor([3.1248], device='cuda:0', grad_fn=<SelectBackward0>)\n",
      "tensor(1, device='cuda:0')\n",
      "tensor([3.0494], device='cuda:0', grad_fn=<SelectBackward0>)\n",
      "tensor(1, device='cuda:0')\n",
      "tensor([2.7600], device='cuda:0', grad_fn=<SelectBackward0>)\n",
      "tensor(1, device='cuda:0')\n",
      "tensor([2.9901], device='cuda:0', grad_fn=<SelectBackward0>)\n",
      "tensor(0, device='cuda:0')\n",
      "tensor([-2.8980], device='cuda:0', grad_fn=<SelectBackward0>)\n",
      "Epoch: 64, loss: 0.0732\n",
      "tensor(0, device='cuda:0')\n",
      "tensor([-2.7024], device='cuda:0', grad_fn=<SelectBackward0>)\n",
      "tensor(1, device='cuda:0')\n",
      "tensor([3.1045], device='cuda:0', grad_fn=<SelectBackward0>)\n",
      "tensor(1, device='cuda:0')\n",
      "tensor([3.2700], device='cuda:0', grad_fn=<SelectBackward0>)\n",
      "tensor(0, device='cuda:0')\n",
      "tensor([-3.1186], device='cuda:0', grad_fn=<SelectBackward0>)\n",
      "tensor(0, device='cuda:0')\n",
      "tensor([-1.4639], device='cuda:0', grad_fn=<SelectBackward0>)\n",
      "tensor(1, device='cuda:0')\n",
      "tensor([2.9166], device='cuda:0', grad_fn=<SelectBackward0>)\n",
      "tensor(0, device='cuda:0')\n",
      "tensor([-2.1934], device='cuda:0', grad_fn=<SelectBackward0>)\n",
      "tensor(1, device='cuda:0')\n",
      "tensor([1.6860], device='cuda:0', grad_fn=<SelectBackward0>)\n",
      "Epoch: 65, loss: 0.0666\n",
      "tensor(0, device='cuda:0')\n",
      "tensor([-2.4261], device='cuda:0', grad_fn=<SelectBackward0>)\n",
      "tensor(1, device='cuda:0')\n",
      "tensor([1.4458], device='cuda:0', grad_fn=<SelectBackward0>)\n",
      "tensor(0, device='cuda:0')\n",
      "tensor([-2.9039], device='cuda:0', grad_fn=<SelectBackward0>)\n",
      "tensor(1, device='cuda:0')\n",
      "tensor([3.1704], device='cuda:0', grad_fn=<SelectBackward0>)\n",
      "tensor(0, device='cuda:0')\n",
      "tensor([-3.1407], device='cuda:0', grad_fn=<SelectBackward0>)\n",
      "tensor(0, device='cuda:0')\n",
      "tensor([-2.9333], device='cuda:0', grad_fn=<SelectBackward0>)\n",
      "tensor(0, device='cuda:0')\n",
      "tensor([-2.9501], device='cuda:0', grad_fn=<SelectBackward0>)\n",
      "tensor(0, device='cuda:0')\n",
      "tensor([-2.9981], device='cuda:0', grad_fn=<SelectBackward0>)\n",
      "Epoch: 66, loss: 0.0714\n",
      "tensor(0, device='cuda:0')\n",
      "tensor([-2.6832], device='cuda:0', grad_fn=<SelectBackward0>)\n",
      "tensor(0, device='cuda:0')\n",
      "tensor([-3.0174], device='cuda:0', grad_fn=<SelectBackward0>)\n",
      "tensor(0, device='cuda:0')\n",
      "tensor([-3.1206], device='cuda:0', grad_fn=<SelectBackward0>)\n",
      "tensor(1, device='cuda:0')\n",
      "tensor([3.1033], device='cuda:0', grad_fn=<SelectBackward0>)\n",
      "tensor(1, device='cuda:0')\n",
      "tensor([1.7928], device='cuda:0', grad_fn=<SelectBackward0>)\n",
      "tensor(0, device='cuda:0')\n",
      "tensor([-3.0837], device='cuda:0', grad_fn=<SelectBackward0>)\n",
      "tensor(1, device='cuda:0')\n",
      "tensor([3.0441], device='cuda:0', grad_fn=<SelectBackward0>)\n",
      "tensor(1, device='cuda:0')\n",
      "tensor([3.0065], device='cuda:0', grad_fn=<SelectBackward0>)\n",
      "Epoch: 67, loss: 0.0682\n",
      "tensor(1, device='cuda:0')\n",
      "tensor([3.1685], device='cuda:0', grad_fn=<SelectBackward0>)\n",
      "tensor(1, device='cuda:0')\n",
      "tensor([2.9429], device='cuda:0', grad_fn=<SelectBackward0>)\n",
      "tensor(1, device='cuda:0')\n",
      "tensor([3.1780], device='cuda:0', grad_fn=<SelectBackward0>)\n",
      "tensor(0, device='cuda:0')\n",
      "tensor([-3.0762], device='cuda:0', grad_fn=<SelectBackward0>)\n",
      "tensor(0, device='cuda:0')\n",
      "tensor([-2.3742], device='cuda:0', grad_fn=<SelectBackward0>)\n",
      "tensor(1, device='cuda:0')\n",
      "tensor([3.0707], device='cuda:0', grad_fn=<SelectBackward0>)\n",
      "tensor(1, device='cuda:0')\n",
      "tensor([3.1869], device='cuda:0', grad_fn=<SelectBackward0>)\n",
      "tensor(0, device='cuda:0')\n",
      "tensor([-3.1034], device='cuda:0', grad_fn=<SelectBackward0>)\n",
      "Epoch: 68, loss: 0.0684\n",
      "tensor(1, device='cuda:0')\n",
      "tensor([2.7259], device='cuda:0', grad_fn=<SelectBackward0>)\n",
      "tensor(1, device='cuda:0')\n",
      "tensor([2.8189], device='cuda:0', grad_fn=<SelectBackward0>)\n",
      "tensor(1, device='cuda:0')\n",
      "tensor([3.1764], device='cuda:0', grad_fn=<SelectBackward0>)\n",
      "tensor(1, device='cuda:0')\n",
      "tensor([2.9519], device='cuda:0', grad_fn=<SelectBackward0>)\n",
      "tensor(0, device='cuda:0')\n",
      "tensor([-2.4623], device='cuda:0', grad_fn=<SelectBackward0>)\n",
      "tensor(1, device='cuda:0')\n",
      "tensor([3.2841], device='cuda:0', grad_fn=<SelectBackward0>)\n",
      "tensor(0, device='cuda:0')\n",
      "tensor([-2.9539], device='cuda:0', grad_fn=<SelectBackward0>)\n",
      "tensor(0, device='cuda:0')\n",
      "tensor([-3.1478], device='cuda:0', grad_fn=<SelectBackward0>)\n",
      "Epoch: 69, loss: 0.0644\n",
      "tensor(1, device='cuda:0')\n",
      "tensor([2.9653], device='cuda:0', grad_fn=<SelectBackward0>)\n",
      "tensor(1, device='cuda:0')\n",
      "tensor([2.3726], device='cuda:0', grad_fn=<SelectBackward0>)\n",
      "tensor(0, device='cuda:0')\n",
      "tensor([-2.9851], device='cuda:0', grad_fn=<SelectBackward0>)\n",
      "tensor(1, device='cuda:0')\n",
      "tensor([3.1780], device='cuda:0', grad_fn=<SelectBackward0>)\n",
      "tensor(0, device='cuda:0')\n",
      "tensor([-2.2810], device='cuda:0', grad_fn=<SelectBackward0>)\n",
      "tensor(0, device='cuda:0')\n",
      "tensor([-2.4979], device='cuda:0', grad_fn=<SelectBackward0>)\n",
      "tensor(1, device='cuda:0')\n",
      "tensor([2.7797], device='cuda:0', grad_fn=<SelectBackward0>)\n",
      "tensor(0, device='cuda:0')\n",
      "tensor([-2.9937], device='cuda:0', grad_fn=<SelectBackward0>)\n",
      "Epoch: 70, loss: 0.0612\n",
      "tensor(0, device='cuda:0')\n",
      "tensor([-2.4712], device='cuda:0', grad_fn=<SelectBackward0>)\n",
      "tensor(0, device='cuda:0')\n",
      "tensor([-3.2145], device='cuda:0', grad_fn=<SelectBackward0>)\n",
      "tensor(0, device='cuda:0')\n",
      "tensor([-3.1650], device='cuda:0', grad_fn=<SelectBackward0>)\n",
      "tensor(1, device='cuda:0')\n",
      "tensor([3.2078], device='cuda:0', grad_fn=<SelectBackward0>)\n",
      "tensor(0, device='cuda:0')\n",
      "tensor([-2.7074], device='cuda:0', grad_fn=<SelectBackward0>)\n",
      "tensor(0, device='cuda:0')\n",
      "tensor([-3.1475], device='cuda:0', grad_fn=<SelectBackward0>)\n",
      "tensor(1, device='cuda:0')\n",
      "tensor([2.3639], device='cuda:0', grad_fn=<SelectBackward0>)\n",
      "tensor(1, device='cuda:0')\n",
      "tensor([2.2341], device='cuda:0', grad_fn=<SelectBackward0>)\n",
      "Epoch: 71, loss: 0.0627\n",
      "tensor(0, device='cuda:0')\n",
      "tensor([-2.3848], device='cuda:0', grad_fn=<SelectBackward0>)\n",
      "tensor(1, device='cuda:0')\n",
      "tensor([3.2497], device='cuda:0', grad_fn=<SelectBackward0>)\n",
      "tensor(0, device='cuda:0')\n",
      "tensor([-3.2256], device='cuda:0', grad_fn=<SelectBackward0>)\n",
      "tensor(0, device='cuda:0')\n",
      "tensor([-3.0943], device='cuda:0', grad_fn=<SelectBackward0>)\n",
      "tensor(0, device='cuda:0')\n",
      "tensor([-3.1937], device='cuda:0', grad_fn=<SelectBackward0>)\n",
      "tensor(1, device='cuda:0')\n",
      "tensor([2.5383], device='cuda:0', grad_fn=<SelectBackward0>)\n",
      "tensor(0, device='cuda:0')\n",
      "tensor([-2.3387], device='cuda:0', grad_fn=<SelectBackward0>)\n",
      "tensor(1, device='cuda:0')\n",
      "tensor([2.8256], device='cuda:0', grad_fn=<SelectBackward0>)\n",
      "Epoch: 72, loss: 0.0661\n",
      "tensor(1, device='cuda:0')\n",
      "tensor([2.7558], device='cuda:0', grad_fn=<SelectBackward0>)\n",
      "tensor(0, device='cuda:0')\n",
      "tensor([-3.1597], device='cuda:0', grad_fn=<SelectBackward0>)\n",
      "tensor(0, device='cuda:0')\n",
      "tensor([-3.2303], device='cuda:0', grad_fn=<SelectBackward0>)\n",
      "tensor(0, device='cuda:0')\n",
      "tensor([-2.1245], device='cuda:0', grad_fn=<SelectBackward0>)\n",
      "tensor(0, device='cuda:0')\n",
      "tensor([-2.7361], device='cuda:0', grad_fn=<SelectBackward0>)\n",
      "tensor(0, device='cuda:0')\n",
      "tensor([-3.3372], device='cuda:0', grad_fn=<SelectBackward0>)\n",
      "tensor(0, device='cuda:0')\n",
      "tensor([-2.6656], device='cuda:0', grad_fn=<SelectBackward0>)\n",
      "tensor(0, device='cuda:0')\n",
      "tensor([-3.0804], device='cuda:0', grad_fn=<SelectBackward0>)\n",
      "Epoch: 73, loss: 0.0582\n",
      "tensor(1, device='cuda:0')\n",
      "tensor([2.7673], device='cuda:0', grad_fn=<SelectBackward0>)\n",
      "tensor(1, device='cuda:0')\n",
      "tensor([2.8692], device='cuda:0', grad_fn=<SelectBackward0>)\n",
      "tensor(1, device='cuda:0')\n",
      "tensor([2.9474], device='cuda:0', grad_fn=<SelectBackward0>)\n",
      "tensor(1, device='cuda:0')\n",
      "tensor([3.3597], device='cuda:0', grad_fn=<SelectBackward0>)\n",
      "tensor(0, device='cuda:0')\n",
      "tensor([-2.6461], device='cuda:0', grad_fn=<SelectBackward0>)\n",
      "tensor(1, device='cuda:0')\n",
      "tensor([3.1477], device='cuda:0', grad_fn=<SelectBackward0>)\n",
      "tensor(1, device='cuda:0')\n",
      "tensor([3.3751], device='cuda:0', grad_fn=<SelectBackward0>)\n",
      "tensor(0, device='cuda:0')\n",
      "tensor([-3.2559], device='cuda:0', grad_fn=<SelectBackward0>)\n",
      "Epoch: 74, loss: 0.0654\n",
      "tensor(0, device='cuda:0')\n",
      "tensor([-3.1095], device='cuda:0', grad_fn=<SelectBackward0>)\n",
      "tensor(1, device='cuda:0')\n",
      "tensor([3.0519], device='cuda:0', grad_fn=<SelectBackward0>)\n",
      "tensor(0, device='cuda:0')\n",
      "tensor([-3.1157], device='cuda:0', grad_fn=<SelectBackward0>)\n",
      "tensor(0, device='cuda:0')\n",
      "tensor([-2.9835], device='cuda:0', grad_fn=<SelectBackward0>)\n",
      "tensor(0, device='cuda:0')\n",
      "tensor([-2.7264], device='cuda:0', grad_fn=<SelectBackward0>)\n",
      "tensor(0, device='cuda:0')\n",
      "tensor([-3.2757], device='cuda:0', grad_fn=<SelectBackward0>)\n",
      "tensor(0, device='cuda:0')\n",
      "tensor([-1.8310], device='cuda:0', grad_fn=<SelectBackward0>)\n",
      "tensor(1, device='cuda:0')\n",
      "tensor([3.2528], device='cuda:0', grad_fn=<SelectBackward0>)\n",
      "Epoch: 75, loss: 0.0589\n",
      "tensor(1, device='cuda:0')\n",
      "tensor([2.6067], device='cuda:0', grad_fn=<SelectBackward0>)\n",
      "tensor(1, device='cuda:0')\n",
      "tensor([3.1624], device='cuda:0', grad_fn=<SelectBackward0>)\n",
      "tensor(0, device='cuda:0')\n",
      "tensor([-3.2437], device='cuda:0', grad_fn=<SelectBackward0>)\n",
      "tensor(1, device='cuda:0')\n",
      "tensor([2.8323], device='cuda:0', grad_fn=<SelectBackward0>)\n",
      "tensor(0, device='cuda:0')\n",
      "tensor([-3.1643], device='cuda:0', grad_fn=<SelectBackward0>)\n",
      "tensor(1, device='cuda:0')\n",
      "tensor([3.4137], device='cuda:0', grad_fn=<SelectBackward0>)\n",
      "tensor(1, device='cuda:0')\n",
      "tensor([3.2032], device='cuda:0', grad_fn=<SelectBackward0>)\n",
      "tensor(0, device='cuda:0')\n",
      "tensor([-3.2946], device='cuda:0', grad_fn=<SelectBackward0>)\n",
      "Epoch: 76, loss: 0.0622\n",
      "tensor(0, device='cuda:0')\n",
      "tensor([-3.2389], device='cuda:0', grad_fn=<SelectBackward0>)\n",
      "tensor(1, device='cuda:0')\n",
      "tensor([3.0906], device='cuda:0', grad_fn=<SelectBackward0>)\n",
      "tensor(1, device='cuda:0')\n",
      "tensor([3.2776], device='cuda:0', grad_fn=<SelectBackward0>)\n",
      "tensor(1, device='cuda:0')\n",
      "tensor([3.2177], device='cuda:0', grad_fn=<SelectBackward0>)\n",
      "tensor(1, device='cuda:0')\n",
      "tensor([3.3630], device='cuda:0', grad_fn=<SelectBackward0>)\n",
      "tensor(1, device='cuda:0')\n",
      "tensor([3.2462], device='cuda:0', grad_fn=<SelectBackward0>)\n",
      "tensor(0, device='cuda:0')\n",
      "tensor([-3.2959], device='cuda:0', grad_fn=<SelectBackward0>)\n",
      "tensor(0, device='cuda:0')\n",
      "tensor([-3.1138], device='cuda:0', grad_fn=<SelectBackward0>)\n",
      "Epoch: 77, loss: 0.0594\n",
      "tensor(0, device='cuda:0')\n",
      "tensor([-2.8672], device='cuda:0', grad_fn=<SelectBackward0>)\n",
      "tensor(0, device='cuda:0')\n",
      "tensor([-3.2973], device='cuda:0', grad_fn=<SelectBackward0>)\n",
      "tensor(1, device='cuda:0')\n",
      "tensor([3.3055], device='cuda:0', grad_fn=<SelectBackward0>)\n",
      "tensor(0, device='cuda:0')\n",
      "tensor([-2.3090], device='cuda:0', grad_fn=<SelectBackward0>)\n",
      "tensor(0, device='cuda:0')\n",
      "tensor([-3.3183], device='cuda:0', grad_fn=<SelectBackward0>)\n",
      "tensor(1, device='cuda:0')\n",
      "tensor([3.1732], device='cuda:0', grad_fn=<SelectBackward0>)\n",
      "tensor(1, device='cuda:0')\n",
      "tensor([2.7243], device='cuda:0', grad_fn=<SelectBackward0>)\n",
      "tensor(1, device='cuda:0')\n",
      "tensor([3.2036], device='cuda:0', grad_fn=<SelectBackward0>)\n",
      "Epoch: 78, loss: 0.0571\n",
      "tensor(0, device='cuda:0')\n",
      "tensor([-3.3241], device='cuda:0', grad_fn=<SelectBackward0>)\n",
      "tensor(1, device='cuda:0')\n",
      "tensor([3.2041], device='cuda:0', grad_fn=<SelectBackward0>)\n",
      "tensor(0, device='cuda:0')\n",
      "tensor([-3.1001], device='cuda:0', grad_fn=<SelectBackward0>)\n",
      "tensor(0, device='cuda:0')\n",
      "tensor([-2.9304], device='cuda:0', grad_fn=<SelectBackward0>)\n",
      "tensor(1, device='cuda:0')\n",
      "tensor([3.2935], device='cuda:0', grad_fn=<SelectBackward0>)\n",
      "tensor(0, device='cuda:0')\n",
      "tensor([-2.8283], device='cuda:0', grad_fn=<SelectBackward0>)\n",
      "tensor(1, device='cuda:0')\n",
      "tensor([3.3084], device='cuda:0', grad_fn=<SelectBackward0>)\n",
      "tensor(0, device='cuda:0')\n",
      "tensor([-3.0490], device='cuda:0', grad_fn=<SelectBackward0>)\n",
      "Epoch: 79, loss: 0.0686\n",
      "tensor(0, device='cuda:0')\n",
      "tensor([-3.3182], device='cuda:0', grad_fn=<SelectBackward0>)\n",
      "tensor(0, device='cuda:0')\n",
      "tensor([-3.2785], device='cuda:0', grad_fn=<SelectBackward0>)\n",
      "tensor(0, device='cuda:0')\n",
      "tensor([-1.8950], device='cuda:0', grad_fn=<SelectBackward0>)\n",
      "tensor(0, device='cuda:0')\n",
      "tensor([-2.9045], device='cuda:0', grad_fn=<SelectBackward0>)\n",
      "tensor(1, device='cuda:0')\n",
      "tensor([3.2684], device='cuda:0', grad_fn=<SelectBackward0>)\n",
      "tensor(1, device='cuda:0')\n",
      "tensor([1.5438], device='cuda:0', grad_fn=<SelectBackward0>)\n",
      "tensor(1, device='cuda:0')\n",
      "tensor([3.1133], device='cuda:0', grad_fn=<SelectBackward0>)\n",
      "tensor(0, device='cuda:0')\n",
      "tensor([-2.5465], device='cuda:0', grad_fn=<SelectBackward0>)\n",
      "Epoch: 80, loss: 0.0613\n",
      "tensor(0, device='cuda:0')\n",
      "tensor([-1.8160], device='cuda:0', grad_fn=<SelectBackward0>)\n",
      "tensor(1, device='cuda:0')\n",
      "tensor([3.1357], device='cuda:0', grad_fn=<SelectBackward0>)\n",
      "tensor(0, device='cuda:0')\n",
      "tensor([-3.3526], device='cuda:0', grad_fn=<SelectBackward0>)\n",
      "tensor(1, device='cuda:0')\n",
      "tensor([3.4541], device='cuda:0', grad_fn=<SelectBackward0>)\n",
      "tensor(0, device='cuda:0')\n",
      "tensor([-3.3634], device='cuda:0', grad_fn=<SelectBackward0>)\n",
      "tensor(0, device='cuda:0')\n",
      "tensor([-3.0060], device='cuda:0', grad_fn=<SelectBackward0>)\n",
      "tensor(1, device='cuda:0')\n",
      "tensor([3.0862], device='cuda:0', grad_fn=<SelectBackward0>)\n",
      "tensor(0, device='cuda:0')\n",
      "tensor([-3.3564], device='cuda:0', grad_fn=<SelectBackward0>)\n",
      "Epoch: 81, loss: 0.0506\n",
      "tensor(1, device='cuda:0')\n",
      "tensor([3.4924], device='cuda:0', grad_fn=<SelectBackward0>)\n",
      "tensor(0, device='cuda:0')\n",
      "tensor([-3.2098], device='cuda:0', grad_fn=<SelectBackward0>)\n",
      "tensor(0, device='cuda:0')\n",
      "tensor([-1.6141], device='cuda:0', grad_fn=<SelectBackward0>)\n",
      "tensor(1, device='cuda:0')\n",
      "tensor([2.5148], device='cuda:0', grad_fn=<SelectBackward0>)\n",
      "tensor(1, device='cuda:0')\n",
      "tensor([2.7058], device='cuda:0', grad_fn=<SelectBackward0>)\n",
      "tensor(1, device='cuda:0')\n",
      "tensor([3.3988], device='cuda:0', grad_fn=<SelectBackward0>)\n",
      "tensor(1, device='cuda:0')\n",
      "tensor([3.3450], device='cuda:0', grad_fn=<SelectBackward0>)\n",
      "tensor(1, device='cuda:0')\n",
      "tensor([3.0988], device='cuda:0', grad_fn=<SelectBackward0>)\n",
      "Epoch: 82, loss: 0.0551\n",
      "tensor(0, device='cuda:0')\n",
      "tensor([-3.0055], device='cuda:0', grad_fn=<SelectBackward0>)\n",
      "tensor(1, device='cuda:0')\n",
      "tensor([1.9182], device='cuda:0', grad_fn=<SelectBackward0>)\n",
      "tensor(0, device='cuda:0')\n",
      "tensor([-2.7397], device='cuda:0', grad_fn=<SelectBackward0>)\n",
      "tensor(0, device='cuda:0')\n",
      "tensor([-3.3855], device='cuda:0', grad_fn=<SelectBackward0>)\n",
      "tensor(1, device='cuda:0')\n",
      "tensor([3.2571], device='cuda:0', grad_fn=<SelectBackward0>)\n",
      "tensor(1, device='cuda:0')\n",
      "tensor([2.4012], device='cuda:0', grad_fn=<SelectBackward0>)\n",
      "tensor(1, device='cuda:0')\n",
      "tensor([3.0262], device='cuda:0', grad_fn=<SelectBackward0>)\n",
      "tensor(1, device='cuda:0')\n",
      "tensor([3.3232], device='cuda:0', grad_fn=<SelectBackward0>)\n",
      "Epoch: 83, loss: 0.0546\n",
      "tensor(1, device='cuda:0')\n",
      "tensor([3.2447], device='cuda:0', grad_fn=<SelectBackward0>)\n",
      "tensor(0, device='cuda:0')\n",
      "tensor([-3.1590], device='cuda:0', grad_fn=<SelectBackward0>)\n",
      "tensor(0, device='cuda:0')\n",
      "tensor([-1.8225], device='cuda:0', grad_fn=<SelectBackward0>)\n",
      "tensor(1, device='cuda:0')\n",
      "tensor([2.4682], device='cuda:0', grad_fn=<SelectBackward0>)\n",
      "tensor(1, device='cuda:0')\n",
      "tensor([1.9280], device='cuda:0', grad_fn=<SelectBackward0>)\n",
      "tensor(1, device='cuda:0')\n",
      "tensor([2.3744], device='cuda:0', grad_fn=<SelectBackward0>)\n",
      "tensor(0, device='cuda:0')\n",
      "tensor([-2.4314], device='cuda:0', grad_fn=<SelectBackward0>)\n",
      "tensor(0, device='cuda:0')\n",
      "tensor([-3.6824], device='cuda:0', grad_fn=<SelectBackward0>)\n",
      "Epoch: 84, loss: 0.0655\n",
      "tensor(0, device='cuda:0')\n",
      "tensor([-2.4024], device='cuda:0', grad_fn=<SelectBackward0>)\n",
      "tensor(1, device='cuda:0')\n",
      "tensor([3.1643], device='cuda:0', grad_fn=<SelectBackward0>)\n",
      "tensor(0, device='cuda:0')\n",
      "tensor([-2.8553], device='cuda:0', grad_fn=<SelectBackward0>)\n",
      "tensor(1, device='cuda:0')\n",
      "tensor([3.5881], device='cuda:0', grad_fn=<SelectBackward0>)\n",
      "tensor(1, device='cuda:0')\n",
      "tensor([3.2573], device='cuda:0', grad_fn=<SelectBackward0>)\n",
      "tensor(0, device='cuda:0')\n",
      "tensor([-3.3187], device='cuda:0', grad_fn=<SelectBackward0>)\n",
      "tensor(0, device='cuda:0')\n",
      "tensor([-2.4795], device='cuda:0', grad_fn=<SelectBackward0>)\n",
      "tensor(0, device='cuda:0')\n",
      "tensor([-2.9468], device='cuda:0', grad_fn=<SelectBackward0>)\n",
      "Epoch: 85, loss: 0.0495\n",
      "tensor(0, device='cuda:0')\n",
      "tensor([-3.3859], device='cuda:0', grad_fn=<SelectBackward0>)\n",
      "tensor(0, device='cuda:0')\n",
      "tensor([-3.4246], device='cuda:0', grad_fn=<SelectBackward0>)\n",
      "tensor(1, device='cuda:0')\n",
      "tensor([3.3029], device='cuda:0', grad_fn=<SelectBackward0>)\n",
      "tensor(0, device='cuda:0')\n",
      "tensor([-3.5880], device='cuda:0', grad_fn=<SelectBackward0>)\n",
      "tensor(1, device='cuda:0')\n",
      "tensor([3.1178], device='cuda:0', grad_fn=<SelectBackward0>)\n",
      "tensor(1, device='cuda:0')\n",
      "tensor([3.2673], device='cuda:0', grad_fn=<SelectBackward0>)\n",
      "tensor(0, device='cuda:0')\n",
      "tensor([-3.4333], device='cuda:0', grad_fn=<SelectBackward0>)\n",
      "tensor(0, device='cuda:0')\n",
      "tensor([-3.1269], device='cuda:0', grad_fn=<SelectBackward0>)\n",
      "Epoch: 86, loss: 0.0528\n",
      "tensor(1, device='cuda:0')\n",
      "tensor([3.2607], device='cuda:0', grad_fn=<SelectBackward0>)\n",
      "tensor(1, device='cuda:0')\n",
      "tensor([3.1156], device='cuda:0', grad_fn=<SelectBackward0>)\n",
      "tensor(0, device='cuda:0')\n",
      "tensor([-3.1558], device='cuda:0', grad_fn=<SelectBackward0>)\n",
      "tensor(1, device='cuda:0')\n",
      "tensor([3.2096], device='cuda:0', grad_fn=<SelectBackward0>)\n",
      "tensor(1, device='cuda:0')\n",
      "tensor([3.4980], device='cuda:0', grad_fn=<SelectBackward0>)\n",
      "tensor(1, device='cuda:0')\n",
      "tensor([3.1799], device='cuda:0', grad_fn=<SelectBackward0>)\n",
      "tensor(0, device='cuda:0')\n",
      "tensor([-2.6838], device='cuda:0', grad_fn=<SelectBackward0>)\n",
      "tensor(0, device='cuda:0')\n",
      "tensor([-3.4204], device='cuda:0', grad_fn=<SelectBackward0>)\n",
      "Epoch: 87, loss: 0.0551\n",
      "tensor(1, device='cuda:0')\n",
      "tensor([3.3001], device='cuda:0', grad_fn=<SelectBackward0>)\n",
      "tensor(0, device='cuda:0')\n",
      "tensor([-2.4976], device='cuda:0', grad_fn=<SelectBackward0>)\n",
      "tensor(1, device='cuda:0')\n",
      "tensor([3.2998], device='cuda:0', grad_fn=<SelectBackward0>)\n",
      "tensor(1, device='cuda:0')\n",
      "tensor([3.2511], device='cuda:0', grad_fn=<SelectBackward0>)\n",
      "tensor(1, device='cuda:0')\n",
      "tensor([3.4106], device='cuda:0', grad_fn=<SelectBackward0>)\n",
      "tensor(1, device='cuda:0')\n",
      "tensor([2.8674], device='cuda:0', grad_fn=<SelectBackward0>)\n",
      "tensor(0, device='cuda:0')\n",
      "tensor([-3.1513], device='cuda:0', grad_fn=<SelectBackward0>)\n",
      "tensor(0, device='cuda:0')\n",
      "tensor([-3.1242], device='cuda:0', grad_fn=<SelectBackward0>)\n",
      "Epoch: 88, loss: 0.0568\n",
      "tensor(1, device='cuda:0')\n",
      "tensor([2.3052], device='cuda:0', grad_fn=<SelectBackward0>)\n",
      "tensor(0, device='cuda:0')\n",
      "tensor([-2.9385], device='cuda:0', grad_fn=<SelectBackward0>)\n",
      "tensor(1, device='cuda:0')\n",
      "tensor([2.2707], device='cuda:0', grad_fn=<SelectBackward0>)\n",
      "tensor(1, device='cuda:0')\n",
      "tensor([3.3240], device='cuda:0', grad_fn=<SelectBackward0>)\n",
      "tensor(0, device='cuda:0')\n",
      "tensor([-1.8474], device='cuda:0', grad_fn=<SelectBackward0>)\n",
      "tensor(1, device='cuda:0')\n",
      "tensor([2.8343], device='cuda:0', grad_fn=<SelectBackward0>)\n",
      "tensor(0, device='cuda:0')\n",
      "tensor([-3.4372], device='cuda:0', grad_fn=<SelectBackward0>)\n",
      "tensor(1, device='cuda:0')\n",
      "tensor([1.3673], device='cuda:0', grad_fn=<SelectBackward0>)\n",
      "Epoch: 89, loss: 0.0507\n",
      "tensor(0, device='cuda:0')\n",
      "tensor([-3.3990], device='cuda:0', grad_fn=<SelectBackward0>)\n",
      "tensor(0, device='cuda:0')\n",
      "tensor([-3.0572], device='cuda:0', grad_fn=<SelectBackward0>)\n",
      "tensor(1, device='cuda:0')\n",
      "tensor([3.4371], device='cuda:0', grad_fn=<SelectBackward0>)\n",
      "tensor(1, device='cuda:0')\n",
      "tensor([3.1245], device='cuda:0', grad_fn=<SelectBackward0>)\n",
      "tensor(1, device='cuda:0')\n",
      "tensor([3.2062], device='cuda:0', grad_fn=<SelectBackward0>)\n",
      "tensor(1, device='cuda:0')\n",
      "tensor([3.4969], device='cuda:0', grad_fn=<SelectBackward0>)\n",
      "tensor(1, device='cuda:0')\n",
      "tensor([3.6853], device='cuda:0', grad_fn=<SelectBackward0>)\n",
      "tensor(1, device='cuda:0')\n",
      "tensor([3.3554], device='cuda:0', grad_fn=<SelectBackward0>)\n",
      "Epoch: 90, loss: 0.0473\n",
      "tensor(0, device='cuda:0')\n",
      "tensor([-3.2539], device='cuda:0', grad_fn=<SelectBackward0>)\n",
      "tensor(0, device='cuda:0')\n",
      "tensor([-1.9326], device='cuda:0', grad_fn=<SelectBackward0>)\n",
      "tensor(1, device='cuda:0')\n",
      "tensor([3.6002], device='cuda:0', grad_fn=<SelectBackward0>)\n",
      "tensor(1, device='cuda:0')\n",
      "tensor([2.5578], device='cuda:0', grad_fn=<SelectBackward0>)\n",
      "tensor(1, device='cuda:0')\n",
      "tensor([3.5571], device='cuda:0', grad_fn=<SelectBackward0>)\n",
      "tensor(1, device='cuda:0')\n",
      "tensor([3.5805], device='cuda:0', grad_fn=<SelectBackward0>)\n",
      "tensor(1, device='cuda:0')\n",
      "tensor([2.6438], device='cuda:0', grad_fn=<SelectBackward0>)\n",
      "tensor(0, device='cuda:0')\n",
      "tensor([-2.4891], device='cuda:0', grad_fn=<SelectBackward0>)\n",
      "Epoch: 91, loss: 0.0468\n",
      "tensor(0, device='cuda:0')\n",
      "tensor([-2.4800], device='cuda:0', grad_fn=<SelectBackward0>)\n",
      "tensor(1, device='cuda:0')\n",
      "tensor([3.1587], device='cuda:0', grad_fn=<SelectBackward0>)\n",
      "tensor(1, device='cuda:0')\n",
      "tensor([3.5337], device='cuda:0', grad_fn=<SelectBackward0>)\n",
      "tensor(1, device='cuda:0')\n",
      "tensor([3.0036], device='cuda:0', grad_fn=<SelectBackward0>)\n",
      "tensor(0, device='cuda:0')\n",
      "tensor([-3.1979], device='cuda:0', grad_fn=<SelectBackward0>)\n",
      "tensor(1, device='cuda:0')\n",
      "tensor([3.3971], device='cuda:0', grad_fn=<SelectBackward0>)\n",
      "tensor(1, device='cuda:0')\n",
      "tensor([3.1180], device='cuda:0', grad_fn=<SelectBackward0>)\n",
      "tensor(0, device='cuda:0')\n",
      "tensor([-3.3240], device='cuda:0', grad_fn=<SelectBackward0>)\n",
      "Epoch: 92, loss: 0.0418\n",
      "tensor(0, device='cuda:0')\n",
      "tensor([-2.8876], device='cuda:0', grad_fn=<SelectBackward0>)\n",
      "tensor(0, device='cuda:0')\n",
      "tensor([-3.2610], device='cuda:0', grad_fn=<SelectBackward0>)\n",
      "tensor(1, device='cuda:0')\n",
      "tensor([3.4980], device='cuda:0', grad_fn=<SelectBackward0>)\n",
      "tensor(1, device='cuda:0')\n",
      "tensor([3.1331], device='cuda:0', grad_fn=<SelectBackward0>)\n",
      "tensor(1, device='cuda:0')\n",
      "tensor([3.5245], device='cuda:0', grad_fn=<SelectBackward0>)\n",
      "tensor(0, device='cuda:0')\n",
      "tensor([-3.5261], device='cuda:0', grad_fn=<SelectBackward0>)\n",
      "tensor(0, device='cuda:0')\n",
      "tensor([-3.2064], device='cuda:0', grad_fn=<SelectBackward0>)\n",
      "tensor(1, device='cuda:0')\n",
      "tensor([1.9326], device='cuda:0', grad_fn=<SelectBackward0>)\n",
      "Epoch: 93, loss: 0.0468\n",
      "tensor(0, device='cuda:0')\n",
      "tensor([-2.7985], device='cuda:0', grad_fn=<SelectBackward0>)\n",
      "tensor(1, device='cuda:0')\n",
      "tensor([3.5333], device='cuda:0', grad_fn=<SelectBackward0>)\n",
      "tensor(1, device='cuda:0')\n",
      "tensor([3.6659], device='cuda:0', grad_fn=<SelectBackward0>)\n",
      "tensor(0, device='cuda:0')\n",
      "tensor([-2.7091], device='cuda:0', grad_fn=<SelectBackward0>)\n",
      "tensor(1, device='cuda:0')\n",
      "tensor([3.2996], device='cuda:0', grad_fn=<SelectBackward0>)\n",
      "tensor(0, device='cuda:0')\n",
      "tensor([-3.5169], device='cuda:0', grad_fn=<SelectBackward0>)\n",
      "tensor(0, device='cuda:0')\n",
      "tensor([-3.5128], device='cuda:0', grad_fn=<SelectBackward0>)\n",
      "tensor(0, device='cuda:0')\n",
      "tensor([-2.7877], device='cuda:0', grad_fn=<SelectBackward0>)\n",
      "Epoch: 94, loss: 0.0481\n",
      "tensor(0, device='cuda:0')\n",
      "tensor([-2.2544], device='cuda:0', grad_fn=<SelectBackward0>)\n",
      "tensor(1, device='cuda:0')\n",
      "tensor([2.6880], device='cuda:0', grad_fn=<SelectBackward0>)\n",
      "tensor(0, device='cuda:0')\n",
      "tensor([-3.4787], device='cuda:0', grad_fn=<SelectBackward0>)\n",
      "tensor(1, device='cuda:0')\n",
      "tensor([3.6161], device='cuda:0', grad_fn=<SelectBackward0>)\n",
      "tensor(0, device='cuda:0')\n",
      "tensor([-3.4164], device='cuda:0', grad_fn=<SelectBackward0>)\n",
      "tensor(1, device='cuda:0')\n",
      "tensor([3.6142], device='cuda:0', grad_fn=<SelectBackward0>)\n",
      "tensor(1, device='cuda:0')\n",
      "tensor([3.6372], device='cuda:0', grad_fn=<SelectBackward0>)\n",
      "tensor(1, device='cuda:0')\n",
      "tensor([1.7125], device='cuda:0', grad_fn=<SelectBackward0>)\n",
      "Epoch: 95, loss: 0.0427\n",
      "tensor(0, device='cuda:0')\n",
      "tensor([-3.5049], device='cuda:0', grad_fn=<SelectBackward0>)\n",
      "tensor(0, device='cuda:0')\n",
      "tensor([-2.8661], device='cuda:0', grad_fn=<SelectBackward0>)\n",
      "tensor(1, device='cuda:0')\n",
      "tensor([1.4414], device='cuda:0', grad_fn=<SelectBackward0>)\n",
      "tensor(0, device='cuda:0')\n",
      "tensor([-3.4812], device='cuda:0', grad_fn=<SelectBackward0>)\n",
      "tensor(0, device='cuda:0')\n",
      "tensor([-3.6100], device='cuda:0', grad_fn=<SelectBackward0>)\n",
      "tensor(0, device='cuda:0')\n",
      "tensor([-2.3786], device='cuda:0', grad_fn=<SelectBackward0>)\n",
      "tensor(0, device='cuda:0')\n",
      "tensor([-2.7959], device='cuda:0', grad_fn=<SelectBackward0>)\n",
      "tensor(1, device='cuda:0')\n",
      "tensor([3.5442], device='cuda:0', grad_fn=<SelectBackward0>)\n",
      "Epoch: 96, loss: 0.0408\n",
      "tensor(0, device='cuda:0')\n",
      "tensor([-2.8555], device='cuda:0', grad_fn=<SelectBackward0>)\n",
      "tensor(0, device='cuda:0')\n",
      "tensor([-3.0140], device='cuda:0', grad_fn=<SelectBackward0>)\n",
      "tensor(0, device='cuda:0')\n",
      "tensor([-3.3206], device='cuda:0', grad_fn=<SelectBackward0>)\n",
      "tensor(1, device='cuda:0')\n",
      "tensor([3.3114], device='cuda:0', grad_fn=<SelectBackward0>)\n",
      "tensor(0, device='cuda:0')\n",
      "tensor([-3.4285], device='cuda:0', grad_fn=<SelectBackward0>)\n",
      "tensor(1, device='cuda:0')\n",
      "tensor([3.4731], device='cuda:0', grad_fn=<SelectBackward0>)\n",
      "tensor(1, device='cuda:0')\n",
      "tensor([3.5392], device='cuda:0', grad_fn=<SelectBackward0>)\n",
      "tensor(0, device='cuda:0')\n",
      "tensor([-3.3602], device='cuda:0', grad_fn=<SelectBackward0>)\n",
      "Epoch: 97, loss: 0.0466\n",
      "tensor(0, device='cuda:0')\n",
      "tensor([-2.0724], device='cuda:0', grad_fn=<SelectBackward0>)\n",
      "tensor(1, device='cuda:0')\n",
      "tensor([3.5619], device='cuda:0', grad_fn=<SelectBackward0>)\n",
      "tensor(0, device='cuda:0')\n",
      "tensor([-3.5797], device='cuda:0', grad_fn=<SelectBackward0>)\n",
      "tensor(1, device='cuda:0')\n",
      "tensor([3.5392], device='cuda:0', grad_fn=<SelectBackward0>)\n",
      "tensor(0, device='cuda:0')\n",
      "tensor([-3.0579], device='cuda:0', grad_fn=<SelectBackward0>)\n",
      "tensor(0, device='cuda:0')\n",
      "tensor([-3.5791], device='cuda:0', grad_fn=<SelectBackward0>)\n",
      "tensor(1, device='cuda:0')\n",
      "tensor([3.3470], device='cuda:0', grad_fn=<SelectBackward0>)\n",
      "tensor(1, device='cuda:0')\n",
      "tensor([3.7367], device='cuda:0', grad_fn=<SelectBackward0>)\n",
      "Epoch: 98, loss: 0.0418\n",
      "tensor(1, device='cuda:0')\n",
      "tensor([3.1871], device='cuda:0', grad_fn=<SelectBackward0>)\n",
      "tensor(0, device='cuda:0')\n",
      "tensor([-3.2356], device='cuda:0', grad_fn=<SelectBackward0>)\n",
      "tensor(0, device='cuda:0')\n",
      "tensor([-3.5705], device='cuda:0', grad_fn=<SelectBackward0>)\n",
      "tensor(0, device='cuda:0')\n",
      "tensor([-2.4949], device='cuda:0', grad_fn=<SelectBackward0>)\n",
      "tensor(1, device='cuda:0')\n",
      "tensor([3.0669], device='cuda:0', grad_fn=<SelectBackward0>)\n",
      "tensor(1, device='cuda:0')\n",
      "tensor([3.5697], device='cuda:0', grad_fn=<SelectBackward0>)\n",
      "tensor(0, device='cuda:0')\n",
      "tensor([-3.4952], device='cuda:0', grad_fn=<SelectBackward0>)\n",
      "tensor(1, device='cuda:0')\n",
      "tensor([3.4439], device='cuda:0', grad_fn=<SelectBackward0>)\n",
      "Epoch: 99, loss: 0.043\n"
     ]
    }
   ],
   "execution_count": 147
  },
  {
   "cell_type": "markdown",
   "metadata": {},
   "source": [
    "### Ewaluacja"
   ]
  },
  {
   "cell_type": "code",
   "metadata": {
    "ExecuteTime": {
     "end_time": "2025-03-12T13:24:52.415210300Z",
     "start_time": "2025-03-12T09:47:34.645782Z"
    }
   },
   "source": [
    "test_dataset = XORDataset(size=500)\n",
    "# drop_last -> Don't drop the last batch although it is smaller than 128\n",
    "test_data_loader = data.DataLoader(test_dataset, batch_size=128, shuffle=False, drop_last=False)"
   ],
   "outputs": [],
   "execution_count": 72
  },
  {
   "cell_type": "code",
   "metadata": {
    "ExecuteTime": {
     "end_time": "2025-03-12T13:24:52.415210300Z",
     "start_time": "2025-03-12T09:47:42.104459Z"
    }
   },
   "source": [
    "model.eval() # Set model to eval mode\n",
    "true_preds, num_preds = 0., 0.\n",
    "\n",
    "with torch.no_grad(): # Deactivate gradients for the following code\n",
    "    for data_inputs, data_labels in test_data_loader:\n",
    "\n",
    "        # Determine prediction of model on dev set\n",
    "        data_inputs, data_labels = data_inputs.to(device), data_labels.to(device)\n",
    "        preds = model(data_inputs)\n",
    "        preds = preds.squeeze(dim=1)\n",
    "        preds = torch.sigmoid(preds) # Sigmoid to map predictions between 0 and 1\n",
    "        pred_labels = (preds >= 0.5).long() # Binarize predictions to 0 and 1\n",
    "\n",
    "        # Keep records of predictions for the accuracy metric (true_preds=TP+TN, num_preds=TP+TN+FP+FN)\n",
    "        true_preds += (pred_labels == data_labels).sum()\n",
    "        num_preds += data_labels.shape[0]\n",
    "\n",
    "acc = true_preds / num_preds\n",
    "print(f\"Accuracy of the model: {100.0*acc:4.2f}%\")"
   ],
   "outputs": [
    {
     "name": "stdout",
     "output_type": "stream",
     "text": [
      "Accuracy of the model: 100.00%\n"
     ]
    }
   ],
   "execution_count": 74
  },
  {
   "cell_type": "code",
   "metadata": {
    "ExecuteTime": {
     "end_time": "2025-03-12T13:24:52.415210300Z",
     "start_time": "2025-03-12T09:48:01.378056Z"
    }
   },
   "source": [
    "from matplotlib.colors import to_rgba"
   ],
   "outputs": [],
   "execution_count": 76
  },
  {
   "cell_type": "code",
   "metadata": {
    "ExecuteTime": {
     "end_time": "2025-03-12T13:24:52.415210300Z",
     "start_time": "2025-03-12T09:48:03.216964Z"
    }
   },
   "source": [
    "%matplotlib inline\n",
    "with torch.no_grad():\n",
    "    data = test_dataset.data.cpu().numpy()\n",
    "    label = test_dataset.label.cpu().numpy()\n",
    "    data_0 = data[label == 0]\n",
    "    data_1 = data[label == 1]\n",
    "\n",
    "    plt.figure(figsize=(4,4))\n",
    "    plt.scatter(data_0[:,0], data_0[:,1], edgecolor=\"#333\", label=\"Class 0\")\n",
    "    plt.scatter(data_1[:,0], data_1[:,1], edgecolor=\"#333\", label=\"Class 1\")\n",
    "    plt.title(\"Dataset samples\")\n",
    "    plt.ylabel(r\"$x_2$\")\n",
    "    plt.xlabel(r\"$x_1$\")\n",
    "    plt.legend()\n",
    "\n",
    "    # Let's make use of a lot of operations we have learned above\n",
    "    model.to(device)\n",
    "    c0 = torch.Tensor(to_rgba(\"C0\")).to(device)\n",
    "    c1 = torch.Tensor(to_rgba(\"C1\")).to(device)\n",
    "    x1 = torch.arange(-0.5, 1.5, step=0.01, device=device)\n",
    "    x2 = torch.arange(-0.5, 1.5, step=0.01, device=device)\n",
    "    xx1, xx2 = torch.meshgrid(x1, x2) # Meshgrid function as in numpy\n",
    "    model_inputs = torch.stack([xx1, xx2], dim=-1)\n",
    "    preds = model(model_inputs)\n",
    "    preds = torch.sigmoid(preds)\n",
    "    output_image = preds * c0[None,None] + (1 - preds) * c1[None,None] # Specifying \"None\" in a dimension creates a new one\n",
    "    output_image = output_image.cpu().numpy() # Convert to numpy array. This only works for tensors on CPU, hence first push to CPU\n",
    "    plt.imshow(output_image, origin='upper', extent=(-0.5, 1.5, -0.5, 1.5))\n",
    "    plt.grid(False)"
   ],
   "outputs": [
    {
     "name": "stderr",
     "output_type": "stream",
     "text": [
      "C:\\Users\\mateu\\Documents\\GitHub\\Python-Toolkit-Playground\\.venv\\Lib\\site-packages\\torch\\functional.py:539: UserWarning: torch.meshgrid: in an upcoming release, it will be required to pass the indexing argument. (Triggered internally at C:\\actions-runner\\_work\\pytorch\\pytorch\\pytorch\\aten\\src\\ATen\\native\\TensorShape.cpp:3638.)\n",
      "  return _VF.meshgrid(tensors, **kwargs)  # type: ignore[attr-defined]\n"
     ]
    },
    {
     "data": {
      "text/plain": [
       "<Figure size 400x400 with 1 Axes>"
      ],
      "image/png": "[encoded data removed]"
     },
     "metadata": {},
     "output_type": "display_data"
    }
   ],
   "execution_count": 77
  },
  {
   "cell_type": "markdown",
   "metadata": {},
   "source": [
    "## Zapisywanie i wczytywanie modelu"
   ]
  },
  {
   "cell_type": "code",
   "execution_count": null,
   "metadata": {
    "ExecuteTime": {
     "end_time": "2025-03-12T13:24:52.415210300Z",
     "start_time": "2021-10-15T07:58:49.834095Z"
    }
   },
   "outputs": [],
   "source": [
    "state_dict = model.state_dict()\n",
    "print(state_dict)"
   ]
  },
  {
   "cell_type": "code",
   "execution_count": null,
   "metadata": {
    "ExecuteTime": {
     "end_time": "2025-03-12T13:24:52.431024500Z",
     "start_time": "2021-10-15T07:58:50.953220Z"
    }
   },
   "outputs": [],
   "source": [
    "torch.save(state_dict, \"simple_model.tar\")"
   ]
  },
  {
   "cell_type": "code",
   "execution_count": null,
   "metadata": {
    "ExecuteTime": {
     "end_time": "2025-03-12T13:24:52.431024500Z",
     "start_time": "2021-10-15T07:59:05.547564Z"
    }
   },
   "outputs": [],
   "source": [
    "# Load state dict from the disk (make sure it is the same name as above)\n",
    "state_dict = torch.load(\"simple_model.tar\")\n",
    "\n",
    "# Create a new model and load the state\n",
    "new_model = SimpleClassifier(num_inputs=2, num_hidden=4, num_outputs=1).to(device)\n",
    "new_model.load_state_dict(state_dict)\n",
    "# Verify that the parameters are the same\n",
    "print(\"Original model\\n\", model.state_dict())\n",
    "print(\"\\nLoaded model\\n\", new_model.state_dict())"
   ]
  },
  {
   "cell_type": "markdown",
   "metadata": {},
   "source": [
    "## Zrób to sam. Polecane przećwiczyć przed kolejnymi ćwiczeniami.\n",
    "\n",
    "Spróbujmy przewidzieć ocenę wina na podstawie jego parametrów"
   ]
  },
  {
   "cell_type": "code",
   "metadata": {
    "ExecuteTime": {
     "end_time": "2025-03-12T14:27:42.288257Z",
     "start_time": "2025-03-12T14:27:40.261609Z"
    }
   },
   "source": [
    "import pandas as pd\n",
    "from sklearn.model_selection import train_test_split\n",
    "df = pd.read_csv('https://archive.ics.uci.edu/ml/machine-learning-databases/wine-quality/winequality-white.csv', delimiter=\";\")"
   ],
   "outputs": [],
   "execution_count": 118
  },
  {
   "cell_type": "markdown",
   "metadata": {},
   "source": [
    "#### ... Jakieś wstępne przetwarzanie danych?"
   ]
  },
  {
   "cell_type": "code",
   "metadata": {
    "ExecuteTime": {
     "end_time": "2025-03-12T14:28:18.247746Z",
     "start_time": "2025-03-12T14:28:18.234286Z"
    }
   },
   "source": [
    "train=df.sample(frac=0.8,random_state=200) #random state is a seed value\n",
    "test=df.drop(train.index)\n",
    "train, val = train_test_split(train, test_size=0.2, random_state=200)\n",
    "print(f\"Train size: {train.shape}\")\n",
    "print(f\"Validation size: {val.shape}\")\n",
    "print(f\"Test size: {test.shape}\")"
   ],
   "outputs": [
    {
     "name": "stdout",
     "output_type": "stream",
     "text": [
      "Train size: (3134, 12)\n",
      "Validation size: (784, 12)\n",
      "Test size: (980, 12)\n"
     ]
    }
   ],
   "execution_count": 120
  },
  {
   "cell_type": "code",
   "metadata": {
    "ExecuteTime": {
     "end_time": "2025-03-12T14:28:44.506161Z",
     "start_time": "2025-03-12T14:28:44.501294Z"
    }
   },
   "source": [
    "import torch.utils.data as data\n",
    "from sklearn.preprocessing import StandardScaler\n",
    "import numpy as np"
   ],
   "outputs": [],
   "execution_count": 121
  },
  {
   "metadata": {
    "ExecuteTime": {
     "end_time": "2025-03-12T14:32:09.940106Z",
     "start_time": "2025-03-12T14:32:09.932625Z"
    }
   },
   "cell_type": "code",
   "source": [
    "train_data = train.values[:,:-1]\n",
    "test_data = test.values[:,:-1]\n",
    "val_data = val.values[:,:-1]\n",
    "\n",
    "scaler = StandardScaler()\n",
    "train_data = scaler.fit_transform(train_data)  # Normalize training data\n",
    "test_data = scaler.transform(test_data)\n",
    "val_data = scaler.transform(val_data)"
   ],
   "outputs": [],
   "execution_count": 124
  },
  {
   "cell_type": "code",
   "metadata": {
    "ExecuteTime": {
     "end_time": "2025-03-12T14:38:52.605062Z",
     "start_time": "2025-03-12T14:38:52.595214Z"
    }
   },
   "source": [
    "train_labels = np.zeros(shape=(train.shape[0], 10))\n",
    "one_idx = np.array(train.values[:,-1], dtype=np.int64)\n",
    "train_labels[np.arange(train.shape[0]),one_idx] = 1\n",
    "\n",
    "train_dataset = data.TensorDataset(torch.from_numpy(train_data),torch.from_numpy(train_labels))\n",
    "test_dataset = data.TensorDataset(torch.from_numpy(test_data),torch.from_numpy(test.values[:,-1]))\n",
    "val_dataset = data.TensorDataset(torch.from_numpy(val_data),torch.from_numpy(val.values[:,-1]))"
   ],
   "outputs": [],
   "execution_count": 128
  },
  {
   "metadata": {
    "ExecuteTime": {
     "end_time": "2025-03-12T15:03:42.797339Z",
     "start_time": "2025-03-12T15:03:42.791836Z"
    }
   },
   "cell_type": "code",
   "source": [
    "class MyClassifier(nn.Module):\n",
    "\n",
    "    def __init__(self, num_inputs, num_hidden, num_outputs):\n",
    "        super().__init__()\n",
    "        # Initialize the modules we need to build the network\n",
    "        self.linear1 = nn.Linear(num_inputs, num_hidden, dtype=torch.float64)\n",
    "        self.act_fn = nn.ReLU()\n",
    "        self.linear2 = nn.Linear(num_hidden, num_hidden//2, dtype=torch.float64)\n",
    "        self.linear3 = nn.Linear(num_hidden//2, num_hidden//4, dtype=torch.float64)\n",
    "        self.linear4 = nn.Linear(num_hidden//4, num_outputs, dtype=torch.float64)\n",
    "\n",
    "    def forward(self, x):\n",
    "        # Perform the calculation of the model to determine the prediction\n",
    "        x = self.linear1(x)\n",
    "        x = self.act_fn(x)\n",
    "        x = self.linear2(x)\n",
    "        x = self.act_fn(x)\n",
    "        x = self.linear3(x)\n",
    "        x = self.act_fn(x)\n",
    "        x = self.linear4(x)\n",
    "        return x"
   ],
   "outputs": [],
   "execution_count": 161
  },
  {
   "metadata": {
    "ExecuteTime": {
     "end_time": "2025-03-12T15:03:44.099299Z",
     "start_time": "2025-03-12T15:03:43.963231Z"
    }
   },
   "cell_type": "code",
   "source": [
    "model = MyClassifier(num_inputs=11, num_hidden=4096, num_outputs=10).cuda()\n",
    "optimizer = torch.optim.Adam(model.parameters(), lr=0.00005)\n",
    "loss_module = nn.CrossEntropyLoss()\n",
    "train_data_loader = data.DataLoader(train_dataset, batch_size=64, shuffle=True)\n",
    "test_data_loader = data.DataLoader(test_dataset, batch_size=64, shuffle=False, drop_last=False)\n",
    "val_data_loader = data.DataLoader(val_dataset, batch_size=64, shuffle=False, drop_last=False)"
   ],
   "outputs": [],
   "execution_count": 162
  },
  {
   "metadata": {
    "ExecuteTime": {
     "end_time": "2025-03-12T15:05:48.254934Z",
     "start_time": "2025-03-12T15:03:45.167379Z"
    }
   },
   "cell_type": "code",
   "source": [
    "model.train()\n",
    "\n",
    "# Training loop\n",
    "for epoch in range(91):\n",
    "    true_preds, num_preds = 0., 0.\n",
    "    for data_inputs, data_labels in train_data_loader:\n",
    "        ## Step 1: Move input data to device (only strictly necessary if we use GPU)\n",
    "        data_inputs = data_inputs.to(device, dtype=torch.float64)\n",
    "        data_labels = data_labels.to(device)\n",
    "\n",
    "        ## Step 2: Run the model on the input data\n",
    "        preds = model(data_inputs)\n",
    "        preds = preds.squeeze(dim=1)\n",
    "        pred_labels = preds.argmax(dim=1)# Output is [Batch size, 1], but we want [Batch size]\n",
    "\n",
    "        ## Step 3: Calculate the loss\n",
    "        loss = loss_module(preds, data_labels.float())\n",
    "\n",
    "        ## Step 4: Perform backpropagation\n",
    "        # Before calculating the gradients, we need to ensure that they are all zero.\n",
    "        # The gradients would not be overwritten, but actually added to the existing ones.\n",
    "        optimizer.zero_grad()\n",
    "        # Perform backpropagation\n",
    "        loss.backward()\n",
    "\n",
    "        ## Step 5: Update the parameters\n",
    "        optimizer.step()\n",
    "\n",
    "        true_preds += (pred_labels - data_labels.argmax(dim=1) == 0).sum()\n",
    "        num_preds += data_labels.shape[0]\n",
    "    acc = true_preds / num_preds\n",
    "    print(f\"Epoch: {epoch}, loss: {loss.item():.3}, train_accuracy: {100.0*acc:4.2f}%\")\n",
    "\n",
    "    if epoch % 10 == 0:\n",
    "        model.eval()  # Set model to evaluation mode (disables dropout, batch norm updates)\n",
    "        val_true_preds, val_num_preds = 0., 0.\n",
    "        val_loss = 0.\n",
    "\n",
    "        with torch.no_grad():  # No gradient calculations needed for validation\n",
    "            for val_inputs, val_labels in val_data_loader:\n",
    "                val_inputs = val_inputs.to(device, dtype=torch.float64)\n",
    "                val_labels = val_labels.to(device, dtype=torch.long)\n",
    "\n",
    "                val_preds = model(val_inputs)\n",
    "                val_preds = val_preds.squeeze(dim=1)\n",
    "                val_pred_labels = val_preds.argmax(dim=1)\n",
    "\n",
    "                val_loss += loss_module(val_preds, val_labels)\n",
    "\n",
    "                val_true_preds += (val_pred_labels == val_labels).sum().item()\n",
    "                val_num_preds += val_labels.shape[0]\n",
    "\n",
    "        val_acc = val_true_preds / val_num_preds * 100\n",
    "        val_loss /= len(val_data_loader)  # Compute average validation loss\n",
    "\n",
    "        print(f\"Val Loss: {val_loss:.3f}, Val Acc: {val_acc:.2f}%\")\n",
    "\n",
    "        model.train()  # Switch back to training mode after validation\n"
   ],
   "outputs": [
    {
     "name": "stdout",
     "output_type": "stream",
     "text": [
      "Epoch: 0, loss: 1.14, train_accuracy: 49.65%\n",
      "Val Loss: 1.192, Val Acc: 51.40%\n",
      "Epoch: 1, loss: 1.15, train_accuracy: 55.11%\n",
      "Epoch: 2, loss: 1.05, train_accuracy: 57.02%\n",
      "Epoch: 3, loss: 1.01, train_accuracy: 57.72%\n",
      "Epoch: 4, loss: 0.93, train_accuracy: 58.10%\n",
      "Epoch: 5, loss: 0.948, train_accuracy: 58.42%\n",
      "Epoch: 6, loss: 0.79, train_accuracy: 59.06%\n",
      "Epoch: 7, loss: 0.916, train_accuracy: 59.32%\n",
      "Epoch: 8, loss: 0.897, train_accuracy: 60.24%\n",
      "Epoch: 9, loss: 0.801, train_accuracy: 60.24%\n",
      "Epoch: 10, loss: 0.945, train_accuracy: 60.63%\n",
      "Val Loss: 1.074, Val Acc: 54.46%\n",
      "Epoch: 11, loss: 0.829, train_accuracy: 62.16%\n",
      "Epoch: 12, loss: 0.976, train_accuracy: 62.13%\n",
      "Epoch: 13, loss: 0.909, train_accuracy: 63.24%\n",
      "Epoch: 14, loss: 0.741, train_accuracy: 64.14%\n",
      "Epoch: 15, loss: 0.889, train_accuracy: 64.90%\n",
      "Epoch: 16, loss: 0.87, train_accuracy: 65.79%\n",
      "Epoch: 17, loss: 1.06, train_accuracy: 66.27%\n",
      "Epoch: 18, loss: 0.875, train_accuracy: 66.31%\n",
      "Epoch: 19, loss: 0.849, train_accuracy: 67.26%\n",
      "Epoch: 20, loss: 0.806, train_accuracy: 68.38%\n",
      "Val Loss: 1.108, Val Acc: 54.97%\n",
      "Epoch: 21, loss: 0.711, train_accuracy: 68.25%\n",
      "Epoch: 22, loss: 0.776, train_accuracy: 69.30%\n",
      "Epoch: 23, loss: 0.72, train_accuracy: 69.91%\n",
      "Epoch: 24, loss: 0.716, train_accuracy: 72.18%\n",
      "Epoch: 25, loss: 0.574, train_accuracy: 72.02%\n",
      "Epoch: 26, loss: 0.615, train_accuracy: 72.11%\n",
      "Epoch: 27, loss: 0.689, train_accuracy: 74.06%\n",
      "Epoch: 28, loss: 0.596, train_accuracy: 75.34%\n",
      "Epoch: 29, loss: 0.601, train_accuracy: 75.05%\n",
      "Epoch: 30, loss: 0.651, train_accuracy: 76.04%\n",
      "Val Loss: 1.153, Val Acc: 57.14%\n",
      "Epoch: 31, loss: 0.663, train_accuracy: 76.36%\n",
      "Epoch: 32, loss: 0.546, train_accuracy: 77.47%\n",
      "Epoch: 33, loss: 0.571, train_accuracy: 78.11%\n",
      "Epoch: 34, loss: 0.513, train_accuracy: 77.76%\n",
      "Epoch: 35, loss: 0.53, train_accuracy: 79.23%\n",
      "Epoch: 36, loss: 0.58, train_accuracy: 79.55%\n",
      "Epoch: 37, loss: 0.65, train_accuracy: 80.79%\n",
      "Epoch: 38, loss: 0.525, train_accuracy: 81.24%\n",
      "Epoch: 39, loss: 0.406, train_accuracy: 81.40%\n",
      "Epoch: 40, loss: 0.492, train_accuracy: 82.83%\n",
      "Val Loss: 1.216, Val Acc: 58.93%\n",
      "Epoch: 41, loss: 0.479, train_accuracy: 82.16%\n",
      "Epoch: 42, loss: 0.437, train_accuracy: 84.52%\n",
      "Epoch: 43, loss: 0.385, train_accuracy: 85.48%\n",
      "Epoch: 44, loss: 0.303, train_accuracy: 86.18%\n",
      "Epoch: 45, loss: 0.317, train_accuracy: 85.77%\n",
      "Epoch: 46, loss: 0.314, train_accuracy: 87.08%\n",
      "Epoch: 47, loss: 0.376, train_accuracy: 87.46%\n",
      "Epoch: 48, loss: 0.511, train_accuracy: 85.67%\n",
      "Epoch: 49, loss: 0.36, train_accuracy: 88.61%\n",
      "Epoch: 50, loss: 0.336, train_accuracy: 87.94%\n",
      "Val Loss: 1.372, Val Acc: 58.67%\n",
      "Epoch: 51, loss: 0.422, train_accuracy: 89.28%\n",
      "Epoch: 52, loss: 0.363, train_accuracy: 90.01%\n",
      "Epoch: 53, loss: 0.349, train_accuracy: 90.20%\n",
      "Epoch: 54, loss: 0.474, train_accuracy: 90.84%\n",
      "Epoch: 55, loss: 0.275, train_accuracy: 90.87%\n",
      "Epoch: 56, loss: 0.221, train_accuracy: 91.16%\n",
      "Epoch: 57, loss: 0.167, train_accuracy: 92.25%\n",
      "Epoch: 58, loss: 0.309, train_accuracy: 91.93%\n",
      "Epoch: 59, loss: 0.331, train_accuracy: 92.95%\n",
      "Epoch: 60, loss: 0.211, train_accuracy: 92.95%\n",
      "Val Loss: 1.503, Val Acc: 62.50%\n",
      "Epoch: 61, loss: 0.323, train_accuracy: 92.69%\n",
      "Epoch: 62, loss: 0.204, train_accuracy: 93.71%\n",
      "Epoch: 63, loss: 0.301, train_accuracy: 93.55%\n",
      "Epoch: 64, loss: 0.254, train_accuracy: 93.91%\n",
      "Epoch: 65, loss: 0.275, train_accuracy: 95.12%\n",
      "Epoch: 66, loss: 0.236, train_accuracy: 94.38%\n",
      "Epoch: 67, loss: 0.237, train_accuracy: 95.69%\n",
      "Epoch: 68, loss: 0.233, train_accuracy: 95.15%\n",
      "Epoch: 69, loss: 0.228, train_accuracy: 95.12%\n",
      "Epoch: 70, loss: 0.309, train_accuracy: 95.85%\n",
      "Val Loss: 1.696, Val Acc: 61.73%\n",
      "Epoch: 71, loss: 0.196, train_accuracy: 95.92%\n",
      "Epoch: 72, loss: 0.215, train_accuracy: 95.92%\n",
      "Epoch: 73, loss: 0.129, train_accuracy: 95.98%\n",
      "Epoch: 74, loss: 0.202, train_accuracy: 95.82%\n",
      "Epoch: 75, loss: 0.127, train_accuracy: 95.79%\n",
      "Epoch: 76, loss: 0.112, train_accuracy: 96.59%\n",
      "Epoch: 77, loss: 0.162, train_accuracy: 97.06%\n",
      "Epoch: 78, loss: 0.118, train_accuracy: 96.97%\n",
      "Epoch: 79, loss: 0.156, train_accuracy: 97.19%\n",
      "Epoch: 80, loss: 0.0856, train_accuracy: 97.70%\n",
      "Val Loss: 1.804, Val Acc: 61.73%\n",
      "Epoch: 81, loss: 0.144, train_accuracy: 97.19%\n",
      "Epoch: 82, loss: 0.111, train_accuracy: 97.54%\n",
      "Epoch: 83, loss: 0.0835, train_accuracy: 97.61%\n",
      "Epoch: 84, loss: 0.0958, train_accuracy: 97.86%\n",
      "Epoch: 85, loss: 0.204, train_accuracy: 97.73%\n",
      "Epoch: 86, loss: 0.0797, train_accuracy: 97.35%\n",
      "Epoch: 87, loss: 0.116, train_accuracy: 97.96%\n",
      "Epoch: 88, loss: 0.103, train_accuracy: 97.73%\n",
      "Epoch: 89, loss: 0.148, train_accuracy: 97.67%\n",
      "Epoch: 90, loss: 0.123, train_accuracy: 97.64%\n",
      "Val Loss: 2.014, Val Acc: 61.35%\n"
     ]
    }
   ],
   "execution_count": 163
  },
  {
   "metadata": {
    "ExecuteTime": {
     "end_time": "2025-03-12T13:24:52.446690700Z",
     "start_time": "2025-03-12T11:43:30.412711Z"
    }
   },
   "cell_type": "code",
   "source": "",
   "outputs": [],
   "execution_count": 215
  },
  {
   "metadata": {
    "ExecuteTime": {
     "end_time": "2025-03-12T15:08:26.774838Z",
     "start_time": "2025-03-12T15:08:26.411053Z"
    }
   },
   "cell_type": "code",
   "source": [
    "model.eval() # Set model to eval mode\n",
    "true_preds, num_preds = 0., 0.\n",
    "\n",
    "with torch.no_grad(): # Deactivate gradients for the following code\n",
    "    for data_inputs, data_labels in test_data_loader:\n",
    "\n",
    "        # Determine prediction of model on dev set\n",
    "        data_inputs, data_labels = data_inputs.to(device), data_labels.to(device)\n",
    "        preds = model(data_inputs)\n",
    "        preds = preds.squeeze(dim=1)\n",
    "        preds = torch.sigmoid(preds) # Sigmoid to map predictions between 0 and 1\n",
    "        pred_labels = preds.argmax(dim=1)\n",
    "\n",
    "        # Keep records of predictions for the accuracy metric (true_preds=TP+TN, num_preds=TP+TN+FP+FN)\n",
    "        true_preds += (pred_labels == data_labels).sum()\n",
    "        num_preds += data_labels.shape[0]\n",
    "\n",
    "acc = true_preds / num_preds\n",
    "print(f\"Accuracy of the model: {100.0*acc:4.2f}%\")"
   ],
   "outputs": [
    {
     "name": "stdout",
     "output_type": "stream",
     "text": [
      "Accuracy of the model: 61.43%\n"
     ]
    }
   ],
   "execution_count": 164
  },
  {
   "metadata": {},
   "cell_type": "code",
   "outputs": [],
   "execution_count": null,
   "source": ""
  }
 ],
 "metadata": {
  "kernelspec": {
   "display_name": "Python 3 (ipykernel)",
   "language": "python",
   "name": "python3"
  },
  "language_info": {
   "codemirror_mode": {
    "name": "ipython",
    "version": 3
   },
   "file_extension": ".py",
   "mimetype": "text/x-python",
   "name": "python",
   "nbconvert_exporter": "python",
   "pygments_lexer": "ipython3",
   "version": "3.10.12"
  },
  "varInspector": {
   "cols": {
    "lenName": 16,
    "lenType": 16,
    "lenVar": 40
   },
   "kernels_config": {
    "python": {
     "delete_cmd_postfix": "",
     "delete_cmd_prefix": "del ",
     "library": "var_list.py",
     "varRefreshCmd": "print(var_dic_list())"
    },
    "r": {
     "delete_cmd_postfix": ") ",
     "delete_cmd_prefix": "rm(",
     "library": "var_list.r",
     "varRefreshCmd": "cat(var_dic_list()) "
    }
   },
   "types_to_exclude": [
    "module",
    "function",
    "builtin_function_or_method",
    "instance",
    "_Feature"
   ],
   "window_display": false
  }
 },
 "nbformat": 4,
 "nbformat_minor": 4
}
