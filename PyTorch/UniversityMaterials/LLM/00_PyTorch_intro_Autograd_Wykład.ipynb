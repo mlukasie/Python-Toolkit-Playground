{
 "cells": [
  {
   "cell_type": "markdown",
   "metadata": {
    "id": "ZY88NuVprDxy"
   },
   "source": [
    "#PyTorch Intro - Autoróżniczkowanie i Graf Obliczeń - Wykład\n",
    "\n",
    "Do optymalizacji parametrów (wag) sieci neuronowej podczas treningu modelu wykorzystuje się **metodę stochastycznego spadku wzdłuż gradientu**.\n",
    "Gradient funkcji straty względem parametrów sieci wyznaczany jest algorytmem **propagacji wstecznej** (*back propagation*).\n",
    "\n",
    "Sieć neuronową możemy potraktować jak złożoną funkcję mapującą wejściowe dane $x \\in \\mathcal{X}$ (np. obraz czy sekwencję audio) na wyjście $y \\in \\mathcal{Y}$ parametryzowaną zestawem parametrów (wag) $\\theta$.\n",
    "$$\n",
    "f_{\\theta}( x ) = y\n",
    "$$\n",
    "W przypadku $n$-klasowego klasyfikatora wyjściem z sieci jest wektor $y \\in \\mathbb{R}^n$ nieznormalizowanych wartości, zwanych logitami, z których możemy wyznaczyć rozkład prawdopodobieństwa klas korzystając z funkcji softmax.\n",
    "\n",
    "W jednym kroku treningu sieci neuronowych wykonujemy:\n",
    "1. **Przejście w przód** - przetworzenie zestawu wejściowych danych treningowych przez sieć i wyznaczenie wartości wynikowych $y = f_{\\theta}(x)$. Następnie wyznaczenie wartości funkcji straty\n",
    "$\\mathcal{L}$\n",
    "w oparciu o wynikową wartość z sieci i prawdziwą (docelową) wartość.\n",
    "2. **Przejście w tył** (propagacja wsteczna) - wyznaczenie **gradientu funkcji  straty** $\\mathcal{L}$ **względem parametrów sieci** $\\theta$.\n",
    "3. Krok optymalizacji parametrów sieci - zmiana w kierunku przeciwnym do gradientu."
   ]
  },
  {
   "cell_type": "markdown",
   "metadata": {
    "id": "wQ6auP2WCnLW"
   },
   "source": [
    "##Przygotowanie środowiska\n",
    "Upewnij się, że notatnik jest uruchomiony na maszynie z GPU. Jeśli GPU nie jest dostępne zmień typ maszyny (Runtime | Change runtime type) i wybierz T4 GPU."
   ]
  },
  {
   "cell_type": "code",
   "metadata": {
    "id": "FfwBYOmmnw0b",
    "ExecuteTime": {
     "end_time": "2025-03-12T22:59:25.019857Z",
     "start_time": "2025-03-12T22:59:24.842427Z"
    }
   },
   "source": [
    "!nvidia-smi"
   ],
   "outputs": [
    {
     "name": "stdout",
     "output_type": "stream",
     "text": [
      "Wed Mar 12 23:59:24 2025       \n",
      "+-----------------------------------------------------------------------------------------+\n",
      "| NVIDIA-SMI 571.96                 Driver Version: 571.96         CUDA Version: 12.8     |\n",
      "|-----------------------------------------+------------------------+----------------------+\n",
      "| GPU  Name                  Driver-Model | Bus-Id          Disp.A | Volatile Uncorr. ECC |\n",
      "| Fan  Temp   Perf          Pwr:Usage/Cap |           Memory-Usage | GPU-Util  Compute M. |\n",
      "|                                         |                        |               MIG M. |\n",
      "|=========================================+========================+======================|\n",
      "|   0  NVIDIA GeForce RTX 4060 ...  WDDM  |   00000000:01:00.0 Off |                  N/A |\n",
      "| N/A   52C    P8              5W /   65W |       1MiB /   8188MiB |      0%      Default |\n",
      "|                                         |                        |                  N/A |\n",
      "+-----------------------------------------+------------------------+----------------------+\n",
      "                                                                                         \n",
      "+-----------------------------------------------------------------------------------------+\n",
      "| Processes:                                                                              |\n",
      "|  GPU   GI   CI              PID   Type   Process name                        GPU Memory |\n",
      "|        ID   ID                                                               Usage      |\n",
      "|=========================================================================================|\n",
      "|  No running processes found                                                             |\n",
      "+-----------------------------------------------------------------------------------------+\n"
     ]
    }
   ],
   "execution_count": 1
  },
  {
   "cell_type": "markdown",
   "metadata": {
    "id": "n1G8i4wTrfq6"
   },
   "source": [
    "Biblioteka PyTorch (`torch`) jest domyślnie zainstalowana w środowisku COLAB."
   ]
  },
  {
   "cell_type": "code",
   "metadata": {
    "id": "FDGaiuGLrapP",
    "ExecuteTime": {
     "end_time": "2025-03-12T22:59:34.153713Z",
     "start_time": "2025-03-12T22:59:30.975669Z"
    }
   },
   "source": [
    "import torch\n",
    "import numpy as np\n",
    "\n",
    "print(f\"Wersja biblioteki PyTorch: {torch.__version__}\")"
   ],
   "outputs": [
    {
     "name": "stdout",
     "output_type": "stream",
     "text": [
      "Wersja biblioteki PyTorch: 2.6.0+cu126\n"
     ]
    }
   ],
   "execution_count": 2
  },
  {
   "cell_type": "markdown",
   "metadata": {
    "id": "EJ6c3h4nryQJ"
   },
   "source": [
    "Sprawdzenie dostępnego urządzenia GPU."
   ]
  },
  {
   "cell_type": "code",
   "metadata": {
    "id": "VGyMG3_2rxIC",
    "ExecuteTime": {
     "end_time": "2025-03-12T22:59:39.954950Z",
     "start_time": "2025-03-12T22:59:39.894166Z"
    }
   },
   "source": [
    "print(f\"Dostępność GPU: {torch.cuda.is_available()}\")\n",
    "print(f\"Typ GPU: {torch.cuda.get_device_name(0)}\")"
   ],
   "outputs": [
    {
     "name": "stdout",
     "output_type": "stream",
     "text": [
      "Dostępność GPU: True\n",
      "Typ GPU: NVIDIA GeForce RTX 4060 Laptop GPU\n"
     ]
    }
   ],
   "execution_count": 3
  },
  {
   "cell_type": "markdown",
   "source": [
    "Instalacja pakietu torchviz do wizualizacji grafów obliczeń ([link](https://github.com/szagoruyko/pytorchviz))."
   ],
   "metadata": {
    "id": "JrekpMsKcafs"
   }
  },
  {
   "cell_type": "code",
   "source": [
    "!pip install -q torchviz"
   ],
   "metadata": {
    "id": "SzkIy9W8cZxX"
   },
   "execution_count": null,
   "outputs": []
  },
  {
   "cell_type": "markdown",
   "metadata": {
    "id": "cazrrG01sbUH"
   },
   "source": [
    "#Automatyczne różniczkowanie (`torch.autograd`)"
   ]
  },
  {
   "cell_type": "markdown",
   "source": [
    "**Gradient** (lub gradientowe pole wektorowe) funkcji skalarnej wielu zmiennych $\n",
    "f: \\mathbb{R}^D → \\mathbb{R}\n",
    "$ oznaczamyy\n",
    "$\\nabla f$ (czytaj: nabla).\n",
    "W układzie współrzędnych kartezjańskich gradient jest wektorem, którego składowe są pochodnymi cząstkowymi funkcji $f$:\n",
    "$$\\nabla f=\\left[{\\frac {\\partial f}{\\partial x_{1}}},\\dots ,{\\frac {\\partial f}{\\partial x_{n}}}\\right]$$\n",
    "\n",
    "Niech $\\mathcal{L}: \\mathbb{R}^D \\rightarrow \\mathbb{R}$ będzie pewną funkcją straty określoną dla sieci neuronowej o $D$ parametrach (wagach).\n",
    "Celem treningu sieci neuronowej jest znalezienie zestawu parametrów $\\mathbf{\\hat{}} \\in \\mathbb{R}^D$ minimalizującego wartośc funkcji straty:\n",
    "$$\\mathbf{\\hat{w}} = \\arg \\min_{\\textbf{w}} \\mathcal{L} \\left( \\textbf{w} \\right)$$\n",
    "W metodzie **spadku wzdłuż gradientu** zaczynamy od losowo zainicjalizowanych parametrów (wag) sieci $\\textbf{w}_0$ a następnie iteracyjnie aktualizujemy parametry sieci w kierunku przeciwnym do wartości gradientu:\n",
    "$$\n",
    "\\mathbf{w}_{t+1} = \\mathbf{w}_{t} - \\eta \\nabla \\mathcal{L} \\left( \\mathbf{w}_t \\right)\n",
    "$$.\n",
    "\n",
    "\n",
    "\n"
   ],
   "metadata": {
    "id": "G1OdCLSqaaj9"
   }
  },
  {
   "cell_type": "markdown",
   "source": [
    "Aby wyznaczyć **gradient funkcji straty względem parametrów sieci**, PyTorch posiada wbudowany mechanizm różniczkowania o nazwie `torch.autograd`. Umożliwia on automatyczne obliczanie gradientu dla dowolnego grafu obliczeniowego.\n",
    "\n",
    "Obiekty typu Tensor posiadają logiczną flagę `requires_grad`.\n",
    "Domyślnie flaga `requires_grad` jest ustawiana na `False`.\n",
    "Po jej włączeniu PyTorch będzie automatycznie budował grafy dla wszystkich obliczeń wykonanych z wykorzystaniem tego tensora aby umożliwić automatyczne wyznaczanie gradientu.\n",
    "Jeśli jeden z argumentów operacji na tensorach ma ustawioną flagę `requires_grad`, wynik również będzie miał ustawioną tę flagę."
   ],
   "metadata": {
    "id": "bWXwwnMI2Eqr"
   }
  },
  {
   "cell_type": "code",
   "source": [
    "import torch\n",
    "\n",
    "x = torch.tensor([ 1., 2. ])\n",
    "y = torch.tensor([ 4., 5. ])\n",
    "z = torch.tensor([ 7., 3. ])\n",
    "print(f\"{x.requires_grad=}\")\n",
    "print(f\"{y.requires_grad=}\")\n",
    "print(f\"{(x + y).requires_grad=}\\n\")\n",
    "\n",
    "x.requires_grad = True\n",
    "print(f\"{x.requires_grad=}\")\n",
    "print(f\"{y.requires_grad=}\")\n",
    "print(f\"{(x + z).requires_grad=}\")"
   ],
   "metadata": {
    "id": "Hn3ddlgJ2EyR",
    "ExecuteTime": {
     "end_time": "2025-03-12T23:00:12.808006Z",
     "start_time": "2025-03-12T23:00:12.802Z"
    }
   },
   "outputs": [
    {
     "name": "stdout",
     "output_type": "stream",
     "text": [
      "x.requires_grad=False\n",
      "y.requires_grad=False\n",
      "(x + y).requires_grad=False\n",
      "\n",
      "x.requires_grad=True\n",
      "y.requires_grad=False\n",
      "(x + z).requires_grad=True\n"
     ]
    }
   ],
   "execution_count": 5
  },
  {
   "cell_type": "markdown",
   "source": [
    "###Przykład 1\n",
    "Rozważmy funkcję:\n",
    "$$\n",
    "f(t, u) = \\sum_i t_i^2 + \\sum_j \\log u_j \\, ,\n",
    "$$\n",
    "gdzie $t \\in \\mathbb{R}^n, u \\in \\mathbb{R}^m$.\n",
    "\n",
    "Zaimplementujmy wyznaczenie wartości tej funkcji w PyTorch dla przykładowych parametrów $t=[1,2,4]$ i $u=[10,20]$. Aby było możliwe wyznaczenie wartości gradientu $f$ dla tych parametrów włączymy flagę `requires_grad`."
   ],
   "metadata": {
    "id": "IyTEmqsmeb-o"
   }
  },
  {
   "cell_type": "code",
   "source": [
    "t = torch.tensor([1., 2., 4.])\n",
    "t.requires_grad = True\n",
    "u = torch.tensor([10., 20.])\n",
    "u.requires_grad = True\n",
    "\n",
    "f = t.pow(2).sum() + u.log().sum()\n",
    "print(f\"{f=}\")\n",
    "print(f\"{f.requires_grad=}\")"
   ],
   "metadata": {
    "id": "FbwsJHuceF7V",
    "ExecuteTime": {
     "end_time": "2025-03-12T23:00:24.366243Z",
     "start_time": "2025-03-12T23:00:24.347431Z"
    }
   },
   "outputs": [
    {
     "name": "stdout",
     "output_type": "stream",
     "text": [
      "f=tensor(26.2983, grad_fn=<AddBackward0>)\n",
      "f.requires_grad=True\n"
     ]
    }
   ],
   "execution_count": 6
  },
  {
   "cell_type": "markdown",
   "source": [
    "Wizualizacja grafu obliczeń dla tensora `f`."
   ],
   "metadata": {
    "id": "_KR7CIZ_eKxv"
   }
  },
  {
   "cell_type": "code",
   "source": [
    "from torchviz import make_dot\n",
    "from IPython.display import Image, display\n",
    "\n",
    "dot = make_dot(f, params={\"t\": t, \"u\": u, \"f\": f})\n",
    "dot.render(\"computational_graph\", format=\"png\")\n",
    "display(Image(filename=\"computational_graph.png\"))"
   ],
   "metadata": {
    "id": "fJVtqJR0cDpP",
    "ExecuteTime": {
     "end_time": "2025-03-12T23:00:28.337698Z",
     "start_time": "2025-03-12T23:00:27.865681Z"
    }
   },
   "outputs": [
    {
     "data": {
      "image/png": "[encoded data removed]",
      "text/plain": [
       "<IPython.core.display.Image object>"
      ]
     },
     "metadata": {},
     "output_type": "display_data"
    }
   ],
   "execution_count": 7
  },
  {
   "cell_type": "markdown",
   "source": [
    "Metoda `f.backward()` wykonuje przejście w tył przez graf obliczeń w celu wyznaczenia gradientów względem parametrów (tensorów z włączoną flagą `requires_grad`) wykorzystanych do wyznaczenia wartości `f`. W naszym przypadku są to tensory `t` i `u`.\n",
    "\n",
    "Pochodne cząstkowe funkcji $f$ względem parametrów $t$ i $u$ możemy wyznaczyć analitycznie:\n",
    "$\n",
    "\\frac{\\partial f}{\\partial t_i} = 2 t_i\n",
    "$ i\n",
    "$\n",
    "\\frac{\\partial f}{\\partial u_i} = \\frac{1}{u_i}\n",
    "$.\n",
    "Jak widać wyznaczone analitycznie wartości gradientu są identyczne jak wartości wyznaczone automatyczniez wykorzystaniem grafu obliczeń.\n"
   ],
   "metadata": {
    "id": "KqiMRy1E5s8N"
   }
  },
  {
   "cell_type": "code",
   "source": [
    "print(f\"\\nPrzed wykonaniem f.backward()\")\n",
    "print(f\"{t.grad=}\")\n",
    "print(f\"{u.grad=}\")\n",
    "\n",
    "f.backward()\n",
    "print(f\"\\nPo wykonaniu f.backward()\")\n",
    "print(f\"{t.grad=}\")\n",
    "print(f\"{u.grad=}\")"
   ],
   "metadata": {
    "id": "STX6P4VF5tSQ"
   },
   "execution_count": null,
   "outputs": []
  },
  {
   "cell_type": "markdown",
   "source": [
    "##Przykład 2\n",
    "Rozważmy najprostszą sieć neuronową złożoną z jednej warstwy liniowej z wejściem `x` $\\in \\mathbb{R}^{5}$ oraz pewną funkcję straty `loss`.\n",
    "Warstwa liniowa jest zaimplementowana w PyTorch jako klasa `nn.Linear` ([link](https://pytorch.org/docs/stable/generated/torch.nn.Linear.html#linear)).\n",
    "\n",
    "Do celów poglądowych zasymulujemy działanie warstwy linowej korzystając z macierzy wag `w` $\\in \\mathbb{R}^{5 \\times 3}$ i wektora obciążenia (*bias*) `b` $\\in \\mathbb{R}^{3}$.\n",
    "`w` i `b` są **parametrami**, które chcemy optymalizować w procesie uczenia sieci. W tym celu musimy wyznaczyć gradient funkcji straty względem tych parametrów. Aby umożliwić automatyczne wyznaczanie gradientu dla tych parametrów, ustawiamy dla nich atrybut `requires_grad` na `true`.\n",
    "Zauważmy, że tensory utworzone w oparciu o choćby jeden tensor z atrybutem `requires_grad`, w tym przypadku `z` i `loss`, również będą miały aktywne wyznaczanie gradientu.\n",
    "\n",
    "**Uwaga**: Jesli wykorzystujemy moduły sieci dziedziczące z klasy `nn.Module` (np. `nn.Linear`, `nn.Conv2D`) tensory parametrów (wag) mają atrybut `requires_grad` domyślnie ustawiony na `true`."
   ],
   "metadata": {
    "id": "n1_mFIi8WfwO"
   }
  },
  {
   "cell_type": "code",
   "source": [
    "import torch.nn as nn\n",
    "\n",
    "x = torch.ones(5)           # Tensor wejściowy\n",
    "y = torch.zeros(3)          # Oczekiwane wyjście\n",
    "\n",
    "# Parametry warstwy liniowej: macierz wag i wektor obciążenia (bias)\n",
    "w = torch.randn((5, 3), requires_grad=True)\n",
    "b = torch.randn(3, requires_grad=True)\n",
    "\n",
    "z = x @ w + b\n",
    "\n",
    "# Wyznaczmy wartość funkcji straty jako funkcję entropii krzyżowej między\n",
    "# wyjściem z sieci a oczekiwanym wyjściem\n",
    "loss = nn.functional.binary_cross_entropy_with_logits(z, y)"
   ],
   "metadata": {
    "id": "B8iumeAUlGIH",
    "ExecuteTime": {
     "end_time": "2025-03-12T23:01:22.675103Z",
     "start_time": "2025-03-12T23:01:22.647787Z"
    }
   },
   "outputs": [],
   "execution_count": 8
  },
  {
   "cell_type": "code",
   "source": [
    "print(f\"{z=}\")\n",
    "print(f\"{z.requires_grad=}\")\n",
    "print(f\"{loss=}\")\n",
    "print(f\"{loss.requires_grad=}\")"
   ],
   "metadata": {
    "id": "UOqlSecfOIcV",
    "ExecuteTime": {
     "end_time": "2025-03-12T23:01:34.954609Z",
     "start_time": "2025-03-12T23:01:34.947453Z"
    }
   },
   "outputs": [
    {
     "name": "stdout",
     "output_type": "stream",
     "text": [
      "z=tensor([-3.1236,  2.1698,  1.9681], grad_fn=<AddBackward0>)\n",
      "z.requires_grad=True\n",
      "loss=tensor(1.4733, grad_fn=<BinaryCrossEntropyWithLogitsBackward0>)\n",
      "loss.requires_grad=True\n"
     ]
    }
   ],
   "execution_count": 9
  },
  {
   "cell_type": "markdown",
   "source": [
    "###Wizualizacja grafu obliczeń\n",
    "\n"
   ],
   "metadata": {
    "id": "DOfcSDtFlW0W"
   }
  },
  {
   "cell_type": "code",
   "source": [
    "from torchviz import make_dot\n",
    "from IPython.display import Image, display\n",
    "\n",
    "dot = make_dot(loss, params={\"w\": w, \"b\": b, \"loss\": loss})\n",
    "dot.render(\"computational_graph\", format=\"png\")\n",
    "display(Image(filename=\"computational_graph.png\"))"
   ],
   "metadata": {
    "id": "Ub1I9gpxJdVp",
    "ExecuteTime": {
     "end_time": "2025-03-12T23:01:44.279130Z",
     "start_time": "2025-03-12T23:01:43.610096Z"
    }
   },
   "outputs": [
    {
     "data": {
      "image/png": "[encoded data removed]",
      "text/plain": [
       "<IPython.core.display.Image object>"
      ]
     },
     "metadata": {},
     "output_type": "display_data"
    }
   ],
   "execution_count": 10
  },
  {
   "cell_type": "markdown",
   "source": [
    "Funkcje i operatory które stosujemy do tensorów w celu skonstruowania grafu obliczeń, takie jak operatory dodawania i mnożenia dwóch tensorów czy funkcja `binary_cross_entropy_with_logits`, są zaimplementowne jako klasy dziedziczące z klasy `Function`. Mają zdefiniowaną metodę `forward` wyznaczającą wartość operatora/funkcji oraz metodę `backward` wyznaczającą jej pochodną w kroku propagacji wstecznej.\n",
    "Odwołanie do funkcji propagacji wstecznej tensora jest przechowywane w atrybucie `grad_fn`.\n",
    "Więcej informacji na temat klasy Function można znaleźć tutaj: [link](https://www.google.com/url?q=https%3A%2F%2Fpytorch.org%2Fdocs%2Fstable%2Fautograd.html%23function)."
   ],
   "metadata": {
    "id": "IRX4TzmdY_eg"
   }
  },
  {
   "cell_type": "code",
   "source": [
    "print(f\"Gradient function for z = {z.grad_fn}\")\n",
    "print(f\"Gradient function for loss = {loss.grad_fn}\")"
   ],
   "metadata": {
    "id": "8ZwEJZN0OR_p",
    "ExecuteTime": {
     "end_time": "2025-03-12T23:02:00.977811Z",
     "start_time": "2025-03-12T23:02:00.973224Z"
    }
   },
   "outputs": [
    {
     "name": "stdout",
     "output_type": "stream",
     "text": [
      "Gradient function for z = <AddBackward0 object at 0x00000265F5A27040>\n",
      "Gradient function for loss = <BinaryCrossEntropyWithLogitsBackward0 object at 0x00000265F5A275B0>\n"
     ]
    }
   ],
   "execution_count": 11
  },
  {
   "cell_type": "markdown",
   "source": [
    "###Obliczanie gradientu\n",
    "\n",
    "Aby wykonać jeden krok optymalizacji wag sieci musimy wyznaczyć gradient funkcji straty względem parametrów sieci, czyli $\\frac{\\partial loss}{\\partial w}$ i\n",
    "$\\frac{\\partial loss}{\\partial b}$ dla ustalonych wartości `x` i\n",
    "`y`.\n",
    "Aby wyznaczyć te pochodne cząstkowe wywołujemy funkcję `loss.backward()`. Wyznaczone pochodne zostaną zapisane w atrybutach `w.grad` and `b.grad`."
   ],
   "metadata": {
    "id": "hCSFfyyActgz"
   }
  },
  {
   "cell_type": "code",
   "source": [
    "loss.backward()\n",
    "print(f\"{w.grad=}\")\n",
    "print(f\"{b.grad=}\")"
   ],
   "metadata": {
    "id": "xIjQdIBjOavt",
    "ExecuteTime": {
     "end_time": "2025-03-12T23:02:16.778067Z",
     "start_time": "2025-03-12T23:02:16.755999Z"
    }
   },
   "outputs": [
    {
     "name": "stdout",
     "output_type": "stream",
     "text": [
      "w.grad=tensor([[0.0140, 0.2992, 0.2925],\n",
      "        [0.0140, 0.2992, 0.2925],\n",
      "        [0.0140, 0.2992, 0.2925],\n",
      "        [0.0140, 0.2992, 0.2925],\n",
      "        [0.0140, 0.2992, 0.2925]])\n",
      "b.grad=tensor([0.0140, 0.2992, 0.2925])\n"
     ]
    }
   ],
   "execution_count": 12
  },
  {
   "cell_type": "markdown",
   "source": [
    "Zasymulujemy teraz jeden krok optymalizacji parametrów sieci metodą spadku wzdłuż gradientu.\n",
    "Gradient funkcji straty `loss` względem parametrów (macierz wag `w` i wektor obciążeń `b`) wyznaczony w poprzednim kroku określa kierunek maksymalnego wzrostu wartości funkcji straty.\n",
    "Ponieważ chcemy minimalizować wartość funkcji straty, musimy zmieniać parametry w kierunku przeciwnym do gradientu.\n",
    "\n",
    "Graf obliczeń powinien być budowany tylko dla obliczeń prowadzących do wyznaczenia wartości funkcji straty.\n",
    "Przy samej aktualizacji parametrów sieci z wykorzystaniem wyznaczonych gradientów powinniśmy wyłączyć budowanie grafu obliczeń korzystając z menadżera kontekstu `torch.no_grad():`.\n"
   ],
   "metadata": {
    "id": "9lNba56oOHBI"
   }
  },
  {
   "cell_type": "code",
   "source": [
    "print(f\"Początkowa wartość funkcji straty: {loss:.5f}\")\n",
    "\n",
    "learning_rate = .5\n",
    "with torch.no_grad():\n",
    "    w -= learning_rate * w.grad\n",
    "    b -= learning_rate * b.grad\n",
    "\n",
    "z = x @ w + b\n",
    "loss2 = nn.functional.cross_entropy(z, y)\n",
    "\n",
    "print(f\"Wartość funkcji straty po jednym kroku optymalizacji parametrów: {loss2:.5f}\")"
   ],
   "metadata": {
    "id": "oXJ3jjCBLy0p",
    "ExecuteTime": {
     "end_time": "2025-03-12T23:02:41.325234Z",
     "start_time": "2025-03-12T23:02:41.312274Z"
    }
   },
   "outputs": [
    {
     "name": "stdout",
     "output_type": "stream",
     "text": [
      "Początkowa wartość funkcji straty: 1.47330\n",
      "Wartość funkcji straty po jednym kroku optymalizacji parametrów: -0.00000\n"
     ]
    }
   ],
   "execution_count": 13
  },
  {
   "cell_type": "markdown",
   "source": [
    "**Uwaga:** Ze względów wydajnościowych wyznaczone pochodne są zapisywane tylko dla liści grafu obliczeń z ustawionym atrybutem `requires_grad`. Dla wewnętrznych węzłów w grafie obliczeń (w naszym przypadku `z` i `loss`) atrybut `grad` nie jest zapisywany."
   ],
   "metadata": {
    "id": "54o-6J8CeX_h"
   }
  },
  {
   "cell_type": "code",
   "source": [
    "print(f\"{z.grad=}\")\n",
    "print(f\"{loss.grad=}\")"
   ],
   "metadata": {
    "id": "lkHR2JJnffNK",
    "ExecuteTime": {
     "end_time": "2025-03-12T23:02:50.160700Z",
     "start_time": "2025-03-12T23:02:50.154670Z"
    }
   },
   "outputs": [
    {
     "name": "stdout",
     "output_type": "stream",
     "text": [
      "z.grad=None\n",
      "loss.grad=None\n"
     ]
    },
    {
     "name": "stderr",
     "output_type": "stream",
     "text": [
      "C:\\Users\\mateu\\AppData\\Local\\Temp\\ipykernel_25136\\1939993265.py:1: UserWarning: The .grad attribute of a Tensor that is not a leaf Tensor is being accessed. Its .grad attribute won't be populated during autograd.backward(). If you indeed want the .grad field to be populated for a non-leaf Tensor, use .retain_grad() on the non-leaf Tensor. If you access the non-leaf Tensor by mistake, make sure you access the leaf Tensor instead. See github.com/pytorch/pytorch/pull/30531 for more informations. (Triggered internally at C:\\actions-runner\\_work\\pytorch\\pytorch\\pytorch\\build\\aten\\src\\ATen/core/TensorBody.h:494.)\n",
      "  print(f\"{z.grad=}\")\n",
      "C:\\Users\\mateu\\AppData\\Local\\Temp\\ipykernel_25136\\1939993265.py:2: UserWarning: The .grad attribute of a Tensor that is not a leaf Tensor is being accessed. Its .grad attribute won't be populated during autograd.backward(). If you indeed want the .grad field to be populated for a non-leaf Tensor, use .retain_grad() on the non-leaf Tensor. If you access the non-leaf Tensor by mistake, make sure you access the leaf Tensor instead. See github.com/pytorch/pytorch/pull/30531 for more informations. (Triggered internally at C:\\actions-runner\\_work\\pytorch\\pytorch\\pytorch\\build\\aten\\src\\ATen/core/TensorBody.h:494.)\n",
      "  print(f\"{loss.grad=}\")\n"
     ]
    }
   ],
   "execution_count": 14
  },
  {
   "cell_type": "markdown",
   "source": [
    "Zapisywanie wartości wyznaczonego gradientu dla wewnętrznych węzłów w grafie obliczeń można włączyć wywołując dla nich metodę `retain_grad()`."
   ],
   "metadata": {
    "id": "1LgMfut1EIIk"
   }
  },
  {
   "cell_type": "code",
   "source": [
    "# Parametry warstwy liniowej: macierz wag i wektor obciążenia (bias)\n",
    "w = torch.randn((5, 3), requires_grad=True)\n",
    "b = torch.randn(3, requires_grad=True)\n",
    "\n",
    "z = x @ w + b\n",
    "z.retain_grad()\n",
    "\n",
    "# Wyznaczmy wartość funkcji straty jako funkcję entropii krzyżowej między\n",
    "# wyjściem z sieci a oczekiwanym wyjście\n",
    "loss = nn.functional.binary_cross_entropy_with_logits(z, y)\n",
    "loss.retain_grad()\n",
    "\n",
    "loss.backward()\n",
    "print(f\"{z.grad=}\")\n",
    "print(f\"{loss.grad=}\")\n",
    "print(f\"{w.grad=}\")\n",
    "print(f\"{b.grad=}\")"
   ],
   "metadata": {
    "id": "vTn8jbpvEHXd",
    "ExecuteTime": {
     "end_time": "2025-03-12T23:03:03.637932Z",
     "start_time": "2025-03-12T23:03:03.627567Z"
    }
   },
   "outputs": [
    {
     "name": "stdout",
     "output_type": "stream",
     "text": [
      "z.grad=tensor([0.0037, 0.0863, 0.3030])\n",
      "loss.grad=tensor(1.)\n",
      "w.grad=tensor([[0.0037, 0.0863, 0.3030],\n",
      "        [0.0037, 0.0863, 0.3030],\n",
      "        [0.0037, 0.0863, 0.3030],\n",
      "        [0.0037, 0.0863, 0.3030],\n",
      "        [0.0037, 0.0863, 0.3030]])\n",
      "b.grad=tensor([0.0037, 0.0863, 0.3030])\n"
     ]
    }
   ],
   "execution_count": 15
  },
  {
   "cell_type": "markdown",
   "source": [
    "##Przykład 3\n",
    "Funkcja\n",
    "$$\\mathcal{L}=\\sqrt{sin \\left( x \\cdot y + z \\right) + 4}$$\n",
    "\n"
   ],
   "metadata": {
    "id": "oyxNz42ZoIeO"
   }
  },
  {
   "cell_type": "code",
   "source": [
    "x = torch.tensor(2.)\n",
    "x.requires_grad = True\n",
    "y = torch.tensor(-1.)\n",
    "y.requires_grad = True\n",
    "z = torch.tensor(2.)\n",
    "z.requires_grad = True\n",
    "\n",
    "L = torch.sqrt(torch.sin(x * y + z) + 4)\n",
    "\n",
    "print(f\"{L=}\")\n",
    "print(f\"{L.requires_grad=}\")"
   ],
   "metadata": {
    "id": "ScLX5tUXoTz3",
    "ExecuteTime": {
     "end_time": "2025-03-12T23:03:32.702900Z",
     "start_time": "2025-03-12T23:03:32.687876Z"
    }
   },
   "outputs": [
    {
     "name": "stdout",
     "output_type": "stream",
     "text": [
      "L=tensor(2., grad_fn=<SqrtBackward0>)\n",
      "L.requires_grad=True\n"
     ]
    }
   ],
   "execution_count": 16
  },
  {
   "cell_type": "code",
   "source": [
    "L.backward()\n",
    "print(f\"{x.grad=}\")\n",
    "print(f\"{y.grad=}\")\n",
    "print(f\"{z.grad=}\")"
   ],
   "metadata": {
    "id": "MnUx4Qpzo7Zr",
    "ExecuteTime": {
     "end_time": "2025-03-12T23:03:38.105275Z",
     "start_time": "2025-03-12T23:03:38.093475Z"
    }
   },
   "outputs": [
    {
     "name": "stdout",
     "output_type": "stream",
     "text": [
      "x.grad=tensor(-0.2500)\n",
      "y.grad=tensor(0.5000)\n",
      "z.grad=tensor(0.2500)\n"
     ]
    }
   ],
   "execution_count": 17
  },
  {
   "cell_type": "code",
   "source": [
    "dot = make_dot(L, params={\"x\": x, \"y\": y, \"z\": z, \"L\": L})\n",
    "dot.render(\"computational_graph\", format=\"png\")\n",
    "display(Image(filename=\"computational_graph.png\"))"
   ],
   "metadata": {
    "id": "HxOtyVeYtSB-",
    "ExecuteTime": {
     "end_time": "2025-03-12T23:03:46.342261Z",
     "start_time": "2025-03-12T23:03:45.657048Z"
    }
   },
   "outputs": [
    {
     "data": {
      "image/png": "[encoded data removed]",
      "text/plain": [
       "<IPython.core.display.Image object>"
      ]
     },
     "metadata": {},
     "output_type": "display_data"
    }
   ],
   "execution_count": 18
  },
  {
   "cell_type": "markdown",
   "source": [
    "##Wyłączenie śledzenia historii obliczeń"
   ],
   "metadata": {
    "id": "VMW1CEZGeYwi"
   }
  },
  {
   "cell_type": "markdown",
   "source": [
    "Historia obliczeń wykonywanych z wykorzystaniem tensorów z atrybutem `requires_grad=True` jest śledzona i automatycznie budowany jest graf obliczeń.  Tensory będące wynkiem takich obliczeń również mają ustawiony atrybut `requires_grad` i historia obliczeń z ich wykonaniem jest dalej śledzona.\n",
    "\n",
    "W niektórych przypadkach nie jest to konieczne. Jeśli chcemy wykorzystać wcześniej wytrenowany model, i nie zamierzamy optymalizować jego parametrów, możemy wyłączyć śledzenie obliczeń korzystając z menadżera kontekstu `torch.no_grad()`.\n",
    "\n",
    "Alternatywnie możemy ustawić atrybut `requires_grad` wszystkich lub wybranych parametrów modelu na `False`. W ten sposób można zamrozić część parametrów modelu i optymalizować tylko pozostałe parametry."
   ],
   "metadata": {
    "id": "qTD5ZYyCf6Hh"
   }
  },
  {
   "cell_type": "code",
   "source": [
    "x = torch.ones(5)\n",
    "\n",
    "z = x @ w + b\n",
    "print(f\"{z.requires_grad=}\")\n",
    "\n",
    "with torch.no_grad():\n",
    "    z = x @ w + b\n",
    "\n",
    "print(f\"{z.requires_grad=}\")"
   ],
   "metadata": {
    "id": "HBnJjUFyPyEV",
    "ExecuteTime": {
     "end_time": "2025-03-12T23:04:11.159528Z",
     "start_time": "2025-03-12T23:04:11.151879Z"
    }
   },
   "outputs": [
    {
     "name": "stdout",
     "output_type": "stream",
     "text": [
      "z.requires_grad=True\n",
      "z.requires_grad=False\n"
     ]
    }
   ],
   "execution_count": 19
  },
  {
   "cell_type": "markdown",
   "source": [
    "Alternatywnie możemy użyć metodę `detach()` aby odłączyć graf obliczeń od istniejącego tensora. Tak uzyskany tensor będzie miał wyłączony atrybut `requires_grad`. Historia obliczeń z jego udziałem nie będzie śledzona i nie będzie możliwe wyznaczenie dla niego gradientu."
   ],
   "metadata": {
    "id": "2xEhlRyYJYrH"
   }
  },
  {
   "cell_type": "code",
   "source": [
    "z = x @ w + b\n",
    "print(f\"{z.requires_grad=}\")\n",
    "y = z * 3 + 2\n",
    "print(f\"{y.requires_grad=}\")\n",
    "print()\n",
    "\n",
    "z_det = z.detach()\n",
    "print(f\"{z_det.requires_grad=}\")\n",
    "y_det = z_det * 3 + 2\n",
    "print(f\"{y_det.requires_grad=}\")"
   ],
   "metadata": {
    "id": "amfVtuKyf-3d",
    "ExecuteTime": {
     "end_time": "2025-03-12T23:04:25.546083Z",
     "start_time": "2025-03-12T23:04:25.539873Z"
    }
   },
   "outputs": [
    {
     "name": "stdout",
     "output_type": "stream",
     "text": [
      "z.requires_grad=True\n",
      "y.requires_grad=True\n",
      "\n",
      "z_det.requires_grad=False\n",
      "y_det.requires_grad=False\n"
     ]
    }
   ],
   "execution_count": 20
  },
  {
   "cell_type": "code",
   "source": [],
   "metadata": {
    "id": "8xwUHzfAXf9g"
   },
   "execution_count": null,
   "outputs": []
  },
  {
   "cell_type": "markdown",
   "source": [
    "#Przykład: Regresja logistyczna\n",
    "Rozważny problem dwuklasowej regresji logistycznej:\n",
    "$$P(Y=1|X=x) = \\sigma(W \\cdot x + b) \\, ,$$\n",
    "gdzie $\\sigma(x)$ jest **funkcją sigmoidalną** daną wzorem: $$\\sigma(x) = \\frac{1}{1+\\exp(-x)} \\, ,$$\n",
    "a zmienna zależna $Y$ przyjmuje wartości ze zbioru $\\left\\{ 0, 1 \\right\\}$.\n",
    "\n",
    "Funkcja straty binarnej entropii krzyżowej między prawdziwym a estymowanym prawdopodobieństwem dana jest wzorem:\n",
    "$$\n",
    "\\mathcal{L} = y_i \\log \\sigma \\left(z_i\\right) + (1 - y_i) \\log\n",
    "\\left( 1 - \\sigma \\left(z_i\\right)  \\right) \\, ,\n",
    "$$\n",
    "gdzie\n",
    "$$\n",
    "z_i = W \\cdot x_i + b\n",
    "$$\n",
    "\n",
    "Problem ten nie ma rozwiązania analitycznego. Wartość parametrów (macierz wag $W$ i wektor obciążenia $b$) możemy znaleźć metodą spadku wzdłuż gradientu."
   ],
   "metadata": {
    "id": "Kzr0qb_Yi8uG"
   }
  },
  {
   "cell_type": "markdown",
   "source": [
    "Wygenerujmy syntetyczny zbiór danych korzystając z funkcji `make_classification` z biblkioteki scikit-learn ([link](https://scikit-learn.org/stable/modules/generated/sklearn.datasets.make_classification.html))."
   ],
   "metadata": {
    "id": "hdhZTTm_o1z0"
   }
  },
  {
   "cell_type": "code",
   "source": [
    "from sklearn.datasets import make_classification\n",
    "from sklearn.model_selection import train_test_split\n",
    "\n",
    "# Wygeneruj syntetyczny zbiór danych\n",
    "X, y = make_classification(n_samples=1000, n_features=10, n_classes=2, n_informative=5, random_state=39)\n",
    "\n",
    "# Podziel na dane treningowe i testowe\n",
    "X_train, X_test, y_train, y_test = train_test_split(X, y, test_size=0.2)\n",
    "\n",
    "print(f\"Liczba elementów w zbiorze danych: {X.shape[0]}\")\n",
    "print(f\"Liczba cech: {X.shape[1]}\")\n",
    "print(f\"Liczba klas: {len(np.unique(y))}\")\n",
    "\n",
    "# Podziel na częśc treningową (80%) i testową (20%)\n",
    "X_train, X_test, y_train, y_test = train_test_split(X, y, test_size=0.2)"
   ],
   "metadata": {
    "id": "io8tSKtoyzAJ",
    "ExecuteTime": {
     "end_time": "2025-03-12T23:04:48.959482Z",
     "start_time": "2025-03-12T23:04:46.382482Z"
    }
   },
   "outputs": [
    {
     "name": "stdout",
     "output_type": "stream",
     "text": [
      "Liczba elementów w zbiorze danych: 1000\n",
      "Liczba cech: 10\n",
      "Liczba klas: 2\n"
     ]
    }
   ],
   "execution_count": 21
  },
  {
   "cell_type": "code",
   "source": [
    "print(X_train[:6])\n",
    "print(y_train[:6])"
   ],
   "metadata": {
    "id": "Wes9uC1DzIEv",
    "ExecuteTime": {
     "end_time": "2025-03-12T23:04:53.539633Z",
     "start_time": "2025-03-12T23:04:53.533883Z"
    }
   },
   "outputs": [
    {
     "name": "stdout",
     "output_type": "stream",
     "text": [
      "[[-1.67511024 -3.42211113 -0.24961121 -0.13165974 -0.72410712  1.17608485\n",
      "   3.00880289 -0.91921998 -1.85391916  2.99472527]\n",
      " [-0.63905088 -0.30654557  0.63294438 -1.24795298 -1.3940737  -1.23258075\n",
      "   1.61748011 -2.44444269  1.12445456  2.13548509]\n",
      " [ 0.97213542 -0.77863004 -0.1816305   1.19480244  0.90990181  1.49212961\n",
      "  -0.11220707  0.54909854 -1.59283059  0.53742797]\n",
      " [-0.32093512  0.47734528  2.01775654  2.01480692 -1.90430796 -4.49048761\n",
      "   0.80642078 -3.16270074  4.63131263  3.41524305]\n",
      " [-1.29088359 -1.23768416  2.34084663  0.64570674  1.15184536 -1.67986012\n",
      "  -1.36542056  0.25332574  1.28459815  4.03038848]\n",
      " [ 1.18240937 -2.41161111  1.06594725 -0.11972691  3.14077204 -0.28819747\n",
      "   0.96253998  0.65311194  1.21904065  5.40957579]]\n",
      "[1 0 0 0 1 1]\n"
     ]
    }
   ],
   "execution_count": 22
  },
  {
   "cell_type": "markdown",
   "source": [
    "Wizualizacja dwóch wybranych cech. Możemy zauważyć, że dla dwóch losowo wybranych cech elementy z różnych klas nie są liniowo separowalne."
   ],
   "metadata": {
    "id": "dYZ7hyTo-nD4"
   }
  },
  {
   "cell_type": "code",
   "source": [
    "import random\n",
    "from matplotlib import pyplot as plt\n",
    "\n",
    "# Wybierz dwie losowe cechy\n",
    "f1 = random.randint(0, X_train.shape[1]-1)\n",
    "f2 = random.randint(0, X_train.shape[1]-1)\n",
    "\n",
    "plt.scatter(X_train[y_train==0, f1], X_train[y_train==0, f2], color='blue', label='Klasa 0', alpha=0.7)\n",
    "plt.scatter(X_train[y_train==1, f1], X_train[y_train==1, f2], color='red', label='Klasa 1', alpha=0.7)\n",
    "plt.grid(True, linestyle='--', alpha=0.6)\n",
    "plt.xlabel(f\"Wartość cechy {f1}\")\n",
    "plt.ylabel(f\"Wartość cechy {f2}\")\n",
    "plt.legend()\n",
    "plt.show()\n"
   ],
   "metadata": {
    "id": "i0eL9Jz7AEDR",
    "ExecuteTime": {
     "end_time": "2025-03-12T23:05:03.738354Z",
     "start_time": "2025-03-12T23:05:02.975729Z"
    }
   },
   "outputs": [
    {
     "data": {
      "text/plain": [
       "<Figure size 640x480 with 1 Axes>"
      ],
      "image/png": "[encoded data removed]"
     },
     "metadata": {},
     "output_type": "display_data"
    }
   ],
   "execution_count": 23
  },
  {
   "cell_type": "markdown",
   "source": [
    "Do wyznaczenia wartości wyrażenia $z_i = W  x_i + b$ wykorzystamy **warstwę liniową** zaimplementowaną w bibliotece PyTorch jako moduł sieci `nn.Linear` ([link](https://pytorch.org/docs/stable/generated/torch.nn.Linear.html)).\n",
    "Utworzymy warstwę liniową o wymiarze wejścia $=10$ i wymiarze wyjścia $=1$ (czyli na wejściu będzie wektor $x_i \\in \\mathbb{R}^{10}$ a na wyjściu skalar $z_i \\in \\mathbb{R}$).\n",
    "\n",
    "Zauważmy, że utworzona warstwa liniowa (obiekt `linear`) ma dwa parametry: macierz wag `linear.weight` i wektor obciążenia `linear.bias`. Każdy z nich jest tensorem o losowo zainicjalizowanych wartościach z włączonym śledzeniem historii obliczeń (`requires_grad=True`)."
   ],
   "metadata": {
    "id": "huWMpDjGDmjU"
   }
  },
  {
   "cell_type": "code",
   "source": [
    "import torch.nn as nn\n",
    "\n",
    "n_features = X_train.shape[1]\n",
    "linear = nn.Linear(n_features, 1)\n",
    "\n",
    "print(f\"{linear=}\\n\")\n",
    "print(f\"{linear.weight=}\\n\")\n",
    "print(f\"{linear.bias=}\")"
   ],
   "metadata": {
    "id": "JdWkxGLoy3Bx",
    "ExecuteTime": {
     "end_time": "2025-03-12T23:05:10.518603Z",
     "start_time": "2025-03-12T23:05:10.503528Z"
    }
   },
   "outputs": [
    {
     "name": "stdout",
     "output_type": "stream",
     "text": [
      "linear=Linear(in_features=10, out_features=1, bias=True)\n",
      "\n",
      "linear.weight=Parameter containing:\n",
      "tensor([[ 0.0281, -0.1184, -0.2680,  0.2429, -0.0863, -0.2634, -0.0276, -0.3013,\n",
      "          0.2000, -0.1119]], requires_grad=True)\n",
      "\n",
      "linear.bias=Parameter containing:\n",
      "tensor([-0.0639], requires_grad=True)\n"
     ]
    }
   ],
   "execution_count": 24
  },
  {
   "cell_type": "markdown",
   "source": [
    "Sprawdźmy działanie warstwy liniowej.\n",
    "Po przetworzeniu wektora cech $x \\in \\mathbb{R}^{10}$ w rezultacie otrzymamy pojedyczną wartość rzeczywistą (logit).\n",
    "Warstwa liniowa pozwoli również przetworzyć cały wsad wektorów cech $X \\in \\mathbb{R}^{N \\times 10}$ i w rezultacie otrzymamy wektor $N$ logitów.\n",
    "Zauważmy, że tensor `z` zawierający wynikowe wartości ma również włączone śledzenie obliczeń (`requires_grad=True`).\n"
   ],
   "metadata": {
    "id": "jpfz6yBUFFcO"
   }
  },
  {
   "cell_type": "code",
   "source": [
    "# Zamień dane (jako tablice ndarray) na tensory\n",
    "X_train_tensor = torch.tensor(X_train, dtype=torch.float32)\n",
    "y_train_tensor = torch.tensor(y_train, dtype=torch.float32)\n",
    "X_test_tensor = torch.tensor(X_test, dtype=torch.float32)\n",
    "y_test_tensor = torch.tensor(y_test, dtype=torch.float32)\n",
    "\n",
    "elem_ndx = 10\n",
    "z = linear(X_train_tensor[elem_ndx])\n",
    "print(f\"Rozmiar wejścia: {X_train_tensor[elem_ndx].shape}\")\n",
    "print(f\"Rozmiar wyjścia: {z.shape}\")\n",
    "print(f\"Wyjście: {z}\")\n",
    "print(f\"{z.requires_grad=}\")\n",
    "print()\n",
    "\n",
    "z = linear(X_train_tensor)\n",
    "print(f\"Rozmiar wejścia: {X_train_tensor.shape}\")\n",
    "print(f\"Rozmiar wyjścia: {z.shape}\")\n",
    "print(f\"Wyjście (pierwsze 5 elementów): {z[:5]}\")\n",
    "print(f\"{z.requires_grad=}\")"
   ],
   "metadata": {
    "id": "vVwTzgt2Joqi",
    "ExecuteTime": {
     "end_time": "2025-03-12T23:05:42.142491Z",
     "start_time": "2025-03-12T23:05:42.122710Z"
    }
   },
   "outputs": [
    {
     "name": "stdout",
     "output_type": "stream",
     "text": [
      "Rozmiar wejścia: torch.Size([10])\n",
      "Rozmiar wyjścia: torch.Size([1])\n",
      "Wyjście: tensor([-0.4733], grad_fn=<ViewBackward0>)\n",
      "z.requires_grad=True\n",
      "\n",
      "Rozmiar wejścia: torch.Size([800, 10])\n",
      "Rozmiar wyjścia: torch.Size([800, 1])\n",
      "Wyjście (pierwsze 5 elementów): tensor([[-0.4302],\n",
      "        [ 0.6045],\n",
      "        [-0.6182],\n",
      "        [ 2.6411],\n",
      "        [-0.3138]], grad_fn=<SliceBackward0>)\n",
      "z.requires_grad=True\n"
     ]
    }
   ],
   "execution_count": 25
  },
  {
   "cell_type": "markdown",
   "source": [
    "Optymalizacja parametrów (wag) warstwy liniowej metodą spadku wzdłuż gradientu.\n",
    "Do obliczania wartości straty wykorzystamy funkcję `BCEWithLogitsLoss`, łączącą w jednej klasie funkcję Sigmoid i funkcję straty binarnej entropii krzyżowej (patrz: [link](https://pytorch.org/docs/stable/generated/torch.nn.BCEWithLogitsLoss.html#torch.nn.BCEWithLogitsLoss)).\n",
    "Pozwala to na bardziej stabilne numerycznie obliczenie niż zastosowanie najpierw funkcji Sigmoid a następnie wyznaczenie straty binarnej entropii krzyżowej.\n",
    "\n",
    "W literaturze poświęconej głębokiemu uczeniu nieznormalizowane wyjścia z modułu sieci, w naszym przypadku z warstwy liniowej, mogące przyjmować wartości rzeczywiste z zakresu $\\left( -\\infty, \\infty \\right)$ zwane są **logitami**.\n",
    "\n",
    "**Uwaga:** Poniższy kod ma charakter poglądowy. W praktyce optymalizację parametrów (wag) sieci neuronowej wykonujemy korzystając z zaimplementowanego w PyTorch optymalizatora (np. SGD lub Adam)."
   ],
   "metadata": {
    "id": "HBMUSHaR5HAg"
   }
  },
  {
   "cell_type": "code",
   "source": [
    "criterion = nn.BCEWithLogitsLoss()\n",
    "\n",
    "eta= 0.1\n",
    "n_epochs = 200\n",
    "for k in range(n_epochs):\n",
    "    # Wyzeruj wartości gradientu przed kolejnym przejściem w tył\n",
    "    # Patrz: https://stackoverflow.com/questions/48001598/why-do-we-need-to-call-zero-grad-in-pytorch\n",
    "    linear.zero_grad()\n",
    "\n",
    "    logits = linear(X_train_tensor)\n",
    "    # logits ma rozmiar (N, 1)\n",
    "    logits = logits.squeeze(1)\n",
    "    # logits ma rozmiar (N,)\n",
    "\n",
    "    # Wyznacz wartość funkcji straty\n",
    "    loss = criterion(logits, y_train_tensor)\n",
    "\n",
    "    # Przejście w tył- wyznaczenie gradientu funkcji straty względem parametrów (wag) modelu\n",
    "    loss.backward()\n",
    "\n",
    "    # Krok optymalizacji parametrów sieci - zmiana w kierunku przeciwnym do wartości gradientu\n",
    "    with torch.no_grad():\n",
    "        linear.weight -= eta * linear.weight.grad\n",
    "        linear.bias -= eta * linear.bias.grad\n",
    "\n",
    "    # Dokładność klasyfikacji na zbiorze treningowym\n",
    "    y_pred_labels = (logits.detach() >= 0.5).float()\n",
    "    train_accuracy = (y_pred_labels == y_train_tensor).sum().item() / y_train_tensor.size(0)\n",
    "\n",
    "    # Dokładność klasyfikacji na zbiorze testowym\n",
    "    with torch.no_grad():\n",
    "        logits = linear(X_test_tensor)\n",
    "        logits = logits.squeeze(1)\n",
    "        y_pred_labels = (logits >= 0.5).float()\n",
    "        test_accuracy = (y_pred_labels == y_test_tensor).sum().item() / y_test_tensor.size(0)\n",
    "\n",
    "    if k % 20 == 0:\n",
    "        print(f\"Epoch: {k}   Wartość funkcji straty: {loss.item():.5f}   Dokładność (train): {train_accuracy:.4f}   Dokładność (test): {test_accuracy:.4f}\")"
   ],
   "metadata": {
    "id": "6WDIz_TPAREJ",
    "ExecuteTime": {
     "end_time": "2025-03-12T23:06:18.779885Z",
     "start_time": "2025-03-12T23:06:18.698898Z"
    }
   },
   "outputs": [
    {
     "name": "stdout",
     "output_type": "stream",
     "text": [
      "Epoch: 0   Wartość funkcji straty: 1.03152   Dokładność (train): 0.3463   Dokładność (test): 0.4300\n",
      "Epoch: 20   Wartość funkcji straty: 0.46473   Dokładność (train): 0.7913   Dokładność (test): 0.8100\n",
      "Epoch: 40   Wartość funkcji straty: 0.43234   Dokładność (train): 0.8200   Dokładność (test): 0.8300\n",
      "Epoch: 60   Wartość funkcji straty: 0.42116   Dokładność (train): 0.8263   Dokładność (test): 0.8300\n",
      "Epoch: 80   Wartość funkcji straty: 0.41515   Dokładność (train): 0.8250   Dokładność (test): 0.8350\n",
      "Epoch: 100   Wartość funkcji straty: 0.41133   Dokładność (train): 0.8250   Dokładność (test): 0.8350\n",
      "Epoch: 120   Wartość funkcji straty: 0.40874   Dokładność (train): 0.8250   Dokładność (test): 0.8300\n",
      "Epoch: 140   Wartość funkcji straty: 0.40691   Dokładność (train): 0.8225   Dokładność (test): 0.8400\n",
      "Epoch: 160   Wartość funkcji straty: 0.40559   Dokładność (train): 0.8187   Dokładność (test): 0.8450\n",
      "Epoch: 180   Wartość funkcji straty: 0.40463   Dokładność (train): 0.8150   Dokładność (test): 0.8450\n"
     ]
    }
   ],
   "execution_count": 26
  },
  {
   "cell_type": "markdown",
   "source": [
    "Dla porównania sprawdzimy jaką skuteczność osiąga klasyfikator regresji logistycznej z biblioteki scikit-learn."
   ],
   "metadata": {
    "id": "w7KJ_ZKv4O97"
   }
  },
  {
   "cell_type": "code",
   "source": [
    "from sklearn.metrics import accuracy_score\n",
    "from sklearn.linear_model import LogisticRegression\n",
    "\n",
    "model = LogisticRegression()\n",
    "model.fit(X_train, y_train)\n",
    "\n",
    "# Step 5: Evaluate the model\n",
    "y_train_pred = model.predict(X_train)\n",
    "train_accuracy = accuracy_score(y_train, y_train_pred)\n",
    "y_test_pred = model.predict(X_test)\n",
    "test_accuracy = accuracy_score(y_test, y_test_pred)\n",
    "\n",
    "print(f\"Dokładność (train): {train_accuracy:.4f}   Dokładność (test): {test_accuracy:.4f}\")"
   ],
   "metadata": {
    "id": "9k3sCEZjNOjj",
    "ExecuteTime": {
     "end_time": "2025-03-12T23:06:33.118370Z",
     "start_time": "2025-03-12T23:06:32.787308Z"
    }
   },
   "outputs": [
    {
     "name": "stdout",
     "output_type": "stream",
     "text": [
      "Dokładność (train): 0.8363   Dokładność (test): 0.8350\n"
     ]
    }
   ],
   "execution_count": 27
  }
 ],
 "metadata": {
  "colab": {
   "toc_visible": true,
   "provenance": [],
   "gpuType": "T4"
  },
  "kernelspec": {
   "display_name": "Python 3 (ipykernel)",
   "name": "python3",
   "language": "python"
  },
  "language_info": {
   "name": "python"
  },
  "accelerator": "GPU"
 },
 "nbformat": 4,
 "nbformat_minor": 0
}
