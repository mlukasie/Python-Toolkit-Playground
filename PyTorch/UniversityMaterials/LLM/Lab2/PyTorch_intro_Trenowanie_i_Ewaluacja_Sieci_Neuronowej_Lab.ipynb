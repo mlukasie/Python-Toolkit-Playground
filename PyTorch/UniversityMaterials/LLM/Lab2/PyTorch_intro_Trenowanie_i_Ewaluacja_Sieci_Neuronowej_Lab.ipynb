{
  "cells": [
    {
      "cell_type": "markdown",
      "source": [
        "#PyTorch Intro - Trenowanie i Ewaluacja Sieci Neuronowej - Lab\n"
      ],
      "metadata": {
        "id": "KD8xISdCAOKI"
      }
    },
    {
      "cell_type": "markdown",
      "source": [
        "#Zadanie\n",
        "\n",
        "Zaadaptuj kod z notatnika *PyTorch Intro - Trenowanie i Ewaluacja Sieci Neuronowej - Wykład* do problemu klasyfikacji liczby gwiazdek dla opinii z serwisu Yelp.\n",
        "Możesz przygotować pętlę treningową albo w czystym PyTorchu, albo z wykorzystaniem biblioteki PyTorch Lightning."
      ],
      "metadata": {
        "id": "jWXHh8FRVHFQ"
      }
    },
    {
      "cell_type": "markdown",
      "source": [
        "* Wykorzystaj zbiór `Yelp/yelp_review_full` ([link](https://huggingface.co/datasets/Yelp/yelp_review_full)) zawierający opinie z serwisu Yelp (kolumna: `text`) i etykietę (kolumna: `label`) o wartościach $0,1,2,3,4$ określającą liczbę gwiazdek przyznaną przez użytkownika (a ściślej, liczbę gwiazdek minus jeden). Ponieważ mamy pięć klas, ostatnia warstwa liniowa w sieci neuronowej musi zwracać pięć wartości.\n",
        "    * Zgodnie z dobrą praktyką z części treningowej wydziel dodatkową część walidacyjną.\n",
        "    * Ogranicz rozmiar każdej części zbioru danych (treningowej, walidacyjnej i testowej). Część treningowa nie powinna zawierać więcej niż 100k elementów.\n",
        "* Do ekstrakcji cech z tekstu wykorzystaj **metodę TF-IDF** (*term frequency-inverse document frequency*) opartą o podejście typu worek słów (*bag-of-words*). Zastosuj funkcję `TfidfVectorizer` z biblioteki `scikit-learn`.\n",
        "* Wykorzystaj podobną architekturę sieci (perceptron wielowarstwowy z warstwą Dropout) jak w notatniku wykładowym.\n",
        "\n"
      ],
      "metadata": {
        "id": "9-z5reyCUVLN"
      }
    },
    {
      "cell_type": "markdown",
      "source": [
        "## Punkty do wykonania"
      ],
      "metadata": {
        "id": "GLrfWuO0rgos"
      }
    },
    {
      "cell_type": "markdown",
      "source": [
        "1.   \n",
        "Napisz funkcję znajdującą i wyświetlającą $k$ elementów zbioru testowego dla których model najbardziej się myli, czyli estymuje najmniejsze prawdopodobieństwa prawdziwej klasy. Softmax jest funkcją ściśle rosnącą, więc wystarczy znaleźć elementy z najmniejszą wartością nieznormalizowanego wyjścia z sieci (logita) dla prawdziwej klasy.\n",
        "2.   Zbadaj wpływ wybranych parametrów funkcji ekstrakcji cech z tekstu `TfidfVectorizer` na skuteczność wytrenowanego modelu. Uruchom kilka eksperymentów z różnymi wartościami parametrów i porównaj dokładność wytrenowanego modelu na zbiorze walidacyjnym.\n",
        "3.   Zbadaj wpływ wybranych hiperparametrów modelu (np. liczba warstw liniowych modelu, rozmiary warstw) i procesu uczenia (np. początkowa wartość stopy uczenia, liczba epok, typ i parametry planisty stopy uczenia, typ i parametry optymalizatora) na skuteczność wytrenowanego modelu. Uruchom kilka eksperymentów z różnymi wartościami hiperparametrów i porównaj dokładność wytrenowanego modelu na zbiorze walidacyjnym. Następnie wykonaj finalną ewaluację najlepszego modelu na zbiorze testowym.\n"
      ],
      "metadata": {
        "id": "04B0VM6uIZ64"
      }
    },
    {
      "cell_type": "markdown",
      "source": [
        "##Przygotowanie środowiska\n",
        "Upewnij się, że notatnik jest uruchomiony na maszynie z GPU. Jesli GPU nie jest dostępne zmień typ maszyny (Runtime | Change runtime type) i wybierz T4 GPU."
      ],
      "metadata": {
        "id": "jJZnxX7rDoWP"
      }
    },
    {
      "cell_type": "code",
      "source": [
        "!nvidia-smi"
      ],
      "metadata": {
        "id": "Wug8WJs7LQPe"
      },
      "execution_count": null,
      "outputs": []
    },
    {
      "cell_type": "markdown",
      "source": [
        "Instalacja dodatkowych bibliotek: datasets (z biblioteki HuggingFace), TorchMetrics i W&B (Weights and Biases) Models."
      ],
      "metadata": {
        "id": "QmhzFKNXUmDa"
      }
    },
    {
      "cell_type": "code",
      "source": [
        "!pip install -q datasets\n",
        "!pip install -q torchmetrics\n",
        "!pip install -q wandb"
      ],
      "metadata": {
        "id": "kuEVGjrJSt5h"
      },
      "execution_count": null,
      "outputs": []
    },
    {
      "cell_type": "markdown",
      "source": [
        "Import bibliotek."
      ],
      "metadata": {
        "id": "yz1EcTToUUIx"
      }
    },
    {
      "cell_type": "code",
      "source": [
        "import torch\n",
        "import numpy as np\n",
        "import matplotlib.pyplot as plt\n",
        "\n",
        "print(f\"Wersja biblioteki PyTorch: {torch.__version__}\")"
      ],
      "metadata": {
        "id": "zdGVyE77UU7l"
      },
      "execution_count": null,
      "outputs": []
    },
    {
      "cell_type": "markdown",
      "source": [
        "Sprawdzenie dostępności GPU."
      ],
      "metadata": {
        "id": "Jzr77SCyIZmZ"
      }
    },
    {
      "cell_type": "code",
      "source": [
        "print(f\"Dostępność GPU: {torch.cuda.is_available()}\")\n",
        "print(f\"Typ GPU: {torch.cuda.get_device_name(0)}\")"
      ],
      "metadata": {
        "id": "7ZMytRxqU_6d"
      },
      "execution_count": null,
      "outputs": []
    },
    {
      "cell_type": "markdown",
      "source": [],
      "metadata": {
        "id": "oANcfdIYW-P3"
      }
    },
    {
      "cell_type": "code",
      "source": [
        "import wandb\n",
        "\n",
        "# Logowanie do serwisu Weights&Biases monitorującego przebieg eksperymentów\n",
        "wandb.login()"
      ],
      "metadata": {
        "id": "9Xfy2mWEW-Vi"
      },
      "execution_count": null,
      "outputs": []
    },
    {
      "cell_type": "markdown",
      "source": [
        "# Rozwiązanie"
      ],
      "metadata": {
        "id": "sjIAG6sjW8Dw"
      }
    },
    {
      "cell_type": "code",
      "source": [],
      "metadata": {
        "id": "mqDLYFafW9yC"
      },
      "execution_count": null,
      "outputs": []
    },
    {
      "cell_type": "code",
      "source": [],
      "metadata": {
        "id": "fifOwsXEXGvJ"
      },
      "execution_count": null,
      "outputs": []
    },
    {
      "cell_type": "code",
      "source": [],
      "metadata": {
        "id": "pXLikULHXGyL"
      },
      "execution_count": null,
      "outputs": []
    }
  ],
  "metadata": {
    "accelerator": "GPU",
    "colab": {
      "gpuType": "T4",
      "provenance": [],
      "toc_visible": true
    },
    "kernelspec": {
      "display_name": "Python 3",
      "name": "python3"
    },
    "language_info": {
      "name": "python"
    }
  },
  "nbformat": 4,
  "nbformat_minor": 0
}