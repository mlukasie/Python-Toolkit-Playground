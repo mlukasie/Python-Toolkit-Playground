{
 "cells": [
  {
   "cell_type": "markdown",
   "metadata": {
    "id": "ZY88NuVprDxy"
   },
   "source": [
    "#PyTorch Intro - Tensory - Laboratorium\n",
    "\n",
    "**Tensor** w bibliotece PyTorch jest specjalizowaną strukturą danych podobną do wielowymiarowej tablicy `ndarray` w bibliotece numpy. Na tensorach można wykonywać typowe operacje algebry liniowej oraz operacje specyficzne dla głębokiego uczenia jak na przykład automatyczne różniczkowanie (autograd).\n",
    "Tensory wykorzystujemy do przechowywania przetwarzanych danych oraz parametrów (wag) modeli. Biblioteka PyTorch pozwala na efektywne przetwarzanie tensorów na CPU lub GPU."
   ]
  },
  {
   "cell_type": "markdown",
   "metadata": {
    "id": "wQ6auP2WCnLW"
   },
   "source": [
    "##Przygotowanie środowiska\n",
    "Upewnij się, że notatnik jest uruchomiony na maszynie z GPU. Jeśli GPU nie jest dostępne zmień typ maszyny (Runtime | Change runtime type) i wybierz T4 GPU."
   ]
  },
  {
   "cell_type": "code",
   "metadata": {
    "id": "FfwBYOmmnw0b",
    "ExecuteTime": {
     "end_time": "2025-03-13T09:35:22.931744Z",
     "start_time": "2025-03-13T09:35:22.673346Z"
    }
   },
   "source": [
    "!nvidia-smi"
   ],
   "outputs": [
    {
     "name": "stdout",
     "output_type": "stream",
     "text": [
      "Thu Mar 13 10:35:22 2025       \n",
      "+-----------------------------------------------------------------------------------------+\n",
      "| NVIDIA-SMI 571.96                 Driver Version: 571.96         CUDA Version: 12.8     |\n",
      "|-----------------------------------------+------------------------+----------------------+\n",
      "| GPU  Name                  Driver-Model | Bus-Id          Disp.A | Volatile Uncorr. ECC |\n",
      "| Fan  Temp   Perf          Pwr:Usage/Cap |           Memory-Usage | GPU-Util  Compute M. |\n",
      "|                                         |                        |               MIG M. |\n",
      "|=========================================+========================+======================|\n",
      "|   0  NVIDIA GeForce RTX 4060 ...  WDDM  |   00000000:01:00.0 Off |                  N/A |\n",
      "| N/A   59C    P8              6W /   65W |     106MiB /   8188MiB |      0%      Default |\n",
      "|                                         |                        |                  N/A |\n",
      "+-----------------------------------------+------------------------+----------------------+\n",
      "                                                                                         \n",
      "+-----------------------------------------------------------------------------------------+\n",
      "| Processes:                                                                              |\n",
      "|  GPU   GI   CI              PID   Type   Process name                        GPU Memory |\n",
      "|        ID   ID                                                               Usage      |\n",
      "|=========================================================================================|\n",
      "|    0   N/A  N/A           17500      C   ...s\\Python\\Python312\\python.exe      N/A      |\n",
      "+-----------------------------------------------------------------------------------------+\n"
     ]
    }
   ],
   "execution_count": 1
  },
  {
   "cell_type": "markdown",
   "metadata": {
    "id": "n1G8i4wTrfq6"
   },
   "source": [
    "Biblioteka PyTorch (`torch`) jest domyślnie zainstalowana w środowisku COLAB."
   ]
  },
  {
   "cell_type": "code",
   "metadata": {
    "id": "FDGaiuGLrapP",
    "ExecuteTime": {
     "end_time": "2025-03-21T07:24:03.975493Z",
     "start_time": "2025-03-21T07:24:00.680920Z"
    }
   },
   "source": [
    "import torch\n",
    "import numpy as np\n",
    "\n",
    "print(f\"Wersja biblioteki PyTorch: {torch.__version__}\")"
   ],
   "outputs": [
    {
     "name": "stdout",
     "output_type": "stream",
     "text": [
      "Wersja biblioteki PyTorch: 2.6.0+cu126\n"
     ]
    }
   ],
   "execution_count": 2
  },
  {
   "cell_type": "markdown",
   "metadata": {
    "id": "EJ6c3h4nryQJ"
   },
   "source": [
    "Sprawdzenie dostępnego urządzenia GPU."
   ]
  },
  {
   "cell_type": "code",
   "metadata": {
    "id": "VGyMG3_2rxIC",
    "ExecuteTime": {
     "end_time": "2025-03-13T09:35:32.296888Z",
     "start_time": "2025-03-13T09:35:32.258426Z"
    }
   },
   "source": [
    "print(f\"Dostępność GPU: {torch.cuda.is_available()}\")\n",
    "print(f\"Typ GPU: {torch.cuda.get_device_name(0)}\")"
   ],
   "outputs": [
    {
     "name": "stdout",
     "output_type": "stream",
     "text": [
      "Dostępność GPU: True\n",
      "Typ GPU: NVIDIA GeForce RTX 4060 Laptop GPU\n"
     ]
    }
   ],
   "execution_count": 3
  },
  {
   "cell_type": "markdown",
   "source": [
    "##Zadania do wykonania"
   ],
   "metadata": {
    "id": "a0eTA-dNdwEL"
   }
  },
  {
   "cell_type": "markdown",
   "source": [
    "###Zadanie 1: Tworzenie tensorów\n",
    "Wygeneruj tensor o pokazanej poniżej zawartości nie używając pętli. Wskazówka: Wykorzystaj funkcję `torch.full` i mechanizm indeksowania tensorów.\n",
    "\n",
    "```\n",
    " 1 2 1 1 1 1 2 1 1 1 1 2 1\n",
    " 1 2 1 1 1 1 2 1 1 1 1 2 1\n",
    " 2 2 2 2 2 2 2 2 2 2 2 2 2\n",
    " 1 2 1 1 1 1 2 1 1 1 1 2 1\n",
    " 1 2 1 3 3 1 2 1 3 3 1 2 1\n",
    " 1 2 1 3 3 1 2 1 3 3 1 2 1\n",
    " 1 2 1 1 1 1 2 1 1 1 1 2 1\n",
    " 2 2 2 2 2 2 2 2 2 2 2 2 2\n",
    " 1 2 1 1 1 1 2 1 1 1 1 2 1\n",
    " 1 2 1 3 3 1 2 1 3 3 1 2 1\n",
    " 1 2 1 3 3 1 2 1 3 3 1 2 1\n",
    " 1 2 1 1 1 1 2 1 1 1 1 2 1\n",
    " 2 2 2 2 2 2 2 2 2 2 2 2 2\n",
    " 1 2 1 1 1 1 2 1 1 1 1 2 1\n",
    "```\n",
    "\n"
   ],
   "metadata": {
    "id": "xRZ4mKnwqa0O"
   }
  },
  {
   "metadata": {},
   "cell_type": "markdown",
   "source": [
    "## Rozwiązanie\n",
    "Pierwotny plan - tworzę tensor wypełniony jedynkami a następnie próbują za pomocą mądrego indeksowania zmienić niektóre wartości na `2` i `3`"
   ]
  },
  {
   "metadata": {
    "ExecuteTime": {
     "end_time": "2025-03-13T10:16:54.402565Z",
     "start_time": "2025-03-13T10:16:54.396564Z"
    }
   },
   "cell_type": "code",
   "source": [
    "tensor = torch.full(size=(14, 13), fill_value=1)\n",
    "print(tensor)"
   ],
   "outputs": [
    {
     "name": "stdout",
     "output_type": "stream",
     "text": [
      "tensor([[1, 1, 1, 1, 1, 1, 1, 1, 1, 1, 1, 1, 1],\n",
      "        [1, 1, 1, 1, 1, 1, 1, 1, 1, 1, 1, 1, 1],\n",
      "        [1, 1, 1, 1, 1, 1, 1, 1, 1, 1, 1, 1, 1],\n",
      "        [1, 1, 1, 1, 1, 1, 1, 1, 1, 1, 1, 1, 1],\n",
      "        [1, 1, 1, 1, 1, 1, 1, 1, 1, 1, 1, 1, 1],\n",
      "        [1, 1, 1, 1, 1, 1, 1, 1, 1, 1, 1, 1, 1],\n",
      "        [1, 1, 1, 1, 1, 1, 1, 1, 1, 1, 1, 1, 1],\n",
      "        [1, 1, 1, 1, 1, 1, 1, 1, 1, 1, 1, 1, 1],\n",
      "        [1, 1, 1, 1, 1, 1, 1, 1, 1, 1, 1, 1, 1],\n",
      "        [1, 1, 1, 1, 1, 1, 1, 1, 1, 1, 1, 1, 1],\n",
      "        [1, 1, 1, 1, 1, 1, 1, 1, 1, 1, 1, 1, 1],\n",
      "        [1, 1, 1, 1, 1, 1, 1, 1, 1, 1, 1, 1, 1],\n",
      "        [1, 1, 1, 1, 1, 1, 1, 1, 1, 1, 1, 1, 1],\n",
      "        [1, 1, 1, 1, 1, 1, 1, 1, 1, 1, 1, 1, 1]])\n"
     ]
    }
   ],
   "execution_count": 27
  },
  {
   "metadata": {},
   "cell_type": "markdown",
   "source": "Próbuję nadpisać niektóre wartości tensora dwójkami - widzę, że dwójki są ustawione w rzędach i kolumnach."
  },
  {
   "metadata": {
    "ExecuteTime": {
     "end_time": "2025-03-13T10:16:57.319656Z",
     "start_time": "2025-03-13T10:16:57.315479Z"
    }
   },
   "cell_type": "code",
   "source": [
    "tensor[[2,7,12]] = 2\n",
    "tensor[:,[1, 6, 11]] = 2\n",
    "print(tensor)"
   ],
   "outputs": [
    {
     "name": "stdout",
     "output_type": "stream",
     "text": [
      "tensor([[1, 2, 1, 1, 1, 1, 2, 1, 1, 1, 1, 2, 1],\n",
      "        [1, 2, 1, 1, 1, 1, 2, 1, 1, 1, 1, 2, 1],\n",
      "        [2, 2, 2, 2, 2, 2, 2, 2, 2, 2, 2, 2, 2],\n",
      "        [1, 2, 1, 1, 1, 1, 2, 1, 1, 1, 1, 2, 1],\n",
      "        [1, 2, 1, 1, 1, 1, 2, 1, 1, 1, 1, 2, 1],\n",
      "        [1, 2, 1, 1, 1, 1, 2, 1, 1, 1, 1, 2, 1],\n",
      "        [1, 2, 1, 1, 1, 1, 2, 1, 1, 1, 1, 2, 1],\n",
      "        [2, 2, 2, 2, 2, 2, 2, 2, 2, 2, 2, 2, 2],\n",
      "        [1, 2, 1, 1, 1, 1, 2, 1, 1, 1, 1, 2, 1],\n",
      "        [1, 2, 1, 1, 1, 1, 2, 1, 1, 1, 1, 2, 1],\n",
      "        [1, 2, 1, 1, 1, 1, 2, 1, 1, 1, 1, 2, 1],\n",
      "        [1, 2, 1, 1, 1, 1, 2, 1, 1, 1, 1, 2, 1],\n",
      "        [2, 2, 2, 2, 2, 2, 2, 2, 2, 2, 2, 2, 2],\n",
      "        [1, 2, 1, 1, 1, 1, 2, 1, 1, 1, 1, 2, 1]])\n"
     ]
    }
   ],
   "execution_count": 28
  },
  {
   "metadata": {},
   "cell_type": "markdown",
   "source": "Widzę, że trójki są w skupiskach 2x2. Spróbuję zrobić to jedną linijką, ale nie wiem czy indeksowanie zadziała w prawidłowy sposób"
  },
  {
   "metadata": {
    "ExecuteTime": {
     "end_time": "2025-03-13T10:17:01.779238Z",
     "start_time": "2025-03-13T10:17:01.774716Z"
    }
   },
   "cell_type": "code",
   "source": [
    "tensor[[4,5,9,10], [3,4,8,9]] = 3\n",
    "print(tensor)"
   ],
   "outputs": [
    {
     "name": "stdout",
     "output_type": "stream",
     "text": [
      "tensor([[1, 2, 1, 1, 1, 1, 2, 1, 1, 1, 1, 2, 1],\n",
      "        [1, 2, 1, 1, 1, 1, 2, 1, 1, 1, 1, 2, 1],\n",
      "        [2, 2, 2, 2, 2, 2, 2, 2, 2, 2, 2, 2, 2],\n",
      "        [1, 2, 1, 1, 1, 1, 2, 1, 1, 1, 1, 2, 1],\n",
      "        [1, 2, 1, 3, 1, 1, 2, 1, 1, 1, 1, 2, 1],\n",
      "        [1, 2, 1, 1, 3, 1, 2, 1, 1, 1, 1, 2, 1],\n",
      "        [1, 2, 1, 1, 1, 1, 2, 1, 1, 1, 1, 2, 1],\n",
      "        [2, 2, 2, 2, 2, 2, 2, 2, 2, 2, 2, 2, 2],\n",
      "        [1, 2, 1, 1, 1, 1, 2, 1, 1, 1, 1, 2, 1],\n",
      "        [1, 2, 1, 1, 1, 1, 2, 1, 3, 1, 1, 2, 1],\n",
      "        [1, 2, 1, 1, 1, 1, 2, 1, 1, 3, 1, 2, 1],\n",
      "        [1, 2, 1, 1, 1, 1, 2, 1, 1, 1, 1, 2, 1],\n",
      "        [2, 2, 2, 2, 2, 2, 2, 2, 2, 2, 2, 2, 2],\n",
      "        [1, 2, 1, 1, 1, 1, 2, 1, 1, 1, 1, 2, 1]])\n"
     ]
    }
   ],
   "execution_count": 29
  },
  {
   "metadata": {},
   "cell_type": "markdown",
   "source": "Mogłem spodziewać się tego wyniku - trójki zostały ustawione tylko na indeksach `4,3`, `5,4`, `9,8` i `10,9` czyli zamiast 16 wartości zmieniłem tylko 4. Może stworzenie dwówymiarowej tablicy indeksów da pożądany efekt?"
  },
  {
   "metadata": {
    "ExecuteTime": {
     "end_time": "2025-03-13T10:17:05.262359Z",
     "start_time": "2025-03-13T10:17:05.256672Z"
    }
   },
   "cell_type": "code",
   "source": [
    "x_idxs = np.array([4,5,9,10])\n",
    "#Rozszerzanie tablicy za pomocą broadcastingu\n",
    "extended = x_idxs + np.zeros(shape=(4,1))\n",
    "print(extended)"
   ],
   "outputs": [
    {
     "name": "stdout",
     "output_type": "stream",
     "text": [
      "[[ 4.  5.  9. 10.]\n",
      " [ 4.  5.  9. 10.]\n",
      " [ 4.  5.  9. 10.]\n",
      " [ 4.  5.  9. 10.]]\n"
     ]
    }
   ],
   "execution_count": 30
  },
  {
   "metadata": {},
   "cell_type": "markdown",
   "source": "Teraz w teorii powinienem dostać się do 16 wartości - zresetowałem tensor, tak żeby nie mieć tego wcześniejszego błędu w wyniku"
  },
  {
   "metadata": {
    "ExecuteTime": {
     "end_time": "2025-03-13T10:17:07.842969Z",
     "start_time": "2025-03-13T10:17:07.837966Z"
    }
   },
   "cell_type": "code",
   "source": [
    "tensor[extended, [3,4,8,9]] = 3\n",
    "print(tensor)"
   ],
   "outputs": [
    {
     "name": "stdout",
     "output_type": "stream",
     "text": [
      "tensor([[1, 2, 1, 1, 1, 1, 2, 1, 1, 1, 1, 2, 1],\n",
      "        [1, 2, 1, 1, 1, 1, 2, 1, 1, 1, 1, 2, 1],\n",
      "        [2, 2, 2, 2, 2, 2, 2, 2, 2, 2, 2, 2, 2],\n",
      "        [1, 2, 1, 1, 1, 1, 2, 1, 1, 1, 1, 2, 1],\n",
      "        [1, 2, 1, 3, 1, 1, 2, 1, 1, 1, 1, 2, 1],\n",
      "        [1, 2, 1, 1, 3, 1, 2, 1, 1, 1, 1, 2, 1],\n",
      "        [1, 2, 1, 1, 1, 1, 2, 1, 1, 1, 1, 2, 1],\n",
      "        [2, 2, 2, 2, 2, 2, 2, 2, 2, 2, 2, 2, 2],\n",
      "        [1, 2, 1, 1, 1, 1, 2, 1, 1, 1, 1, 2, 1],\n",
      "        [1, 2, 1, 1, 1, 1, 2, 1, 3, 1, 1, 2, 1],\n",
      "        [1, 2, 1, 1, 1, 1, 2, 1, 1, 3, 1, 2, 1],\n",
      "        [1, 2, 1, 1, 1, 1, 2, 1, 1, 1, 1, 2, 1],\n",
      "        [2, 2, 2, 2, 2, 2, 2, 2, 2, 2, 2, 2, 2],\n",
      "        [1, 2, 1, 1, 1, 1, 2, 1, 1, 1, 1, 2, 1]])\n"
     ]
    }
   ],
   "execution_count": 31
  },
  {
   "metadata": {},
   "cell_type": "markdown",
   "source": "Ciekawe. Spodziewałem się, że do każdego wiersza w `extended` będzie dobrana jedna wartość z `[3,4,8,9]`. Może powinienem dopasować wymiary i zmienić kształt indeksów kolumn z `1,4` na `4,1`"
  },
  {
   "metadata": {
    "ExecuteTime": {
     "end_time": "2025-03-13T10:20:13.210826Z",
     "start_time": "2025-03-13T10:20:13.205714Z"
    }
   },
   "cell_type": "code",
   "source": [
    "tensor[extended, [[3], [4], [8], [9]]] = 3\n",
    "print(tensor)"
   ],
   "outputs": [
    {
     "name": "stdout",
     "output_type": "stream",
     "text": [
      "tensor([[1, 2, 1, 1, 1, 1, 2, 1, 1, 1, 1, 2, 1],\n",
      "        [1, 2, 1, 1, 1, 1, 2, 1, 1, 1, 1, 2, 1],\n",
      "        [2, 2, 2, 2, 2, 2, 2, 2, 2, 2, 2, 2, 2],\n",
      "        [1, 2, 1, 1, 1, 1, 2, 1, 1, 1, 1, 2, 1],\n",
      "        [1, 2, 1, 3, 3, 1, 2, 1, 3, 3, 1, 2, 1],\n",
      "        [1, 2, 1, 3, 3, 1, 2, 1, 3, 3, 1, 2, 1],\n",
      "        [1, 2, 1, 1, 1, 1, 2, 1, 1, 1, 1, 2, 1],\n",
      "        [2, 2, 2, 2, 2, 2, 2, 2, 2, 2, 2, 2, 2],\n",
      "        [1, 2, 1, 1, 1, 1, 2, 1, 1, 1, 1, 2, 1],\n",
      "        [1, 2, 1, 3, 3, 1, 2, 1, 3, 3, 1, 2, 1],\n",
      "        [1, 2, 1, 3, 3, 1, 2, 1, 3, 3, 1, 2, 1],\n",
      "        [1, 2, 1, 1, 1, 1, 2, 1, 1, 1, 1, 2, 1],\n",
      "        [2, 2, 2, 2, 2, 2, 2, 2, 2, 2, 2, 2, 2],\n",
      "        [1, 2, 1, 1, 1, 1, 2, 1, 1, 1, 1, 2, 1]])\n"
     ]
    }
   ],
   "execution_count": 32
  },
  {
   "metadata": {},
   "cell_type": "markdown",
   "source": "Wygląda na to że zadziałało. Wynikowy tensor powinien być taki sam jak ten z polecenia jeżeli czegoś nie przegapiłem."
  },
  {
   "cell_type": "markdown",
   "source": [
    "###Zadanie 2: Wartości własne macierzy\n",
    "Utwórz dwuwymiarowy tensor $M$ o rozmiarach $20 \\times 20$ zainicjalizowany losowymi wartościami o standardowym rozkładzie normalnym.\n",
    "Następnie wyznacz wartości własne macierzy $\n",
    "X = M D M^{-1} \\, ,\n",
    "$\n",
    "gdzie\n",
    "$$\n",
    "\\begin{align}\n",
    "D =\n",
    "\\begin{bmatrix}\n",
    "1 & 0 & 0 & \\ldots & 0 & 0 \\\\\n",
    "0 & 2 & 0 & \\ldots  & 0 & 0 \\\\\n",
    "\\vdots &  & \\ddots &  &  & \\vdots \\\\\n",
    "\\vdots &  &  &  & 19 & 0 \\\\\n",
    "0 & \\ldots & \\ldots & \\ldots & 0 & 20\n",
    "\\end{bmatrix}\n",
    "\\end{align} \\, .\n",
    "$$\n",
    "Nie używaj pętli. Macierz $D$ wygeneruj korzystając z funkcji `torch.diag`. Do wyznaczenia wektorów własnych wykorzystaj funkcję `torch.linalg.eig`."
   ],
   "metadata": {
    "id": "HLvSfZmesKOH"
   }
  },
  {
   "metadata": {},
   "cell_type": "markdown",
   "source": [
    "## Rozwiązanie\n",
    "Najpierw zacznę od stworzenia macierzy M i D"
   ]
  },
  {
   "cell_type": "code",
   "source": [
    "M = torch.randn(size=(20,20))\n",
    "print(M[0:10, 0:10])\n",
    "D = torch.diag(torch.arange(start=1, end=21))\n",
    "print(D)"
   ],
   "metadata": {
    "id": "xFiduJkCJny_",
    "ExecuteTime": {
     "end_time": "2025-03-13T10:34:56.706071Z",
     "start_time": "2025-03-13T10:34:56.698062Z"
    }
   },
   "outputs": [
    {
     "name": "stdout",
     "output_type": "stream",
     "text": [
      "tensor([[ 0.3622,  1.3220, -0.3373, -0.3295, -0.7940,  0.8075, -0.6365, -0.6488,\n",
      "          0.2776, -1.8464],\n",
      "        [ 1.1812, -1.8071,  0.5576,  1.7034, -0.8148,  0.0137,  0.2319, -0.4721,\n",
      "         -0.0218,  0.2672],\n",
      "        [ 0.1543,  0.2874,  1.2320,  1.4248, -0.0948, -1.2638, -0.4314, -0.5732,\n",
      "         -0.9995, -0.2615],\n",
      "        [-0.4783, -0.6303,  0.2038,  2.1286,  0.8438, -0.3402,  0.1788, -0.6253,\n",
      "         -0.6403,  1.6122],\n",
      "        [ 0.0566,  0.2430, -0.4890,  0.6393,  0.8052, -0.1554, -0.1586,  0.5825,\n",
      "          0.8343,  0.6650],\n",
      "        [ 0.5589,  0.6100, -0.9138, -3.5754, -0.9860, -0.1899, -0.8470, -0.2224,\n",
      "         -0.9450,  0.6182],\n",
      "        [ 0.3563,  0.4073, -1.1321, -1.5469, -1.6478,  0.2731, -0.7070, -0.4826,\n",
      "          1.8486, -0.7246],\n",
      "        [ 0.9333, -0.4724,  1.6133,  0.2394,  0.8248,  1.6078,  1.6243, -0.8543,\n",
      "         -2.0419, -0.4755],\n",
      "        [-0.6421,  0.6592,  0.3982, -1.8796, -0.7310, -1.2196,  2.4531, -0.8806,\n",
      "         -1.1893,  0.0592],\n",
      "        [-2.1113,  2.2511, -0.0379,  0.5045, -0.7699,  0.3484,  1.9463,  0.4147,\n",
      "          0.7952,  0.2180]])\n",
      "tensor([[ 1,  0,  0,  0,  0,  0,  0,  0,  0,  0,  0,  0,  0,  0,  0,  0,  0,  0,\n",
      "          0,  0],\n",
      "        [ 0,  2,  0,  0,  0,  0,  0,  0,  0,  0,  0,  0,  0,  0,  0,  0,  0,  0,\n",
      "          0,  0],\n",
      "        [ 0,  0,  3,  0,  0,  0,  0,  0,  0,  0,  0,  0,  0,  0,  0,  0,  0,  0,\n",
      "          0,  0],\n",
      "        [ 0,  0,  0,  4,  0,  0,  0,  0,  0,  0,  0,  0,  0,  0,  0,  0,  0,  0,\n",
      "          0,  0],\n",
      "        [ 0,  0,  0,  0,  5,  0,  0,  0,  0,  0,  0,  0,  0,  0,  0,  0,  0,  0,\n",
      "          0,  0],\n",
      "        [ 0,  0,  0,  0,  0,  6,  0,  0,  0,  0,  0,  0,  0,  0,  0,  0,  0,  0,\n",
      "          0,  0],\n",
      "        [ 0,  0,  0,  0,  0,  0,  7,  0,  0,  0,  0,  0,  0,  0,  0,  0,  0,  0,\n",
      "          0,  0],\n",
      "        [ 0,  0,  0,  0,  0,  0,  0,  8,  0,  0,  0,  0,  0,  0,  0,  0,  0,  0,\n",
      "          0,  0],\n",
      "        [ 0,  0,  0,  0,  0,  0,  0,  0,  9,  0,  0,  0,  0,  0,  0,  0,  0,  0,\n",
      "          0,  0],\n",
      "        [ 0,  0,  0,  0,  0,  0,  0,  0,  0, 10,  0,  0,  0,  0,  0,  0,  0,  0,\n",
      "          0,  0],\n",
      "        [ 0,  0,  0,  0,  0,  0,  0,  0,  0,  0, 11,  0,  0,  0,  0,  0,  0,  0,\n",
      "          0,  0],\n",
      "        [ 0,  0,  0,  0,  0,  0,  0,  0,  0,  0,  0, 12,  0,  0,  0,  0,  0,  0,\n",
      "          0,  0],\n",
      "        [ 0,  0,  0,  0,  0,  0,  0,  0,  0,  0,  0,  0, 13,  0,  0,  0,  0,  0,\n",
      "          0,  0],\n",
      "        [ 0,  0,  0,  0,  0,  0,  0,  0,  0,  0,  0,  0,  0, 14,  0,  0,  0,  0,\n",
      "          0,  0],\n",
      "        [ 0,  0,  0,  0,  0,  0,  0,  0,  0,  0,  0,  0,  0,  0, 15,  0,  0,  0,\n",
      "          0,  0],\n",
      "        [ 0,  0,  0,  0,  0,  0,  0,  0,  0,  0,  0,  0,  0,  0,  0, 16,  0,  0,\n",
      "          0,  0],\n",
      "        [ 0,  0,  0,  0,  0,  0,  0,  0,  0,  0,  0,  0,  0,  0,  0,  0, 17,  0,\n",
      "          0,  0],\n",
      "        [ 0,  0,  0,  0,  0,  0,  0,  0,  0,  0,  0,  0,  0,  0,  0,  0,  0, 18,\n",
      "          0,  0],\n",
      "        [ 0,  0,  0,  0,  0,  0,  0,  0,  0,  0,  0,  0,  0,  0,  0,  0,  0,  0,\n",
      "         19,  0],\n",
      "        [ 0,  0,  0,  0,  0,  0,  0,  0,  0,  0,  0,  0,  0,  0,  0,  0,  0,  0,\n",
      "          0, 20]])\n"
     ]
    }
   ],
   "execution_count": 47
  },
  {
   "metadata": {},
   "cell_type": "markdown",
   "source": "Wygląda dobrze. Teraz obliczam macierz X"
  },
  {
   "metadata": {
    "ExecuteTime": {
     "end_time": "2025-03-13T10:35:01.745942Z",
     "start_time": "2025-03-13T10:35:01.721949Z"
    }
   },
   "cell_type": "code",
   "source": [
    "X = M@D@M.T\n",
    "print(X)"
   ],
   "outputs": [
    {
     "ename": "RuntimeError",
     "evalue": "expected m1 and m2 to have the same dtype, but got: float != __int64",
     "output_type": "error",
     "traceback": [
      "\u001B[31m---------------------------------------------------------------------------\u001B[39m",
      "\u001B[31mRuntimeError\u001B[39m                              Traceback (most recent call last)",
      "\u001B[36mCell\u001B[39m\u001B[36m \u001B[39m\u001B[32mIn[48]\u001B[39m\u001B[32m, line 1\u001B[39m\n\u001B[32m----> \u001B[39m\u001B[32m1\u001B[39m X = \u001B[43mM\u001B[49m\u001B[38;5;129;43m@D\u001B[39;49m\u001B[38;5;129m@M\u001B[39m.T\n\u001B[32m      2\u001B[39m \u001B[38;5;28mprint\u001B[39m(X)\n",
      "\u001B[31mRuntimeError\u001B[39m: expected m1 and m2 to have the same dtype, but got: float != __int64"
     ]
    }
   ],
   "execution_count": 48
  },
  {
   "metadata": {},
   "cell_type": "markdown",
   "source": "Dobra po pierwsze M.T to nie to samo co $ M^{-1} \\, $. Dodatkowo pomieszałem typy danych"
  },
  {
   "metadata": {
    "ExecuteTime": {
     "end_time": "2025-03-13T10:41:39.913675Z",
     "start_time": "2025-03-13T10:41:39.910368Z"
    }
   },
   "cell_type": "code",
   "source": "import torch.linalg as linalg",
   "outputs": [],
   "execution_count": 52
  },
  {
   "metadata": {
    "ExecuteTime": {
     "end_time": "2025-03-13T10:41:44.410359Z",
     "start_time": "2025-03-13T10:41:44.395039Z"
    }
   },
   "cell_type": "code",
   "source": [
    "D = torch.diag(torch.arange(start=1, end=21, dtype=torch.float32))\n",
    "X = M@D@linalg.inv(M)\n",
    "print(X)"
   ],
   "outputs": [
    {
     "name": "stdout",
     "output_type": "stream",
     "text": [
      "tensor([[ 3.2656e+01,  2.5296e+01,  2.4975e+01,  3.1948e+01,  1.0223e+01,\n",
      "          1.4562e+01, -3.8478e+01, -2.8183e+01, -2.4257e+00, -1.9183e+01,\n",
      "          8.0992e+01, -2.9912e+01,  4.2945e+01,  3.9931e+01, -9.9165e+01,\n",
      "          3.5421e+01,  2.3582e+00, -2.3755e+01,  7.7168e+01,  6.0243e+00],\n",
      "        [ 3.8182e+01,  4.7068e+01,  4.6671e+01,  5.6520e+01,  4.0229e+01,\n",
      "          3.2619e+01, -4.7671e+01, -3.3406e+01,  7.5062e+00, -1.8972e+01,\n",
      "          1.1822e+02, -4.7246e+01,  6.1036e+01,  5.4076e+01, -1.4382e+02,\n",
      "          4.9616e+01,  5.4649e+00, -3.5512e+01,  9.7858e+01, -5.8856e+00],\n",
      "        [ 3.7800e+00,  7.4890e+00,  1.8674e+01,  5.5534e+00,  5.6564e+00,\n",
      "          7.6990e+00, -9.3838e+00, -4.4337e+00, -2.3637e+00, -3.6009e+00,\n",
      "          1.8162e+01, -8.8009e+00,  7.5172e+00,  8.6329e+00, -2.6172e+01,\n",
      "          5.9900e+00, -6.7623e-01, -6.0401e+00,  1.7490e+01, -9.9663e-01],\n",
      "        [ 4.7522e+01,  4.2333e+01,  6.2359e+01,  7.6787e+01,  4.6565e+01,\n",
      "          4.2053e+01, -6.3434e+01, -4.1436e+01,  7.6027e+00, -3.0215e+01,\n",
      "          1.5879e+02, -5.5815e+01,  7.5055e+01,  8.4290e+01, -1.8740e+02,\n",
      "          5.9003e+01, -4.3459e+00, -4.0932e+01,  1.2707e+02, -6.0554e+00],\n",
      "        [ 1.7297e+01,  1.5712e+01,  2.1287e+01,  2.1380e+01,  2.8188e+01,\n",
      "          1.3181e+01, -2.6187e+01, -1.7302e+01,  3.6708e+00, -1.1183e+01,\n",
      "          5.7883e+01, -1.7053e+01,  2.6636e+01,  3.0343e+01, -6.4299e+01,\n",
      "          2.1176e+01, -1.7552e+00, -1.5663e+01,  4.7688e+01, -2.7692e+00],\n",
      "        [-2.2760e+01, -1.6242e+01, -2.1265e+01, -2.8959e+01, -2.5219e+01,\n",
      "         -8.5447e+00,  2.1188e+01,  1.3892e+01, -1.0028e+01,  1.2831e+01,\n",
      "         -5.4874e+01,  2.0960e+01, -2.6060e+01, -2.8628e+01,  6.5420e+01,\n",
      "         -2.2136e+01,  5.8282e-01,  1.6485e+01, -3.9882e+01,  6.7872e+00],\n",
      "        [ 3.5993e+01,  3.8676e+01,  4.9954e+01,  5.6550e+01,  2.5769e+01,\n",
      "          2.8523e+01, -4.9181e+01, -4.1436e+01, -2.1802e+00, -2.6995e+01,\n",
      "          1.4184e+02, -5.0560e+01,  7.2283e+01,  6.9639e+01, -1.6878e+02,\n",
      "          5.7723e+01,  2.3619e+00, -3.8303e+01,  1.2484e+02,  4.8801e+00],\n",
      "        [-5.0920e+01, -5.6394e+01, -6.7823e+01, -6.7610e+01, -3.7274e+01,\n",
      "         -4.5691e+01,  9.2222e+01,  7.0424e+01,  5.4706e+00,  3.3704e+01,\n",
      "         -1.9650e+02,  6.4732e+01, -9.6367e+01, -9.7461e+01,  2.2631e+02,\n",
      "         -7.1513e+01,  1.8445e+00,  5.2588e+01, -1.7207e+02, -5.3134e+00],\n",
      "        [-6.5973e+01, -6.3918e+01, -8.6461e+01, -9.2058e+01, -5.4956e+01,\n",
      "         -5.7147e+01,  1.0126e+02,  6.8948e+01,  5.4302e+00,  4.2318e+01,\n",
      "         -2.3154e+02,  7.9380e+01, -1.1394e+02, -1.2009e+02,  2.7376e+02,\n",
      "         -8.7718e+01,  3.6347e+00,  6.1300e+01, -1.9785e+02,  1.1291e-01],\n",
      "        [ 5.0612e+00,  1.4629e+01,  4.0769e+00,  6.7946e+00, -6.9647e+00,\n",
      "          9.5919e+00, -2.3795e+01, -1.6242e+01, -9.2616e+00,  1.3455e+00,\n",
      "          3.3777e+01, -9.4884e+00,  2.0499e+01,  1.3969e+01, -3.8943e+01,\n",
      "          1.3808e+01, -9.4946e-01, -1.1093e+01,  3.6623e+01,  8.5407e+00],\n",
      "        [ 2.5864e+01,  2.4718e+01,  3.7817e+01,  4.4231e+01,  2.7810e+01,\n",
      "          2.1261e+01, -3.7830e+01, -2.7388e+01,  6.8284e+00, -1.9365e+01,\n",
      "          1.1010e+02, -3.4743e+01,  4.7717e+01,  5.1250e+01, -1.1908e+02,\n",
      "          4.0221e+01, -1.5059e+00, -2.5640e+01,  8.2412e+01, -5.4538e+00],\n",
      "        [ 8.1739e+01,  7.9593e+01,  1.0282e+02,  1.2028e+02,  7.3106e+01,\n",
      "          6.6220e+01, -1.2009e+02, -8.2779e+01,  8.1103e+00, -5.3334e+01,\n",
      "          2.8418e+02, -9.1516e+01,  1.4296e+02,  1.3783e+02, -3.3569e+02,\n",
      "          1.1616e+02,  5.0849e+00, -8.3859e+01,  2.4076e+02, -3.0733e+00],\n",
      "        [-6.2604e+01, -6.3178e+01, -7.9726e+01, -8.6899e+01, -5.4934e+01,\n",
      "         -5.2533e+01,  1.0044e+02,  6.6008e+01, -3.1443e+00,  4.0537e+01,\n",
      "         -2.1402e+02,  7.3570e+01, -9.5781e+01, -1.0231e+02,  2.4869e+02,\n",
      "         -8.3689e+01, -2.0874e-01,  6.7217e+01, -1.8046e+02,  3.6786e+00],\n",
      "        [-3.1745e+01, -3.1127e+01, -4.4194e+01, -4.7505e+01, -3.2120e+01,\n",
      "         -2.2538e+01,  4.1743e+01,  2.9274e+01, -8.0598e+00,  2.2773e+01,\n",
      "         -1.0858e+02,  4.0189e+01, -5.1555e+01, -4.4846e+01,  1.2882e+02,\n",
      "         -4.4576e+01, -2.9361e+00,  3.3489e+01, -8.7944e+01,  6.6125e+00],\n",
      "        [-3.1890e+01, -3.2410e+01, -3.9953e+01, -4.6173e+01, -2.5141e+01,\n",
      "         -2.5182e+01,  4.6180e+01,  3.3032e+01, -3.2519e+00,  2.0375e+01,\n",
      "         -1.0804e+02,  3.9387e+01, -5.7226e+01, -5.2103e+01,  1.3594e+02,\n",
      "         -4.4243e+01, -5.4980e+00,  3.4517e+01, -9.2083e+01,  9.9739e-01],\n",
      "        [ 1.4309e+01,  2.3304e+01,  1.5320e+01,  1.6976e+01,  4.0234e+00,\n",
      "          1.4335e+01, -4.0543e+01, -2.6984e+01, -9.5869e+00, -1.0599e+01,\n",
      "          6.9008e+01, -1.9228e+01,  3.5479e+01,  2.6702e+01, -7.6130e+01,\n",
      "          3.7132e+01,  1.2012e+00, -2.3002e+01,  6.7501e+01,  9.4522e+00],\n",
      "        [ 6.5722e+00,  7.9148e+00,  8.4743e+00,  9.0610e+00,  9.5831e+00,\n",
      "          6.7129e+00, -7.8724e+00, -6.1987e+00,  2.4963e+00, -3.2377e+00,\n",
      "          2.0660e+01, -9.4526e+00,  1.1456e+01,  9.2659e+00, -2.8018e+01,\n",
      "          7.4584e+00,  1.4175e+01, -7.5986e+00,  1.7308e+01, -4.0301e-01],\n",
      "        [ 4.3277e+01,  4.4891e+01,  5.6591e+01,  5.5233e+01,  4.0240e+01,\n",
      "          3.7832e+01, -6.3818e+01, -4.2710e+01,  3.2632e+00, -2.7827e+01,\n",
      "          1.5404e+02, -5.3767e+01,  7.3559e+01,  8.0343e+01, -1.8061e+02,\n",
      "          5.4655e+01, -8.1944e-01, -2.8097e+01,  1.2846e+02,  7.0951e-01],\n",
      "        [-1.8006e+01, -2.1302e+01, -2.6187e+01, -3.0359e+01, -1.4923e+01,\n",
      "         -1.8478e+01,  3.2376e+01,  2.4479e+01, -9.6140e-01,  1.1085e+01,\n",
      "         -7.7067e+01,  2.6204e+01, -4.0191e+01, -3.8030e+01,  9.0468e+01,\n",
      "         -2.9522e+01, -1.1583e+00,  1.9315e+01, -5.9532e+01,  1.1509e+00],\n",
      "        [-2.3752e+00,  1.5029e+00,  2.1760e-02,  7.8518e-02, -2.4893e+00,\n",
      "         -8.2574e-01, -2.7814e+00, -3.2972e+00, -3.3286e+00, -1.6317e+00,\n",
      "          7.8930e+00, -1.2067e+00,  3.8487e+00,  4.1109e+00, -7.9486e+00,\n",
      "          4.2622e+00, -1.1317e+00,  4.9004e-01,  1.2662e+01,  9.5812e+00]])\n"
     ]
    }
   ],
   "execution_count": 53
  },
  {
   "metadata": {},
   "cell_type": "markdown",
   "source": "Obliczam wektory własne"
  },
  {
   "metadata": {
    "ExecuteTime": {
     "end_time": "2025-03-13T10:42:46.089170Z",
     "start_time": "2025-03-13T10:42:46.082668Z"
    }
   },
   "cell_type": "code",
   "source": [
    "L, V = linalg.eig(X)\n",
    "print(L)"
   ],
   "outputs": [
    {
     "name": "stdout",
     "output_type": "stream",
     "text": [
      "tensor([ 0.9998+0.j,  1.9999+0.j,  2.9995+0.j, 19.9999+0.j, 19.0000+0.j,  4.0008+0.j,\n",
      "        17.9999+0.j, 17.0000+0.j,  5.0000+0.j,  6.0000+0.j,  7.0003+0.j, 15.9996+0.j,\n",
      "         8.0002+0.j,  9.0000+0.j, 10.0005+0.j, 14.9989+0.j, 11.0000+0.j, 14.0000+0.j,\n",
      "        12.0007+0.j, 13.0001+0.j])\n"
     ]
    }
   ],
   "execution_count": 55
  },
  {
   "metadata": {
    "ExecuteTime": {
     "end_time": "2025-03-13T10:42:51.864806Z",
     "start_time": "2025-03-13T10:42:51.858578Z"
    }
   },
   "cell_type": "code",
   "source": "print(V)",
   "outputs": [
    {
     "name": "stdout",
     "output_type": "stream",
     "text": [
      "tensor([[ 0.0697+0.j,  0.3383+0.j,  0.0794+0.j,  0.0648+0.j, -0.0176+0.j,  0.0472+0.j,\n",
      "         -0.0953+0.j, -0.4402+0.j,  0.2047+0.j,  0.2251+0.j, -0.1283+0.j, -0.1442+0.j,\n",
      "         -0.1784+0.j, -0.0572+0.j, -0.3926+0.j, -0.0612+0.j,  0.0281+0.j,  0.6295+0.j,\n",
      "          0.0856+0.j, -0.1025+0.j],\n",
      "        [ 0.2275+0.j, -0.4624+0.j, -0.1309+0.j,  0.1890+0.j, -0.4126+0.j, -0.2433+0.j,\n",
      "         -0.2601+0.j, -0.2722+0.j,  0.2100+0.j,  0.0038+0.j,  0.0468+0.j,  0.1008+0.j,\n",
      "         -0.1297+0.j,  0.0045+0.j,  0.0568+0.j, -0.3149+0.j,  0.3756+0.j, -0.1558+0.j,\n",
      "          0.1024+0.j, -0.1404+0.j],\n",
      "        [ 0.0297+0.j,  0.0735+0.j, -0.2898+0.j,  0.0875+0.j, -0.2295+0.j, -0.2035+0.j,\n",
      "         -0.3409+0.j,  0.3571+0.j,  0.0244+0.j, -0.3523+0.j, -0.0870+0.j,  0.0266+0.j,\n",
      "         -0.1575+0.j,  0.2058+0.j, -0.0556+0.j, -0.2239+0.j, -0.1146+0.j,  0.0598+0.j,\n",
      "          0.1804+0.j,  0.4227+0.j],\n",
      "        [-0.0922+0.j, -0.1613+0.j, -0.0477+0.j, -0.2728+0.j, -0.0146+0.j, -0.3043+0.j,\n",
      "          0.0646+0.j,  0.2522+0.j, -0.2175+0.j, -0.0948+0.j,  0.0361+0.j,  0.1227+0.j,\n",
      "         -0.1718+0.j,  0.1319+0.j,  0.3429+0.j, -0.4003+0.j,  0.0673+0.j, -0.0230+0.j,\n",
      "         -0.1230+0.j, -0.1249+0.j],\n",
      "        [ 0.0109+0.j,  0.0622+0.j,  0.1151+0.j,  0.2772+0.j,  0.4004+0.j, -0.0915+0.j,\n",
      "          0.1227+0.j, -0.1163+0.j, -0.2075+0.j, -0.0433+0.j, -0.0320+0.j, -0.2573+0.j,\n",
      "          0.1600+0.j, -0.1718+0.j,  0.1415+0.j, -0.0940+0.j,  0.0254+0.j, -0.1500+0.j,\n",
      "         -0.2288+0.j,  0.2110+0.j],\n",
      "        [ 0.1077+0.j,  0.1561+0.j,  0.2147+0.j, -0.1856+0.j, -0.1209+0.j,  0.5112+0.j,\n",
      "         -0.2337+0.j,  0.2247+0.j,  0.2541+0.j, -0.0530+0.j, -0.1707+0.j,  0.2759+0.j,\n",
      "         -0.0612+0.j,  0.1946+0.j,  0.1315+0.j,  0.1678+0.j, -0.1960+0.j, -0.0910+0.j,\n",
      "         -0.0836+0.j,  0.2474+0.j],\n",
      "        [ 0.0685+0.j,  0.1042+0.j,  0.2664+0.j, -0.2628+0.j, -0.1463+0.j,  0.2212+0.j,\n",
      "          0.0079+0.j, -0.1254+0.j,  0.4247+0.j,  0.0761+0.j, -0.1425+0.j,  0.3163+0.j,\n",
      "         -0.1326+0.j, -0.3806+0.j, -0.1540+0.j, -0.0522+0.j, -0.0148+0.j,  0.2618+0.j,\n",
      "          0.0938+0.j,  0.1434+0.j],\n",
      "        [ 0.1799+0.j, -0.1209+0.j, -0.3797+0.j,  0.1082+0.j, -0.0495+0.j, -0.0341+0.j,\n",
      "          0.3865+0.j, -0.0907+0.j, -0.2126+0.j,  0.4483+0.j,  0.3275+0.j, -0.1405+0.j,\n",
      "         -0.2345+0.j,  0.4204+0.j, -0.1014+0.j,  0.1026+0.j,  0.5325+0.j,  0.1984+0.j,\n",
      "          0.1794+0.j,  0.1584+0.j],\n",
      "        [-0.1236+0.j,  0.1686+0.j, -0.0940+0.j,  0.2785+0.j, -0.0013+0.j,  0.2687+0.j,\n",
      "          0.2788+0.j, -0.0999+0.j,  0.1884+0.j, -0.3399+0.j,  0.4946+0.j, -0.1906+0.j,\n",
      "         -0.2416+0.j,  0.2449+0.j,  0.0124+0.j,  0.2293+0.j,  0.0988+0.j, -0.1417+0.j,\n",
      "          0.3966+0.j,  0.0362+0.j],\n",
      "        [-0.4068+0.j,  0.5760+0.j,  0.0088+0.j, -0.1434+0.j, -0.1022+0.j, -0.0722+0.j,\n",
      "         -0.3548+0.j, -0.1014+0.j,  0.1985+0.j,  0.0973+0.j,  0.3924+0.j,  0.4156+0.j,\n",
      "          0.1141+0.j, -0.1637+0.j,  0.0463+0.j,  0.2766+0.j,  0.2528+0.j, -0.1412+0.j,\n",
      "         -0.1335+0.j, -0.2679+0.j],\n",
      "        [ 0.3904+0.j,  0.0484+0.j, -0.1262+0.j, -0.0326+0.j,  0.1615+0.j, -0.1458+0.j,\n",
      "          0.3066+0.j,  0.0954+0.j, -0.0405+0.j,  0.1087+0.j, -0.1753+0.j,  0.1232+0.j,\n",
      "         -0.1417+0.j,  0.1031+0.j,  0.0693+0.j, -0.1479+0.j, -0.2683+0.j, -0.2880+0.j,\n",
      "          0.2505+0.j, -0.1143+0.j],\n",
      "        [ 0.1084+0.j, -0.1991+0.j,  0.2315+0.j,  0.2006+0.j,  0.1737+0.j, -0.3076+0.j,\n",
      "          0.0871+0.j, -0.3806+0.j,  0.3141+0.j, -0.0764+0.j, -0.1665+0.j,  0.3238+0.j,\n",
      "         -0.4938+0.j,  0.2261+0.j, -0.3301+0.j,  0.0975+0.j,  0.1976+0.j,  0.2003+0.j,\n",
      "         -0.3332+0.j,  0.2142+0.j],\n",
      "        [ 0.2646+0.j, -0.1053+0.j, -0.3748+0.j, -0.4718+0.j, -0.3084+0.j, -0.0163+0.j,\n",
      "          0.3594+0.j, -0.2728+0.j, -0.3678+0.j,  0.0043+0.j, -0.0788+0.j, -0.1322+0.j,\n",
      "          0.0143+0.j, -0.1930+0.j, -0.4222+0.j,  0.3301+0.j,  0.3315+0.j,  0.0085+0.j,\n",
      "          0.0090+0.j, -0.2110+0.j],\n",
      "        [-0.0845+0.j, -0.1834+0.j, -0.2831+0.j, -0.3207+0.j,  0.0471+0.j,  0.0599+0.j,\n",
      "         -0.1084+0.j, -0.0167+0.j,  0.2797+0.j,  0.0849+0.j,  0.1214+0.j,  0.0605+0.j,\n",
      "          0.4038+0.j, -0.1283+0.j,  0.3364+0.j,  0.2411+0.j,  0.1422+0.j, -0.1020+0.j,\n",
      "         -0.5071+0.j, -0.1798+0.j],\n",
      "        [ 0.1154+0.j, -0.0694+0.j, -0.5379+0.j,  0.0167+0.j,  0.2588+0.j,  0.1472+0.j,\n",
      "          0.0471+0.j,  0.1695+0.j, -0.0152+0.j,  0.0434+0.j, -0.0694+0.j, -0.1266+0.j,\n",
      "          0.0391+0.j,  0.0934+0.j,  0.3396+0.j, -0.1599+0.j, -0.0439+0.j, -0.1566+0.j,\n",
      "          0.1155+0.j,  0.1773+0.j],\n",
      "        [-0.2709+0.j,  0.1529+0.j,  0.0076+0.j,  0.3751+0.j,  0.3780+0.j,  0.1381+0.j,\n",
      "         -0.3599+0.j, -0.3169+0.j,  0.2466+0.j, -0.2044+0.j, -0.1954+0.j,  0.3877+0.j,\n",
      "          0.4244+0.j,  0.1446+0.j,  0.0651+0.j,  0.3894+0.j,  0.0270+0.j, -0.2013+0.j,\n",
      "         -0.1566+0.j,  0.2870+0.j],\n",
      "        [-0.0463+0.j, -0.1102+0.j, -0.1437+0.j,  0.0965+0.j, -0.2905+0.j, -0.0715+0.j,\n",
      "         -0.0153+0.j, -0.1501+0.j,  0.0260+0.j,  0.0817+0.j, -0.2278+0.j, -0.1640+0.j,\n",
      "          0.0205+0.j,  0.3886+0.j,  0.1712+0.j,  0.0877+0.j, -0.3556+0.j, -0.0959+0.j,\n",
      "         -0.4003+0.j, -0.0169+0.j],\n",
      "        [-0.2485+0.j, -0.0589+0.j,  0.0683+0.j, -0.0924+0.j, -0.2065+0.j, -0.1524+0.j,\n",
      "         -0.0306+0.j, -0.2232+0.j, -0.2091+0.j, -0.1765+0.j, -0.3327+0.j, -0.2804+0.j,\n",
      "         -0.0336+0.j,  0.3840+0.j, -0.0038+0.j, -0.3064+0.j, -0.2323+0.j, -0.2718+0.j,\n",
      "          0.0067+0.j, -0.1221+0.j],\n",
      "        [-0.4052+0.j,  0.0059+0.j, -0.0256+0.j,  0.2495+0.j,  0.2070+0.j,  0.3730+0.j,\n",
      "          0.0632+0.j,  0.0230+0.j,  0.1455+0.j,  0.2514+0.j,  0.2218+0.j, -0.2612+0.j,\n",
      "         -0.3285+0.j,  0.1205+0.j,  0.0640+0.j, -0.1706+0.j,  0.1318+0.j,  0.3329+0.j,\n",
      "          0.1730+0.j,  0.4233+0.j],\n",
      "        [ 0.3852+0.j,  0.3097+0.j, -0.0379+0.j,  0.0089+0.j,  0.1842+0.j, -0.2818+0.j,\n",
      "          0.0263+0.j, -0.0456+0.j, -0.1323+0.j, -0.5569+0.j,  0.2860+0.j,  0.0277+0.j,\n",
      "         -0.0735+0.j,  0.0563+0.j,  0.3001+0.j, -0.0329+0.j,  0.0487+0.j, -0.0646+0.j,\n",
      "          0.0081+0.j,  0.3272+0.j]])\n"
     ]
    }
   ],
   "execution_count": 56
  },
  {
   "cell_type": "markdown",
   "source": [
    "###Zadanie 3: Porównanie czasów wykonywania operacji na CPU i GPU\n",
    "Napisz kod który wyświetli wykres liniowy przedstawiający zależność czasu mnożenia dwóch macierzy kwadratowych $n \\times n$ od ich rozmiaru $n$ dla działań wykonanych na CPU i na GPU.\n",
    "Mierząc czas wykonania operacji na GPU pamiętaj aby przed rozpocząciem i przed zakończeniem pomiaru czasu wywołać polecenie `torch.cuda.synchronize()` które czeka na zakończenie obliczeń na GPU.\n",
    "\n",
    "\n",
    "```\n",
    "torch.cuda.synchronize()\n",
    "start_time = time.time()\n",
    "...\n",
    "...\n",
    "torch.cuda.synchronize()\n",
    "end_time = time.time()\n",
    "```\n",
    "\n"
   ],
   "metadata": {
    "id": "1ZiCYz7upKol"
   }
  },
  {
   "metadata": {},
   "cell_type": "markdown",
   "source": "Może uda zrobić się wszystko w jednej pętli a potem wystarczy tylko wyświetlić wykresy"
  },
  {
   "metadata": {
    "ExecuteTime": {
     "end_time": "2025-03-17T20:33:12.091824Z",
     "start_time": "2025-03-17T20:33:12.088898Z"
    }
   },
   "cell_type": "code",
   "source": "import time",
   "outputs": [],
   "execution_count": 3
  },
  {
   "cell_type": "code",
   "source": [
    "gpu_times = []\n",
    "cpu_times = []\n",
    "N = 3000\n",
    "for n in range(1, N):\n",
    "    gpu_matrix = torch.rand(size=(n,n), device='cuda')\n",
    "    cpu_matrix = torch.rand(size=(n,n), device='cpu')\n",
    "\n",
    "    torch.cuda.synchronize()\n",
    "    start_time = time.time()\n",
    "    gpu_matrix@gpu_matrix\n",
    "    end_time = time.time()\n",
    "    torch.cuda.synchronize()\n",
    "    gpu_times.append(end_time-start_time)\n",
    "\n",
    "    start_time = time.time()\n",
    "    cpu_matrix@cpu_matrix\n",
    "    end_time = time.time()\n",
    "    cpu_times.append(end_time-start_time)"
   ],
   "metadata": {
    "id": "CladxlEPwW6_",
    "ExecuteTime": {
     "end_time": "2025-03-17T20:48:12.590531Z",
     "start_time": "2025-03-17T20:44:59.442570Z"
    }
   },
   "outputs": [],
   "execution_count": 16
  },
  {
   "metadata": {
    "ExecuteTime": {
     "end_time": "2025-03-17T21:05:29.799650Z",
     "start_time": "2025-03-17T21:05:29.723349Z"
    }
   },
   "cell_type": "code",
   "source": [
    "import matplotlib.pyplot as plt\n",
    "plt.plot(range(1, N), cpu_times, label=\"cpu measurements\", color='b')\n",
    "plt.plot(range(1, N), gpu_times, label=\"gpu measurements\", color='r')\n",
    "plt.legend()\n",
    "plt.show()"
   ],
   "outputs": [
    {
     "data": {
      "text/plain": [
       "<Figure size 640x480 with 1 Axes>"
      ],
      "image/png": "[encoded data removed]"
     },
     "metadata": {},
     "output_type": "display_data"
    }
   ],
   "execution_count": 17
  },
  {
   "cell_type": "markdown",
   "source": [
    "###Zadanie 4 (opcjonalne): Konwencja sumacyjna Einsteina\n",
    "Zapisz podane operacje korzystając z konwencji sumacyjnej Einsteina."
   ],
   "metadata": {
    "id": "oFKICGrJd1XM"
   }
  },
  {
   "cell_type": "markdown",
   "source": [
    "Wyznacz ślad (suma elementów na przekątnej) macierzy `M`."
   ],
   "metadata": {
    "id": "_D4371MId7-H"
   }
  },
  {
   "cell_type": "code",
   "source": [
    "M = torch.tensor([[1, 2, 3],\n",
    "                  [4, 5, 6],\n",
    "                  [7, 8, 9]])"
   ],
   "metadata": {
    "id": "Eewqv3gtd8FX",
    "ExecuteTime": {
     "end_time": "2025-03-21T07:24:18.672869Z",
     "start_time": "2025-03-21T07:24:18.657826Z"
    }
   },
   "outputs": [],
   "execution_count": 4
  },
  {
   "metadata": {},
   "cell_type": "markdown",
   "source": "Powinno dać się to zrobić iloczynem skalarnym z macierzą diagonalną"
  },
  {
   "metadata": {
    "ExecuteTime": {
     "end_time": "2025-03-21T07:39:40.512295Z",
     "start_time": "2025-03-21T07:39:40.508028Z"
    }
   },
   "cell_type": "code",
   "source": "diagonal = torch.diag(torch.from_numpy(np.ones(shape=3))).long()",
   "outputs": [],
   "execution_count": 34
  },
  {
   "cell_type": "code",
   "source": [
    "sum = torch.einsum('ij,ij->', M, diagonal)\n",
    "print(f'{sum=}')"
   ],
   "metadata": {
    "id": "AJ7QIfKWKNts",
    "ExecuteTime": {
     "end_time": "2025-03-21T07:40:11.238248Z",
     "start_time": "2025-03-21T07:40:11.233182Z"
    }
   },
   "outputs": [
    {
     "name": "stdout",
     "output_type": "stream",
     "text": [
      "sum=tensor(15)\n"
     ]
    }
   ],
   "execution_count": 38
  },
  {
   "metadata": {},
   "cell_type": "markdown",
   "source": ""
  },
  {
   "cell_type": "code",
   "source": [
    "#Oczekiwany wynik: 15"
   ],
   "metadata": {
    "id": "CEfDengsfomr"
   },
   "execution_count": null,
   "outputs": []
  },
  {
   "cell_type": "markdown",
   "source": [
    "Wyznacz wartość formy biliniowej\n",
    "$z = \\mathbf{x}^T \\mathbf{A} \\mathbf{y}$"
   ],
   "metadata": {
    "id": "9fyhGSPne3Ae"
   }
  },
  {
   "cell_type": "code",
   "source": [
    "x = torch.tensor([1, 2])\n",
    "A = torch.tensor([[3, 4], [5, 6]])\n",
    "y = torch.tensor([7, 8])"
   ],
   "metadata": {
    "id": "CX02eLR7e3IX",
    "ExecuteTime": {
     "end_time": "2025-03-21T07:44:20.011543Z",
     "start_time": "2025-03-21T07:44:20.007676Z"
    }
   },
   "outputs": [],
   "execution_count": 39
  },
  {
   "cell_type": "code",
   "source": [
    "result = torch.einsum('i,ij,j->', x.t(), A, y)\n",
    "print(f'{result=}')"
   ],
   "metadata": {
    "id": "nqqlP0gyKORl",
    "ExecuteTime": {
     "end_time": "2025-03-21T07:48:49.152534Z",
     "start_time": "2025-03-21T07:48:49.146644Z"
    }
   },
   "outputs": [
    {
     "name": "stdout",
     "output_type": "stream",
     "text": [
      "result=tensor(219)\n"
     ]
    }
   ],
   "execution_count": 50
  },
  {
   "cell_type": "code",
   "source": [
    "#Oczekiwany wynik 219"
   ],
   "metadata": {
    "id": "JNN1hde6fssT"
   },
   "execution_count": null,
   "outputs": []
  },
  {
   "cell_type": "markdown",
   "source": [
    "Wyznacz ważoną sumę wektorów wierszowych macierzy `V` z wagami w wektorze `w`.\n",
    "$$\\mathbf{z}_j = \\sum_i \\mathbf{w}_i \\mathbf{V}_{ij}$$\n",
    "\n",
    "\n"
   ],
   "metadata": {
    "id": "U7Ewnpqqg1fU"
   }
  },
  {
   "cell_type": "code",
   "source": [
    "w = torch.tensor([0.2, 0.3, 0.5])\n",
    "V = torch.tensor([[1, 2], [3, 4], [5, 6]], dtype=torch.float32)  # Shape: [3, 2]"
   ],
   "metadata": {
    "id": "QJmoyrWRg1nX",
    "ExecuteTime": {
     "end_time": "2025-03-21T07:50:12.424971Z",
     "start_time": "2025-03-21T07:50:12.418756Z"
    }
   },
   "outputs": [],
   "execution_count": 51
  },
  {
   "cell_type": "code",
   "source": "torch.einsum('i,ij->j', w, V)",
   "metadata": {
    "id": "s2nlvDLxKO34",
    "ExecuteTime": {
     "end_time": "2025-03-21T07:50:13.187202Z",
     "start_time": "2025-03-21T07:50:13.180102Z"
    }
   },
   "outputs": [
    {
     "data": {
      "text/plain": [
       "tensor([3.6000, 4.6000])"
      ]
     },
     "execution_count": 52,
     "metadata": {},
     "output_type": "execute_result"
    }
   ],
   "execution_count": 52
  },
  {
   "cell_type": "code",
   "source": [
    "#Oczekiwany wynik [3.6000, 4.6000]"
   ],
   "metadata": {
    "id": "WiGY50BAhng2"
   },
   "execution_count": null,
   "outputs": []
  },
  {
   "cell_type": "markdown",
   "source": [
    "Dla trójwymiarowej macierzy `A` wyznacz sumę elementów po drugiej i trzeciej współrzędnej:\n",
    "$$\\mathbf{z}_i = \\sum_{j,k} \\mathbf{A}_{ijk}$$"
   ],
   "metadata": {
    "id": "W8TwJXwRj9Pp"
   }
  },
  {
   "cell_type": "code",
   "source": [
    "A = torch.tensor(\n",
    "    [[[1, 2], [3, 4], [5, 6]],\n",
    "     [[2, 5], [1, 7], [1, 3]]]\n",
    "    )\n",
    "print(A.shape)"
   ],
   "metadata": {
    "id": "meuvkus-j9g3",
    "ExecuteTime": {
     "end_time": "2025-03-21T07:55:10.126877Z",
     "start_time": "2025-03-21T07:55:10.122470Z"
    }
   },
   "outputs": [
    {
     "name": "stdout",
     "output_type": "stream",
     "text": [
      "torch.Size([2, 3, 2])\n"
     ]
    }
   ],
   "execution_count": 55
  },
  {
   "cell_type": "code",
   "source": "torch.einsum('ijk,ijk->i', A, torch.ones_like(A))",
   "metadata": {
    "id": "-M1ZxOveKPkP",
    "ExecuteTime": {
     "end_time": "2025-03-21T07:55:11.672422Z",
     "start_time": "2025-03-21T07:55:11.666009Z"
    }
   },
   "outputs": [
    {
     "data": {
      "text/plain": [
       "tensor([21, 19])"
      ]
     },
     "execution_count": 56,
     "metadata": {},
     "output_type": "execute_result"
    }
   ],
   "execution_count": 56
  },
  {
   "cell_type": "code",
   "source": [
    "#Oczekiwany wynik: [21, 19]"
   ],
   "metadata": {
    "id": "B8iumeAUlGIH"
   },
   "execution_count": null,
   "outputs": []
  }
 ],
 "metadata": {
  "accelerator": "GPU",
  "colab": {
   "gpuType": "T4",
   "toc_visible": true,
   "provenance": []
  },
  "kernelspec": {
   "display_name": "Python 3 (ipykernel)",
   "name": "python3",
   "language": "python"
  },
  "language_info": {
   "name": "python"
  }
 },
 "nbformat": 4,
 "nbformat_minor": 0
}
