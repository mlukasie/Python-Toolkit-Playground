{
 "cells": [
  {
   "cell_type": "code",
   "id": "initial_id",
   "metadata": {
    "collapsed": true,
    "ExecuteTime": {
     "end_time": "2025-03-24T03:43:58.936287Z",
     "start_time": "2025-03-24T03:43:58.931587Z"
    }
   },
   "source": "import numpy as np",
   "outputs": [],
   "execution_count": 53
  },
  {
   "metadata": {
    "ExecuteTime": {
     "end_time": "2025-03-24T03:44:00.090531Z",
     "start_time": "2025-03-24T03:44:00.086941Z"
    }
   },
   "cell_type": "code",
   "source": [
    "# Inicjalizacja warstwy\n",
    "N_INPUT = 8\n",
    "N_OUTPUT = 1\n",
    "\n",
    "layer = np.random.rand(N_INPUT, N_OUTPUT)\n",
    "print(layer)"
   ],
   "id": "6731b756ef225f9e",
   "outputs": [
    {
     "name": "stdout",
     "output_type": "stream",
     "text": [
      "[[0.39703466]\n",
      " [0.06877999]\n",
      " [0.16762121]\n",
      " [0.04134972]\n",
      " [0.91464384]\n",
      " [0.19753499]\n",
      " [0.47004619]\n",
      " [0.04490793]]\n"
     ]
    }
   ],
   "execution_count": 54
  },
  {
   "metadata": {},
   "cell_type": "markdown",
   "source": "## Forward propagation",
   "id": "f532613e96243c3b"
  },
  {
   "metadata": {
    "ExecuteTime": {
     "end_time": "2025-03-24T03:44:04.213570Z",
     "start_time": "2025-03-24T03:44:04.206894Z"
    }
   },
   "cell_type": "code",
   "source": [
    "# 8 argumentów\n",
    "X = np.ones((1,8))\n",
    "\n",
    "# Załóżmy, że docelową wartość będzie osiągana poprzez zsumowanie wszystkich argumentów - wszystkie wagi powinny zbiegać do jedynki (w teorii)\n",
    "\n",
    "# Prawidłowy wynik\n",
    "Y = np.sum(X)\n",
    "print(f'{Y=}')\n",
    "\n",
    "# To co narazie zwraca 'model'\n",
    "y_pred = X @ layer\n",
    "print(f'{y_pred=}')"
   ],
   "id": "65bdf446457a8056",
   "outputs": [
    {
     "name": "stdout",
     "output_type": "stream",
     "text": [
      "Y=np.float64(8.0)\n",
      "y_pred=array([[2.30191852]])\n"
     ]
    }
   ],
   "execution_count": 55
  },
  {
   "metadata": {},
   "cell_type": "markdown",
   "source": "## Backward propagation",
   "id": "7722c8c6ac2ed37f"
  },
  {
   "metadata": {
    "ExecuteTime": {
     "end_time": "2025-03-24T03:44:06.028846Z",
     "start_time": "2025-03-24T03:44:06.024310Z"
    }
   },
   "cell_type": "code",
   "source": [
    "# Obliczamy błąd na wyniku - użyję błędu kwadratowego\n",
    "loss = (Y-y_pred)**2\n",
    "print(f'{loss=}')"
   ],
   "id": "92a61f022726e819",
   "outputs": [
    {
     "name": "stdout",
     "output_type": "stream",
     "text": [
      "loss=array([[32.46813252]])\n"
     ]
    }
   ],
   "execution_count": 56
  },
  {
   "metadata": {
    "ExecuteTime": {
     "end_time": "2025-03-24T03:44:10.366980Z",
     "start_time": "2025-03-24T03:44:10.361916Z"
    }
   },
   "cell_type": "code",
   "source": [
    "# Ze wzorków z pochodnymi wynika że pochodna błędu względem wag (dE/dW) to pochodna błędu względem wyniku * pochodna wyniku względem wag (dE/dypred) * (dypred/dW) - musimy obliczyć te rzeczy\n",
    "\n",
    "# Pochodna błędu względem wyniku\n",
    "dE_dypred = 2 * (y_pred - Y)\n",
    "print(f'{dE_dypred=}')\n",
    "\n",
    "# Pochodna wyniku względem wag to będą po prostu nasze argumenty, bo ypred = X @ W, a więc\n",
    "dypred_dW = X\n",
    "\n",
    "# Pochodna błędu względem wag\n",
    "dE_dW = dE_dypred @ dypred_dW\n",
    "print(f'{dE_dW=}')\n"
   ],
   "id": "23974eb8d74bcb4d",
   "outputs": [
    {
     "name": "stdout",
     "output_type": "stream",
     "text": [
      "dE_dypred=array([[-11.39616295]])\n",
      "dE_dW=array([[-11.39616295, -11.39616295, -11.39616295, -11.39616295,\n",
      "        -11.39616295, -11.39616295, -11.39616295, -11.39616295]])\n"
     ]
    }
   ],
   "execution_count": 58
  },
  {
   "metadata": {},
   "cell_type": "markdown",
   "source": "## Aktualizacja wag",
   "id": "1e536dc9c156fb6"
  },
  {
   "metadata": {
    "ExecuteTime": {
     "end_time": "2025-03-24T03:44:12.270548Z",
     "start_time": "2025-03-24T03:44:12.266477Z"
    }
   },
   "cell_type": "code",
   "source": [
    "LR = 0.01\n",
    "layer_before = layer\n",
    "layer_after = layer - dE_dW.T * LR\n",
    "print(f'{layer_before=}')\n",
    "print(f'{layer_after=}')"
   ],
   "id": "709c4e9b09f520de",
   "outputs": [
    {
     "name": "stdout",
     "output_type": "stream",
     "text": [
      "layer_before=array([[0.39703466],\n",
      "       [0.06877999],\n",
      "       [0.16762121],\n",
      "       [0.04134972],\n",
      "       [0.91464384],\n",
      "       [0.19753499],\n",
      "       [0.47004619],\n",
      "       [0.04490793]])\n",
      "layer_after=array([[0.51099628],\n",
      "       [0.18274162],\n",
      "       [0.28158284],\n",
      "       [0.15531135],\n",
      "       [1.02860547],\n",
      "       [0.31149662],\n",
      "       [0.58400782],\n",
      "       [0.15886956]])\n"
     ]
    }
   ],
   "execution_count": 59
  },
  {
   "metadata": {},
   "cell_type": "markdown",
   "source": "Jak widać wszystkie wagi poszły w górę. Mamy działający krok algorytmu gradient descent napisany od zera.",
   "id": "6537341e18cacd10"
  },
  {
   "metadata": {},
   "cell_type": "markdown",
   "source": [
    "## Testowanie na pętli\n",
    "Skopiowałem napisany wcześniej kod i umieściłem go w pętli tak żeby zobaczyć jak algorytm poradzi sobie z problemem"
   ],
   "id": "7e98e64f9d17cfe8"
  },
  {
   "metadata": {
    "ExecuteTime": {
     "end_time": "2025-03-24T03:39:33.395060Z",
     "start_time": "2025-03-24T03:39:33.215396Z"
    }
   },
   "cell_type": "code",
   "source": [
    "N_INPUT = 100\n",
    "N_OUTPUT = 1\n",
    "LR = 0.001\n",
    "\n",
    "layer = np.random.rand(N_INPUT, N_OUTPUT)\n",
    "for _ in range(20000):\n",
    "    X = np.random.rand(N_OUTPUT, N_INPUT)\n",
    "    Y = np.sum(X)\n",
    "    y_pred = X @ layer\n",
    "\n",
    "    loss = (Y-y_pred)**2\n",
    "    dE_dypred = 2 * (y_pred - Y)\n",
    "    dypred_dW = X\n",
    "    dE_dW = dE_dypred @ dypred_dW\n",
    "    layer -= dE_dW.T * LR\n",
    "print({f'{layer=}'})"
   ],
   "id": "bf8d619eff1e980f",
   "outputs": [
    {
     "name": "stdout",
     "output_type": "stream",
     "text": [
      "{'layer=array([[1.00919003],\\n       [0.97995727],\\n       [1.01866486],\\n       [0.99400444],\\n       [1.00221771],\\n       [0.98346893],\\n       [1.00290204],\\n       [1.00294124],\\n       [0.98939427],\\n       [0.97991549],\\n       [0.99162117],\\n       [1.00780106],\\n       [0.99078422],\\n       [0.99099447],\\n       [0.98925082],\\n       [1.0142617 ],\\n       [0.99180521],\\n       [0.97934956],\\n       [1.014353  ],\\n       [1.01600773],\\n       [0.99937414],\\n       [1.01450357],\\n       [1.01065511],\\n       [1.01317909],\\n       [1.00493546],\\n       [1.01076342],\\n       [0.98970111],\\n       [1.01341242],\\n       [1.01575374],\\n       [0.99720109],\\n       [1.01292195],\\n       [1.00696566],\\n       [1.01790074],\\n       [0.98242028],\\n       [1.00878648],\\n       [0.99308585],\\n       [0.9854114 ],\\n       [1.01256757],\\n       [1.01540747],\\n       [1.02000355],\\n       [1.00335613],\\n       [0.99360915],\\n       [0.99833153],\\n       [1.01844325],\\n       [0.9862996 ],\\n       [0.98846597],\\n       [1.00958363],\\n       [0.98059493],\\n       [1.00695078],\\n       [1.01291833],\\n       [0.99050478],\\n       [1.0226973 ],\\n       [1.0223894 ],\\n       [1.01310611],\\n       [0.98429556],\\n       [1.00083934],\\n       [1.00432775],\\n       [0.99696429],\\n       [1.01233225],\\n       [0.99853043],\\n       [1.01378621],\\n       [1.01314329],\\n       [0.98384209],\\n       [1.0070899 ],\\n       [0.98824838],\\n       [0.98157918],\\n       [1.01130525],\\n       [1.00890235],\\n       [1.01997554],\\n       [0.99114506],\\n       [0.98196184],\\n       [0.98263964],\\n       [0.98288953],\\n       [0.98544506],\\n       [0.99124139],\\n       [0.98739336],\\n       [1.01024928],\\n       [0.97945197],\\n       [0.9939026 ],\\n       [0.98415155],\\n       [1.02051553],\\n       [0.98068631],\\n       [1.01438197],\\n       [0.99461429],\\n       [1.01327008],\\n       [0.98913622],\\n       [1.00771776],\\n       [0.99096557],\\n       [0.99501356],\\n       [0.98887785],\\n       [0.99014335],\\n       [0.99932811],\\n       [0.98816945],\\n       [0.98768917],\\n       [1.00741545],\\n       [1.01604388],\\n       [1.00230408],\\n       [0.98891148],\\n       [1.00469187],\\n       [1.00809655]])'}\n"
     ]
    }
   ],
   "execution_count": 52
  },
  {
   "metadata": {},
   "cell_type": "markdown",
   "source": [
    "Wszystkie wagi są równe prawie 1 - sukces\n",
    "W trakcie wykonywania zadania napotkałem na takie typowe problemy - pomyliłem wymiary w macierzach, źle przekazałem argument - nie umieszczałem tych błędów, bo zaśmieciłyby trochę notatnik. W trakcie musiałem także przypomnieć sobie jak liczyło się te wszystkie pochodne."
   ],
   "id": "3fe2a7f317196737"
  }
 ],
 "metadata": {
  "kernelspec": {
   "display_name": "Python 3",
   "language": "python",
   "name": "python3"
  },
  "language_info": {
   "codemirror_mode": {
    "name": "ipython",
    "version": 2
   },
   "file_extension": ".py",
   "mimetype": "text/x-python",
   "name": "python",
   "nbconvert_exporter": "python",
   "pygments_lexer": "ipython2",
   "version": "2.7.6"
  }
 },
 "nbformat": 4,
 "nbformat_minor": 5
}
