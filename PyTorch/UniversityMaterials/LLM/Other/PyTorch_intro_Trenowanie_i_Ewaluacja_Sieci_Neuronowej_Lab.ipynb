{
 "cells": [
  {
   "cell_type": "markdown",
   "source": [
    "#PyTorch Intro - Trenowanie i Ewaluacja Sieci Neuronowej - Lab\n"
   ],
   "metadata": {
    "id": "KD8xISdCAOKI"
   }
  },
  {
   "cell_type": "markdown",
   "source": [
    "#Zadanie\n",
    "\n",
    "Zaadaptuj kod z notatnika *PyTorch Intro - Trenowanie i Ewaluacja Sieci Neuronowej - Wykład* do problemu klasyfikacji liczby gwiazdek dla opinii z serwisu Yelp.\n"
   ],
   "metadata": {
    "id": "jWXHh8FRVHFQ"
   }
  },
  {
   "cell_type": "markdown",
   "source": [
    "* Wykorzystaj zbiór `Yelp/yelp_review_full` ([link](https://huggingface.co/datasets/Yelp/yelp_review_full)) zawierający opinie z serwisu Yelp (kolumna: `text`) i etykietę (kolumna: `label`) o wartościach $0,1,2,3,4$ określającą liczbę gwiazdek przyznaną przez użytkownika (a ściślej, liczbę gwiazdek minus jeden).\n",
    "    * Zgodnie z dobrą praktyką z części treningowej wydziel dodatkową część walidacyjną.\n",
    "    * Ogranicz rozmiar każdej części zbioru danych (treningowej, walidacyjnej i testowej). Część treningowa nie powinna zawierać więcej niż 100k elementów.\n",
    "* Do ekstrakcji cech z tekstu wykorzystaj **metodę TF-IDF** (*term frequency-inverse document frequency*) opartą o podejście typu worek słów (*bag-of-words*). Zastosuj funkcję `TfidfVectorizer` z biblioteki `scikit-learn`.\n",
    "* Wykorzystaj podobną architekturę sieci (perceptron wielowarstwowy z warstwą Dropout) jak w notatniku wykładowym.\n",
    "\n"
   ],
   "metadata": {
    "id": "9-z5reyCUVLN"
   }
  },
  {
   "cell_type": "markdown",
   "source": [],
   "metadata": {
    "id": "EK4MuDmhDuog"
   }
  },
  {
   "cell_type": "markdown",
   "source": [
    "## Punkty do wykonania"
   ],
   "metadata": {
    "id": "GLrfWuO0rgos"
   }
  },
  {
   "cell_type": "markdown",
   "source": [
    "1.   \n",
    "Napisz funkcję znajdującą i wyświetlającą $k$ elementów zbioru testowego dla których model najbardziej się myli, czyli estymuje najmniejsze prawdopodobieństwa prawdziwej klasy. Softmax jest funkcją ściśle rosnącą, więc wystarczy znaleźć elementy z najmniejszą wartością nieznormalizowanego wyjścia z sieci (logita) dla prawdziwej klasy.\n",
    "2.   Zbadaj wpływ wybranych parametrów funkcji ekstrakcji cech z tekstu `TfidfVectorizer` na skuteczność wytrenowanego modelu. Uruchom kilka eksperymentów z różnymi wartościami parametrów i porównaj dokładność wytrenowanego modelu na zbiorze walidacyjnym.\n",
    "3.   Zbadaj wpływ wybranych hiperparametrów modelu (np. liczba warstw liniowych modelu, rozmiary warstw) i procesu uczenia (np. początkowa wartość stopy uczenia, liczba epok, typ i parametry planisty stopy uczenia, typ i parametry optymalizatora) na skuteczność wytrenowanego modelu. Uruchom kilka eksperymentów z różnymi wartościami hiperparametrów i porównaj dokładność wytrenowanego modelu na zbiorze walidacyjnym. Następnie wykonaj finalną ewaluację najlepszego modelu na zbiorze testowym.\n"
   ],
   "metadata": {
    "id": "04B0VM6uIZ64"
   }
  },
  {
   "cell_type": "markdown",
   "source": [
    "##Przygotowanie środowiska\n",
    "Upewnij się, że notatnik jest uruchomiony na maszynie z GPU. Jesli GPU nie jest dostępne zmień typ maszyny (Runtime | Change runtime type) i wybierz T4 GPU."
   ],
   "metadata": {
    "id": "jJZnxX7rDoWP"
   }
  },
  {
   "cell_type": "code",
   "source": [
    "!nvidia-smi"
   ],
   "metadata": {
    "id": "Wug8WJs7LQPe",
    "colab": {
     "base_uri": "https://localhost:8080/"
    },
    "outputId": "e976205b-d0b9-4a5e-b855-5d629c882ddd",
    "ExecuteTime": {
     "end_time": "2025-03-20T10:36:33.276383Z",
     "start_time": "2025-03-20T10:36:33.051199Z"
    }
   },
   "outputs": [
    {
     "name": "stdout",
     "output_type": "stream",
     "text": [
      "Thu Mar 20 11:36:33 2025       \n",
      "+-----------------------------------------------------------------------------------------+\n",
      "| NVIDIA-SMI 571.96                 Driver Version: 571.96         CUDA Version: 12.8     |\n",
      "|-----------------------------------------+------------------------+----------------------+\n",
      "| GPU  Name                  Driver-Model | Bus-Id          Disp.A | Volatile Uncorr. ECC |\n",
      "| Fan  Temp   Perf          Pwr:Usage/Cap |           Memory-Usage | GPU-Util  Compute M. |\n",
      "|                                         |                        |               MIG M. |\n",
      "|=========================================+========================+======================|\n",
      "|   0  NVIDIA GeForce RTX 4060 ...  WDDM  |   00000000:01:00.0 Off |                  N/A |\n",
      "| N/A   51C    P8              5W /   65W |       1MiB /   8188MiB |      0%      Default |\n",
      "|                                         |                        |                  N/A |\n",
      "+-----------------------------------------+------------------------+----------------------+\n",
      "                                                                                         \n",
      "+-----------------------------------------------------------------------------------------+\n",
      "| Processes:                                                                              |\n",
      "|  GPU   GI   CI              PID   Type   Process name                        GPU Memory |\n",
      "|        ID   ID                                                               Usage      |\n",
      "|=========================================================================================|\n",
      "|  No running processes found                                                             |\n",
      "+-----------------------------------------------------------------------------------------+\n"
     ]
    }
   ],
   "execution_count": 1
  },
  {
   "cell_type": "markdown",
   "source": [
    "Instalacja dodatkowych bibliotek: datasets (z biblioteki HuggingFace), TorchMetrics i W&B (Weights and Biases) Models."
   ],
   "metadata": {
    "id": "QmhzFKNXUmDa"
   }
  },
  {
   "cell_type": "code",
   "source": [
    "!pip install -q datasets\n",
    "!pip install -q torchmetrics\n"
   ],
   "metadata": {
    "id": "kuEVGjrJSt5h",
    "ExecuteTime": {
     "end_time": "2025-03-20T10:36:37.413404Z",
     "start_time": "2025-03-20T10:36:33.289201Z"
    }
   },
   "outputs": [
    {
     "name": "stderr",
     "output_type": "stream",
     "text": [
      "\n",
      "[notice] A new release of pip is available: 23.2.1 -> 25.0.1\n",
      "[notice] To update, run: python.exe -m pip install --upgrade pip\n",
      "\n",
      "[notice] A new release of pip is available: 23.2.1 -> 25.0.1\n",
      "[notice] To update, run: python.exe -m pip install --upgrade pip\n"
     ]
    }
   ],
   "execution_count": 2
  },
  {
   "cell_type": "markdown",
   "source": [
    "Import bibliotek."
   ],
   "metadata": {
    "id": "yz1EcTToUUIx"
   }
  },
  {
   "cell_type": "code",
   "source": [
    "import torch\n",
    "import numpy as np\n",
    "import matplotlib.pyplot as plt\n",
    "\n",
    "print(f\"Wersja biblioteki PyTorch: {torch.__version__}\")"
   ],
   "metadata": {
    "id": "zdGVyE77UU7l",
    "colab": {
     "base_uri": "https://localhost:8080/"
    },
    "outputId": "95872521-830b-4d7a-f732-e7688cee09b4",
    "ExecuteTime": {
     "end_time": "2025-03-20T10:36:40.699310Z",
     "start_time": "2025-03-20T10:36:37.565018Z"
    }
   },
   "outputs": [
    {
     "name": "stdout",
     "output_type": "stream",
     "text": [
      "Wersja biblioteki PyTorch: 2.6.0+cu126\n"
     ]
    }
   ],
   "execution_count": 3
  },
  {
   "cell_type": "markdown",
   "source": [
    "Sprawdzenie dostępności GPU."
   ],
   "metadata": {
    "id": "Jzr77SCyIZmZ"
   }
  },
  {
   "cell_type": "code",
   "source": [
    "print(f\"Dostępność GPU: {torch.cuda.is_available()}\")\n",
    "print(f\"Typ GPU: {torch.cuda.get_device_name(0)}\")"
   ],
   "metadata": {
    "id": "7ZMytRxqU_6d",
    "colab": {
     "base_uri": "https://localhost:8080/"
    },
    "outputId": "ad644acf-f856-4e12-e6f1-a7615a2d3e6f",
    "ExecuteTime": {
     "end_time": "2025-03-20T10:36:40.764316Z",
     "start_time": "2025-03-20T10:36:40.709309Z"
    }
   },
   "outputs": [
    {
     "name": "stdout",
     "output_type": "stream",
     "text": [
      "Dostępność GPU: True\n",
      "Typ GPU: NVIDIA GeForce RTX 4060 Laptop GPU\n"
     ]
    }
   ],
   "execution_count": 4
  },
  {
   "cell_type": "markdown",
   "source": [],
   "metadata": {
    "id": "oANcfdIYW-P3"
   }
  },
  {
   "cell_type": "code",
   "source": [
    "from datasets import load_dataset\n",
    "\n",
    "# Load the dataset\n",
    "dataset = load_dataset(\"Yelp/yelp_review_full\")\n",
    "print(dataset)\n",
    "\n",
    "test_dataset = dataset[\"test\"]\n",
    "\n",
    "# Wydziel część walidacyjną ze zbioru treningowego\n",
    "split_dataset = dataset[\"train\"].train_test_split(test_size=0.2)  # 80% train, 20% validation\n",
    "train_dataset = split_dataset[\"train\"]\n",
    "val_dataset = split_dataset[\"test\"]\n",
    "\n",
    "# Utwórz mniejsze podzbiory treningowe, walidacyjne i testowe\n",
    "train_dataset = train_dataset.shuffle().select(range(int(len(train_dataset) * .15)))\n",
    "val_dataset = val_dataset.shuffle().select(range(int(len(val_dataset) * .1)))\n",
    "test_dataset = test_dataset.shuffle().select(range(int(len(test_dataset) * .4)))\n",
    "\n",
    "print(f\"Liczba próbek w zbiorze treningowym: {len(train_dataset)}\")\n",
    "print(f\"Liczba próbek w zbiorze walidacyjnym: {len(val_dataset)}\")\n",
    "print(f\"Liczba próbek w zbiorze testowym: {len(test_dataset)}\")"
   ],
   "metadata": {
    "id": "9Xfy2mWEW-Vi",
    "colab": {
     "base_uri": "https://localhost:8080/"
    },
    "outputId": "e7a9a435-7aa4-48de-db26-c7046822b81e",
    "ExecuteTime": {
     "end_time": "2025-03-20T10:42:16.553745Z",
     "start_time": "2025-03-20T10:36:40.772849Z"
    }
   },
   "outputs": [
    {
     "name": "stderr",
     "output_type": "stream",
     "text": [
      "C:\\Users\\mateu\\Documents\\GitHub\\Python-Toolkit-Playground\\.venv\\Lib\\site-packages\\tqdm\\auto.py:21: TqdmWarning: IProgress not found. Please update jupyter and ipywidgets. See https://ipywidgets.readthedocs.io/en/stable/user_install.html\n",
      "  from .autonotebook import tqdm as notebook_tqdm\n",
      "C:\\Users\\mateu\\Documents\\GitHub\\Python-Toolkit-Playground\\.venv\\Lib\\site-packages\\huggingface_hub\\file_download.py:142: UserWarning: `huggingface_hub` cache-system uses symlinks by default to efficiently store duplicated files but your machine does not support them in C:\\Users\\mateu\\.cache\\huggingface\\hub\\datasets--Yelp--yelp_review_full. Caching files will still work but in a degraded version that might require more space on your disk. This warning can be disabled by setting the `HF_HUB_DISABLE_SYMLINKS_WARNING` environment variable. For more details, see https://huggingface.co/docs/huggingface_hub/how-to-cache#limitations.\n",
      "To support symlinks on Windows, you either need to activate Developer Mode or to run Python as an administrator. In order to activate developer mode, see this article: https://docs.microsoft.com/en-us/windows/apps/get-started/enable-your-device-for-development\n",
      "  warnings.warn(message)\n",
      "Generating train split: 100%|██████████| 650000/650000 [00:00<00:00, 837031.44 examples/s]\n",
      "Generating test split: 100%|██████████| 50000/50000 [00:00<00:00, 718867.45 examples/s]\n"
     ]
    },
    {
     "name": "stdout",
     "output_type": "stream",
     "text": [
      "DatasetDict({\n",
      "    train: Dataset({\n",
      "        features: ['label', 'text'],\n",
      "        num_rows: 650000\n",
      "    })\n",
      "    test: Dataset({\n",
      "        features: ['label', 'text'],\n",
      "        num_rows: 50000\n",
      "    })\n",
      "})\n",
      "Liczba próbek w zbiorze treningowym: 78000\n",
      "Liczba próbek w zbiorze walidacyjnym: 13000\n",
      "Liczba próbek w zbiorze testowym: 20000\n"
     ]
    }
   ],
   "execution_count": 5
  },
  {
   "cell_type": "code",
   "source": [
    "sample = train_dataset[123]\n",
    "print(f\"\\nPrzykładowy element ze zbioru danych:\")\n",
    "print(f\"{sample['text']=}\")\n",
    "print(f\"{sample['label']=}\")"
   ],
   "metadata": {
    "id": "mqDLYFafW9yC",
    "colab": {
     "base_uri": "https://localhost:8080/"
    },
    "outputId": "0c55b98f-d021-4a63-ba8f-f9fe3f1d1394",
    "ExecuteTime": {
     "end_time": "2025-03-20T10:42:16.586286Z",
     "start_time": "2025-03-20T10:42:16.578143Z"
    }
   },
   "outputs": [
    {
     "name": "stdout",
     "output_type": "stream",
     "text": [
      "\n",
      "Przykładowy element ze zbioru danych:\n",
      "sample['text']='Watch out for the upsell at this \\\\\"joint\\\\\".  Also they will tack on a junk \\\\\"service charge\\\\\" fee of $20 for \\\\\"toner, paper and floor mats\\\\\" - thats the manager\\'s quote.\\\\nWill not use a business that quotes a price for service, then adds a junk fee.  Was called either a \\\\\"shop charge\\\\\" or \\\\\"service charge\\\\\".\\\\nIt\\'s an insult to customers.'\n",
      "sample['label']=0\n"
     ]
    }
   ],
   "execution_count": 6
  },
  {
   "cell_type": "markdown",
   "source": [
    "# Rozwiązanie"
   ],
   "metadata": {
    "id": "sjIAG6sjW8Dw"
   }
  },
  {
   "cell_type": "code",
   "source": [
    "from sklearn.feature_extraction.text import TfidfVectorizer\n",
    "from sklearn.model_selection import train_test_split\n",
    "from sklearn import metrics\n",
    "\n",
    "from tqdm import tqdm"
   ],
   "metadata": {
    "id": "lrMUB2cFaXSg",
    "ExecuteTime": {
     "end_time": "2025-03-20T10:42:17.242102Z",
     "start_time": "2025-03-20T10:42:16.633457Z"
    }
   },
   "outputs": [],
   "execution_count": 7
  },
  {
   "cell_type": "code",
   "source": [
    "from sklearn.feature_extraction.text import TfidfVectorizer\n",
    "\n",
    "def get_tfidf_features(vocab_size, lowercase=True, analyzer='word', ngram_range=(1, 1), stop_words=\"english\"):\n",
    "  vectorizer = TfidfVectorizer(\n",
    "    max_features=vocab_size,    # Ogranicz do max_features najczęściej występujących słów\n",
    "    lowercase=lowercase,             # Przekształć na małe litery\n",
    "    analyzer=analyzer,            # Analiza na poziomie słów (a nie pojedynczych znaków)\n",
    "    ngram_range=ngram_range,         # Unigramy (pojedynczne słowa)\n",
    "    stop_words=stop_words        # Usuń częste słowa w języku angielskim (np. a, the, and)\n",
    "  )\n",
    "\n",
    "  # Ekstrakcja cech\n",
    "  # Na zbiorze treningowym stosujemy funkcję fit_transform() która wyznacza cech i dokonuje ich ekstrakcji\n",
    "  train_tfidf_features = vectorizer.fit_transform(train_dataset[\"text\"])\n",
    "  # Na zbiorze walidacyjnym i testowym stosujemy funkcję transform() które dokonuje ekstrakcji tych samych cech co na zbiorze treningowym\n",
    "  val_tfidf_features = vectorizer.transform(val_dataset[\"text\"])\n",
    "  test_tfidf_features = vectorizer.transform(test_dataset[\"text\"])\n",
    "  feature_names = vectorizer.get_feature_names_out()\n",
    "\n",
    "  return train_tfidf_features, val_tfidf_features, test_tfidf_features, feature_names"
   ],
   "metadata": {
    "id": "fifOwsXEXGvJ",
    "ExecuteTime": {
     "end_time": "2025-03-20T10:42:17.254010Z",
     "start_time": "2025-03-20T10:42:17.248674Z"
    }
   },
   "outputs": [],
   "execution_count": 8
  },
  {
   "cell_type": "code",
   "source": [
    "vocab_size = 10000\n",
    "train_tfidf_features, val_tfidf_features, test_tfidf_features, feature_names = get_tfidf_features(vocab_size)"
   ],
   "metadata": {
    "id": "SWlqRl7x9Q61",
    "ExecuteTime": {
     "end_time": "2025-03-20T10:42:23.838440Z",
     "start_time": "2025-03-20T10:42:17.261773Z"
    }
   },
   "outputs": [],
   "execution_count": 9
  },
  {
   "cell_type": "code",
   "source": [
    "print(f\"Rozmiar macierzy TF-IDF dla zbioru treningowego: {train_tfidf_features.shape}\")\n",
    "print(f\"{train_tfidf_features.dtype=}\\n\")\n",
    "\n",
    "print(f\"Liczba cech: {len(feature_names)}\")\n",
    "print(f\"Przykładowe cechy: {np.random.choice(feature_names, 20)}\\n\")"
   ],
   "metadata": {
    "id": "pXLikULHXGyL",
    "colab": {
     "base_uri": "https://localhost:8080/"
    },
    "outputId": "06a7945f-912d-4844-e17b-51c6931efef7",
    "ExecuteTime": {
     "end_time": "2025-03-20T10:42:23.886705Z",
     "start_time": "2025-03-20T10:42:23.879022Z"
    }
   },
   "outputs": [
    {
     "name": "stdout",
     "output_type": "stream",
     "text": [
      "Rozmiar macierzy TF-IDF dla zbioru treningowego: (78000, 10000)\n",
      "train_tfidf_features.dtype=dtype('float64')\n",
      "\n",
      "Liczba cech: 10000\n",
      "Przykładowe cechy: ['rye' 'marys' 'sleep' 'nhaving' 'chip' 'pipes' 'rates' 'towners' 'munch'\n",
      " 'dread' 'nthey' 'decadent' 'nwaiter' 'mecca' 'george' 'ken' 'icy' 'board'\n",
      " 'djs' 'alterations']\n",
      "\n"
     ]
    }
   ],
   "execution_count": 10
  },
  {
   "cell_type": "code",
   "source": [
    "ndx = 111\n",
    "print(f\"Element zbioru treningowego o indeksie={ndx}\")\n",
    "print(f\"{train_dataset['text'][ndx]=}\\n\")\n",
    "features = train_tfidf_features[ndx]\n",
    "print(f\"Cechy elementu o indeksie={ndx}:\")\n",
    "non_zero_cols = features.nonzero()[1]\n",
    "\n",
    "non_zero_cols = sorted(non_zero_cols)\n",
    "for i in non_zero_cols:\n",
    "    print(f\"Kolumna: {i} ({feature_names[i]})   Waga: {features[0, i]:.5f}\")"
   ],
   "metadata": {
    "colab": {
     "base_uri": "https://localhost:8080/"
    },
    "id": "uAF9KQixVoTz",
    "outputId": "4a590fca-09ee-4c93-e433-89d8abdfb746",
    "ExecuteTime": {
     "end_time": "2025-03-20T10:42:24.491773Z",
     "start_time": "2025-03-20T10:42:23.913007Z"
    }
   },
   "outputs": [
    {
     "name": "stdout",
     "output_type": "stream",
     "text": [
      "Element zbioru treningowego o indeksie=111\n",
      "train_dataset['text'][ndx]=\"I just got back from AZ Hair Company. While I used to frequent the location in Chandler as a teenager, it was my first time at this particular location. Initially, I was really iffy, because I've heard that other locations were not nearly as good, but I really needed a haircut and I needed it at a reasonable price. I had my hair cut for about $20, including gratuity. I had my hair done by Christine and she was a total sweetheart. I'm more than happy with how my hair came out.\"\n",
      "\n",
      "Cechy elementu o indeksie=111:\n",
      "Kolumna: 52 (20)   Waga: 0.10736\n",
      "Kolumna: 723 (az)   Waga: 0.15817\n",
      "Kolumna: 1382 (came)   Waga: 0.08051\n",
      "Kolumna: 1570 (chandler)   Waga: 0.17961\n",
      "Kolumna: 1904 (company)   Waga: 0.13385\n",
      "Kolumna: 2301 (cut)   Waga: 0.12516\n",
      "Kolumna: 3575 (frequent)   Waga: 0.16259\n",
      "Kolumna: 3787 (good)   Waga: 0.05283\n",
      "Kolumna: 3801 (got)   Waga: 0.07413\n",
      "Kolumna: 3842 (gratuity)   Waga: 0.18971\n",
      "Kolumna: 3951 (hair)   Waga: 0.55774\n",
      "Kolumna: 3952 (haircut)   Waga: 0.18526\n",
      "Kolumna: 4000 (happy)   Waga: 0.10322\n",
      "Kolumna: 4055 (heard)   Waga: 0.12651\n",
      "Kolumna: 4304 (iffy)   Waga: 0.22526\n",
      "Kolumna: 4365 (including)   Waga: 0.13612\n",
      "Kolumna: 4426 (initially)   Waga: 0.18061\n",
      "Kolumna: 4660 (just)   Waga: 0.05823\n",
      "Kolumna: 5020 (location)   Waga: 0.19406\n",
      "Kolumna: 5021 (locations)   Waga: 0.15160\n",
      "Kolumna: 5744 (nearly)   Waga: 0.14575\n",
      "Kolumna: 5753 (needed)   Waga: 0.23026\n",
      "Kolumna: 6418 (particular)   Waga: 0.15129\n",
      "Kolumna: 6898 (price)   Waga: 0.09343\n",
      "Kolumna: 7190 (really)   Waga: 0.13404\n",
      "Kolumna: 7193 (reasonable)   Waga: 0.12918\n",
      "Kolumna: 8763 (sweetheart)   Waga: 0.22474\n",
      "Kolumna: 8890 (teenager)   Waga: 0.22805\n",
      "Kolumna: 9047 (time)   Waga: 0.06254\n",
      "Kolumna: 9137 (total)   Waga: 0.13566\n",
      "Kolumna: 9487 (used)   Waga: 0.10640\n",
      "Kolumna: 9534 (ve)   Waga: 0.07587\n"
     ]
    }
   ],
   "execution_count": 11
  },
  {
   "cell_type": "code",
   "source": [
    "# train_tfidf_features jest rzadką macierzą w formacie CSR (compressed sparse row matrix)\n",
    "# Poniższy trik pozwala szybko wyznaczyć liczbę niezerowych elementów w każdym wierszu\n",
    "# .indptr jest N+1 elementową tablicą taką, że indptr[i+1]-indptr[i] jest liczbą niezerowych wartości w i-tym wierszu\n",
    "# Patrz: https://stackoverflow.com/questions/52299420/scipy-csr-matrix-understand-indptr\n",
    "\n",
    "non_zero_counts = np.diff(train_tfidf_features.indptr)\n",
    "print(f\"Średnia liczba niezerowych cech w próbkach: {non_zero_counts.mean():.2f}\")\n",
    "\n",
    "# Plot histogram\n",
    "plt.figure(figsize=(8, 6))\n",
    "plt.hist(non_zero_counts, bins=64)\n",
    "plt.title('Histogram liczby niezerowych cech w próbce')\n",
    "plt.xlabel('Liczba niezerowych cech')\n",
    "plt.ylabel('Liczba próbek')\n",
    "plt.grid(axis='y', linestyle='--', alpha=0.7)"
   ],
   "metadata": {
    "colab": {
     "base_uri": "https://localhost:8080/",
     "height": 583
    },
    "id": "jl90na5BV8YI",
    "outputId": "90c1bd2f-eedc-4fb8-fd65-0d03b4bf6060",
    "ExecuteTime": {
     "end_time": "2025-03-20T10:42:24.688091Z",
     "start_time": "2025-03-20T10:42:24.499140Z"
    }
   },
   "outputs": [
    {
     "name": "stdout",
     "output_type": "stream",
     "text": [
      "Średnia liczba niezerowych cech w próbkach: 47.97\n"
     ]
    },
    {
     "data": {
      "text/plain": [
       "<Figure size 800x600 with 1 Axes>"
      ],
      "image/png": "[encoded data removed]"
     },
     "metadata": {},
     "output_type": "display_data"
    }
   ],
   "execution_count": 12
  },
  {
   "cell_type": "code",
   "source": [
    "import torch\n",
    "\n",
    "from torch.utils.data import TensorDataset, DataLoader"
   ],
   "metadata": {
    "id": "KMXZGlgNWff5",
    "ExecuteTime": {
     "end_time": "2025-03-20T10:42:24.718878Z",
     "start_time": "2025-03-20T10:42:24.715307Z"
    }
   },
   "outputs": [],
   "execution_count": 13
  },
  {
   "cell_type": "code",
   "source": [
    "def make_dataset(sparse_features, labels):\n",
    "    # Zamień rzadką macierz cech na zwykłą (gęstą) macierz ndarray\n",
    "    dense_features = sparse_features.astype(np.float32).todense()\n",
    "    # Utwórz zbiór danych na podstawie tensora z cechami i tensora z etykietami\n",
    "    dataset = TensorDataset(\n",
    "        torch.from_numpy(dense_features),\n",
    "        torch.tensor(labels, dtype=torch.int64)\n",
    "    )\n",
    "    return dataset"
   ],
   "metadata": {
    "id": "FjzTir2xAKqe",
    "ExecuteTime": {
     "end_time": "2025-03-20T10:42:24.738819Z",
     "start_time": "2025-03-20T10:42:24.735546Z"
    }
   },
   "outputs": [],
   "execution_count": 14
  },
  {
   "cell_type": "code",
   "source": [
    "# Utwórz trzy zbiory danych: treningowy, walidacyjny i testowy\n",
    "datasets = {\n",
    "    'train': make_dataset(train_tfidf_features, train_dataset['label']),\n",
    "    'val': make_dataset(val_tfidf_features, val_dataset['label']),\n",
    "    'test': make_dataset(test_tfidf_features, test_dataset['label'])\n",
    "}\n",
    "\n",
    "# Wyświetl przykładowy element\n",
    "print(datasets['train'][0])"
   ],
   "metadata": {
    "colab": {
     "base_uri": "https://localhost:8080/"
    },
    "id": "MP9cVg3CWxWn",
    "outputId": "4e9994fb-fe3a-4607-a202-c0d7b7c52019",
    "ExecuteTime": {
     "end_time": "2025-03-20T10:42:27.259164Z",
     "start_time": "2025-03-20T10:42:24.757070Z"
    }
   },
   "outputs": [
    {
     "name": "stdout",
     "output_type": "stream",
     "text": [
      "(tensor([0., 0., 0.,  ..., 0., 0., 0.]), tensor(3))\n"
     ]
    }
   ],
   "execution_count": 15
  },
  {
   "cell_type": "code",
   "source": [
    "batch_size = 256\n",
    "\n",
    "dataloaders = {split: DataLoader(datasets[split], batch_size=batch_size, shuffle=split=='train', num_workers=0) for split in datasets}"
   ],
   "metadata": {
    "id": "RsVQJGt2W9mE",
    "ExecuteTime": {
     "end_time": "2025-03-20T10:42:27.273164Z",
     "start_time": "2025-03-20T10:42:27.268012Z"
    }
   },
   "outputs": [],
   "execution_count": 16
  },
  {
   "cell_type": "code",
   "source": [
    "for X_batch, y_batch in dataloaders['train']:\n",
    "    print(f\"{X_batch.shape=}\")\n",
    "    print(f\"{y_batch.shape=}\")\n",
    "    break"
   ],
   "metadata": {
    "colab": {
     "base_uri": "https://localhost:8080/"
    },
    "id": "mDmhnp_6XBCh",
    "outputId": "94b550d8-357a-4daf-f456-cefaedba35be",
    "ExecuteTime": {
     "end_time": "2025-03-20T10:42:27.352774Z",
     "start_time": "2025-03-20T10:42:27.298668Z"
    }
   },
   "outputs": [
    {
     "name": "stdout",
     "output_type": "stream",
     "text": [
      "X_batch.shape=torch.Size([256, 10000])\n",
      "y_batch.shape=torch.Size([256])\n"
     ]
    }
   ],
   "execution_count": 17
  },
  {
   "cell_type": "code",
   "source": [
    "import torch.nn as nn\n",
    "\n",
    "class ReviewScoreClassifier(nn.Module):\n",
    "    def __init__(self, vocab_size: int, n_classes: int):\n",
    "        super().__init__()\n",
    "        self.vocab_size = vocab_size\n",
    "        self.n_classes = n_classes\n",
    "\n",
    "        self.feature_extractor = nn.Sequential(\n",
    "            nn.Linear(self.vocab_size, 64),\n",
    "            nn.ReLU(),\n",
    "            nn.Linear(64, 16),\n",
    "            nn.ReLU()\n",
    "        )\n",
    "        self.dropout = nn.Dropout(0.1)\n",
    "        self.linear = nn.Linear(16, n_classes)\n",
    "\n",
    "    def forward(self, x: torch.Tensor) -> torch.Tensor:\n",
    "        features = self.feature_extractor(x)\n",
    "        features = self.dropout(features)\n",
    "        logits = self.linear(features)\n",
    "        return logits"
   ],
   "metadata": {
    "id": "HVRs_u2IXV2x",
    "ExecuteTime": {
     "end_time": "2025-03-20T10:42:27.426815Z",
     "start_time": "2025-03-20T10:42:27.422419Z"
    }
   },
   "outputs": [],
   "execution_count": 18
  },
  {
   "cell_type": "code",
   "source": [
    "use_cuda = torch.cuda.is_available()\n",
    "device = torch.device(\"cuda:0\" if use_cuda else \"cpu\")\n",
    "print(\"Urządzenie: {}\".format(device))"
   ],
   "metadata": {
    "colab": {
     "base_uri": "https://localhost:8080/"
    },
    "id": "jUfW5PHyXcrK",
    "outputId": "9aa5b233-28f7-47f2-a9c0-d62cfd49097b",
    "ExecuteTime": {
     "end_time": "2025-03-20T10:42:27.462991Z",
     "start_time": "2025-03-20T10:42:27.456390Z"
    }
   },
   "outputs": [
    {
     "name": "stdout",
     "output_type": "stream",
     "text": [
      "Urządzenie: cuda:0\n"
     ]
    }
   ],
   "execution_count": 19
  },
  {
   "cell_type": "code",
   "source": [
    "# Utwórz model sieci neuronowej i prześlij na właściwe urządzenie\n",
    "classifier = ReviewScoreClassifier(vocab_size, n_classes=5)\n",
    "classifier.to(device)\n",
    "\n",
    "print(classifier)"
   ],
   "metadata": {
    "colab": {
     "base_uri": "https://localhost:8080/"
    },
    "id": "kX4jKz2XXeV6",
    "outputId": "e6042b57-b897-4f2f-de55-9959776d0bc1",
    "ExecuteTime": {
     "end_time": "2025-03-20T10:42:27.641722Z",
     "start_time": "2025-03-20T10:42:27.479269Z"
    }
   },
   "outputs": [
    {
     "name": "stdout",
     "output_type": "stream",
     "text": [
      "ReviewScoreClassifier(\n",
      "  (feature_extractor): Sequential(\n",
      "    (0): Linear(in_features=10000, out_features=64, bias=True)\n",
      "    (1): ReLU()\n",
      "    (2): Linear(in_features=64, out_features=16, bias=True)\n",
      "    (3): ReLU()\n",
      "  )\n",
      "  (dropout): Dropout(p=0.1, inplace=False)\n",
      "  (linear): Linear(in_features=16, out_features=5, bias=True)\n",
      ")\n"
     ]
    }
   ],
   "execution_count": 20
  },
  {
   "cell_type": "code",
   "source": [
    "# Utworzenie 5-elementowego wsadu tensorów o vocab_size elementach każdy\n",
    "x = torch.rand((5, vocab_size))\n",
    "print(x)\n",
    "print(f\"{x.shape=}\\n\")\n",
    "\n",
    "x = x.to(device)        # Przenieś tensor na GPU\n",
    "\n",
    "logits = classifier(x)\n",
    "print(f\"{logits=}\")\n",
    "print(f\"{logits.shape=}\\n\")\n",
    "\n",
    "probabilities = nn.functional.softmax(logits, dim=-1)\n",
    "print(f\"{probabilities=}\")"
   ],
   "metadata": {
    "colab": {
     "base_uri": "https://localhost:8080/"
    },
    "id": "QpUok_A-Xu_6",
    "outputId": "8dde2873-2b2f-4028-9134-60efc661b0ec",
    "ExecuteTime": {
     "end_time": "2025-03-20T10:42:28.105790Z",
     "start_time": "2025-03-20T10:42:27.651401Z"
    }
   },
   "outputs": [
    {
     "name": "stdout",
     "output_type": "stream",
     "text": [
      "tensor([[0.3175, 0.6658, 0.7417,  ..., 0.8100, 0.3683, 0.9097],\n",
      "        [0.7604, 0.0263, 0.2377,  ..., 0.3449, 0.8074, 0.7146],\n",
      "        [0.7398, 0.2680, 0.3592,  ..., 0.6998, 0.1072, 0.9091],\n",
      "        [0.9022, 0.3647, 0.3575,  ..., 0.9697, 0.7896, 0.3973],\n",
      "        [0.5310, 0.7897, 0.4502,  ..., 0.3046, 0.5097, 0.1109]])\n",
      "x.shape=torch.Size([5, 10000])\n",
      "\n",
      "logits=tensor([[-0.1248, -0.2060, -0.1183,  0.0629, -0.0499],\n",
      "        [-0.1157, -0.1348, -0.1151,  0.0568,  0.0203],\n",
      "        [-0.1873, -0.2228, -0.1742,  0.1066, -0.0446],\n",
      "        [-0.1343, -0.2132, -0.1259,  0.0882, -0.0236],\n",
      "        [-0.1431, -0.2043, -0.1444,  0.0771, -0.0172]], device='cuda:0',\n",
      "       grad_fn=<AddmmBackward0>)\n",
      "logits.shape=torch.Size([5, 5])\n",
      "\n",
      "probabilities=tensor([[0.1918, 0.1769, 0.1931, 0.2314, 0.2068],\n",
      "        [0.1881, 0.1846, 0.1882, 0.2235, 0.2155],\n",
      "        [0.1827, 0.1763, 0.1851, 0.2451, 0.2107],\n",
      "        [0.1887, 0.1744, 0.1903, 0.2357, 0.2108],\n",
      "        [0.1880, 0.1768, 0.1877, 0.2343, 0.2132]], device='cuda:0',\n",
      "       grad_fn=<SoftmaxBackward0>)\n"
     ]
    }
   ],
   "execution_count": 21
  },
  {
   "cell_type": "code",
   "source": [
    "import torchmetrics\n",
    "\n",
    "\n",
    "def train(model: nn.Module, loaders: dict[DataLoader], criterion: nn.Module,\n",
    "          optimizer: torch.optim.Optimizer, lr_scheduler, num_epochs: int, verbose=1):\n",
    "\n",
    "    # Metryki wyznaczane dla wsadu\n",
    "    metric_loss = torchmetrics.aggregation.MeanMetric().to(device)\n",
    "    metric_acc = torchmetrics.classification.Accuracy(task=\"multiclass\", num_classes=5).to(device)\n",
    "\n",
    "    # Run all epochs\n",
    "    for epoch in range(1, num_epochs+1):\n",
    "\n",
    "        for phase in ['train', 'val']:\n",
    "            # WAŻNE - przełącz model w odpowiedni tryb\n",
    "            if phase == 'train':\n",
    "                model.train()  # Przełącz model w tryb treningowy\n",
    "            else:\n",
    "                model.eval()   # Przełącz model w tryb ewaluacyjny\n",
    "\n",
    "            # Loop over each batch in the data loader\n",
    "            for X_batch, target in tqdm(loaders[phase], disable=not verbose):\n",
    "                # Przenieś dane na odpowiednie urządzenie\n",
    "                X_batch, target = X_batch.to(device), target.to(device)\n",
    "\n",
    "                # Wyzeruj gradienty parametrów sieci\n",
    "                # BARDZO WAŻNY KROK - domyślnie gradienty nie są zerowane i akumulują się dla wielu kroków przejścia w tył\n",
    "                optimizer.zero_grad()\n",
    "\n",
    "                # Przejście w przód (forward)\n",
    "                # Śledzenie historii obliczeń tylko w fazie trenowania\n",
    "                with torch.set_grad_enabled(phase == 'train'):\n",
    "                    logits = model(X_batch)\n",
    "                    _, preds = torch.max(logits, dim=1)\n",
    "                    loss = criterion(logits, target)\n",
    "\n",
    "                    # Zaktualizuj wartości metryk\n",
    "                    metric_loss(loss)\n",
    "                    metric_acc(preds, target)\n",
    "\n",
    "                    # Przejście w tył (backward) i krok optymalizacji parametrów sieci tylko w fazie trenowania\n",
    "                    if phase == 'train':\n",
    "                        loss.backward()\n",
    "                        optimizer.step()\n",
    "\n",
    "            # Wyznacz średnie wartości metryk dla wsad\n",
    "            acc = metric_acc.compute()\n",
    "            mean_loss = metric_loss.compute()\n",
    "            current_lr = lr_scheduler.get_last_lr()[0]\n",
    "            if verbose:\n",
    "              print(f\"(Epoch {epoch}/[{phase}]) Loss:\\t{mean_loss:.3f}   Accuracy: {acc:.3f}   lr: {current_lr}\")\n",
    "            metrics = {\n",
    "                f\"{phase}/loss\": mean_loss,\n",
    "                f\"{phase}/accuracy\": acc,\n",
    "                f\"{phase}/lr\": current_lr,\n",
    "            }\n",
    "\n",
    "            # Wyzeruj metryki\n",
    "            metric_loss.reset()\n",
    "            metric_acc.reset()\n",
    "            # KONIEC JEDNEJ FAZY W EPOCE (TRENING LUB WALIDACJA)\n",
    "\n",
    "        lr_scheduler.step()\n",
    "        # KONIEC EPOKI\n"
   ],
   "metadata": {
    "id": "JpA1sC0eX61l",
    "ExecuteTime": {
     "end_time": "2025-03-20T10:42:28.992653Z",
     "start_time": "2025-03-20T10:42:28.122782Z"
    }
   },
   "outputs": [],
   "execution_count": 22
  },
  {
   "cell_type": "code",
   "source": [
    "num_epochs = 8\n",
    "\n",
    "# Utworzenie obiekty klasy nn.CrossEntropyLoss() obliczającego funkcję straty entropii krzyżowej\n",
    "criterion = nn.CrossEntropyLoss()\n",
    "\n",
    "# Utworzenie optymalizatora AdamW\n",
    "optimizer = torch.optim.AdamW(classifier.parameters(), lr=1e-4, weight_decay=1e-5)\n",
    "\n",
    "# Utworzenie planisty stopy uczenia\n",
    "lr_scheduler = torch.optim.lr_scheduler.CosineAnnealingLR(optimizer, T_max=num_epochs, eta_min=1e-5)\n",
    "\n",
    "train(classifier, dataloaders, criterion, optimizer, lr_scheduler, num_epochs)"
   ],
   "metadata": {
    "id": "NMJH4YjmYA1v",
    "colab": {
     "base_uri": "https://localhost:8080/"
    },
    "outputId": "5382f8de-06e9-4d3b-b139-509ffb645855",
    "ExecuteTime": {
     "end_time": "2025-03-20T10:42:59.886061Z",
     "start_time": "2025-03-20T10:42:29.021548Z"
    }
   },
   "outputs": [
    {
     "name": "stderr",
     "output_type": "stream",
     "text": [
      "100%|██████████| 305/305 [00:02<00:00, 107.81it/s]\n"
     ]
    },
    {
     "name": "stdout",
     "output_type": "stream",
     "text": [
      "(Epoch 1/[train]) Loss:\t1.599   Accuracy: 0.202   lr: 0.0001\n"
     ]
    },
    {
     "name": "stderr",
     "output_type": "stream",
     "text": [
      "100%|██████████| 51/51 [00:00<00:00, 126.52it/s]\n"
     ]
    },
    {
     "name": "stdout",
     "output_type": "stream",
     "text": [
      "(Epoch 1/[val]) Loss:\t1.574   Accuracy: 0.220   lr: 0.0001\n"
     ]
    },
    {
     "name": "stderr",
     "output_type": "stream",
     "text": [
      "100%|██████████| 305/305 [00:03<00:00, 94.16it/s]\n"
     ]
    },
    {
     "name": "stdout",
     "output_type": "stream",
     "text": [
      "(Epoch 2/[train]) Loss:\t1.518   Accuracy: 0.328   lr: 9.657457896300791e-05\n"
     ]
    },
    {
     "name": "stderr",
     "output_type": "stream",
     "text": [
      "100%|██████████| 51/51 [00:00<00:00, 100.88it/s]\n"
     ]
    },
    {
     "name": "stdout",
     "output_type": "stream",
     "text": [
      "(Epoch 2/[val]) Loss:\t1.452   Accuracy: 0.392   lr: 9.657457896300791e-05\n"
     ]
    },
    {
     "name": "stderr",
     "output_type": "stream",
     "text": [
      "100%|██████████| 305/305 [00:03<00:00, 84.07it/s]\n"
     ]
    },
    {
     "name": "stdout",
     "output_type": "stream",
     "text": [
      "(Epoch 3/[train]) Loss:\t1.382   Accuracy: 0.405   lr: 8.681980515339464e-05\n"
     ]
    },
    {
     "name": "stderr",
     "output_type": "stream",
     "text": [
      "100%|██████████| 51/51 [00:00<00:00, 124.66it/s]\n"
     ]
    },
    {
     "name": "stdout",
     "output_type": "stream",
     "text": [
      "(Epoch 3/[val]) Loss:\t1.326   Accuracy: 0.411   lr: 8.681980515339464e-05\n"
     ]
    },
    {
     "name": "stderr",
     "output_type": "stream",
     "text": [
      "100%|██████████| 305/305 [00:02<00:00, 102.15it/s]\n"
     ]
    },
    {
     "name": "stdout",
     "output_type": "stream",
     "text": [
      "(Epoch 4/[train]) Loss:\t1.278   Accuracy: 0.435   lr: 7.222075445642905e-05\n"
     ]
    },
    {
     "name": "stderr",
     "output_type": "stream",
     "text": [
      "100%|██████████| 51/51 [00:00<00:00, 106.68it/s]\n"
     ]
    },
    {
     "name": "stdout",
     "output_type": "stream",
     "text": [
      "(Epoch 4/[val]) Loss:\t1.249   Accuracy: 0.444   lr: 7.222075445642905e-05\n"
     ]
    },
    {
     "name": "stderr",
     "output_type": "stream",
     "text": [
      "100%|██████████| 305/305 [00:03<00:00, 91.66it/s]\n"
     ]
    },
    {
     "name": "stdout",
     "output_type": "stream",
     "text": [
      "(Epoch 5/[train]) Loss:\t1.216   Accuracy: 0.469   lr: 5.5e-05\n"
     ]
    },
    {
     "name": "stderr",
     "output_type": "stream",
     "text": [
      "100%|██████████| 51/51 [00:00<00:00, 116.00it/s]\n"
     ]
    },
    {
     "name": "stdout",
     "output_type": "stream",
     "text": [
      "(Epoch 5/[val]) Loss:\t1.204   Accuracy: 0.490   lr: 5.5e-05\n"
     ]
    },
    {
     "name": "stderr",
     "output_type": "stream",
     "text": [
      "100%|██████████| 305/305 [00:02<00:00, 110.58it/s]\n"
     ]
    },
    {
     "name": "stdout",
     "output_type": "stream",
     "text": [
      "(Epoch 6/[train]) Loss:\t1.180   Accuracy: 0.498   lr: 3.777924554357096e-05\n"
     ]
    },
    {
     "name": "stderr",
     "output_type": "stream",
     "text": [
      "100%|██████████| 51/51 [00:00<00:00, 108.64it/s]\n"
     ]
    },
    {
     "name": "stdout",
     "output_type": "stream",
     "text": [
      "(Epoch 6/[val]) Loss:\t1.178   Accuracy: 0.510   lr: 3.777924554357096e-05\n"
     ]
    },
    {
     "name": "stderr",
     "output_type": "stream",
     "text": [
      "100%|██████████| 305/305 [00:03<00:00, 101.32it/s]\n"
     ]
    },
    {
     "name": "stdout",
     "output_type": "stream",
     "text": [
      "(Epoch 7/[train]) Loss:\t1.158   Accuracy: 0.511   lr: 2.3180194846605367e-05\n"
     ]
    },
    {
     "name": "stderr",
     "output_type": "stream",
     "text": [
      "100%|██████████| 51/51 [00:00<00:00, 113.39it/s]\n"
     ]
    },
    {
     "name": "stdout",
     "output_type": "stream",
     "text": [
      "(Epoch 7/[val]) Loss:\t1.164   Accuracy: 0.518   lr: 2.3180194846605367e-05\n"
     ]
    },
    {
     "name": "stderr",
     "output_type": "stream",
     "text": [
      "100%|██████████| 305/305 [00:03<00:00, 83.60it/s]\n"
     ]
    },
    {
     "name": "stdout",
     "output_type": "stream",
     "text": [
      "(Epoch 8/[train]) Loss:\t1.145   Accuracy: 0.519   lr: 1.3425421036992098e-05\n"
     ]
    },
    {
     "name": "stderr",
     "output_type": "stream",
     "text": [
      "100%|██████████| 51/51 [00:00<00:00, 106.62it/s]"
     ]
    },
    {
     "name": "stdout",
     "output_type": "stream",
     "text": [
      "(Epoch 8/[val]) Loss:\t1.156   Accuracy: 0.521   lr: 1.3425421036992098e-05\n"
     ]
    },
    {
     "name": "stderr",
     "output_type": "stream",
     "text": [
      "\n"
     ]
    }
   ],
   "execution_count": 23
  },
  {
   "cell_type": "code",
   "source": [
    "# Indeks elementu ze zbioru testowego\n",
    "ndx = 2\n",
    "\n",
    "x, target = datasets['test'][ndx]\n",
    "print(f\"Opinia: {test_dataset[ndx]['text']}\")\n",
    "print(f\"Prawdziwa klasa: {target}\")\n",
    "\n",
    "x = x.to(device)\n",
    "\n",
    "# BARDZO WAŻNE\n",
    "classifier.eval()\n",
    "\n",
    "with torch.inference_mode():\n",
    "    # torch.inference_mode - opcjonalne, ale przyśpiesz wykonanie, bo nie jest tworzony graf obliczeń\n",
    "    logits = classifier(x)\n",
    "\n",
    "print(f\"Wyjście z sieci (logity): {logits}\")\n",
    "probas = torch.nn.functional.softmax(logits, dim=-1)\n",
    "print(f\"Rozkład prawdopodobieństwa klas: {probas}\")\n",
    "print(f\"Predykowana klasa: {logits.argmax(dim=-1)}\")\n"
   ],
   "metadata": {
    "colab": {
     "base_uri": "https://localhost:8080/"
    },
    "id": "GklWexfobA8W",
    "outputId": "ad60179a-fffa-466e-b876-8af980ab0038",
    "ExecuteTime": {
     "end_time": "2025-03-20T10:42:59.948806Z",
     "start_time": "2025-03-20T10:42:59.908848Z"
    }
   },
   "outputs": [
    {
     "name": "stdout",
     "output_type": "stream",
     "text": [
      "Opinia: There is such a great variety on the menu, it makes it easy to come back and try different dishes. Last night I had the grilled chicken with artichoke hearts, spinach, mushrooms with a wonderful cream sauce and pumpkin seeds on top to finish it off. It also came with mashed potatoes and wonderful grilled veggies, included corn. It was VERY GOOD!\\n\\nThe happy hour is also a great value and again has many different options to choose from. $5 chambord margarita is sweet and strong! I only had one, but already felt the affects when it was empty.\\n\\nI have tried a plethora of items on the menu and have not been disappointed in any of them. (The salads are great too!)\n",
      "Prawdziwa klasa: 3\n",
      "Wyjście z sieci (logity): tensor([-2.8919, -2.2792, -0.4913,  1.8191,  2.0216], device='cuda:0')\n",
      "Rozkład prawdopodobieństwa klas: tensor([0.0038, 0.0071, 0.0422, 0.4257, 0.5212], device='cuda:0')\n",
      "Predykowana klasa: 4\n"
     ]
    }
   ],
   "execution_count": 24
  },
  {
   "cell_type": "code",
   "source": [
    "preds_l = []\n",
    "targets_l = []\n",
    "\n",
    "classifier.eval()\n",
    "\n",
    "for X_batch, target in tqdm(dataloaders['test']):\n",
    "    # Przenieś dane na odpowiednie urządzenie\n",
    "    X_batch, target = X_batch.to(device), target.to(device)\n",
    "\n",
    "    # Przejście w przód (forward)\n",
    "    # Śledzenie historii obliczeń tylko w fazie trenowania\n",
    "    with torch.inference_mode():\n",
    "        logits = classifier(X_batch)\n",
    "        _, preds = torch.max(logits, dim=-1)\n",
    "        preds_l.extend(preds.cpu().numpy())\n",
    "        targets_l.extend(target.cpu().numpy())\n",
    "\n",
    "preds = np.array(preds_l)\n",
    "targets = np.array(targets_l)\n",
    "\n",
    "print(f\"{preds.shape=}\")\n",
    "print(f\"{targets.shape=}\")"
   ],
   "metadata": {
    "colab": {
     "base_uri": "https://localhost:8080/"
    },
    "id": "gdBp4ZKabFVQ",
    "outputId": "bd775dc7-da39-4e3d-f768-b6fa283695f0",
    "ExecuteTime": {
     "end_time": "2025-03-20T10:43:00.637831Z",
     "start_time": "2025-03-20T10:42:59.969472Z"
    }
   },
   "outputs": [
    {
     "name": "stderr",
     "output_type": "stream",
     "text": [
      "100%|██████████| 79/79 [00:00<00:00, 119.70it/s]"
     ]
    },
    {
     "name": "stdout",
     "output_type": "stream",
     "text": [
      "preds.shape=(20000,)\n",
      "targets.shape=(20000,)\n"
     ]
    },
    {
     "name": "stderr",
     "output_type": "stream",
     "text": [
      "\n"
     ]
    }
   ],
   "execution_count": 25
  },
  {
   "cell_type": "code",
   "source": [
    "from sklearn.metrics import classification_report\n",
    "\n",
    "\n",
    "labels = ['1', '2', '3', '4', '5']\n",
    "\n",
    "report = classification_report(targets, preds, target_names = labels)\n",
    "print(report)"
   ],
   "metadata": {
    "colab": {
     "base_uri": "https://localhost:8080/"
    },
    "id": "r4FsPE6KbId1",
    "outputId": "e2320602-1fed-4193-c0e2-31405bc517b9",
    "ExecuteTime": {
     "end_time": "2025-03-20T10:43:00.682756Z",
     "start_time": "2025-03-20T10:43:00.662325Z"
    }
   },
   "outputs": [
    {
     "name": "stdout",
     "output_type": "stream",
     "text": [
      "              precision    recall  f1-score   support\n",
      "\n",
      "           1       0.71      0.60      0.65      4071\n",
      "           2       0.47      0.56      0.51      4006\n",
      "           3       0.38      0.32      0.35      3933\n",
      "           4       0.43      0.44      0.44      3995\n",
      "           5       0.62      0.70      0.66      3995\n",
      "\n",
      "    accuracy                           0.52     20000\n",
      "   macro avg       0.52      0.52      0.52     20000\n",
      "weighted avg       0.52      0.52      0.52     20000\n",
      "\n"
     ]
    }
   ],
   "execution_count": 26
  },
  {
   "cell_type": "code",
   "source": [
    "import matplotlib.pyplot as plt\n",
    "import seaborn as sns\n",
    "from sklearn.metrics import confusion_matrix\n",
    "cm = confusion_matrix(targets, preds)\n",
    "\n",
    "# Create a heatmap\n",
    "plt.figure(figsize=(5, 4))\n",
    "sns.heatmap(cm, annot=True, fmt='d', cmap='Blues', xticklabels=labels, yticklabels=labels)\n",
    "plt.title('Macierz pomyłek')\n",
    "plt.xlabel('Predykowana klasa')\n",
    "plt.ylabel('Prawdziwa klasa')\n",
    "plt.show()"
   ],
   "metadata": {
    "colab": {
     "base_uri": "https://localhost:8080/",
     "height": 410
    },
    "id": "PZhYR36WbTsP",
    "outputId": "2d5c5c9a-8910-4fd8-d70c-2e6c07f687ee",
    "ExecuteTime": {
     "end_time": "2025-03-20T10:43:00.841513Z",
     "start_time": "2025-03-20T10:43:00.705596Z"
    }
   },
   "outputs": [
    {
     "data": {
      "text/plain": [
       "<Figure size 500x400 with 2 Axes>"
      ],
      "image/png": "[encoded data removed]"
     },
     "metadata": {},
     "output_type": "display_data"
    }
   ],
   "execution_count": 27
  },
  {
   "cell_type": "markdown",
   "source": [
    "1.   \n",
    "Napisz funkcję znajdującą i wyświetlającą $k$ elementów zbioru testowego dla których model najbardziej się myli, czyli estymuje najmniejsze prawdopodobieństwa prawdziwej klasy. Softmax jest funkcją ściśle rosnącą, więc wystarczy znaleźć elementy z najmniejszą wartością nieznormalizowanego wyjścia z sieci (logita) dla prawdziwej klasy.\n"
   ],
   "metadata": {
    "id": "qTQF32MS2hiD"
   }
  },
  {
   "cell_type": "code",
   "source": [
    "def test_k_mistakes(k):\n",
    "\n",
    "  classifier.eval()\n",
    "\n",
    "  true_logits = torch.empty(0).to(device)\n",
    "\n",
    "  for X_batch, target in tqdm(dataloaders['test']):\n",
    "      X_batch, target = X_batch.to(device), target.to(device)\n",
    "\n",
    "      with torch.inference_mode():\n",
    "          logits = classifier(X_batch)\n",
    "          true_logits = torch.cat([true_logits, logits[torch.arange(len(logits)), target]], dim=0)\n",
    "\n",
    "  true_logits = true_logits.cpu()\n",
    "  k_min = torch.topk(true_logits, k=min(k, true_logits.shape[0]), dim=0, largest=False)\n",
    "\n",
    "  for ndx in k_min.indices.tolist():\n",
    "    x, target = datasets['test'][ndx]\n",
    "    print()\n",
    "    print(f\"Opinia: {test_dataset[ndx]['text']}\")\n",
    "    print(f\"Prawdziwa klasa: {target}\")\n",
    "\n",
    "test_k_mistakes(5)\n"
   ],
   "metadata": {
    "colab": {
     "base_uri": "https://localhost:8080/"
    },
    "id": "kYSNs73TdA4U",
    "outputId": "8660a8a4-be1e-499b-f5b3-7c23eca69426",
    "ExecuteTime": {
     "end_time": "2025-03-20T10:43:01.427017Z",
     "start_time": "2025-03-20T10:43:00.866569Z"
    }
   },
   "outputs": [
    {
     "name": "stderr",
     "output_type": "stream",
     "text": [
      "100%|██████████| 79/79 [00:00<00:00, 144.44it/s]"
     ]
    },
    {
     "name": "stdout",
     "output_type": "stream",
     "text": [
      "\n",
      "Opinia: Look, we all know Cox sucks. In fact they are a terrible business and their practices are laughable. However they are a necessary evil if you want Internet that isn't garbage that can handle streaming/gaming. The way they handle issues over the phone is worse than Comcast, and for all my east coast brothers/sisters you know what a serious accusation that is. It all started with shitty TV Service. My household went through 4 dvr boxes. 4. That all broke. All of them. 100's of hours of TV. Lost. Every. Single. Time. Their solution? Downgrade from contour. That's their genius solution. So my solution? Upgrade to Dish for TV. PROBLEM SOLVED. However they charged us $200 to disconnect claiming we were on a contract. Nope, disputed that. However to dispute it you have to literally mail a letter to corporate. In the mean time, they cut off my Internet service for pay bills AND THEN DOUBLE CHARGED ME FOR THE INTERNET. WHAT? EXCUSE ME? How does that even make sense? So, an angry phone call and 2 hours on hold, I get the Internet back on because I work from home and to refund the double charged service they have to send a check, via the mail, to a local store. Okay, cool. A week later, let's drive from San tan valley to Gilbert. Once we arrive , turns out the check wasn't mailed. In fact the person helping us via the phone wrote that checks can't be sent to the store, and put a future apology in the notes to us. Thanks Cox cock. So, if you made it this far, why do I give this store 5 stars? The Manager, Mario. That's why. The savior of my people. Stepped in. Saw the crap we went through and listened to my tale. With about 5 minutes of effort , he credited our account for $300. $200 for the bs fee , $50 for the double charge and another $50 just because he was sorry. That's customer service. That's being a great human. He's the man, and my opinion of Cox has changed. ALWAYS GO TO A COX STORE. ALWAYS! They know their stuff and actually care. They are not the call center idiots. They are true experts and will always get the job done. Thank you Mario at the Gilbert Cox Store. Thank you so much\n",
      "Prawdziwa klasa: 4\n",
      "\n",
      "Opinia: Ok so went back and ordered the full sandwich and soup.  It came with chips also, which you do not get when you get suckered into the half soup half sandwich thing.  This time: I felt like I got what I paid for!  Much better and will be back!!\n",
      "Prawdziwa klasa: 4\n",
      "\n",
      "Opinia: I had both a red tinga as well as a chili verde gordita. I also enjoyed a large cup of the best Horchata in Las Vegas. Fresh and warm, the gorditas were filling and good.....but not great. Good for a quick stop, but there are much better options when looking for a full flavored, spicy, authentic gordita. The service was very friendly and the restaurant spotlessly clean, almost antiseptic.\n",
      "Prawdziwa klasa: 1\n",
      "\n",
      "Opinia: Came here on a Friday morning around 1030 and was greeted the second I parked my car which was wonderful and great service! Sadly the second I came up to the counter a bigger older guy, I'm assuming manager or a higher role, was completely rude! I asked how much an alignment was and explained I had a coupon that gave me a discount 10% and asked how much it would be with that included. His answer was completely rude an belittling \\\"well I said 89.99 so 10% of that is your price\\\". I wasn't asking for a math lesson just your pricing.\\nThankfully he was given a phone call and Benny continued to help me out with a smile. I realized I left my drink in the car and asked if I could get it and was accommodated nicely. \\nOver all this shop was clean, mostly friendly besides the older large gentleman I didn't get the name of sadly, and very fast service! \\nBenny along with the guys in the garage were all nice and not sleazy or rude:) unlike upper management .... \\nDefiantly coming back due I the nice service from the others close location and speedy service!!!\n",
      "Prawdziwa klasa: 4\n",
      "\n",
      "Opinia: I wanted to take off a star for the weird bendy line that I always have to wait in when I go through the drive thru. However, the truth is that if I simply parked my car and walked my lazy a** inside, I would not have to wait.\\n\\nSpeaking of their drive thru, wow. You could be in a line all the way out to Eastern and you would be through that line in 5 minutes. They really have an operation going on there. This is what happens when you have the budget to hire sufficient amounts of employees.\\n\\nOne time this one girl was kinda mean to me...but I can't blame McDonalds.  It felt like an anger caused by something such as a breakup or a stressful issue with not paying rent, so I let it go.\\n\\nHAVE YOU HAD THEIR FRIES?!?!!?  I don't care what people say. I think are putting crack in those. Salt and crack. If one day down the line we find out that McDonalds fries were so good because they were laced with something, I won't be shocked.\n",
      "Prawdziwa klasa: 4\n"
     ]
    },
    {
     "name": "stderr",
     "output_type": "stream",
     "text": [
      "\n"
     ]
    }
   ],
   "execution_count": 28
  },
  {
   "cell_type": "markdown",
   "source": [
    "2.   Zbadaj wpływ wybranych parametrów funkcji ekstrakcji cech z tekstu `TfidfVectorizer` na skuteczność wytrenowanego modelu. Uruchom kilka eksperymentów z różnymi wartościami parametrów i porównaj dokładność wytrenowanego modelu na zbiorze walidacyjnym.\n"
   ],
   "metadata": {
    "id": "y7nXVZvd2uCg"
   }
  },
  {
   "cell_type": "code",
   "source": [
    "def test_TfidfVectorizer(vocab_size=10000, lowercase=True, analyzer='word', ngram_range=(1, 1), stop_words=\"english\"):\n",
    "  train_tfidf_features, val_tfidf_features, test_tfidf_features, feature_names = get_tfidf_features(vocab_size)\n",
    "\n",
    "  datasets = {\n",
    "      'train': make_dataset(train_tfidf_features, train_dataset['label']),\n",
    "      'val': make_dataset(val_tfidf_features, val_dataset['label']),\n",
    "      'test': make_dataset(test_tfidf_features, test_dataset['label'])\n",
    "  }\n",
    "\n",
    "  batch_size = 256\n",
    "  dataloaders = {split: DataLoader(datasets[split], batch_size=batch_size, shuffle=split=='train', num_workers=0) for split in datasets}\n",
    "\n",
    "  classifier = ReviewScoreClassifier(vocab_size, n_classes=5)\n",
    "  classifier.to(device)\n",
    "\n",
    "  num_epochs = 8\n",
    "  criterion = nn.CrossEntropyLoss()\n",
    "  optimizer = torch.optim.AdamW(classifier.parameters(), lr=1e-4, weight_decay=1e-5)\n",
    "  lr_scheduler = torch.optim.lr_scheduler.CosineAnnealingLR(optimizer, T_max=num_epochs, eta_min=1e-5)\n",
    "\n",
    "  train(classifier, dataloaders, criterion, optimizer, lr_scheduler, num_epochs, verbose=0)\n",
    "\n",
    "  preds_l = []\n",
    "  targets_l = []\n",
    "\n",
    "  classifier.eval()\n",
    "\n",
    "  for X_batch, target in dataloaders['test']:\n",
    "      X_batch, target = X_batch.to(device), target.to(device)\n",
    "\n",
    "      with torch.inference_mode():\n",
    "          logits = classifier(X_batch)\n",
    "          _, preds = torch.max(logits, dim=-1)\n",
    "          preds_l.extend(preds.cpu().numpy())\n",
    "          targets_l.extend(target.cpu().numpy())\n",
    "\n",
    "  preds = np.array(preds_l)\n",
    "  targets = np.array(targets_l)\n",
    "\n",
    "  from sklearn.metrics import classification_report\n",
    "\n",
    "  labels = ['1', '2', '3', '4', '5']\n",
    "\n",
    "  report = classification_report(targets, preds, target_names = labels, output_dict=True)\n",
    "  return report['accuracy']\n"
   ],
   "metadata": {
    "id": "3EUbzzTW3JEM",
    "ExecuteTime": {
     "end_time": "2025-03-20T10:43:01.458588Z",
     "start_time": "2025-03-20T10:43:01.451002Z"
    }
   },
   "outputs": [],
   "execution_count": 29
  },
  {
   "metadata": {
    "ExecuteTime": {
     "end_time": "2025-03-20T10:50:03.858325Z",
     "start_time": "2025-03-20T10:48:34.524881Z"
    }
   },
   "cell_type": "code",
   "source": [
    "vocab_size_tests = [1000, 5000, 10000]\n",
    "results = []\n",
    "for vocab_size in vocab_size_tests:\n",
    "  results.append(test_TfidfVectorizer(vocab_size=vocab_size))\n",
    "plt.plot(vocab_size_tests, results)\n",
    "plt.show()"
   ],
   "outputs": [
    {
     "data": {
      "text/plain": [
       "<Figure size 640x480 with 1 Axes>"
      ],
      "image/png": "[encoded data removed]"
     },
     "metadata": {},
     "output_type": "display_data"
    }
   ],
   "execution_count": 31
  },
  {
   "metadata": {
    "ExecuteTime": {
     "end_time": "2025-03-20T10:51:11.607084Z",
     "start_time": "2025-03-20T10:50:12.459015Z"
    }
   },
   "cell_type": "code",
   "source": [
    "lowercase_tests = [True, False]\n",
    "results = []\n",
    "for lowercase in lowercase_tests:\n",
    "  results.append(test_TfidfVectorizer(lowercase=lowercase, vocab_size=5000))\n",
    "plt.plot(lowercase_tests, results)\n",
    "plt.show()"
   ],
   "outputs": [
    {
     "data": {
      "text/plain": [
       "<Figure size 640x480 with 1 Axes>"
      ],
      "image/png": "[encoded data removed]"
     },
     "metadata": {},
     "output_type": "display_data"
    }
   ],
   "execution_count": 32
  },
  {
   "metadata": {
    "ExecuteTime": {
     "end_time": "2025-03-20T10:52:56.185092Z",
     "start_time": "2025-03-20T10:51:11.614693Z"
    }
   },
   "cell_type": "code",
   "source": [
    "analyzer_tests = ['word', 'char', 'char_wb']\n",
    "results = []\n",
    "for analyzer in analyzer_tests:\n",
    "  results.append(test_TfidfVectorizer(analyzer=analyzer))\n",
    "plt.plot(analyzer_tests, results)\n",
    "plt.show()"
   ],
   "outputs": [
    {
     "data": {
      "text/plain": [
       "<Figure size 640x480 with 1 Axes>"
      ],
      "image/png": "[encoded data removed]"
     },
     "metadata": {},
     "output_type": "display_data"
    }
   ],
   "execution_count": 33
  },
  {
   "metadata": {
    "ExecuteTime": {
     "end_time": "2025-03-20T10:55:16.022279Z",
     "start_time": "2025-03-20T10:52:56.231881Z"
    }
   },
   "cell_type": "code",
   "source": [
    "ngram_range_tests = [(1,1), (1,2), (1,3), (2,2)]\n",
    "labels = ['(1, 1)', '(1, 2)', '(1,3)', '(2, 2)']\n",
    "results = []\n",
    "for ngram_range in ngram_range_tests:\n",
    "  results.append(test_TfidfVectorizer(ngram_range=ngram_range))\n",
    "plt.plot(labels, results)\n",
    "plt.show()"
   ],
   "outputs": [
    {
     "data": {
      "text/plain": [
       "<Figure size 640x480 with 1 Axes>"
      ],
      "image/png": "[encoded data removed]"
     },
     "metadata": {},
     "output_type": "display_data"
    }
   ],
   "execution_count": 34
  },
  {
   "metadata": {
    "ExecuteTime": {
     "end_time": "2025-03-20T10:56:24.885687Z",
     "start_time": "2025-03-20T10:55:16.048116Z"
    }
   },
   "cell_type": "code",
   "source": [
    "stop_words_tests=['english', None]\n",
    "labels = ['english', 'None']\n",
    "results = []\n",
    "for stop_words in stop_words_tests:\n",
    "  results.append(test_TfidfVectorizer(stop_words=stop_words))\n",
    "plt.plot(labels, results)\n",
    "plt.show()"
   ],
   "outputs": [
    {
     "ename": "TypeError",
     "evalue": "'value' must be an instance of str or bytes, not a None",
     "output_type": "error",
     "traceback": [
      "\u001B[31m---------------------------------------------------------------------------\u001B[39m",
      "\u001B[31mTypeError\u001B[39m                                 Traceback (most recent call last)",
      "\u001B[36mCell\u001B[39m\u001B[36m \u001B[39m\u001B[32mIn[35]\u001B[39m\u001B[32m, line 5\u001B[39m\n\u001B[32m      3\u001B[39m \u001B[38;5;28;01mfor\u001B[39;00m stop_words \u001B[38;5;129;01min\u001B[39;00m stop_words_tests:\n\u001B[32m      4\u001B[39m   results.append(test_TfidfVectorizer(stop_words=stop_words))\n\u001B[32m----> \u001B[39m\u001B[32m5\u001B[39m \u001B[43mplt\u001B[49m\u001B[43m.\u001B[49m\u001B[43mplot\u001B[49m\u001B[43m(\u001B[49m\u001B[43mstop_words_tests\u001B[49m\u001B[43m,\u001B[49m\u001B[43m \u001B[49m\u001B[43mresults\u001B[49m\u001B[43m)\u001B[49m\n\u001B[32m      6\u001B[39m plt.show()\n",
      "\u001B[36mFile \u001B[39m\u001B[32m~\\Documents\\GitHub\\Python-Toolkit-Playground\\.venv\\Lib\\site-packages\\matplotlib\\pyplot.py:3827\u001B[39m, in \u001B[36mplot\u001B[39m\u001B[34m(scalex, scaley, data, *args, **kwargs)\u001B[39m\n\u001B[32m   3819\u001B[39m \u001B[38;5;129m@_copy_docstring_and_deprecators\u001B[39m(Axes.plot)\n\u001B[32m   3820\u001B[39m \u001B[38;5;28;01mdef\u001B[39;00m\u001B[38;5;250m \u001B[39m\u001B[34mplot\u001B[39m(\n\u001B[32m   3821\u001B[39m     *args: \u001B[38;5;28mfloat\u001B[39m | ArrayLike | \u001B[38;5;28mstr\u001B[39m,\n\u001B[32m   (...)\u001B[39m\u001B[32m   3825\u001B[39m     **kwargs,\n\u001B[32m   3826\u001B[39m ) -> \u001B[38;5;28mlist\u001B[39m[Line2D]:\n\u001B[32m-> \u001B[39m\u001B[32m3827\u001B[39m     \u001B[38;5;28;01mreturn\u001B[39;00m \u001B[43mgca\u001B[49m\u001B[43m(\u001B[49m\u001B[43m)\u001B[49m\u001B[43m.\u001B[49m\u001B[43mplot\u001B[49m\u001B[43m(\u001B[49m\n\u001B[32m   3828\u001B[39m \u001B[43m        \u001B[49m\u001B[43m*\u001B[49m\u001B[43margs\u001B[49m\u001B[43m,\u001B[49m\n\u001B[32m   3829\u001B[39m \u001B[43m        \u001B[49m\u001B[43mscalex\u001B[49m\u001B[43m=\u001B[49m\u001B[43mscalex\u001B[49m\u001B[43m,\u001B[49m\n\u001B[32m   3830\u001B[39m \u001B[43m        \u001B[49m\u001B[43mscaley\u001B[49m\u001B[43m=\u001B[49m\u001B[43mscaley\u001B[49m\u001B[43m,\u001B[49m\n\u001B[32m   3831\u001B[39m \u001B[43m        \u001B[49m\u001B[43m*\u001B[49m\u001B[43m*\u001B[49m\u001B[43m(\u001B[49m\u001B[43m{\u001B[49m\u001B[33;43m\"\u001B[39;49m\u001B[33;43mdata\u001B[39;49m\u001B[33;43m\"\u001B[39;49m\u001B[43m:\u001B[49m\u001B[43m \u001B[49m\u001B[43mdata\u001B[49m\u001B[43m}\u001B[49m\u001B[43m \u001B[49m\u001B[38;5;28;43;01mif\u001B[39;49;00m\u001B[43m \u001B[49m\u001B[43mdata\u001B[49m\u001B[43m \u001B[49m\u001B[38;5;129;43;01mis\u001B[39;49;00m\u001B[43m \u001B[49m\u001B[38;5;129;43;01mnot\u001B[39;49;00m\u001B[43m \u001B[49m\u001B[38;5;28;43;01mNone\u001B[39;49;00m\u001B[43m \u001B[49m\u001B[38;5;28;43;01melse\u001B[39;49;00m\u001B[43m \u001B[49m\u001B[43m{\u001B[49m\u001B[43m}\u001B[49m\u001B[43m)\u001B[49m\u001B[43m,\u001B[49m\n\u001B[32m   3832\u001B[39m \u001B[43m        \u001B[49m\u001B[43m*\u001B[49m\u001B[43m*\u001B[49m\u001B[43mkwargs\u001B[49m\u001B[43m,\u001B[49m\n\u001B[32m   3833\u001B[39m \u001B[43m    \u001B[49m\u001B[43m)\u001B[49m\n",
      "\u001B[36mFile \u001B[39m\u001B[32m~\\Documents\\GitHub\\Python-Toolkit-Playground\\.venv\\Lib\\site-packages\\matplotlib\\axes\\_axes.py:1777\u001B[39m, in \u001B[36mAxes.plot\u001B[39m\u001B[34m(self, scalex, scaley, data, *args, **kwargs)\u001B[39m\n\u001B[32m   1534\u001B[39m \u001B[38;5;250m\u001B[39m\u001B[33;03m\"\"\"\u001B[39;00m\n\u001B[32m   1535\u001B[39m \u001B[33;03mPlot y versus x as lines and/or markers.\u001B[39;00m\n\u001B[32m   1536\u001B[39m \n\u001B[32m   (...)\u001B[39m\u001B[32m   1774\u001B[39m \u001B[33;03m(``'green'``) or hex strings (``'#008000'``).\u001B[39;00m\n\u001B[32m   1775\u001B[39m \u001B[33;03m\"\"\"\u001B[39;00m\n\u001B[32m   1776\u001B[39m kwargs = cbook.normalize_kwargs(kwargs, mlines.Line2D)\n\u001B[32m-> \u001B[39m\u001B[32m1777\u001B[39m lines = [*\u001B[38;5;28mself\u001B[39m._get_lines(\u001B[38;5;28mself\u001B[39m, *args, data=data, **kwargs)]\n\u001B[32m   1778\u001B[39m \u001B[38;5;28;01mfor\u001B[39;00m line \u001B[38;5;129;01min\u001B[39;00m lines:\n\u001B[32m   1779\u001B[39m     \u001B[38;5;28mself\u001B[39m.add_line(line)\n",
      "\u001B[36mFile \u001B[39m\u001B[32m~\\Documents\\GitHub\\Python-Toolkit-Playground\\.venv\\Lib\\site-packages\\matplotlib\\axes\\_base.py:297\u001B[39m, in \u001B[36m_process_plot_var_args.__call__\u001B[39m\u001B[34m(self, axes, data, return_kwargs, *args, **kwargs)\u001B[39m\n\u001B[32m    295\u001B[39m     this += args[\u001B[32m0\u001B[39m],\n\u001B[32m    296\u001B[39m     args = args[\u001B[32m1\u001B[39m:]\n\u001B[32m--> \u001B[39m\u001B[32m297\u001B[39m \u001B[38;5;28;01myield from\u001B[39;00m \u001B[38;5;28;43mself\u001B[39;49m\u001B[43m.\u001B[49m\u001B[43m_plot_args\u001B[49m\u001B[43m(\u001B[49m\n\u001B[32m    298\u001B[39m \u001B[43m    \u001B[49m\u001B[43maxes\u001B[49m\u001B[43m,\u001B[49m\u001B[43m \u001B[49m\u001B[43mthis\u001B[49m\u001B[43m,\u001B[49m\u001B[43m \u001B[49m\u001B[43mkwargs\u001B[49m\u001B[43m,\u001B[49m\u001B[43m \u001B[49m\u001B[43mambiguous_fmt_datakey\u001B[49m\u001B[43m=\u001B[49m\u001B[43mambiguous_fmt_datakey\u001B[49m\u001B[43m,\u001B[49m\n\u001B[32m    299\u001B[39m \u001B[43m    \u001B[49m\u001B[43mreturn_kwargs\u001B[49m\u001B[43m=\u001B[49m\u001B[43mreturn_kwargs\u001B[49m\n\u001B[32m    300\u001B[39m \u001B[43m\u001B[49m\u001B[43m)\u001B[49m\n",
      "\u001B[36mFile \u001B[39m\u001B[32m~\\Documents\\GitHub\\Python-Toolkit-Playground\\.venv\\Lib\\site-packages\\matplotlib\\axes\\_base.py:489\u001B[39m, in \u001B[36m_process_plot_var_args._plot_args\u001B[39m\u001B[34m(self, axes, tup, kwargs, return_kwargs, ambiguous_fmt_datakey)\u001B[39m\n\u001B[32m    486\u001B[39m     x, y = index_of(xy[-\u001B[32m1\u001B[39m])\n\u001B[32m    488\u001B[39m \u001B[38;5;28;01mif\u001B[39;00m axes.xaxis \u001B[38;5;129;01mis\u001B[39;00m \u001B[38;5;129;01mnot\u001B[39;00m \u001B[38;5;28;01mNone\u001B[39;00m:\n\u001B[32m--> \u001B[39m\u001B[32m489\u001B[39m     \u001B[43maxes\u001B[49m\u001B[43m.\u001B[49m\u001B[43mxaxis\u001B[49m\u001B[43m.\u001B[49m\u001B[43mupdate_units\u001B[49m\u001B[43m(\u001B[49m\u001B[43mx\u001B[49m\u001B[43m)\u001B[49m\n\u001B[32m    490\u001B[39m \u001B[38;5;28;01mif\u001B[39;00m axes.yaxis \u001B[38;5;129;01mis\u001B[39;00m \u001B[38;5;129;01mnot\u001B[39;00m \u001B[38;5;28;01mNone\u001B[39;00m:\n\u001B[32m    491\u001B[39m     axes.yaxis.update_units(y)\n",
      "\u001B[36mFile \u001B[39m\u001B[32m~\\Documents\\GitHub\\Python-Toolkit-Playground\\.venv\\Lib\\site-packages\\matplotlib\\axis.py:1754\u001B[39m, in \u001B[36mAxis.update_units\u001B[39m\u001B[34m(self, data)\u001B[39m\n\u001B[32m   1752\u001B[39m neednew = \u001B[38;5;28mself\u001B[39m._converter != converter\n\u001B[32m   1753\u001B[39m \u001B[38;5;28mself\u001B[39m._set_converter(converter)\n\u001B[32m-> \u001B[39m\u001B[32m1754\u001B[39m default = \u001B[38;5;28;43mself\u001B[39;49m\u001B[43m.\u001B[49m\u001B[43m_converter\u001B[49m\u001B[43m.\u001B[49m\u001B[43mdefault_units\u001B[49m\u001B[43m(\u001B[49m\u001B[43mdata\u001B[49m\u001B[43m,\u001B[49m\u001B[43m \u001B[49m\u001B[38;5;28;43mself\u001B[39;49m\u001B[43m)\u001B[49m\n\u001B[32m   1755\u001B[39m \u001B[38;5;28;01mif\u001B[39;00m default \u001B[38;5;129;01mis\u001B[39;00m \u001B[38;5;129;01mnot\u001B[39;00m \u001B[38;5;28;01mNone\u001B[39;00m \u001B[38;5;129;01mand\u001B[39;00m \u001B[38;5;28mself\u001B[39m.units \u001B[38;5;129;01mis\u001B[39;00m \u001B[38;5;28;01mNone\u001B[39;00m:\n\u001B[32m   1756\u001B[39m     \u001B[38;5;28mself\u001B[39m.set_units(default)\n",
      "\u001B[36mFile \u001B[39m\u001B[32m~\\Documents\\GitHub\\Python-Toolkit-Playground\\.venv\\Lib\\site-packages\\matplotlib\\category.py:106\u001B[39m, in \u001B[36mStrCategoryConverter.default_units\u001B[39m\u001B[34m(data, axis)\u001B[39m\n\u001B[32m    104\u001B[39m \u001B[38;5;66;03m# the conversion call stack is default_units -> axis_info -> convert\u001B[39;00m\n\u001B[32m    105\u001B[39m \u001B[38;5;28;01mif\u001B[39;00m axis.units \u001B[38;5;129;01mis\u001B[39;00m \u001B[38;5;28;01mNone\u001B[39;00m:\n\u001B[32m--> \u001B[39m\u001B[32m106\u001B[39m     axis.set_units(\u001B[43mUnitData\u001B[49m\u001B[43m(\u001B[49m\u001B[43mdata\u001B[49m\u001B[43m)\u001B[49m)\n\u001B[32m    107\u001B[39m \u001B[38;5;28;01melse\u001B[39;00m:\n\u001B[32m    108\u001B[39m     axis.units.update(data)\n",
      "\u001B[36mFile \u001B[39m\u001B[32m~\\Documents\\GitHub\\Python-Toolkit-Playground\\.venv\\Lib\\site-packages\\matplotlib\\category.py:182\u001B[39m, in \u001B[36mUnitData.__init__\u001B[39m\u001B[34m(self, data)\u001B[39m\n\u001B[32m    180\u001B[39m \u001B[38;5;28mself\u001B[39m._counter = itertools.count()\n\u001B[32m    181\u001B[39m \u001B[38;5;28;01mif\u001B[39;00m data \u001B[38;5;129;01mis\u001B[39;00m \u001B[38;5;129;01mnot\u001B[39;00m \u001B[38;5;28;01mNone\u001B[39;00m:\n\u001B[32m--> \u001B[39m\u001B[32m182\u001B[39m     \u001B[38;5;28;43mself\u001B[39;49m\u001B[43m.\u001B[49m\u001B[43mupdate\u001B[49m\u001B[43m(\u001B[49m\u001B[43mdata\u001B[49m\u001B[43m)\u001B[49m\n",
      "\u001B[36mFile \u001B[39m\u001B[32m~\\Documents\\GitHub\\Python-Toolkit-Playground\\.venv\\Lib\\site-packages\\matplotlib\\category.py:217\u001B[39m, in \u001B[36mUnitData.update\u001B[39m\u001B[34m(self, data)\u001B[39m\n\u001B[32m    214\u001B[39m convertible = \u001B[38;5;28;01mTrue\u001B[39;00m\n\u001B[32m    215\u001B[39m \u001B[38;5;28;01mfor\u001B[39;00m val \u001B[38;5;129;01min\u001B[39;00m OrderedDict.fromkeys(data):\n\u001B[32m    216\u001B[39m     \u001B[38;5;66;03m# OrderedDict just iterates over unique values in data.\u001B[39;00m\n\u001B[32m--> \u001B[39m\u001B[32m217\u001B[39m     \u001B[43m_api\u001B[49m\u001B[43m.\u001B[49m\u001B[43mcheck_isinstance\u001B[49m\u001B[43m(\u001B[49m\u001B[43m(\u001B[49m\u001B[38;5;28;43mstr\u001B[39;49m\u001B[43m,\u001B[49m\u001B[43m \u001B[49m\u001B[38;5;28;43mbytes\u001B[39;49m\u001B[43m)\u001B[49m\u001B[43m,\u001B[49m\u001B[43m \u001B[49m\u001B[43mvalue\u001B[49m\u001B[43m=\u001B[49m\u001B[43mval\u001B[49m\u001B[43m)\u001B[49m\n\u001B[32m    218\u001B[39m     \u001B[38;5;28;01mif\u001B[39;00m convertible:\n\u001B[32m    219\u001B[39m         \u001B[38;5;66;03m# this will only be called so long as convertible is True.\u001B[39;00m\n\u001B[32m    220\u001B[39m         convertible = \u001B[38;5;28mself\u001B[39m._str_is_convertible(val)\n",
      "\u001B[36mFile \u001B[39m\u001B[32m~\\Documents\\GitHub\\Python-Toolkit-Playground\\.venv\\Lib\\site-packages\\matplotlib\\_api\\__init__.py:92\u001B[39m, in \u001B[36mcheck_isinstance\u001B[39m\u001B[34m(types, **kwargs)\u001B[39m\n\u001B[32m     90\u001B[39m     names.remove(\u001B[33m\"\u001B[39m\u001B[33mNone\u001B[39m\u001B[33m\"\u001B[39m)\n\u001B[32m     91\u001B[39m     names.append(\u001B[33m\"\u001B[39m\u001B[33mNone\u001B[39m\u001B[33m\"\u001B[39m)\n\u001B[32m---> \u001B[39m\u001B[32m92\u001B[39m \u001B[38;5;28;01mraise\u001B[39;00m \u001B[38;5;167;01mTypeError\u001B[39;00m(\n\u001B[32m     93\u001B[39m     \u001B[33m\"\u001B[39m\u001B[38;5;132;01m{!r}\u001B[39;00m\u001B[33m must be an instance of \u001B[39m\u001B[38;5;132;01m{}\u001B[39;00m\u001B[33m, not a \u001B[39m\u001B[38;5;132;01m{}\u001B[39;00m\u001B[33m\"\u001B[39m.format(\n\u001B[32m     94\u001B[39m         k,\n\u001B[32m     95\u001B[39m         \u001B[33m\"\u001B[39m\u001B[33m, \u001B[39m\u001B[33m\"\u001B[39m.join(names[:-\u001B[32m1\u001B[39m]) + \u001B[33m\"\u001B[39m\u001B[33m or \u001B[39m\u001B[33m\"\u001B[39m + names[-\u001B[32m1\u001B[39m]\n\u001B[32m     96\u001B[39m         \u001B[38;5;28;01mif\u001B[39;00m \u001B[38;5;28mlen\u001B[39m(names) > \u001B[32m1\u001B[39m \u001B[38;5;28;01melse\u001B[39;00m names[\u001B[32m0\u001B[39m],\n\u001B[32m     97\u001B[39m         type_name(\u001B[38;5;28mtype\u001B[39m(v))))\n",
      "\u001B[31mTypeError\u001B[39m: 'value' must be an instance of str or bytes, not a None"
     ]
    },
    {
     "data": {
      "text/plain": [
       "<Figure size 640x480 with 1 Axes>"
      ],
      "image/png": "[encoded data removed]"
     },
     "metadata": {},
     "output_type": "display_data"
    }
   ],
   "execution_count": 35
  },
  {
   "cell_type": "markdown",
   "source": [
    "3.   Zbadaj wpływ wybranych hiperparametrów modelu (np. liczba warstw liniowych modelu, rozmiary warstw) i procesu uczenia (np. początkowa wartość stopy uczenia, liczba epok, typ i parametry planisty stopy uczenia, typ i parametry optymalizatora) na skuteczność wytrenowanego modelu. Uruchom kilka eksperymentów z różnymi wartościami hiperparametrów i porównaj dokładność wytrenowanego modelu na zbiorze walidacyjnym. Następnie wykonaj finalną ewaluację najlepszego modelu na zbiorze testowym."
   ],
   "metadata": {
    "id": "sM8Ei6KE2xEL"
   }
  },
  {
   "cell_type": "code",
   "source": [],
   "metadata": {
    "id": "oSht-Jo02vpk"
   },
   "execution_count": null,
   "outputs": []
  }
 ],
 "metadata": {
  "accelerator": "GPU",
  "colab": {
   "gpuType": "T4",
   "provenance": []
  },
  "kernelspec": {
   "display_name": "Python 3 (ipykernel)",
   "name": "python3",
   "language": "python"
  },
  "language_info": {
   "name": "python"
  }
 },
 "nbformat": 4,
 "nbformat_minor": 0
}
