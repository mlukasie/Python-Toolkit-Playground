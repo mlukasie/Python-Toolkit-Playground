{
 "cells": [
  {
   "cell_type": "code",
   "id": "initial_id",
   "metadata": {
    "collapsed": true,
    "ExecuteTime": {
     "end_time": "2025-03-27T00:09:05.950717Z",
     "start_time": "2025-03-27T00:09:05.946792Z"
    }
   },
   "source": [
    "import pandas as pd\n",
    "import numpy as np\n",
    "import torch\n",
    "import torch.nn as nn\n",
    "import torch.utils.data as data\n",
    "import matplotlib.pyplot as plt\n",
    "from sklearn.preprocessing import LabelEncoder, StandardScaler\n",
    "from sklearn.model_selection import train_test_split\n",
    "from torch import optim\n",
    "import torch.nn.functional as F\n",
    "import os\n",
    "\n",
    "os.environ['CUDA_LAUNCH_BLOCKING'] = '1'\n",
    "\n",
    "device = torch.device(\"cuda\")\n",
    "\n",
    "if torch.cuda.is_available():\n",
    "    torch.cuda.manual_seed(42)\n",
    "    torch.cuda.manual_seed_all(42)\n",
    "\n",
    "torch.backends.cudnn.determinstic = True\n",
    "torch.backends.cudnn.benchmark = False"
   ],
   "outputs": [],
   "execution_count": 22
  },
  {
   "metadata": {},
   "cell_type": "markdown",
   "source": "## Pobranie danych",
   "id": "8c8f0783262c4790"
  },
  {
   "metadata": {
    "ExecuteTime": {
     "end_time": "2025-03-27T00:09:06.011141Z",
     "start_time": "2025-03-27T00:09:05.986232Z"
    }
   },
   "cell_type": "code",
   "source": [
    "df_raw = pd.read_csv('data/train_data.csv')\n",
    "evaluation_df_raw = pd.read_csv('data/test_data.csv')"
   ],
   "id": "f5aa06c26e9ffe5c",
   "outputs": [],
   "execution_count": 23
  },
  {
   "metadata": {},
   "cell_type": "markdown",
   "source": "## Preprocessing",
   "id": "fa0e04f1ffc61e8a"
  },
  {
   "metadata": {
    "ExecuteTime": {
     "end_time": "2025-03-27T00:09:06.184053Z",
     "start_time": "2025-03-27T00:09:06.173295Z"
    }
   },
   "cell_type": "code",
   "source": [
    "min_y = df_raw['SalePrice'].min()\n",
    "max_y = df_raw['SalePrice'].max()\n",
    "Y = pd.cut(df_raw['SalePrice'], bins=[min_y, 100000, 350000, max_y+1], labels=[0, 1, 2], right=False)\n",
    "X = df_raw.drop(columns=['SalePrice'])\n",
    "\n",
    "print(\"Unique y values:\", Y.unique())\n",
    "assert Y.min() >= 0 and Y.max() < 3, \"Labels out of range!\""
   ],
   "id": "9241fc0ddbbd5447",
   "outputs": [
    {
     "name": "stdout",
     "output_type": "stream",
     "text": [
      "Unique y values: [1, 0, 2]\n",
      "Categories (3, int64): [0 < 1 < 2]\n"
     ]
    }
   ],
   "execution_count": 24
  },
  {
   "metadata": {},
   "cell_type": "markdown",
   "source": "### Podział danych na zestaw treningowy, walidacyjny i testowy\n",
   "id": "87905e588f15592a"
  },
  {
   "metadata": {
    "ExecuteTime": {
     "end_time": "2025-03-27T00:09:06.207400Z",
     "start_time": "2025-03-27T00:09:06.195707Z"
    }
   },
   "cell_type": "code",
   "source": [
    "X_train, X_temp, y_train, y_temp = train_test_split(X, Y, test_size=0.2, stratify=Y, random_state=200,)\n",
    "X_val, X_test, y_val, y_test = train_test_split(X_temp, y_temp, test_size=0.5, stratify=y_temp, random_state=200)\n",
    "\n",
    "print(f'{X_train.shape=}')\n",
    "print(f'{X_val.shape=}')\n",
    "print(f'{X_test.shape=}')"
   ],
   "id": "e146cb70eb0dc0f4",
   "outputs": [
    {
     "name": "stdout",
     "output_type": "stream",
     "text": [
      "X_train.shape=(3299, 16)\n",
      "X_val.shape=(412, 16)\n",
      "X_test.shape=(413, 16)\n"
     ]
    }
   ],
   "execution_count": 25
  },
  {
   "metadata": {},
   "cell_type": "markdown",
   "source": "### Znalezienie nazw kolumn z kategorycznymi wartościami",
   "id": "96bd3929d0c7820b"
  },
  {
   "metadata": {
    "ExecuteTime": {
     "end_time": "2025-03-27T00:09:06.280052Z",
     "start_time": "2025-03-27T00:09:06.273929Z"
    }
   },
   "cell_type": "code",
   "source": [
    "categorical_cols = df_raw.select_dtypes(include=['object']).columns\n",
    "print(categorical_cols)"
   ],
   "id": "6164280cbf926283",
   "outputs": [
    {
     "name": "stdout",
     "output_type": "stream",
     "text": [
      "Index(['HallwayType', 'HeatingType', 'AptManageType', 'TimeToBusStop',\n",
      "       'TimeToSubway', 'SubwayStation'],\n",
      "      dtype='object')\n"
     ]
    }
   ],
   "execution_count": 26
  },
  {
   "metadata": {},
   "cell_type": "markdown",
   "source": "### Oddzielenie danych numerycznych",
   "id": "20655b1957ad4c38"
  },
  {
   "metadata": {
    "ExecuteTime": {
     "end_time": "2025-03-27T00:09:06.375456Z",
     "start_time": "2025-03-27T00:09:06.365538Z"
    }
   },
   "cell_type": "code",
   "source": [
    "X_train_num = X_train.drop(columns=categorical_cols)\n",
    "X_val_num = X_val.drop(columns=categorical_cols)\n",
    "X_test_num = X_test.drop(columns=categorical_cols)\n",
    "X_task_num = evaluation_df_raw.drop(categorical_cols, axis=1)\n",
    "\n",
    "X_train_num.head()"
   ],
   "id": "f18596051840723e",
   "outputs": [
    {
     "data": {
      "text/plain": [
       "      YearBuilt  Size(sqf)  Floor  N_Parkinglot(Ground)  \\\n",
       "3521       2009        910      7                  25.0   \n",
       "3199       2007       1483      6                   7.0   \n",
       "1766       2006        903      9                 123.0   \n",
       "2862       2008        829      4                 197.0   \n",
       "4031       1993       1761     15                 523.0   \n",
       "\n",
       "      N_Parkinglot(Basement)  N_manager  N_elevators  N_FacilitiesInApt  \\\n",
       "3521                   203.0        2.0          5.0                  5   \n",
       "3199                   605.0        5.0          5.0                  5   \n",
       "1766                   181.0        3.0         11.0                  4   \n",
       "2862                   475.0        6.0         14.0                  8   \n",
       "4031                   536.0        8.0         20.0                  4   \n",
       "\n",
       "      N_FacilitiesNearBy(Total)  N_SchoolNearBy(Total)  \n",
       "3521                        6.0                    5.0  \n",
       "3199                        9.0                    5.0  \n",
       "1766                        8.0                   11.0  \n",
       "2862                        7.0                    9.0  \n",
       "4031                       14.0                   17.0  "
      ],
      "text/html": [
       "<div>\n",
       "<style scoped>\n",
       "    .dataframe tbody tr th:only-of-type {\n",
       "        vertical-align: middle;\n",
       "    }\n",
       "\n",
       "    .dataframe tbody tr th {\n",
       "        vertical-align: top;\n",
       "    }\n",
       "\n",
       "    .dataframe thead th {\n",
       "        text-align: right;\n",
       "    }\n",
       "</style>\n",
       "<table border=\"1\" class=\"dataframe\">\n",
       "  <thead>\n",
       "    <tr style=\"text-align: right;\">\n",
       "      <th></th>\n",
       "      <th>YearBuilt</th>\n",
       "      <th>Size(sqf)</th>\n",
       "      <th>Floor</th>\n",
       "      <th>N_Parkinglot(Ground)</th>\n",
       "      <th>N_Parkinglot(Basement)</th>\n",
       "      <th>N_manager</th>\n",
       "      <th>N_elevators</th>\n",
       "      <th>N_FacilitiesInApt</th>\n",
       "      <th>N_FacilitiesNearBy(Total)</th>\n",
       "      <th>N_SchoolNearBy(Total)</th>\n",
       "    </tr>\n",
       "  </thead>\n",
       "  <tbody>\n",
       "    <tr>\n",
       "      <th>3521</th>\n",
       "      <td>2009</td>\n",
       "      <td>910</td>\n",
       "      <td>7</td>\n",
       "      <td>25.0</td>\n",
       "      <td>203.0</td>\n",
       "      <td>2.0</td>\n",
       "      <td>5.0</td>\n",
       "      <td>5</td>\n",
       "      <td>6.0</td>\n",
       "      <td>5.0</td>\n",
       "    </tr>\n",
       "    <tr>\n",
       "      <th>3199</th>\n",
       "      <td>2007</td>\n",
       "      <td>1483</td>\n",
       "      <td>6</td>\n",
       "      <td>7.0</td>\n",
       "      <td>605.0</td>\n",
       "      <td>5.0</td>\n",
       "      <td>5.0</td>\n",
       "      <td>5</td>\n",
       "      <td>9.0</td>\n",
       "      <td>5.0</td>\n",
       "    </tr>\n",
       "    <tr>\n",
       "      <th>1766</th>\n",
       "      <td>2006</td>\n",
       "      <td>903</td>\n",
       "      <td>9</td>\n",
       "      <td>123.0</td>\n",
       "      <td>181.0</td>\n",
       "      <td>3.0</td>\n",
       "      <td>11.0</td>\n",
       "      <td>4</td>\n",
       "      <td>8.0</td>\n",
       "      <td>11.0</td>\n",
       "    </tr>\n",
       "    <tr>\n",
       "      <th>2862</th>\n",
       "      <td>2008</td>\n",
       "      <td>829</td>\n",
       "      <td>4</td>\n",
       "      <td>197.0</td>\n",
       "      <td>475.0</td>\n",
       "      <td>6.0</td>\n",
       "      <td>14.0</td>\n",
       "      <td>8</td>\n",
       "      <td>7.0</td>\n",
       "      <td>9.0</td>\n",
       "    </tr>\n",
       "    <tr>\n",
       "      <th>4031</th>\n",
       "      <td>1993</td>\n",
       "      <td>1761</td>\n",
       "      <td>15</td>\n",
       "      <td>523.0</td>\n",
       "      <td>536.0</td>\n",
       "      <td>8.0</td>\n",
       "      <td>20.0</td>\n",
       "      <td>4</td>\n",
       "      <td>14.0</td>\n",
       "      <td>17.0</td>\n",
       "    </tr>\n",
       "  </tbody>\n",
       "</table>\n",
       "</div>"
      ]
     },
     "execution_count": 27,
     "metadata": {},
     "output_type": "execute_result"
    }
   ],
   "execution_count": 27
  },
  {
   "metadata": {},
   "cell_type": "markdown",
   "source": "### Oddzielenie danych kategorycznych",
   "id": "5c129576cc831baa"
  },
  {
   "metadata": {
    "ExecuteTime": {
     "end_time": "2025-03-27T00:09:06.465625Z",
     "start_time": "2025-03-27T00:09:06.456871Z"
    }
   },
   "cell_type": "code",
   "source": [
    "### Oddzielenie danych kategorycznych\n",
    "X_train_cat =  X_train[categorical_cols]\n",
    "X_val_cat =  X_val[categorical_cols]\n",
    "X_test_cat =  X_test[categorical_cols]\n",
    "X_task_cat = evaluation_df_raw[categorical_cols]\n",
    "\n",
    "X_train_cat.head()"
   ],
   "id": "9f2606bbcad99cab",
   "outputs": [
    {
     "data": {
      "text/plain": [
       "     HallwayType         HeatingType        AptManageType TimeToBusStop  \\\n",
       "3521    terraced  individual_heating  management_in_trust        0~5min   \n",
       "3199    terraced  individual_heating  management_in_trust        0~5min   \n",
       "1766    terraced  individual_heating  management_in_trust    5min~10min   \n",
       "2862    terraced  individual_heating  management_in_trust    5min~10min   \n",
       "4031       mixed  individual_heating  management_in_trust        0~5min   \n",
       "\n",
       "            TimeToSubway     SubwayStation  \n",
       "3521  no_bus_stop_nearby  no_subway_nearby  \n",
       "3199              0-5min        Banwoldang  \n",
       "1766              0-5min         Myung-duk  \n",
       "2862              0-5min           Sin-nam  \n",
       "4031         15min~20min         Myung-duk  "
      ],
      "text/html": [
       "<div>\n",
       "<style scoped>\n",
       "    .dataframe tbody tr th:only-of-type {\n",
       "        vertical-align: middle;\n",
       "    }\n",
       "\n",
       "    .dataframe tbody tr th {\n",
       "        vertical-align: top;\n",
       "    }\n",
       "\n",
       "    .dataframe thead th {\n",
       "        text-align: right;\n",
       "    }\n",
       "</style>\n",
       "<table border=\"1\" class=\"dataframe\">\n",
       "  <thead>\n",
       "    <tr style=\"text-align: right;\">\n",
       "      <th></th>\n",
       "      <th>HallwayType</th>\n",
       "      <th>HeatingType</th>\n",
       "      <th>AptManageType</th>\n",
       "      <th>TimeToBusStop</th>\n",
       "      <th>TimeToSubway</th>\n",
       "      <th>SubwayStation</th>\n",
       "    </tr>\n",
       "  </thead>\n",
       "  <tbody>\n",
       "    <tr>\n",
       "      <th>3521</th>\n",
       "      <td>terraced</td>\n",
       "      <td>individual_heating</td>\n",
       "      <td>management_in_trust</td>\n",
       "      <td>0~5min</td>\n",
       "      <td>no_bus_stop_nearby</td>\n",
       "      <td>no_subway_nearby</td>\n",
       "    </tr>\n",
       "    <tr>\n",
       "      <th>3199</th>\n",
       "      <td>terraced</td>\n",
       "      <td>individual_heating</td>\n",
       "      <td>management_in_trust</td>\n",
       "      <td>0~5min</td>\n",
       "      <td>0-5min</td>\n",
       "      <td>Banwoldang</td>\n",
       "    </tr>\n",
       "    <tr>\n",
       "      <th>1766</th>\n",
       "      <td>terraced</td>\n",
       "      <td>individual_heating</td>\n",
       "      <td>management_in_trust</td>\n",
       "      <td>5min~10min</td>\n",
       "      <td>0-5min</td>\n",
       "      <td>Myung-duk</td>\n",
       "    </tr>\n",
       "    <tr>\n",
       "      <th>2862</th>\n",
       "      <td>terraced</td>\n",
       "      <td>individual_heating</td>\n",
       "      <td>management_in_trust</td>\n",
       "      <td>5min~10min</td>\n",
       "      <td>0-5min</td>\n",
       "      <td>Sin-nam</td>\n",
       "    </tr>\n",
       "    <tr>\n",
       "      <th>4031</th>\n",
       "      <td>mixed</td>\n",
       "      <td>individual_heating</td>\n",
       "      <td>management_in_trust</td>\n",
       "      <td>0~5min</td>\n",
       "      <td>15min~20min</td>\n",
       "      <td>Myung-duk</td>\n",
       "    </tr>\n",
       "  </tbody>\n",
       "</table>\n",
       "</div>"
      ]
     },
     "execution_count": 28,
     "metadata": {},
     "output_type": "execute_result"
    }
   ],
   "execution_count": 28
  },
  {
   "metadata": {},
   "cell_type": "markdown",
   "source": "### Przygotowanie danych kategorycznych do embeddingu\n",
   "id": "bb138c8ca3951da"
  },
  {
   "metadata": {
    "ExecuteTime": {
     "end_time": "2025-03-27T00:09:06.552093Z",
     "start_time": "2025-03-27T00:09:06.537293Z"
    }
   },
   "cell_type": "code",
   "source": [
    "X_train_cat = X_train_cat.copy()\n",
    "X_val_cat = X_val_cat.copy()\n",
    "X_test_cat = X_test_cat.copy()\n",
    "X_task_cat = X_task_cat.copy()\n",
    "\n",
    "for col in categorical_cols:\n",
    "    ecd = LabelEncoder()\n",
    "    X_train_cat[col] = ecd.fit_transform(X_train_cat[col])\n",
    "    X_val_cat[col] = ecd.transform(X_val_cat[col])\n",
    "    X_test_cat[col] = ecd.transform(X_test_cat[col])\n",
    "    X_task_cat[col] = ecd.transform(X_task_cat[col])\n",
    "\n",
    "X_train_cat = X_train_cat.values\n",
    "X_val_cat = X_val_cat.values\n",
    "X_test_cat = X_test_cat.values\n",
    "X_task_cat = X_task_cat.values\n",
    "\n",
    "X_train_cat[0:5]"
   ],
   "id": "13a6bee7fbc1ada3",
   "outputs": [
    {
     "data": {
      "text/plain": [
       "array([[2, 1, 0, 0, 4, 7],\n",
       "       [2, 1, 0, 0, 0, 1],\n",
       "       [2, 1, 0, 2, 0, 5],\n",
       "       [2, 1, 0, 2, 0, 6],\n",
       "       [1, 1, 0, 0, 2, 5]])"
      ]
     },
     "execution_count": 29,
     "metadata": {},
     "output_type": "execute_result"
    }
   ],
   "execution_count": 29
  },
  {
   "metadata": {},
   "cell_type": "markdown",
   "source": "### Normalizacja danych numerycznych",
   "id": "d18f191f625cc780"
  },
  {
   "metadata": {
    "ExecuteTime": {
     "end_time": "2025-03-27T00:09:06.669005Z",
     "start_time": "2025-03-27T00:09:06.660094Z"
    }
   },
   "cell_type": "code",
   "source": [
    "scaler = StandardScaler()\n",
    "X_train_num = scaler.fit_transform(X_train_num.values)\n",
    "X_val_num = scaler.transform(X_val_num.values)\n",
    "X_test_num = scaler.transform(X_test_num.values)\n",
    "X_task_num = scaler.transform(X_task_num)\n",
    "\n",
    "X_train_num[:5]"
   ],
   "id": "a83531f75a8d6d79",
   "outputs": [
    {
     "name": "stderr",
     "output_type": "stream",
     "text": [
      "C:\\Users\\mateu\\Documents\\GitHub\\Python-Toolkit-Playground\\.venv\\Lib\\site-packages\\sklearn\\utils\\validation.py:2732: UserWarning: X has feature names, but StandardScaler was fitted without feature names\n",
      "  warnings.warn(\n"
     ]
    },
    {
     "data": {
      "text/plain": [
       "array([[ 0.68687114, -0.12947993, -0.66801474, -0.78291258, -0.90102631,\n",
       "        -1.33027012, -0.78888809, -0.35294909, -1.10076723, -1.32172051],\n",
       "       [ 0.45858302,  1.36372945, -0.80023893, -0.86666098,  0.08549872,\n",
       "        -0.40297872, -0.78888809, -0.35294909, -0.23600351, -1.32172051],\n",
       "       [ 0.34443896, -0.14772159, -0.40356635, -0.32694906, -0.95501524,\n",
       "        -1.02117299, -0.00671764, -0.77883755, -0.52425808,  0.03326891],\n",
       "       [ 0.57272708, -0.34056189, -1.06468732,  0.01734992, -0.23352679,\n",
       "        -0.09388158,  0.38436759,  0.92471628, -0.81251266, -0.41839423],\n",
       "       [-1.13943384,  2.08818357,  0.3897788 ,  1.53412651, -0.08383021,\n",
       "         0.52431269,  1.16653804, -0.77883755,  1.20526934,  1.38825833]])"
      ]
     },
     "execution_count": 30,
     "metadata": {},
     "output_type": "execute_result"
    }
   ],
   "execution_count": 30
  },
  {
   "metadata": {},
   "cell_type": "markdown",
   "source": "## Definicja sieci",
   "id": "e202451c4674fd59"
  },
  {
   "metadata": {
    "ExecuteTime": {
     "end_time": "2025-03-27T00:09:06.790932Z",
     "start_time": "2025-03-27T00:09:06.784025Z"
    }
   },
   "cell_type": "code",
   "source": [
    "class ApartmentPriceClassifier(nn.Module):\n",
    "    def __init__(self, num_categories_list, embedding_dim):\n",
    "        super(ApartmentPriceClassifier, self).__init__()\n",
    "        self.emb_layers = nn.ModuleList([\n",
    "            nn.Embedding(num_categories, embedding_dim) for num_categories in num_categories_list\n",
    "        ])\n",
    "        self.act_emb = nn.Tanh()\n",
    "        total_input_size = X_train_num.shape[1] + X_train_cat.shape[1] * embedding_dim\n",
    "        self.layers = nn.Sequential(\n",
    "            self._make_block(total_input_size, out_features=4096, dropout=0.1),\n",
    "            self._make_block(in_features=4096, out_features=2048, dropout=0.1),\n",
    "            self._make_block(in_features=2048, out_features=512, dropout=0.1),\n",
    "            self._make_block(in_features=512, out_features=10, dropout=0.1),\n",
    "            nn.Linear(10, 3)\n",
    "            )\n",
    "\n",
    "    @staticmethod\n",
    "    def _make_block(in_features, out_features, dropout=0.2):\n",
    "        return nn.Sequential(\n",
    "            nn.Linear(in_features, out_features),\n",
    "            nn.BatchNorm1d(out_features),\n",
    "            nn.LeakyReLU(),\n",
    "            nn.Dropout(dropout)\n",
    "        )\n",
    "\n",
    "    def forward(self, x, cat_x):\n",
    "        cat_x_embedded_list = [self.emb_layers[i](cat_x[:, i]) for i in range(cat_x.shape[1])]\n",
    "        cat_x_embedded = torch.cat(cat_x_embedded_list, dim=1)\n",
    "        cat_x_embedded = self.act_emb(cat_x_embedded)\n",
    "\n",
    "        x = torch.cat([x, cat_x_embedded], dim=1).float()\n",
    "\n",
    "        return self.layers(x)"
   ],
   "id": "5ae6670e0b0f8244",
   "outputs": [],
   "execution_count": 31
  },
  {
   "metadata": {
    "ExecuteTime": {
     "end_time": "2025-03-27T00:09:06.845152Z",
     "start_time": "2025-03-27T00:09:06.840443Z"
    }
   },
   "cell_type": "code",
   "source": [
    "from tqdm import tqdm\n",
    "import torchmetrics\n",
    "\n",
    "def evaluate(model, dataloader, device, num_classes, verbose=2):\n",
    "    model.eval()\n",
    "    metric_acc = torchmetrics.classification.Accuracy(task='multiclass', num_classes=num_classes, average='macro').to(device)\n",
    "    metric_f1 = torchmetrics.classification.F1Score(task='multiclass', num_classes=num_classes, average='macro').to(device)\n",
    "\n",
    "    for X_num, X_cat, y in tqdm(dataloader, disable=(verbose<2)):\n",
    "        X_num, X_cat, y = X_num.to(device), X_cat.to(device),  y.to(device)\n",
    "\n",
    "        with torch.no_grad():\n",
    "            logits = model(X_num, X_cat)\n",
    "\n",
    "            _, preds = torch.max(logits, dim=1)\n",
    "            metric_acc(preds, y)\n",
    "            metric_f1(preds, y)\n",
    "\n",
    "    return metric_acc.compute(), metric_f1.compute()"
   ],
   "id": "d9725ba3e4f2d51a",
   "outputs": [],
   "execution_count": 32
  },
  {
   "metadata": {
    "ExecuteTime": {
     "end_time": "2025-03-27T00:09:06.926778Z",
     "start_time": "2025-03-27T00:09:06.921083Z"
    }
   },
   "cell_type": "code",
   "source": [
    "def train(model, train_dataloader, val_dataloader, criterion, optimizer, num_classes, num_epochs,   verbose=2):\n",
    "    metric_acc = torchmetrics.classification.Accuracy(task='multiclass', num_classes=num_classes, average='macro').to(device)\n",
    "    metric_f1 = torchmetrics.classification.F1Score(task='multiclass', num_classes=num_classes, average='macro').to(device)\n",
    "\n",
    "    losses = []\n",
    "    train_accuracies = []\n",
    "    val_accuracies = []\n",
    "\n",
    "    for epoch in range(num_epochs):\n",
    "        model.train()\n",
    "\n",
    "        for X_num, X_cat, y in tqdm(train_dataloader, disable=(verbose<2)):\n",
    "            X_num, X_cat, y = X_num.to(device), X_cat.to(device), y.to(device)\n",
    "\n",
    "            optimizer.zero_grad()\n",
    "\n",
    "            logits = model(X_num, X_cat)\n",
    "\n",
    "            loss = criterion(logits, y)\n",
    "            loss.backward()\n",
    "            optimizer.step()\n",
    "\n",
    "            _, preds = torch.max(logits, dim=1)\n",
    "            metric_acc(preds, y)\n",
    "            metric_f1(preds, y)\n",
    "\n",
    "        train_accuracy = metric_acc.compute()\n",
    "        train_f1 = metric_f1.compute()\n",
    "        metric_acc.reset()\n",
    "        metric_f1.reset()\n",
    "\n",
    "        val_accuracy, val_f1 = evaluate(model, val_dataloader, device, num_classes=num_classes, verbose=verbose)\n",
    "\n",
    "        losses.append(loss.item())\n",
    "        train_accuracies.append(train_accuracy.item())\n",
    "        val_accuracies.append(val_accuracy.item())\n",
    "\n",
    "        if verbose >= 1:\n",
    "            print(f'Epoch {epoch}: {loss.item()=:.3f}')\n",
    "            print(f'\\t{train_accuracy=:.3f}, {train_f1=:.3f}')\n",
    "            print(f'\\t{val_accuracy=:.3f}, {val_f1=:.3f}')\n",
    "            print('')\n",
    "\n",
    "    return list(range(num_epochs)), losses, train_accuracies, val_accuracies"
   ],
   "id": "ebee9f43ddadf202",
   "outputs": [],
   "execution_count": 33
  },
  {
   "metadata": {
    "ExecuteTime": {
     "end_time": "2025-03-27T00:09:07.008910Z",
     "start_time": "2025-03-27T00:09:07.001501Z"
    }
   },
   "cell_type": "code",
   "source": [
    "from sklearn.utils.class_weight import compute_class_weight\n",
    "\n",
    "class_weight = compute_class_weight(\n",
    "    class_weight='balanced',\n",
    "    classes = np.unique(y_train),\n",
    "    y=y_train\n",
    ")\n",
    "\n",
    "class_weight"
   ],
   "id": "3a0efabfacf8aa6c",
   "outputs": [
    {
     "data": {
      "text/plain": [
       "array([2.47116105, 0.45857659, 2.41154971])"
      ]
     },
     "execution_count": 34,
     "metadata": {},
     "output_type": "execute_result"
    }
   ],
   "execution_count": 34
  },
  {
   "metadata": {
    "ExecuteTime": {
     "end_time": "2025-03-27T00:09:07.040168Z",
     "start_time": "2025-03-27T00:09:07.026082Z"
    }
   },
   "cell_type": "code",
   "source": [
    "X_train_num = torch.from_numpy(X_train_num).to(dtype=torch.float64)\n",
    "X_train_cat = torch.from_numpy(X_train_cat).to(device=device)\n",
    "y_train = torch.tensor(y_train.values).to(device=device)\n",
    "\n",
    "X_val_num = torch.from_numpy(X_val_num).float().to(device=device, dtype=torch.float64)\n",
    "X_val_cat = torch.from_numpy(X_val_cat).to(device=device)\n",
    "y_val = torch.tensor(y_val.values).to(device=device)\n",
    "\n",
    "X_test_num = torch.from_numpy(X_test_num).float().to(device=device, dtype=torch.float64)\n",
    "X_test_cat = torch.from_numpy(X_test_cat).to(device=device)\n",
    "y_test = torch.tensor(y_test.values).to(device=device)\n",
    "\n",
    "X_task_num = torch.from_numpy(X_task_num).to(device=device, dtype=torch.float64)\n",
    "X_task_cat = torch.from_numpy(X_task_cat).to(device=device)"
   ],
   "id": "3da0924267e0621d",
   "outputs": [],
   "execution_count": 35
  },
  {
   "metadata": {
    "ExecuteTime": {
     "end_time": "2025-03-27T00:09:07.127620Z",
     "start_time": "2025-03-27T00:09:07.124062Z"
    }
   },
   "cell_type": "code",
   "source": [
    "train_dataset = data.TensorDataset(X_train_num, X_train_cat, y_train)\n",
    "train_loader = data.DataLoader(train_dataset, batch_size=64, shuffle=True)\n",
    "val_dataset = data.TensorDataset(X_val_num, X_val_cat, y_val)\n",
    "val_loader = data.DataLoader(val_dataset, batch_size=64, shuffle=True)"
   ],
   "id": "f699e464439bbf59",
   "outputs": [],
   "execution_count": 36
  },
  {
   "metadata": {
    "ExecuteTime": {
     "end_time": "2025-03-27T00:09:07.228357Z",
     "start_time": "2025-03-27T00:09:07.222668Z"
    }
   },
   "cell_type": "code",
   "source": "num_categories = [np.unique(X_train_cat.cpu()[:, i]).size for i in range(X_train_cat.shape[1])]",
   "id": "75c6b51cc45e7fb3",
   "outputs": [],
   "execution_count": 37
  },
  {
   "metadata": {
    "ExecuteTime": {
     "end_time": "2025-03-27T00:09:07.446775Z",
     "start_time": "2025-03-27T00:09:07.383406Z"
    }
   },
   "cell_type": "code",
   "source": [
    "classifier = ApartmentPriceClassifier(num_categories_list=num_categories, embedding_dim=8).to(device)\n",
    "optimizer = torch.optim.Adam(classifier.parameters(), lr = 0.001, weight_decay=0.001)\n",
    "criterion = nn.CrossEntropyLoss(weight=torch.FloatTensor(class_weight).to(device))"
   ],
   "id": "f8293ae84af795f6",
   "outputs": [],
   "execution_count": 38
  },
  {
   "metadata": {
    "ExecuteTime": {
     "end_time": "2025-03-27T00:17:20.997523Z",
     "start_time": "2025-03-27T00:17:17.482308Z"
    }
   },
   "cell_type": "code",
   "source": [
    "from matplotlib import pyplot as plt\n",
    "import seaborn as sns\n",
    "\n",
    "num_classes=3\n",
    "num_epochs=100\n",
    "verbose=1\n",
    "\n",
    "epochs, losses, train_accuracies, val_accuracies = train(classifier, train_loader, val_loader, criterion,   optimizer, num_classes=3, num_epochs=100, verbose=1)\n",
    "\n",
    "sns.set_style(\"whitegrid\")\n",
    "\n",
    "fig, (ax1, ax2) = plt.subplots(2, 1, figsize=(12, 10))\n",
    "\n",
    "sns.lineplot(x=num_epochs, y=losses, ax=ax1, color='r')\n",
    "ax1.set_title('Learning Curve - Loss')\n",
    "ax1.set_xlabel('Epochs')\n",
    "ax1.set_ylabel('Loss')\n",
    "\n",
    "sns.lineplot(x=num_epochs, y=train_accuracies, ax=ax2, label='Train Accuracy')\n",
    "sns.lineplot(x=num_epochs, y=val_accuracies, ax=ax2, label='Validation Accuracy')\n",
    "ax2.set_title('Learning Curve - Accuracy')\n",
    "ax2.set_xlabel('Epochs')\n",
    "ax2.set_ylabel('Accuracy')\n",
    "ax2.legend()\n",
    "\n",
    "plt.tight_layout()\n",
    "plt.show()"
   ],
   "id": "c8b644ad58bdc424",
   "outputs": [
    {
     "name": "stdout",
     "output_type": "stream",
     "text": [
      "Epoch 0: loss.item()=0.250\n",
      "\ttrain_accuracy=0.883, train_f1=0.762\n",
      "\tval_accuracy=0.882, val_f1=0.741\n",
      "\n",
      "Epoch 1: loss.item()=0.289\n",
      "\ttrain_accuracy=0.881, train_f1=0.758\n",
      "\tval_accuracy=0.884, val_f1=0.744\n",
      "\n",
      "Epoch 2: loss.item()=0.525\n",
      "\ttrain_accuracy=0.889, train_f1=0.759\n",
      "\tval_accuracy=0.882, val_f1=0.741\n",
      "\n",
      "Epoch 3: loss.item()=0.450\n",
      "\ttrain_accuracy=0.887, train_f1=0.760\n",
      "\tval_accuracy=0.892, val_f1=0.751\n",
      "\n"
     ]
    },
    {
     "name": "stderr",
     "output_type": "stream",
     "text": [
      "C:\\Users\\mateu\\AppData\\Local\\Temp\\ipykernel_32276\\998123202.py:27: UserWarning: FigureCanvasAgg is non-interactive, and thus cannot be shown\n",
      "  fig.show()\n"
     ]
    },
    {
     "data": {
      "text/plain": [
       "<Figure size 1200x1000 with 2 Axes>"
      ],
      "image/png": "[encoded data removed]"
     },
     "metadata": {},
     "output_type": "display_data"
    }
   ],
   "execution_count": 42
  },
  {
   "metadata": {},
   "cell_type": "code",
   "outputs": [],
   "execution_count": null,
   "source": "",
   "id": "6aed6a353ee2692c"
  }
 ],
 "metadata": {
  "kernelspec": {
   "display_name": "Python 3",
   "language": "python",
   "name": "python3"
  },
  "language_info": {
   "codemirror_mode": {
    "name": "ipython",
    "version": 2
   },
   "file_extension": ".py",
   "mimetype": "text/x-python",
   "name": "python",
   "nbconvert_exporter": "python",
   "pygments_lexer": "ipython2",
   "version": "2.7.6"
  }
 },
 "nbformat": 4,
 "nbformat_minor": 5
}
