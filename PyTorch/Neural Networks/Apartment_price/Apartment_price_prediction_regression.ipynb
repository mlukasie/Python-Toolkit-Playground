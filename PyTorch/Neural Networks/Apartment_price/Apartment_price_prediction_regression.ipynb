{
 "cells": [
  {
   "cell_type": "code",
   "id": "initial_id",
   "metadata": {
    "collapsed": true,
    "ExecuteTime": {
     "end_time": "2025-03-26T16:50:42.681465Z",
     "start_time": "2025-03-26T16:50:42.677752Z"
    }
   },
   "source": [
    "import pandas as pd\n",
    "import numpy as np\n",
    "import torch\n",
    "import torch.nn as nn\n",
    "import torch.utils.data as data\n",
    "import matplotlib.pyplot as plt\n",
    "from sklearn.preprocessing import LabelEncoder, StandardScaler\n",
    "from sklearn.model_selection import train_test_split\n",
    "from torch import optim\n",
    "import torch.nn.functional as F\n",
    "\n",
    "device = torch.device(\"cuda\")\n",
    "\n",
    "if torch.cuda.is_available():\n",
    "    torch.cuda.manual_seed(42)\n",
    "    torch.cuda.manual_seed_all(42)\n",
    "\n",
    "torch.backends.cudnn.determinstic = True\n",
    "torch.backends.cudnn.benchmark = False"
   ],
   "outputs": [],
   "execution_count": 301
  },
  {
   "metadata": {},
   "cell_type": "markdown",
   "source": "## Pobranie danych",
   "id": "6796cc0b3f053ceb"
  },
  {
   "metadata": {
    "ExecuteTime": {
     "end_time": "2025-03-26T19:27:18.519808Z",
     "start_time": "2025-03-26T19:27:18.496332Z"
    }
   },
   "cell_type": "code",
   "source": [
    "df_raw = pd.read_csv('data/train_data.csv')\n",
    "evaluation_df_raw = pd.read_csv('data/test_data.csv')\n",
    "\n",
    "\n",
    "df_raw.head()"
   ],
   "id": "d3c0162f100a40c",
   "outputs": [
    {
     "data": {
      "text/plain": [
       "   SalePrice  YearBuilt  Size(sqf)  Floor HallwayType         HeatingType  \\\n",
       "0     141592       2006        814      3    terraced  individual_heating   \n",
       "1      51327       1985        587      8    corridor  individual_heating   \n",
       "2      48672       1985        587      6    corridor  individual_heating   \n",
       "3     380530       2006       2056      8    terraced  individual_heating   \n",
       "4      78318       1992        644      2       mixed  individual_heating   \n",
       "\n",
       "         AptManageType  N_Parkinglot(Ground)  N_Parkinglot(Basement)  \\\n",
       "0  management_in_trust                 111.0                   184.0   \n",
       "1      self_management                  80.0                    76.0   \n",
       "2      self_management                  80.0                    76.0   \n",
       "3  management_in_trust                 249.0                   536.0   \n",
       "4      self_management                 142.0                    79.0   \n",
       "\n",
       "  TimeToBusStop TimeToSubway  N_manager  N_elevators          SubwayStation  \\\n",
       "0    5min~10min  10min~15min        3.0          0.0  Kyungbuk_uni_hospital   \n",
       "1        0~5min   5min~10min        2.0          2.0                  Daegu   \n",
       "2        0~5min   5min~10min        2.0          2.0                  Daegu   \n",
       "3        0~5min       0-5min        5.0         11.0                Sin-nam   \n",
       "4    5min~10min  15min~20min        4.0          8.0              Myung-duk   \n",
       "\n",
       "   N_FacilitiesInApt  N_FacilitiesNearBy(Total)  N_SchoolNearBy(Total)  \n",
       "0                  5                        6.0                    9.0  \n",
       "1                  3                       12.0                    4.0  \n",
       "2                  3                       12.0                    4.0  \n",
       "3                  5                        3.0                    7.0  \n",
       "4                  3                        9.0                   14.0  "
      ],
      "text/html": [
       "<div>\n",
       "<style scoped>\n",
       "    .dataframe tbody tr th:only-of-type {\n",
       "        vertical-align: middle;\n",
       "    }\n",
       "\n",
       "    .dataframe tbody tr th {\n",
       "        vertical-align: top;\n",
       "    }\n",
       "\n",
       "    .dataframe thead th {\n",
       "        text-align: right;\n",
       "    }\n",
       "</style>\n",
       "<table border=\"1\" class=\"dataframe\">\n",
       "  <thead>\n",
       "    <tr style=\"text-align: right;\">\n",
       "      <th></th>\n",
       "      <th>SalePrice</th>\n",
       "      <th>YearBuilt</th>\n",
       "      <th>Size(sqf)</th>\n",
       "      <th>Floor</th>\n",
       "      <th>HallwayType</th>\n",
       "      <th>HeatingType</th>\n",
       "      <th>AptManageType</th>\n",
       "      <th>N_Parkinglot(Ground)</th>\n",
       "      <th>N_Parkinglot(Basement)</th>\n",
       "      <th>TimeToBusStop</th>\n",
       "      <th>TimeToSubway</th>\n",
       "      <th>N_manager</th>\n",
       "      <th>N_elevators</th>\n",
       "      <th>SubwayStation</th>\n",
       "      <th>N_FacilitiesInApt</th>\n",
       "      <th>N_FacilitiesNearBy(Total)</th>\n",
       "      <th>N_SchoolNearBy(Total)</th>\n",
       "    </tr>\n",
       "  </thead>\n",
       "  <tbody>\n",
       "    <tr>\n",
       "      <th>0</th>\n",
       "      <td>141592</td>\n",
       "      <td>2006</td>\n",
       "      <td>814</td>\n",
       "      <td>3</td>\n",
       "      <td>terraced</td>\n",
       "      <td>individual_heating</td>\n",
       "      <td>management_in_trust</td>\n",
       "      <td>111.0</td>\n",
       "      <td>184.0</td>\n",
       "      <td>5min~10min</td>\n",
       "      <td>10min~15min</td>\n",
       "      <td>3.0</td>\n",
       "      <td>0.0</td>\n",
       "      <td>Kyungbuk_uni_hospital</td>\n",
       "      <td>5</td>\n",
       "      <td>6.0</td>\n",
       "      <td>9.0</td>\n",
       "    </tr>\n",
       "    <tr>\n",
       "      <th>1</th>\n",
       "      <td>51327</td>\n",
       "      <td>1985</td>\n",
       "      <td>587</td>\n",
       "      <td>8</td>\n",
       "      <td>corridor</td>\n",
       "      <td>individual_heating</td>\n",
       "      <td>self_management</td>\n",
       "      <td>80.0</td>\n",
       "      <td>76.0</td>\n",
       "      <td>0~5min</td>\n",
       "      <td>5min~10min</td>\n",
       "      <td>2.0</td>\n",
       "      <td>2.0</td>\n",
       "      <td>Daegu</td>\n",
       "      <td>3</td>\n",
       "      <td>12.0</td>\n",
       "      <td>4.0</td>\n",
       "    </tr>\n",
       "    <tr>\n",
       "      <th>2</th>\n",
       "      <td>48672</td>\n",
       "      <td>1985</td>\n",
       "      <td>587</td>\n",
       "      <td>6</td>\n",
       "      <td>corridor</td>\n",
       "      <td>individual_heating</td>\n",
       "      <td>self_management</td>\n",
       "      <td>80.0</td>\n",
       "      <td>76.0</td>\n",
       "      <td>0~5min</td>\n",
       "      <td>5min~10min</td>\n",
       "      <td>2.0</td>\n",
       "      <td>2.0</td>\n",
       "      <td>Daegu</td>\n",
       "      <td>3</td>\n",
       "      <td>12.0</td>\n",
       "      <td>4.0</td>\n",
       "    </tr>\n",
       "    <tr>\n",
       "      <th>3</th>\n",
       "      <td>380530</td>\n",
       "      <td>2006</td>\n",
       "      <td>2056</td>\n",
       "      <td>8</td>\n",
       "      <td>terraced</td>\n",
       "      <td>individual_heating</td>\n",
       "      <td>management_in_trust</td>\n",
       "      <td>249.0</td>\n",
       "      <td>536.0</td>\n",
       "      <td>0~5min</td>\n",
       "      <td>0-5min</td>\n",
       "      <td>5.0</td>\n",
       "      <td>11.0</td>\n",
       "      <td>Sin-nam</td>\n",
       "      <td>5</td>\n",
       "      <td>3.0</td>\n",
       "      <td>7.0</td>\n",
       "    </tr>\n",
       "    <tr>\n",
       "      <th>4</th>\n",
       "      <td>78318</td>\n",
       "      <td>1992</td>\n",
       "      <td>644</td>\n",
       "      <td>2</td>\n",
       "      <td>mixed</td>\n",
       "      <td>individual_heating</td>\n",
       "      <td>self_management</td>\n",
       "      <td>142.0</td>\n",
       "      <td>79.0</td>\n",
       "      <td>5min~10min</td>\n",
       "      <td>15min~20min</td>\n",
       "      <td>4.0</td>\n",
       "      <td>8.0</td>\n",
       "      <td>Myung-duk</td>\n",
       "      <td>3</td>\n",
       "      <td>9.0</td>\n",
       "      <td>14.0</td>\n",
       "    </tr>\n",
       "  </tbody>\n",
       "</table>\n",
       "</div>"
      ]
     },
     "execution_count": 348,
     "metadata": {},
     "output_type": "execute_result"
    }
   ],
   "execution_count": 348
  },
  {
   "metadata": {},
   "cell_type": "markdown",
   "source": "## Preprocessing",
   "id": "574a2c2fd30e3dd9"
  },
  {
   "metadata": {
    "ExecuteTime": {
     "end_time": "2025-03-26T16:50:42.844998Z",
     "start_time": "2025-03-26T16:50:42.839080Z"
    }
   },
   "cell_type": "code",
   "source": "df_raw.info()",
   "id": "573b9af55e8a1218",
   "outputs": [
    {
     "name": "stdout",
     "output_type": "stream",
     "text": [
      "<class 'pandas.core.frame.DataFrame'>\n",
      "RangeIndex: 4124 entries, 0 to 4123\n",
      "Data columns (total 17 columns):\n",
      " #   Column                     Non-Null Count  Dtype  \n",
      "---  ------                     --------------  -----  \n",
      " 0   SalePrice                  4124 non-null   int64  \n",
      " 1   YearBuilt                  4124 non-null   int64  \n",
      " 2   Size(sqf)                  4124 non-null   int64  \n",
      " 3   Floor                      4124 non-null   int64  \n",
      " 4   HallwayType                4124 non-null   object \n",
      " 5   HeatingType                4124 non-null   object \n",
      " 6   AptManageType              4124 non-null   object \n",
      " 7   N_Parkinglot(Ground)       4124 non-null   float64\n",
      " 8   N_Parkinglot(Basement)     4124 non-null   float64\n",
      " 9   TimeToBusStop              4124 non-null   object \n",
      " 10  TimeToSubway               4124 non-null   object \n",
      " 11  N_manager                  4124 non-null   float64\n",
      " 12  N_elevators                4124 non-null   float64\n",
      " 13  SubwayStation              4124 non-null   object \n",
      " 14  N_FacilitiesInApt          4124 non-null   int64  \n",
      " 15  N_FacilitiesNearBy(Total)  4124 non-null   float64\n",
      " 16  N_SchoolNearBy(Total)      4124 non-null   float64\n",
      "dtypes: float64(6), int64(5), object(6)\n",
      "memory usage: 547.8+ KB\n"
     ]
    }
   ],
   "execution_count": 303
  },
  {
   "metadata": {},
   "cell_type": "markdown",
   "source": "### Podział danych na zestaw treningowy, walidacyjny i testowy",
   "id": "e61ede95fc0316c6"
  },
  {
   "metadata": {
    "ExecuteTime": {
     "end_time": "2025-03-26T19:27:23.203108Z",
     "start_time": "2025-03-26T19:27:23.194818Z"
    }
   },
   "cell_type": "code",
   "source": [
    "train=df_raw.sample(frac=0.8,random_state=200) #random state is a seed value\n",
    "test=df_raw.drop(train.index)\n",
    "train, val = train_test_split(train, test_size=0.2, random_state=200)"
   ],
   "id": "fa7f451dc7e8f88",
   "outputs": [],
   "execution_count": 349
  },
  {
   "metadata": {},
   "cell_type": "markdown",
   "source": "### Znalezienie nazw kolumn z kategorycznymi wartościami",
   "id": "9fb959930dd2293a"
  },
  {
   "metadata": {
    "ExecuteTime": {
     "end_time": "2025-03-26T19:27:25.209692Z",
     "start_time": "2025-03-26T19:27:25.204890Z"
    }
   },
   "cell_type": "code",
   "source": [
    "categorical_cols = df_raw.select_dtypes(include=['object']).columns\n",
    "print(categorical_cols)"
   ],
   "id": "8fce1886883c73a8",
   "outputs": [
    {
     "name": "stdout",
     "output_type": "stream",
     "text": [
      "Index(['HallwayType', 'HeatingType', 'AptManageType', 'TimeToBusStop',\n",
      "       'TimeToSubway', 'SubwayStation'],\n",
      "      dtype='object')\n"
     ]
    }
   ],
   "execution_count": 350
  },
  {
   "metadata": {},
   "cell_type": "markdown",
   "source": "### Oddzielenie danych numerycznych",
   "id": "a731cddf2a14eab2"
  },
  {
   "metadata": {
    "ExecuteTime": {
     "end_time": "2025-03-26T19:27:27.834614Z",
     "start_time": "2025-03-26T19:27:27.824813Z"
    }
   },
   "cell_type": "code",
   "source": [
    "train_num = train.drop(columns=categorical_cols)\n",
    "val_num = val.drop(columns=categorical_cols)\n",
    "test_num = test.drop(columns=categorical_cols)\n",
    "\n",
    "X_train_num = train_num.drop(columns=['SalePrice'])\n",
    "X_val_num = val_num.drop(columns=['SalePrice'])\n",
    "X_test_num = test_num.drop(columns=['SalePrice'])\n",
    "\n",
    "X_train_num.head()"
   ],
   "id": "d9edc80f5908c6c7",
   "outputs": [
    {
     "data": {
      "text/plain": [
       "      YearBuilt  Size(sqf)  Floor  N_Parkinglot(Ground)  \\\n",
       "2846       2007        868     21                   0.0   \n",
       "1046       2006        811     18                 111.0   \n",
       "2908       1992        644      4                 142.0   \n",
       "524        2009       1160     14                  25.0   \n",
       "2450       2007       1643     16                   0.0   \n",
       "\n",
       "      N_Parkinglot(Basement)  N_manager  N_elevators  N_FacilitiesInApt  \\\n",
       "2846                  1270.0       14.0         16.0                 10   \n",
       "1046                   184.0        3.0          0.0                  5   \n",
       "2908                    79.0        4.0          8.0                  3   \n",
       "524                    203.0        2.0          5.0                  5   \n",
       "2450                  1270.0       14.0         16.0                 10   \n",
       "\n",
       "      N_FacilitiesNearBy(Total)  N_SchoolNearBy(Total)  \n",
       "2846                        9.0                   10.0  \n",
       "1046                        6.0                    9.0  \n",
       "2908                        9.0                   14.0  \n",
       "524                         6.0                    5.0  \n",
       "2450                        9.0                   10.0  "
      ],
      "text/html": [
       "<div>\n",
       "<style scoped>\n",
       "    .dataframe tbody tr th:only-of-type {\n",
       "        vertical-align: middle;\n",
       "    }\n",
       "\n",
       "    .dataframe tbody tr th {\n",
       "        vertical-align: top;\n",
       "    }\n",
       "\n",
       "    .dataframe thead th {\n",
       "        text-align: right;\n",
       "    }\n",
       "</style>\n",
       "<table border=\"1\" class=\"dataframe\">\n",
       "  <thead>\n",
       "    <tr style=\"text-align: right;\">\n",
       "      <th></th>\n",
       "      <th>YearBuilt</th>\n",
       "      <th>Size(sqf)</th>\n",
       "      <th>Floor</th>\n",
       "      <th>N_Parkinglot(Ground)</th>\n",
       "      <th>N_Parkinglot(Basement)</th>\n",
       "      <th>N_manager</th>\n",
       "      <th>N_elevators</th>\n",
       "      <th>N_FacilitiesInApt</th>\n",
       "      <th>N_FacilitiesNearBy(Total)</th>\n",
       "      <th>N_SchoolNearBy(Total)</th>\n",
       "    </tr>\n",
       "  </thead>\n",
       "  <tbody>\n",
       "    <tr>\n",
       "      <th>2846</th>\n",
       "      <td>2007</td>\n",
       "      <td>868</td>\n",
       "      <td>21</td>\n",
       "      <td>0.0</td>\n",
       "      <td>1270.0</td>\n",
       "      <td>14.0</td>\n",
       "      <td>16.0</td>\n",
       "      <td>10</td>\n",
       "      <td>9.0</td>\n",
       "      <td>10.0</td>\n",
       "    </tr>\n",
       "    <tr>\n",
       "      <th>1046</th>\n",
       "      <td>2006</td>\n",
       "      <td>811</td>\n",
       "      <td>18</td>\n",
       "      <td>111.0</td>\n",
       "      <td>184.0</td>\n",
       "      <td>3.0</td>\n",
       "      <td>0.0</td>\n",
       "      <td>5</td>\n",
       "      <td>6.0</td>\n",
       "      <td>9.0</td>\n",
       "    </tr>\n",
       "    <tr>\n",
       "      <th>2908</th>\n",
       "      <td>1992</td>\n",
       "      <td>644</td>\n",
       "      <td>4</td>\n",
       "      <td>142.0</td>\n",
       "      <td>79.0</td>\n",
       "      <td>4.0</td>\n",
       "      <td>8.0</td>\n",
       "      <td>3</td>\n",
       "      <td>9.0</td>\n",
       "      <td>14.0</td>\n",
       "    </tr>\n",
       "    <tr>\n",
       "      <th>524</th>\n",
       "      <td>2009</td>\n",
       "      <td>1160</td>\n",
       "      <td>14</td>\n",
       "      <td>25.0</td>\n",
       "      <td>203.0</td>\n",
       "      <td>2.0</td>\n",
       "      <td>5.0</td>\n",
       "      <td>5</td>\n",
       "      <td>6.0</td>\n",
       "      <td>5.0</td>\n",
       "    </tr>\n",
       "    <tr>\n",
       "      <th>2450</th>\n",
       "      <td>2007</td>\n",
       "      <td>1643</td>\n",
       "      <td>16</td>\n",
       "      <td>0.0</td>\n",
       "      <td>1270.0</td>\n",
       "      <td>14.0</td>\n",
       "      <td>16.0</td>\n",
       "      <td>10</td>\n",
       "      <td>9.0</td>\n",
       "      <td>10.0</td>\n",
       "    </tr>\n",
       "  </tbody>\n",
       "</table>\n",
       "</div>"
      ]
     },
     "execution_count": 351,
     "metadata": {},
     "output_type": "execute_result"
    }
   ],
   "execution_count": 351
  },
  {
   "metadata": {},
   "cell_type": "markdown",
   "source": "### Oddzielenie danych kategorycznych",
   "id": "f1838c12079ec150"
  },
  {
   "metadata": {
    "ExecuteTime": {
     "end_time": "2025-03-26T19:27:31.484281Z",
     "start_time": "2025-03-26T19:27:31.476245Z"
    }
   },
   "cell_type": "code",
   "source": [
    "X_train_cat = train[categorical_cols]\n",
    "X_val_cat = val[categorical_cols]\n",
    "X_test_cat = test[categorical_cols]\n",
    "\n",
    "X_train_cat.head()"
   ],
   "id": "71d04555b20f764e",
   "outputs": [
    {
     "data": {
      "text/plain": [
       "     HallwayType         HeatingType        AptManageType TimeToBusStop  \\\n",
       "2846    terraced  individual_heating  management_in_trust        0~5min   \n",
       "1046    terraced  individual_heating  management_in_trust    5min~10min   \n",
       "2908       mixed  individual_heating      self_management    5min~10min   \n",
       "524     terraced  individual_heating  management_in_trust        0~5min   \n",
       "2450    terraced  individual_heating  management_in_trust        0~5min   \n",
       "\n",
       "            TimeToSubway          SubwayStation  \n",
       "2846              0-5min  Kyungbuk_uni_hospital  \n",
       "1046         10min~15min  Kyungbuk_uni_hospital  \n",
       "2908         15min~20min              Myung-duk  \n",
       "524   no_bus_stop_nearby       no_subway_nearby  \n",
       "2450              0-5min  Kyungbuk_uni_hospital  "
      ],
      "text/html": [
       "<div>\n",
       "<style scoped>\n",
       "    .dataframe tbody tr th:only-of-type {\n",
       "        vertical-align: middle;\n",
       "    }\n",
       "\n",
       "    .dataframe tbody tr th {\n",
       "        vertical-align: top;\n",
       "    }\n",
       "\n",
       "    .dataframe thead th {\n",
       "        text-align: right;\n",
       "    }\n",
       "</style>\n",
       "<table border=\"1\" class=\"dataframe\">\n",
       "  <thead>\n",
       "    <tr style=\"text-align: right;\">\n",
       "      <th></th>\n",
       "      <th>HallwayType</th>\n",
       "      <th>HeatingType</th>\n",
       "      <th>AptManageType</th>\n",
       "      <th>TimeToBusStop</th>\n",
       "      <th>TimeToSubway</th>\n",
       "      <th>SubwayStation</th>\n",
       "    </tr>\n",
       "  </thead>\n",
       "  <tbody>\n",
       "    <tr>\n",
       "      <th>2846</th>\n",
       "      <td>terraced</td>\n",
       "      <td>individual_heating</td>\n",
       "      <td>management_in_trust</td>\n",
       "      <td>0~5min</td>\n",
       "      <td>0-5min</td>\n",
       "      <td>Kyungbuk_uni_hospital</td>\n",
       "    </tr>\n",
       "    <tr>\n",
       "      <th>1046</th>\n",
       "      <td>terraced</td>\n",
       "      <td>individual_heating</td>\n",
       "      <td>management_in_trust</td>\n",
       "      <td>5min~10min</td>\n",
       "      <td>10min~15min</td>\n",
       "      <td>Kyungbuk_uni_hospital</td>\n",
       "    </tr>\n",
       "    <tr>\n",
       "      <th>2908</th>\n",
       "      <td>mixed</td>\n",
       "      <td>individual_heating</td>\n",
       "      <td>self_management</td>\n",
       "      <td>5min~10min</td>\n",
       "      <td>15min~20min</td>\n",
       "      <td>Myung-duk</td>\n",
       "    </tr>\n",
       "    <tr>\n",
       "      <th>524</th>\n",
       "      <td>terraced</td>\n",
       "      <td>individual_heating</td>\n",
       "      <td>management_in_trust</td>\n",
       "      <td>0~5min</td>\n",
       "      <td>no_bus_stop_nearby</td>\n",
       "      <td>no_subway_nearby</td>\n",
       "    </tr>\n",
       "    <tr>\n",
       "      <th>2450</th>\n",
       "      <td>terraced</td>\n",
       "      <td>individual_heating</td>\n",
       "      <td>management_in_trust</td>\n",
       "      <td>0~5min</td>\n",
       "      <td>0-5min</td>\n",
       "      <td>Kyungbuk_uni_hospital</td>\n",
       "    </tr>\n",
       "  </tbody>\n",
       "</table>\n",
       "</div>"
      ]
     },
     "execution_count": 352,
     "metadata": {},
     "output_type": "execute_result"
    }
   ],
   "execution_count": 352
  },
  {
   "metadata": {},
   "cell_type": "markdown",
   "source": "### Dane testowe (do zwrotu zadania)",
   "id": "7a73cc4df0eeed0b"
  },
  {
   "metadata": {
    "ExecuteTime": {
     "end_time": "2025-03-26T19:27:35.853742Z",
     "start_time": "2025-03-26T19:27:35.849632Z"
    }
   },
   "cell_type": "code",
   "source": [
    "X_task_num = evaluation_df_raw.drop(categorical_cols, axis=1)\n",
    "X_task_cat = evaluation_df_raw[categorical_cols]"
   ],
   "id": "96905dfc02ba5ce4",
   "outputs": [],
   "execution_count": 354
  },
  {
   "metadata": {},
   "cell_type": "markdown",
   "source": "### Wyciągnięcie docelowych wartości",
   "id": "9d8903631656d672"
  },
  {
   "metadata": {
    "ExecuteTime": {
     "end_time": "2025-03-26T19:27:38.638933Z",
     "start_time": "2025-03-26T19:27:38.633383Z"
    }
   },
   "cell_type": "code",
   "source": [
    "prescaled_Y = df_raw['SalePrice'].values.astype(float)\n",
    "\n",
    "HIGHEST_Y = prescaled_Y.max()\n",
    "LOWEST_Y = prescaled_Y.min()\n",
    "\n",
    "Y_train = (train['SalePrice'].values.astype(float) - LOWEST_Y) / (HIGHEST_Y - LOWEST_Y)\n",
    "Y_val = (val['SalePrice'].values.astype(float) - LOWEST_Y) / (HIGHEST_Y - LOWEST_Y)\n",
    "Y_test = (test['SalePrice'].values.astype(float) - LOWEST_Y) / (HIGHEST_Y - LOWEST_Y)\n",
    "\n",
    "Y_val[0:5]"
   ],
   "id": "f227d66bf31c8b06",
   "outputs": [
    {
     "data": {
      "text/plain": [
       "array([0.41940664, 0.07207713, 0.37129239, 0.06014463, 0.4012034 ])"
      ]
     },
     "execution_count": 355,
     "metadata": {},
     "output_type": "execute_result"
    }
   ],
   "execution_count": 355
  },
  {
   "metadata": {},
   "cell_type": "markdown",
   "source": "### Przygotowanie danych kategorycznych do embeddingu",
   "id": "7607ca30f827a48b"
  },
  {
   "metadata": {
    "ExecuteTime": {
     "end_time": "2025-03-26T19:27:41.497261Z",
     "start_time": "2025-03-26T19:27:41.482250Z"
    }
   },
   "cell_type": "code",
   "source": [
    "X_train_cat = X_train_cat.copy()\n",
    "X_val_cat = X_val_cat.copy()\n",
    "X_test_cat = X_test_cat.copy()\n",
    "X_task_cat = X_task_cat.copy()\n",
    "\n",
    "for col in categorical_cols:\n",
    "    ecd = LabelEncoder()\n",
    "    X_train_cat[col] = ecd.fit_transform(X_train_cat[col])\n",
    "    X_val_cat[col] = ecd.transform(X_val_cat[col])\n",
    "    X_test_cat[col] = ecd.transform(X_test_cat[col])\n",
    "    X_task_cat[col] = ecd.transform(X_task_cat[col])\n",
    "\n",
    "X_train_cat = X_train_cat.values\n",
    "X_val_cat = X_val_cat.values\n",
    "X_test_cat = X_test_cat.values\n",
    "X_task_cat = X_task_cat.values\n",
    "\n",
    "X_train_cat[0:5]"
   ],
   "id": "d682cab1070b89f4",
   "outputs": [
    {
     "data": {
      "text/plain": [
       "array([[2, 1, 0, 0, 0, 4],\n",
       "       [2, 1, 0, 2, 1, 4],\n",
       "       [1, 1, 1, 2, 2, 5],\n",
       "       [2, 1, 0, 0, 4, 7],\n",
       "       [2, 1, 0, 0, 0, 4]])"
      ]
     },
     "execution_count": 356,
     "metadata": {},
     "output_type": "execute_result"
    }
   ],
   "execution_count": 356
  },
  {
   "metadata": {},
   "cell_type": "markdown",
   "source": "### Normalizacja danych numerycznych",
   "id": "ac7614b454ae5145"
  },
  {
   "metadata": {
    "ExecuteTime": {
     "end_time": "2025-03-26T19:27:44.570926Z",
     "start_time": "2025-03-26T19:27:44.561605Z"
    }
   },
   "cell_type": "code",
   "source": [
    "scaler = StandardScaler()\n",
    "X_train_num = scaler.fit_transform(X_train_num.values)\n",
    "X_val_num = scaler.transform(X_val_num.values)\n",
    "X_test_num = scaler.transform(X_test_num.values)\n",
    "X_task_num = scaler.transform(X_task_num)\n",
    "\n",
    "X_train_num[:5]"
   ],
   "id": "ffa979ad0a11cc36",
   "outputs": [
    {
     "name": "stderr",
     "output_type": "stream",
     "text": [
      "C:\\Users\\mateu\\Documents\\GitHub\\Python-Toolkit-Playground\\.venv\\Lib\\site-packages\\sklearn\\utils\\validation.py:2732: UserWarning: X has feature names, but StandardScaler was fitted without feature names\n",
      "  warnings.warn(\n"
     ]
    },
    {
     "data": {
      "text/plain": [
       "array([[ 0.46831916, -0.232743  ,  1.20019543, -0.90640138,  1.74437885,\n",
       "         2.4463686 ,  0.64944203,  1.83471735, -0.27423407, -0.22329419],\n",
       "       [ 0.35405379, -0.38078079,  0.80143983, -0.39324692, -0.95932587,\n",
       "        -1.03121007, -1.43778892, -0.32565169, -1.1575177 , -0.45046202],\n",
       "       [-1.24566142, -0.81450554, -1.05941964, -0.24993351, -1.22073379,\n",
       "        -0.71506656, -0.39417345, -1.1897993 , -0.27423407,  0.68537715],\n",
       "       [ 0.6968499 ,  0.52562602,  0.26976569, -0.79082605, -0.91202349,\n",
       "        -1.34735359, -0.78552925, -0.32565169, -1.1575177 , -1.35913336],\n",
       "       [ 0.46831916,  1.7800515 ,  0.53560276, -0.90640138,  1.74437885,\n",
       "         2.4463686 ,  0.64944203,  1.83471735, -0.27423407, -0.22329419]])"
      ]
     },
     "execution_count": 357,
     "metadata": {},
     "output_type": "execute_result"
    }
   ],
   "execution_count": 357
  },
  {
   "metadata": {},
   "cell_type": "markdown",
   "source": "### Ważenie przykładów",
   "id": "b8c4a7647ef981bf"
  },
  {
   "metadata": {
    "ExecuteTime": {
     "end_time": "2025-03-26T16:50:43.461727Z",
     "start_time": "2025-03-26T16:50:43.457520Z"
    }
   },
   "cell_type": "code",
   "source": "Y_train[0:5]",
   "id": "d106aaa62e150a94",
   "outputs": [
    {
     "data": {
      "text/plain": [
       "array([0.49799554, 0.25020026, 0.22534208, 0.41932689, 0.52655998])"
      ]
     },
     "execution_count": 311,
     "metadata": {},
     "output_type": "execute_result"
    }
   ],
   "execution_count": 311
  },
  {
   "metadata": {
    "ExecuteTime": {
     "end_time": "2025-03-26T16:50:43.570981Z",
     "start_time": "2025-03-26T16:50:43.519100Z"
    }
   },
   "cell_type": "code",
   "source": [
    "plt.hist(Y_train, bins=10)\n",
    "plt.show()"
   ],
   "id": "d695583df87bf88a",
   "outputs": [
    {
     "data": {
      "text/plain": [
       "<Figure size 640x480 with 1 Axes>"
      ],
      "image/png": "[encoded data removed]"
     },
     "metadata": {},
     "output_type": "display_data"
    }
   ],
   "execution_count": 312
  },
  {
   "metadata": {},
   "cell_type": "markdown",
   "source": "Rozkład cen nie jest równomierny, co wpłynie negatywnie na naukę modelu. Możnaby obciążyć zakresy wartości",
   "id": "2adc580777f48db7"
  },
  {
   "metadata": {
    "ExecuteTime": {
     "end_time": "2025-03-26T16:50:43.582469Z",
     "start_time": "2025-03-26T16:50:43.578787Z"
    }
   },
   "cell_type": "code",
   "source": [
    "LOW_THRESHOLD = (100000 - LOWEST_Y) / (HIGHEST_Y - LOWEST_Y)\n",
    "HIGH_THRESHOLD = (350000 - LOWEST_Y) / (HIGHEST_Y - LOWEST_Y)\n",
    "bin_edges = np.array([LOW_THRESHOLD, HIGH_THRESHOLD])\n",
    "bin_labels = np.digitize(Y_train, bins=bin_edges)\n",
    "\n",
    "bin_counts = np.bincount(bin_labels)\n",
    "bin_weights = bin_counts.sum() / (3 * bin_counts)\n",
    "\n",
    "print(bin_weights)\n",
    "\n",
    "print(LOW_THRESHOLD)\n",
    "print(HIGH_THRESHOLD)"
   ],
   "id": "ca5ed7fe5cb95637",
   "outputs": [
    {
     "name": "stdout",
     "output_type": "stream",
     "text": [
      "[2.44351852 0.45437328 2.56462585]\n",
      "0.11948819254399479\n",
      "0.5725755296590971\n"
     ]
    }
   ],
   "execution_count": 313
  },
  {
   "metadata": {},
   "cell_type": "markdown",
   "source": "## Definicja sieci",
   "id": "a9d4e09e0fe753f7"
  },
  {
   "metadata": {
    "ExecuteTime": {
     "end_time": "2025-03-26T16:50:43.629131Z",
     "start_time": "2025-03-26T16:50:43.623976Z"
    }
   },
   "cell_type": "code",
   "source": [
    "class ApartmentPriceRegression(nn.Module):\n",
    "    def __init__(self, num_categories_list, embedding_dim):\n",
    "        super(ApartmentPriceRegression, self).__init__()\n",
    "        self.emb_layers = nn.ModuleList([\n",
    "            nn.Embedding(num_categories, embedding_dim) for num_categories in num_categories_list\n",
    "        ])\n",
    "        self.act_emb = nn.Tanh()\n",
    "        total_input_size = X_train_num.shape[1] + X_train_cat.shape[1] * embedding_dim\n",
    "        self.layers = nn.Sequential(\n",
    "            self._make_block(total_input_size, out_features=4096, dropout=0.1),\n",
    "            self._make_block(in_features=4096, out_features=2048, dropout=0.1),\n",
    "            self._make_block(in_features=2048, out_features=512, dropout=0.1),\n",
    "            self._make_block(in_features=512, out_features=10, dropout=0.1),\n",
    "            nn.Linear(10, 1)\n",
    "            )\n",
    "\n",
    "    @staticmethod\n",
    "    def _make_block(in_features, out_features, dropout=0.2):\n",
    "        return nn.Sequential(\n",
    "            nn.Linear(in_features, out_features),\n",
    "            nn.BatchNorm1d(out_features),\n",
    "            nn.LeakyReLU(),\n",
    "            nn.Dropout(dropout)\n",
    "        )\n",
    "\n",
    "    def forward(self, x, cat_x):\n",
    "        cat_x_embedded_list = [self.emb_layers[i](cat_x[:, i]) for i in range(cat_x.shape[1])]\n",
    "        cat_x_embedded = torch.cat(cat_x_embedded_list, dim=1)\n",
    "        cat_x_embedded = self.act_emb(cat_x_embedded)\n",
    "\n",
    "        x = torch.cat([x, cat_x_embedded], dim=1).float()\n",
    "\n",
    "        return self.layers(x)"
   ],
   "id": "76a81fdd6f758e2f",
   "outputs": [],
   "execution_count": 314
  },
  {
   "metadata": {},
   "cell_type": "markdown",
   "source": "## Przygotowanie do trenowania i ewaluacji",
   "id": "721ab43a659326b9"
  },
  {
   "metadata": {
    "ExecuteTime": {
     "end_time": "2025-03-26T16:50:43.675527Z",
     "start_time": "2025-03-26T16:50:43.670902Z"
    }
   },
   "cell_type": "code",
   "source": [
    "# Obliczam ile różnych labels ma każdy argument kategoryczny\n",
    "num_categories = [np.unique(X_train_cat[:, i]).size for i in range(X_train_cat.shape[1])]\n",
    "print(num_categories)"
   ],
   "id": "7b61a9cbb20e616d",
   "outputs": [
    {
     "name": "stdout",
     "output_type": "stream",
     "text": [
      "[3, 2, 2, 3, 5, 8]\n"
     ]
    }
   ],
   "execution_count": 315
  },
  {
   "metadata": {
    "ExecuteTime": {
     "end_time": "2025-03-26T16:50:43.725584Z",
     "start_time": "2025-03-26T16:50:43.720338Z"
    }
   },
   "cell_type": "code",
   "source": [
    "X_train_num = torch.from_numpy(X_train_num)\n",
    "X_train_cat = torch.from_numpy(X_train_cat)\n",
    "Y_train = torch.from_numpy(Y_train)\n",
    "\n",
    "X_val_num = torch.from_numpy(X_val_num).to(device=device)\n",
    "X_val_cat = torch.from_numpy(X_val_cat).to(device=device)\n",
    "Y_val = torch.from_numpy(Y_val).to(device=device)\n",
    "\n",
    "X_test_num = torch.from_numpy(X_test_num).to(device=device)\n",
    "X_test_cat = torch.from_numpy(X_test_cat).to(device=device)\n",
    "Y_test = torch.from_numpy(Y_test).to(device=device)"
   ],
   "id": "e2d9cb0259df61c2",
   "outputs": [],
   "execution_count": 316
  },
  {
   "metadata": {
    "ExecuteTime": {
     "end_time": "2025-03-26T16:50:43.818383Z",
     "start_time": "2025-03-26T16:50:43.814348Z"
    }
   },
   "cell_type": "code",
   "source": [
    "def weighted_mse_loss(preds, target):\n",
    "    # Standardowe MSE\n",
    "    loss = (preds - target) ** 2\n",
    "\n",
    "    bin_weights = [120, 20, 100]\n",
    "    bin_edges = torch.tensor([LOW_THRESHOLD,HIGH_THRESHOLD]).to(device)\n",
    "    # Każdemu targetowi przypisujemy konkretny koszyk, a następnie odpowiednią wagę konkretnego koszyka\n",
    "    target_bin_labels = torch.bucketize(target, boundaries=bin_edges)\n",
    "    weights = torch.tensor([bin_weights[b] for b in target_bin_labels]).to(device)\n",
    "\n",
    "    # Nakładamy wagę\n",
    "    weighted_loss = loss * weights\n",
    "\n",
    "    return weighted_loss.mean()"
   ],
   "id": "1a1287bcfd5a69a",
   "outputs": [],
   "execution_count": 317
  },
  {
   "metadata": {
    "ExecuteTime": {
     "end_time": "2025-03-26T16:50:44.080936Z",
     "start_time": "2025-03-26T16:50:44.075996Z"
    }
   },
   "cell_type": "code",
   "source": [
    "def evaluate(model, X_num, X_cat, Y):\n",
    "    model.eval()\n",
    "    with torch.no_grad():\n",
    "        preds = model(X_num, X_cat).squeeze(dim=1)\n",
    "\n",
    "        # Tokenizacja gdzie 'cheap' = 0, 'average' = 1, 'expensive' = 2, bo torch nie ma typu string\n",
    "        Y_labeld = torch.zeros_like(Y)\n",
    "\n",
    "        Y_labeld[((Y>LOW_THRESHOLD) & (Y<HIGH_THRESHOLD))] = 1\n",
    "        Y_labeld[Y>HIGH_THRESHOLD] = 2\n",
    "\n",
    "\n",
    "        preds_labeld = torch.zeros_like(preds)\n",
    "        preds_labeld[((preds>LOW_THRESHOLD) & (preds<HIGH_THRESHOLD))] = 1\n",
    "        preds_labeld[preds>HIGH_THRESHOLD] = 2\n",
    "\n",
    "        all_cheap = (Y_labeld==0).sum().item()\n",
    "        all_average = (Y_labeld==1).sum().item()\n",
    "        all_expensive = (Y_labeld==2).sum().item()\n",
    "\n",
    "        assert(all_cheap+all_average+all_expensive == Y.shape[0])\n",
    "\n",
    "        correct_cheap = ((preds_labeld==0) & (Y_labeld==preds_labeld)).sum().item()\n",
    "        correct_average = ((preds_labeld==1) & (Y_labeld==preds_labeld)).sum().item()\n",
    "        correct_expensive = ((preds_labeld==2) & (Y_labeld==preds_labeld)).sum().item()\n",
    "        correct = (Y_labeld==preds_labeld).sum().item()\n",
    "\n",
    "        assert(correct_cheap+correct_average+correct_expensive == correct)\n",
    "\n",
    "        acc = correct / Y.shape[0]\n",
    "        acc_cheap = correct_cheap / all_cheap\n",
    "        acc_average = correct_average / all_average\n",
    "        acc_expensive = correct_expensive / all_expensive\n",
    "\n",
    "    model.train()\n",
    "    return acc, acc_cheap, acc_average, acc_expensive"
   ],
   "id": "827e03e4153fa1c2",
   "outputs": [],
   "execution_count": 319
  },
  {
   "metadata": {},
   "cell_type": "markdown",
   "source": "## Trenowanie i ewaluacja",
   "id": "bf30f4e20f893063"
  },
  {
   "metadata": {
    "ExecuteTime": {
     "end_time": "2025-03-26T16:50:43.990142Z",
     "start_time": "2025-03-26T16:50:43.908759Z"
    }
   },
   "cell_type": "code",
   "outputs": [],
   "execution_count": 318,
   "source": [
    "train_dataset = data.TensorDataset(X_train_num,X_train_cat,Y_train)\n",
    "train_loader = data.DataLoader(train_dataset, batch_size=64, shuffle=True)\n",
    "model = ApartmentPriceRegression(num_categories_list=num_categories, embedding_dim=8).to(device=device)\n",
    "optimizer = optim.Adam(model.parameters(), lr=0.0001, weight_decay=0.1)\n",
    "loss_fn = weighted_mse_loss"
   ],
   "id": "ff9ea7663946aa22"
  },
  {
   "metadata": {
    "ExecuteTime": {
     "end_time": "2025-03-26T16:52:41.740817Z",
     "start_time": "2025-03-26T16:50:44.168199Z"
    }
   },
   "cell_type": "code",
   "source": [
    "model.train()\n",
    "val_acc = []\n",
    "val_acc_cheap = []\n",
    "val_acc_average = []\n",
    "val_acc_expensive = []\n",
    "train_losses = []\n",
    "\n",
    "for epoch in range(300):\n",
    "    loader_losses = []\n",
    "    for X_num, X_cat, Y in train_loader:\n",
    "        optimizer.zero_grad()\n",
    "        model.train()\n",
    "\n",
    "        X_num = X_num.to(device, dtype=torch.float64)\n",
    "        X_cat = X_cat.to(device)\n",
    "        Y = Y.to(device)\n",
    "\n",
    "        preds = model(X_num, X_cat).squeeze(dim=1)\n",
    "\n",
    "        loss = loss_fn(preds, Y)\n",
    "        loss.backward()\n",
    "        optimizer.step()\n",
    "\n",
    "        loader_losses.append(loss.item())\n",
    "\n",
    "    acc, acc_cheap, acc_average, acc_expensive = evaluate(model, X_val_num, X_val_cat, Y_val)\n",
    "    avg_loader_losses = sum(loader_losses)/len(loader_losses)\n",
    "    if epoch % 10 == 0:\n",
    "        print(f'Epoch: {epoch} train_loss: {avg_loader_losses:.3} {acc=:.3f} {acc_cheap=:.3f} {acc_average=:.3f} {acc_expensive=:.3f}')\n",
    "\n",
    "    train_losses.append(avg_loader_losses)\n",
    "    val_acc.append(acc)\n",
    "    val_acc_cheap.append(acc_cheap)\n",
    "    val_acc_average.append(acc_average)\n",
    "    val_acc_expensive.append(acc_expensive)\n"
   ],
   "id": "688852ca660e7ea4",
   "outputs": [
    {
     "name": "stdout",
     "output_type": "stream",
     "text": [
      "Epoch: 0 train_loss: 2.84 acc=0.747 acc_cheap=0.535 acc_average=0.813 acc_expensive=0.591\n",
      "Epoch: 10 train_loss: 0.674 acc=0.812 acc_cheap=0.802 acc_average=0.817 acc_expensive=0.795\n",
      "Epoch: 20 train_loss: 0.49 acc=0.812 acc_cheap=0.977 acc_average=0.782 acc_expensive=0.818\n",
      "Epoch: 30 train_loss: 0.462 acc=0.808 acc_cheap=0.988 acc_average=0.794 acc_expensive=0.705\n",
      "Epoch: 40 train_loss: 0.407 acc=0.830 acc_cheap=0.733 acc_average=0.858 acc_expensive=0.773\n",
      "Epoch: 50 train_loss: 0.445 acc=0.821 acc_cheap=0.872 acc_average=0.829 acc_expensive=0.727\n",
      "Epoch: 60 train_loss: 0.382 acc=0.812 acc_cheap=0.872 acc_average=0.819 acc_expensive=0.716\n",
      "Epoch: 70 train_loss: 0.416 acc=0.794 acc_cheap=0.593 acc_average=0.823 acc_expensive=0.830\n",
      "Epoch: 80 train_loss: 0.4 acc=0.808 acc_cheap=0.977 acc_average=0.772 acc_expensive=0.841\n",
      "Epoch: 90 train_loss: 0.428 acc=0.823 acc_cheap=0.802 acc_average=0.852 acc_expensive=0.682\n",
      "Epoch: 100 train_loss: 0.423 acc=0.835 acc_cheap=0.860 acc_average=0.837 acc_expensive=0.795\n",
      "Epoch: 110 train_loss: 0.414 acc=0.788 acc_cheap=0.988 acc_average=0.753 acc_expensive=0.784\n",
      "Epoch: 120 train_loss: 0.379 acc=0.820 acc_cheap=1.000 acc_average=0.794 acc_expensive=0.784\n",
      "Epoch: 130 train_loss: 0.383 acc=0.800 acc_cheap=0.791 acc_average=0.796 acc_expensive=0.830\n",
      "Epoch: 140 train_loss: 0.427 acc=0.809 acc_cheap=0.930 acc_average=0.784 acc_expensive=0.830\n",
      "Epoch: 150 train_loss: 0.385 acc=0.848 acc_cheap=0.930 acc_average=0.858 acc_expensive=0.716\n",
      "Epoch: 160 train_loss: 0.359 acc=0.826 acc_cheap=0.965 acc_average=0.807 acc_expensive=0.795\n",
      "Epoch: 170 train_loss: 0.396 acc=0.829 acc_cheap=0.977 acc_average=0.809 acc_expensive=0.795\n",
      "Epoch: 180 train_loss: 0.413 acc=0.774 acc_cheap=0.988 acc_average=0.724 acc_expensive=0.841\n",
      "Epoch: 190 train_loss: 0.388 acc=0.798 acc_cheap=1.000 acc_average=0.782 acc_expensive=0.693\n",
      "Epoch: 200 train_loss: 0.362 acc=0.792 acc_cheap=0.988 acc_average=0.753 acc_expensive=0.818\n",
      "Epoch: 210 train_loss: 0.342 acc=0.814 acc_cheap=0.860 acc_average=0.805 acc_expensive=0.818\n",
      "Epoch: 220 train_loss: 0.411 acc=0.829 acc_cheap=0.942 acc_average=0.837 acc_expensive=0.670\n",
      "Epoch: 230 train_loss: 0.388 acc=0.814 acc_cheap=0.860 acc_average=0.809 acc_expensive=0.795\n",
      "Epoch: 240 train_loss: 0.383 acc=0.806 acc_cheap=0.977 acc_average=0.786 acc_expensive=0.750\n",
      "Epoch: 250 train_loss: 0.36 acc=0.811 acc_cheap=0.756 acc_average=0.819 acc_expensive=0.818\n",
      "Epoch: 260 train_loss: 0.385 acc=0.792 acc_cheap=0.849 acc_average=0.883 acc_expensive=0.239\n",
      "Epoch: 270 train_loss: 0.364 acc=0.830 acc_cheap=0.523 acc_average=0.918 acc_expensive=0.648\n",
      "Epoch: 280 train_loss: 0.378 acc=0.829 acc_cheap=0.523 acc_average=0.887 acc_expensive=0.807\n",
      "Epoch: 290 train_loss: 0.361 acc=0.832 acc_cheap=0.965 acc_average=0.821 acc_expensive=0.761\n"
     ]
    }
   ],
   "execution_count": 320
  },
  {
   "metadata": {
    "ExecuteTime": {
     "end_time": "2025-03-26T16:52:42.080310Z",
     "start_time": "2025-03-26T16:52:41.874600Z"
    }
   },
   "cell_type": "code",
   "source": [
    "plt.figure(figsize=(10, 6))\n",
    "\n",
    "plt.subplot(2, 1, 1)\n",
    "plt.plot(val_acc, label=\"Overall Accuracy\", color=\"blue\")\n",
    "plt.plot(val_acc_cheap, label=\"Cheap Category Accuracy\", color=\"green\")\n",
    "plt.plot(val_acc_average, label=\"Average Category Accuracy\", color=\"orange\")\n",
    "plt.plot(val_acc_expensive, label=\"Expensive Category Accuracy\", color=\"red\")\n",
    "\n",
    "plt.xlabel(\"Epochs\")\n",
    "plt.ylabel(\"Accuracy\")\n",
    "plt.title(\"Validation Accuracies Over Epochs\")\n",
    "plt.legend()\n",
    "plt.grid(True)\n",
    "\n",
    "plt.subplot(2, 1, 2)\n",
    "plt.plot(train_losses, label=\"Training Loss\", color=\"purple\")\n",
    "plt.xlabel(\"Epochs\")\n",
    "plt.ylabel(\"Loss\")\n",
    "plt.title(\"Training Loss Over Epochs\")\n",
    "plt.legend()\n",
    "plt.grid(True)\n",
    "\n",
    "plt.tight_layout()\n",
    "plt.show()"
   ],
   "id": "ddaf2058ddbcfa42",
   "outputs": [
    {
     "data": {
      "text/plain": [
       "<Figure size 1000x600 with 2 Axes>"
      ],
      "image/png": "[encoded data removed]"
     },
     "metadata": {},
     "output_type": "display_data"
    }
   ],
   "execution_count": 321
  },
  {
   "metadata": {
    "ExecuteTime": {
     "end_time": "2025-03-26T16:52:42.095537Z",
     "start_time": "2025-03-26T16:52:42.085440Z"
    }
   },
   "cell_type": "code",
   "source": [
    "(acc, acc_cheap, acc_average, acc_expensive) = evaluate(model, X_test_num, X_test_cat, Y_test)\n",
    "print(f'Train set accuracies: {acc=:.3f} {acc_cheap=:.3f} {acc_average=:.3f} {acc_expensive=:.3f}')"
   ],
   "id": "4a90477b240f6f18",
   "outputs": [
    {
     "name": "stdout",
     "output_type": "stream",
     "text": [
      "Train set accuracies: acc=0.881 acc_cheap=0.865 acc_average=0.889 acc_expensive=0.863\n"
     ]
    }
   ],
   "execution_count": 322
  },
  {
   "metadata": {},
   "cell_type": "markdown",
   "source": "## Przygotowanie wyników do zwrotu zadania",
   "id": "c99c4d6ba01dd1e0"
  },
  {
   "metadata": {
    "ExecuteTime": {
     "end_time": "2025-03-26T19:27:56.695246Z",
     "start_time": "2025-03-26T19:27:56.690619Z"
    }
   },
   "cell_type": "code",
   "source": [
    "X_task_num = torch.from_numpy(X_task_num).cuda()\n",
    "X_task_cat = torch.from_numpy(X_task_cat).cuda()"
   ],
   "id": "ecb6e4d170198827",
   "outputs": [],
   "execution_count": 358
  },
  {
   "metadata": {
    "ExecuteTime": {
     "end_time": "2025-03-26T19:28:15.683226Z",
     "start_time": "2025-03-26T19:28:15.638591Z"
    }
   },
   "cell_type": "code",
   "source": [
    "print(X_task_num[0])\n",
    "print(X_task_cat[0])"
   ],
   "id": "835c22d29a5f0f49",
   "outputs": [
    {
     "name": "stdout",
     "output_type": "stream",
     "text": [
      "tensor([-1.1314, -0.1133, -0.2619,  1.5114, -0.0830,  0.5495,  1.1712, -0.7577,\n",
      "         1.1979,  1.3669], device='cuda:0', dtype=torch.float64)\n",
      "tensor([1, 1, 0, 0, 2, 5], device='cuda:0')\n"
     ]
    }
   ],
   "execution_count": 359
  },
  {
   "metadata": {
    "ExecuteTime": {
     "end_time": "2025-03-26T19:29:01.691056Z",
     "start_time": "2025-03-26T19:29:01.670632Z"
    }
   },
   "cell_type": "code",
   "source": [
    "with torch.no_grad():\n",
    "    preds = model(X_task_num, X_task_cat)\n",
    "    preds = preds.squeeze(dim=1)"
   ],
   "id": "d12c452b8edb35c1",
   "outputs": [],
   "execution_count": 360
  },
  {
   "metadata": {
    "ExecuteTime": {
     "end_time": "2025-03-26T19:29:57.941473Z",
     "start_time": "2025-03-26T19:29:57.936396Z"
    }
   },
   "cell_type": "code",
   "source": [
    "preds_labeld = torch.zeros_like(preds)\n",
    "preds_labeld[((preds>LOW_THRESHOLD) & (preds<HIGH_THRESHOLD))] = 1\n",
    "preds_labeld[preds>HIGH_THRESHOLD] = 2"
   ],
   "id": "f6f5e5c5e22c3de5",
   "outputs": [],
   "execution_count": 361
  },
  {
   "metadata": {
    "ExecuteTime": {
     "end_time": "2025-03-26T19:30:18.878769Z",
     "start_time": "2025-03-26T19:30:18.874108Z"
    }
   },
   "cell_type": "code",
   "source": "preds_labeld = preds_labeld.cpu().numpy()",
   "id": "27e66e8093f9e76d",
   "outputs": [],
   "execution_count": 362
  },
  {
   "metadata": {
    "ExecuteTime": {
     "end_time": "2025-03-26T19:41:50.163424Z",
     "start_time": "2025-03-26T19:41:50.158795Z"
    }
   },
   "cell_type": "code",
   "source": [
    "preds_named = np.zeros_like(preds_labeld, dtype='U10')\n",
    "preds_named[preds_labeld == 0] = 'cheap'\n",
    "preds_named[preds_labeld == 1] = 'average'\n",
    "preds_named[preds_labeld == 2] = 'expensive'\n",
    "print(preds_named[0:10])"
   ],
   "id": "6c75ff451102c384",
   "outputs": [
    {
     "name": "stdout",
     "output_type": "stream",
     "text": [
      "['average' 'expensive' 'expensive' 'average' 'average' 'expensive'\n",
      " 'average' 'cheap' 'average' 'average']\n"
     ]
    }
   ],
   "execution_count": 375
  },
  {
   "metadata": {
    "ExecuteTime": {
     "end_time": "2025-03-26T19:41:52.801010Z",
     "start_time": "2025-03-26T19:41:52.791235Z"
    }
   },
   "cell_type": "code",
   "source": [
    "df = pd.DataFrame(preds_named)\n",
    "df.to_csv('środa_Celiński_Łukasiewicz_predykcje.csv', index=False)"
   ],
   "id": "832a00d40c4648db",
   "outputs": [],
   "execution_count": 376
  },
  {
   "metadata": {},
   "cell_type": "code",
   "outputs": [],
   "execution_count": null,
   "source": "",
   "id": "bfcbcfe7348b9d90"
  }
 ],
 "metadata": {
  "kernelspec": {
   "display_name": "Python 3",
   "language": "python",
   "name": "python3"
  },
  "language_info": {
   "codemirror_mode": {
    "name": "ipython",
    "version": 2
   },
   "file_extension": ".py",
   "mimetype": "text/x-python",
   "name": "python",
   "nbconvert_exporter": "python",
   "pygments_lexer": "ipython2",
   "version": "2.7.6"
  }
 },
 "nbformat": 4,
 "nbformat_minor": 5
}
