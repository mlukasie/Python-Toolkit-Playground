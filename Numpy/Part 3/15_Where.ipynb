{
 "cells": [
  {
   "cell_type": "code",
   "id": "initial_id",
   "metadata": {
    "collapsed": true,
    "ExecuteTime": {
     "end_time": "2025-03-03T01:53:56.659200Z",
     "start_time": "2025-03-03T01:53:56.572033Z"
    }
   },
   "source": [
    "import numpy as np\n",
    "from tensorflow.compiler.tf2xla.python.xla import set_dynamic_dimension_size"
   ],
   "outputs": [],
   "execution_count": 1
  },
  {
   "metadata": {
    "ExecuteTime": {
     "end_time": "2025-03-03T01:54:24.135244Z",
     "start_time": "2025-03-03T01:54:24.100899Z"
    }
   },
   "cell_type": "code",
   "source": "generator = np.random.default_rng(seed=2121)",
   "id": "d5ece1ee2268117f",
   "outputs": [],
   "execution_count": 2
  },
  {
   "metadata": {
    "ExecuteTime": {
     "end_time": "2025-03-03T02:05:40.457232Z",
     "start_time": "2025-03-03T02:05:40.442003Z"
    }
   },
   "cell_type": "code",
   "source": [
    "foo = generator.integers(low=0, high=11, size=2*10**6)\n",
    "foo[:10]"
   ],
   "id": "8224ffafb25a9226",
   "outputs": [
    {
     "data": {
      "text/plain": [
       "array([ 2,  2,  6,  6,  6,  0,  2, 10,  0,  8])"
      ]
     },
     "execution_count": 13,
     "metadata": {},
     "output_type": "execute_result"
    }
   ],
   "execution_count": 13
  },
  {
   "metadata": {
    "ExecuteTime": {
     "end_time": "2025-03-03T02:05:36.859712Z",
     "start_time": "2025-03-03T02:05:36.846615Z"
    }
   },
   "cell_type": "code",
   "source": [
    "boo = generator.integers(low=0, high=11, size=2*10**6)\n",
    "boo[:10]"
   ],
   "id": "cce6b6fffd01785c",
   "outputs": [
    {
     "data": {
      "text/plain": [
       "array([ 5,  4,  6,  1,  8, 10,  6,  7,  6,  0])"
      ]
     },
     "execution_count": 12,
     "metadata": {},
     "output_type": "execute_result"
    }
   ],
   "execution_count": 12
  },
  {
   "metadata": {},
   "cell_type": "markdown",
   "source": "Generating new array in which every `zoo[i]` is either `boo[i]*2` or `boo[i]/2` depending on corresponding element of `foo` being even or not",
   "id": "6290575a7a6d16c3"
  },
  {
   "metadata": {
    "ExecuteTime": {
     "end_time": "2025-03-03T02:05:31.143660Z",
     "start_time": "2025-03-03T02:05:31.092076Z"
    }
   },
   "cell_type": "code",
   "source": [
    "zoo = np.where(foo % 2 == 0, boo*2, boo/2)\n",
    "zoo[:10]"
   ],
   "id": "c3abf81d8f57dbf",
   "outputs": [
    {
     "data": {
      "text/plain": [
       "array([ 3. ,  1. , 10. ,  8. ,  1.5,  2. ,  6. ,  2. ,  4. , 10. ])"
      ]
     },
     "execution_count": 11,
     "metadata": {},
     "output_type": "execute_result"
    }
   ],
   "execution_count": 11
  }
 ],
 "metadata": {
  "kernelspec": {
   "display_name": "Python 3",
   "language": "python",
   "name": "python3"
  },
  "language_info": {
   "codemirror_mode": {
    "name": "ipython",
    "version": 2
   },
   "file_extension": ".py",
   "mimetype": "text/x-python",
   "name": "python",
   "nbconvert_exporter": "python",
   "pygments_lexer": "ipython2",
   "version": "2.7.6"
  }
 },
 "nbformat": 4,
 "nbformat_minor": 5
}
