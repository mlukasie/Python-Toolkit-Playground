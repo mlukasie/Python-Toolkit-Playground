{
 "cells": [
  {
   "cell_type": "code",
   "id": "initial_id",
   "metadata": {
    "collapsed": true,
    "ExecuteTime": {
     "end_time": "2025-03-03T02:28:01.905531Z",
     "start_time": "2025-03-03T02:28:01.847068Z"
    }
   },
   "source": "import numpy as np",
   "outputs": [],
   "execution_count": 1
  },
  {
   "metadata": {
    "ExecuteTime": {
     "end_time": "2025-03-03T02:37:18.768594Z",
     "start_time": "2025-03-03T02:37:18.763792Z"
    }
   },
   "cell_type": "code",
   "source": [
    "foo = np.array([\n",
    "    [1, 1, 1],\n",
    "    [2, 5, 1],\n",
    "    [9, 8, 7]\n",
    "], dtype=float)"
   ],
   "id": "ac7632727a6fe768",
   "outputs": [],
   "execution_count": 8
  },
  {
   "metadata": {
    "ExecuteTime": {
     "end_time": "2025-03-03T02:37:19.528002Z",
     "start_time": "2025-03-03T02:37:19.520500Z"
    }
   },
   "cell_type": "code",
   "source": "np.sum(foo)",
   "id": "28a7b5f1091d1480",
   "outputs": [
    {
     "data": {
      "text/plain": [
       "np.float64(35.0)"
      ]
     },
     "execution_count": 9,
     "metadata": {},
     "output_type": "execute_result"
    }
   ],
   "execution_count": 9
  },
  {
   "metadata": {
    "ExecuteTime": {
     "end_time": "2025-03-03T02:37:20.602102Z",
     "start_time": "2025-03-03T02:37:20.594286Z"
    }
   },
   "cell_type": "code",
   "source": "np.sum(foo, axis=0)",
   "id": "2ffc4471bd00e115",
   "outputs": [
    {
     "data": {
      "text/plain": [
       "array([12., 14.,  9.])"
      ]
     },
     "execution_count": 10,
     "metadata": {},
     "output_type": "execute_result"
    }
   ],
   "execution_count": 10
  },
  {
   "metadata": {
    "ExecuteTime": {
     "end_time": "2025-03-03T02:37:22.499535Z",
     "start_time": "2025-03-03T02:37:22.493570Z"
    }
   },
   "cell_type": "code",
   "source": "np.sum(foo, axis=1)",
   "id": "7cd624cb239374af",
   "outputs": [
    {
     "data": {
      "text/plain": [
       "array([ 3.,  8., 24.])"
      ]
     },
     "execution_count": 11,
     "metadata": {},
     "output_type": "execute_result"
    }
   ],
   "execution_count": 11
  },
  {
   "metadata": {
    "ExecuteTime": {
     "end_time": "2025-03-03T02:37:23.515812Z",
     "start_time": "2025-03-03T02:37:23.510735Z"
    }
   },
   "cell_type": "code",
   "source": "foo[0, 0] = np.nan",
   "id": "4d5c02533fc2d210",
   "outputs": [],
   "execution_count": 12
  },
  {
   "metadata": {
    "ExecuteTime": {
     "end_time": "2025-03-03T02:37:28.895487Z",
     "start_time": "2025-03-03T02:37:28.884867Z"
    }
   },
   "cell_type": "code",
   "source": "np.sum(foo)",
   "id": "462f90189e9d0dff",
   "outputs": [
    {
     "data": {
      "text/plain": [
       "np.float64(nan)"
      ]
     },
     "execution_count": 13,
     "metadata": {},
     "output_type": "execute_result"
    }
   ],
   "execution_count": 13
  },
  {
   "metadata": {
    "ExecuteTime": {
     "end_time": "2025-03-03T02:38:40.012786Z",
     "start_time": "2025-03-03T02:38:40.005615Z"
    }
   },
   "cell_type": "code",
   "source": "np.sum(foo, where=~np.isnan(foo))",
   "id": "59e23b94f4da0759",
   "outputs": [
    {
     "data": {
      "text/plain": [
       "np.float64(34.0)"
      ]
     },
     "execution_count": 15,
     "metadata": {},
     "output_type": "execute_result"
    }
   ],
   "execution_count": 15
  },
  {
   "metadata": {
    "ExecuteTime": {
     "end_time": "2025-03-03T02:39:21.529043Z",
     "start_time": "2025-03-03T02:39:21.522280Z"
    }
   },
   "cell_type": "code",
   "source": "np.sum(np.nan_to_num(foo))",
   "id": "233d2ef1d530cdba",
   "outputs": [
    {
     "data": {
      "text/plain": [
       "np.float64(34.0)"
      ]
     },
     "execution_count": 16,
     "metadata": {},
     "output_type": "execute_result"
    }
   ],
   "execution_count": 16
  },
  {
   "metadata": {
    "ExecuteTime": {
     "end_time": "2025-03-03T02:39:43.591454Z",
     "start_time": "2025-03-03T02:39:43.586223Z"
    }
   },
   "cell_type": "code",
   "source": "np.nansum(foo)",
   "id": "94548f06d8928365",
   "outputs": [
    {
     "data": {
      "text/plain": [
       "np.float64(34.0)"
      ]
     },
     "execution_count": 17,
     "metadata": {},
     "output_type": "execute_result"
    }
   ],
   "execution_count": 17
  },
  {
   "metadata": {},
   "cell_type": "code",
   "outputs": [],
   "execution_count": null,
   "source": "",
   "id": "b285e4226bad177"
  }
 ],
 "metadata": {
  "kernelspec": {
   "display_name": "Python 3",
   "language": "python",
   "name": "python3"
  },
  "language_info": {
   "codemirror_mode": {
    "name": "ipython",
    "version": 2
   },
   "file_extension": ".py",
   "mimetype": "text/x-python",
   "name": "python",
   "nbconvert_exporter": "python",
   "pygments_lexer": "ipython2",
   "version": "2.7.6"
  }
 },
 "nbformat": 4,
 "nbformat_minor": 5
}
