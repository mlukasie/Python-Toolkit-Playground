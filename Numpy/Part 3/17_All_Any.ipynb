{
 "cells": [
  {
   "cell_type": "code",
   "id": "initial_id",
   "metadata": {
    "collapsed": true,
    "ExecuteTime": {
     "end_time": "2025-03-03T02:47:58.814554Z",
     "start_time": "2025-03-03T02:47:58.747154Z"
    }
   },
   "source": "import numpy as np",
   "outputs": [],
   "execution_count": 1
  },
  {
   "metadata": {
    "ExecuteTime": {
     "end_time": "2025-03-03T02:48:56.018951Z",
     "start_time": "2025-03-03T02:48:56.014521Z"
    }
   },
   "cell_type": "code",
   "source": [
    "foo = np.array([\n",
    "    [1, np.nan],\n",
    "    [np.nan, np.nan],\n",
    "    [2, 1],\n",
    "    [np.nan, 8]\n",
    "])"
   ],
   "id": "bf25b4fff96cf931",
   "outputs": [],
   "execution_count": 2
  },
  {
   "metadata": {
    "ExecuteTime": {
     "end_time": "2025-03-03T02:49:41.898068Z",
     "start_time": "2025-03-03T02:49:41.891702Z"
    }
   },
   "cell_type": "code",
   "source": "np.isnan(foo)",
   "id": "3f14d6d886c69c3e",
   "outputs": [
    {
     "data": {
      "text/plain": [
       "array([[False,  True],\n",
       "       [ True,  True],\n",
       "       [False, False],\n",
       "       [ True, False]])"
      ]
     },
     "execution_count": 5,
     "metadata": {},
     "output_type": "execute_result"
    }
   ],
   "execution_count": 5
  },
  {
   "metadata": {
    "ExecuteTime": {
     "end_time": "2025-03-03T02:50:04.318886Z",
     "start_time": "2025-03-03T02:50:04.308756Z"
    }
   },
   "cell_type": "code",
   "source": "np.any(np.isnan(foo), axis=1)",
   "id": "64c51aeac6f3b0e5",
   "outputs": [
    {
     "data": {
      "text/plain": [
       "array([ True,  True, False,  True])"
      ]
     },
     "execution_count": 9,
     "metadata": {},
     "output_type": "execute_result"
    }
   ],
   "execution_count": 9
  },
  {
   "metadata": {
    "ExecuteTime": {
     "end_time": "2025-03-03T02:50:47.517571Z",
     "start_time": "2025-03-03T02:50:47.512197Z"
    }
   },
   "cell_type": "code",
   "source": "np.all(np.isnan(foo), axis=1)",
   "id": "bff054fa038adc2a",
   "outputs": [
    {
     "data": {
      "text/plain": [
       "array([False,  True, False, False])"
      ]
     },
     "execution_count": 10,
     "metadata": {},
     "output_type": "execute_result"
    }
   ],
   "execution_count": 10
  }
 ],
 "metadata": {
  "kernelspec": {
   "display_name": "Python 3",
   "language": "python",
   "name": "python3"
  },
  "language_info": {
   "codemirror_mode": {
    "name": "ipython",
    "version": 2
   },
   "file_extension": ".py",
   "mimetype": "text/x-python",
   "name": "python",
   "nbconvert_exporter": "python",
   "pygments_lexer": "ipython2",
   "version": "2.7.6"
  }
 },
 "nbformat": 4,
 "nbformat_minor": 5
}
