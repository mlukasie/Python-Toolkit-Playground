{
 "cells": [
  {
   "cell_type": "code",
   "id": "initial_id",
   "metadata": {
    "collapsed": true,
    "ExecuteTime": {
     "end_time": "2025-02-13T12:44:33.343606Z",
     "start_time": "2025-02-13T12:44:33.339604Z"
    }
   },
   "source": "import numpy as np",
   "outputs": [],
   "execution_count": 10
  },
  {
   "metadata": {},
   "cell_type": "markdown",
   "source": "### By numpy.array",
   "id": "596fee35486efe4e"
  },
  {
   "metadata": {
    "ExecuteTime": {
     "end_time": "2025-02-13T12:44:33.362135Z",
     "start_time": "2025-02-13T12:44:33.358026Z"
    }
   },
   "cell_type": "code",
   "source": "np.array([1, 2, 3])",
   "id": "9d0e451e02e78205",
   "outputs": [
    {
     "data": {
      "text/plain": [
       "array([1, 2, 3])"
      ]
     },
     "execution_count": 11,
     "metadata": {},
     "output_type": "execute_result"
    }
   ],
   "execution_count": 11
  },
  {
   "metadata": {
    "ExecuteTime": {
     "end_time": "2025-02-13T12:44:33.381577Z",
     "start_time": "2025-02-13T12:44:33.377595Z"
    }
   },
   "cell_type": "code",
   "source": [
    "np.array([\n",
    "    [1, 2],\n",
    "    [1, 2]\n",
    "])"
   ],
   "id": "d4fe8577ae620aee",
   "outputs": [
    {
     "data": {
      "text/plain": [
       "array([[1, 2],\n",
       "       [1, 2]])"
      ]
     },
     "execution_count": 12,
     "metadata": {},
     "output_type": "execute_result"
    }
   ],
   "execution_count": 12
  },
  {
   "metadata": {
    "ExecuteTime": {
     "end_time": "2025-02-13T12:44:33.426956Z",
     "start_time": "2025-02-13T12:44:33.420701Z"
    }
   },
   "cell_type": "code",
   "source": [
    "np.array([\n",
    "    [\n",
    "        [1, 2], [1, 2]\n",
    "    ],\n",
    "    [\n",
    "        [1, 2], [1, 2]\n",
    "    ]\n",
    "])"
   ],
   "id": "46ac1757cffd6c14",
   "outputs": [
    {
     "data": {
      "text/plain": [
       "array([[[1, 2],\n",
       "        [1, 2]],\n",
       "\n",
       "       [[1, 2],\n",
       "        [1, 2]]])"
      ]
     },
     "execution_count": 13,
     "metadata": {},
     "output_type": "execute_result"
    }
   ],
   "execution_count": 13
  },
  {
   "metadata": {},
   "cell_type": "markdown",
   "source": "### By _numpy.zeros",
   "id": "867ef98dd1190e3c"
  },
  {
   "metadata": {
    "ExecuteTime": {
     "end_time": "2025-02-13T12:44:33.584824Z",
     "start_time": "2025-02-13T12:44:33.579826Z"
    }
   },
   "cell_type": "code",
   "source": "np.zeros(shape=5)",
   "id": "c7ef1b7e7342a14",
   "outputs": [
    {
     "data": {
      "text/plain": [
       "array([0., 0., 0., 0., 0.])"
      ]
     },
     "execution_count": 14,
     "metadata": {},
     "output_type": "execute_result"
    }
   ],
   "execution_count": 14
  },
  {
   "metadata": {
    "ExecuteTime": {
     "end_time": "2025-02-13T12:44:33.710898Z",
     "start_time": "2025-02-13T12:44:33.706792Z"
    }
   },
   "cell_type": "code",
   "source": "np.zeros(shape=(2, 5))",
   "id": "e60999477350a910",
   "outputs": [
    {
     "data": {
      "text/plain": [
       "array([[0., 0., 0., 0., 0.],\n",
       "       [0., 0., 0., 0., 0.]])"
      ]
     },
     "execution_count": 15,
     "metadata": {},
     "output_type": "execute_result"
    }
   ],
   "execution_count": 15
  },
  {
   "metadata": {
    "ExecuteTime": {
     "end_time": "2025-02-13T12:44:33.753845Z",
     "start_time": "2025-02-13T12:44:33.749934Z"
    }
   },
   "cell_type": "code",
   "source": "np.zeros(shape=5, dtype='int')",
   "id": "b7eeaf4ce80fb6b8",
   "outputs": [
    {
     "data": {
      "text/plain": [
       "array([0, 0, 0, 0, 0])"
      ]
     },
     "execution_count": 16,
     "metadata": {},
     "output_type": "execute_result"
    }
   ],
   "execution_count": 16
  },
  {
   "metadata": {
    "ExecuteTime": {
     "end_time": "2025-02-13T12:44:33.810741Z",
     "start_time": "2025-02-13T12:44:33.806848Z"
    }
   },
   "cell_type": "code",
   "source": "np.zeros(shape=5, dtype='str')",
   "id": "112e2aa435618fb2",
   "outputs": [
    {
     "data": {
      "text/plain": [
       "array(['', '', '', '', ''], dtype='<U1')"
      ]
     },
     "execution_count": 17,
     "metadata": {},
     "output_type": "execute_result"
    }
   ],
   "execution_count": 17
  },
  {
   "metadata": {},
   "cell_type": "markdown",
   "source": "### By _numpy.full",
   "id": "19e4fbc94d6a4717"
  },
  {
   "metadata": {
    "ExecuteTime": {
     "end_time": "2025-02-13T13:40:37.819442Z",
     "start_time": "2025-02-13T13:40:37.815320Z"
    }
   },
   "cell_type": "code",
   "source": "np.full(shape=5, fill_value=15, dtype=float)",
   "id": "cda3566d798e4760",
   "outputs": [
    {
     "data": {
      "text/plain": [
       "array([15., 15., 15., 15., 15.])"
      ]
     },
     "execution_count": 18,
     "metadata": {},
     "output_type": "execute_result"
    }
   ],
   "execution_count": 18
  },
  {
   "metadata": {},
   "cell_type": "markdown",
   "source": "### By numpy.arange",
   "id": "4f0e8919f1ff9953"
  },
  {
   "metadata": {
    "ExecuteTime": {
     "end_time": "2025-02-13T13:44:37.259432Z",
     "start_time": "2025-02-13T13:44:37.254890Z"
    }
   },
   "cell_type": "code",
   "source": "np.arange(start=1, stop=16, step=5)",
   "id": "39bb5135c68bc86",
   "outputs": [
    {
     "data": {
      "text/plain": [
       "array([ 1,  6, 11])"
      ]
     },
     "execution_count": 20,
     "metadata": {},
     "output_type": "execute_result"
    }
   ],
   "execution_count": 20
  },
  {
   "metadata": {},
   "cell_type": "markdown",
   "source": "Start is inclusive and stop is not",
   "id": "e1a093997da269be"
  },
  {
   "metadata": {
    "ExecuteTime": {
     "end_time": "2025-02-13T13:45:12.834736Z",
     "start_time": "2025-02-13T13:45:12.830918Z"
    }
   },
   "cell_type": "code",
   "source": "np.arange(15)",
   "id": "6b220c19b3a79694",
   "outputs": [
    {
     "data": {
      "text/plain": [
       "array([ 0,  1,  2,  3,  4,  5,  6,  7,  8,  9, 10, 11, 12, 13, 14])"
      ]
     },
     "execution_count": 21,
     "metadata": {},
     "output_type": "execute_result"
    }
   ],
   "execution_count": 21
  },
  {
   "metadata": {},
   "cell_type": "markdown",
   "source": "### By numpy.random.randint",
   "id": "33a0f95e97b99d91"
  },
  {
   "metadata": {
    "ExecuteTime": {
     "end_time": "2025-02-13T13:47:27.857384Z",
     "start_time": "2025-02-13T13:47:27.850114Z"
    }
   },
   "cell_type": "code",
   "source": "np.random.randint(low=5, high=10, size=(3,4))",
   "id": "f43644640550d0c7",
   "outputs": [
    {
     "data": {
      "text/plain": [
       "array([[6, 6, 8, 8],\n",
       "       [5, 5, 6, 9],\n",
       "       [7, 5, 9, 5]], dtype=int32)"
      ]
     },
     "execution_count": 22,
     "metadata": {},
     "output_type": "execute_result"
    }
   ],
   "execution_count": 22
  }
 ],
 "metadata": {
  "kernelspec": {
   "display_name": "Python 3",
   "language": "python",
   "name": "python3"
  },
  "language_info": {
   "codemirror_mode": {
    "name": "ipython",
    "version": 2
   },
   "file_extension": ".py",
   "mimetype": "text/x-python",
   "name": "python",
   "nbconvert_exporter": "python",
   "pygments_lexer": "ipython2",
   "version": "2.7.6"
  }
 },
 "nbformat": 4,
 "nbformat_minor": 5
}
