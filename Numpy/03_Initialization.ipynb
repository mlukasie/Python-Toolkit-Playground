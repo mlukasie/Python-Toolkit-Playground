{
 "cells": [
  {
   "cell_type": "code",
   "id": "initial_id",
   "metadata": {
    "collapsed": true,
    "ExecuteTime": {
     "end_time": "2025-02-14T21:40:23.938241Z",
     "start_time": "2025-02-14T21:40:23.833345Z"
    }
   },
   "source": "import numpy as np",
   "outputs": [],
   "execution_count": 2
  },
  {
   "metadata": {},
   "cell_type": "markdown",
   "source": "### By numpy.array",
   "id": "596fee35486efe4e"
  },
  {
   "metadata": {
    "ExecuteTime": {
     "end_time": "2025-02-14T21:40:23.956379Z",
     "start_time": "2025-02-14T21:40:23.949469Z"
    }
   },
   "cell_type": "code",
   "source": "np.array([1, 2, 3])",
   "id": "9d0e451e02e78205",
   "outputs": [
    {
     "data": {
      "text/plain": [
       "array([1, 2, 3])"
      ]
     },
     "execution_count": 3,
     "metadata": {},
     "output_type": "execute_result"
    }
   ],
   "execution_count": 3
  },
  {
   "metadata": {
    "ExecuteTime": {
     "end_time": "2025-02-14T21:40:23.978948Z",
     "start_time": "2025-02-14T21:40:23.974474Z"
    }
   },
   "cell_type": "code",
   "source": [
    "np.array([\n",
    "    [1, 2],\n",
    "    [1, 2]\n",
    "])"
   ],
   "id": "d4fe8577ae620aee",
   "outputs": [
    {
     "data": {
      "text/plain": [
       "array([[1, 2],\n",
       "       [1, 2]])"
      ]
     },
     "execution_count": 4,
     "metadata": {},
     "output_type": "execute_result"
    }
   ],
   "execution_count": 4
  },
  {
   "metadata": {
    "ExecuteTime": {
     "end_time": "2025-02-14T21:40:24.563702Z",
     "start_time": "2025-02-14T21:40:24.558633Z"
    }
   },
   "cell_type": "code",
   "source": [
    "np.array([\n",
    "    [\n",
    "        [1, 2], [1, 2]\n",
    "    ],\n",
    "    [\n",
    "        [1, 2], [1, 2]\n",
    "    ]\n",
    "])"
   ],
   "id": "46ac1757cffd6c14",
   "outputs": [
    {
     "data": {
      "text/plain": [
       "array([[[1, 2],\n",
       "        [1, 2]],\n",
       "\n",
       "       [[1, 2],\n",
       "        [1, 2]]])"
      ]
     },
     "execution_count": 5,
     "metadata": {},
     "output_type": "execute_result"
    }
   ],
   "execution_count": 5
  },
  {
   "metadata": {},
   "cell_type": "markdown",
   "source": "### By numpy.zeros",
   "id": "867ef98dd1190e3c"
  },
  {
   "metadata": {
    "ExecuteTime": {
     "end_time": "2025-02-14T21:40:24.589223Z",
     "start_time": "2025-02-14T21:40:24.584814Z"
    }
   },
   "cell_type": "code",
   "source": "np.zeros(shape=5)",
   "id": "c7ef1b7e7342a14",
   "outputs": [
    {
     "data": {
      "text/plain": [
       "array([0., 0., 0., 0., 0.])"
      ]
     },
     "execution_count": 6,
     "metadata": {},
     "output_type": "execute_result"
    }
   ],
   "execution_count": 6
  },
  {
   "metadata": {
    "ExecuteTime": {
     "end_time": "2025-02-14T21:40:24.866744Z",
     "start_time": "2025-02-14T21:40:24.862469Z"
    }
   },
   "cell_type": "code",
   "source": "np.zeros(shape=(2, 5))",
   "id": "e60999477350a910",
   "outputs": [
    {
     "data": {
      "text/plain": [
       "array([[0., 0., 0., 0., 0.],\n",
       "       [0., 0., 0., 0., 0.]])"
      ]
     },
     "execution_count": 7,
     "metadata": {},
     "output_type": "execute_result"
    }
   ],
   "execution_count": 7
  },
  {
   "metadata": {
    "ExecuteTime": {
     "end_time": "2025-02-14T21:40:25.136770Z",
     "start_time": "2025-02-14T21:40:25.132629Z"
    }
   },
   "cell_type": "code",
   "source": "np.zeros(shape=5, dtype='int')",
   "id": "b7eeaf4ce80fb6b8",
   "outputs": [
    {
     "data": {
      "text/plain": [
       "array([0, 0, 0, 0, 0])"
      ]
     },
     "execution_count": 8,
     "metadata": {},
     "output_type": "execute_result"
    }
   ],
   "execution_count": 8
  },
  {
   "metadata": {
    "ExecuteTime": {
     "end_time": "2025-02-14T21:40:25.213376Z",
     "start_time": "2025-02-14T21:40:25.209288Z"
    }
   },
   "cell_type": "code",
   "source": "np.zeros(shape=5, dtype='str')",
   "id": "112e2aa435618fb2",
   "outputs": [
    {
     "data": {
      "text/plain": [
       "array(['', '', '', '', ''], dtype='<U1')"
      ]
     },
     "execution_count": 9,
     "metadata": {},
     "output_type": "execute_result"
    }
   ],
   "execution_count": 9
  },
  {
   "metadata": {},
   "cell_type": "markdown",
   "source": "### By numpy.full",
   "id": "19e4fbc94d6a4717"
  },
  {
   "metadata": {
    "ExecuteTime": {
     "end_time": "2025-02-14T21:40:25.293798Z",
     "start_time": "2025-02-14T21:40:25.287721Z"
    }
   },
   "cell_type": "code",
   "source": "np.full(shape=5, fill_value=15, dtype=float)",
   "id": "cda3566d798e4760",
   "outputs": [
    {
     "data": {
      "text/plain": [
       "array([15., 15., 15., 15., 15.])"
      ]
     },
     "execution_count": 10,
     "metadata": {},
     "output_type": "execute_result"
    }
   ],
   "execution_count": 10
  },
  {
   "metadata": {},
   "cell_type": "markdown",
   "source": "### By numpy.arange",
   "id": "4f0e8919f1ff9953"
  },
  {
   "metadata": {
    "ExecuteTime": {
     "end_time": "2025-02-14T21:40:25.397734Z",
     "start_time": "2025-02-14T21:40:25.392301Z"
    }
   },
   "cell_type": "code",
   "source": "np.arange(start=1, stop=16, step=5)",
   "id": "39bb5135c68bc86",
   "outputs": [
    {
     "data": {
      "text/plain": [
       "array([ 1,  6, 11])"
      ]
     },
     "execution_count": 11,
     "metadata": {},
     "output_type": "execute_result"
    }
   ],
   "execution_count": 11
  },
  {
   "metadata": {},
   "cell_type": "markdown",
   "source": "Start is inclusive and stop is not",
   "id": "e1a093997da269be"
  },
  {
   "metadata": {
    "ExecuteTime": {
     "end_time": "2025-02-14T21:40:25.503497Z",
     "start_time": "2025-02-14T21:40:25.499874Z"
    }
   },
   "cell_type": "code",
   "source": "np.arange(15)",
   "id": "6b220c19b3a79694",
   "outputs": [
    {
     "data": {
      "text/plain": [
       "array([ 0,  1,  2,  3,  4,  5,  6,  7,  8,  9, 10, 11, 12, 13, 14])"
      ]
     },
     "execution_count": 12,
     "metadata": {},
     "output_type": "execute_result"
    }
   ],
   "execution_count": 12
  },
  {
   "metadata": {},
   "cell_type": "markdown",
   "source": "### By numpy.random.randint",
   "id": "33a0f95e97b99d91"
  },
  {
   "metadata": {
    "ExecuteTime": {
     "end_time": "2025-02-14T21:40:25.692339100Z",
     "start_time": "2025-02-13T13:47:27.850114Z"
    }
   },
   "cell_type": "code",
   "source": "np.random.randint(low=5, high=10, size=(3,4))",
   "id": "f43644640550d0c7",
   "outputs": [
    {
     "data": {
      "text/plain": [
       "array([[6, 6, 8, 8],\n",
       "       [5, 5, 6, 9],\n",
       "       [7, 5, 9, 5]], dtype=int32)"
      ]
     },
     "execution_count": 22,
     "metadata": {},
     "output_type": "execute_result"
    }
   ],
   "execution_count": 22
  }
 ],
 "metadata": {
  "kernelspec": {
   "display_name": "Python 3",
   "language": "python",
   "name": "python3"
  },
  "language_info": {
   "codemirror_mode": {
    "name": "ipython",
    "version": 2
   },
   "file_extension": ".py",
   "mimetype": "text/x-python",
   "name": "python",
   "nbconvert_exporter": "python",
   "pygments_lexer": "ipython2",
   "version": "2.7.6"
  }
 },
 "nbformat": 4,
 "nbformat_minor": 5
}
