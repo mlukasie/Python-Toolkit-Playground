{
 "cells": [
  {
   "metadata": {},
   "cell_type": "markdown",
   "source": "## Setup",
   "id": "86f27cbdb427781a"
  },
  {
   "metadata": {},
   "cell_type": "markdown",
   "source": "### With your high school reunion fast approaching, you decide to get in shape and lose some weight. You record your weight every day for 5 weeks starting on Monday. Given  these daily weights, build an array with your average weight per weekend.",
   "id": "a8ab4accec10f2f3"
  },
  {
   "cell_type": "code",
   "id": "initial_id",
   "metadata": {
    "collapsed": true,
    "ExecuteTime": {
     "end_time": "2025-02-19T14:31:42.271297Z",
     "start_time": "2025-02-19T14:31:42.188014Z"
    }
   },
   "source": "import numpy as np",
   "outputs": [],
   "execution_count": 1
  },
  {
   "metadata": {
    "ExecuteTime": {
     "end_time": "2025-02-19T14:48:08.024645Z",
     "start_time": "2025-02-19T14:48:08.020654Z"
    }
   },
   "cell_type": "code",
   "source": "dailywts = 185 - np.arange(5*7)/5",
   "id": "f8f41b687b3e1afb",
   "outputs": [],
   "execution_count": 10
  },
  {
   "metadata": {
    "ExecuteTime": {
     "end_time": "2025-02-19T14:48:12.780161Z",
     "start_time": "2025-02-19T14:48:12.776582Z"
    }
   },
   "cell_type": "code",
   "source": "print(dailywts)",
   "id": "bda9c74513c6e5d9",
   "outputs": [
    {
     "name": "stdout",
     "output_type": "stream",
     "text": [
      "[185.  184.8 184.6 184.4 184.2 184.  183.8 183.6 183.4 183.2 183.  182.8\n",
      " 182.6 182.4 182.2 182.  181.8 181.6 181.4 181.2 181.  180.8 180.6 180.4\n",
      " 180.2 180.  179.8 179.6 179.4 179.2 179.  178.8 178.6 178.4 178.2]\n"
     ]
    }
   ],
   "execution_count": 11
  },
  {
   "metadata": {},
   "cell_type": "markdown",
   "source": "## Solution",
   "id": "3834a5ffa8de2528"
  },
  {
   "metadata": {
    "ExecuteTime": {
     "end_time": "2025-02-19T14:52:46.209785Z",
     "start_time": "2025-02-19T14:52:46.204404Z"
    }
   },
   "cell_type": "code",
   "source": [
    "avgs = (dailywts[5::7] + dailywts[6::7])/2\n",
    "print(avgs)"
   ],
   "id": "1a3157f314d3a9d9",
   "outputs": [
    {
     "name": "stdout",
     "output_type": "stream",
     "text": [
      "[183.9 182.5 181.1 179.7 178.3]\n"
     ]
    }
   ],
   "execution_count": 16
  },
  {
   "metadata": {},
   "cell_type": "markdown",
   "source": "### Possible solution for calculating average for whole weekend",
   "id": "f2dd52a397271f97"
  },
  {
   "metadata": {
    "ExecuteTime": {
     "end_time": "2025-02-19T14:53:20.006421Z",
     "start_time": "2025-02-19T14:53:20.000832Z"
    }
   },
   "cell_type": "code",
   "source": [
    "avgs = np.array([np.mean(dailywts[0+i*7:7+i*7]) for i in range(dailywts.size//7)])\n",
    "print(avgs)"
   ],
   "id": "ef5e50577520d6d4",
   "outputs": [
    {
     "name": "stdout",
     "output_type": "stream",
     "text": [
      "[184.4 183.  181.6 180.2 178.8]\n"
     ]
    }
   ],
   "execution_count": 17
  },
  {
   "metadata": {
    "ExecuteTime": {
     "end_time": "2025-02-19T14:56:48.672348Z",
     "start_time": "2025-02-19T14:56:48.667142Z"
    }
   },
   "cell_type": "code",
   "source": [
    "weekly_weights = dailywts.reshape(5, 7)\n",
    "weekly_avg = weekly_weights.mean(axis=1)\n",
    "print(weekly_avg)"
   ],
   "id": "8c9fc14bf7772675",
   "outputs": [
    {
     "name": "stdout",
     "output_type": "stream",
     "text": [
      "[184.4 183.  181.6 180.2 178.8]\n"
     ]
    }
   ],
   "execution_count": 18
  }
 ],
 "metadata": {
  "kernelspec": {
   "display_name": "Python 3",
   "language": "python",
   "name": "python3"
  },
  "language_info": {
   "codemirror_mode": {
    "name": "ipython",
    "version": 2
   },
   "file_extension": ".py",
   "mimetype": "text/x-python",
   "name": "python",
   "nbconvert_exporter": "python",
   "pygments_lexer": "ipython2",
   "version": "2.7.6"
  }
 },
 "nbformat": 4,
 "nbformat_minor": 5
}
