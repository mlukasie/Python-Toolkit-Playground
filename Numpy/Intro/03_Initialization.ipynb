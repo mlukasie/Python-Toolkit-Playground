{
 "cells": [
  {
   "cell_type": "code",
   "id": "initial_id",
   "metadata": {
    "collapsed": true,
    "ExecuteTime": {
     "end_time": "2025-02-19T13:31:30.520001Z",
     "start_time": "2025-02-19T13:31:30.462277Z"
    }
   },
   "source": "import numpy as np",
   "outputs": [],
   "execution_count": 2
  },
  {
   "metadata": {},
   "cell_type": "markdown",
   "source": "### By numpy.array",
   "id": "596fee35486efe4e"
  },
  {
   "metadata": {
    "ExecuteTime": {
     "end_time": "2025-02-19T13:31:30.531955Z",
     "start_time": "2025-02-19T13:31:30.527007Z"
    }
   },
   "cell_type": "code",
   "source": "np.array([1, 2, 3])",
   "id": "9d0e451e02e78205",
   "outputs": [
    {
     "data": {
      "text/plain": [
       "array([1, 2, 3])"
      ]
     },
     "execution_count": 3,
     "metadata": {},
     "output_type": "execute_result"
    }
   ],
   "execution_count": 3
  },
  {
   "metadata": {
    "ExecuteTime": {
     "end_time": "2025-02-19T13:31:30.554182Z",
     "start_time": "2025-02-19T13:31:30.550044Z"
    }
   },
   "cell_type": "code",
   "source": [
    "np.array([\n",
    "    [1, 2],\n",
    "    [1, 2]\n",
    "])"
   ],
   "id": "d4fe8577ae620aee",
   "outputs": [
    {
     "data": {
      "text/plain": [
       "array([[1, 2],\n",
       "       [1, 2]])"
      ]
     },
     "execution_count": 4,
     "metadata": {},
     "output_type": "execute_result"
    }
   ],
   "execution_count": 4
  },
  {
   "metadata": {
    "ExecuteTime": {
     "end_time": "2025-02-19T13:31:30.858184Z",
     "start_time": "2025-02-19T13:31:30.853899Z"
    }
   },
   "cell_type": "code",
   "source": [
    "np.array([\n",
    "    [\n",
    "        [1, 2], [1, 2]\n",
    "    ],\n",
    "    [\n",
    "        [1, 2], [1, 2]\n",
    "    ]\n",
    "])"
   ],
   "id": "46ac1757cffd6c14",
   "outputs": [
    {
     "data": {
      "text/plain": [
       "array([[[1, 2],\n",
       "        [1, 2]],\n",
       "\n",
       "       [[1, 2],\n",
       "        [1, 2]]])"
      ]
     },
     "execution_count": 5,
     "metadata": {},
     "output_type": "execute_result"
    }
   ],
   "execution_count": 5
  },
  {
   "metadata": {},
   "cell_type": "markdown",
   "source": "### By numpy.zeros",
   "id": "867ef98dd1190e3c"
  },
  {
   "metadata": {
    "ExecuteTime": {
     "end_time": "2025-02-19T13:31:30.909965Z",
     "start_time": "2025-02-19T13:31:30.902905Z"
    }
   },
   "cell_type": "code",
   "source": "np.zeros(shape=5)",
   "id": "c7ef1b7e7342a14",
   "outputs": [
    {
     "data": {
      "text/plain": [
       "array([0., 0., 0., 0., 0.])"
      ]
     },
     "execution_count": 6,
     "metadata": {},
     "output_type": "execute_result"
    }
   ],
   "execution_count": 6
  },
  {
   "metadata": {
    "ExecuteTime": {
     "end_time": "2025-02-19T13:31:30.953919Z",
     "start_time": "2025-02-19T13:31:30.949919Z"
    }
   },
   "cell_type": "code",
   "source": "np.zeros(shape=(2, 5))",
   "id": "e60999477350a910",
   "outputs": [
    {
     "data": {
      "text/plain": [
       "array([[0., 0., 0., 0., 0.],\n",
       "       [0., 0., 0., 0., 0.]])"
      ]
     },
     "execution_count": 7,
     "metadata": {},
     "output_type": "execute_result"
    }
   ],
   "execution_count": 7
  },
  {
   "metadata": {
    "ExecuteTime": {
     "end_time": "2025-02-19T13:31:31.004106Z",
     "start_time": "2025-02-19T13:31:30.999920Z"
    }
   },
   "cell_type": "code",
   "source": "np.zeros(shape=5, dtype='int')",
   "id": "b7eeaf4ce80fb6b8",
   "outputs": [
    {
     "data": {
      "text/plain": [
       "array([0, 0, 0, 0, 0])"
      ]
     },
     "execution_count": 8,
     "metadata": {},
     "output_type": "execute_result"
    }
   ],
   "execution_count": 8
  },
  {
   "metadata": {
    "ExecuteTime": {
     "end_time": "2025-02-19T13:31:31.045643Z",
     "start_time": "2025-02-19T13:31:31.041483Z"
    }
   },
   "cell_type": "code",
   "source": "np.zeros(shape=5, dtype='str')",
   "id": "112e2aa435618fb2",
   "outputs": [
    {
     "data": {
      "text/plain": [
       "array(['', '', '', '', ''], dtype='<U1')"
      ]
     },
     "execution_count": 9,
     "metadata": {},
     "output_type": "execute_result"
    }
   ],
   "execution_count": 9
  },
  {
   "metadata": {},
   "cell_type": "markdown",
   "source": "### By numpy.full",
   "id": "19e4fbc94d6a4717"
  },
  {
   "metadata": {
    "ExecuteTime": {
     "end_time": "2025-02-19T13:31:31.085116Z",
     "start_time": "2025-02-19T13:31:31.079714Z"
    }
   },
   "cell_type": "code",
   "source": "np.full(shape=5, fill_value=15, dtype=float)",
   "id": "cda3566d798e4760",
   "outputs": [
    {
     "data": {
      "text/plain": [
       "array([15., 15., 15., 15., 15.])"
      ]
     },
     "execution_count": 10,
     "metadata": {},
     "output_type": "execute_result"
    }
   ],
   "execution_count": 10
  },
  {
   "metadata": {},
   "cell_type": "markdown",
   "source": "### By numpy.full_like",
   "id": "cf10dad0a89bb83a"
  },
  {
   "metadata": {
    "ExecuteTime": {
     "end_time": "2025-02-19T13:31:47.570641Z",
     "start_time": "2025-02-19T13:31:47.566075Z"
    }
   },
   "cell_type": "code",
   "source": [
    "basic = np.array([[0, 1, 2], (2, 3, 4)])\n",
    "print(f'Basic: {basic}')\n",
    "\n",
    "like_basic = np.full_like(a=basic, fill_value=5)\n",
    "print(f'Like_basic: {like_basic}')"
   ],
   "id": "7917896e5483029d",
   "outputs": [
    {
     "name": "stdout",
     "output_type": "stream",
     "text": [
      "Basic: [[0 1 2]\n",
      " [2 3 4]]\n",
      "Like_basic: [[5 5 5]\n",
      " [5 5 5]]\n"
     ]
    }
   ],
   "execution_count": 15
  },
  {
   "metadata": {},
   "cell_type": "markdown",
   "source": "### By numpy.arange",
   "id": "4f0e8919f1ff9953"
  },
  {
   "metadata": {
    "ExecuteTime": {
     "end_time": "2025-02-19T13:31:31.249317Z",
     "start_time": "2025-02-19T13:31:31.244380Z"
    }
   },
   "cell_type": "code",
   "source": "np.arange(start=1, stop=16, step=5)",
   "id": "39bb5135c68bc86",
   "outputs": [
    {
     "data": {
      "text/plain": [
       "array([ 1,  6, 11])"
      ]
     },
     "execution_count": 12,
     "metadata": {},
     "output_type": "execute_result"
    }
   ],
   "execution_count": 12
  },
  {
   "metadata": {},
   "cell_type": "markdown",
   "source": "Start is inclusive and stop is not",
   "id": "e1a093997da269be"
  },
  {
   "metadata": {
    "ExecuteTime": {
     "end_time": "2025-02-19T13:31:31.331731Z",
     "start_time": "2025-02-19T13:31:31.326024Z"
    }
   },
   "cell_type": "code",
   "source": "np.arange(15)",
   "id": "6b220c19b3a79694",
   "outputs": [
    {
     "data": {
      "text/plain": [
       "array([ 0,  1,  2,  3,  4,  5,  6,  7,  8,  9, 10, 11, 12, 13, 14])"
      ]
     },
     "execution_count": 13,
     "metadata": {},
     "output_type": "execute_result"
    }
   ],
   "execution_count": 13
  },
  {
   "metadata": {},
   "cell_type": "markdown",
   "source": "### By numpy.random.randint",
   "id": "33a0f95e97b99d91"
  },
  {
   "metadata": {
    "ExecuteTime": {
     "end_time": "2025-02-19T13:31:31.405426Z",
     "start_time": "2025-02-19T13:31:31.399297Z"
    }
   },
   "cell_type": "code",
   "source": "np.random.randint(low=5, high=10, size=(3,4))",
   "id": "f43644640550d0c7",
   "outputs": [
    {
     "data": {
      "text/plain": [
       "array([[8, 8, 7, 9],\n",
       "       [9, 9, 7, 9],\n",
       "       [5, 8, 8, 5]], dtype=int32)"
      ]
     },
     "execution_count": 14,
     "metadata": {},
     "output_type": "execute_result"
    }
   ],
   "execution_count": 14
  },
  {
   "metadata": {},
   "cell_type": "markdown",
   "source": "### By numpy.linspace",
   "id": "31ccebe2e4f7f286"
  },
  {
   "metadata": {
    "ExecuteTime": {
     "end_time": "2025-02-19T17:19:12.872683Z",
     "start_time": "2025-02-19T17:19:12.861825Z"
    }
   },
   "cell_type": "code",
   "source": "np.linspace(start=0, stop=5, num=5)",
   "id": "bf48f3fcde60befa",
   "outputs": [
    {
     "data": {
      "text/plain": [
       "array([0.  , 1.25, 2.5 , 3.75, 5.  ])"
      ]
     },
     "execution_count": 17,
     "metadata": {},
     "output_type": "execute_result"
    }
   ],
   "execution_count": 17
  },
  {
   "metadata": {
    "ExecuteTime": {
     "end_time": "2025-02-19T17:19:48.800599Z",
     "start_time": "2025-02-19T17:19:48.791493Z"
    }
   },
   "cell_type": "code",
   "source": "np.linspace(start=[0, 5], stop=[5, 10], num=5)",
   "id": "9fc9e1b606051f",
   "outputs": [
    {
     "data": {
      "text/plain": [
       "array([[ 0.  ,  5.  ],\n",
       "       [ 1.25,  6.25],\n",
       "       [ 2.5 ,  7.5 ],\n",
       "       [ 3.75,  8.75],\n",
       "       [ 5.  , 10.  ]])"
      ]
     },
     "execution_count": 18,
     "metadata": {},
     "output_type": "execute_result"
    }
   ],
   "execution_count": 18
  },
  {
   "metadata": {
    "ExecuteTime": {
     "end_time": "2025-02-19T17:20:53.202052Z",
     "start_time": "2025-02-19T17:20:53.196454Z"
    }
   },
   "cell_type": "code",
   "source": "np.linspace(start=[0, 5], stop=[5, 10], num=5, axis=1)",
   "id": "4e76e6a91fdd6252",
   "outputs": [
    {
     "data": {
      "text/plain": [
       "array([[ 0.  ,  1.25,  2.5 ,  3.75,  5.  ],\n",
       "       [ 5.  ,  6.25,  7.5 ,  8.75, 10.  ]])"
      ]
     },
     "execution_count": 21,
     "metadata": {},
     "output_type": "execute_result"
    }
   ],
   "execution_count": 21
  }
 ],
 "metadata": {
  "kernelspec": {
   "display_name": "Python 3",
   "language": "python",
   "name": "python3"
  },
  "language_info": {
   "codemirror_mode": {
    "name": "ipython",
    "version": 2
   },
   "file_extension": ".py",
   "mimetype": "text/x-python",
   "name": "python",
   "nbconvert_exporter": "python",
   "pygments_lexer": "ipython2",
   "version": "2.7.6"
  }
 },
 "nbformat": 4,
 "nbformat_minor": 5
}
