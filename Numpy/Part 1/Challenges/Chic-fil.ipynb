{
 "cells": [
  {
   "metadata": {},
   "cell_type": "markdown",
   "source": "## Setup",
   "id": "c57c8e9b663e5cd5"
  },
  {
   "metadata": {},
   "cell_type": "markdown",
   "source": "You decide to invest in a series of billboards along interstate 10 to advertise your stylish new chicken restaurant, Chic-fil. You buy three billboards evenly spaced starting on mile marker 17 and ending on mile marker 28. Then you buy another three billboards evenly spaced starting on mile marker 32 and ending on mile marker 36. Determine how far each ad is from your restaurant which is located at mile marker 30.",
   "id": "2c131250e86d2f08"
  },
  {
   "metadata": {
    "ExecuteTime": {
     "end_time": "2025-02-20T09:14:57.879349Z",
     "start_time": "2025-02-20T09:14:57.876413Z"
    }
   },
   "cell_type": "code",
   "source": "import numpy as np",
   "id": "5b45d0ceb8b1d570",
   "outputs": [],
   "execution_count": 4
  },
  {
   "metadata": {},
   "cell_type": "markdown",
   "source": "## Solution",
   "id": "82adbd5f6c33d297"
  },
  {
   "cell_type": "code",
   "id": "initial_id",
   "metadata": {
    "collapsed": true,
    "ExecuteTime": {
     "end_time": "2025-02-20T09:14:57.899473Z",
     "start_time": "2025-02-20T09:14:57.894210Z"
    }
   },
   "source": [
    "markers = np.array([17, (17+28)/2, 28, 32, (32+36)/2, 36])\n",
    "print(markers)"
   ],
   "outputs": [
    {
     "name": "stdout",
     "output_type": "stream",
     "text": [
      "[17.  22.5 28.  32.  34.  36. ]\n"
     ]
    }
   ],
   "execution_count": 5
  },
  {
   "metadata": {
    "ExecuteTime": {
     "end_time": "2025-02-20T09:14:57.947221Z",
     "start_time": "2025-02-20T09:14:57.942582Z"
    }
   },
   "cell_type": "code",
   "source": [
    "distances = abs(markers - 30)\n",
    "print(distances)"
   ],
   "id": "ccf79f66b82c7ae7",
   "outputs": [
    {
     "name": "stdout",
     "output_type": "stream",
     "text": [
      "[13.   7.5  2.   2.   4.   6. ]\n"
     ]
    }
   ],
   "execution_count": 6
  },
  {
   "metadata": {},
   "cell_type": "markdown",
   "source": "### Different approach",
   "id": "4396246d539afa55"
  },
  {
   "metadata": {
    "ExecuteTime": {
     "end_time": "2025-02-20T09:14:57.998336Z",
     "start_time": "2025-02-20T09:14:57.992265Z"
    }
   },
   "cell_type": "code",
   "source": [
    "markers = np.linspace(start=[17, 32], stop=[28, 36], num=3)\n",
    "print(markers)"
   ],
   "id": "6c92ace50efbc7c1",
   "outputs": [
    {
     "name": "stdout",
     "output_type": "stream",
     "text": [
      "[[17.  32. ]\n",
      " [22.5 34. ]\n",
      " [28.  36. ]]\n"
     ]
    }
   ],
   "execution_count": 7
  },
  {
   "metadata": {
    "ExecuteTime": {
     "end_time": "2025-02-20T09:14:58.028534Z",
     "start_time": "2025-02-20T09:14:58.024534Z"
    }
   },
   "cell_type": "code",
   "source": [
    "distances = np.abs(markers - 30)\n",
    "print(distances)"
   ],
   "id": "e157300f0bcae52f",
   "outputs": [
    {
     "name": "stdout",
     "output_type": "stream",
     "text": [
      "[[13.   2. ]\n",
      " [ 7.5  4. ]\n",
      " [ 2.   6. ]]\n"
     ]
    }
   ],
   "execution_count": 8
  },
  {
   "metadata": {
    "ExecuteTime": {
     "end_time": "2025-02-20T09:14:58.085594Z",
     "start_time": "2025-02-20T09:14:58.083317Z"
    }
   },
   "cell_type": "code",
   "source": "",
   "id": "28ffb0dc56474855",
   "outputs": [],
   "execution_count": null
  }
 ],
 "metadata": {
  "kernelspec": {
   "display_name": "Python 3",
   "language": "python",
   "name": "python3"
  },
  "language_info": {
   "codemirror_mode": {
    "name": "ipython",
    "version": 2
   },
   "file_extension": ".py",
   "mimetype": "text/x-python",
   "name": "python",
   "nbconvert_exporter": "python",
   "pygments_lexer": "ipython2",
   "version": "2.7.6"
  }
 },
 "nbformat": 4,
 "nbformat_minor": 5
}
