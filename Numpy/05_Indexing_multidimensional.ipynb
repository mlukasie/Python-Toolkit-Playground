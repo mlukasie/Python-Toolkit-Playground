{
 "cells": [
  {
   "cell_type": "code",
   "id": "initial_id",
   "metadata": {
    "collapsed": true,
    "ExecuteTime": {
     "end_time": "2025-02-18T15:20:23.473500Z",
     "start_time": "2025-02-18T15:20:23.365529Z"
    }
   },
   "source": "import numpy as np",
   "outputs": [],
   "execution_count": 1
  },
  {
   "metadata": {
    "ExecuteTime": {
     "end_time": "2025-02-18T15:20:28.190363Z",
     "start_time": "2025-02-18T15:20:28.185154Z"
    }
   },
   "cell_type": "code",
   "source": [
    "arr = np.array([\n",
    "    [[ 1,  2,  3], [ 4,  5,  6], [ 7,  8,  9]],\n",
    "    [[10, 11, 12], [13, 14, 15], [16, 17, 18]],\n",
    "    [[19, 20, 21], [22, 23, 24], [25, 26, 27]]\n",
    "])"
   ],
   "id": "f4db916cd3c736f3",
   "outputs": [],
   "execution_count": 2
  },
  {
   "metadata": {
    "ExecuteTime": {
     "end_time": "2025-02-18T19:50:26.158917Z",
     "start_time": "2025-02-18T19:50:26.153087Z"
    }
   },
   "cell_type": "code",
   "source": "arr[0]",
   "id": "6ab9f60d6ee2be26",
   "outputs": [
    {
     "data": {
      "text/plain": [
       "array([[1, 2, 3],\n",
       "       [4, 5, 6],\n",
       "       [7, 8, 9]])"
      ]
     },
     "execution_count": 18,
     "metadata": {},
     "output_type": "execute_result"
    }
   ],
   "execution_count": 18
  },
  {
   "metadata": {
    "ExecuteTime": {
     "end_time": "2025-02-18T19:50:31.752162Z",
     "start_time": "2025-02-18T19:50:31.745142Z"
    }
   },
   "cell_type": "code",
   "source": "arr[0,0]",
   "id": "a3e97309343db199",
   "outputs": [
    {
     "data": {
      "text/plain": [
       "array([1, 2, 3])"
      ]
     },
     "execution_count": 19,
     "metadata": {},
     "output_type": "execute_result"
    }
   ],
   "execution_count": 19
  },
  {
   "metadata": {
    "ExecuteTime": {
     "end_time": "2025-02-18T19:50:38.758103Z",
     "start_time": "2025-02-18T19:50:38.754224Z"
    }
   },
   "cell_type": "code",
   "source": "arr[0,0,0]",
   "id": "9db297b38efe511e",
   "outputs": [
    {
     "data": {
      "text/plain": [
       "np.int64(1)"
      ]
     },
     "execution_count": 20,
     "metadata": {},
     "output_type": "execute_result"
    }
   ],
   "execution_count": 20
  },
  {
   "metadata": {
    "ExecuteTime": {
     "end_time": "2025-02-18T19:50:46.920422Z",
     "start_time": "2025-02-18T19:50:46.916194Z"
    }
   },
   "cell_type": "code",
   "source": "arr[0,:,0]",
   "id": "9bfa2d0dd03d6540",
   "outputs": [
    {
     "data": {
      "text/plain": [
       "array([1, 4, 7])"
      ]
     },
     "execution_count": 21,
     "metadata": {},
     "output_type": "execute_result"
    }
   ],
   "execution_count": 21
  },
  {
   "metadata": {
    "ExecuteTime": {
     "end_time": "2025-02-18T19:51:52.443657Z",
     "start_time": "2025-02-18T19:51:52.438914Z"
    }
   },
   "cell_type": "code",
   "source": "arr[::2,::2,::2]",
   "id": "54663e235bcdac1d",
   "outputs": [
    {
     "data": {
      "text/plain": [
       "array([[[ 1,  3],\n",
       "        [ 7,  9]],\n",
       "\n",
       "       [[19, 21],\n",
       "        [25, 27]]])"
      ]
     },
     "execution_count": 22,
     "metadata": {},
     "output_type": "execute_result"
    }
   ],
   "execution_count": 22
  },
  {
   "metadata": {
    "ExecuteTime": {
     "end_time": "2025-02-18T19:53:13.164736Z",
     "start_time": "2025-02-18T19:53:13.153802Z"
    }
   },
   "cell_type": "code",
   "source": "arr[[0,1,2], [0,1,2], [0,1,2]]",
   "id": "153531c50291918",
   "outputs": [
    {
     "data": {
      "text/plain": [
       "array([ 1, 14, 27])"
      ]
     },
     "execution_count": 24,
     "metadata": {},
     "output_type": "execute_result"
    }
   ],
   "execution_count": 24
  },
  {
   "metadata": {},
   "cell_type": "code",
   "outputs": [],
   "execution_count": null,
   "source": "",
   "id": "5be5dd9445d6f1de"
  }
 ],
 "metadata": {
  "kernelspec": {
   "display_name": "Python 3",
   "language": "python",
   "name": "python3"
  },
  "language_info": {
   "codemirror_mode": {
    "name": "ipython",
    "version": 2
   },
   "file_extension": ".py",
   "mimetype": "text/x-python",
   "name": "python",
   "nbconvert_exporter": "python",
   "pygments_lexer": "ipython2",
   "version": "2.7.6"
  }
 },
 "nbformat": 4,
 "nbformat_minor": 5
}
