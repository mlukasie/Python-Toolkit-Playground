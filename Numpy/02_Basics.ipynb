{
 "cells": [
  {
   "metadata": {
    "ExecuteTime": {
     "end_time": "2025-02-13T12:37:15.164771Z",
     "start_time": "2025-02-13T12:37:15.149343Z"
    }
   },
   "cell_type": "code",
   "source": "import numpy as np",
   "id": "9edf519e3c536a87",
   "outputs": [],
   "execution_count": 30
  },
  {
   "metadata": {},
   "cell_type": "markdown",
   "source": "### Basic properties",
   "id": "5749f9c81b246b24"
  },
  {
   "cell_type": "code",
   "id": "initial_id",
   "metadata": {
    "collapsed": true,
    "ExecuteTime": {
     "end_time": "2025-02-13T12:37:15.178310Z",
     "start_time": "2025-02-13T12:37:15.164771Z"
    }
   },
   "source": [
    "arr = np.array([1, 2, 3, 4, 5])\n",
    "\n",
    "print(f'arr: {arr}')\n",
    "print(f'arr.ndim: {arr.ndim}')\n",
    "print(f'arr.shape: {arr.shape}')\n",
    "print(f'len(arr): {len(arr)}')\n",
    "print(f'arr.size: {arr.size}')\n",
    "print(f'type(arr): {type(arr)}')"
   ],
   "outputs": [
    {
     "name": "stdout",
     "output_type": "stream",
     "text": [
      "arr: [1 2 3 4 5]\n",
      "arr.ndim: 1\n",
      "arr.shape: (5,)\n",
      "len(arr): 5\n",
      "arr.size: 5\n",
      "type(arr): <class 'numpy.ndarray'>\n"
     ]
    }
   ],
   "execution_count": 31
  },
  {
   "metadata": {
    "ExecuteTime": {
     "end_time": "2025-02-13T12:37:15.193893Z",
     "start_time": "2025-02-13T12:37:15.183954Z"
    }
   },
   "cell_type": "code",
   "source": [
    "arr_2d = np.array([\n",
    "    [1, 2, 3, 4, 5],\n",
    "    [1, 2, 3, 4, 5],\n",
    "    [1, 2, 3, 4, 5],\n",
    "])\n",
    "\n",
    "print(f'arr_2d: {arr_2d}')\n",
    "print(f'arr_2d.ndim: {arr_2d.ndim}')\n",
    "print(f'arr_2d.shape: {arr_2d.shape}')\n",
    "print(f'len(arr_2d): {len(arr_2d)}')\n",
    "print(f'arr_2d.size: {arr_2d.size}')"
   ],
   "id": "9879cccd44d2c4d6",
   "outputs": [
    {
     "name": "stdout",
     "output_type": "stream",
     "text": [
      "arr_2d: [[1 2 3 4 5]\n",
      " [1 2 3 4 5]\n",
      " [1 2 3 4 5]]\n",
      "arr_2d.ndim: 2\n",
      "arr_2d.shape: (3, 5)\n",
      "len(arr_2d): 3\n",
      "arr_2d.size: 15\n"
     ]
    }
   ],
   "execution_count": 32
  },
  {
   "metadata": {},
   "cell_type": "markdown",
   "source": "### Types of data",
   "id": "518b2e9f7b1dd17c"
  },
  {
   "metadata": {
    "ExecuteTime": {
     "end_time": "2025-02-13T12:37:15.222338Z",
     "start_time": "2025-02-13T12:37:15.215598Z"
    }
   },
   "cell_type": "code",
   "source": [
    "np.array([\n",
    "    [1, 2, 3],\n",
    "    [1.5, 1.3, 1.6],\n",
    "])\n",
    "print(arr)\n",
    "print(arr.dtype)"
   ],
   "id": "ca24406ce5c25f66",
   "outputs": [
    {
     "name": "stdout",
     "output_type": "stream",
     "text": [
      "[1 2 3 4 5]\n",
      "int64\n"
     ]
    }
   ],
   "execution_count": 33
  },
  {
   "metadata": {},
   "cell_type": "markdown",
   "source": "Arrays can be only of one type - first list of ints is converted to floats",
   "id": "aace6f96a4e9ca59"
  },
  {
   "metadata": {
    "ExecuteTime": {
     "end_time": "2025-02-13T12:37:15.314005Z",
     "start_time": "2025-02-13T12:37:15.304538Z"
    }
   },
   "cell_type": "code",
   "source": [
    "arr = np.array([1, 'hello', 3])\n",
    "print(arr)\n",
    "print(arr.dtype)"
   ],
   "id": "48120935b3cd4cf2",
   "outputs": [
    {
     "name": "stdout",
     "output_type": "stream",
     "text": [
      "['1' 'hello' '3']\n",
      "<U21\n"
     ]
    }
   ],
   "execution_count": 34
  },
  {
   "metadata": {},
   "cell_type": "markdown",
   "source": "Here integers are casted to strings of size less than 21 characters",
   "id": "9a0bfae0bc4f0eb9"
  },
  {
   "metadata": {
    "ExecuteTime": {
     "end_time": "2025-02-13T12:37:15.342089Z",
     "start_time": "2025-02-13T12:37:15.337902Z"
    }
   },
   "cell_type": "code",
   "source": [
    "arr[0] = 'very very very very very long string'\n",
    "print(arr)"
   ],
   "id": "2bb32e07c193cf63",
   "outputs": [
    {
     "name": "stdout",
     "output_type": "stream",
     "text": [
      "['very very very very v' 'hello' '3']\n"
     ]
    }
   ],
   "execution_count": 35
  },
  {
   "metadata": {},
   "cell_type": "markdown",
   "source": "Assigned value is shorten",
   "id": "6aacdc812be30175"
  }
 ],
 "metadata": {
  "kernelspec": {
   "display_name": "Python 3",
   "language": "python",
   "name": "python3"
  },
  "language_info": {
   "codemirror_mode": {
    "name": "ipython",
    "version": 2
   },
   "file_extension": ".py",
   "mimetype": "text/x-python",
   "name": "python",
   "nbconvert_exporter": "python",
   "pygments_lexer": "ipython2",
   "version": "2.7.6"
  }
 },
 "nbformat": 4,
 "nbformat_minor": 5
}
