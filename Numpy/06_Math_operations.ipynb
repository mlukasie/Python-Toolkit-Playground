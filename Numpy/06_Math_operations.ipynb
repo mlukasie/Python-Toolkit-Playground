{
 "cells": [
  {
   "cell_type": "code",
   "id": "initial_id",
   "metadata": {
    "collapsed": true,
    "ExecuteTime": {
     "end_time": "2025-02-19T13:27:29.859125Z",
     "start_time": "2025-02-19T13:27:29.856308Z"
    }
   },
   "source": "import numpy as np",
   "outputs": [],
   "execution_count": 7
  },
  {
   "metadata": {
    "ExecuteTime": {
     "end_time": "2025-02-19T13:27:29.888644Z",
     "start_time": "2025-02-19T13:27:29.883819Z"
    }
   },
   "cell_type": "code",
   "source": [
    "foo = np.array([[1, 2], [1, 1]])\n",
    "zoo = np.array([[4, 2], [0, 1]])"
   ],
   "id": "934c3da958836ac",
   "outputs": [],
   "execution_count": 8
  },
  {
   "metadata": {
    "ExecuteTime": {
     "end_time": "2025-02-19T13:27:29.907061Z",
     "start_time": "2025-02-19T13:27:29.902066Z"
    }
   },
   "cell_type": "code",
   "source": "foo + zoo",
   "id": "f57e3c89ea5115dd",
   "outputs": [
    {
     "data": {
      "text/plain": [
       "array([[5, 4],\n",
       "       [1, 2]])"
      ]
     },
     "execution_count": 9,
     "metadata": {},
     "output_type": "execute_result"
    }
   ],
   "execution_count": 9
  },
  {
   "metadata": {
    "ExecuteTime": {
     "end_time": "2025-02-19T13:27:29.967336Z",
     "start_time": "2025-02-19T13:27:29.962335Z"
    }
   },
   "cell_type": "code",
   "source": "foo - zoo",
   "id": "b5c275d5a47c2033",
   "outputs": [
    {
     "data": {
      "text/plain": [
       "array([[-3,  0],\n",
       "       [ 1,  0]])"
      ]
     },
     "execution_count": 10,
     "metadata": {},
     "output_type": "execute_result"
    }
   ],
   "execution_count": 10
  },
  {
   "metadata": {},
   "cell_type": "markdown",
   "source": "Element wise multiplication",
   "id": "671c1ab3605b5206"
  },
  {
   "metadata": {
    "ExecuteTime": {
     "end_time": "2025-02-19T13:27:30.043465Z",
     "start_time": "2025-02-19T13:27:30.036411Z"
    }
   },
   "cell_type": "code",
   "source": "foo * zoo",
   "id": "157a98b3a1646b6b",
   "outputs": [
    {
     "data": {
      "text/plain": [
       "array([[4, 4],\n",
       "       [0, 1]])"
      ]
     },
     "execution_count": 11,
     "metadata": {},
     "output_type": "execute_result"
    }
   ],
   "execution_count": 11
  },
  {
   "metadata": {},
   "cell_type": "markdown",
   "source": "Matrix multiplication",
   "id": "328f97d7d64c4202"
  },
  {
   "metadata": {
    "ExecuteTime": {
     "end_time": "2025-02-19T13:27:30.122845Z",
     "start_time": "2025-02-19T13:27:30.117522Z"
    }
   },
   "cell_type": "code",
   "source": "foo @ zoo",
   "id": "b4b4186264464251",
   "outputs": [
    {
     "data": {
      "text/plain": [
       "array([[4, 4],\n",
       "       [4, 3]])"
      ]
     },
     "execution_count": 12,
     "metadata": {},
     "output_type": "execute_result"
    }
   ],
   "execution_count": 12
  },
  {
   "metadata": {},
   "cell_type": "markdown",
   "source": "Adding scaler",
   "id": "e9e7cb0d4bae79ac"
  },
  {
   "metadata": {
    "ExecuteTime": {
     "end_time": "2025-02-19T13:29:19.157507Z",
     "start_time": "2025-02-19T13:29:19.153362Z"
    }
   },
   "cell_type": "code",
   "source": "foo + np.full_like(foo, 5)",
   "id": "df841603478bbaaf",
   "outputs": [
    {
     "data": {
      "text/plain": [
       "array([[6, 7],\n",
       "       [6, 6]])"
      ]
     },
     "execution_count": 13,
     "metadata": {},
     "output_type": "execute_result"
    }
   ],
   "execution_count": 13
  },
  {
   "metadata": {
    "ExecuteTime": {
     "end_time": "2025-02-19T13:32:05.418932Z",
     "start_time": "2025-02-19T13:32:05.415357Z"
    }
   },
   "cell_type": "code",
   "source": "foo + 5",
   "id": "b8b01df93e9448aa",
   "outputs": [
    {
     "data": {
      "text/plain": [
       "array([[6, 7],\n",
       "       [6, 6]])"
      ]
     },
     "execution_count": 14,
     "metadata": {},
     "output_type": "execute_result"
    }
   ],
   "execution_count": 14
  },
  {
   "metadata": {},
   "cell_type": "code",
   "outputs": [],
   "execution_count": null,
   "source": "",
   "id": "997f79c2121a1d60"
  }
 ],
 "metadata": {
  "kernelspec": {
   "display_name": "Python 3",
   "language": "python",
   "name": "python3"
  },
  "language_info": {
   "codemirror_mode": {
    "name": "ipython",
    "version": 2
   },
   "file_extension": ".py",
   "mimetype": "text/x-python",
   "name": "python",
   "nbconvert_exporter": "python",
   "pygments_lexer": "ipython2",
   "version": "2.7.6"
  }
 },
 "nbformat": 4,
 "nbformat_minor": 5
}
