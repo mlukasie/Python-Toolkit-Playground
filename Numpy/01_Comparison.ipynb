{
 "cells": [
  {
   "metadata": {
    "ExecuteTime": {
     "end_time": "2025-02-13T10:29:13.472419Z",
     "start_time": "2025-02-13T10:29:13.469272Z"
    }
   },
   "cell_type": "code",
   "source": [
    "import numpy as np\n",
    "import time\n",
    "N = 123321123"
   ],
   "id": "8c57fe2ac4945d44",
   "outputs": [],
   "execution_count": 4
  },
  {
   "metadata": {},
   "cell_type": "markdown",
   "source": "### Normal arryas",
   "id": "3ad7a6b7d0d5b21c"
  },
  {
   "metadata": {
    "ExecuteTime": {
     "end_time": "2025-02-13T10:45:00.233085Z",
     "start_time": "2025-02-13T10:44:38.970054Z"
    }
   },
   "cell_type": "code",
   "source": [
    "start_time = time.time()\n",
    "array = [i/1000 for i in range(N)]\n",
    "end_time = time.time()\n",
    "diff = end_time - start_time\n",
    "print(f'Time it took to initialize: {diff:.3f} seconds')\n",
    "\n",
    "start_time = time.time()\n",
    "avg = sum(array)/len(array)\n",
    "end_time = time.time()\n",
    "diff = end_time - start_time\n",
    "print(f'Time it took to calculate average: {diff:.3f} seconds')"
   ],
   "id": "97f2badff11fa5e1",
   "outputs": [
    {
     "name": "stdout",
     "output_type": "stream",
     "text": [
      "Time it took to initialize: 18.258 seconds\n",
      "Time it took to calculate average: 2.986 seconds\n"
     ]
    }
   ],
   "execution_count": 26
  },
  {
   "metadata": {},
   "cell_type": "markdown",
   "source": "### Numpy arrays",
   "id": "275bf4da97c54caf"
  },
  {
   "metadata": {
    "ExecuteTime": {
     "end_time": "2025-02-13T10:45:51.700879Z",
     "start_time": "2025-02-13T10:45:50.995917Z"
    }
   },
   "cell_type": "code",
   "source": [
    "start_time = time.time()\n",
    "np_array = np.arange(N)/1000\n",
    "end_time = time.time()\n",
    "diff = end_time - start_time\n",
    "print(f'Time it took to initialize: {diff:.3f} seconds')\n",
    "\n",
    "start_time = time.time()\n",
    "avg = np.mean(np_array)\n",
    "end_time = time.time()\n",
    "diff = end_time - start_time\n",
    "print(f'Time it took to calculate average: {diff:.3f} seconds')"
   ],
   "id": "176f15c5013543ee",
   "outputs": [
    {
     "name": "stdout",
     "output_type": "stream",
     "text": [
      "Time it took to initialize: 0.529 seconds\n",
      "Time it took to calculate average: 0.168 seconds\n"
     ]
    }
   ],
   "execution_count": 27
  },
  {
   "metadata": {},
   "cell_type": "markdown",
   "source": "Numpy arrays are much faster than normal",
   "id": "6fc6cadcd15a3c33"
  },
  {
   "metadata": {
    "ExecuteTime": {
     "end_time": "2025-02-13T11:19:07.640953Z",
     "start_time": "2025-02-13T11:19:07.632806Z"
    }
   },
   "cell_type": "code",
   "source": [
    "arr = [[1, 2, 3], [1, 2]]\n",
    "print(arr)"
   ],
   "id": "aee0369c67c95a34",
   "outputs": [
    {
     "name": "stdout",
     "output_type": "stream",
     "text": [
      "[[1, 2, 3], [1, 2]]\n"
     ]
    }
   ],
   "execution_count": 34
  },
  {
   "metadata": {
    "ExecuteTime": {
     "end_time": "2025-02-13T11:19:10.195366Z",
     "start_time": "2025-02-13T11:19:10.190179Z"
    }
   },
   "cell_type": "code",
   "source": [
    "try:\n",
    "    arr = np.array([\n",
    "    [1, 2, 3],\n",
    "    [1, 2]\n",
    "])\n",
    "except:\n",
    "    print('Can`t initialize such np.ndarray')"
   ],
   "id": "aff633c0dd46f800",
   "outputs": [
    {
     "name": "stdout",
     "output_type": "stream",
     "text": [
      "Can`t initialize such np.ndarray\n"
     ]
    }
   ],
   "execution_count": 35
  },
  {
   "metadata": {},
   "cell_type": "markdown",
   "source": "Numpy arrays are less flexible than normal",
   "id": "811c470bc243045c"
  }
 ],
 "metadata": {
  "kernelspec": {
   "display_name": "Python 3",
   "language": "python",
   "name": "python3"
  },
  "language_info": {
   "codemirror_mode": {
    "name": "ipython",
    "version": 2
   },
   "file_extension": ".py",
   "mimetype": "text/x-python",
   "name": "python",
   "nbconvert_exporter": "python",
   "pygments_lexer": "ipython2",
   "version": "2.7.6"
  }
 },
 "nbformat": 4,
 "nbformat_minor": 5
}
