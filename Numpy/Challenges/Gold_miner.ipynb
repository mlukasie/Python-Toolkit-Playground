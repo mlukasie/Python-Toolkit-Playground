{
 "cells": [
  {
   "metadata": {},
   "cell_type": "markdown",
   "source": "## Setup",
   "id": "a4362d3c531f4827"
  },
  {
   "metadata": {},
   "cell_type": "markdown",
   "source": "After binge watching the discovery channel, you ditch your job as a trial lawyer to become a gold miner. You decide to prospect five locations underneath a 7x7 grid of land. How much gold do you uncover at each location",
   "id": "ae71fcee5affb22a"
  },
  {
   "metadata": {
    "ExecuteTime": {
     "end_time": "2025-02-19T16:52:35.824697Z",
     "start_time": "2025-02-19T16:52:35.738335Z"
    }
   },
   "cell_type": "code",
   "source": "import numpy as np",
   "id": "80551579c8e774da",
   "outputs": [],
   "execution_count": 1
  },
  {
   "cell_type": "code",
   "id": "initial_id",
   "metadata": {
    "collapsed": true,
    "ExecuteTime": {
     "end_time": "2025-02-19T16:53:42.947235Z",
     "start_time": "2025-02-19T16:53:42.943232Z"
    }
   },
   "source": [
    "np.random.seed(5555)\n",
    "gold = np.random.randint(low=0, high=10, size=(7, 7))\n",
    "print(gold)"
   ],
   "outputs": [
    {
     "name": "stdout",
     "output_type": "stream",
     "text": [
      "[[2 3 0 5 2 0 3]\n",
      " [8 8 0 7 1 5 3]\n",
      " [0 1 6 2 1 4 5]\n",
      " [4 0 8 9 9 8 7]\n",
      " [4 2 7 0 7 2 1]\n",
      " [9 8 9 2 5 0 8]\n",
      " [1 9 8 2 6 4 3]]\n"
     ]
    }
   ],
   "execution_count": 3
  },
  {
   "metadata": {
    "ExecuteTime": {
     "end_time": "2025-02-19T16:54:55.622410Z",
     "start_time": "2025-02-19T16:54:55.616955Z"
    }
   },
   "cell_type": "code",
   "source": [
    "locations = np.array([\n",
    "    [0,4],\n",
    "    [2,2],\n",
    "    [2,3],\n",
    "    [5,1],\n",
    "    [6,3]\n",
    "])\n",
    "print(locations)"
   ],
   "id": "20039ed70ef2eca6",
   "outputs": [
    {
     "name": "stdout",
     "output_type": "stream",
     "text": [
      "[[0 4]\n",
      " [2 2]\n",
      " [2 3]\n",
      " [5 1]\n",
      " [6 3]]\n"
     ]
    }
   ],
   "execution_count": 5
  },
  {
   "metadata": {},
   "cell_type": "markdown",
   "source": "## Solution",
   "id": "a68581e765fe40ba"
  },
  {
   "metadata": {
    "ExecuteTime": {
     "end_time": "2025-02-19T16:58:45.331347Z",
     "start_time": "2025-02-19T16:58:45.320978Z"
    }
   },
   "cell_type": "code",
   "source": "np.array([gold[i,j] for i,j in locations])\n",
   "id": "e497431b6c2489df",
   "outputs": [
    {
     "name": "stdout",
     "output_type": "stream",
     "text": [
      "[2 6 2 8 2]\n"
     ]
    }
   ],
   "execution_count": 8
  },
  {
   "metadata": {
    "ExecuteTime": {
     "end_time": "2025-02-19T16:59:31.112002Z",
     "start_time": "2025-02-19T16:59:31.105573Z"
    }
   },
   "cell_type": "code",
   "source": "np.array(gold[locations[:,0], locations[:,1]])",
   "id": "f6c719727ea9895f",
   "outputs": [
    {
     "data": {
      "text/plain": [
       "array([2, 6, 2, 8, 2], dtype=int32)"
      ]
     },
     "execution_count": 9,
     "metadata": {},
     "output_type": "execute_result"
    }
   ],
   "execution_count": 9
  },
  {
   "metadata": {},
   "cell_type": "code",
   "outputs": [],
   "execution_count": null,
   "source": "",
   "id": "9c89f3f9252287f0"
  }
 ],
 "metadata": {
  "kernelspec": {
   "display_name": "Python 3",
   "language": "python",
   "name": "python3"
  },
  "language_info": {
   "codemirror_mode": {
    "name": "ipython",
    "version": 2
   },
   "file_extension": ".py",
   "mimetype": "text/x-python",
   "name": "python",
   "nbconvert_exporter": "python",
   "pygments_lexer": "ipython2",
   "version": "2.7.6"
  }
 },
 "nbformat": 4,
 "nbformat_minor": 5
}
