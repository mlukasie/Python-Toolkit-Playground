{
 "cells": [
  {
   "metadata": {},
   "cell_type": "markdown",
   "source": "## Setup",
   "id": "c57c8e9b663e5cd5"
  },
  {
   "metadata": {},
   "cell_type": "markdown",
   "source": "You decide to invest in a series of billboards along interstate 10 to advertise your stylish new chicken restaurant, Chic-fil. You buy three billboards evenly spaced starting on mile marker 17 and ending on mile marker 28. Then you buy another three billboards evenly spaced starting on mile marker 32 and ending on mile marker 36. Determine how far each ad is from your restaurant which is located at mile marker 30.",
   "id": "2c131250e86d2f08"
  },
  {
   "metadata": {
    "ExecuteTime": {
     "end_time": "2025-02-19T17:09:31.147738Z",
     "start_time": "2025-02-19T17:09:31.075857Z"
    }
   },
   "cell_type": "code",
   "source": "import numpy as np",
   "id": "5b45d0ceb8b1d570",
   "outputs": [],
   "execution_count": 1
  },
  {
   "metadata": {},
   "cell_type": "markdown",
   "source": "## Solution",
   "id": "82adbd5f6c33d297"
  },
  {
   "cell_type": "code",
   "id": "initial_id",
   "metadata": {
    "collapsed": true,
    "ExecuteTime": {
     "end_time": "2025-02-19T17:18:08.225151Z",
     "start_time": "2025-02-19T17:18:08.217804Z"
    }
   },
   "source": [
    "markers = np.array([17, (17+28)/2, 28, 32, (32+36)/2, 36])\n",
    "print(markers)"
   ],
   "outputs": [
    {
     "name": "stdout",
     "output_type": "stream",
     "text": [
      "[17.  22.5 28.  32.  34.  36. ]\n"
     ]
    }
   ],
   "execution_count": 7
  },
  {
   "metadata": {
    "ExecuteTime": {
     "end_time": "2025-02-19T17:18:09.389210Z",
     "start_time": "2025-02-19T17:18:09.380393Z"
    }
   },
   "cell_type": "code",
   "source": [
    "distances = abs(markers - 30)\n",
    "print(distances)"
   ],
   "id": "ccf79f66b82c7ae7",
   "outputs": [
    {
     "name": "stdout",
     "output_type": "stream",
     "text": [
      "[13.   7.5  2.   2.   4.   6. ]\n"
     ]
    }
   ],
   "execution_count": 8
  },
  {
   "metadata": {},
   "cell_type": "markdown",
   "source": "### Different approach",
   "id": "4396246d539afa55"
  },
  {
   "metadata": {
    "ExecuteTime": {
     "end_time": "2025-02-19T17:20:25.351647Z",
     "start_time": "2025-02-19T17:20:25.346674Z"
    }
   },
   "cell_type": "code",
   "source": [
    "markers = np.linspace(start=[17, 32], stop=[28, 36], num=3)\n",
    "print(markers)"
   ],
   "id": "6c92ace50efbc7c1",
   "outputs": [
    {
     "name": "stdout",
     "output_type": "stream",
     "text": [
      "[[17.  32. ]\n",
      " [22.5 34. ]\n",
      " [28.  36. ]]\n"
     ]
    }
   ],
   "execution_count": 9
  },
  {
   "metadata": {
    "ExecuteTime": {
     "end_time": "2025-02-19T17:20:26.388795Z",
     "start_time": "2025-02-19T17:20:26.378171Z"
    }
   },
   "cell_type": "code",
   "source": [
    "distances = abs(markers - 30)\n",
    "print(distances)"
   ],
   "id": "e157300f0bcae52f",
   "outputs": [
    {
     "name": "stdout",
     "output_type": "stream",
     "text": [
      "[[13.   2. ]\n",
      " [ 7.5  4. ]\n",
      " [ 2.   6. ]]\n"
     ]
    }
   ],
   "execution_count": 10
  },
  {
   "metadata": {},
   "cell_type": "code",
   "outputs": [],
   "execution_count": null,
   "source": "",
   "id": "28ffb0dc56474855"
  }
 ],
 "metadata": {
  "kernelspec": {
   "display_name": "Python 3",
   "language": "python",
   "name": "python3"
  },
  "language_info": {
   "codemirror_mode": {
    "name": "ipython",
    "version": 2
   },
   "file_extension": ".py",
   "mimetype": "text/x-python",
   "name": "python",
   "nbconvert_exporter": "python",
   "pygments_lexer": "ipython2",
   "version": "2.7.6"
  }
 },
 "nbformat": 4,
 "nbformat_minor": 5
}
