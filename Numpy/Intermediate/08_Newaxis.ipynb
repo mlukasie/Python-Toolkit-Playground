{
 "cells": [
  {
   "cell_type": "code",
   "id": "initial_id",
   "metadata": {
    "collapsed": true,
    "ExecuteTime": {
     "end_time": "2025-02-20T10:01:28.764883Z",
     "start_time": "2025-02-20T10:01:28.758247Z"
    }
   },
   "source": "import numpy as np",
   "outputs": [],
   "execution_count": 5
  },
  {
   "metadata": {
    "ExecuteTime": {
     "end_time": "2025-02-20T10:01:41.949647Z",
     "start_time": "2025-02-20T10:01:41.942726Z"
    }
   },
   "cell_type": "code",
   "source": [
    "a = np.array([1, 2, 3, 4])\n",
    "b = np.array([5, 4, 3])"
   ],
   "id": "4dadd8836711a3df",
   "outputs": [],
   "execution_count": 8
  },
  {
   "metadata": {
    "ExecuteTime": {
     "end_time": "2025-02-20T10:01:42.825197Z",
     "start_time": "2025-02-20T10:01:42.810977Z"
    }
   },
   "cell_type": "code",
   "source": "a-b",
   "id": "7547cae1678e609a",
   "outputs": [
    {
     "ename": "ValueError",
     "evalue": "operands could not be broadcast together with shapes (4,) (3,) ",
     "output_type": "error",
     "traceback": [
      "\u001B[1;31m---------------------------------------------------------------------------\u001B[0m",
      "\u001B[1;31mValueError\u001B[0m                                Traceback (most recent call last)",
      "Cell \u001B[1;32mIn[9], line 1\u001B[0m\n\u001B[1;32m----> 1\u001B[0m \u001B[43ma\u001B[49m\u001B[38;5;241;43m-\u001B[39;49m\u001B[43mb\u001B[49m\n",
      "\u001B[1;31mValueError\u001B[0m: operands could not be broadcast together with shapes (4,) (3,) "
     ]
    }
   ],
   "execution_count": 9
  },
  {
   "metadata": {},
   "cell_type": "markdown",
   "source": [
    "As we can see we can't subtract arrays of those shapes. Using np.newaxis increases dimensions of arrays.\n",
    "This method allows us to convert shapes `(4,) (3,)` into `(4, 1) (1, 3)`. After that the broadcasting will do the rest of magic"
   ],
   "id": "e7c312aa0b1e8f9e"
  },
  {
   "metadata": {
    "ExecuteTime": {
     "end_time": "2025-02-20T10:01:44.803298Z",
     "start_time": "2025-02-20T10:01:44.789181Z"
    }
   },
   "cell_type": "code",
   "source": "a[:,np.newaxis] - b[np.newaxis,:]",
   "id": "ceffb3f15eb71619",
   "outputs": [
    {
     "data": {
      "text/plain": [
       "array([[-4, -3, -2],\n",
       "       [-3, -2, -1],\n",
       "       [-2, -1,  0],\n",
       "       [-1,  0,  1]])"
      ]
     },
     "execution_count": 10,
     "metadata": {},
     "output_type": "execute_result"
    }
   ],
   "execution_count": 10
  },
  {
   "metadata": {},
   "cell_type": "markdown",
   "source": "np.newaxis is an alias for `None` keyword",
   "id": "a0c4f30ccf03d8f3"
  },
  {
   "metadata": {
    "ExecuteTime": {
     "end_time": "2025-02-20T10:02:52.069637Z",
     "start_time": "2025-02-20T10:02:52.063375Z"
    }
   },
   "cell_type": "code",
   "source": "a[:,None] - b[None,:]",
   "id": "414a8624a3640b5f",
   "outputs": [
    {
     "data": {
      "text/plain": [
       "array([[-4, -3, -2],\n",
       "       [-3, -2, -1],\n",
       "       [-2, -1,  0],\n",
       "       [-1,  0,  1]])"
      ]
     },
     "execution_count": 11,
     "metadata": {},
     "output_type": "execute_result"
    }
   ],
   "execution_count": 11
  }
 ],
 "metadata": {
  "kernelspec": {
   "display_name": "Python 3",
   "language": "python",
   "name": "python3"
  },
  "language_info": {
   "codemirror_mode": {
    "name": "ipython",
    "version": 2
   },
   "file_extension": ".py",
   "mimetype": "text/x-python",
   "name": "python",
   "nbconvert_exporter": "python",
   "pygments_lexer": "ipython2",
   "version": "2.7.6"
  }
 },
 "nbformat": 4,
 "nbformat_minor": 5
}
