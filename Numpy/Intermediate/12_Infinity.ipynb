{
 "cells": [
  {
   "cell_type": "code",
   "id": "initial_id",
   "metadata": {
    "collapsed": true,
    "ExecuteTime": {
     "end_time": "2025-03-01T22:54:12.397544Z",
     "start_time": "2025-03-01T22:54:12.336919Z"
    }
   },
   "source": "import numpy as np",
   "outputs": [],
   "execution_count": 1
  },
  {
   "metadata": {
    "ExecuteTime": {
     "end_time": "2025-03-01T22:55:58.546988Z",
     "start_time": "2025-03-01T22:55:58.533668Z"
    }
   },
   "cell_type": "code",
   "source": "np.array([np.inf, -np.inf])",
   "id": "35e6cc4b86ac0687",
   "outputs": [
    {
     "data": {
      "text/plain": [
       "array([ inf, -inf])"
      ]
     },
     "execution_count": 3,
     "metadata": {},
     "output_type": "execute_result"
    }
   ],
   "execution_count": 3
  },
  {
   "metadata": {
    "ExecuteTime": {
     "end_time": "2025-03-01T22:56:36.781474Z",
     "start_time": "2025-03-01T22:56:36.772671Z"
    }
   },
   "cell_type": "code",
   "source": "np.array([1, -1])/0",
   "id": "144a3849c629642e",
   "outputs": [
    {
     "name": "stderr",
     "output_type": "stream",
     "text": [
      "C:\\Users\\mateu\\AppData\\Local\\Temp\\ipykernel_9304\\4162858187.py:1: RuntimeWarning: divide by zero encountered in divide\n",
      "  np.array([1, -1])/0\n"
     ]
    },
    {
     "data": {
      "text/plain": [
       "array([ inf, -inf])"
      ]
     },
     "execution_count": 4,
     "metadata": {},
     "output_type": "execute_result"
    }
   ],
   "execution_count": 4
  },
  {
   "metadata": {
    "ExecuteTime": {
     "end_time": "2025-03-01T22:56:55.487786Z",
     "start_time": "2025-03-01T22:56:55.482785Z"
    }
   },
   "cell_type": "code",
   "source": "np.inf * 42",
   "id": "5decb37826d2f9f0",
   "outputs": [
    {
     "data": {
      "text/plain": [
       "inf"
      ]
     },
     "execution_count": 5,
     "metadata": {},
     "output_type": "execute_result"
    }
   ],
   "execution_count": 5
  },
  {
   "metadata": {
    "ExecuteTime": {
     "end_time": "2025-03-01T22:57:08.659192Z",
     "start_time": "2025-03-01T22:57:08.654863Z"
    }
   },
   "cell_type": "code",
   "source": "np.inf + np.inf",
   "id": "f5ff9d6f02a5fbd3",
   "outputs": [
    {
     "data": {
      "text/plain": [
       "inf"
      ]
     },
     "execution_count": 6,
     "metadata": {},
     "output_type": "execute_result"
    }
   ],
   "execution_count": 6
  },
  {
   "metadata": {
    "ExecuteTime": {
     "end_time": "2025-03-01T22:57:15.457273Z",
     "start_time": "2025-03-01T22:57:15.450823Z"
    }
   },
   "cell_type": "code",
   "source": "np.inf - np.inf",
   "id": "ef1e1566e492c92e",
   "outputs": [
    {
     "data": {
      "text/plain": [
       "nan"
      ]
     },
     "execution_count": 7,
     "metadata": {},
     "output_type": "execute_result"
    }
   ],
   "execution_count": 7
  },
  {
   "metadata": {
    "ExecuteTime": {
     "end_time": "2025-03-01T22:57:27.707619Z",
     "start_time": "2025-03-01T22:57:27.703067Z"
    }
   },
   "cell_type": "code",
   "source": "-np.inf * -1",
   "id": "adf023c2a5606c34",
   "outputs": [
    {
     "data": {
      "text/plain": [
       "inf"
      ]
     },
     "execution_count": 8,
     "metadata": {},
     "output_type": "execute_result"
    }
   ],
   "execution_count": 8
  },
  {
   "metadata": {
    "ExecuteTime": {
     "end_time": "2025-03-01T22:57:47.761050Z",
     "start_time": "2025-03-01T22:57:47.757038Z"
    }
   },
   "cell_type": "code",
   "source": "np.inf/np.inf",
   "id": "8da3988c3ed49170",
   "outputs": [
    {
     "data": {
      "text/plain": [
       "nan"
      ]
     },
     "execution_count": 9,
     "metadata": {},
     "output_type": "execute_result"
    }
   ],
   "execution_count": 9
  },
  {
   "metadata": {
    "ExecuteTime": {
     "end_time": "2025-03-01T22:57:59.669776Z",
     "start_time": "2025-03-01T22:57:59.664775Z"
    }
   },
   "cell_type": "code",
   "source": "np.inf == np.inf",
   "id": "cd75eedde95e0acd",
   "outputs": [
    {
     "data": {
      "text/plain": [
       "True"
      ]
     },
     "execution_count": 10,
     "metadata": {},
     "output_type": "execute_result"
    }
   ],
   "execution_count": 10
  },
  {
   "metadata": {
    "ExecuteTime": {
     "end_time": "2025-03-01T22:59:00.450223Z",
     "start_time": "2025-03-01T22:59:00.447414Z"
    }
   },
   "cell_type": "code",
   "source": "foo = np.array([1., 2., np.inf, 3., -np.inf])",
   "id": "4a99361ed7421f37",
   "outputs": [],
   "execution_count": 11
  },
  {
   "metadata": {
    "ExecuteTime": {
     "end_time": "2025-03-01T22:59:35.235341Z",
     "start_time": "2025-03-01T22:59:35.229628Z"
    }
   },
   "cell_type": "code",
   "source": "[foo==np.inf]",
   "id": "3bcda84ba9ca70fe",
   "outputs": [
    {
     "data": {
      "text/plain": [
       "[array([False, False,  True, False, False])]"
      ]
     },
     "execution_count": 14,
     "metadata": {},
     "output_type": "execute_result"
    }
   ],
   "execution_count": 14
  },
  {
   "metadata": {
    "ExecuteTime": {
     "end_time": "2025-03-01T22:59:41.451124Z",
     "start_time": "2025-03-01T22:59:41.443174Z"
    }
   },
   "cell_type": "code",
   "source": "np.isposinf(foo)",
   "id": "e90ec0ea811de9c6",
   "outputs": [
    {
     "data": {
      "text/plain": [
       "array([False, False,  True, False, False])"
      ]
     },
     "execution_count": 15,
     "metadata": {},
     "output_type": "execute_result"
    }
   ],
   "execution_count": 15
  },
  {
   "metadata": {
    "ExecuteTime": {
     "end_time": "2025-03-01T22:59:47.154630Z",
     "start_time": "2025-03-01T22:59:47.150390Z"
    }
   },
   "cell_type": "code",
   "source": "np.isneginf(foo)",
   "id": "baa57927d52dfdd4",
   "outputs": [
    {
     "data": {
      "text/plain": [
       "array([False, False, False, False,  True])"
      ]
     },
     "execution_count": 16,
     "metadata": {},
     "output_type": "execute_result"
    }
   ],
   "execution_count": 16
  },
  {
   "metadata": {
    "ExecuteTime": {
     "end_time": "2025-03-01T23:00:04.339336Z",
     "start_time": "2025-03-01T23:00:04.335847Z"
    }
   },
   "cell_type": "code",
   "source": "np.isinf(foo)",
   "id": "aa2125102687830f",
   "outputs": [
    {
     "data": {
      "text/plain": [
       "array([False, False,  True, False,  True])"
      ]
     },
     "execution_count": 17,
     "metadata": {},
     "output_type": "execute_result"
    }
   ],
   "execution_count": 17
  },
  {
   "metadata": {},
   "cell_type": "code",
   "outputs": [],
   "execution_count": null,
   "source": "",
   "id": "e11ad469ab17a718"
  }
 ],
 "metadata": {
  "kernelspec": {
   "display_name": "Python 3",
   "language": "python",
   "name": "python3"
  },
  "language_info": {
   "codemirror_mode": {
    "name": "ipython",
    "version": 2
   },
   "file_extension": ".py",
   "mimetype": "text/x-python",
   "name": "python",
   "nbconvert_exporter": "python",
   "pygments_lexer": "ipython2",
   "version": "2.7.6"
  }
 },
 "nbformat": 4,
 "nbformat_minor": 5
}
