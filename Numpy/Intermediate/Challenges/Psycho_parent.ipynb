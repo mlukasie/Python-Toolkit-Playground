{
 "cells": [
  {
   "metadata": {},
   "cell_type": "markdown",
   "source": [
    "## Setup\n",
    "Eager to make your mark on the PTA, you decide the best way to hide eggs for the upcoming easter egg hunt is to use NumPy. You represent the field as a 10x10 array of 0s. Now your goal is to insert twenty random normal values at random (non repeating) locations in the grid that tell you how much candy to hide at each spot and where."
   ],
   "id": "dfde2c222d093fde"
  },
  {
   "metadata": {
    "ExecuteTime": {
     "end_time": "2025-03-02T09:22:21.033967Z",
     "start_time": "2025-03-02T09:22:21.029318Z"
    }
   },
   "cell_type": "code",
   "source": [
    "import numpy as np\n",
    "field = np.zeros(shape=(10, 10), dtype=np.int64)\n",
    "field"
   ],
   "id": "12a17c90fa12879",
   "outputs": [
    {
     "data": {
      "text/plain": [
       "array([[0, 0, 0, 0, 0, 0, 0, 0, 0, 0],\n",
       "       [0, 0, 0, 0, 0, 0, 0, 0, 0, 0],\n",
       "       [0, 0, 0, 0, 0, 0, 0, 0, 0, 0],\n",
       "       [0, 0, 0, 0, 0, 0, 0, 0, 0, 0],\n",
       "       [0, 0, 0, 0, 0, 0, 0, 0, 0, 0],\n",
       "       [0, 0, 0, 0, 0, 0, 0, 0, 0, 0],\n",
       "       [0, 0, 0, 0, 0, 0, 0, 0, 0, 0],\n",
       "       [0, 0, 0, 0, 0, 0, 0, 0, 0, 0],\n",
       "       [0, 0, 0, 0, 0, 0, 0, 0, 0, 0],\n",
       "       [0, 0, 0, 0, 0, 0, 0, 0, 0, 0]])"
      ]
     },
     "execution_count": 76,
     "metadata": {},
     "output_type": "execute_result"
    }
   ],
   "execution_count": 76
  },
  {
   "metadata": {},
   "cell_type": "markdown",
   "source": "## Solution",
   "id": "ef9b34659b73c751"
  },
  {
   "metadata": {
    "ExecuteTime": {
     "end_time": "2025-03-02T09:22:56.755662Z",
     "start_time": "2025-03-02T09:22:56.750538Z"
    }
   },
   "cell_type": "code",
   "source": [
    "generator = np.random.default_rng(seed=8080)\n",
    "field.ravel()[generator.choice(np.arange(100),20)] = generator.choice(np.arange(30), 20)\n",
    "field"
   ],
   "id": "1176a7c207e8a772",
   "outputs": [
    {
     "data": {
      "text/plain": [
       "array([[ 0,  0,  0,  0,  0, 14,  0,  0, 19,  0],\n",
       "       [ 0, 28,  0,  0, 16,  0,  0,  0,  0,  0],\n",
       "       [22, 11,  0,  0, 27,  0,  0,  0,  0,  0],\n",
       "       [ 0,  0,  0,  0,  0,  0,  0,  0,  0,  0],\n",
       "       [ 0,  0,  0,  0, 18,  4,  0,  0, 20,  0],\n",
       "       [ 0,  0,  0,  0,  0,  0,  0,  0, 28, 17],\n",
       "       [ 0,  0,  0, 22,  0,  0,  0,  0, 12,  0],\n",
       "       [13,  0,  0, 27,  0,  0,  0,  0,  0,  0],\n",
       "       [ 0,  9,  0,  0,  0,  6,  0,  0,  0,  0],\n",
       "       [ 0,  0,  0,  0, 17,  0,  0,  0,  0,  0]])"
      ]
     },
     "execution_count": 78,
     "metadata": {},
     "output_type": "execute_result"
    }
   ],
   "execution_count": 78
  },
  {
   "metadata": {},
   "cell_type": "code",
   "outputs": [],
   "execution_count": null,
   "source": "",
   "id": "9131b3341d99d788"
  }
 ],
 "metadata": {
  "kernelspec": {
   "display_name": "Python 3",
   "language": "python",
   "name": "python3"
  },
  "language_info": {
   "codemirror_mode": {
    "name": "ipython",
    "version": 2
   },
   "file_extension": ".py",
   "mimetype": "text/x-python",
   "name": "python",
   "nbconvert_exporter": "python",
   "pygments_lexer": "ipython2",
   "version": "2.7.6"
  }
 },
 "nbformat": 4,
 "nbformat_minor": 5
}
