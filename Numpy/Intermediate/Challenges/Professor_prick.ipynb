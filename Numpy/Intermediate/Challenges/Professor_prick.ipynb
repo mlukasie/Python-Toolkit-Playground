{
 "cells": [
  {
   "metadata": {},
   "cell_type": "markdown",
   "source": [
    "## Setup\n",
    "You are vindictive, hateful professor and one of your pet peeves is when students rush through their exams. To teach them a lesson, you decide to give 0s to the first three students who score less than sixty, in the order they turned in their exams. So given a 1d array of integers, identify the first three values less than sixty and replace them with zero."
   ],
   "id": "ca54c8af568c0b06"
  },
  {
   "metadata": {
    "ExecuteTime": {
     "end_time": "2025-03-02T08:29:46.253340Z",
     "start_time": "2025-03-02T08:29:46.248692Z"
    }
   },
   "cell_type": "code",
   "source": [
    "import numpy as np\n",
    "generator = np.random.default_rng(80085)\n",
    "scores = generator.integers(low=30,high=101,size=15)\n",
    "scores"
   ],
   "id": "e6757bf70646a45d",
   "outputs": [
    {
     "data": {
      "text/plain": [
       "array([ 82,  68,  94,  36,  91,  76,  47,  56,  54,  56, 100,  53,  74,\n",
       "        63,  68])"
      ]
     },
     "execution_count": 19,
     "metadata": {},
     "output_type": "execute_result"
    }
   ],
   "execution_count": 19
  },
  {
   "metadata": {},
   "cell_type": "markdown",
   "source": "## Solution",
   "id": "f23279b0484dbb74"
  },
  {
   "metadata": {
    "ExecuteTime": {
     "end_time": "2025-03-02T08:31:10.481181Z",
     "start_time": "2025-03-02T08:31:10.477527Z"
    }
   },
   "cell_type": "code",
   "source": "scores[(scores<60).nonzero()[0][0:3]] = 0",
   "id": "3bddb4c2076cf724",
   "outputs": [],
   "execution_count": 27
  },
  {
   "metadata": {
    "ExecuteTime": {
     "end_time": "2025-03-02T08:31:12.017753Z",
     "start_time": "2025-03-02T08:31:12.013756Z"
    }
   },
   "cell_type": "code",
   "source": "scores",
   "id": "9f4fb17852d0aebb",
   "outputs": [
    {
     "data": {
      "text/plain": [
       "array([ 82,  68,  94,   0,  91,  76,   0,   0,  54,  56, 100,  53,  74,\n",
       "        63,  68])"
      ]
     },
     "execution_count": 28,
     "metadata": {},
     "output_type": "execute_result"
    }
   ],
   "execution_count": 28
  }
 ],
 "metadata": {
  "kernelspec": {
   "display_name": "Python 3",
   "language": "python",
   "name": "python3"
  },
  "language_info": {
   "codemirror_mode": {
    "name": "ipython",
    "version": 2
   },
   "file_extension": ".py",
   "mimetype": "text/x-python",
   "name": "python",
   "nbconvert_exporter": "python",
   "pygments_lexer": "ipython2",
   "version": "2.7.6"
  }
 },
 "nbformat": 4,
 "nbformat_minor": 5
}
