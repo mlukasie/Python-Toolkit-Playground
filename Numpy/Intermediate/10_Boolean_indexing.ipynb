{
 "cells": [
  {
   "cell_type": "code",
   "id": "initial_id",
   "metadata": {
    "collapsed": true,
    "ExecuteTime": {
     "end_time": "2025-03-01T22:21:49.406153Z",
     "start_time": "2025-03-01T22:21:49.062064Z"
    }
   },
   "source": "import numpy as np",
   "outputs": [],
   "execution_count": 1
  },
  {
   "metadata": {
    "ExecuteTime": {
     "end_time": "2025-03-01T22:25:11.786041Z",
     "start_time": "2025-03-01T22:25:11.780602Z"
    }
   },
   "cell_type": "code",
   "source": [
    "foo = np.array([\n",
    "    [1, 5, 3],\n",
    "    [3, 5, 6],\n",
    "    [7, 3, 9]\n",
    "])"
   ],
   "id": "d78c5a5e89644084",
   "outputs": [],
   "execution_count": 8
  },
  {
   "metadata": {
    "ExecuteTime": {
     "end_time": "2025-03-01T22:25:19.941457Z",
     "start_time": "2025-03-01T22:25:19.934220Z"
    }
   },
   "cell_type": "code",
   "source": "foo == 3",
   "id": "df979cd8f90cdb7e",
   "outputs": [
    {
     "data": {
      "text/plain": [
       "array([[False, False,  True],\n",
       "       [ True, False, False],\n",
       "       [False,  True, False]])"
      ]
     },
     "execution_count": 10,
     "metadata": {},
     "output_type": "execute_result"
    }
   ],
   "execution_count": 10
  },
  {
   "metadata": {
    "ExecuteTime": {
     "end_time": "2025-03-01T22:25:22.323576Z",
     "start_time": "2025-03-01T22:25:22.320701Z"
    }
   },
   "cell_type": "code",
   "source": "mask = foo == 3",
   "id": "4908003d24ca7d05",
   "outputs": [],
   "execution_count": 11
  },
  {
   "metadata": {
    "ExecuteTime": {
     "end_time": "2025-03-01T22:25:24.631155Z",
     "start_time": "2025-03-01T22:25:24.623200Z"
    }
   },
   "cell_type": "code",
   "source": "foo[mask]",
   "id": "aa7b66851efcac0",
   "outputs": [
    {
     "data": {
      "text/plain": [
       "array([3, 3, 3])"
      ]
     },
     "execution_count": 12,
     "metadata": {},
     "output_type": "execute_result"
    }
   ],
   "execution_count": 12
  },
  {
   "metadata": {
    "ExecuteTime": {
     "end_time": "2025-03-01T22:25:57.683068Z",
     "start_time": "2025-03-01T22:25:57.676420Z"
    }
   },
   "cell_type": "code",
   "source": [
    "foo[mask] = 0\n",
    "foo"
   ],
   "id": "b4d7b86914553df0",
   "outputs": [
    {
     "data": {
      "text/plain": [
       "array([[1, 5, 0],\n",
       "       [0, 5, 6],\n",
       "       [7, 0, 9]])"
      ]
     },
     "execution_count": 15,
     "metadata": {},
     "output_type": "execute_result"
    }
   ],
   "execution_count": 15
  },
  {
   "metadata": {},
   "cell_type": "markdown",
   "source": "Only first and third row",
   "id": "653453d84f2b0db2"
  },
  {
   "metadata": {
    "ExecuteTime": {
     "end_time": "2025-03-01T22:26:53.314008Z",
     "start_time": "2025-03-01T22:26:53.308774Z"
    }
   },
   "cell_type": "code",
   "source": "foo[[True, False, True]]",
   "id": "371a7e62da0ab666",
   "outputs": [
    {
     "data": {
      "text/plain": [
       "array([[1, 5, 0],\n",
       "       [7, 0, 9]])"
      ]
     },
     "execution_count": 16,
     "metadata": {},
     "output_type": "execute_result"
    }
   ],
   "execution_count": 16
  },
  {
   "metadata": {},
   "cell_type": "markdown",
   "source": "Only first and third column",
   "id": "ddc2c2a322d7b8f8"
  },
  {
   "metadata": {
    "ExecuteTime": {
     "end_time": "2025-03-01T22:27:54.325215Z",
     "start_time": "2025-03-01T22:27:54.320371Z"
    }
   },
   "cell_type": "code",
   "source": "foo[:, [True, False, True]]",
   "id": "17fc0a454b919418",
   "outputs": [
    {
     "data": {
      "text/plain": [
       "array([[1, 0],\n",
       "       [0, 6],\n",
       "       [7, 9]])"
      ]
     },
     "execution_count": 17,
     "metadata": {},
     "output_type": "execute_result"
    }
   ],
   "execution_count": 17
  },
  {
   "metadata": {
    "ExecuteTime": {
     "end_time": "2025-03-01T22:28:51.981087Z",
     "start_time": "2025-03-01T22:28:51.974344Z"
    }
   },
   "cell_type": "code",
   "source": "foo[[True, False, True], [True, False, True]]",
   "id": "cc5de2d65ff4d32f",
   "outputs": [
    {
     "data": {
      "text/plain": [
       "array([1, 9])"
      ]
     },
     "execution_count": 18,
     "metadata": {},
     "output_type": "execute_result"
    }
   ],
   "execution_count": 18
  },
  {
   "metadata": {},
   "cell_type": "markdown",
   "source": [
    "Now the output isn't something we anticipated. We were prepared to see `[[1, 0], [7, 9]]`.\n",
    "That's because numpy treats that kind of indexing just like slicing and the output is the same as when we would call\n",
    "`foo[[0, 2], [0, 2]]`. That returns only two values from `[0, 0]` and `[2, 2]` positions"
   ],
   "id": "5c4e7fba21d3f058"
  },
  {
   "metadata": {},
   "cell_type": "code",
   "outputs": [],
   "execution_count": null,
   "source": "",
   "id": "8c95858f74e61b58"
  }
 ],
 "metadata": {
  "kernelspec": {
   "display_name": "Python 3",
   "language": "python",
   "name": "python3"
  },
  "language_info": {
   "codemirror_mode": {
    "name": "ipython",
    "version": 2
   },
   "file_extension": ".py",
   "mimetype": "text/x-python",
   "name": "python",
   "nbconvert_exporter": "python",
   "pygments_lexer": "ipython2",
   "version": "2.7.6"
  }
 },
 "nbformat": 4,
 "nbformat_minor": 5
}
