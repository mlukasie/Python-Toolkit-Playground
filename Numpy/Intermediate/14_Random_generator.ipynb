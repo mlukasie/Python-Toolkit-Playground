{
 "cells": [
  {
   "cell_type": "code",
   "id": "initial_id",
   "metadata": {
    "collapsed": true,
    "ExecuteTime": {
     "end_time": "2025-03-01T23:30:29.001553Z",
     "start_time": "2025-03-01T23:30:28.936662Z"
    }
   },
   "source": "import numpy as np",
   "outputs": [],
   "execution_count": 1
  },
  {
   "metadata": {},
   "cell_type": "markdown",
   "source": "Because of random number generators changing across the versions of numpy it is recommended to use generator.",
   "id": "ba98d5e98d990370"
  },
  {
   "metadata": {
    "ExecuteTime": {
     "end_time": "2025-03-01T23:32:14.346220Z",
     "start_time": "2025-03-01T23:32:14.332202Z"
    }
   },
   "cell_type": "code",
   "source": "generator = np.random.default_rng(seed=123)",
   "id": "49daec90248ec937",
   "outputs": [],
   "execution_count": 2
  },
  {
   "metadata": {
    "ExecuteTime": {
     "end_time": "2025-03-01T23:32:30.834744Z",
     "start_time": "2025-03-01T23:32:30.827234Z"
    }
   },
   "cell_type": "code",
   "source": "generator.integers(low=1, high=7, size=3)",
   "id": "39db2bd431008801",
   "outputs": [
    {
     "data": {
      "text/plain": [
       "array([1, 5, 4])"
      ]
     },
     "execution_count": 3,
     "metadata": {},
     "output_type": "execute_result"
    }
   ],
   "execution_count": 3
  },
  {
   "metadata": {
    "ExecuteTime": {
     "end_time": "2025-03-01T23:33:10.363562Z",
     "start_time": "2025-03-01T23:33:10.354434Z"
    }
   },
   "cell_type": "code",
   "source": "generator.choice(a=10, size=3, replace=True)",
   "id": "99bdfefbd9ad95d5",
   "outputs": [
    {
     "data": {
      "text/plain": [
       "array([0, 9, 2])"
      ]
     },
     "execution_count": 4,
     "metadata": {},
     "output_type": "execute_result"
    }
   ],
   "execution_count": 4
  },
  {
   "metadata": {
    "ExecuteTime": {
     "end_time": "2025-03-01T23:33:52.649272Z",
     "start_time": "2025-03-01T23:33:52.643273Z"
    }
   },
   "cell_type": "code",
   "source": "generator.permutation([[1, 2], [3, 4], [5, 6], [7, 8]], axis=0)",
   "id": "15d68dc03954cdc4",
   "outputs": [
    {
     "data": {
      "text/plain": [
       "array([[5, 6],\n",
       "       [1, 2],\n",
       "       [7, 8],\n",
       "       [3, 4]])"
      ]
     },
     "execution_count": 5,
     "metadata": {},
     "output_type": "execute_result"
    }
   ],
   "execution_count": 5
  },
  {
   "metadata": {
    "ExecuteTime": {
     "end_time": "2025-03-01T23:34:03.140985Z",
     "start_time": "2025-03-01T23:34:03.137388Z"
    }
   },
   "cell_type": "code",
   "source": "generator.permutation([[1, 2], [3, 4], [5, 6], [7, 8]], axis=1)",
   "id": "7ceca2abf5282e07",
   "outputs": [
    {
     "data": {
      "text/plain": [
       "array([[2, 1],\n",
       "       [4, 3],\n",
       "       [6, 5],\n",
       "       [8, 7]])"
      ]
     },
     "execution_count": 6,
     "metadata": {},
     "output_type": "execute_result"
    }
   ],
   "execution_count": 6
  },
  {
   "metadata": {},
   "cell_type": "code",
   "outputs": [],
   "execution_count": null,
   "source": "",
   "id": "6ecf3bc5e421ad17"
  }
 ],
 "metadata": {
  "kernelspec": {
   "display_name": "Python 3",
   "language": "python",
   "name": "python3"
  },
  "language_info": {
   "codemirror_mode": {
    "name": "ipython",
    "version": 2
   },
   "file_extension": ".py",
   "mimetype": "text/x-python",
   "name": "python",
   "nbconvert_exporter": "python",
   "pygments_lexer": "ipython2",
   "version": "2.7.6"
  }
 },
 "nbformat": 4,
 "nbformat_minor": 5
}
