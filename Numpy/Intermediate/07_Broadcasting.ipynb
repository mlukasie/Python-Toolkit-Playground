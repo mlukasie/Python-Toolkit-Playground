{
 "cells": [
  {
   "cell_type": "code",
   "id": "initial_id",
   "metadata": {
    "collapsed": true,
    "ExecuteTime": {
     "end_time": "2025-02-20T09:27:33.898374Z",
     "start_time": "2025-02-20T09:27:33.894154Z"
    }
   },
   "source": "import numpy as np",
   "outputs": [],
   "execution_count": 3
  },
  {
   "metadata": {
    "ExecuteTime": {
     "end_time": "2025-02-20T09:36:04.086762Z",
     "start_time": "2025-02-20T09:36:04.081944Z"
    }
   },
   "cell_type": "code",
   "source": [
    "foo = np.array([\n",
    "    [2, 3, 1],\n",
    "    [1, 0, 3]\n",
    "])\n",
    "\n",
    "boo = np.array([3, 4, 5])"
   ],
   "id": "cae86376dc31bfd2",
   "outputs": [],
   "execution_count": 6
  },
  {
   "metadata": {
    "ExecuteTime": {
     "end_time": "2025-02-20T09:36:07.501012Z",
     "start_time": "2025-02-20T09:36:07.497320Z"
    }
   },
   "cell_type": "code",
   "source": "boo+foo",
   "id": "3e24e669780ec607",
   "outputs": [
    {
     "data": {
      "text/plain": [
       "array([[5, 7, 6],\n",
       "       [4, 4, 8]])"
      ]
     },
     "execution_count": 7,
     "metadata": {},
     "output_type": "execute_result"
    }
   ],
   "execution_count": 7
  },
  {
   "metadata": {},
   "cell_type": "markdown",
   "source": [
    "### Broadcasting rules\n",
    "* We check if dimensions of arrays are compatible\n",
    "* Dimension is compatible if their value is equal, or it's 1\n",
    "* If all dimensions are compatible that means the arrays are also compatible\n",
    "In above example `boo` array is extended like that\n",
    "```python\n",
    "boo = [\n",
    "        [3, 4, 5],\n",
    "        [3, 4, 5]\n",
    "]\n",
    "```\n",
    "That makes carrying out addition possible"
   ],
   "id": "32d98e89fe72215c"
  },
  {
   "metadata": {
    "ExecuteTime": {
     "end_time": "2025-02-20T09:45:08.624896Z",
     "start_time": "2025-02-20T09:45:08.617872Z"
    }
   },
   "cell_type": "code",
   "source": [
    "a = np.random.randint(low=0, high=10, size=(1, 5))\n",
    "b = np.random.randint(low=0, high=10, size=(5, 1))\n",
    "a+b"
   ],
   "id": "3b7c10aa215231d3",
   "outputs": [
    {
     "data": {
      "text/plain": [
       "array([[ 2, 11, 10, 10,  7],\n",
       "       [ 8, 17, 16, 16, 13],\n",
       "       [ 0,  9,  8,  8,  5],\n",
       "       [ 6, 15, 14, 14, 11],\n",
       "       [ 7, 16, 15, 15, 12]], dtype=int32)"
      ]
     },
     "execution_count": 8,
     "metadata": {},
     "output_type": "execute_result"
    }
   ],
   "execution_count": 8
  },
  {
   "metadata": {
    "ExecuteTime": {
     "end_time": "2025-02-20T09:45:43.052163Z",
     "start_time": "2025-02-20T09:45:42.793076Z"
    }
   },
   "cell_type": "code",
   "source": [
    "a = np.random.randint(low=0, high=10, size=(2, 5))\n",
    "b = np.random.randint(low=0, high=10, size=(4, 1))\n",
    "a+b"
   ],
   "id": "f04cf18c48cda834",
   "outputs": [
    {
     "ename": "ValueError",
     "evalue": "operands could not be broadcast together with shapes (2,5) (4,1) ",
     "output_type": "error",
     "traceback": [
      "\u001B[1;31m---------------------------------------------------------------------------\u001B[0m",
      "\u001B[1;31mValueError\u001B[0m                                Traceback (most recent call last)",
      "Cell \u001B[1;32mIn[10], line 3\u001B[0m\n\u001B[0;32m      1\u001B[0m a \u001B[38;5;241m=\u001B[39m np\u001B[38;5;241m.\u001B[39mrandom\u001B[38;5;241m.\u001B[39mrandint(low\u001B[38;5;241m=\u001B[39m\u001B[38;5;241m0\u001B[39m, high\u001B[38;5;241m=\u001B[39m\u001B[38;5;241m10\u001B[39m, size\u001B[38;5;241m=\u001B[39m(\u001B[38;5;241m2\u001B[39m, \u001B[38;5;241m5\u001B[39m))\n\u001B[0;32m      2\u001B[0m b \u001B[38;5;241m=\u001B[39m np\u001B[38;5;241m.\u001B[39mrandom\u001B[38;5;241m.\u001B[39mrandint(low\u001B[38;5;241m=\u001B[39m\u001B[38;5;241m0\u001B[39m, high\u001B[38;5;241m=\u001B[39m\u001B[38;5;241m10\u001B[39m, size\u001B[38;5;241m=\u001B[39m(\u001B[38;5;241m4\u001B[39m, \u001B[38;5;241m1\u001B[39m))\n\u001B[1;32m----> 3\u001B[0m \u001B[43ma\u001B[49m\u001B[38;5;241;43m+\u001B[39;49m\u001B[43mb\u001B[49m\n",
      "\u001B[1;31mValueError\u001B[0m: operands could not be broadcast together with shapes (2,5) (4,1) "
     ]
    }
   ],
   "execution_count": 10
  },
  {
   "metadata": {},
   "cell_type": "markdown",
   "source": "The error showed up because there is no easy way to expand first dimension of first array even tho it would only need to be duplicated. The second dimension is compatible",
   "id": "40a857e145b41f46"
  },
  {
   "metadata": {
    "ExecuteTime": {
     "end_time": "2025-02-20T09:50:42.510807Z",
     "start_time": "2025-02-20T09:50:42.506287Z"
    }
   },
   "cell_type": "code",
   "source": [
    "a = np.random.randint(low=0, high=10, size=(2, 5, 5))\n",
    "b = np.random.randint(low=0, high=10, size=5)\n",
    "a+b"
   ],
   "id": "d3dfa6c1c48fefeb",
   "outputs": [
    {
     "data": {
      "text/plain": [
       "array([[[ 1, 11, 10,  1,  5],\n",
       "        [ 9, 12,  7,  3,  7],\n",
       "        [ 6, 13, 14,  8,  3],\n",
       "        [10, 13, 15,  8, 12],\n",
       "        [ 9, 15, 11,  9, 11]],\n",
       "\n",
       "       [[ 4, 14, 15,  7, 12],\n",
       "        [ 5, 10, 15,  2,  7],\n",
       "        [ 8, 11, 12,  4, 10],\n",
       "        [10, 14, 10,  5,  5],\n",
       "        [10, 13,  7,  7,  3]]], dtype=int32)"
      ]
     },
     "execution_count": 14,
     "metadata": {},
     "output_type": "execute_result"
    }
   ],
   "execution_count": 14
  },
  {
   "metadata": {},
   "cell_type": "markdown",
   "source": "Even if we don't define all dimensions, the numpy will interpret size of `b` as `(1, 1, 5)` and from here we can see, that `a` and `b` are once again compatible",
   "id": "7e29f6eefd9ecd70"
  }
 ],
 "metadata": {
  "kernelspec": {
   "display_name": "Python 3",
   "language": "python",
   "name": "python3"
  },
  "language_info": {
   "codemirror_mode": {
    "name": "ipython",
    "version": 2
   },
   "file_extension": ".py",
   "mimetype": "text/x-python",
   "name": "python",
   "nbconvert_exporter": "python",
   "pygments_lexer": "ipython2",
   "version": "2.7.6"
  }
 },
 "nbformat": 4,
 "nbformat_minor": 5
}
