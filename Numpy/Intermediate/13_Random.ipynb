{
 "cells": [
  {
   "cell_type": "code",
   "id": "initial_id",
   "metadata": {
    "collapsed": true,
    "ExecuteTime": {
     "end_time": "2025-03-01T23:06:26.537089Z",
     "start_time": "2025-03-01T23:06:26.533089Z"
    }
   },
   "source": "import numpy as np",
   "outputs": [],
   "execution_count": 12
  },
  {
   "metadata": {},
   "cell_type": "markdown",
   "source": "## Randint",
   "id": "ba3d0ff79402ca0a"
  },
  {
   "metadata": {
    "ExecuteTime": {
     "end_time": "2025-03-01T23:09:24.981785Z",
     "start_time": "2025-03-01T23:09:24.976858Z"
    }
   },
   "cell_type": "code",
   "source": "np.random.randint(low=0, high=10, size=3)",
   "id": "38987272d085f53a",
   "outputs": [
    {
     "data": {
      "text/plain": [
       "array([4, 6, 9], dtype=int32)"
      ]
     },
     "execution_count": 26,
     "metadata": {},
     "output_type": "execute_result"
    }
   ],
   "execution_count": 26
  },
  {
   "metadata": {
    "ExecuteTime": {
     "end_time": "2025-03-01T23:09:25.782916Z",
     "start_time": "2025-03-01T23:09:25.779163Z"
    }
   },
   "cell_type": "code",
   "source": [
    "np.random.seed(42)\n",
    "np.random.randint(low=0, high=10, size=3)"
   ],
   "id": "f787a3c7f0f9fad2",
   "outputs": [
    {
     "data": {
      "text/plain": [
       "array([6, 3, 7], dtype=int32)"
      ]
     },
     "execution_count": 27,
     "metadata": {},
     "output_type": "execute_result"
    }
   ],
   "execution_count": 27
  },
  {
   "metadata": {},
   "cell_type": "markdown",
   "source": "The results before setting `seed` are not reproducible",
   "id": "8c63dd7ed4c50f90"
  },
  {
   "metadata": {},
   "cell_type": "markdown",
   "source": "## Choice",
   "id": "1216a706074110fa"
  },
  {
   "metadata": {
    "ExecuteTime": {
     "end_time": "2025-03-01T23:14:19.635420Z",
     "start_time": "2025-03-01T23:14:19.628909Z"
    }
   },
   "cell_type": "code",
   "source": [
    "np.random.seed(45)\n",
    "np.random.choice(\n",
    "    a=np.arange(1, 7),\n",
    "    size=5,\n",
    "    replace=True,\n",
    "    p=None\n",
    ")"
   ],
   "id": "7bc5414a651d31a0",
   "outputs": [
    {
     "data": {
      "text/plain": [
       "array([4, 4, 5, 1, 6])"
      ]
     },
     "execution_count": 46,
     "metadata": {},
     "output_type": "execute_result"
    }
   ],
   "execution_count": 46
  },
  {
   "metadata": {
    "ExecuteTime": {
     "end_time": "2025-03-01T23:14:20.006675Z",
     "start_time": "2025-03-01T23:14:20.001529Z"
    }
   },
   "cell_type": "code",
   "source": [
    "np.random.choice(\n",
    "    a=np.arange(1, 7),\n",
    "    size=5,\n",
    "    replace=False,\n",
    "    p=None\n",
    ")"
   ],
   "id": "ac142d6685f78197",
   "outputs": [
    {
     "data": {
      "text/plain": [
       "array([3, 5, 2, 1, 4])"
      ]
     },
     "execution_count": 47,
     "metadata": {},
     "output_type": "execute_result"
    }
   ],
   "execution_count": 47
  },
  {
   "metadata": {
    "ExecuteTime": {
     "end_time": "2025-03-01T23:14:26.846058Z",
     "start_time": "2025-03-01T23:14:26.842060Z"
    }
   },
   "cell_type": "code",
   "source": [
    "np.random.choice(\n",
    "    a=np.arange(1, 7),\n",
    "    size=5,\n",
    "    replace=True,\n",
    "    p=np.array([1, 0, 0, 0, 0, 0])\n",
    ")"
   ],
   "id": "65070b4f4cd4f4a1",
   "outputs": [
    {
     "data": {
      "text/plain": [
       "array([1, 1, 1, 1, 1])"
      ]
     },
     "execution_count": 49,
     "metadata": {},
     "output_type": "execute_result"
    }
   ],
   "execution_count": 49
  },
  {
   "metadata": {},
   "cell_type": "markdown",
   "source": "## Permutation",
   "id": "c38c928a649136ce"
  },
  {
   "metadata": {
    "ExecuteTime": {
     "end_time": "2025-03-01T23:19:04.487184Z",
     "start_time": "2025-03-01T23:19:04.478375Z"
    }
   },
   "cell_type": "code",
   "source": [
    "foo = np.array([\n",
    "    [1, 2],\n",
    "    [3, 4],\n",
    "    [5, 6],\n",
    "    [7, 8]\n",
    "])\n",
    "\n",
    "np.random.permutation(foo)"
   ],
   "id": "23936e9a40073942",
   "outputs": [
    {
     "data": {
      "text/plain": [
       "array([[7, 8],\n",
       "       [3, 4],\n",
       "       [1, 2],\n",
       "       [5, 6]])"
      ]
     },
     "execution_count": 50,
     "metadata": {},
     "output_type": "execute_result"
    }
   ],
   "execution_count": 50
  },
  {
   "metadata": {},
   "cell_type": "markdown",
   "source": "## Uniform",
   "id": "ef64af112e17b195"
  },
  {
   "metadata": {
    "ExecuteTime": {
     "end_time": "2025-03-01T23:22:07.765034Z",
     "start_time": "2025-03-01T23:22:07.754995Z"
    }
   },
   "cell_type": "code",
   "source": "np.random.uniform(low=1.0, high=2.0, size=(3, 3))",
   "id": "a7271b4155336e22",
   "outputs": [
    {
     "data": {
      "text/plain": [
       "array([[1.04603804, 1.3986565 , 1.1337718 ],\n",
       "       [1.3046713 , 1.76641841, 1.83608144],\n",
       "       [1.96624161, 1.7680354 , 1.75521219]])"
      ]
     },
     "execution_count": 57,
     "metadata": {},
     "output_type": "execute_result"
    }
   ],
   "execution_count": 57
  },
  {
   "metadata": {
    "ExecuteTime": {
     "end_time": "2025-03-01T23:22:12.800417Z",
     "start_time": "2025-03-01T23:22:12.795317Z"
    }
   },
   "cell_type": "code",
   "source": [
    "foo = np.random.uniform(low=1.0, high=2.0, size=(10, 10))\n",
    "foo.mean()"
   ],
   "id": "149b15466e5fab77",
   "outputs": [
    {
     "data": {
      "text/plain": [
       "np.float64(1.5152204273611543)"
      ]
     },
     "execution_count": 58,
     "metadata": {},
     "output_type": "execute_result"
    }
   ],
   "execution_count": 58
  },
  {
   "metadata": {},
   "cell_type": "markdown",
   "source": "## Normal",
   "id": "daf5ecf3a2c56d02"
  },
  {
   "metadata": {
    "ExecuteTime": {
     "end_time": "2025-03-01T23:23:40.958454Z",
     "start_time": "2025-03-01T23:23:40.953453Z"
    }
   },
   "cell_type": "code",
   "source": "np.random.normal(loc = 0.0, scale = 1.0, size = 5)",
   "id": "a99418f70e3b7939",
   "outputs": [
    {
     "data": {
      "text/plain": [
       "array([ 0.0219286 , -0.26627554, -0.11275395, -0.59073531, -0.32586725])"
      ]
     },
     "execution_count": 60,
     "metadata": {},
     "output_type": "execute_result"
    }
   ],
   "execution_count": 60
  },
  {
   "metadata": {},
   "cell_type": "markdown",
   "source": "## Binomial",
   "id": "ea8634839c82fa57"
  },
  {
   "metadata": {
    "ExecuteTime": {
     "end_time": "2025-03-01T23:25:03.461878Z",
     "start_time": "2025-03-01T23:25:03.456046Z"
    }
   },
   "cell_type": "code",
   "source": "np.random.binomial(n=10, p=0.75, size = (3, 2))",
   "id": "820054631f7c46d8",
   "outputs": [
    {
     "data": {
      "text/plain": [
       "array([[ 7,  7],\n",
       "       [ 9,  9],\n",
       "       [10,  5]], dtype=int32)"
      ]
     },
     "execution_count": 61,
     "metadata": {},
     "output_type": "execute_result"
    }
   ],
   "execution_count": 61
  },
  {
   "metadata": {},
   "cell_type": "code",
   "outputs": [],
   "execution_count": null,
   "source": "",
   "id": "7add1049f3ee7b4"
  }
 ],
 "metadata": {
  "kernelspec": {
   "display_name": "Python 3",
   "language": "python",
   "name": "python3"
  },
  "language_info": {
   "codemirror_mode": {
    "name": "ipython",
    "version": 2
   },
   "file_extension": ".py",
   "mimetype": "text/x-python",
   "name": "python",
   "nbconvert_exporter": "python",
   "pygments_lexer": "ipython2",
   "version": "2.7.6"
  }
 },
 "nbformat": 4,
 "nbformat_minor": 5
}
