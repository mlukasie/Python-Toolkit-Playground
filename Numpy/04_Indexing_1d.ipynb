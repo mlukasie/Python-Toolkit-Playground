{
 "cells": [
  {
   "cell_type": "code",
   "id": "initial_id",
   "metadata": {
    "collapsed": true,
    "ExecuteTime": {
     "end_time": "2025-02-13T14:35:59.634442Z",
     "start_time": "2025-02-13T14:35:59.549953Z"
    }
   },
   "source": "import numpy as np",
   "outputs": [],
   "execution_count": 1
  },
  {
   "metadata": {
    "ExecuteTime": {
     "end_time": "2025-02-13T14:36:16.465141Z",
     "start_time": "2025-02-13T14:36:16.461236Z"
    }
   },
   "cell_type": "code",
   "source": "arr = np.array([1, 2, 3, 4, 5])",
   "id": "65bcdaf67c2c27e4",
   "outputs": [],
   "execution_count": 2
  },
  {
   "metadata": {},
   "cell_type": "markdown",
   "source": "### Accessing element",
   "id": "20e6531440a8c687"
  },
  {
   "metadata": {
    "ExecuteTime": {
     "end_time": "2025-02-13T14:39:44.049561Z",
     "start_time": "2025-02-13T14:39:44.044382Z"
    }
   },
   "cell_type": "code",
   "source": "arr[0]",
   "id": "b9ba6402597ecf9",
   "outputs": [
    {
     "data": {
      "text/plain": [
       "np.int64(1)"
      ]
     },
     "execution_count": 8,
     "metadata": {},
     "output_type": "execute_result"
    }
   ],
   "execution_count": 8
  },
  {
   "metadata": {
    "ExecuteTime": {
     "end_time": "2025-02-13T14:40:29.297701Z",
     "start_time": "2025-02-13T14:40:29.291771Z"
    }
   },
   "cell_type": "code",
   "source": "arr[-1]",
   "id": "1a9acc5559132fcc",
   "outputs": [
    {
     "data": {
      "text/plain": [
       "np.int64(5)"
      ]
     },
     "execution_count": 9,
     "metadata": {},
     "output_type": "execute_result"
    }
   ],
   "execution_count": 9
  },
  {
   "metadata": {
    "ExecuteTime": {
     "end_time": "2025-02-13T14:40:51.377309Z",
     "start_time": "2025-02-13T14:40:51.187629Z"
    }
   },
   "cell_type": "code",
   "source": "arr[15]",
   "id": "e83289b39ee6ae08",
   "outputs": [
    {
     "ename": "IndexError",
     "evalue": "index 15 is out of bounds for axis 0 with size 5",
     "output_type": "error",
     "traceback": [
      "\u001B[1;31m---------------------------------------------------------------------------\u001B[0m",
      "\u001B[1;31mIndexError\u001B[0m                                Traceback (most recent call last)",
      "Cell \u001B[1;32mIn[10], line 1\u001B[0m\n\u001B[1;32m----> 1\u001B[0m \u001B[43marr\u001B[49m\u001B[43m[\u001B[49m\u001B[38;5;241;43m15\u001B[39;49m\u001B[43m]\u001B[49m\n",
      "\u001B[1;31mIndexError\u001B[0m: index 15 is out of bounds for axis 0 with size 5"
     ]
    }
   ],
   "execution_count": 10
  },
  {
   "metadata": {
    "ExecuteTime": {
     "end_time": "2025-02-13T14:41:32.690269Z",
     "start_time": "2025-02-13T14:41:32.683270Z"
    }
   },
   "cell_type": "code",
   "source": "arr[[0, 3]]",
   "id": "b3fb036b3022e769",
   "outputs": [
    {
     "data": {
      "text/plain": [
       "array([1, 4])"
      ]
     },
     "execution_count": 11,
     "metadata": {},
     "output_type": "execute_result"
    }
   ],
   "execution_count": 11
  },
  {
   "metadata": {
    "ExecuteTime": {
     "end_time": "2025-02-13T14:42:00.984080Z",
     "start_time": "2025-02-13T14:42:00.977287Z"
    }
   },
   "cell_type": "code",
   "source": "arr[[0,1,1,1]]",
   "id": "524b794a940f23e9",
   "outputs": [
    {
     "data": {
      "text/plain": [
       "array([1, 2, 2, 2])"
      ]
     },
     "execution_count": 12,
     "metadata": {},
     "output_type": "execute_result"
    }
   ],
   "execution_count": 12
  },
  {
   "metadata": {},
   "cell_type": "markdown",
   "source": "### Slicing",
   "id": "fc16d168692e65fa"
  },
  {
   "metadata": {
    "ExecuteTime": {
     "end_time": "2025-02-13T14:46:18.616162Z",
     "start_time": "2025-02-13T14:46:18.610258Z"
    }
   },
   "cell_type": "code",
   "source": "arr[0:2]",
   "id": "ab7d47b4622ecbbf",
   "outputs": [
    {
     "data": {
      "text/plain": [
       "array([1, 2])"
      ]
     },
     "execution_count": 14,
     "metadata": {},
     "output_type": "execute_result"
    }
   ],
   "execution_count": 14
  },
  {
   "metadata": {
    "ExecuteTime": {
     "end_time": "2025-02-13T14:46:23.134255Z",
     "start_time": "2025-02-13T14:46:23.129439Z"
    }
   },
   "cell_type": "code",
   "source": "arr[:2]",
   "id": "d07cbec42f31aa42",
   "outputs": [
    {
     "data": {
      "text/plain": [
       "array([1, 2])"
      ]
     },
     "execution_count": 15,
     "metadata": {},
     "output_type": "execute_result"
    }
   ],
   "execution_count": 15
  },
  {
   "metadata": {
    "ExecuteTime": {
     "end_time": "2025-02-13T14:46:37.081612Z",
     "start_time": "2025-02-13T14:46:37.076601Z"
    }
   },
   "cell_type": "code",
   "source": "arr[:-1]",
   "id": "41e7b2dd85481f1f",
   "outputs": [
    {
     "data": {
      "text/plain": [
       "array([1, 2, 3, 4])"
      ]
     },
     "execution_count": 16,
     "metadata": {},
     "output_type": "execute_result"
    }
   ],
   "execution_count": 16
  },
  {
   "metadata": {
    "ExecuteTime": {
     "end_time": "2025-02-13T14:48:26.934931Z",
     "start_time": "2025-02-13T14:48:26.929110Z"
    }
   },
   "cell_type": "code",
   "source": "arr[::2]",
   "id": "74c021384bd59d93",
   "outputs": [
    {
     "data": {
      "text/plain": [
       "array([1, 3, 5])"
      ]
     },
     "execution_count": 18,
     "metadata": {},
     "output_type": "execute_result"
    }
   ],
   "execution_count": 18
  },
  {
   "metadata": {
    "ExecuteTime": {
     "end_time": "2025-02-13T14:47:31.667857Z",
     "start_time": "2025-02-13T14:47:31.663682Z"
    }
   },
   "cell_type": "code",
   "source": "arr[:-1:2]",
   "id": "6c62ffd183ae5fb9",
   "outputs": [
    {
     "data": {
      "text/plain": [
       "array([1, 3])"
      ]
     },
     "execution_count": 17,
     "metadata": {},
     "output_type": "execute_result"
    }
   ],
   "execution_count": 17
  },
  {
   "metadata": {
    "ExecuteTime": {
     "end_time": "2025-02-13T14:51:13.967892Z",
     "start_time": "2025-02-13T14:51:13.959421Z"
    }
   },
   "cell_type": "code",
   "source": "arr[:5]",
   "id": "be76be89d37a4cfe",
   "outputs": [
    {
     "data": {
      "text/plain": [
       "array([1, 2, 3, 4, 5])"
      ]
     },
     "execution_count": 21,
     "metadata": {},
     "output_type": "execute_result"
    }
   ],
   "execution_count": 21
  },
  {
   "metadata": {
    "ExecuteTime": {
     "end_time": "2025-02-13T14:52:09.883525Z",
     "start_time": "2025-02-13T14:52:09.877210Z"
    }
   },
   "cell_type": "code",
   "source": "arr[1:1]",
   "id": "605b1a5e332e363b",
   "outputs": [
    {
     "data": {
      "text/plain": [
       "array([], dtype=int64)"
      ]
     },
     "execution_count": 26,
     "metadata": {},
     "output_type": "execute_result"
    }
   ],
   "execution_count": 26
  },
  {
   "metadata": {
    "ExecuteTime": {
     "end_time": "2025-02-13T14:52:02.789859Z",
     "start_time": "2025-02-13T14:52:02.783214Z"
    }
   },
   "cell_type": "code",
   "source": "arr[1:2]",
   "id": "2cfe01a0f191ca5f",
   "outputs": [
    {
     "data": {
      "text/plain": [
       "array([2])"
      ]
     },
     "execution_count": 25,
     "metadata": {},
     "output_type": "execute_result"
    }
   ],
   "execution_count": 25
  },
  {
   "metadata": {
    "ExecuteTime": {
     "end_time": "2025-02-13T14:53:07.195679Z",
     "start_time": "2025-02-13T14:53:07.189984Z"
    }
   },
   "cell_type": "code",
   "source": "arr[:10]",
   "id": "1e17d5db37d1e119",
   "outputs": [
    {
     "data": {
      "text/plain": [
       "array([1, 2, 3, 4, 5])"
      ]
     },
     "execution_count": 27,
     "metadata": {},
     "output_type": "execute_result"
    }
   ],
   "execution_count": 27
  },
  {
   "metadata": {},
   "cell_type": "markdown",
   "source": "arr[start:stop:step] - inclusive start, exclusive stop, stop can be out of bounds",
   "id": "e4ba8cc5af5e4077"
  },
  {
   "metadata": {},
   "cell_type": "markdown",
   "source": "### Modifying multiple elements",
   "id": "72c43ec8797fb6b2"
  },
  {
   "metadata": {
    "ExecuteTime": {
     "end_time": "2025-02-13T14:56:19.877860Z",
     "start_time": "2025-02-13T14:56:19.873343Z"
    }
   },
   "cell_type": "code",
   "source": [
    "arr[[0, 2, 4]] = [15, 20, 7]\n",
    "print(arr)"
   ],
   "id": "3423d4356062a49d",
   "outputs": [
    {
     "name": "stdout",
     "output_type": "stream",
     "text": [
      "[15  2 20  4  7]\n"
     ]
    }
   ],
   "execution_count": 29
  },
  {
   "metadata": {
    "ExecuteTime": {
     "end_time": "2025-02-13T14:57:01.730624Z",
     "start_time": "2025-02-13T14:57:01.723972Z"
    }
   },
   "cell_type": "code",
   "source": [
    "arr[[0, 2, 4]] = 0\n",
    "print(arr)"
   ],
   "id": "3f417fbfe3492d9",
   "outputs": [
    {
     "name": "stdout",
     "output_type": "stream",
     "text": [
      "[0 2 0 4 0]\n"
     ]
    }
   ],
   "execution_count": 30
  },
  {
   "metadata": {},
   "cell_type": "code",
   "outputs": [],
   "execution_count": null,
   "source": "",
   "id": "2891c6aa2f894e6b"
  }
 ],
 "metadata": {
  "kernelspec": {
   "display_name": "Python 3",
   "language": "python",
   "name": "python3"
  },
  "language_info": {
   "codemirror_mode": {
    "name": "ipython",
    "version": 2
   },
   "file_extension": ".py",
   "mimetype": "text/x-python",
   "name": "python",
   "nbconvert_exporter": "python",
   "pygments_lexer": "ipython2",
   "version": "2.7.6"
  }
 },
 "nbformat": 4,
 "nbformat_minor": 5
}
