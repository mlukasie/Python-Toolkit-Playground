{
 "cells": [
  {
   "metadata": {},
   "cell_type": "markdown",
   "source": [
    "## Setup\n",
    "You are a relationship scientist and you developed a questionaire that determines a person's love score, a real-valued number between 0 and 100. Your theory is that two people with similar love scores should make a good match. Given the love scores for 10 different people, create a matrix where (i,j) gives the absolute difference of the love scores for person i and person j."
   ],
   "id": "a22388c4f0b93a4b"
  },
  {
   "cell_type": "code",
   "id": "initial_id",
   "metadata": {
    "collapsed": true,
    "ExecuteTime": {
     "end_time": "2025-03-02T07:53:52.641615Z",
     "start_time": "2025-03-02T07:53:52.524383Z"
    }
   },
   "source": [
    "import numpy as np\n",
    "generator = np.random.default_rng(seed=1010)\n",
    "love_scores = np.round(generator.random(10)*100, 2)\n",
    "love_scores"
   ],
   "outputs": [
    {
     "data": {
      "text/plain": [
       "array([ 9.5 , 53.58, 91.77, 98.15, 84.88, 74.61, 40.94, 56.49,  8.39,\n",
       "       64.69])"
      ]
     },
     "execution_count": 1,
     "metadata": {},
     "output_type": "execute_result"
    }
   ],
   "execution_count": 1
  },
  {
   "metadata": {},
   "cell_type": "markdown",
   "source": "## Solution",
   "id": "dc69263c9c6ccb65"
  },
  {
   "metadata": {
    "ExecuteTime": {
     "end_time": "2025-03-02T08:00:14.305972Z",
     "start_time": "2025-03-02T08:00:14.300600Z"
    }
   },
   "cell_type": "code",
   "source": [
    "love_distances = np.array([np.abs(np.round(score-love_scores, 2)) for score in love_scores])\n",
    "love_distances"
   ],
   "id": "9413f1db638a4f6",
   "outputs": [
    {
     "data": {
      "text/plain": [
       "array([[ 0.  , 44.08, 82.27, 88.65, 75.38, 65.11, 31.44, 46.99,  1.11,\n",
       "        55.19],\n",
       "       [44.08,  0.  , 38.19, 44.57, 31.3 , 21.03, 12.64,  2.91, 45.19,\n",
       "        11.11],\n",
       "       [82.27, 38.19,  0.  ,  6.38,  6.89, 17.16, 50.83, 35.28, 83.38,\n",
       "        27.08],\n",
       "       [88.65, 44.57,  6.38,  0.  , 13.27, 23.54, 57.21, 41.66, 89.76,\n",
       "        33.46],\n",
       "       [75.38, 31.3 ,  6.89, 13.27,  0.  , 10.27, 43.94, 28.39, 76.49,\n",
       "        20.19],\n",
       "       [65.11, 21.03, 17.16, 23.54, 10.27,  0.  , 33.67, 18.12, 66.22,\n",
       "         9.92],\n",
       "       [31.44, 12.64, 50.83, 57.21, 43.94, 33.67,  0.  , 15.55, 32.55,\n",
       "        23.75],\n",
       "       [46.99,  2.91, 35.28, 41.66, 28.39, 18.12, 15.55,  0.  , 48.1 ,\n",
       "         8.2 ],\n",
       "       [ 1.11, 45.19, 83.38, 89.76, 76.49, 66.22, 32.55, 48.1 ,  0.  ,\n",
       "        56.3 ],\n",
       "       [55.19, 11.11, 27.08, 33.46, 20.19,  9.92, 23.75,  8.2 , 56.3 ,\n",
       "         0.  ]])"
      ]
     },
     "execution_count": 4,
     "metadata": {},
     "output_type": "execute_result"
    }
   ],
   "execution_count": 4
  },
  {
   "metadata": {
    "ExecuteTime": {
     "end_time": "2025-03-02T08:09:46.806166Z",
     "start_time": "2025-03-02T08:09:46.801662Z"
    }
   },
   "cell_type": "code",
   "source": "np.abs(np.round(love_scores[:,np.newaxis] - love_scores, 2))",
   "id": "b5f2184defb2bbd",
   "outputs": [
    {
     "data": {
      "text/plain": [
       "array([[ 0.  , 44.08, 82.27, 88.65, 75.38, 65.11, 31.44, 46.99,  1.11,\n",
       "        55.19],\n",
       "       [44.08,  0.  , 38.19, 44.57, 31.3 , 21.03, 12.64,  2.91, 45.19,\n",
       "        11.11],\n",
       "       [82.27, 38.19,  0.  ,  6.38,  6.89, 17.16, 50.83, 35.28, 83.38,\n",
       "        27.08],\n",
       "       [88.65, 44.57,  6.38,  0.  , 13.27, 23.54, 57.21, 41.66, 89.76,\n",
       "        33.46],\n",
       "       [75.38, 31.3 ,  6.89, 13.27,  0.  , 10.27, 43.94, 28.39, 76.49,\n",
       "        20.19],\n",
       "       [65.11, 21.03, 17.16, 23.54, 10.27,  0.  , 33.67, 18.12, 66.22,\n",
       "         9.92],\n",
       "       [31.44, 12.64, 50.83, 57.21, 43.94, 33.67,  0.  , 15.55, 32.55,\n",
       "        23.75],\n",
       "       [46.99,  2.91, 35.28, 41.66, 28.39, 18.12, 15.55,  0.  , 48.1 ,\n",
       "         8.2 ],\n",
       "       [ 1.11, 45.19, 83.38, 89.76, 76.49, 66.22, 32.55, 48.1 ,  0.  ,\n",
       "        56.3 ],\n",
       "       [55.19, 11.11, 27.08, 33.46, 20.19,  9.92, 23.75,  8.2 , 56.3 ,\n",
       "         0.  ]])"
      ]
     },
     "execution_count": 7,
     "metadata": {},
     "output_type": "execute_result"
    }
   ],
   "execution_count": 7
  }
 ],
 "metadata": {
  "kernelspec": {
   "display_name": "Python 3",
   "language": "python",
   "name": "python3"
  },
  "language_info": {
   "codemirror_mode": {
    "name": "ipython",
    "version": 2
   },
   "file_extension": ".py",
   "mimetype": "text/x-python",
   "name": "python",
   "nbconvert_exporter": "python",
   "pygments_lexer": "ipython2",
   "version": "2.7.6"
  }
 },
 "nbformat": 4,
 "nbformat_minor": 5
}
