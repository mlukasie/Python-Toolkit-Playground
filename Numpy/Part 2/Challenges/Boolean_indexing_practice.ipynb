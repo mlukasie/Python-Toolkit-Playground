{
 "cells": [
  {
   "cell_type": "code",
   "id": "initial_id",
   "metadata": {
    "collapsed": true,
    "ExecuteTime": {
     "end_time": "2025-03-01T22:37:10.002469Z",
     "start_time": "2025-03-01T22:37:09.935386Z"
    }
   },
   "source": "import numpy as np",
   "outputs": [],
   "execution_count": 1
  },
  {
   "metadata": {
    "ExecuteTime": {
     "end_time": "2025-03-01T22:39:11.200593Z",
     "start_time": "2025-03-01T22:39:11.196062Z"
    }
   },
   "cell_type": "code",
   "source": [
    "names = np.array([\"Dennis\", \"Martha\", \"Jordan\", \"Peter\", \"Matthew\"])\n",
    "ages = np.array([43, 44, 43, 42, 74])\n",
    "genders = np.array(['male', 'female', 'male', 'male', 'male'])"
   ],
   "id": "b7d486630a0b7713",
   "outputs": [],
   "execution_count": 2
  },
  {
   "metadata": {
    "ExecuteTime": {
     "end_time": "2025-03-01T22:39:47.346468Z",
     "start_time": "2025-03-01T22:39:47.340122Z"
    }
   },
   "cell_type": "code",
   "source": [
    "# Who is at least 44?\n",
    "names[ages >= 44]"
   ],
   "id": "110b33db2950283b",
   "outputs": [
    {
     "data": {
      "text/plain": [
       "array(['Martha', 'Matthew'], dtype='<U7')"
      ]
     },
     "execution_count": 3,
     "metadata": {},
     "output_type": "execute_result"
    }
   ],
   "execution_count": 3
  },
  {
   "metadata": {
    "ExecuteTime": {
     "end_time": "2025-03-01T22:43:23.741819Z",
     "start_time": "2025-03-01T22:43:23.734271Z"
    }
   },
   "cell_type": "code",
   "source": [
    "# Which males are over 42?\n",
    "names[(ages > 42) & (genders == 'male')]"
   ],
   "id": "3acc132b3c434b4b",
   "outputs": [
    {
     "data": {
      "text/plain": [
       "array(['Dennis', 'Jordan', 'Matthew'], dtype='<U7')"
      ]
     },
     "execution_count": 9,
     "metadata": {},
     "output_type": "execute_result"
    }
   ],
   "execution_count": 9
  },
  {
   "metadata": {
    "ExecuteTime": {
     "end_time": "2025-03-01T22:45:13.878770Z",
     "start_time": "2025-03-01T22:45:13.873076Z"
    }
   },
   "cell_type": "code",
   "source": [
    "# Who is not a male or is younger than 43\n",
    "names[~(genders == 'male') | (ages < 43)]"
   ],
   "id": "2abb7dd90ab62c44",
   "outputs": [
    {
     "data": {
      "text/plain": [
       "array(['Martha', 'Peter'], dtype='<U7')"
      ]
     },
     "execution_count": 11,
     "metadata": {},
     "output_type": "execute_result"
    }
   ],
   "execution_count": 11
  },
  {
   "metadata": {},
   "cell_type": "code",
   "outputs": [],
   "execution_count": null,
   "source": "",
   "id": "2dc43acfd5c328d7"
  }
 ],
 "metadata": {
  "kernelspec": {
   "display_name": "Python 3",
   "language": "python",
   "name": "python3"
  },
  "language_info": {
   "codemirror_mode": {
    "name": "ipython",
    "version": 2
   },
   "file_extension": ".py",
   "mimetype": "text/x-python",
   "name": "python",
   "nbconvert_exporter": "python",
   "pygments_lexer": "ipython2",
   "version": "2.7.6"
  }
 },
 "nbformat": 4,
 "nbformat_minor": 5
}
