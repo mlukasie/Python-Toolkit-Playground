{
 "cells": [
  {
   "cell_type": "code",
   "id": "initial_id",
   "metadata": {
    "collapsed": true,
    "ExecuteTime": {
     "end_time": "2025-03-01T22:48:04.582426Z",
     "start_time": "2025-03-01T22:48:04.526033Z"
    }
   },
   "source": "import numpy as np",
   "outputs": [],
   "execution_count": 1
  },
  {
   "metadata": {
    "ExecuteTime": {
     "end_time": "2025-03-01T22:50:47.701451Z",
     "start_time": "2025-03-01T22:50:47.696469Z"
    }
   },
   "cell_type": "code",
   "source": [
    "foo = np.full(shape=(3, 4), fill_value=3.)\n",
    "foo"
   ],
   "id": "b86cec2d09db24c5",
   "outputs": [
    {
     "data": {
      "text/plain": [
       "array([[3., 3., 3., 3.],\n",
       "       [3., 3., 3., 3.],\n",
       "       [3., 3., 3., 3.]])"
      ]
     },
     "execution_count": 6,
     "metadata": {},
     "output_type": "execute_result"
    }
   ],
   "execution_count": 6
  },
  {
   "metadata": {
    "ExecuteTime": {
     "end_time": "2025-03-01T22:50:48.460114Z",
     "start_time": "2025-03-01T22:50:48.445223Z"
    }
   },
   "cell_type": "code",
   "source": "foo[[0, 2], [2, 1]] = np.nan",
   "id": "990f181da62a65dc",
   "outputs": [],
   "execution_count": 7
  },
  {
   "metadata": {
    "ExecuteTime": {
     "end_time": "2025-03-01T22:50:53.102218Z",
     "start_time": "2025-03-01T22:50:53.097312Z"
    }
   },
   "cell_type": "code",
   "source": "foo",
   "id": "be62036838eb0053",
   "outputs": [
    {
     "data": {
      "text/plain": [
       "array([[ 3.,  3., nan,  3.],\n",
       "       [ 3.,  3.,  3.,  3.],\n",
       "       [ 3., nan,  3.,  3.]])"
      ]
     },
     "execution_count": 8,
     "metadata": {},
     "output_type": "execute_result"
    }
   ],
   "execution_count": 8
  },
  {
   "metadata": {
    "ExecuteTime": {
     "end_time": "2025-03-01T22:51:28.080466Z",
     "start_time": "2025-03-01T22:51:28.075079Z"
    }
   },
   "cell_type": "code",
   "source": "foo[foo == np.nan]",
   "id": "cdf726e80c3f9d73",
   "outputs": [
    {
     "data": {
      "text/plain": [
       "array([], dtype=float64)"
      ]
     },
     "execution_count": 9,
     "metadata": {},
     "output_type": "execute_result"
    }
   ],
   "execution_count": 9
  },
  {
   "metadata": {
    "ExecuteTime": {
     "end_time": "2025-03-01T22:51:44.858347Z",
     "start_time": "2025-03-01T22:51:44.854467Z"
    }
   },
   "cell_type": "code",
   "source": "np.nan == np.nan",
   "id": "a3a7045743b8ce95",
   "outputs": [
    {
     "data": {
      "text/plain": [
       "False"
      ]
     },
     "execution_count": 10,
     "metadata": {},
     "output_type": "execute_result"
    }
   ],
   "execution_count": 10
  },
  {
   "metadata": {
    "ExecuteTime": {
     "end_time": "2025-03-01T22:52:16.331294Z",
     "start_time": "2025-03-01T22:52:16.326471Z"
    }
   },
   "cell_type": "code",
   "source": "np.isnan(foo)",
   "id": "d38d4fc1f33b4392",
   "outputs": [
    {
     "data": {
      "text/plain": [
       "array([[False, False,  True, False],\n",
       "       [False, False, False, False],\n",
       "       [False,  True, False, False]])"
      ]
     },
     "execution_count": 11,
     "metadata": {},
     "output_type": "execute_result"
    }
   ],
   "execution_count": 11
  },
  {
   "metadata": {},
   "cell_type": "markdown",
   "source": "You can't insert np.nan into array of integers",
   "id": "bd0a97c72168b5da"
  },
  {
   "metadata": {
    "ExecuteTime": {
     "end_time": "2025-03-01T22:53:10.559616Z",
     "start_time": "2025-03-01T22:53:10.554339Z"
    }
   },
   "cell_type": "code",
   "source": "boo = np.array([1, 2, 3])",
   "id": "8920929c911f6ba0",
   "outputs": [],
   "execution_count": 12
  },
  {
   "metadata": {
    "ExecuteTime": {
     "end_time": "2025-03-01T22:53:16.173493Z",
     "start_time": "2025-03-01T22:53:16.156402Z"
    }
   },
   "cell_type": "code",
   "source": "boo[0] = np.nan",
   "id": "e50d5512be94edf8",
   "outputs": [
    {
     "ename": "ValueError",
     "evalue": "cannot convert float NaN to integer",
     "output_type": "error",
     "traceback": [
      "\u001B[1;31m---------------------------------------------------------------------------\u001B[0m",
      "\u001B[1;31mValueError\u001B[0m                                Traceback (most recent call last)",
      "Cell \u001B[1;32mIn[13], line 1\u001B[0m\n\u001B[1;32m----> 1\u001B[0m \u001B[43mboo\u001B[49m\u001B[43m[\u001B[49m\u001B[38;5;241;43m0\u001B[39;49m\u001B[43m]\u001B[49m \u001B[38;5;241m=\u001B[39m np\u001B[38;5;241m.\u001B[39mnan\n",
      "\u001B[1;31mValueError\u001B[0m: cannot convert float NaN to integer"
     ]
    }
   ],
   "execution_count": 13
  }
 ],
 "metadata": {
  "kernelspec": {
   "display_name": "Python 3",
   "language": "python",
   "name": "python3"
  },
  "language_info": {
   "codemirror_mode": {
    "name": "ipython",
    "version": 2
   },
   "file_extension": ".py",
   "mimetype": "text/x-python",
   "name": "python",
   "nbconvert_exporter": "python",
   "pygments_lexer": "ipython2",
   "version": "2.7.6"
  }
 },
 "nbformat": 4,
 "nbformat_minor": 5
}
